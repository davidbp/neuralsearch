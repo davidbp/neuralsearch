{
 "cells": [
  {
   "cell_type": "markdown",
   "metadata": {
    "toc": true
   },
   "source": [
    "<h1>Table of Contents<span class=\"tocSkip\"></span></h1>\n",
    "<div class=\"toc\"><ul class=\"toc-item\"><li><ul class=\"toc-item\"><li><span><a href=\"#Cosine-sparse-version\" data-toc-modified-id=\"Cosine-sparse-version-0.1\"><span class=\"toc-item-num\">0.1&nbsp;&nbsp;</span>Cosine sparse version</a></span><ul class=\"toc-item\"><li><span><a href=\"#Benchmarking\" data-toc-modified-id=\"Benchmarking-0.1.1\"><span class=\"toc-item-num\">0.1.1&nbsp;&nbsp;</span>Benchmarking</a></span></li></ul></li><li><span><a href=\"#Euclideans-sparse-version\" data-toc-modified-id=\"Euclideans-sparse-version-0.2\"><span class=\"toc-item-num\">0.2&nbsp;&nbsp;</span>Euclideans sparse version</a></span><ul class=\"toc-item\"><li><span><a href=\"#Benchmarking\" data-toc-modified-id=\"Benchmarking-0.2.1\"><span class=\"toc-item-num\">0.2.1&nbsp;&nbsp;</span>Benchmarking</a></span></li></ul></li></ul></li><li><span><a href=\"#Batching-distance-computation\" data-toc-modified-id=\"Batching-distance-computation-1\"><span class=\"toc-item-num\">1&nbsp;&nbsp;</span>Batching distance computation</a></span></li></ul></div>"
   ]
  },
  {
   "cell_type": "code",
   "execution_count": 1,
   "metadata": {
    "ExecuteTime": {
     "end_time": "2021-08-03T16:23:18.659425Z",
     "start_time": "2021-08-03T16:23:18.644303Z"
    }
   },
   "outputs": [],
   "source": [
    "%load_ext autoreload\n",
    "%autoreload 2"
   ]
  },
  {
   "cell_type": "code",
   "execution_count": 2,
   "metadata": {
    "ExecuteTime": {
     "end_time": "2021-08-03T16:23:19.106348Z",
     "start_time": "2021-08-03T16:23:19.003679Z"
    }
   },
   "outputs": [],
   "source": [
    "from jina import Document, DocumentArray\n",
    "#from jina.math import \n",
    "import scipy.sparse as sp"
   ]
  },
  {
   "cell_type": "code",
   "execution_count": 3,
   "metadata": {
    "ExecuteTime": {
     "end_time": "2021-08-03T16:23:19.332364Z",
     "start_time": "2021-08-03T16:23:19.318457Z"
    }
   },
   "outputs": [],
   "source": [
    "import jina\n",
    "\n",
    "from jina.math.distance import sparse_cosine, sparse_sqeuclidean"
   ]
  },
  {
   "cell_type": "code",
   "execution_count": 4,
   "metadata": {
    "ExecuteTime": {
     "end_time": "2021-08-03T16:23:21.839498Z",
     "start_time": "2021-08-03T16:23:19.825002Z"
    }
   },
   "outputs": [
    {
     "name": "stdout",
     "output_type": "stream",
     "text": [
      "(1, 5)\n",
      "(1, 5)\n"
     ]
    }
   ],
   "source": [
    "aux1 = sp.csr_matrix([0,0,0,1,0])\n",
    "aux2 = sp.csr_matrix([1,1,0,1,0])\n",
    "\n",
    "darr1 = DocumentArray([Document(embedding=aux1),Document(embedding=aux1)])\n",
    "darr2 = DocumentArray([Document(embedding=aux2),Document(embedding=aux2)])\n",
    "\n",
    "print(darr1[0].embedding.shape)\n",
    "print(darr2[0].embedding.shape)"
   ]
  },
  {
   "cell_type": "code",
   "execution_count": 5,
   "metadata": {
    "ExecuteTime": {
     "end_time": "2021-08-03T16:23:21.960822Z",
     "start_time": "2021-08-03T16:23:21.919842Z"
    }
   },
   "outputs": [
    {
     "data": {
      "text/plain": [
       "<2x5 sparse matrix of type '<class 'numpy.longlong'>'\n",
       "\twith 2 stored elements in COOrdinate format>"
      ]
     },
     "execution_count": 5,
     "metadata": {},
     "output_type": "execute_result"
    }
   ],
   "source": [
    "X = sp.vstack(darr1.get_attributes('embedding'))\n",
    "X"
   ]
  },
  {
   "cell_type": "markdown",
   "metadata": {},
   "source": [
    "Scipy cdist does not work with sparse vectors"
   ]
  },
  {
   "cell_type": "code",
   "execution_count": 6,
   "metadata": {
    "ExecuteTime": {
     "end_time": "2021-08-03T16:23:24.403529Z",
     "start_time": "2021-08-03T16:23:24.335922Z"
    }
   },
   "outputs": [],
   "source": [
    "import scipy\n",
    "from scipy.spatial.distance import cdist\n",
    "aux1 = sp.csr_matrix([0,0,0,1,0])\n",
    "aux2 = sp.csr_matrix([1,1,0,1,0])\n",
    "#cdist(aux1, aux2)"
   ]
  },
  {
   "cell_type": "markdown",
   "metadata": {},
   "source": [
    "## Cosine sparse version"
   ]
  },
  {
   "cell_type": "code",
   "execution_count": 7,
   "metadata": {
    "ExecuteTime": {
     "end_time": "2021-08-03T16:23:25.060876Z",
     "start_time": "2021-08-03T16:23:25.026352Z"
    }
   },
   "outputs": [],
   "source": [
    "def sp_cosine(x_mat: 'np.ndarray', y_mat: 'np.ndarray') -> 'np.ndarray':\n",
    "    \"\"\"Cosine distance between each row in x_mat and each row in y_mat.\n",
    "    :param x_mat: np.ndarray with ndim=2\n",
    "    :param y_mat: np.ndarray with ndim=2\n",
    "    :return: np.ndarray  with ndim=2\n",
    "    \"\"\"\n",
    "    from scipy.sparse.linalg import norm\n",
    "    return np.asarray(1 - x_mat.dot(y_mat.T) / np.outer(norm(x_mat, axis=1), norm(y_mat, axis=1)))"
   ]
  },
  {
   "cell_type": "code",
   "execution_count": 8,
   "metadata": {
    "ExecuteTime": {
     "end_time": "2021-08-03T16:23:25.250494Z",
     "start_time": "2021-08-03T16:23:25.179738Z"
    }
   },
   "outputs": [
    {
     "data": {
      "text/plain": [
       "array([[ 4.22649731e-01,  0.00000000e+00],\n",
       "       [ 4.22649731e-01,  0.00000000e+00],\n",
       "       [-2.22044605e-16,  4.22649731e-01]])"
      ]
     },
     "execution_count": 8,
     "metadata": {},
     "output_type": "execute_result"
    }
   ],
   "source": [
    "x_mat = sp.csr_matrix([[0,0,0,1,0],[0,0,0,1,0],[1,1,0,1,0]])\n",
    "y_mat = sp.csr_matrix([[1,1,0,1,0],[0,0,0,1,0]])\n",
    "sp_cosine(x_mat,y_mat)"
   ]
  },
  {
   "cell_type": "code",
   "execution_count": 9,
   "metadata": {
    "ExecuteTime": {
     "end_time": "2021-08-03T16:23:25.419033Z",
     "start_time": "2021-08-03T16:23:25.382428Z"
    }
   },
   "outputs": [
    {
     "data": {
      "text/plain": [
       "array([[ 4.22649731e-01,  0.00000000e+00],\n",
       "       [ 4.22649731e-01,  0.00000000e+00],\n",
       "       [-2.22044605e-16,  4.22649731e-01]])"
      ]
     },
     "execution_count": 9,
     "metadata": {},
     "output_type": "execute_result"
    }
   ],
   "source": [
    "x_mat = np.array([[0,0,0,1,0],[0,0,0,1,0],[1,1,0,1,0]])\n",
    "y_mat = np.array([[1,1,0,1,0],[0,0,0,1,0]])\n",
    "jina.math.distance.cosine(x_mat,y_mat)"
   ]
  },
  {
   "cell_type": "code",
   "execution_count": 10,
   "metadata": {
    "ExecuteTime": {
     "end_time": "2021-08-03T16:23:26.243980Z",
     "start_time": "2021-08-03T16:23:25.552535Z"
    }
   },
   "outputs": [
    {
     "data": {
      "text/plain": [
       "array([[ 4.22649731e-01,  0.00000000e+00],\n",
       "       [ 4.22649731e-01,  0.00000000e+00],\n",
       "       [-2.22044605e-16,  4.22649731e-01]])"
      ]
     },
     "execution_count": 10,
     "metadata": {},
     "output_type": "execute_result"
    }
   ],
   "source": [
    "from sklearn.metrics.pairwise import cosine_similarity\n",
    "x_mat = sp.csr_matrix([[0,0,0,1,0],[0,0,0,1,0],[1,1,0,1,0]])\n",
    "y_mat = sp.csr_matrix([[1,1,0,1,0],[0,0,0,1,0]])\n",
    "1-cosine_similarity(x_mat,y_mat)"
   ]
  },
  {
   "cell_type": "markdown",
   "metadata": {},
   "source": [
    "### Benchmarking"
   ]
  },
  {
   "cell_type": "code",
   "execution_count": 11,
   "metadata": {
    "ExecuteTime": {
     "end_time": "2021-08-03T16:23:28.376482Z",
     "start_time": "2021-08-03T16:23:28.341324Z"
    }
   },
   "outputs": [],
   "source": [
    "from sklearn.metrics.pairwise import cosine_distances"
   ]
  },
  {
   "cell_type": "code",
   "execution_count": 12,
   "metadata": {
    "ExecuteTime": {
     "end_time": "2021-08-03T16:23:33.049928Z",
     "start_time": "2021-08-03T16:23:28.511071Z"
    }
   },
   "outputs": [],
   "source": [
    "n_examples = 10_000\n",
    "n_features = 10_000\n",
    "x_mat = sp.rand(n_examples, n_features)\n",
    "n_examples = 1_000\n",
    "y_mat = sp.rand(n_examples, n_features)"
   ]
  },
  {
   "cell_type": "code",
   "execution_count": 13,
   "metadata": {
    "ExecuteTime": {
     "end_time": "2021-08-03T16:23:35.016746Z",
     "start_time": "2021-08-03T16:23:33.138338Z"
    }
   },
   "outputs": [
    {
     "name": "stdout",
     "output_type": "stream",
     "text": [
      "226 ms ± 5.77 ms per loop (mean ± std. dev. of 7 runs, 1 loop each)\n"
     ]
    }
   ],
   "source": [
    "%timeit cosine_distances(x_mat,y_mat)"
   ]
  },
  {
   "cell_type": "code",
   "execution_count": 14,
   "metadata": {
    "ExecuteTime": {
     "end_time": "2021-08-03T16:23:37.461187Z",
     "start_time": "2021-08-03T16:23:35.117796Z"
    }
   },
   "outputs": [
    {
     "name": "stdout",
     "output_type": "stream",
     "text": [
      "283 ms ± 2.51 ms per loop (mean ± std. dev. of 7 runs, 1 loop each)\n"
     ]
    }
   ],
   "source": [
    "%timeit sp_cosine(x_mat,y_mat)"
   ]
  },
  {
   "cell_type": "markdown",
   "metadata": {},
   "source": [
    "## Euclideans sparse version"
   ]
  },
  {
   "cell_type": "code",
   "execution_count": 15,
   "metadata": {
    "ExecuteTime": {
     "end_time": "2021-08-03T16:23:37.583963Z",
     "start_time": "2021-08-03T16:23:37.547150Z"
    }
   },
   "outputs": [],
   "source": [
    "def sp_sqeuclidean(x_mat: 'np.ndarray', y_mat: 'np.ndarray') -> 'np.ndarray':\n",
    "    \"\"\"Cosine distance between each row in x_mat and each row in y_mat.\n",
    "    :param x_mat: np.ndarray with ndim=2\n",
    "    :param y_mat: np.ndarray with ndim=2\n",
    "    :return: np.ndarray  with ndim=2\n",
    "    \"\"\"\n",
    "    return np.asarray(\n",
    "        y_mat.power(2).sum(axis=1).flatten()\n",
    "        + x_mat.power(2).sum(axis=1)\n",
    "        - 2 * x_mat.dot(y_mat.T)\n",
    "    )\n"
   ]
  },
  {
   "cell_type": "code",
   "execution_count": 16,
   "metadata": {
    "ExecuteTime": {
     "end_time": "2021-08-03T16:23:37.711402Z",
     "start_time": "2021-08-03T16:23:37.673617Z"
    }
   },
   "outputs": [],
   "source": [
    "x_mat = sp.csr_matrix([[0,0,0,2,0],[0,0,0,1,0],[1,1,0,1,0]])\n",
    "y_mat = sp.csr_matrix([[2,1,0,1,0],[0,0,0,1,0]])"
   ]
  },
  {
   "cell_type": "code",
   "execution_count": 17,
   "metadata": {
    "ExecuteTime": {
     "end_time": "2021-08-03T16:23:37.837816Z",
     "start_time": "2021-08-03T16:23:37.797055Z"
    }
   },
   "outputs": [
    {
     "data": {
      "text/plain": [
       "array([[6, 1],\n",
       "       [5, 0],\n",
       "       [1, 2]], dtype=int64)"
      ]
     },
     "execution_count": 17,
     "metadata": {},
     "output_type": "execute_result"
    }
   ],
   "source": [
    "x_mat_dense = np.array(x_mat.todense())\n",
    "y_mat_dense = np.array(y_mat.todense())\n",
    "jina.math.distance.sqeuclidean(x_mat_dense,y_mat_dense)"
   ]
  },
  {
   "cell_type": "code",
   "execution_count": 18,
   "metadata": {
    "ExecuteTime": {
     "end_time": "2021-08-03T16:23:37.975716Z",
     "start_time": "2021-08-03T16:23:37.936802Z"
    }
   },
   "outputs": [
    {
     "data": {
      "text/plain": [
       "array([[6, 1],\n",
       "       [5, 0],\n",
       "       [1, 2]], dtype=int64)"
      ]
     },
     "execution_count": 18,
     "metadata": {},
     "output_type": "execute_result"
    }
   ],
   "source": [
    "sp_sqeuclidean(x_mat, y_mat)"
   ]
  },
  {
   "cell_type": "markdown",
   "metadata": {},
   "source": [
    "### Benchmarking"
   ]
  },
  {
   "cell_type": "code",
   "execution_count": 19,
   "metadata": {
    "ExecuteTime": {
     "end_time": "2021-08-03T16:23:38.094705Z",
     "start_time": "2021-08-03T16:23:38.058453Z"
    }
   },
   "outputs": [],
   "source": [
    "from sklearn.metrics.pairwise import euclidean_distances"
   ]
  },
  {
   "cell_type": "code",
   "execution_count": 20,
   "metadata": {
    "ExecuteTime": {
     "end_time": "2021-08-03T16:23:42.693444Z",
     "start_time": "2021-08-03T16:23:38.177546Z"
    }
   },
   "outputs": [],
   "source": [
    "n_examples = 10_000\n",
    "n_features = 10_000\n",
    "x_mat = sp.rand(n_examples, n_features, density=0.05)\n",
    "n_examples = 1_000\n",
    "y_mat = sp.rand(n_examples, n_features)"
   ]
  },
  {
   "cell_type": "code",
   "execution_count": 21,
   "metadata": {
    "ExecuteTime": {
     "end_time": "2021-08-03T16:23:48.193583Z",
     "start_time": "2021-08-03T16:23:42.776079Z"
    }
   },
   "outputs": [
    {
     "name": "stdout",
     "output_type": "stream",
     "text": [
      "483 ms ± 4.81 ms per loop (mean ± std. dev. of 7 runs, 1 loop each)\n"
     ]
    }
   ],
   "source": [
    "%timeit sp_sqeuclidean(x_mat,y_mat)"
   ]
  },
  {
   "cell_type": "code",
   "execution_count": 22,
   "metadata": {
    "ExecuteTime": {
     "end_time": "2021-08-03T16:23:52.031670Z",
     "start_time": "2021-08-03T16:23:48.274011Z"
    }
   },
   "outputs": [
    {
     "name": "stdout",
     "output_type": "stream",
     "text": [
      "466 ms ± 7.1 ms per loop (mean ± std. dev. of 7 runs, 1 loop each)\n"
     ]
    }
   ],
   "source": [
    "%timeit euclidean_distances(x_mat,y_mat)"
   ]
  },
  {
   "cell_type": "code",
   "execution_count": 23,
   "metadata": {
    "ExecuteTime": {
     "end_time": "2021-08-03T16:23:53.259956Z",
     "start_time": "2021-08-03T16:23:52.116509Z"
    }
   },
   "outputs": [],
   "source": [
    "np.testing.assert_almost_equal(euclidean_distances(x_mat, y_mat)**2,\n",
    "                               sp_sqeuclidean(x_mat, y_mat))"
   ]
  },
  {
   "cell_type": "markdown",
   "metadata": {
    "ExecuteTime": {
     "end_time": "2021-07-29T10:53:10.670260Z",
     "start_time": "2021-07-29T10:53:10.667514Z"
    }
   },
   "source": [
    "# Batching distance computation\n"
   ]
  },
  {
   "cell_type": "code",
   "execution_count": 30,
   "metadata": {
    "ExecuteTime": {
     "end_time": "2021-08-03T16:55:33.236698Z",
     "start_time": "2021-08-03T16:55:33.199698Z"
    }
   },
   "outputs": [],
   "source": [
    "from jina.math import distance"
   ]
  },
  {
   "cell_type": "code",
   "execution_count": 38,
   "metadata": {
    "ExecuteTime": {
     "end_time": "2021-08-03T16:56:08.077245Z",
     "start_time": "2021-08-03T16:56:08.040270Z"
    }
   },
   "outputs": [],
   "source": [
    "np.random.seed(123)\n",
    "X = np.random.random((10,128))\n",
    "Y = np.random.random((300,128))"
   ]
  },
  {
   "cell_type": "code",
   "execution_count": 40,
   "metadata": {
    "ExecuteTime": {
     "end_time": "2021-08-03T16:56:12.637527Z",
     "start_time": "2021-08-03T16:56:12.596962Z"
    }
   },
   "outputs": [
    {
     "data": {
      "text/plain": [
       "array([[0.23053287, 0.19060594, 0.20205071, ..., 0.2415822 , 0.21349608,\n",
       "        0.1866112 ],\n",
       "       [0.24950841, 0.2317442 , 0.23412835, ..., 0.21793382, 0.24647694,\n",
       "        0.27346042],\n",
       "       [0.23015447, 0.26612968, 0.25757846, ..., 0.23001153, 0.23994445,\n",
       "        0.23484005],\n",
       "       ...,\n",
       "       [0.22507869, 0.20794313, 0.28994818, ..., 0.26923648, 0.25165393,\n",
       "        0.3054304 ],\n",
       "       [0.2503967 , 0.26948342, 0.27601632, ..., 0.2680446 , 0.32414386,\n",
       "        0.23514155],\n",
       "       [0.26868149, 0.27516195, 0.25540233, ..., 0.26716713, 0.26284607,\n",
       "        0.28136542]])"
      ]
     },
     "execution_count": 40,
     "metadata": {},
     "output_type": "execute_result"
    }
   ],
   "source": [
    "jina.math.distance.cosine(X,Y)"
   ]
  },
  {
   "cell_type": "code",
   "execution_count": 43,
   "metadata": {
    "ExecuteTime": {
     "end_time": "2021-08-03T17:10:52.914859Z",
     "start_time": "2021-08-03T17:10:52.877475Z"
    }
   },
   "outputs": [],
   "source": [
    "from typing import Tuple\n",
    "def top_k(values: 'np.ndarray', k: int, descending: bool = False) -> Tuple['np.ndarray', 'np.ndarray']:\n",
    "    \"\"\"Finds values and indices of the k largest entries for the last dimension.\n",
    "\n",
    "    :param values: array of distances\n",
    "    :param k: number of values to retrieve\n",
    "    :param descending: find top k biggest values\n",
    "    :return: indices and distances\n",
    "    \"\"\"\n",
    "    if descending:\n",
    "        values = -values\n",
    "\n",
    "    if k >= values.shape[1]:\n",
    "        idx = values.argsort(axis=1)[:, :k]\n",
    "        values = np.take_along_axis(values, idx, axis=1)\n",
    "    else:\n",
    "        idx_ps = values.argpartition(kth=k, axis=1)[:, :k]\n",
    "        values = np.take_along_axis(values, idx_ps, axis=1)\n",
    "        idx_fs = values.argsort(axis=1)\n",
    "        idx = np.take_along_axis(idx_ps, idx_fs, axis=1)\n",
    "        values = np.take_along_axis(values, idx_fs, axis=1)\n",
    "\n",
    "    if descending:\n",
    "        values = -values\n",
    "\n",
    "    return values, idx\n"
   ]
  },
  {
   "cell_type": "code",
   "execution_count": null,
   "metadata": {},
   "outputs": [],
   "source": []
  }
 ],
 "metadata": {
  "kernelspec": {
   "display_name": "Python 3",
   "language": "python",
   "name": "python3"
  },
  "language_info": {
   "codemirror_mode": {
    "name": "ipython",
    "version": 3
   },
   "file_extension": ".py",
   "mimetype": "text/x-python",
   "name": "python",
   "nbconvert_exporter": "python",
   "pygments_lexer": "ipython3",
   "version": "3.8.5"
  },
  "toc": {
   "base_numbering": 1,
   "nav_menu": {},
   "number_sections": true,
   "sideBar": true,
   "skip_h1_title": false,
   "title_cell": "Table of Contents",
   "title_sidebar": "Contents",
   "toc_cell": true,
   "toc_position": {},
   "toc_section_display": true,
   "toc_window_display": true
  },
  "varInspector": {
   "cols": {
    "lenName": 16,
    "lenType": 16,
    "lenVar": 40
   },
   "kernels_config": {
    "python": {
     "delete_cmd_postfix": "",
     "delete_cmd_prefix": "del ",
     "library": "var_list.py",
     "varRefreshCmd": "print(var_dic_list())"
    },
    "r": {
     "delete_cmd_postfix": ") ",
     "delete_cmd_prefix": "rm(",
     "library": "var_list.r",
     "varRefreshCmd": "cat(var_dic_list()) "
    }
   },
   "types_to_exclude": [
    "module",
    "function",
    "builtin_function_or_method",
    "instance",
    "_Feature"
   ],
   "window_display": false
  }
 },
 "nbformat": 4,
 "nbformat_minor": 4
}
