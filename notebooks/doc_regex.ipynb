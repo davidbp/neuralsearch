{
 "cells": [
  {
   "cell_type": "markdown",
   "metadata": {
    "toc": true
   },
   "source": [
    "<h1>Table of Contents<span class=\"tocSkip\"></span></h1>\n",
    "<div class=\"toc\"><ul class=\"toc-item\"><li><span><a href=\"#Missing-slicing-DocumentArray-with-list-of-indices\" data-toc-modified-id=\"Missing-slicing-DocumentArray-with-list-of-indices-1\"><span class=\"toc-item-num\">1&nbsp;&nbsp;</span>Missing slicing DocumentArray with list of indices</a></span></li></ul></div>"
   ]
  },
  {
   "cell_type": "code",
   "execution_count": 1,
   "metadata": {
    "ExecuteTime": {
     "end_time": "2021-07-23T07:44:21.251475Z",
     "start_time": "2021-07-23T07:44:21.171887Z"
    }
   },
   "outputs": [],
   "source": [
    "from jina import Document, DocumentArray\n",
    "import re\n",
    "import regex"
   ]
  },
  {
   "cell_type": "code",
   "execution_count": 2,
   "metadata": {
    "ExecuteTime": {
     "end_time": "2021-07-23T07:44:21.363315Z",
     "start_time": "2021-07-23T07:44:21.360407Z"
    }
   },
   "outputs": [],
   "source": [
    "d1 = Document(tags={'city': 'Barcelona', 'phone':'None'})\n",
    "d2 = Document(tags={'city': 'Berlin','phone':'648907348'})\n",
    "d3 = Document(tags={'city': 'Paris', 'phone': 'None'})\n",
    "\n",
    "D = DocumentArray([d1,d2,d3])"
   ]
  },
  {
   "cell_type": "code",
   "execution_count": 3,
   "metadata": {
    "ExecuteTime": {
     "end_time": "2021-07-23T07:44:21.550215Z",
     "start_time": "2021-07-23T07:44:21.541511Z"
    },
    "scrolled": true
   },
   "outputs": [
    {
     "data": {
      "text/plain": [
       "{'phone': 'None', 'city': 'Barcelona'}"
      ]
     },
     "execution_count": 3,
     "metadata": {},
     "output_type": "execute_result"
    }
   ],
   "source": [
    "dict(D[0].tags)"
   ]
  },
  {
   "cell_type": "code",
   "execution_count": 4,
   "metadata": {
    "ExecuteTime": {
     "end_time": "2021-07-23T07:44:21.735031Z",
     "start_time": "2021-07-23T07:44:21.732152Z"
    }
   },
   "outputs": [],
   "source": [
    "from typing import List, Dict, Iterable\n",
    "\n",
    "def fuzzy_filter(docs, regexes: Dict, traversal_paths):\n",
    "    filtered = DocumentArray()\n",
    "    iterdocs = docs.traverse_flat(traversal_paths)\n",
    "    \n",
    "    for tag_name, regex in regexes.items():\n",
    "        pattern = re.compile(regex)\n",
    "        for doc in iterdocs:\n",
    "            if re.match(pattern, doc.tags[tag_name]):\n",
    "                filtered.append(doc)\n",
    "    return filtered"
   ]
  },
  {
   "cell_type": "code",
   "execution_count": 5,
   "metadata": {
    "ExecuteTime": {
     "end_time": "2021-07-23T07:44:21.913617Z",
     "start_time": "2021-07-23T07:44:21.911453Z"
    }
   },
   "outputs": [],
   "source": [
    "regexes = {'city':r'B.*'}\n",
    "Dfiltered = fuzzy_filter(D, regexes, ['r'])"
   ]
  },
  {
   "cell_type": "code",
   "execution_count": 6,
   "metadata": {
    "ExecuteTime": {
     "end_time": "2021-07-23T07:44:22.095310Z",
     "start_time": "2021-07-23T07:44:22.091952Z"
    }
   },
   "outputs": [
    {
     "data": {
      "text/plain": [
       "[{'phone': 'None', 'city': 'Barcelona'},\n",
       " {'phone': '648907348', 'city': 'Berlin'}]"
      ]
     },
     "execution_count": 6,
     "metadata": {},
     "output_type": "execute_result"
    }
   ],
   "source": [
    "[dict(d) for d in Dfiltered.get_attributes('tags')]"
   ]
  },
  {
   "cell_type": "markdown",
   "metadata": {
    "ExecuteTime": {
     "end_time": "2021-07-20T13:21:09.667603Z",
     "start_time": "2021-07-20T13:21:09.665236Z"
    }
   },
   "source": [
    "There are a couple of considerations:\n",
    "    \n",
    "- We do not want to compile a regex every document because it takes time\n",
    "- We want to be able to pass operators and filter by some property"
   ]
  },
  {
   "cell_type": "code",
   "execution_count": 7,
   "metadata": {
    "ExecuteTime": {
     "end_time": "2021-07-23T07:44:26.692474Z",
     "start_time": "2021-07-23T07:44:22.462634Z"
    }
   },
   "outputs": [
    {
     "name": "stdout",
     "output_type": "stream",
     "text": [
      "520 ns ± 7.97 ns per loop (mean ± std. dev. of 7 runs, 1000000 loops each)\n"
     ]
    }
   ],
   "source": [
    "%%timeit\n",
    "re.match(r'B.*', 'La Barcelona')"
   ]
  },
  {
   "cell_type": "code",
   "execution_count": 8,
   "metadata": {
    "ExecuteTime": {
     "end_time": "2021-07-23T07:44:26.706807Z",
     "start_time": "2021-07-23T07:44:26.704688Z"
    }
   },
   "outputs": [],
   "source": [
    "exp = re.compile(r'B.*')"
   ]
  },
  {
   "cell_type": "code",
   "execution_count": 13,
   "metadata": {
    "ExecuteTime": {
     "end_time": "2021-07-23T07:44:50.317075Z",
     "start_time": "2021-07-23T07:44:34.815813Z"
    }
   },
   "outputs": [
    {
     "name": "stdout",
     "output_type": "stream",
     "text": [
      "191 ns ± 1.09 ns per loop (mean ± std. dev. of 7 runs, 10000000 loops each)\n"
     ]
    }
   ],
   "source": [
    "%%timeit\n",
    "exp.match('La Barcelona')"
   ]
  },
  {
   "cell_type": "markdown",
   "metadata": {
    "ExecuteTime": {
     "end_time": "2021-07-20T13:42:47.475377Z",
     "start_time": "2021-07-20T13:42:47.472838Z"
    }
   },
   "source": [
    "We want to allow user to specify an operator for selecting.\n",
    "\n",
    "Allow for example:\n",
    "    \n",
    "    - get a document if all regex are verified\n",
    "    - get a document if any regex is verified\n",
    "    - get a document if more than X regex are verified"
   ]
  },
  {
   "cell_type": "code",
   "execution_count": 38,
   "metadata": {
    "ExecuteTime": {
     "end_time": "2021-07-23T07:48:18.400845Z",
     "start_time": "2021-07-23T07:48:18.396436Z"
    }
   },
   "outputs": [],
   "source": [
    "from typing import List, Dict, Iterable\n",
    "\n",
    "def find(docs, regexes: Dict, traversal_paths, operator, value=1):\n",
    "\n",
    "    filtered = DocumentArray()\n",
    "    iterdocs = docs.traverse_flat(traversal_paths)\n",
    "    matched_couts = np.zeros(len(docs), dtype=np.int32)\n",
    "    \n",
    "    for tag_name, regex in regexes.items():\n",
    "        regexes[tag_name] = re.compile(regex)\n",
    "    \n",
    "    for pos, doc in enumerate(iterdocs):\n",
    "        for tag_name, pattern in regexes.items():\n",
    "            tag_value = doc.tags.get(tag_name, None)\n",
    "            if tag_value:\n",
    "                if pattern.match(tag_value):\n",
    "                    matched_couts[pos] += 1\n",
    "\n",
    "    if operator == '<':\n",
    "        coordinate_flags = matched_couts < value\n",
    "    elif operator == '>':\n",
    "        coordinate_flags = matched_couts > value\n",
    "    elif operator == '==':\n",
    "        coordinate_flags = matched_couts == value\n",
    "    elif operator == '!=':\n",
    "        coordinate_flags = matched_couts != value\n",
    "    elif operator == '<=':\n",
    "        coordinate_flags = matched_couts <= value\n",
    "    elif operator == '>=':\n",
    "        coordinate_flags = matched_couts >= value\n",
    "    elif operator == 'any':\n",
    "        coordinate_flags = matched_couts >= 1\n",
    "    elif operator == 'all':\n",
    "        coordinate_flags = matched_couts == len(regexes)\n",
    "    \n",
    "    indices = np.where(coordinate_flags)[0].tolist()\n",
    "    for pos in indices:\n",
    "        filtered.append(docs[pos])\n",
    "    \n",
    "    return filtered"
   ]
  },
  {
   "cell_type": "code",
   "execution_count": 39,
   "metadata": {
    "ExecuteTime": {
     "end_time": "2021-07-23T07:48:18.635001Z",
     "start_time": "2021-07-23T07:48:18.631707Z"
    }
   },
   "outputs": [
    {
     "data": {
      "text/plain": [
       "<jina.types.arrays.document.DocumentArray length=1 at 140403026028624>"
      ]
     },
     "execution_count": 39,
     "metadata": {},
     "output_type": "execute_result"
    }
   ],
   "source": [
    "regexes = {'city':r'B.*', 'phone':'None'}\n",
    "Dfiltered = find(D, regexes, ['r'], 'all')\n",
    "Dfiltered"
   ]
  },
  {
   "cell_type": "code",
   "execution_count": 40,
   "metadata": {
    "ExecuteTime": {
     "end_time": "2021-07-23T07:48:18.995690Z",
     "start_time": "2021-07-23T07:48:18.991732Z"
    },
    "scrolled": true
   },
   "outputs": [
    {
     "data": {
      "text/plain": [
       "<jina.types.arrays.document.DocumentArray length=3 at 140403026028384>"
      ]
     },
     "execution_count": 40,
     "metadata": {},
     "output_type": "execute_result"
    }
   ],
   "source": [
    "regexes = {'city':r'B.*', 'phone':'None'}\n",
    "Dfiltered = find(D, regexes, ['r'], 'any')\n",
    "Dfiltered"
   ]
  },
  {
   "cell_type": "code",
   "execution_count": 41,
   "metadata": {
    "ExecuteTime": {
     "end_time": "2021-07-23T07:48:19.399753Z",
     "start_time": "2021-07-23T07:48:19.397115Z"
    }
   },
   "outputs": [],
   "source": [
    "d1 = Document(tags={ 'phone':'None'})\n",
    "d2 = Document(tags={'city': 'Berlin','phone':'648907348'})\n",
    "d3 = Document(tags={'city': 'Paris', 'phone': 'None'})\n",
    "\n",
    "D2 = DocumentArray([d1,d2,d3])"
   ]
  },
  {
   "cell_type": "code",
   "execution_count": 45,
   "metadata": {
    "ExecuteTime": {
     "end_time": "2021-07-23T07:48:35.736119Z",
     "start_time": "2021-07-23T07:48:35.732772Z"
    }
   },
   "outputs": [
    {
     "data": {
      "text/plain": [
       "<jina.types.arrays.document.DocumentArray length=1 at 140403026027712>"
      ]
     },
     "execution_count": 45,
     "metadata": {},
     "output_type": "execute_result"
    }
   ],
   "source": [
    "# If a Document\n",
    "regexes = {'city':r'B.*'}\n",
    "Dfiltered = find(D2, regexes, ['r'], 'any')\n",
    "Dfiltered"
   ]
  },
  {
   "cell_type": "code",
   "execution_count": 43,
   "metadata": {
    "ExecuteTime": {
     "end_time": "2021-07-23T07:48:23.629932Z",
     "start_time": "2021-07-23T07:48:23.627386Z"
    },
    "scrolled": true
   },
   "outputs": [
    {
     "data": {
      "text/plain": [
       "'Berlin'"
      ]
     },
     "execution_count": 43,
     "metadata": {},
     "output_type": "execute_result"
    }
   ],
   "source": [
    "d2.tags.get('city', None)"
   ]
  },
  {
   "cell_type": "code",
   "execution_count": 48,
   "metadata": {
    "ExecuteTime": {
     "end_time": "2021-07-23T08:53:32.878564Z",
     "start_time": "2021-07-23T08:53:32.876420Z"
    }
   },
   "outputs": [
    {
     "name": "stdout",
     "output_type": "stream",
     "text": [
      "{'city'}\n"
     ]
    }
   ],
   "source": [
    "print(set(regexes.keys()))"
   ]
  },
  {
   "cell_type": "code",
   "execution_count": null,
   "metadata": {},
   "outputs": [],
   "source": []
  },
  {
   "cell_type": "code",
   "execution_count": null,
   "metadata": {},
   "outputs": [],
   "source": []
  },
  {
   "cell_type": "code",
   "execution_count": null,
   "metadata": {},
   "outputs": [],
   "source": []
  },
  {
   "cell_type": "markdown",
   "metadata": {},
   "source": [
    "### Missing slicing DocumentArray with list of indices\n",
    "\n",
    "Operation currently not implemented"
   ]
  },
  {
   "cell_type": "code",
   "execution_count": 145,
   "metadata": {
    "ExecuteTime": {
     "end_time": "2021-07-20T13:34:16.434977Z",
     "start_time": "2021-07-20T13:34:16.432996Z"
    }
   },
   "outputs": [],
   "source": [
    "X = np.random.random((10,3))"
   ]
  },
  {
   "cell_type": "code",
   "execution_count": 135,
   "metadata": {
    "ExecuteTime": {
     "end_time": "2021-07-20T13:32:58.807406Z",
     "start_time": "2021-07-20T13:32:58.803973Z"
    }
   },
   "outputs": [
    {
     "data": {
      "text/plain": [
       "array([[0.89165356, 0.72906645, 0.67695036],\n",
       "       [0.23279987, 0.82382816, 0.31403296]])"
      ]
     },
     "execution_count": 135,
     "metadata": {},
     "output_type": "execute_result"
    }
   ],
   "source": [
    "X[1:3]"
   ]
  },
  {
   "cell_type": "code",
   "execution_count": 142,
   "metadata": {
    "ExecuteTime": {
     "end_time": "2021-07-20T13:33:46.813031Z",
     "start_time": "2021-07-20T13:33:46.809918Z"
    }
   },
   "outputs": [
    {
     "data": {
      "text/plain": [
       "array([[0.1805567 , 0.51602885, 0.26808973],\n",
       "       [0.23279987, 0.82382816, 0.31403296]])"
      ]
     },
     "execution_count": 142,
     "metadata": {},
     "output_type": "execute_result"
    }
   ],
   "source": [
    "X[[0,2]]"
   ]
  },
  {
   "cell_type": "code",
   "execution_count": 144,
   "metadata": {
    "ExecuteTime": {
     "end_time": "2021-07-20T13:34:06.792778Z",
     "start_time": "2021-07-20T13:34:06.790029Z"
    }
   },
   "outputs": [
    {
     "data": {
      "text/plain": [
       "array([[0.1805567 , 0.51602885, 0.26808973],\n",
       "       [0.1805567 , 0.51602885, 0.26808973],\n",
       "       [0.23279987, 0.82382816, 0.31403296]])"
      ]
     },
     "execution_count": 144,
     "metadata": {},
     "output_type": "execute_result"
    }
   ],
   "source": [
    "# Note that we can even copy more than one row at a time\n",
    "X[[0,0,2]]"
   ]
  },
  {
   "cell_type": "code",
   "execution_count": 140,
   "metadata": {
    "ExecuteTime": {
     "end_time": "2021-07-20T13:33:13.603944Z",
     "start_time": "2021-07-20T13:33:13.600345Z"
    }
   },
   "outputs": [
    {
     "data": {
      "text/plain": [
       "<jina.types.arrays.document.DocumentArray length=2 at 140186673583200>"
      ]
     },
     "execution_count": 140,
     "metadata": {},
     "output_type": "execute_result"
    }
   ],
   "source": [
    "D[1:3]"
   ]
  },
  {
   "cell_type": "code",
   "execution_count": 141,
   "metadata": {
    "ExecuteTime": {
     "end_time": "2021-07-20T13:33:17.390792Z",
     "start_time": "2021-07-20T13:33:17.378261Z"
    }
   },
   "outputs": [
    {
     "ename": "IndexError",
     "evalue": "do not support this index type builtins.list: [0, 2]",
     "output_type": "error",
     "traceback": [
      "\u001b[0;31m---------------------------------------------------------------------------\u001b[0m",
      "\u001b[0;31mIndexError\u001b[0m                                Traceback (most recent call last)",
      "\u001b[0;32m<ipython-input-141-921bfee9f39d>\u001b[0m in \u001b[0;36m<module>\u001b[0;34m\u001b[0m\n\u001b[0;32m----> 1\u001b[0;31m \u001b[0mD\u001b[0m\u001b[0;34m[\u001b[0m\u001b[0;34m[\u001b[0m\u001b[0;36m0\u001b[0m\u001b[0;34m,\u001b[0m\u001b[0;36m2\u001b[0m\u001b[0;34m]\u001b[0m\u001b[0;34m]\u001b[0m\u001b[0;34m\u001b[0m\u001b[0;34m\u001b[0m\u001b[0m\n\u001b[0m",
      "\u001b[0;32m~/Documents/git_stuff/jina/jina/types/arrays/document.py\u001b[0m in \u001b[0;36m__getitem__\u001b[0;34m(self, item)\u001b[0m\n\u001b[1;32m    209\u001b[0m \u001b[0;34m\u001b[0m\u001b[0m\n\u001b[1;32m    210\u001b[0m         \u001b[0;32mif\u001b[0m \u001b[0misinstance\u001b[0m\u001b[0;34m(\u001b[0m\u001b[0mitem\u001b[0m\u001b[0;34m,\u001b[0m \u001b[0mint\u001b[0m\u001b[0;34m)\u001b[0m\u001b[0;34m:\u001b[0m\u001b[0;34m\u001b[0m\u001b[0;34m\u001b[0m\u001b[0m\n\u001b[0;32m--> 211\u001b[0;31m             \u001b[0;32mreturn\u001b[0m \u001b[0mDocument\u001b[0m\u001b[0;34m(\u001b[0m\u001b[0mself\u001b[0m\u001b[0;34m.\u001b[0m\u001b[0m_pb_body\u001b[0m\u001b[0;34m[\u001b[0m\u001b[0mitem\u001b[0m\u001b[0;34m]\u001b[0m\u001b[0;34m)\u001b[0m\u001b[0;34m\u001b[0m\u001b[0;34m\u001b[0m\u001b[0m\n\u001b[0m\u001b[1;32m    212\u001b[0m         \u001b[0;32melif\u001b[0m \u001b[0misinstance\u001b[0m\u001b[0;34m(\u001b[0m\u001b[0mitem\u001b[0m\u001b[0;34m,\u001b[0m \u001b[0mstr\u001b[0m\u001b[0;34m)\u001b[0m\u001b[0;34m:\u001b[0m\u001b[0;34m\u001b[0m\u001b[0;34m\u001b[0m\u001b[0m\n\u001b[1;32m    213\u001b[0m             \u001b[0;32mreturn\u001b[0m \u001b[0mself\u001b[0m\u001b[0;34m[\u001b[0m\u001b[0mself\u001b[0m\u001b[0;34m.\u001b[0m\u001b[0m_id_to_index\u001b[0m\u001b[0;34m[\u001b[0m\u001b[0mitem\u001b[0m\u001b[0;34m]\u001b[0m\u001b[0;34m]\u001b[0m\u001b[0;34m\u001b[0m\u001b[0;34m\u001b[0m\u001b[0m\n",
      "\u001b[0;31mIndexError\u001b[0m: do not support this index type builtins.list: [0, 2]"
     ]
    }
   ],
   "source": [
    "D[[0,2]]"
   ]
  },
  {
   "cell_type": "code",
   "execution_count": null,
   "metadata": {},
   "outputs": [],
   "source": []
  },
  {
   "cell_type": "code",
   "execution_count": null,
   "metadata": {},
   "outputs": [],
   "source": []
  },
  {
   "cell_type": "code",
   "execution_count": null,
   "metadata": {},
   "outputs": [],
   "source": []
  }
 ],
 "metadata": {
  "kernelspec": {
   "display_name": "Python 3",
   "language": "python",
   "name": "python3"
  },
  "language_info": {
   "codemirror_mode": {
    "name": "ipython",
    "version": 3
   },
   "file_extension": ".py",
   "mimetype": "text/x-python",
   "name": "python",
   "nbconvert_exporter": "python",
   "pygments_lexer": "ipython3",
   "version": "3.8.5"
  },
  "toc": {
   "base_numbering": 1,
   "nav_menu": {},
   "number_sections": true,
   "sideBar": true,
   "skip_h1_title": false,
   "title_cell": "Table of Contents",
   "title_sidebar": "Contents",
   "toc_cell": true,
   "toc_position": {},
   "toc_section_display": true,
   "toc_window_display": false
  },
  "varInspector": {
   "cols": {
    "lenName": 16,
    "lenType": 16,
    "lenVar": 40
   },
   "kernels_config": {
    "python": {
     "delete_cmd_postfix": "",
     "delete_cmd_prefix": "del ",
     "library": "var_list.py",
     "varRefreshCmd": "print(var_dic_list())"
    },
    "r": {
     "delete_cmd_postfix": ") ",
     "delete_cmd_prefix": "rm(",
     "library": "var_list.r",
     "varRefreshCmd": "cat(var_dic_list()) "
    }
   },
   "types_to_exclude": [
    "module",
    "function",
    "builtin_function_or_method",
    "instance",
    "_Feature"
   ],
   "window_display": false
  }
 },
 "nbformat": 4,
 "nbformat_minor": 4
}
