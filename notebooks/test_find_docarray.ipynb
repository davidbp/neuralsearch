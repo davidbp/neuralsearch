{
 "cells": [
  {
   "cell_type": "markdown",
   "metadata": {
    "toc": true
   },
   "source": [
    "<h1>Table of Contents<span class=\"tocSkip\"></span></h1>\n",
    "<div class=\"toc\"><ul class=\"toc-item\"><li><span><a href=\"#test-find-DocumentArray\" data-toc-modified-id=\"test-find-DocumentArray-1\"><span class=\"toc-item-num\">1&nbsp;&nbsp;</span>test find DocumentArray</a></span></li></ul></div>"
   ]
  },
  {
   "cell_type": "code",
   "execution_count": 8,
   "metadata": {
    "ExecuteTime": {
     "end_time": "2021-07-23T08:59:33.522504Z",
     "start_time": "2021-07-23T08:59:33.509173Z"
    }
   },
   "outputs": [
    {
     "name": "stdout",
     "output_type": "stream",
     "text": [
      "The autoreload extension is already loaded. To reload it, use:\n",
      "  %reload_ext autoreload\n"
     ]
    }
   ],
   "source": [
    "%load_ext autoreload\n",
    "%autoreload 2"
   ]
  },
  {
   "cell_type": "code",
   "execution_count": 9,
   "metadata": {
    "ExecuteTime": {
     "end_time": "2021-07-23T08:59:33.701363Z",
     "start_time": "2021-07-23T08:59:33.688468Z"
    }
   },
   "outputs": [],
   "source": [
    "from jina import Document, DocumentArray\n",
    "from jina.types.arrays.memmap import DocumentArrayMemmap"
   ]
  },
  {
   "cell_type": "code",
   "execution_count": 10,
   "metadata": {
    "ExecuteTime": {
     "end_time": "2021-07-23T08:59:33.975997Z",
     "start_time": "2021-07-23T08:59:33.846235Z"
    }
   },
   "outputs": [],
   "source": [
    "d1 = Document(tags={'city': 'Barcelona', 'phone':'None'})\n",
    "d2 = Document(tags={'city': 'Berlin','phone':'648907348'})\n",
    "d3 = Document(tags={'city': 'Paris', 'phone': 'None'})\n",
    "d4 = Document(tags={'city': 'Brussels', 'phone': 'None'})\n",
    "\n",
    "\n",
    "D = DocumentArray([d1, d2, d3, d4])\n",
    "!rm -r ./docmem\n",
    "DM = DocumentArrayMemmap('./docmem')\n",
    "DM.extend([d1, d2, d3, d4])"
   ]
  },
  {
   "cell_type": "code",
   "execution_count": 11,
   "metadata": {
    "ExecuteTime": {
     "end_time": "2021-07-23T08:59:34.036428Z",
     "start_time": "2021-07-23T08:59:34.012301Z"
    }
   },
   "outputs": [
    {
     "data": {
      "text/plain": [
       "{'city': 'Barcelona', 'phone': 'None'}"
      ]
     },
     "execution_count": 11,
     "metadata": {},
     "output_type": "execute_result"
    }
   ],
   "source": [
    "dict(DM[0].tags)"
   ]
  },
  {
   "cell_type": "markdown",
   "metadata": {},
   "source": [
    "## test find DocumentArray"
   ]
  },
  {
   "cell_type": "code",
   "execution_count": 26,
   "metadata": {
    "ExecuteTime": {
     "end_time": "2021-07-23T09:05:49.997570Z",
     "start_time": "2021-07-23T09:05:49.982226Z"
    },
    "scrolled": true
   },
   "outputs": [
    {
     "name": "stdout",
     "output_type": "stream",
     "text": [
      "len(Dfiltered)=3\n",
      "dict(d.tags)={'phone': 'None', 'city': 'Barcelona'}\n",
      "dict(d.tags)={'phone': '648907348', 'city': 'Berlin'}\n",
      "dict(d.tags)={'phone': 'None', 'city': 'Brussels'}\n"
     ]
    }
   ],
   "source": [
    "regexes = {'city':r'B.*'}\n",
    "Dfiltered = D.find(regexes=regexes)\n",
    "print(f'len(Dfiltered)={len(Dfiltered)}')\n",
    "for d in Dfiltered:\n",
    "    print(f'dict(d.tags)={dict(d.tags)}')"
   ]
  },
  {
   "cell_type": "code",
   "execution_count": 29,
   "metadata": {
    "ExecuteTime": {
     "end_time": "2021-07-23T09:06:08.121362Z",
     "start_time": "2021-07-23T09:06:08.106508Z"
    },
    "scrolled": true
   },
   "outputs": [
    {
     "name": "stdout",
     "output_type": "stream",
     "text": [
      "len(Dfiltered)=2\n",
      "dict(d.tags)={'phone': 'None', 'city': 'Barcelona'}\n",
      "dict(d.tags)={'phone': 'None', 'city': 'Brussels'}\n"
     ]
    }
   ],
   "source": [
    "regexes = {'city':r'B.*', 'phone':'Non'}\n",
    "Dfiltered = D.find(regexes=regexes, traversal_paths=['r'], operator='==', value=2)\n",
    "print(f'len(Dfiltered)={len(Dfiltered)}')\n",
    "for d in Dfiltered:\n",
    "    print(f'dict(d.tags)={dict(d.tags)}')"
   ]
  },
  {
   "cell_type": "code",
   "execution_count": 31,
   "metadata": {
    "ExecuteTime": {
     "end_time": "2021-07-23T09:07:12.608632Z",
     "start_time": "2021-07-23T09:07:12.560597Z"
    }
   },
   "outputs": [
    {
     "name": "stdout",
     "output_type": "stream",
     "text": [
      "len(Dfiltered)=2\n",
      "dict(d.tags)={'city': 'Barcelona', 'phone': 'None'}\n",
      "dict(d.tags)={'phone': 'None', 'city': 'Brussels'}\n"
     ]
    }
   ],
   "source": [
    "regexes = {'city':r'B.*', 'phone':'None' }\n",
    "Dfiltered = DM.find(regexes=regexes, traversal_paths=['r'],\n",
    "                    operator='==',value=2)\n",
    "print(f'len(Dfiltered)={len(Dfiltered)}')\n",
    "for d in Dfiltered:\n",
    "    print(f'dict(d.tags)={dict(d.tags)}')"
   ]
  },
  {
   "cell_type": "code",
   "execution_count": null,
   "metadata": {},
   "outputs": [],
   "source": []
  },
  {
   "cell_type": "code",
   "execution_count": null,
   "metadata": {},
   "outputs": [],
   "source": []
  },
  {
   "cell_type": "code",
   "execution_count": null,
   "metadata": {},
   "outputs": [],
   "source": []
  },
  {
   "cell_type": "code",
   "execution_count": null,
   "metadata": {},
   "outputs": [],
   "source": []
  },
  {
   "cell_type": "code",
   "execution_count": null,
   "metadata": {},
   "outputs": [],
   "source": []
  },
  {
   "cell_type": "code",
   "execution_count": null,
   "metadata": {},
   "outputs": [],
   "source": []
  },
  {
   "cell_type": "code",
   "execution_count": null,
   "metadata": {},
   "outputs": [],
   "source": []
  }
 ],
 "metadata": {
  "kernelspec": {
   "display_name": "Python 3",
   "language": "python",
   "name": "python3"
  },
  "language_info": {
   "codemirror_mode": {
    "name": "ipython",
    "version": 3
   },
   "file_extension": ".py",
   "mimetype": "text/x-python",
   "name": "python",
   "nbconvert_exporter": "python",
   "pygments_lexer": "ipython3",
   "version": "3.8.5"
  },
  "toc": {
   "base_numbering": 1,
   "nav_menu": {},
   "number_sections": true,
   "sideBar": true,
   "skip_h1_title": false,
   "title_cell": "Table of Contents",
   "title_sidebar": "Contents",
   "toc_cell": true,
   "toc_position": {},
   "toc_section_display": true,
   "toc_window_display": true
  },
  "varInspector": {
   "cols": {
    "lenName": 16,
    "lenType": 16,
    "lenVar": 40
   },
   "kernels_config": {
    "python": {
     "delete_cmd_postfix": "",
     "delete_cmd_prefix": "del ",
     "library": "var_list.py",
     "varRefreshCmd": "print(var_dic_list())"
    },
    "r": {
     "delete_cmd_postfix": ") ",
     "delete_cmd_prefix": "rm(",
     "library": "var_list.r",
     "varRefreshCmd": "cat(var_dic_list()) "
    }
   },
   "types_to_exclude": [
    "module",
    "function",
    "builtin_function_or_method",
    "instance",
    "_Feature"
   ],
   "window_display": false
  }
 },
 "nbformat": 4,
 "nbformat_minor": 4
}
