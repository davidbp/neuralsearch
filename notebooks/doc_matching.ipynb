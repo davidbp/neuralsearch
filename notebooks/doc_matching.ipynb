{
 "cells": [
  {
   "cell_type": "markdown",
   "metadata": {
    "toc": true
   },
   "source": [
    "<h1>Table of Contents<span class=\"tocSkip\"></span></h1>\n",
    "<div class=\"toc\"><ul class=\"toc-item\"><li><ul class=\"toc-item\"><li><span><a href=\"#_compute_dist-Euclidean-distance\" data-toc-modified-id=\"_compute_dist-Euclidean-distance-0.1\"><span class=\"toc-item-num\">0.1&nbsp;&nbsp;</span>_compute_dist Euclidean distance</a></span></li></ul></li><li><span><a href=\"#Computing-matches-Euclidean-similarity\" data-toc-modified-id=\"Computing-matches-Euclidean-similarity-1\"><span class=\"toc-item-num\">1&nbsp;&nbsp;</span>Computing matches Euclidean similarity</a></span></li><li><span><a href=\"#Computing-matches-Euclidean-distance\" data-toc-modified-id=\"Computing-matches-Euclidean-distance-2\"><span class=\"toc-item-num\">2&nbsp;&nbsp;</span>Computing matches Euclidean distance</a></span></li><li><span><a href=\"#Computing-matches-Cosine-similarity\" data-toc-modified-id=\"Computing-matches-Cosine-similarity-3\"><span class=\"toc-item-num\">3&nbsp;&nbsp;</span>Computing matches Cosine similarity</a></span></li></ul></div>"
   ]
  },
  {
   "cell_type": "code",
   "execution_count": 9,
   "metadata": {
    "ExecuteTime": {
     "end_time": "2021-07-19T09:34:50.476107Z",
     "start_time": "2021-07-19T09:34:50.473980Z"
    }
   },
   "outputs": [],
   "source": [
    "from jina import Document, DocumentArray\n",
    "import numpy as np\n",
    "from jina.types.arrays.document import cosine_distance\n",
    "from jina.types.arrays.document import euclidean_distance_squared\n",
    "from jina.types.arrays.document import compute_distances"
   ]
  },
  {
   "cell_type": "code",
   "execution_count": 10,
   "metadata": {
    "ExecuteTime": {
     "end_time": "2021-07-19T09:34:50.778648Z",
     "start_time": "2021-07-19T09:34:50.777008Z"
    }
   },
   "outputs": [],
   "source": [
    "#%load_ext autoreload\n",
    "#%autoreload 2"
   ]
  },
  {
   "cell_type": "code",
   "execution_count": 11,
   "metadata": {
    "ExecuteTime": {
     "end_time": "2021-07-19T09:34:51.050930Z",
     "start_time": "2021-07-19T09:34:51.046718Z"
    }
   },
   "outputs": [],
   "source": [
    "n_features = 100\n",
    "\n",
    "def get_document_arrays():\n",
    "    d1 = Document(embedding=np.array([0,0,0,0,0]))\n",
    "    d2 = Document(embedding=np.array([1,0,0,0,0]))\n",
    "    d3 = Document(embedding=np.array([1,1,1,1,0]))\n",
    "    d4 = Document(embedding=np.array([1,2,2,1,0]))\n",
    "\n",
    "    d1_m = Document(embedding=np.array([0,0.1,0,0,0]))\n",
    "    d2_m = Document(embedding=np.array([1,0.1,0,0,0]))\n",
    "    d3_m = Document(embedding=np.array([1,1.2,1,1,0]))\n",
    "    d4_m = Document(embedding=np.array([1,2.2,2,1,0]))\n",
    "    d5_m = Document(embedding=np.array([4,5.2,2,1,0]))\n",
    "\n",
    "    D  = DocumentArray([d1,d2,d3,d4])\n",
    "    D2 = DocumentArray([d1_m, d2_m, d3_m, d4_m, d5_m])\n",
    "    return D, D2"
   ]
  },
  {
   "cell_type": "code",
   "execution_count": 12,
   "metadata": {
    "ExecuteTime": {
     "end_time": "2021-07-19T09:34:51.184352Z",
     "start_time": "2021-07-19T09:34:51.181514Z"
    }
   },
   "outputs": [],
   "source": [
    "D, D2 = get_document_arrays()"
   ]
  },
  {
   "cell_type": "code",
   "execution_count": 13,
   "metadata": {
    "ExecuteTime": {
     "end_time": "2021-07-19T09:34:51.355013Z",
     "start_time": "2021-07-19T09:34:51.351418Z"
    }
   },
   "outputs": [
    {
     "data": {
      "text/plain": [
       "array([[0, 1, 2, 3, 4],\n",
       "       [1, 2, 3, 4, 0],\n",
       "       [4, 0, 1, 2, 3],\n",
       "       [4, 0, 3, 1, 2]])"
      ]
     },
     "execution_count": 13,
     "metadata": {},
     "output_type": "execute_result"
    }
   ],
   "source": [
    "E = np.stack(D.get_attributes('embedding'))\n",
    "E.argsort(axis=1)"
   ]
  },
  {
   "cell_type": "markdown",
   "metadata": {},
   "source": [
    "#### _compute_dist Euclidean distance"
   ]
  },
  {
   "cell_type": "code",
   "execution_count": 16,
   "metadata": {
    "ExecuteTime": {
     "end_time": "2021-07-19T09:35:02.596567Z",
     "start_time": "2021-07-19T09:35:02.592698Z"
    }
   },
   "outputs": [
    {
     "data": {
      "text/plain": [
       "array([[0.1       , 1.00498756],\n",
       "       [0.1       , 1.00498756],\n",
       "       [0.2       , 1.56204994],\n",
       "       [0.2       , 1.28062485]])"
      ]
     },
     "execution_count": 16,
     "metadata": {},
     "output_type": "execute_result"
    }
   ],
   "source": [
    "X = np.stack(D.get_attributes('embedding'))\n",
    "Y = np.stack(D2.get_attributes('embedding'))\n",
    "\n",
    "dists = compute_distances(X, Y, 'euclidean')\n",
    "idx, dist = D._get_sorted_smallest_k(dists, 2)\n",
    "dist"
   ]
  },
  {
   "cell_type": "code",
   "execution_count": 18,
   "metadata": {
    "ExecuteTime": {
     "end_time": "2021-07-19T09:35:09.320673Z",
     "start_time": "2021-07-19T09:35:09.317220Z"
    }
   },
   "outputs": [
    {
     "data": {
      "text/plain": [
       "array([[0.1       , 1.00498756, 2.10713075],\n",
       "       [0.1       , 1.00498756, 1.8547237 ],\n",
       "       [0.2       , 1.56204994, 1.67630546],\n",
       "       [0.2       , 1.28062485, 2.93428015]])"
      ]
     },
     "execution_count": 18,
     "metadata": {},
     "output_type": "execute_result"
    }
   ],
   "source": [
    "idx, dist = D._get_sorted_smallest_k(dists,3)\n",
    "dist"
   ]
  },
  {
   "cell_type": "markdown",
   "metadata": {},
   "source": [
    "### Computing matches Euclidean similarity\n",
    "\n",
    "By default `D.match` uses a similarity metric.\n",
    "\n",
    "This means matched results are ordered from highest to lowest"
   ]
  },
  {
   "cell_type": "code",
   "execution_count": 52,
   "metadata": {
    "ExecuteTime": {
     "end_time": "2021-07-19T09:39:27.660268Z",
     "start_time": "2021-07-19T09:39:27.654291Z"
    }
   },
   "outputs": [],
   "source": [
    "D, D2 = get_document_arrays()\n",
    "D.match(D2, metric='euclidean', limit=3)"
   ]
  },
  {
   "cell_type": "code",
   "execution_count": 53,
   "metadata": {
    "ExecuteTime": {
     "end_time": "2021-07-19T09:39:27.827467Z",
     "start_time": "2021-07-19T09:39:27.823561Z"
    }
   },
   "outputs": [
    {
     "name": "stdout",
     "output_type": "stream",
     "text": [
      "query=[1 1 1 1 0]\n",
      "[1.  1.2 1.  1.  0. ] score = 0.8333333134651184\n",
      "[1.  2.2 2.  1.  0. ] score = 0.39031246304512024\n",
      "[1.  0.1 0.  0.  0. ] score = 0.3736494183540344\n"
     ]
    }
   ],
   "source": [
    "print(f'query={D[2].embedding}')\n",
    "for m in D[2].matches:\n",
    "    print(m.embedding, 'score =', m.scores['euclidean'].value)"
   ]
  },
  {
   "cell_type": "code",
   "execution_count": 54,
   "metadata": {
    "ExecuteTime": {
     "end_time": "2021-07-19T09:39:27.985551Z",
     "start_time": "2021-07-19T09:39:27.980618Z"
    }
   },
   "outputs": [
    {
     "name": "stdout",
     "output_type": "stream",
     "text": [
      "query=[1 0 0 0 0]\n",
      "[1.  0.1 0.  0.  0. ] score = 0.9090909361839294\n",
      "[0.  0.1 0.  0.  0. ] score = 0.49875620007514954\n",
      "[1.  1.2 1.  1.  0. ] score = 0.35029658675193787\n"
     ]
    }
   ],
   "source": [
    "print(f'query={D[1].embedding}')\n",
    "for m in D[1].matches:\n",
    "    print(m.embedding, 'score =', m.scores['euclidean'].value)"
   ]
  },
  {
   "cell_type": "markdown",
   "metadata": {},
   "source": [
    "### Computing matches Euclidean distance\n",
    "\n",
    "If we want to use a distance we need to specify **`is_distance=True`**.\n",
    "\n",
    "If we do so we should get results ordered from lowest to highest"
   ]
  },
  {
   "cell_type": "code",
   "execution_count": 117,
   "metadata": {
    "ExecuteTime": {
     "end_time": "2021-07-19T09:58:40.893360Z",
     "start_time": "2021-07-19T09:58:40.887045Z"
    },
    "slideshow": {
     "slide_type": "slide"
    }
   },
   "outputs": [],
   "source": [
    "D, D2 = get_document_arrays()\n",
    "D.match(D2, metric='euclidean', limit=3, is_distance=True)"
   ]
  },
  {
   "cell_type": "code",
   "execution_count": 118,
   "metadata": {
    "ExecuteTime": {
     "end_time": "2021-07-19T09:58:41.283735Z",
     "start_time": "2021-07-19T09:58:41.279803Z"
    }
   },
   "outputs": [
    {
     "name": "stdout",
     "output_type": "stream",
     "text": [
      "query=[1 1 1 1 0]\n",
      "[1.  1.2 1.  1.  0. ] distance = 0.20000000298023224\n",
      "[1.  2.2 2.  1.  0. ] distance = 1.5620499849319458\n",
      "[1.  0.1 0.  0.  0. ] distance = 1.6763054132461548\n"
     ]
    }
   ],
   "source": [
    "print(f'query={D[2].embedding}')\n",
    "for m in D[2].matches:\n",
    "    print(m.embedding, 'distance =', m.scores['euclidean'].value)"
   ]
  },
  {
   "cell_type": "markdown",
   "metadata": {},
   "source": [
    "### Computing matches Cosine similarity"
   ]
  },
  {
   "cell_type": "code",
   "execution_count": 102,
   "metadata": {
    "ExecuteTime": {
     "end_time": "2021-07-19T09:48:53.645251Z",
     "start_time": "2021-07-19T09:48:53.639110Z"
    }
   },
   "outputs": [],
   "source": [
    "D, D2 = get_document_arrays()\n",
    "D.match(D2, metric='cosine', limit=3)"
   ]
  },
  {
   "cell_type": "code",
   "execution_count": 103,
   "metadata": {
    "ExecuteTime": {
     "end_time": "2021-07-19T09:48:54.238596Z",
     "start_time": "2021-07-19T09:48:54.234965Z"
    }
   },
   "outputs": [
    {
     "name": "stdout",
     "output_type": "stream",
     "text": [
      "query=[1 1 1 1 0]\n",
      "[1.  1.2 1.  1.  0. ] dist= 0.9966158866882324\n",
      "[1.  2.2 2.  1.  0. ] dist= 0.9415579438209534\n",
      "[4.  5.2 2.  1.  0. ] dist= 0.8800925612449646\n"
     ]
    }
   ],
   "source": [
    "print(f'query={D[2].embedding}')\n",
    "for m in D[2].matches:\n",
    "    print(m.embedding, 'dist=', m.scores['cosine'].value)"
   ]
  },
  {
   "cell_type": "code",
   "execution_count": 113,
   "metadata": {
    "ExecuteTime": {
     "end_time": "2021-07-19T09:49:32.669300Z",
     "start_time": "2021-07-19T09:49:32.666062Z"
    }
   },
   "outputs": [
    {
     "data": {
      "text/plain": [
       "True"
      ]
     },
     "execution_count": 113,
     "metadata": {},
     "output_type": "execute_result"
    }
   ],
   "source": [
    "scores = [m.scores['cosine'].value for m in D[2].matches]\n",
    "scores ==sorted(scores)[::-1]"
   ]
  },
  {
   "cell_type": "markdown",
   "metadata": {},
   "source": [
    "If we want cosine distance we need to specify `is_distance=True`"
   ]
  },
  {
   "cell_type": "code",
   "execution_count": 114,
   "metadata": {
    "ExecuteTime": {
     "end_time": "2021-07-19T09:49:34.471643Z",
     "start_time": "2021-07-19T09:49:34.465673Z"
    }
   },
   "outputs": [],
   "source": [
    "D, D2 = get_document_arrays()\n",
    "D.match(D2, metric='cosine', limit=3, is_distance=True)"
   ]
  },
  {
   "cell_type": "code",
   "execution_count": 115,
   "metadata": {
    "ExecuteTime": {
     "end_time": "2021-07-19T09:49:34.604107Z",
     "start_time": "2021-07-19T09:49:34.600293Z"
    }
   },
   "outputs": [
    {
     "name": "stdout",
     "output_type": "stream",
     "text": [
      "query=[1 1 1 1 0]\n",
      "[1.  1.2 1.  1.  0. ] dist= 0.0033841044642031193\n",
      "[1.  2.2 2.  1.  0. ] dist= 0.05844205245375633\n",
      "[4.  5.2 2.  1.  0. ] dist= 0.11990746855735779\n"
     ]
    }
   ],
   "source": [
    "print(f'query={D[2].embedding}')\n",
    "for m in D[2].matches:\n",
    "    print(m.embedding, 'dist=', m.scores['cosine'].value)"
   ]
  },
  {
   "cell_type": "code",
   "execution_count": 116,
   "metadata": {
    "ExecuteTime": {
     "end_time": "2021-07-19T09:49:34.750241Z",
     "start_time": "2021-07-19T09:49:34.747117Z"
    }
   },
   "outputs": [
    {
     "data": {
      "text/plain": [
       "True"
      ]
     },
     "execution_count": 116,
     "metadata": {},
     "output_type": "execute_result"
    }
   ],
   "source": [
    "distances = [m.scores['cosine'].value for m in D[2].matches]\n",
    "distances ==sorted(distances)"
   ]
  },
  {
   "cell_type": "code",
   "execution_count": null,
   "metadata": {},
   "outputs": [],
   "source": []
  },
  {
   "cell_type": "code",
   "execution_count": null,
   "metadata": {},
   "outputs": [],
   "source": []
  }
 ],
 "metadata": {
  "kernelspec": {
   "display_name": "Python 3",
   "language": "python",
   "name": "python3"
  },
  "language_info": {
   "codemirror_mode": {
    "name": "ipython",
    "version": 3
   },
   "file_extension": ".py",
   "mimetype": "text/x-python",
   "name": "python",
   "nbconvert_exporter": "python",
   "pygments_lexer": "ipython3",
   "version": "3.8.5"
  },
  "toc": {
   "base_numbering": 1,
   "nav_menu": {},
   "number_sections": true,
   "sideBar": true,
   "skip_h1_title": false,
   "title_cell": "Table of Contents",
   "title_sidebar": "Contents",
   "toc_cell": true,
   "toc_position": {},
   "toc_section_display": true,
   "toc_window_display": true
  },
  "varInspector": {
   "cols": {
    "lenName": 16,
    "lenType": 16,
    "lenVar": 40
   },
   "kernels_config": {
    "python": {
     "delete_cmd_postfix": "",
     "delete_cmd_prefix": "del ",
     "library": "var_list.py",
     "varRefreshCmd": "print(var_dic_list())"
    },
    "r": {
     "delete_cmd_postfix": ") ",
     "delete_cmd_prefix": "rm(",
     "library": "var_list.r",
     "varRefreshCmd": "cat(var_dic_list()) "
    }
   },
   "types_to_exclude": [
    "module",
    "function",
    "builtin_function_or_method",
    "instance",
    "_Feature"
   ],
   "window_display": false
  }
 },
 "nbformat": 4,
 "nbformat_minor": 5
}
