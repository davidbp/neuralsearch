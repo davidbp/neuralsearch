{
 "cells": [
  {
   "cell_type": "markdown",
   "metadata": {
    "toc": true
   },
   "source": [
    "<h1>Table of Contents<span class=\"tocSkip\"></span></h1>\n",
    "<div class=\"toc\"><ul class=\"toc-item\"><li><ul class=\"toc-item\"><li><span><a href=\"#Batched-.match-operation\" data-toc-modified-id=\"Batched-.match-operation-0.1\"><span class=\"toc-item-num\">0.1&nbsp;&nbsp;</span>Batched <code>.match</code> operation</a></span></li><li><span><a href=\"#More-examples\" data-toc-modified-id=\"More-examples-0.2\"><span class=\"toc-item-num\">0.2&nbsp;&nbsp;</span>More examples</a></span><ul class=\"toc-item\"><li><span><a href=\"#Computing-matches-Euclidean-similarity\" data-toc-modified-id=\"Computing-matches-Euclidean-similarity-0.2.1\"><span class=\"toc-item-num\">0.2.1&nbsp;&nbsp;</span>Computing matches Euclidean similarity</a></span></li><li><span><a href=\"#Computing-matches-Euclidean-distance\" data-toc-modified-id=\"Computing-matches-Euclidean-distance-0.2.2\"><span class=\"toc-item-num\">0.2.2&nbsp;&nbsp;</span>Computing matches Euclidean distance</a></span></li><li><span><a href=\"#Computing-matches-Cosine-similarity\" data-toc-modified-id=\"Computing-matches-Cosine-similarity-0.2.3\"><span class=\"toc-item-num\">0.2.3&nbsp;&nbsp;</span>Computing matches Cosine similarity</a></span></li></ul></li><li><span><a href=\"#test-distances-with-scipy\" data-toc-modified-id=\"test-distances-with-scipy-0.3\"><span class=\"toc-item-num\">0.3&nbsp;&nbsp;</span>test distances with scipy</a></span></li><li><span><a href=\"#Document-Memmap\" data-toc-modified-id=\"Document-Memmap-0.4\"><span class=\"toc-item-num\">0.4&nbsp;&nbsp;</span>Document Memmap</a></span><ul class=\"toc-item\"><li><span><a href=\"#Test-distances-using-memmaparrays\" data-toc-modified-id=\"Test-distances-using-memmaparrays-0.4.1\"><span class=\"toc-item-num\">0.4.1&nbsp;&nbsp;</span>Test distances using memmaparrays</a></span></li></ul></li></ul></li><li><span><a href=\"#Batching-distance-computation\" data-toc-modified-id=\"Batching-distance-computation-1\"><span class=\"toc-item-num\">1&nbsp;&nbsp;</span>Batching distance computation</a></span><ul class=\"toc-item\"><li><span><a href=\"#Expressing-the-problem\" data-toc-modified-id=\"Expressing-the-problem-1.1\"><span class=\"toc-item-num\">1.1&nbsp;&nbsp;</span>Expressing the problem</a></span></li><li><span><a href=\"#Building-the-function\" data-toc-modified-id=\"Building-the-function-1.2\"><span class=\"toc-item-num\">1.2&nbsp;&nbsp;</span>Building the function</a></span></li><li><span><a href=\"#Adapting-batch-funtion-to-memmap-arrays\" data-toc-modified-id=\"Adapting-batch-funtion-to-memmap-arrays-1.3\"><span class=\"toc-item-num\">1.3&nbsp;&nbsp;</span>Adapting batch funtion to memmap arrays</a></span></li><li><span><a href=\"#Benchmark-selection-of-best-values-from-a-distance-matrix\" data-toc-modified-id=\"Benchmark-selection-of-best-values-from-a-distance-matrix-1.4\"><span class=\"toc-item-num\">1.4&nbsp;&nbsp;</span>Benchmark selection of best values from a distance matrix</a></span></li></ul></li></ul></div>"
   ]
  },
  {
   "cell_type": "code",
   "execution_count": 1,
   "metadata": {
    "ExecuteTime": {
     "end_time": "2021-08-06T11:40:53.914465Z",
     "start_time": "2021-08-06T11:40:53.892089Z"
    }
   },
   "outputs": [],
   "source": [
    "%load_ext autoreload\n",
    "%autoreload 2"
   ]
  },
  {
   "cell_type": "code",
   "execution_count": 78,
   "metadata": {
    "ExecuteTime": {
     "end_time": "2021-08-06T14:58:02.529266Z",
     "start_time": "2021-08-06T14:58:02.490645Z"
    }
   },
   "outputs": [
    {
     "name": "stdout",
     "output_type": "stream",
     "text": [
      "query emb = [1 1 1 1 0]\n",
      "match emb = [1.  1.2 1.  1.  0. ] score = 0.20000000298023224\n",
      "match emb = [1.  2.2 2.  1.  0. ] score = 1.5620499849319458\n",
      "match emb = [1.  0.1 0.  0.  0. ] score = 1.6763054132461548\n"
     ]
    }
   ],
   "source": [
    "from jina import Document, DocumentArray\n",
    "import numpy as np\n",
    "\n",
    "d1 = Document(embedding=np.array([0,0,0,0,1]))\n",
    "d2 = Document(embedding=np.array([1,0,0,0,0]))\n",
    "d3 = Document(embedding=np.array([1,1,1,1,0]))\n",
    "d4 = Document(embedding=np.array([1,2,2,1,0]))\n",
    "\n",
    "d1_m = Document(embedding=np.array([0,0.1,0,0,0]))\n",
    "d2_m = Document(embedding=np.array([1,0.1,0,0,0]))\n",
    "d3_m = Document(embedding=np.array([1,1.2,1,1,0]))\n",
    "d4_m = Document(embedding=np.array([1,2.2,2,1,0]))\n",
    "d5_m = Document(embedding=np.array([4,5.2,2,1,0]))\n",
    "\n",
    "da_1 = DocumentArray([d1, d2, d3, d4])\n",
    "da_2 = DocumentArray([d1_m, d2_m, d3_m, d4_m, d5_m])\n",
    "\n",
    "\n",
    "da_1.match(da_2, metric='euclidean',  limit=3)\n",
    "query = da_1[2]\n",
    "print(f'query emb = {query.embedding}')\n",
    "for m in query.matches:\n",
    "    print('match emb =', m.embedding, 'score =', m.scores['euclidean'].value)"
   ]
  },
  {
   "cell_type": "code",
   "execution_count": 4,
   "metadata": {
    "ExecuteTime": {
     "end_time": "2021-08-06T11:41:14.104157Z",
     "start_time": "2021-08-06T11:41:14.057127Z"
    },
    "scrolled": true
   },
   "outputs": [
    {
     "ename": "TypeError",
     "evalue": "matrix is not square",
     "output_type": "error",
     "traceback": [
      "\u001b[0;31m---------------------------------------------------------------------------\u001b[0m",
      "\u001b[0;31mTypeError\u001b[0m                                 Traceback (most recent call last)",
      "\u001b[0;32m<ipython-input-4-d622ce7db18a>\u001b[0m in \u001b[0;36m<module>\u001b[0;34m\u001b[0m\n\u001b[1;32m     16\u001b[0m \u001b[0mda_2\u001b[0m \u001b[0;34m=\u001b[0m \u001b[0mDocumentArray\u001b[0m\u001b[0;34m(\u001b[0m\u001b[0;34m[\u001b[0m\u001b[0md1_m\u001b[0m\u001b[0;34m,\u001b[0m \u001b[0md2_m\u001b[0m\u001b[0;34m,\u001b[0m \u001b[0md3_m\u001b[0m\u001b[0;34m,\u001b[0m \u001b[0md4_m\u001b[0m\u001b[0;34m,\u001b[0m \u001b[0md5_m\u001b[0m\u001b[0;34m]\u001b[0m\u001b[0;34m)\u001b[0m\u001b[0;34m\u001b[0m\u001b[0;34m\u001b[0m\u001b[0m\n\u001b[1;32m     17\u001b[0m \u001b[0;34m\u001b[0m\u001b[0m\n\u001b[0;32m---> 18\u001b[0;31m \u001b[0mda_1\u001b[0m\u001b[0;34m.\u001b[0m\u001b[0mmatch\u001b[0m\u001b[0;34m(\u001b[0m\u001b[0mda_2\u001b[0m\u001b[0;34m,\u001b[0m \u001b[0mmetric\u001b[0m\u001b[0;34m=\u001b[0m\u001b[0;34m'euclidean'\u001b[0m\u001b[0;34m,\u001b[0m \u001b[0mlimit\u001b[0m\u001b[0;34m=\u001b[0m\u001b[0;36m3\u001b[0m\u001b[0;34m)\u001b[0m\u001b[0;34m\u001b[0m\u001b[0;34m\u001b[0m\u001b[0m\n\u001b[0m\u001b[1;32m     19\u001b[0m \u001b[0mquery\u001b[0m \u001b[0;34m=\u001b[0m \u001b[0mda_1\u001b[0m\u001b[0;34m[\u001b[0m\u001b[0;36m2\u001b[0m\u001b[0;34m]\u001b[0m\u001b[0;34m\u001b[0m\u001b[0;34m\u001b[0m\u001b[0m\n\u001b[1;32m     20\u001b[0m \u001b[0mprint\u001b[0m\u001b[0;34m(\u001b[0m\u001b[0;34mf'query emb = {query.embedding.todense()}'\u001b[0m\u001b[0;34m)\u001b[0m\u001b[0;34m\u001b[0m\u001b[0;34m\u001b[0m\u001b[0m\n",
      "\u001b[0;32m~/Documents/git_stuff/jina/jina/types/arrays/neural_ops.py\u001b[0m in \u001b[0;36mmatch\u001b[0;34m(self, darray, metric, limit, normalization, use_scipy, metric_name, batch_size)\u001b[0m\n\u001b[1;32m     76\u001b[0m             \u001b[0mself\u001b[0m\u001b[0;34m.\u001b[0m\u001b[0m_match_online\u001b[0m\u001b[0;34m(\u001b[0m\u001b[0mdarray\u001b[0m\u001b[0;34m,\u001b[0m \u001b[0mcdist\u001b[0m\u001b[0;34m,\u001b[0m \u001b[0mlimit\u001b[0m\u001b[0;34m,\u001b[0m \u001b[0muse_scipy\u001b[0m\u001b[0;34m,\u001b[0m \u001b[0mmetric_name\u001b[0m\u001b[0;34m,\u001b[0m \u001b[0mbatch_size\u001b[0m\u001b[0;34m)\u001b[0m\u001b[0;34m\u001b[0m\u001b[0;34m\u001b[0m\u001b[0m\n\u001b[1;32m     77\u001b[0m         \u001b[0;32melse\u001b[0m\u001b[0;34m:\u001b[0m\u001b[0;34m\u001b[0m\u001b[0;34m\u001b[0m\u001b[0m\n\u001b[0;32m---> 78\u001b[0;31m             \u001b[0mself\u001b[0m\u001b[0;34m.\u001b[0m\u001b[0m_match\u001b[0m\u001b[0;34m(\u001b[0m\u001b[0mdarray\u001b[0m\u001b[0;34m,\u001b[0m \u001b[0mcdist\u001b[0m\u001b[0;34m,\u001b[0m \u001b[0mlimit\u001b[0m\u001b[0;34m,\u001b[0m \u001b[0mnormalization\u001b[0m\u001b[0;34m,\u001b[0m \u001b[0muse_scipy\u001b[0m\u001b[0;34m,\u001b[0m \u001b[0mmetric_name\u001b[0m\u001b[0;34m)\u001b[0m\u001b[0;34m\u001b[0m\u001b[0;34m\u001b[0m\u001b[0m\n\u001b[0m\u001b[1;32m     79\u001b[0m \u001b[0;34m\u001b[0m\u001b[0m\n\u001b[1;32m     80\u001b[0m     \u001b[0;32mdef\u001b[0m \u001b[0m_match\u001b[0m\u001b[0;34m(\u001b[0m\u001b[0mself\u001b[0m\u001b[0;34m,\u001b[0m \u001b[0mdarray\u001b[0m\u001b[0;34m,\u001b[0m \u001b[0mcdist\u001b[0m\u001b[0;34m,\u001b[0m \u001b[0mlimit\u001b[0m\u001b[0;34m,\u001b[0m \u001b[0mnormalization\u001b[0m\u001b[0;34m,\u001b[0m \u001b[0muse_scipy\u001b[0m\u001b[0;34m,\u001b[0m \u001b[0mmetric_name\u001b[0m\u001b[0;34m)\u001b[0m\u001b[0;34m:\u001b[0m\u001b[0;34m\u001b[0m\u001b[0;34m\u001b[0m\u001b[0m\n",
      "\u001b[0;32m~/Documents/git_stuff/jina/jina/types/arrays/neural_ops.py\u001b[0m in \u001b[0;36m_match\u001b[0;34m(self, darray, cdist, limit, normalization, use_scipy, metric_name)\u001b[0m\n\u001b[1;32m     96\u001b[0m         \u001b[0my_mat\u001b[0m \u001b[0;34m=\u001b[0m \u001b[0mnp\u001b[0m\u001b[0;34m.\u001b[0m\u001b[0mstack\u001b[0m\u001b[0;34m(\u001b[0m\u001b[0mdarray\u001b[0m\u001b[0;34m.\u001b[0m\u001b[0mget_attributes\u001b[0m\u001b[0;34m(\u001b[0m\u001b[0;34m'embedding'\u001b[0m\u001b[0;34m)\u001b[0m\u001b[0;34m)\u001b[0m\u001b[0;34m\u001b[0m\u001b[0;34m\u001b[0m\u001b[0m\n\u001b[1;32m     97\u001b[0m \u001b[0;34m\u001b[0m\u001b[0m\n\u001b[0;32m---> 98\u001b[0;31m         \u001b[0mdists\u001b[0m \u001b[0;34m=\u001b[0m \u001b[0mcdist\u001b[0m\u001b[0;34m(\u001b[0m\u001b[0mx_mat\u001b[0m\u001b[0;34m,\u001b[0m \u001b[0my_mat\u001b[0m\u001b[0;34m,\u001b[0m \u001b[0mmetric_name\u001b[0m\u001b[0;34m)\u001b[0m\u001b[0;34m\u001b[0m\u001b[0;34m\u001b[0m\u001b[0m\n\u001b[0m\u001b[1;32m     99\u001b[0m         \u001b[0mdist\u001b[0m\u001b[0;34m,\u001b[0m \u001b[0midx\u001b[0m \u001b[0;34m=\u001b[0m \u001b[0mtop_k\u001b[0m\u001b[0;34m(\u001b[0m\u001b[0mdists\u001b[0m\u001b[0;34m,\u001b[0m \u001b[0mmin\u001b[0m\u001b[0;34m(\u001b[0m\u001b[0mlimit\u001b[0m\u001b[0;34m,\u001b[0m \u001b[0mlen\u001b[0m\u001b[0;34m(\u001b[0m\u001b[0mdarray\u001b[0m\u001b[0;34m)\u001b[0m\u001b[0;34m)\u001b[0m\u001b[0;34m,\u001b[0m \u001b[0mdescending\u001b[0m\u001b[0;34m=\u001b[0m\u001b[0;32mFalse\u001b[0m\u001b[0;34m)\u001b[0m\u001b[0;34m\u001b[0m\u001b[0;34m\u001b[0m\u001b[0m\n\u001b[1;32m    100\u001b[0m         \u001b[0;32mif\u001b[0m \u001b[0mnormalization\u001b[0m \u001b[0;32mis\u001b[0m \u001b[0;32mnot\u001b[0m \u001b[0;32mNone\u001b[0m\u001b[0;34m:\u001b[0m\u001b[0;34m\u001b[0m\u001b[0;34m\u001b[0m\u001b[0m\n",
      "\u001b[0;32m~/Documents/git_stuff/jina/jina/math/distance.py\u001b[0m in \u001b[0;36mcdist\u001b[0;34m(x_mat, y_mat, metric)\u001b[0m\n\u001b[1;32m     27\u001b[0m         \u001b[0mdists\u001b[0m \u001b[0;34m=\u001b[0m \u001b[0msqeuclidean\u001b[0m\u001b[0;34m(\u001b[0m\u001b[0mx_mat\u001b[0m\u001b[0;34m,\u001b[0m \u001b[0my_mat\u001b[0m\u001b[0;34m)\u001b[0m\u001b[0;34m\u001b[0m\u001b[0;34m\u001b[0m\u001b[0m\n\u001b[1;32m     28\u001b[0m     \u001b[0;32melif\u001b[0m \u001b[0mmetric\u001b[0m \u001b[0;34m==\u001b[0m \u001b[0;34m'euclidean'\u001b[0m\u001b[0;34m:\u001b[0m\u001b[0;34m\u001b[0m\u001b[0;34m\u001b[0m\u001b[0m\n\u001b[0;32m---> 29\u001b[0;31m         \u001b[0mdists\u001b[0m \u001b[0;34m=\u001b[0m \u001b[0mnp\u001b[0m\u001b[0;34m.\u001b[0m\u001b[0msqrt\u001b[0m\u001b[0;34m(\u001b[0m\u001b[0msqeuclidean\u001b[0m\u001b[0;34m(\u001b[0m\u001b[0mx_mat\u001b[0m\u001b[0;34m,\u001b[0m \u001b[0my_mat\u001b[0m\u001b[0;34m)\u001b[0m\u001b[0;34m)\u001b[0m\u001b[0;34m\u001b[0m\u001b[0;34m\u001b[0m\u001b[0m\n\u001b[0m\u001b[1;32m     30\u001b[0m     \u001b[0;32melse\u001b[0m\u001b[0;34m:\u001b[0m\u001b[0;34m\u001b[0m\u001b[0;34m\u001b[0m\u001b[0m\n\u001b[1;32m     31\u001b[0m         \u001b[0;32mraise\u001b[0m \u001b[0mValueError\u001b[0m\u001b[0;34m(\u001b[0m\u001b[0;34mf'Input metric={metric} not valid'\u001b[0m\u001b[0;34m)\u001b[0m\u001b[0;34m\u001b[0m\u001b[0;34m\u001b[0m\u001b[0m\n",
      "\u001b[0;32m~/Documents/git_stuff/jina/jina/math/distance.py\u001b[0m in \u001b[0;36msqeuclidean\u001b[0;34m(x_mat, y_mat)\u001b[0m\n\u001b[1;32m     51\u001b[0m     \"\"\"\n\u001b[1;32m     52\u001b[0m     return (\n\u001b[0;32m---> 53\u001b[0;31m         \u001b[0mnp\u001b[0m\u001b[0;34m.\u001b[0m\u001b[0msum\u001b[0m\u001b[0;34m(\u001b[0m\u001b[0my_mat\u001b[0m \u001b[0;34m**\u001b[0m \u001b[0;36m2\u001b[0m\u001b[0;34m,\u001b[0m \u001b[0maxis\u001b[0m\u001b[0;34m=\u001b[0m\u001b[0;36m1\u001b[0m\u001b[0;34m)\u001b[0m\u001b[0;34m\u001b[0m\u001b[0;34m\u001b[0m\u001b[0m\n\u001b[0m\u001b[1;32m     54\u001b[0m         \u001b[0;34m+\u001b[0m \u001b[0mnp\u001b[0m\u001b[0;34m.\u001b[0m\u001b[0msum\u001b[0m\u001b[0;34m(\u001b[0m\u001b[0mx_mat\u001b[0m \u001b[0;34m**\u001b[0m \u001b[0;36m2\u001b[0m\u001b[0;34m,\u001b[0m \u001b[0maxis\u001b[0m\u001b[0;34m=\u001b[0m\u001b[0;36m1\u001b[0m\u001b[0;34m)\u001b[0m\u001b[0;34m[\u001b[0m\u001b[0;34m:\u001b[0m\u001b[0;34m,\u001b[0m \u001b[0mnp\u001b[0m\u001b[0;34m.\u001b[0m\u001b[0mnewaxis\u001b[0m\u001b[0;34m]\u001b[0m\u001b[0;34m\u001b[0m\u001b[0;34m\u001b[0m\u001b[0m\n\u001b[1;32m     55\u001b[0m         \u001b[0;34m-\u001b[0m \u001b[0;36m2\u001b[0m \u001b[0;34m*\u001b[0m \u001b[0mnp\u001b[0m\u001b[0;34m.\u001b[0m\u001b[0mdot\u001b[0m\u001b[0;34m(\u001b[0m\u001b[0mx_mat\u001b[0m\u001b[0;34m,\u001b[0m \u001b[0my_mat\u001b[0m\u001b[0;34m.\u001b[0m\u001b[0mT\u001b[0m\u001b[0;34m)\u001b[0m\u001b[0;34m\u001b[0m\u001b[0;34m\u001b[0m\u001b[0m\n",
      "\u001b[0;32m~/opt/anaconda3/lib/python3.8/site-packages/scipy/sparse/base.py\u001b[0m in \u001b[0;36m__pow__\u001b[0;34m(self, other)\u001b[0m\n\u001b[1;32m    652\u001b[0m     \u001b[0;32mdef\u001b[0m \u001b[0m__pow__\u001b[0m\u001b[0;34m(\u001b[0m\u001b[0mself\u001b[0m\u001b[0;34m,\u001b[0m \u001b[0mother\u001b[0m\u001b[0;34m)\u001b[0m\u001b[0;34m:\u001b[0m\u001b[0;34m\u001b[0m\u001b[0;34m\u001b[0m\u001b[0m\n\u001b[1;32m    653\u001b[0m         \u001b[0;32mif\u001b[0m \u001b[0mself\u001b[0m\u001b[0;34m.\u001b[0m\u001b[0mshape\u001b[0m\u001b[0;34m[\u001b[0m\u001b[0;36m0\u001b[0m\u001b[0;34m]\u001b[0m \u001b[0;34m!=\u001b[0m \u001b[0mself\u001b[0m\u001b[0;34m.\u001b[0m\u001b[0mshape\u001b[0m\u001b[0;34m[\u001b[0m\u001b[0;36m1\u001b[0m\u001b[0;34m]\u001b[0m\u001b[0;34m:\u001b[0m\u001b[0;34m\u001b[0m\u001b[0;34m\u001b[0m\u001b[0m\n\u001b[0;32m--> 654\u001b[0;31m             \u001b[0;32mraise\u001b[0m \u001b[0mTypeError\u001b[0m\u001b[0;34m(\u001b[0m\u001b[0;34m'matrix is not square'\u001b[0m\u001b[0;34m)\u001b[0m\u001b[0;34m\u001b[0m\u001b[0;34m\u001b[0m\u001b[0m\n\u001b[0m\u001b[1;32m    655\u001b[0m \u001b[0;34m\u001b[0m\u001b[0m\n\u001b[1;32m    656\u001b[0m         \u001b[0;32mif\u001b[0m \u001b[0misintlike\u001b[0m\u001b[0;34m(\u001b[0m\u001b[0mother\u001b[0m\u001b[0;34m)\u001b[0m\u001b[0;34m:\u001b[0m\u001b[0;34m\u001b[0m\u001b[0;34m\u001b[0m\u001b[0m\n",
      "\u001b[0;31mTypeError\u001b[0m: matrix is not square"
     ]
    }
   ],
   "source": [
    "from jina import Document, DocumentArray\n",
    "import scipy.sparse as sp\n",
    "\n",
    "d1 = Document(embedding=sp.csr_matrix([0,0,0,0,1]))\n",
    "d2 = Document(embedding=sp.csr_matrix([1,0,0,0,0]))\n",
    "d3 = Document(embedding=sp.csr_matrix([1,1,1,1,0]))\n",
    "d4 = Document(embedding=sp.csr_matrix([1,2,2,1,0]))\n",
    "\n",
    "d1_m = Document(embedding=sp.csr_matrix([0,0.1,0,0,0]))\n",
    "d2_m = Document(embedding=sp.csr_matrix([1,0.1,0,0,0]))\n",
    "d3_m = Document(embedding=sp.csr_matrix([1,1.2,1,1,0]))\n",
    "d4_m = Document(embedding=sp.csr_matrix([1,2.2,2,1,0]))\n",
    "d5_m = Document(embedding=sp.csr_matrix([4,5.2,2,1,0]))\n",
    "\n",
    "da_1 = DocumentArray([d1, d2, d3, d4])\n",
    "da_2 = DocumentArray([d1_m, d2_m, d3_m, d4_m, d5_m])\n",
    "\n",
    "da_1.match(da_2, metric='euclidean', limit=3)\n",
    "query = da_1[2]\n",
    "print(f'query emb = {query.embedding.todense()}')\n",
    "for m in query.matches:\n",
    "    print('match emb =', m.embedding.todense(), 'score =', m.scores['euclidean'].value)"
   ]
  },
  {
   "cell_type": "markdown",
   "metadata": {},
   "source": [
    "## Batched `.match` operation"
   ]
  },
  {
   "cell_type": "code",
   "execution_count": 79,
   "metadata": {
    "ExecuteTime": {
     "end_time": "2021-08-06T14:58:05.153892Z",
     "start_time": "2021-08-06T14:58:05.100971Z"
    }
   },
   "outputs": [],
   "source": [
    "from jina import Document, DocumentArray\n",
    "import numpy as np\n",
    "\n",
    "d1 = Document(embedding=np.array([0,0,0,0,1]))\n",
    "d2 = Document(embedding=np.array([1,0,0,0,0]))\n",
    "d3 = Document(embedding=np.array([1,1,1,1,0]))\n",
    "d4 = Document(embedding=np.array([1,2,2,1,0]))\n",
    "\n",
    "da_1 = DocumentArray([d1, d2, d3, d4])\n",
    "\n",
    "np.random.seed(1234)\n",
    "x_mat = np.random.random((1000,5))\n",
    "da_2 = DocumentArray([Document(embedding=x) for x in x_mat])"
   ]
  },
  {
   "cell_type": "code",
   "execution_count": 83,
   "metadata": {
    "ExecuteTime": {
     "end_time": "2021-08-06T14:59:04.827748Z",
     "start_time": "2021-08-06T14:59:04.783363Z"
    }
   },
   "outputs": [
    {
     "name": "stdout",
     "output_type": "stream",
     "text": [
      "query emb = [1 1 1 1 0]\n",
      "match emb = [0.938 0.939 0.745 0.911 0.237] score = 0.37\n",
      "match emb = [0.606 0.965 0.968 0.93  0.185] score = 0.443\n",
      "match emb = [0.965 0.804 0.866 0.965 0.383] score = 0.454\n"
     ]
    }
   ],
   "source": [
    "da_1.match(da_2, metric='euclidean',  limit=3)\n",
    "query = da_1[2]\n",
    "print(f'query emb = {query.embedding}')\n",
    "for m in query.matches:\n",
    "    print('match emb =', np.round(m.embedding,3), 'score =', round(m.scores['euclidean'].value,3))"
   ]
  },
  {
   "cell_type": "code",
   "execution_count": 88,
   "metadata": {
    "ExecuteTime": {
     "end_time": "2021-08-06T14:59:16.775766Z",
     "start_time": "2021-08-06T14:59:16.730270Z"
    },
    "code_folding": []
   },
   "outputs": [
    {
     "name": "stdout",
     "output_type": "stream",
     "text": [
      "query emb = [1 1 1 1 0]\n",
      "match emb = [0.938 0.939 0.745 0.911 0.237] score = 0.37\n",
      "match emb = [0.606 0.965 0.968 0.93  0.185] score = 0.443\n",
      "match emb = [0.965 0.804 0.866 0.965 0.383] score = 0.454\n"
     ]
    }
   ],
   "source": [
    "da_1.match(da_2, metric='euclidean',  limit=3, batch_size=100)\n",
    "query = da_1[2]\n",
    "print(f'query emb = {query.embedding}')\n",
    "for m in query.matches:\n",
    "    print('match emb =', np.round(m.embedding,3), 'score =', round(m.scores['euclidean'].value,3))"
   ]
  },
  {
   "cell_type": "code",
   "execution_count": 94,
   "metadata": {
    "ExecuteTime": {
     "end_time": "2021-08-06T14:59:58.083837Z",
     "start_time": "2021-08-06T14:59:57.827661Z"
    }
   },
   "outputs": [
    {
     "name": "stdout",
     "output_type": "stream",
     "text": [
      "query emb = [1 1 1 1 0]\n",
      "match emb = [0.938 0.939 0.745 0.911 0.237] score = 0.37\n",
      "match emb = [0.606 0.965 0.968 0.93  0.185] score = 0.443\n",
      "match emb = [0.965 0.804 0.866 0.965 0.383] score = 0.454\n"
     ]
    }
   ],
   "source": [
    "!rm -rf dam2\n",
    "dam_2 = DocumentArrayMemmap('./dam2')\n",
    "dam_2.extend([Document(embedding=x) for x in x_mat])\n",
    "\n",
    "da_1.match(dam_2, metric='euclidean',  limit=3, batch_size=100)\n",
    "query = da_1[2]\n",
    "print(f'query emb = {query.embedding}')\n",
    "for m in query.matches:\n",
    "    print('match emb =', np.round(m.embedding,3), 'score =', round(m.scores['euclidean'].value,3))"
   ]
  },
  {
   "cell_type": "markdown",
   "metadata": {},
   "source": [
    "## More examples"
   ]
  },
  {
   "cell_type": "code",
   "execution_count": 9,
   "metadata": {
    "ExecuteTime": {
     "end_time": "2021-08-04T13:49:11.675523Z",
     "start_time": "2021-08-04T13:49:11.634827Z"
    }
   },
   "outputs": [],
   "source": [
    "from jina import Document, DocumentArray\n",
    "import numpy as np\n",
    "from jina.math.distance import cosine, sqeuclidean, cdist"
   ]
  },
  {
   "cell_type": "code",
   "execution_count": 10,
   "metadata": {
    "ExecuteTime": {
     "end_time": "2021-08-04T13:49:18.005828Z",
     "start_time": "2021-08-04T13:49:17.969435Z"
    }
   },
   "outputs": [],
   "source": [
    "n_features = 100\n",
    "\n",
    "def get_document_arrays():\n",
    "    d1 = Document(embedding=np.array([0,0,0,0,0]))\n",
    "    d2 = Document(embedding=np.array([1,0,0,0,0]))\n",
    "    d3 = Document(embedding=np.array([1,1,1,1,0]))\n",
    "    d4 = Document(embedding=np.array([1,2,2,1,0]))\n",
    "\n",
    "    d1_m = Document(embedding=np.array([0,0.1,0,0,0]))\n",
    "    d2_m = Document(embedding=np.array([1,0.1,0,0,0]))\n",
    "    d3_m = Document(embedding=np.array([1,1.2,1,1,0]))\n",
    "    d4_m = Document(embedding=np.array([1,2.2,2,1,0]))\n",
    "    d5_m = Document(embedding=np.array([4,5.2,2,1,0]))\n",
    "\n",
    "    D  = DocumentArray([d1,d2,d3,d4])\n",
    "    D2 = DocumentArray([d1_m, d2_m, d3_m, d4_m, d5_m])\n",
    "    return D, D2\n",
    "\n",
    "import scipy.sparse as sp\n",
    "\n",
    "def get_document_arrays_sparse():\n",
    "    d1 = Document(embedding=sp.csr_matrix([0,0,0,0,0]))\n",
    "    d2 = Document(embedding=sp.csr_matrix([1,0,0,0,0]))\n",
    "    d3 = Document(embedding=sp.csr_matrix([1,1,1,1,0]))\n",
    "    d4 = Document(embedding=sp.csr_matrix([1,2,2,1,0]))\n",
    "\n",
    "    d1_m = Document(embedding=sp.csr_matrix([0,0.1,0,0,0]))\n",
    "    d2_m = Document(embedding=sp.csr_matrix([1,0.1,0,0,0]))\n",
    "    d3_m = Document(embedding=sp.csr_matrix([1,1.2,1,1,0]))\n",
    "    d4_m = Document(embedding=sp.csr_matrix([1,2.2,2,1,0]))\n",
    "    d5_m = Document(embedding=sp.csr_matrix([4,5.2,2,1,0]))\n",
    "\n",
    "    D  = DocumentArray([d1,d2,d3,d4])\n",
    "    D2 = DocumentArray([d1_m, d2_m, d3_m, d4_m, d5_m])\n",
    "    return D, D2"
   ]
  },
  {
   "cell_type": "code",
   "execution_count": 11,
   "metadata": {
    "ExecuteTime": {
     "end_time": "2021-08-04T13:49:18.205360Z",
     "start_time": "2021-08-04T13:49:18.173102Z"
    }
   },
   "outputs": [],
   "source": [
    "D, D2 = get_document_arrays()"
   ]
  },
  {
   "cell_type": "code",
   "execution_count": 12,
   "metadata": {
    "ExecuteTime": {
     "end_time": "2021-08-04T13:49:19.041579Z",
     "start_time": "2021-08-04T13:49:19.003394Z"
    }
   },
   "outputs": [
    {
     "data": {
      "text/plain": [
       "array([[0, 1, 2, 3, 4],\n",
       "       [1, 2, 3, 4, 0],\n",
       "       [4, 0, 1, 2, 3],\n",
       "       [4, 0, 3, 1, 2]])"
      ]
     },
     "execution_count": 12,
     "metadata": {},
     "output_type": "execute_result"
    }
   ],
   "source": [
    "E = np.stack(D.get_attributes('embedding'))\n",
    "E.argsort(axis=1)"
   ]
  },
  {
   "cell_type": "markdown",
   "metadata": {},
   "source": [
    "#### _compute_dist Euclidean distance"
   ]
  },
  {
   "cell_type": "code",
   "execution_count": 13,
   "metadata": {
    "ExecuteTime": {
     "end_time": "2021-08-04T13:49:19.533652Z",
     "start_time": "2021-08-04T13:49:19.498542Z"
    }
   },
   "outputs": [
    {
     "data": {
      "text/plain": [
       "array([[0.1       , 1.00498756, 2.10713075, 3.29241553, 6.93108938],\n",
       "       [1.00498756, 0.1       , 1.8547237 , 3.13687743, 6.40624695],\n",
       "       [1.95192213, 1.67630546, 0.2       , 1.56204994, 5.25737577],\n",
       "       [3.1       , 2.93428015, 1.28062485, 0.2       , 4.38634244]])"
      ]
     },
     "execution_count": 13,
     "metadata": {},
     "output_type": "execute_result"
    }
   ],
   "source": [
    "X = np.stack(D.get_attributes('embedding'))\n",
    "Y = np.stack(D2.get_attributes('embedding'))\n",
    "\n",
    "dists = cdist(X, Y, 'euclidean')\n",
    "dists"
   ]
  },
  {
   "cell_type": "markdown",
   "metadata": {},
   "source": [
    "### Computing matches Euclidean similarity\n",
    "\n",
    "By default `D.match` uses a similarity metric.\n",
    "\n",
    "This means matched results are ordered from highest to lowest"
   ]
  },
  {
   "cell_type": "code",
   "execution_count": 14,
   "metadata": {
    "ExecuteTime": {
     "end_time": "2021-08-04T13:49:20.668248Z",
     "start_time": "2021-08-04T13:49:20.634868Z"
    }
   },
   "outputs": [],
   "source": [
    "D, D2 = get_document_arrays()\n",
    "D.match(D2, metric='euclidean', limit=3)"
   ]
  },
  {
   "cell_type": "code",
   "execution_count": null,
   "metadata": {
    "ExecuteTime": {
     "end_time": "2021-07-29T13:53:41.673498Z",
     "start_time": "2021-07-29T13:53:41.649704Z"
    }
   },
   "outputs": [],
   "source": [
    "print(f'query={D[2].embedding}')\n",
    "for m in D[2].matches:\n",
    "    print(m.embedding, 'score =', m.scores['euclidean'].value)"
   ]
  },
  {
   "cell_type": "code",
   "execution_count": null,
   "metadata": {
    "ExecuteTime": {
     "end_time": "2021-07-29T13:53:41.846734Z",
     "start_time": "2021-07-29T13:53:41.822812Z"
    },
    "scrolled": true
   },
   "outputs": [],
   "source": [
    "print(f'query={D[1].embedding}')\n",
    "for m in D[1].matches:\n",
    "    print(m.embedding, 'score =', m.scores['euclidean'].value)"
   ]
  },
  {
   "cell_type": "code",
   "execution_count": null,
   "metadata": {
    "ExecuteTime": {
     "end_time": "2021-07-29T13:56:13.366325Z",
     "start_time": "2021-07-29T13:56:13.333458Z"
    },
    "scrolled": false
   },
   "outputs": [],
   "source": [
    "from jina.enums import EmbeddingClsType\n",
    "\n",
    "D, D2 = get_document_arrays_sparse()\n",
    "D.match(D2, \n",
    "        metric='euclidean',\n",
    "        limit=3,\n",
    "        is_sparse=True)\n",
    "        #embedding_cls_type = EmbeddingClsType.SCIPY_CSR)"
   ]
  },
  {
   "cell_type": "code",
   "execution_count": null,
   "metadata": {
    "ExecuteTime": {
     "end_time": "2021-07-29T13:56:13.661814Z",
     "start_time": "2021-07-29T13:56:13.637394Z"
    }
   },
   "outputs": [],
   "source": [
    "print(f'query={D[1].embedding.todense()}')\n",
    "for m in D[1].matches:\n",
    "    print(m.embedding.todense(), 'score =', m.scores['euclidean'].value)"
   ]
  },
  {
   "cell_type": "code",
   "execution_count": null,
   "metadata": {
    "ExecuteTime": {
     "end_time": "2021-07-29T13:55:13.347704Z",
     "start_time": "2021-07-29T13:55:13.324114Z"
    },
    "scrolled": true
   },
   "outputs": [],
   "source": [
    "print(f'query={D[2].embedding.todense()}')\n",
    "for m in D[2].matches:\n",
    "    print(m.embedding.todense(), 'score =', m.scores['euclidean'].value)"
   ]
  },
  {
   "cell_type": "markdown",
   "metadata": {},
   "source": [
    "### Computing matches Euclidean distance\n",
    "\n",
    "If we want to use a distance we need to specify **`is_distance=True`**.\n",
    "\n",
    "If we do so we should get results ordered from lowest to highest"
   ]
  },
  {
   "cell_type": "code",
   "execution_count": null,
   "metadata": {
    "ExecuteTime": {
     "end_time": "2021-07-20T09:19:20.228570Z",
     "start_time": "2021-07-20T09:19:20.222347Z"
    },
    "slideshow": {
     "slide_type": "slide"
    }
   },
   "outputs": [],
   "source": [
    "D, D2 = get_document_arrays()\n",
    "D.match(D2, metric='euclidean', limit=3, is_distance=True)"
   ]
  },
  {
   "cell_type": "code",
   "execution_count": null,
   "metadata": {
    "ExecuteTime": {
     "end_time": "2021-07-20T09:19:20.417002Z",
     "start_time": "2021-07-20T09:19:20.412986Z"
    }
   },
   "outputs": [],
   "source": [
    "print(f'query={D[2].embedding}')\n",
    "for m in D[2].matches:\n",
    "    print(m.embedding, 'distance =', m.scores['euclidean'].value)"
   ]
  },
  {
   "cell_type": "markdown",
   "metadata": {},
   "source": [
    "### Computing matches Cosine similarity"
   ]
  },
  {
   "cell_type": "code",
   "execution_count": null,
   "metadata": {
    "ExecuteTime": {
     "end_time": "2021-07-20T09:19:20.815031Z",
     "start_time": "2021-07-20T09:19:20.808484Z"
    }
   },
   "outputs": [],
   "source": [
    "D, D2 = get_document_arrays()\n",
    "D.match(D2, metric='cosine', limit=3)"
   ]
  },
  {
   "cell_type": "code",
   "execution_count": null,
   "metadata": {
    "ExecuteTime": {
     "end_time": "2021-07-20T09:19:21.013031Z",
     "start_time": "2021-07-20T09:19:21.009130Z"
    }
   },
   "outputs": [],
   "source": [
    "print(f'query={D[2].embedding}')\n",
    "for m in D[2].matches:\n",
    "    print(m.embedding, 'dist=', m.scores['cosine'].value)"
   ]
  },
  {
   "cell_type": "code",
   "execution_count": null,
   "metadata": {
    "ExecuteTime": {
     "end_time": "2021-07-20T09:19:21.192879Z",
     "start_time": "2021-07-20T09:19:21.189504Z"
    }
   },
   "outputs": [],
   "source": [
    "scores = [m.scores['cosine'].value for m in D[2].matches]\n",
    "scores ==sorted(scores)[::-1]"
   ]
  },
  {
   "cell_type": "markdown",
   "metadata": {},
   "source": [
    "If we want cosine distance we need to specify `is_distance=True`"
   ]
  },
  {
   "cell_type": "code",
   "execution_count": null,
   "metadata": {
    "ExecuteTime": {
     "end_time": "2021-07-20T09:19:21.780184Z",
     "start_time": "2021-07-20T09:19:21.774067Z"
    }
   },
   "outputs": [],
   "source": [
    "D, D2 = get_document_arrays()\n",
    "D.match(D2, metric='cosine', limit=3, is_distance=True)"
   ]
  },
  {
   "cell_type": "code",
   "execution_count": null,
   "metadata": {
    "ExecuteTime": {
     "end_time": "2021-07-20T09:19:22.069953Z",
     "start_time": "2021-07-20T09:19:22.066668Z"
    }
   },
   "outputs": [],
   "source": [
    "print(f'query={D[2].embedding}')\n",
    "for m in D[2].matches:\n",
    "    print(m.embedding, 'dist=', m.scores['cosine'].value)"
   ]
  },
  {
   "cell_type": "code",
   "execution_count": null,
   "metadata": {
    "ExecuteTime": {
     "end_time": "2021-07-20T09:19:22.385573Z",
     "start_time": "2021-07-20T09:19:22.382587Z"
    }
   },
   "outputs": [],
   "source": [
    "distances = [m.scores['cosine'].value for m in D[2].matches]\n",
    "distances ==sorted(distances)"
   ]
  },
  {
   "cell_type": "code",
   "execution_count": null,
   "metadata": {
    "ExecuteTime": {
     "end_time": "2021-07-20T09:19:24.951812Z",
     "start_time": "2021-07-20T09:19:24.948517Z"
    }
   },
   "outputs": [],
   "source": [
    "[m.scores['cosine'].value for d in D for m in d.matches]"
   ]
  },
  {
   "cell_type": "markdown",
   "metadata": {},
   "source": [
    "## test distances with scipy"
   ]
  },
  {
   "cell_type": "code",
   "execution_count": null,
   "metadata": {
    "ExecuteTime": {
     "end_time": "2021-07-20T09:20:25.049189Z",
     "start_time": "2021-07-20T09:20:25.047370Z"
    }
   },
   "outputs": [],
   "source": [
    "\n",
    "from scipy.spatial.distance import cdist"
   ]
  },
  {
   "cell_type": "code",
   "execution_count": null,
   "metadata": {
    "ExecuteTime": {
     "end_time": "2021-07-20T09:32:16.515534Z",
     "start_time": "2021-07-20T09:32:16.512660Z"
    }
   },
   "outputs": [],
   "source": [
    "#X = np.random.random((10,5))\n",
    "#Y = np.random.random((15,5))\n",
    "\n",
    "X = np.array([[1,1,1],[4,5,6],[0,1,2]])\n",
    "Y = np.array([[1,1,2],[2,3,4]])\n",
    "XYdistances = cdist(X,Y,metric='euclidean')\n",
    "XY_new = np.sqrt(euclidean_distance_squared(X,Y))\n",
    "np.testing.assert_almost_equal(XYdistances,XY_new)"
   ]
  },
  {
   "cell_type": "code",
   "execution_count": null,
   "metadata": {
    "ExecuteTime": {
     "end_time": "2021-07-20T09:33:18.550215Z",
     "start_time": "2021-07-20T09:33:18.548042Z"
    }
   },
   "outputs": [],
   "source": [
    "XYdistances = cdist(X,Y,metric='cosine')\n",
    "XY_new = cosine_distance(X,Y)\n",
    "np.testing.assert_almost_equal(XYdistances, XY_new)"
   ]
  },
  {
   "cell_type": "code",
   "execution_count": null,
   "metadata": {
    "ExecuteTime": {
     "end_time": "2021-07-20T09:32:49.908578Z",
     "start_time": "2021-07-20T09:32:49.905855Z"
    }
   },
   "outputs": [],
   "source": [
    "XY_new"
   ]
  },
  {
   "cell_type": "code",
   "execution_count": null,
   "metadata": {
    "ExecuteTime": {
     "end_time": "2021-07-20T09:32:50.154349Z",
     "start_time": "2021-07-20T09:32:50.151397Z"
    }
   },
   "outputs": [],
   "source": [
    "XYdistances"
   ]
  },
  {
   "cell_type": "code",
   "execution_count": null,
   "metadata": {
    "ExecuteTime": {
     "end_time": "2021-07-20T09:33:00.211445Z",
     "start_time": "2021-07-20T09:33:00.208814Z"
    },
    "scrolled": true
   },
   "outputs": [],
   "source": [
    "X"
   ]
  },
  {
   "cell_type": "code",
   "execution_count": null,
   "metadata": {
    "ExecuteTime": {
     "end_time": "2021-07-20T09:33:00.652675Z",
     "start_time": "2021-07-20T09:33:00.649863Z"
    },
    "scrolled": true
   },
   "outputs": [],
   "source": [
    "np.linalg.norm(X, axis=1)"
   ]
  },
  {
   "cell_type": "code",
   "execution_count": null,
   "metadata": {
    "ExecuteTime": {
     "end_time": "2021-07-20T09:33:01.415804Z",
     "start_time": "2021-07-20T09:33:01.412934Z"
    }
   },
   "outputs": [],
   "source": [
    "np.linalg.norm(Y, axis=1)"
   ]
  },
  {
   "cell_type": "code",
   "execution_count": null,
   "metadata": {
    "ExecuteTime": {
     "end_time": "2021-07-20T09:33:01.589531Z",
     "start_time": "2021-07-20T09:33:01.586032Z"
    }
   },
   "outputs": [],
   "source": [
    "np.outer(np.linalg.norm(X, axis=1), np.linalg.norm(Y, axis=1))  "
   ]
  },
  {
   "cell_type": "code",
   "execution_count": null,
   "metadata": {
    "ExecuteTime": {
     "end_time": "2021-07-20T09:33:02.383452Z",
     "start_time": "2021-07-20T09:33:02.380413Z"
    }
   },
   "outputs": [],
   "source": [
    "np.outer(np.array([1,2,3]), np.array([3,4]))"
   ]
  },
  {
   "cell_type": "code",
   "execution_count": null,
   "metadata": {},
   "outputs": [],
   "source": []
  },
  {
   "cell_type": "code",
   "execution_count": null,
   "metadata": {},
   "outputs": [],
   "source": []
  },
  {
   "cell_type": "code",
   "execution_count": null,
   "metadata": {},
   "outputs": [],
   "source": []
  },
  {
   "cell_type": "code",
   "execution_count": null,
   "metadata": {},
   "outputs": [],
   "source": []
  },
  {
   "cell_type": "code",
   "execution_count": null,
   "metadata": {},
   "outputs": [],
   "source": []
  },
  {
   "cell_type": "code",
   "execution_count": null,
   "metadata": {
    "ExecuteTime": {
     "end_time": "2021-07-20T09:27:51.129028Z",
     "start_time": "2021-07-20T09:27:51.126435Z"
    }
   },
   "outputs": [],
   "source": [
    "2.44948974 * 1.73205081"
   ]
  },
  {
   "cell_type": "code",
   "execution_count": null,
   "metadata": {},
   "outputs": [],
   "source": []
  },
  {
   "cell_type": "code",
   "execution_count": null,
   "metadata": {},
   "outputs": [],
   "source": []
  },
  {
   "cell_type": "markdown",
   "metadata": {},
   "source": [
    "## Document Memmap"
   ]
  },
  {
   "cell_type": "code",
   "execution_count": null,
   "metadata": {
    "ExecuteTime": {
     "end_time": "2021-07-19T13:19:36.263207Z",
     "start_time": "2021-07-19T13:19:36.261324Z"
    }
   },
   "outputs": [],
   "source": [
    "from jina.types.arrays.memmap import DocumentArrayMemmap"
   ]
  },
  {
   "cell_type": "markdown",
   "metadata": {
    "ExecuteTime": {
     "end_time": "2021-07-19T11:56:44.193642Z",
     "start_time": "2021-07-19T11:56:44.191985Z"
    }
   },
   "source": [
    "##### test_match_docarray_docarraymemmap"
   ]
  },
  {
   "cell_type": "code",
   "execution_count": null,
   "metadata": {
    "ExecuteTime": {
     "end_time": "2021-07-19T14:08:07.570542Z",
     "start_time": "2021-07-19T14:08:07.434818Z"
    }
   },
   "outputs": [],
   "source": [
    "metric = 'euclidean'\n",
    "D1, D2 = get_document_arrays()\n",
    "D1.match(D2, metric=metric, limit=3, is_distance=True)\n",
    "values_docarray = [m.scores[metric].value for d in D1 for m in d.matches]\n",
    "\n",
    "!rm -rf ./my-memmap\n",
    "D1, D2 = get_document_arrays()\n",
    "D2memmap = DocumentArrayMemmap('./my-memmap')\n",
    "D2memmap.extend(D2)\n",
    "D1.match(D2memmap, metric=metric, limit=3, is_distance=True)\n",
    "values_docarraymemmap = [m.scores[metric].value for d in D1 for m in d.matches]"
   ]
  },
  {
   "cell_type": "code",
   "execution_count": null,
   "metadata": {
    "ExecuteTime": {
     "end_time": "2021-07-19T14:08:07.752664Z",
     "start_time": "2021-07-19T14:08:07.749539Z"
    }
   },
   "outputs": [],
   "source": [
    "values_docarraymemmap == values_docarraymemmap"
   ]
  },
  {
   "cell_type": "markdown",
   "metadata": {},
   "source": [
    "##### test_docarraymemmap_match_docarray"
   ]
  },
  {
   "cell_type": "code",
   "execution_count": null,
   "metadata": {
    "ExecuteTime": {
     "end_time": "2021-07-19T13:59:34.988517Z",
     "start_time": "2021-07-19T13:59:34.843708Z"
    }
   },
   "outputs": [],
   "source": [
    "D1, D2 = get_document_arrays()\n",
    "D1.match(D2, metric='euclidean', limit=3, is_distance=True)\n",
    "values_docarray = [m.scores['euclidean'].value for d in D1 for m in d.matches]\n",
    "\n",
    "!rm -rf ./my-memmap\n",
    "\n",
    "from jina import Document\n",
    "D1, D2 = get_document_arrays()\n",
    "D1memmap = DocumentArrayMemmap('./my-memmap')\n",
    "D1memmap.extend(D1)\n",
    "D1memmap.match(D2, metric='euclidean', limit=3, is_distance=True)\n",
    "\n",
    "print(f'query={dam[2].embedding}')\n",
    "for m in D1memmap[2].matches:\n",
    "    print(m.embedding, 'distance =', m.scores['euclidean'].value)\n",
    "    \n",
    "values_docarraymemmap = [m.scores['euclidean'].value for d in D1memmap for m in d.matches]"
   ]
  },
  {
   "cell_type": "code",
   "execution_count": null,
   "metadata": {
    "ExecuteTime": {
     "end_time": "2021-07-19T13:59:43.148960Z",
     "start_time": "2021-07-19T13:59:43.145965Z"
    }
   },
   "outputs": [],
   "source": [
    "values_docarray == values_docarraymemmap"
   ]
  },
  {
   "cell_type": "markdown",
   "metadata": {},
   "source": [
    "##### test_docarraymemmap_match_docarraymemmap"
   ]
  },
  {
   "cell_type": "code",
   "execution_count": null,
   "metadata": {
    "ExecuteTime": {
     "end_time": "2021-07-19T13:48:38.477375Z",
     "start_time": "2021-07-19T13:48:38.228265Z"
    }
   },
   "outputs": [],
   "source": [
    "metric = 'euclidean'\n",
    "is_distance = 'False'\n",
    "D1, D2 = get_document_arrays()\n",
    "D1.match(D2, metric=metric, limit=3, is_distance=True)\n",
    "values_docarray = [m.scores[metric].value for d in D1 for m in d.matches]\n",
    "\n",
    "!rm -rf ./my-memmap1\n",
    "!rm -rf ./my-memmap2\n",
    "D1, D2 = get_document_arrays()\n",
    "D1memmap = DocumentArrayMemmap('./my-memmap1')\n",
    "D1memmap.extend(D1)\n",
    "D1memmap.reload()\n",
    "D2memmap = DocumentArrayMemmap('./my-memmap2')\n",
    "D2memmap.extend(D2)\n",
    "D2memmap.reload()\n",
    "D2memmap.reload()\n",
    "D1memmap.match(D2memmap, metric=metric, limit=3, is_distance=is_distance)\n",
    "\n",
    "#values_docarraymemmap = [m.scores[metric].value for d in D1memmap for m in d.matches]\n"
   ]
  },
  {
   "cell_type": "code",
   "execution_count": null,
   "metadata": {
    "ExecuteTime": {
     "end_time": "2021-07-19T13:48:32.457604Z",
     "start_time": "2021-07-19T13:48:32.434440Z"
    }
   },
   "outputs": [],
   "source": [
    "values_docarraymemmap = [m.scores[metric].value for d in D1memmap for m in d.matches]\n",
    "values_docarraymemmap"
   ]
  },
  {
   "cell_type": "code",
   "execution_count": null,
   "metadata": {
    "ExecuteTime": {
     "end_time": "2021-07-19T13:20:59.845599Z",
     "start_time": "2021-07-19T13:20:59.839276Z"
    }
   },
   "outputs": [],
   "source": [
    "D1memmap[0].matches"
   ]
  },
  {
   "cell_type": "code",
   "execution_count": null,
   "metadata": {
    "ExecuteTime": {
     "end_time": "2021-07-19T13:21:00.786337Z",
     "start_time": "2021-07-19T13:21:00.783599Z"
    }
   },
   "outputs": [],
   "source": [
    "values_docarray"
   ]
  },
  {
   "cell_type": "markdown",
   "metadata": {},
   "source": [
    "### Test distances using memmaparrays"
   ]
  },
  {
   "cell_type": "code",
   "execution_count": 15,
   "metadata": {
    "ExecuteTime": {
     "end_time": "2021-08-04T13:49:36.075031Z",
     "start_time": "2021-08-04T13:49:36.036886Z"
    },
    "scrolled": true
   },
   "outputs": [
    {
     "ename": "NameError",
     "evalue": "name 'euclidean_distance_squared' is not defined",
     "output_type": "error",
     "traceback": [
      "\u001b[0;31m---------------------------------------------------------------------------\u001b[0m",
      "\u001b[0;31mNameError\u001b[0m                                 Traceback (most recent call last)",
      "\u001b[0;32m<ipython-input-15-b581d697186b>\u001b[0m in \u001b[0;36m<module>\u001b[0;34m\u001b[0m\n\u001b[0;32m----> 1\u001b[0;31m \u001b[0meuclidean_distance_squared\u001b[0m\u001b[0;34m(\u001b[0m\u001b[0mD1memmap\u001b[0m\u001b[0;34m,\u001b[0m \u001b[0mD2memmap\u001b[0m\u001b[0;34m)\u001b[0m\u001b[0;34m\u001b[0m\u001b[0;34m\u001b[0m\u001b[0m\n\u001b[0m",
      "\u001b[0;31mNameError\u001b[0m: name 'euclidean_distance_squared' is not defined"
     ]
    }
   ],
   "source": [
    "euclidean_distance_squared(D1memmap, D2memmap)"
   ]
  },
  {
   "cell_type": "code",
   "execution_count": 16,
   "metadata": {
    "ExecuteTime": {
     "end_time": "2021-08-04T13:49:36.412083Z",
     "start_time": "2021-08-04T13:49:36.374286Z"
    }
   },
   "outputs": [
    {
     "ename": "NameError",
     "evalue": "name 'D1memmap' is not defined",
     "output_type": "error",
     "traceback": [
      "\u001b[0;31m---------------------------------------------------------------------------\u001b[0m",
      "\u001b[0;31mNameError\u001b[0m                                 Traceback (most recent call last)",
      "\u001b[0;32m<ipython-input-16-5fad76273ba2>\u001b[0m in \u001b[0;36m<module>\u001b[0;34m\u001b[0m\n\u001b[0;32m----> 1\u001b[0;31m \u001b[0mD1memmap\u001b[0m\u001b[0;34m.\u001b[0m\u001b[0mget_attributes\u001b[0m\u001b[0;34m(\u001b[0m\u001b[0;34m'embedding'\u001b[0m\u001b[0;34m)\u001b[0m\u001b[0;34m\u001b[0m\u001b[0;34m\u001b[0m\u001b[0m\n\u001b[0m",
      "\u001b[0;31mNameError\u001b[0m: name 'D1memmap' is not defined"
     ]
    }
   ],
   "source": [
    "D1memmap.get_attributes('embedding')"
   ]
  },
  {
   "cell_type": "markdown",
   "metadata": {},
   "source": [
    "# Batching distance computation"
   ]
  },
  {
   "cell_type": "markdown",
   "metadata": {},
   "source": [
    "## Expressing the problem\n",
    "\n",
    "\n",
    "Let `x_mat` and `y_mat` be two matrices with `n_x` and `n_y` rows respectively.\n",
    "\n",
    "The ouput of our code is two matrices:\n",
    "\n",
    "- `dists`: is a np.ndarray of shape `(n_x, k)` containing at row `i` the closest `k` distances from `x_mat[i,:]` and the `best` elements from `y_mat`. This matrix does not store which elements from `Y` are selected. This information is in the following matrix `inds`. \n",
    "\n",
    "\n",
    "- `inds`: is a np.ndarray of shape `(n_x, k)` containing at row `i` the indices of the `k` closest selected items from `y_mat`\n",
    "\n",
    "\n",
    "We want to compute the pariwise distances between `x_mat` and `y_mat` assuming that rows in `x_mat` can be stored in memory but not all rows from `y_mat`.  Therefore we will load from `y_mat` in batches and compute the distances with each batch.\n"
   ]
  },
  {
   "cell_type": "code",
   "execution_count": 15,
   "metadata": {
    "ExecuteTime": {
     "end_time": "2021-08-06T11:42:55.281367Z",
     "start_time": "2021-08-06T11:42:55.243278Z"
    }
   },
   "outputs": [],
   "source": [
    "import jina.math \n",
    "from jina.math.distance import sqeuclidean\n",
    "from jina.math.helper import top_k"
   ]
  },
  {
   "cell_type": "markdown",
   "metadata": {},
   "source": [
    "## Building the function"
   ]
  },
  {
   "cell_type": "code",
   "execution_count": 16,
   "metadata": {
    "ExecuteTime": {
     "end_time": "2021-08-06T11:42:55.870539Z",
     "start_time": "2021-08-06T11:42:55.837021Z"
    },
    "scrolled": true
   },
   "outputs": [
    {
     "name": "stdout",
     "output_type": "stream",
     "text": [
      "[0.19151945 0.62210877 0.43772774 0.78535858 0.77997581 0.27259261\n",
      " 0.27646426 0.80187218 0.95813935 0.87593263]\n",
      "[1 5 2 0 3 4]\n",
      "(10, 1000)\n"
     ]
    }
   ],
   "source": [
    "n_features = 10\n",
    "np.random.seed(1234)\n",
    "X = np.random.random((10, n_features))\n",
    "Y = np.random.random((1000,n_features))\n",
    "\n",
    "print(X[0]) \n",
    "print(np.argpartition([4,0,2,6,9,1],kth=3))\n",
    "print(sqeuclidean(X,Y).shape)"
   ]
  },
  {
   "cell_type": "code",
   "execution_count": 17,
   "metadata": {
    "ExecuteTime": {
     "end_time": "2021-08-06T11:42:56.477431Z",
     "start_time": "2021-08-06T11:42:56.445152Z"
    }
   },
   "outputs": [
    {
     "name": "stdout",
     "output_type": "stream",
     "text": [
      "(10, 10) (10, 10)\n",
      "[0.22928135 0.24654283 0.26305431 0.34775188 0.35224021 0.37900384\n",
      " 0.42007707 0.44362219 0.46516296 0.4734049 ]\n",
      "[729 396 453 441 381  86 598 184 546 768]\n"
     ]
    }
   ],
   "source": [
    "dists, inds = top_k(sqeuclidean(X,Y), 10)\n",
    "print(inds.shape, dists.shape)\n",
    "print(dists[0])\n",
    "print(inds[0])"
   ]
  },
  {
   "cell_type": "code",
   "execution_count": 18,
   "metadata": {
    "ExecuteTime": {
     "end_time": "2021-08-06T11:42:56.738013Z",
     "start_time": "2021-08-06T11:42:56.704891Z"
    }
   },
   "outputs": [],
   "source": [
    "def batch_generator(y_mat, n_batch):\n",
    "    for i in range(0,len(y_mat), n_batch):\n",
    "        yield y_mat[i:i+n_batch], i "
   ]
  },
  {
   "cell_type": "code",
   "execution_count": 19,
   "metadata": {
    "ExecuteTime": {
     "end_time": "2021-08-06T11:42:56.986440Z",
     "start_time": "2021-08-06T11:42:56.952819Z"
    }
   },
   "outputs": [
    {
     "data": {
      "text/plain": [
       "[((100, 10), 0),\n",
       " ((100, 10), 100),\n",
       " ((100, 10), 200),\n",
       " ((100, 10), 300),\n",
       " ((100, 10), 400),\n",
       " ((100, 10), 500),\n",
       " ((100, 10), 600),\n",
       " ((100, 10), 700),\n",
       " ((100, 10), 800),\n",
       " ((100, 10), 900)]"
      ]
     },
     "execution_count": 19,
     "metadata": {},
     "output_type": "execute_result"
    }
   ],
   "source": [
    "[(a[0].shape,a[1]) for a in batch_generator(Y, n_batch=100)]"
   ]
  },
  {
   "cell_type": "code",
   "execution_count": 35,
   "metadata": {
    "ExecuteTime": {
     "end_time": "2021-08-06T11:44:07.037035Z",
     "start_time": "2021-08-06T11:44:07.005012Z"
    }
   },
   "outputs": [],
   "source": [
    "def batch_top_k(x_mat, y_mat, batch_size, k):\n",
    "\n",
    "    n_x = x_mat.shape[0]\n",
    "\n",
    "    y_batch_generator = batch_generator(y_mat, batch_size)\n",
    "    top_dists = np.inf * np.ones((n_x, k))\n",
    "    top_inds  = np.zeros((n_x, k), dtype=int)\n",
    "    \n",
    "    for ybatch, ybatch_start_pos in y_batch_generator:\n",
    "        distances = sqeuclidean(x_mat, ybatch)\n",
    "        dists, inds = top_k(distances, k)\n",
    "        inds = ybatch_start_pos + inds\n",
    "        top_dists, top_inds = get_min_dists(dists, inds, top_dists, top_inds, k)\n",
    "        \n",
    "    # sort final the final `top_dists` and `top_inds` per row \n",
    "    perm = np.argsort(top_dists, axis=1)\n",
    "    top_dists = np.take_along_axis(top_dists, perm, axis=1)\n",
    "    top_inds = np.take_along_axis(top_inds, perm, axis=1)\n",
    "    \n",
    "    return top_dists, top_inds"
   ]
  },
  {
   "cell_type": "code",
   "execution_count": 36,
   "metadata": {
    "ExecuteTime": {
     "end_time": "2021-08-06T11:44:07.532633Z",
     "start_time": "2021-08-06T11:44:07.499712Z"
    }
   },
   "outputs": [],
   "source": [
    "def get_min_dists(dists, inds, top_dists, top_inds, k):\n",
    "    all_dists = np.hstack((dists, top_dists))\n",
    "    all_inds = np.hstack((inds, top_inds))\n",
    "    best_inds = np.argpartition(all_dists, kth=k, axis=1)\n",
    "    d_mat = np.take_along_axis(all_dists, best_inds , axis=1)\n",
    "    i_mat = np.take_along_axis(all_inds, best_inds , axis=1)\n",
    "    return d_mat[:,:k], i_mat[:,:k]\n",
    "\n",
    "def get_min_dists2(dists, inds, top_dists, top_inds, k):\n",
    "    all_dists = np.hstack((dists, top_dists))\n",
    "    all_inds = np.hstack((inds, top_inds))\n",
    "    best_inds = np.argpartition(all_dists, kth=k, axis=1)[:, 0:k]\n",
    "    d_mat = np.array([all_dists[i,best_inds[i]] for i in range(len(all_dists))])\n",
    "    i_mat = np.array([all_inds[i,best_inds[i]] for i in range(len(all_dists))])\n",
    "    return d_mat, i_mat"
   ]
  },
  {
   "cell_type": "code",
   "execution_count": 37,
   "metadata": {
    "ExecuteTime": {
     "end_time": "2021-08-06T11:44:07.872143Z",
     "start_time": "2021-08-06T11:44:07.840226Z"
    }
   },
   "outputs": [],
   "source": [
    "n_features = 20\n",
    "k = 5\n",
    "batch_size = 100\n",
    "\n",
    "np.random.seed(1234)\n",
    "X = np.random.random((10, n_features))\n",
    "Y = np.random.random((1000, n_features))"
   ]
  },
  {
   "cell_type": "code",
   "execution_count": 38,
   "metadata": {
    "ExecuteTime": {
     "end_time": "2021-08-06T11:44:08.117873Z",
     "start_time": "2021-08-06T11:44:08.083462Z"
    },
    "scrolled": true
   },
   "outputs": [
    {
     "data": {
      "text/plain": [
       "(array([[0.80362792, 1.04826136, 1.13512258, 1.21852459, 1.26330549],\n",
       "        [1.04577613, 1.17615077, 1.34440863, 1.39320647, 1.42824177],\n",
       "        [0.97770728, 1.26559054, 1.45667535, 1.48404514, 1.52595199],\n",
       "        [1.11132182, 1.11401028, 1.27061648, 1.33421692, 1.34577427],\n",
       "        [0.85772494, 0.97944147, 1.07031246, 1.13829755, 1.20326043],\n",
       "        [1.39340144, 1.44160699, 1.45170949, 1.59847109, 1.73249643],\n",
       "        [1.3281356 , 1.33286442, 1.39310716, 1.4341623 , 1.44763607],\n",
       "        [1.03273538, 1.34571724, 1.34881996, 1.34959654, 1.44559504],\n",
       "        [1.31508042, 1.51506797, 1.53971109, 1.55597349, 1.57407582],\n",
       "        [0.94920786, 1.19361922, 1.23917019, 1.39217911, 1.40270516]]),\n",
       " array([[193, 951, 703, 294,  99],\n",
       "        [311, 316, 291, 281, 304],\n",
       "        [822,   2, 237, 197, 124],\n",
       "        [657, 721, 462, 711, 560],\n",
       "        [602, 312, 652, 215, 464],\n",
       "        [544, 127, 623, 164, 448],\n",
       "        [560, 203, 664, 511, 611],\n",
       "        [987, 728, 339, 256, 479],\n",
       "        [123, 890, 377, 837, 891],\n",
       "        [910, 901, 540, 203, 440]]))"
      ]
     },
     "execution_count": 38,
     "metadata": {},
     "output_type": "execute_result"
    }
   ],
   "source": [
    "batch_top_k(X, Y, batch_size, k=k)"
   ]
  },
  {
   "cell_type": "code",
   "execution_count": 40,
   "metadata": {
    "ExecuteTime": {
     "end_time": "2021-08-06T11:44:17.740015Z",
     "start_time": "2021-08-06T11:44:17.703992Z"
    }
   },
   "outputs": [
    {
     "data": {
      "text/plain": [
       "(array([[0.80362792, 1.04826136, 1.13512258, 1.21852459, 1.26330549],\n",
       "        [1.04577613, 1.17615077, 1.34440863, 1.39320647, 1.42824177],\n",
       "        [0.97770728, 1.26559054, 1.45667535, 1.48404514, 1.52595199],\n",
       "        [1.11132182, 1.11401028, 1.27061648, 1.33421692, 1.34577427],\n",
       "        [0.85772494, 0.97944147, 1.07031246, 1.13829755, 1.20326043],\n",
       "        [1.39340144, 1.44160699, 1.45170949, 1.59847109, 1.73249643],\n",
       "        [1.3281356 , 1.33286442, 1.39310716, 1.4341623 , 1.44763607],\n",
       "        [1.03273538, 1.34571724, 1.34881996, 1.34959654, 1.44559504],\n",
       "        [1.31508042, 1.51506797, 1.53971109, 1.55597349, 1.57407582],\n",
       "        [0.94920786, 1.19361922, 1.23917019, 1.39217911, 1.40270516]]),\n",
       " array([[193, 951, 703, 294,  99],\n",
       "        [311, 316, 291, 281, 304],\n",
       "        [822,   2, 237, 197, 124],\n",
       "        [657, 721, 462, 711, 560],\n",
       "        [602, 312, 652, 215, 464],\n",
       "        [544, 127, 623, 164, 448],\n",
       "        [560, 203, 664, 511, 611],\n",
       "        [987, 728, 339, 256, 479],\n",
       "        [123, 890, 377, 837, 891],\n",
       "        [910, 901, 540, 203, 440]]))"
      ]
     },
     "execution_count": 40,
     "metadata": {},
     "output_type": "execute_result"
    }
   ],
   "source": [
    "top_k(sqeuclidean(X,Y), k=k)"
   ]
  },
  {
   "cell_type": "markdown",
   "metadata": {},
   "source": [
    "## Adapting batch funtion to memmap arrays "
   ]
  },
  {
   "cell_type": "code",
   "execution_count": 41,
   "metadata": {
    "ExecuteTime": {
     "end_time": "2021-08-06T11:44:23.857569Z",
     "start_time": "2021-08-06T11:44:23.824499Z"
    }
   },
   "outputs": [],
   "source": [
    "def get_min_dists(dists, inds, top_dists, top_inds, k):\n",
    "    all_dists = np.hstack((dists, top_dists))\n",
    "    all_inds = np.hstack((inds, top_inds))\n",
    "    best_inds = np.argpartition(all_dists, kth=k, axis=1)\n",
    "    d_mat = np.take_along_axis(all_dists, best_inds , axis=1)\n",
    "    i_mat = np.take_along_axis(all_inds, best_inds , axis=1)\n",
    "    return d_mat[:,:k], i_mat[:,:k]\n",
    "\n",
    "def batch_top_k(x_mat, y_mat, batch_size, k):\n",
    "\n",
    "    n_x = x_mat.shape[0]\n",
    "\n",
    "    y_batch_generator = batch_generator(y_mat, batch_size)\n",
    "    top_dists = np.inf * np.ones((n_x, top_k_value))\n",
    "    top_inds  = np.zeros((n_x, k), dtype=int)\n",
    "    \n",
    "    for ybatch, ybatch_start_pos in y_batch_generator:\n",
    "        distances = sqeuclidean(x_mat, ybatch)\n",
    "        dists, inds = top_k(distances, k)\n",
    "        inds = ybatch_start_pos + inds\n",
    "        top_dists, top_inds = get_min_dists(dists, inds, top_dists, top_inds, k)\n",
    "        \n",
    "    # sort final the final `top_dists` and `top_inds` per row \n",
    "    perm = np.argsort(top_dists, axis=1)\n",
    "    top_dists = np.take_along_axis(top_dists, perm, axis=1)\n",
    "    top_inds = np.take_along_axis(top_inds, perm, axis=1)\n",
    "    \n",
    "    return top_dists, top_inds"
   ]
  },
  {
   "cell_type": "code",
   "execution_count": 42,
   "metadata": {
    "ExecuteTime": {
     "end_time": "2021-08-06T11:44:24.216691Z",
     "start_time": "2021-08-06T11:44:24.063014Z"
    }
   },
   "outputs": [
    {
     "ename": "TypeError",
     "evalue": "`key` must be int or str, but receiving slice(0, 5, None)",
     "output_type": "error",
     "traceback": [
      "\u001b[0;31m---------------------------------------------------------------------------\u001b[0m",
      "\u001b[0;31mTypeError\u001b[0m                                 Traceback (most recent call last)",
      "\u001b[0;32m<ipython-input-42-b2123f2feb53>\u001b[0m in \u001b[0;36m<module>\u001b[0;34m\u001b[0m\n\u001b[1;32m      9\u001b[0m \u001b[0my_dam\u001b[0m \u001b[0;34m=\u001b[0m \u001b[0mDocumentArrayMemmap\u001b[0m\u001b[0;34m(\u001b[0m\u001b[0;34m'./my-memmap'\u001b[0m\u001b[0;34m)\u001b[0m\u001b[0;34m\u001b[0m\u001b[0;34m\u001b[0m\u001b[0m\n\u001b[1;32m     10\u001b[0m \u001b[0my_dam\u001b[0m\u001b[0;34m.\u001b[0m\u001b[0mextend\u001b[0m\u001b[0;34m(\u001b[0m\u001b[0;34m[\u001b[0m\u001b[0mDocument\u001b[0m\u001b[0;34m(\u001b[0m\u001b[0membedding\u001b[0m\u001b[0;34m=\u001b[0m\u001b[0my\u001b[0m\u001b[0;34m)\u001b[0m \u001b[0;32mfor\u001b[0m \u001b[0my\u001b[0m \u001b[0;32min\u001b[0m \u001b[0mY\u001b[0m \u001b[0;34m]\u001b[0m\u001b[0;34m)\u001b[0m\u001b[0;34m\u001b[0m\u001b[0;34m\u001b[0m\u001b[0m\n\u001b[0;32m---> 11\u001b[0;31m \u001b[0my_dam\u001b[0m\u001b[0;34m[\u001b[0m\u001b[0;36m0\u001b[0m\u001b[0;34m:\u001b[0m\u001b[0;36m5\u001b[0m\u001b[0;34m]\u001b[0m\u001b[0;34m\u001b[0m\u001b[0;34m\u001b[0m\u001b[0m\n\u001b[0m",
      "\u001b[0;32m~/Documents/git_stuff/jina/jina/types/arrays/memmap.py\u001b[0m in \u001b[0;36m__getitem__\u001b[0;34m(self, key)\u001b[0m\n\u001b[1;32m    167\u001b[0m             \u001b[0;32mreturn\u001b[0m \u001b[0mself\u001b[0m\u001b[0;34m[\u001b[0m\u001b[0mself\u001b[0m\u001b[0;34m.\u001b[0m\u001b[0m_int2str_id\u001b[0m\u001b[0;34m(\u001b[0m\u001b[0mkey\u001b[0m\u001b[0;34m)\u001b[0m\u001b[0;34m]\u001b[0m\u001b[0;34m\u001b[0m\u001b[0;34m\u001b[0m\u001b[0m\n\u001b[1;32m    168\u001b[0m         \u001b[0;32melse\u001b[0m\u001b[0;34m:\u001b[0m\u001b[0;34m\u001b[0m\u001b[0;34m\u001b[0m\u001b[0m\n\u001b[0;32m--> 169\u001b[0;31m             \u001b[0;32mraise\u001b[0m \u001b[0mTypeError\u001b[0m\u001b[0;34m(\u001b[0m\u001b[0;34mf'`key` must be int or str, but receiving {key!r}'\u001b[0m\u001b[0;34m)\u001b[0m\u001b[0;34m\u001b[0m\u001b[0;34m\u001b[0m\u001b[0m\n\u001b[0m\u001b[1;32m    170\u001b[0m \u001b[0;34m\u001b[0m\u001b[0m\n\u001b[1;32m    171\u001b[0m     \u001b[0;32mdef\u001b[0m \u001b[0m__delitem__\u001b[0m\u001b[0;34m(\u001b[0m\u001b[0mself\u001b[0m\u001b[0;34m,\u001b[0m \u001b[0mkey\u001b[0m\u001b[0;34m:\u001b[0m \u001b[0mUnion\u001b[0m\u001b[0;34m[\u001b[0m\u001b[0mint\u001b[0m\u001b[0;34m,\u001b[0m \u001b[0mstr\u001b[0m\u001b[0;34m]\u001b[0m\u001b[0;34m)\u001b[0m\u001b[0;34m:\u001b[0m\u001b[0;34m\u001b[0m\u001b[0;34m\u001b[0m\u001b[0m\n",
      "\u001b[0;31mTypeError\u001b[0m: `key` must be int or str, but receiving slice(0, 5, None)"
     ]
    }
   ],
   "source": [
    "from jina.types.arrays.memmap import DocumentArrayMemmap\n",
    "from jina import Document\n",
    "\n",
    "n_features = 20\n",
    "np.random.seed(1234)\n",
    "X = np.random.random((10, n_features))\n",
    "Y = np.random.random((1000, n_features))\n",
    "\n",
    "y_dam = DocumentArrayMemmap('./my-memmap')\n",
    "y_dam.extend([Document(embedding=y) for y in Y ])\n",
    "y_dam[0:5]"
   ]
  },
  {
   "cell_type": "code",
   "execution_count": 468,
   "metadata": {
    "ExecuteTime": {
     "end_time": "2021-08-05T11:42:19.462522Z",
     "start_time": "2021-08-05T11:42:19.437886Z"
    }
   },
   "outputs": [],
   "source": [
    "n_features = 20\n",
    "\n",
    "np.random.seed(1234)\n",
    "X = np.random.random((10, n_features))\n",
    "Y = np.random.random((1000, n_features))\n",
    "\n",
    "y_da = DocumentArray([Document(embedding=y) for y in Y ])"
   ]
  },
  {
   "cell_type": "code",
   "execution_count": 509,
   "metadata": {
    "ExecuteTime": {
     "end_time": "2021-08-05T13:27:05.218111Z",
     "start_time": "2021-08-05T13:27:05.215320Z"
    },
    "scrolled": true
   },
   "outputs": [
    {
     "data": {
      "text/plain": [
       "<jina.types.arrays.document.DocumentArray length=5 at 140203653358256>"
      ]
     },
     "execution_count": 509,
     "metadata": {},
     "output_type": "execute_result"
    }
   ],
   "source": [
    "y_da[0:5]"
   ]
  },
  {
   "cell_type": "code",
   "execution_count": null,
   "metadata": {},
   "outputs": [],
   "source": []
  },
  {
   "cell_type": "code",
   "execution_count": 507,
   "metadata": {
    "ExecuteTime": {
     "end_time": "2021-08-05T13:27:03.697883Z",
     "start_time": "2021-08-05T13:27:03.685788Z"
    }
   },
   "outputs": [],
   "source": [
    "aux = np.memmap(y_dam._body)"
   ]
  },
  {
   "cell_type": "code",
   "execution_count": 508,
   "metadata": {
    "ExecuteTime": {
     "end_time": "2021-08-05T13:27:03.913938Z",
     "start_time": "2021-08-05T13:27:03.911147Z"
    }
   },
   "outputs": [
    {
     "data": {
      "text/plain": [
       "1512000"
      ]
     },
     "execution_count": 508,
     "metadata": {},
     "output_type": "execute_result"
    }
   ],
   "source": [
    "len(aux)"
   ]
  },
  {
   "cell_type": "markdown",
   "metadata": {},
   "source": [
    "## Benchmark selection of best values from a distance matrix"
   ]
  },
  {
   "cell_type": "code",
   "execution_count": 76,
   "metadata": {
    "ExecuteTime": {
     "end_time": "2021-08-06T14:47:47.613990Z",
     "start_time": "2021-08-06T14:47:47.488307Z"
    }
   },
   "outputs": [],
   "source": [
    "aux = np.vstack([y_dam[i].embedding for i in range(1000)])"
   ]
  },
  {
   "cell_type": "code",
   "execution_count": 77,
   "metadata": {
    "ExecuteTime": {
     "end_time": "2021-08-06T14:47:47.998427Z",
     "start_time": "2021-08-06T14:47:47.960888Z"
    }
   },
   "outputs": [
    {
     "ename": "NameError",
     "evalue": "name 'top_dists' is not defined",
     "output_type": "error",
     "traceback": [
      "\u001b[0;31m---------------------------------------------------------------------------\u001b[0m",
      "\u001b[0;31mNameError\u001b[0m                                 Traceback (most recent call last)",
      "\u001b[0;32m<ipython-input-77-bf43a710e402>\u001b[0m in \u001b[0;36m<module>\u001b[0;34m\u001b[0m\n\u001b[0;32m----> 1\u001b[0;31m \u001b[0mall_dists\u001b[0m \u001b[0;34m=\u001b[0m \u001b[0mnp\u001b[0m\u001b[0;34m.\u001b[0m\u001b[0mhstack\u001b[0m\u001b[0;34m(\u001b[0m\u001b[0;34m(\u001b[0m\u001b[0mdists\u001b[0m\u001b[0;34m,\u001b[0m \u001b[0mtop_dists\u001b[0m\u001b[0;34m)\u001b[0m\u001b[0;34m)\u001b[0m\u001b[0;34m\u001b[0m\u001b[0;34m\u001b[0m\u001b[0m\n\u001b[0m\u001b[1;32m      2\u001b[0m \u001b[0mall_inds\u001b[0m \u001b[0;34m=\u001b[0m \u001b[0mnp\u001b[0m\u001b[0;34m.\u001b[0m\u001b[0mhstack\u001b[0m\u001b[0;34m(\u001b[0m\u001b[0;34m(\u001b[0m\u001b[0minds\u001b[0m\u001b[0;34m,\u001b[0m \u001b[0mtop_inds\u001b[0m\u001b[0;34m)\u001b[0m\u001b[0;34m)\u001b[0m\u001b[0;34m\u001b[0m\u001b[0;34m\u001b[0m\u001b[0m\n\u001b[1;32m      3\u001b[0m \u001b[0mbest_inds\u001b[0m \u001b[0;34m=\u001b[0m \u001b[0mnp\u001b[0m\u001b[0;34m.\u001b[0m\u001b[0margpartition\u001b[0m\u001b[0;34m(\u001b[0m\u001b[0mall_dists\u001b[0m\u001b[0;34m,\u001b[0m \u001b[0mkth\u001b[0m\u001b[0;34m=\u001b[0m\u001b[0mtop_k_value\u001b[0m\u001b[0;34m,\u001b[0m \u001b[0maxis\u001b[0m\u001b[0;34m=\u001b[0m\u001b[0;36m1\u001b[0m\u001b[0;34m)\u001b[0m\u001b[0;34m[\u001b[0m\u001b[0;34m:\u001b[0m\u001b[0;34m,\u001b[0m\u001b[0;34m:\u001b[0m\u001b[0mtop_k_value\u001b[0m\u001b[0;34m]\u001b[0m\u001b[0;34m\u001b[0m\u001b[0;34m\u001b[0m\u001b[0m\n",
      "\u001b[0;31mNameError\u001b[0m: name 'top_dists' is not defined"
     ]
    }
   ],
   "source": [
    "all_dists = np.hstack((dists, top_dists))\n",
    "all_inds = np.hstack((inds, top_inds))\n",
    "best_inds = np.argpartition(all_dists, kth=top_k_value, axis=1)[:,:top_k_value]"
   ]
  },
  {
   "cell_type": "code",
   "execution_count": 121,
   "metadata": {
    "ExecuteTime": {
     "end_time": "2021-08-05T09:06:20.762922Z",
     "start_time": "2021-08-05T09:06:20.759957Z"
    }
   },
   "outputs": [
    {
     "name": "stdout",
     "output_type": "stream",
     "text": [
      "[[0.3 0.1 0.6 0.2 0.5 0.9]\n",
      " [0.9 0.6 0.9 0.1 0.5 0.7]]\n",
      "[[1 3 0]\n",
      " [3 4 1]]\n",
      "[[0.1 0.2 0.3]\n",
      " [0.1 0.5 0.6]]\n"
     ]
    }
   ],
   "source": [
    "print(all_dists)\n",
    "print(best_inds)\n",
    "print(np.take_along_axis(all_dists, best_inds , axis=1))"
   ]
  },
  {
   "cell_type": "markdown",
   "metadata": {},
   "source": [
    "One way to do it is with a comprenhensive list"
   ]
  },
  {
   "cell_type": "code",
   "execution_count": 92,
   "metadata": {
    "ExecuteTime": {
     "end_time": "2021-08-05T08:52:30.083046Z",
     "start_time": "2021-08-05T08:52:26.304855Z"
    }
   },
   "outputs": [
    {
     "name": "stdout",
     "output_type": "stream",
     "text": [
      "4.67 µs ± 147 ns per loop (mean ± std. dev. of 7 runs, 100000 loops each)\n"
     ]
    }
   ],
   "source": [
    "%%timeit\n",
    "d_mat = np.array([all_dists[i,best_inds[i][:top_k_value]] for i in range(len(all_dists))])"
   ]
  },
  {
   "cell_type": "markdown",
   "metadata": {},
   "source": [
    "Another way to do it is with `np.take_along_axis`"
   ]
  },
  {
   "cell_type": "code",
   "execution_count": 83,
   "metadata": {
    "ExecuteTime": {
     "end_time": "2021-08-05T08:46:50.677153Z",
     "start_time": "2021-08-05T08:46:45.410609Z"
    }
   },
   "outputs": [
    {
     "name": "stdout",
     "output_type": "stream",
     "text": [
      "6.48 µs ± 112 ns per loop (mean ± std. dev. of 7 runs, 100000 loops each)\n"
     ]
    }
   ],
   "source": [
    "%%timeit\n",
    "np.take_along_axis(all_dists, best_inds , axis=1)"
   ]
  },
  {
   "cell_type": "markdown",
   "metadata": {},
   "source": [
    "Both methods return the same"
   ]
  },
  {
   "cell_type": "code",
   "execution_count": 82,
   "metadata": {
    "ExecuteTime": {
     "end_time": "2021-08-05T08:46:10.794522Z",
     "start_time": "2021-08-05T08:46:10.791381Z"
    }
   },
   "outputs": [
    {
     "data": {
      "text/plain": [
       "array([[0.1, 0.2, 0.3],\n",
       "       [0.1, 0.5, 0.6]])"
      ]
     },
     "execution_count": 82,
     "metadata": {},
     "output_type": "execute_result"
    }
   ],
   "source": [
    "np.array([all_dists[i,best_inds[i][:top_k_value]] for i in range(len(all_dists))])"
   ]
  },
  {
   "cell_type": "code",
   "execution_count": 80,
   "metadata": {
    "ExecuteTime": {
     "end_time": "2021-08-05T08:45:57.563490Z",
     "start_time": "2021-08-05T08:45:57.560549Z"
    },
    "scrolled": true
   },
   "outputs": [
    {
     "data": {
      "text/plain": [
       "array([[0.1, 0.2, 0.3],\n",
       "       [0.1, 0.5, 0.6]])"
      ]
     },
     "execution_count": 80,
     "metadata": {},
     "output_type": "execute_result"
    }
   ],
   "source": [
    "np.take_along_axis(all_dists, best_inds , axis=1)"
   ]
  },
  {
   "cell_type": "code",
   "execution_count": null,
   "metadata": {},
   "outputs": [],
   "source": []
  },
  {
   "cell_type": "code",
   "execution_count": null,
   "metadata": {},
   "outputs": [],
   "source": []
  },
  {
   "cell_type": "code",
   "execution_count": 513,
   "metadata": {
    "ExecuteTime": {
     "end_time": "2021-08-05T14:52:49.689073Z",
     "start_time": "2021-08-05T14:52:49.686892Z"
    }
   },
   "outputs": [],
   "source": [
    "def f(a=1,b=2,c=None):\n",
    "    if c:\n",
    "        return a+b+c\n",
    "    else:\n",
    "        return a+b"
   ]
  },
  {
   "cell_type": "code",
   "execution_count": 518,
   "metadata": {
    "ExecuteTime": {
     "end_time": "2021-08-05T14:53:04.194533Z",
     "start_time": "2021-08-05T14:53:04.192075Z"
    }
   },
   "outputs": [
    {
     "data": {
      "text/plain": [
       "3"
      ]
     },
     "execution_count": 518,
     "metadata": {},
     "output_type": "execute_result"
    }
   ],
   "source": [
    "f(1,2)"
   ]
  },
  {
   "cell_type": "code",
   "execution_count": 532,
   "metadata": {
    "ExecuteTime": {
     "end_time": "2021-08-05T15:14:35.233181Z",
     "start_time": "2021-08-05T15:14:35.219851Z"
    },
    "scrolled": true
   },
   "outputs": [
    {
     "ename": "TypeError",
     "evalue": "f() got an unexpected keyword argument 'd'",
     "output_type": "error",
     "traceback": [
      "\u001b[0;31m---------------------------------------------------------------------------\u001b[0m",
      "\u001b[0;31mTypeError\u001b[0m                                 Traceback (most recent call last)",
      "\u001b[0;32m<ipython-input-532-aca7469c2ca5>\u001b[0m in \u001b[0;36m<module>\u001b[0;34m\u001b[0m\n\u001b[0;32m----> 1\u001b[0;31m \u001b[0mf\u001b[0m\u001b[0;34m(\u001b[0m\u001b[0;36m1\u001b[0m\u001b[0;34m,\u001b[0m\u001b[0;36m2\u001b[0m\u001b[0;34m,\u001b[0m\u001b[0;34m**\u001b[0m\u001b[0;34m{\u001b[0m\u001b[0;34m'd'\u001b[0m\u001b[0;34m:\u001b[0m\u001b[0;36m24\u001b[0m\u001b[0;34m}\u001b[0m\u001b[0;34m)\u001b[0m\u001b[0;34m\u001b[0m\u001b[0;34m\u001b[0m\u001b[0m\n\u001b[0m",
      "\u001b[0;31mTypeError\u001b[0m: f() got an unexpected keyword argument 'd'"
     ]
    }
   ],
   "source": [
    "f(1,2,**{'d':24})"
   ]
  },
  {
   "cell_type": "code",
   "execution_count": 533,
   "metadata": {
    "ExecuteTime": {
     "end_time": "2021-08-05T15:14:49.413162Z",
     "start_time": "2021-08-05T15:14:49.410953Z"
    }
   },
   "outputs": [],
   "source": [
    "def g(a=1,b=2):\n",
    "    return a+b"
   ]
  },
  {
   "cell_type": "code",
   "execution_count": null,
   "metadata": {},
   "outputs": [],
   "source": []
  },
  {
   "cell_type": "code",
   "execution_count": null,
   "metadata": {},
   "outputs": [],
   "source": []
  },
  {
   "cell_type": "code",
   "execution_count": null,
   "metadata": {},
   "outputs": [],
   "source": []
  }
 ],
 "metadata": {
  "kernelspec": {
   "display_name": "Python 3",
   "language": "python",
   "name": "python3"
  },
  "language_info": {
   "codemirror_mode": {
    "name": "ipython",
    "version": 3
   },
   "file_extension": ".py",
   "mimetype": "text/x-python",
   "name": "python",
   "nbconvert_exporter": "python",
   "pygments_lexer": "ipython3",
   "version": "3.8.5"
  },
  "toc": {
   "base_numbering": 1,
   "nav_menu": {},
   "number_sections": true,
   "sideBar": true,
   "skip_h1_title": false,
   "title_cell": "Table of Contents",
   "title_sidebar": "Contents",
   "toc_cell": true,
   "toc_position": {},
   "toc_section_display": true,
   "toc_window_display": true
  },
  "varInspector": {
   "cols": {
    "lenName": 16,
    "lenType": 16,
    "lenVar": 40
   },
   "kernels_config": {
    "python": {
     "delete_cmd_postfix": "",
     "delete_cmd_prefix": "del ",
     "library": "var_list.py",
     "varRefreshCmd": "print(var_dic_list())"
    },
    "r": {
     "delete_cmd_postfix": ") ",
     "delete_cmd_prefix": "rm(",
     "library": "var_list.r",
     "varRefreshCmd": "cat(var_dic_list()) "
    }
   },
   "types_to_exclude": [
    "module",
    "function",
    "builtin_function_or_method",
    "instance",
    "_Feature"
   ],
   "window_display": false
  }
 },
 "nbformat": 4,
 "nbformat_minor": 5
}
