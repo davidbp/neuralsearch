{
 "cells": [
  {
   "cell_type": "code",
   "execution_count": 141,
   "id": "af9dffdd",
   "metadata": {},
   "outputs": [],
   "source": [
    "from jina import Document, DocumentArray\n",
    "import numpy as np\n",
    "from jina.types.arrays.document import cosine_distance, euclidean_distance_squared"
   ]
  },
  {
   "cell_type": "code",
   "execution_count": 142,
   "id": "e45231e3",
   "metadata": {},
   "outputs": [],
   "source": [
    "#%load_ext autoreload\n",
    "#%autoreload 2"
   ]
  },
  {
   "cell_type": "code",
   "execution_count": 253,
   "id": "338b0252",
   "metadata": {},
   "outputs": [],
   "source": [
    "n_features = 100\n",
    "\n",
    "def get_document_arrays():\n",
    "    d1 = Document(embedding=np.array([0,0,0,0,0]))\n",
    "    d2 = Document(embedding=np.array([1,0,0,0,0]))\n",
    "    d3 = Document(embedding=np.array([1,1,1,1,0]))\n",
    "    d4 = Document(embedding=np.array([1,2,2,1,0]))\n",
    "\n",
    "    d1_m = Document(embedding=np.array([0,0.1,0,0,0]))\n",
    "    d2_m = Document(embedding=np.array([1,0.1,0,0,0]))\n",
    "    d3_m = Document(embedding=np.array([1,1.2,1,1,0]))\n",
    "    d4_m = Document(embedding=np.array([1,2.2,2,1,0]))\n",
    "    d5_m = Document(embedding=np.array([4,5.2,2,1,0]))\n",
    "\n",
    "    D  = DocumentArray([d1,d2,d3,d4])\n",
    "    D2 = DocumentArray([d1_m, d2_m, d3_m, d4_m, d5_m])\n",
    "    return D, D2"
   ]
  },
  {
   "cell_type": "code",
   "execution_count": 254,
   "id": "08216202",
   "metadata": {},
   "outputs": [],
   "source": [
    "D, D2 = get_document_arrays()"
   ]
  },
  {
   "cell_type": "code",
   "execution_count": 270,
   "id": "7021a480",
   "metadata": {},
   "outputs": [
    {
     "data": {
      "text/plain": [
       "array([[0, 1, 2, 3, 4],\n",
       "       [1, 2, 3, 4, 0],\n",
       "       [4, 0, 1, 2, 3],\n",
       "       [4, 0, 3, 1, 2]])"
      ]
     },
     "execution_count": 270,
     "metadata": {},
     "output_type": "execute_result"
    }
   ],
   "source": [
    "E = np.stack(D.get_attributes('embedding'))\n",
    "E.argsort(axis=1)"
   ]
  },
  {
   "cell_type": "markdown",
   "id": "3f9d7705",
   "metadata": {},
   "source": [
    "#### _compute_dist Euclidean distance"
   ]
  },
  {
   "cell_type": "code",
   "execution_count": 256,
   "id": "8d075f93",
   "metadata": {},
   "outputs": [
    {
     "data": {
      "text/plain": [
       "array([[0.01, 1.01],\n",
       "       [0.01, 1.01],\n",
       "       [0.04, 2.44],\n",
       "       [0.04, 1.64]])"
      ]
     },
     "execution_count": 256,
     "metadata": {},
     "output_type": "execute_result"
    }
   ],
   "source": [
    "X = np.stack(D.get_attributes('embedding'))\n",
    "Y = np.stack(D2.get_attributes('embedding'))\n",
    "\n",
    "dists = D._compute_dist(X, Y, 'euclidean')\n",
    "idx, dist = D._get_sorted_top_k(dists, 2)\n",
    "dist"
   ]
  },
  {
   "cell_type": "code",
   "execution_count": 257,
   "id": "33bd69cb",
   "metadata": {},
   "outputs": [
    {
     "data": {
      "text/plain": [
       "array([[0.01, 1.01, 4.44],\n",
       "       [0.01, 1.01, 3.44],\n",
       "       [0.04, 2.44, 2.81],\n",
       "       [0.04, 1.64, 8.61]])"
      ]
     },
     "execution_count": 257,
     "metadata": {},
     "output_type": "execute_result"
    }
   ],
   "source": [
    "idx, dist = D._get_sorted_top_k(dists,3)\n",
    "dist"
   ]
  },
  {
   "cell_type": "markdown",
   "id": "a7e17869",
   "metadata": {},
   "source": [
    "#### Computing matches Euclidean distance"
   ]
  },
  {
   "cell_type": "code",
   "execution_count": 263,
   "id": "6720e6e5",
   "metadata": {},
   "outputs": [],
   "source": [
    "D, D2 = get_document_arrays()\n",
    "D.match(D2, metric='euclidean', limit=3)"
   ]
  },
  {
   "cell_type": "code",
   "execution_count": 264,
   "id": "ec332a5b",
   "metadata": {},
   "outputs": [
    {
     "name": "stdout",
     "output_type": "stream",
     "text": [
      "query=[1 1 1 1 0]\n",
      "[1.  1.2 1.  1.  0. ] dist= 0.03999999910593033\n",
      "[1.  2.2 2.  1.  0. ] dist= 2.440000057220459\n",
      "[1.  0.1 0.  0.  0. ] dist= 2.809999942779541\n"
     ]
    }
   ],
   "source": [
    "print(f'query={D[2].embedding}')\n",
    "for m in D[2].matches:\n",
    "    print(m.embedding, 'dist=', m.scores['euclidean'].value)"
   ]
  },
  {
   "cell_type": "code",
   "execution_count": 265,
   "id": "79538a7a",
   "metadata": {},
   "outputs": [
    {
     "name": "stdout",
     "output_type": "stream",
     "text": [
      "query=[1 0 0 0 0]\n",
      "[1.  0.1 0.  0.  0. ] dist= 0.009999999776482582\n",
      "[0.  0.1 0.  0.  0. ] dist= 1.0099999904632568\n",
      "[1.  1.2 1.  1.  0. ] dist= 3.440000057220459\n"
     ]
    }
   ],
   "source": [
    "print(f'query={D[1].embedding}')\n",
    "for m in D[1].matches:\n",
    "    print(m.embedding, 'dist=', m.scores['euclidean'].value)"
   ]
  },
  {
   "cell_type": "markdown",
   "id": "173a4757",
   "metadata": {},
   "source": [
    "#### Computing matches Cosine similarity"
   ]
  },
  {
   "cell_type": "code",
   "execution_count": 268,
   "id": "0a45cca5",
   "metadata": {},
   "outputs": [
    {
     "name": "stderr",
     "output_type": "stream",
     "text": [
      "/Users/davidbuchaca/Documents/git_stuff/jina/jina/types/arrays/document.py:523: RuntimeWarning: invalid value encountered in true_divide\n",
      "  )\n"
     ]
    }
   ],
   "source": [
    "D, D2 = get_document_arrays()\n",
    "D.match(D2, metric='cosine', limit=3)"
   ]
  },
  {
   "cell_type": "code",
   "execution_count": 269,
   "id": "a70f8563",
   "metadata": {},
   "outputs": [
    {
     "name": "stdout",
     "output_type": "stream",
     "text": [
      "query=[1 1 1 1 0]\n",
      "[1.  1.2 1.  1.  0. ] dist= 0.9966158866882324\n",
      "[1.  2.2 2.  1.  0. ] dist= 0.9415579438209534\n",
      "[4.  5.2 2.  1.  0. ] dist= 0.8800925612449646\n"
     ]
    }
   ],
   "source": [
    "print(f'query={D[2].embedding}')\n",
    "for m in D[2].matches:\n",
    "    print(m.embedding, 'dist=', m.scores['cosine'].value)"
   ]
  },
  {
   "cell_type": "code",
   "execution_count": 275,
   "id": "973a9b43",
   "metadata": {},
   "outputs": [
    {
     "data": {
      "text/plain": [
       "array([[           nan,            nan,            nan,            nan],\n",
       "       [           nan, 0.00000000e+00, 5.00000000e-01, 6.83772234e-01],\n",
       "       [           nan, 5.00000000e-01, 0.00000000e+00, 5.13167019e-02],\n",
       "       [           nan, 6.83772234e-01, 5.13167019e-02, 2.22044605e-16]])"
      ]
     },
     "execution_count": 275,
     "metadata": {},
     "output_type": "execute_result"
    }
   ],
   "source": [
    "cosine_distance(DE,DE)"
   ]
  },
  {
   "cell_type": "code",
   "execution_count": 276,
   "id": "4f2ff926",
   "metadata": {},
   "outputs": [],
   "source": [
    "\n",
    "def buch_cosine_distance(X, Y):\n",
    "    dists = 1- np.dot(X, Y.T)/np.outer(np.linalg.norm(X, ord=2, axis=1),np.linalg.norm(Y, ord=2, axis=1))\n",
    "    return dists"
   ]
  },
  {
   "cell_type": "code",
   "execution_count": 279,
   "id": "418117fc",
   "metadata": {},
   "outputs": [
    {
     "name": "stderr",
     "output_type": "stream",
     "text": [
      "<ipython-input-276-540327f3fa49>:2: RuntimeWarning: invalid value encountered in true_divide\n",
      "  dists = 1- np.dot(X, Y.T)/np.outer(np.linalg.norm(X, ord=2, axis=1),np.linalg.norm(Y, ord=2, axis=1))\n"
     ]
    },
    {
     "data": {
      "text/plain": [
       "array([[           nan,            nan,            nan,            nan],\n",
       "       [           nan, 0.00000000e+00, 5.00000000e-01, 6.83772234e-01],\n",
       "       [           nan, 5.00000000e-01, 0.00000000e+00, 5.13167019e-02],\n",
       "       [           nan, 6.83772234e-01, 5.13167019e-02, 2.22044605e-16]])"
      ]
     },
     "execution_count": 279,
     "metadata": {},
     "output_type": "execute_result"
    }
   ],
   "source": [
    "buch_cosine_distance(DE,DE)"
   ]
  },
  {
   "cell_type": "code",
   "execution_count": 280,
   "id": "fe2a1b2a",
   "metadata": {},
   "outputs": [
    {
     "data": {
      "text/plain": [
       "array([[0, 0, 0, 0, 0],\n",
       "       [1, 0, 0, 0, 0],\n",
       "       [1, 1, 1, 1, 0],\n",
       "       [1, 2, 2, 1, 0]])"
      ]
     },
     "execution_count": 280,
     "metadata": {},
     "output_type": "execute_result"
    }
   ],
   "source": [
    "DE"
   ]
  },
  {
   "cell_type": "code",
   "execution_count": null,
   "id": "feee24c4",
   "metadata": {},
   "outputs": [],
   "source": []
  },
  {
   "cell_type": "code",
   "execution_count": null,
   "id": "c856ddc0",
   "metadata": {},
   "outputs": [],
   "source": []
  },
  {
   "cell_type": "code",
   "execution_count": null,
   "id": "fc41178a",
   "metadata": {},
   "outputs": [],
   "source": []
  },
  {
   "cell_type": "code",
   "execution_count": 235,
   "id": "db020aaf",
   "metadata": {},
   "outputs": [
    {
     "name": "stderr",
     "output_type": "stream",
     "text": [
      "/Users/davidbuchaca/Documents/git_stuff/jina/jina/types/arrays/document.py:523: RuntimeWarning: invalid value encountered in true_divide\n",
      "  )\n"
     ]
    },
    {
     "data": {
      "text/plain": [
       "array([[       nan,        nan,        nan,        nan,        nan],\n",
       "       [1.        , 0.00496281, 0.525421  , 0.69627163, 0.42289014],\n",
       "       [0.5       , 0.45272955, 0.0033841 , 0.05844205, 0.11990747],\n",
       "       [0.36754447, 0.62240993, 0.03951964, 0.00110762, 0.11488392]])"
      ]
     },
     "execution_count": 235,
     "metadata": {},
     "output_type": "execute_result"
    }
   ],
   "source": [
    "DE = np.stack(D.get_attributes('embedding'))\n",
    "D2E = np.stack(D2.get_attributes('embedding'))\n",
    "cosine_distance(DE, D2E)"
   ]
  },
  {
   "cell_type": "code",
   "execution_count": 151,
   "id": "40623102",
   "metadata": {},
   "outputs": [
    {
     "data": {
      "text/plain": [
       "array([[1.000e-02, 1.084e+01],\n",
       "       [1.010e+00, 9.840e+00],\n",
       "       [3.810e+00, 2.440e+00],\n",
       "       [9.610e+00, 4.000e-02]])"
      ]
     },
     "execution_count": 151,
     "metadata": {},
     "output_type": "execute_result"
    }
   ],
   "source": [
    "DE = np.stack(D.get_attributes('embedding'))\n",
    "D2E = np.stack(D2.get_attributes('embedding'))\n",
    "\n",
    "euclidean_distance_squared(DE,D2E)"
   ]
  },
  {
   "cell_type": "markdown",
   "id": "0de83759",
   "metadata": {},
   "source": [
    "With metric='cosine':\n",
    "\n",
    "```\n",
    "array([[       nan,        nan],\n",
    "       [1.        , 0.69627163],\n",
    "       [0.5       , 0.05844205],\n",
    "       [0.36754447, 0.00110762]])\n",
    "```"
   ]
  },
  {
   "cell_type": "code",
   "execution_count": 152,
   "id": "a4444ea2",
   "metadata": {},
   "outputs": [],
   "source": [
    "#E = np.stack(darr.get_attributes('embedding'))\n",
    "#print(E.shape)"
   ]
  },
  {
   "cell_type": "code",
   "execution_count": null,
   "id": "414f90dd",
   "metadata": {},
   "outputs": [],
   "source": []
  }
 ],
 "metadata": {
  "kernelspec": {
   "display_name": "Python 3",
   "language": "python",
   "name": "python3"
  },
  "language_info": {
   "codemirror_mode": {
    "name": "ipython",
    "version": 3
   },
   "file_extension": ".py",
   "mimetype": "text/x-python",
   "name": "python",
   "nbconvert_exporter": "python",
   "pygments_lexer": "ipython3",
   "version": "3.8.8"
  }
 },
 "nbformat": 4,
 "nbformat_minor": 5
}
