{
 "cells": [
  {
   "cell_type": "markdown",
   "metadata": {
    "toc": true
   },
   "source": [
    "<h1>Table of Contents<span class=\"tocSkip\"></span></h1>\n",
    "<div class=\"toc\"><ul class=\"toc-item\"><li><ul class=\"toc-item\"><li><span><a href=\"#More-examples\" data-toc-modified-id=\"More-examples-0.1\"><span class=\"toc-item-num\">0.1&nbsp;&nbsp;</span>More examples</a></span><ul class=\"toc-item\"><li><span><a href=\"#Computing-matches-Euclidean-similarity\" data-toc-modified-id=\"Computing-matches-Euclidean-similarity-0.1.1\"><span class=\"toc-item-num\">0.1.1&nbsp;&nbsp;</span>Computing matches Euclidean similarity</a></span></li><li><span><a href=\"#Computing-matches-Euclidean-distance\" data-toc-modified-id=\"Computing-matches-Euclidean-distance-0.1.2\"><span class=\"toc-item-num\">0.1.2&nbsp;&nbsp;</span>Computing matches Euclidean distance</a></span></li><li><span><a href=\"#Computing-matches-Cosine-similarity\" data-toc-modified-id=\"Computing-matches-Cosine-similarity-0.1.3\"><span class=\"toc-item-num\">0.1.3&nbsp;&nbsp;</span>Computing matches Cosine similarity</a></span></li></ul></li><li><span><a href=\"#test-distances-with-scipy\" data-toc-modified-id=\"test-distances-with-scipy-0.2\"><span class=\"toc-item-num\">0.2&nbsp;&nbsp;</span>test distances with scipy</a></span></li><li><span><a href=\"#Document-Memmap\" data-toc-modified-id=\"Document-Memmap-0.3\"><span class=\"toc-item-num\">0.3&nbsp;&nbsp;</span>Document Memmap</a></span><ul class=\"toc-item\"><li><span><a href=\"#Test-distances-using-memmaparrays\" data-toc-modified-id=\"Test-distances-using-memmaparrays-0.3.1\"><span class=\"toc-item-num\">0.3.1&nbsp;&nbsp;</span>Test distances using memmaparrays</a></span></li></ul></li></ul></li><li><span><a href=\"#Batching-distance-computation\" data-toc-modified-id=\"Batching-distance-computation-1\"><span class=\"toc-item-num\">1&nbsp;&nbsp;</span>Batching distance computation</a></span></li></ul></div>"
   ]
  },
  {
   "cell_type": "code",
   "execution_count": 6,
   "metadata": {
    "ExecuteTime": {
     "end_time": "2021-08-04T13:48:42.900817Z",
     "start_time": "2021-08-04T13:48:42.867272Z"
    }
   },
   "outputs": [
    {
     "name": "stdout",
     "output_type": "stream",
     "text": [
      "The autoreload extension is already loaded. To reload it, use:\n",
      "  %reload_ext autoreload\n"
     ]
    }
   ],
   "source": [
    "%load_ext autoreload\n",
    "%autoreload 2"
   ]
  },
  {
   "cell_type": "code",
   "execution_count": 7,
   "metadata": {
    "ExecuteTime": {
     "end_time": "2021-08-04T13:48:43.110039Z",
     "start_time": "2021-08-04T13:48:43.067726Z"
    }
   },
   "outputs": [
    {
     "name": "stdout",
     "output_type": "stream",
     "text": [
      "query emb = [1 1 1 1 0]\n",
      "match emb = [1.  1.2 1.  1.  0. ] score = 0.20000000298023224\n",
      "match emb = [1.  2.2 2.  1.  0. ] score = 1.5620499849319458\n",
      "match emb = [1.  0.1 0.  0.  0. ] score = 1.6763054132461548\n"
     ]
    }
   ],
   "source": [
    "from jina import Document, DocumentArray\n",
    "import numpy as np\n",
    "\n",
    "d1 = Document(embedding=np.array([0,0,0,0,1]))\n",
    "d2 = Document(embedding=np.array([1,0,0,0,0]))\n",
    "d3 = Document(embedding=np.array([1,1,1,1,0]))\n",
    "d4 = Document(embedding=np.array([1,2,2,1,0]))\n",
    "\n",
    "d1_m = Document(embedding=np.array([0,0.1,0,0,0]))\n",
    "d2_m = Document(embedding=np.array([1,0.1,0,0,0]))\n",
    "d3_m = Document(embedding=np.array([1,1.2,1,1,0]))\n",
    "d4_m = Document(embedding=np.array([1,2.2,2,1,0]))\n",
    "d5_m = Document(embedding=np.array([4,5.2,2,1,0]))\n",
    "\n",
    "da_1 = DocumentArray([d1, d2, d3, d4])\n",
    "da_2 = DocumentArray([d1_m, d2_m, d3_m, d4_m, d5_m])\n",
    "\n",
    "\n",
    "da_1.match(da_2, metric='euclidean',  limit=3)\n",
    "query = da_1[2]\n",
    "print(f'query emb = {query.embedding}')\n",
    "for m in query.matches:\n",
    "    print('match emb =', m.embedding, 'score =', m.scores['euclidean'].value)"
   ]
  },
  {
   "cell_type": "code",
   "execution_count": 8,
   "metadata": {
    "ExecuteTime": {
     "end_time": "2021-08-04T13:48:43.524197Z",
     "start_time": "2021-08-04T13:48:43.475734Z"
    },
    "scrolled": true
   },
   "outputs": [
    {
     "ename": "TypeError",
     "evalue": "matrix is not square",
     "output_type": "error",
     "traceback": [
      "\u001b[0;31m---------------------------------------------------------------------------\u001b[0m",
      "\u001b[0;31mTypeError\u001b[0m                                 Traceback (most recent call last)",
      "\u001b[0;32m<ipython-input-8-d622ce7db18a>\u001b[0m in \u001b[0;36m<module>\u001b[0;34m\u001b[0m\n\u001b[1;32m     16\u001b[0m \u001b[0mda_2\u001b[0m \u001b[0;34m=\u001b[0m \u001b[0mDocumentArray\u001b[0m\u001b[0;34m(\u001b[0m\u001b[0;34m[\u001b[0m\u001b[0md1_m\u001b[0m\u001b[0;34m,\u001b[0m \u001b[0md2_m\u001b[0m\u001b[0;34m,\u001b[0m \u001b[0md3_m\u001b[0m\u001b[0;34m,\u001b[0m \u001b[0md4_m\u001b[0m\u001b[0;34m,\u001b[0m \u001b[0md5_m\u001b[0m\u001b[0;34m]\u001b[0m\u001b[0;34m)\u001b[0m\u001b[0;34m\u001b[0m\u001b[0;34m\u001b[0m\u001b[0m\n\u001b[1;32m     17\u001b[0m \u001b[0;34m\u001b[0m\u001b[0m\n\u001b[0;32m---> 18\u001b[0;31m \u001b[0mda_1\u001b[0m\u001b[0;34m.\u001b[0m\u001b[0mmatch\u001b[0m\u001b[0;34m(\u001b[0m\u001b[0mda_2\u001b[0m\u001b[0;34m,\u001b[0m \u001b[0mmetric\u001b[0m\u001b[0;34m=\u001b[0m\u001b[0;34m'euclidean'\u001b[0m\u001b[0;34m,\u001b[0m \u001b[0mlimit\u001b[0m\u001b[0;34m=\u001b[0m\u001b[0;36m3\u001b[0m\u001b[0;34m)\u001b[0m\u001b[0;34m\u001b[0m\u001b[0;34m\u001b[0m\u001b[0m\n\u001b[0m\u001b[1;32m     19\u001b[0m \u001b[0mquery\u001b[0m \u001b[0;34m=\u001b[0m \u001b[0mda_1\u001b[0m\u001b[0;34m[\u001b[0m\u001b[0;36m2\u001b[0m\u001b[0;34m]\u001b[0m\u001b[0;34m\u001b[0m\u001b[0;34m\u001b[0m\u001b[0m\n\u001b[1;32m     20\u001b[0m \u001b[0mprint\u001b[0m\u001b[0;34m(\u001b[0m\u001b[0;34mf'query emb = {query.embedding.todense()}'\u001b[0m\u001b[0;34m)\u001b[0m\u001b[0;34m\u001b[0m\u001b[0;34m\u001b[0m\u001b[0m\n",
      "\u001b[0;32m~/Documents/git_stuff/jina/jina/types/arrays/neural_ops.py\u001b[0m in \u001b[0;36mmatch\u001b[0;34m(self, darray, metric, limit, normalization, use_scipy, metric_name)\u001b[0m\n\u001b[1;32m     63\u001b[0m             \u001b[0;32melse\u001b[0m\u001b[0;34m:\u001b[0m\u001b[0;34m\u001b[0m\u001b[0;34m\u001b[0m\u001b[0m\n\u001b[1;32m     64\u001b[0m                 \u001b[0;32mfrom\u001b[0m \u001b[0;34m...\u001b[0m\u001b[0mmath\u001b[0m\u001b[0;34m.\u001b[0m\u001b[0mdistance\u001b[0m \u001b[0;32mimport\u001b[0m \u001b[0mcdist\u001b[0m\u001b[0;34m\u001b[0m\u001b[0;34m\u001b[0m\u001b[0m\n\u001b[0;32m---> 65\u001b[0;31m             \u001b[0mdists\u001b[0m \u001b[0;34m=\u001b[0m \u001b[0mcdist\u001b[0m\u001b[0;34m(\u001b[0m\u001b[0mX\u001b[0m\u001b[0;34m,\u001b[0m \u001b[0mY\u001b[0m\u001b[0;34m,\u001b[0m \u001b[0mmetric\u001b[0m\u001b[0;34m)\u001b[0m\u001b[0;34m\u001b[0m\u001b[0;34m\u001b[0m\u001b[0m\n\u001b[0m\u001b[1;32m     66\u001b[0m         \u001b[0;32melif\u001b[0m \u001b[0mcallable\u001b[0m\u001b[0;34m(\u001b[0m\u001b[0mmetric\u001b[0m\u001b[0;34m)\u001b[0m\u001b[0;34m:\u001b[0m\u001b[0;34m\u001b[0m\u001b[0;34m\u001b[0m\u001b[0m\n\u001b[1;32m     67\u001b[0m             \u001b[0mdists\u001b[0m \u001b[0;34m=\u001b[0m \u001b[0mmetric\u001b[0m\u001b[0;34m(\u001b[0m\u001b[0mX\u001b[0m\u001b[0;34m,\u001b[0m \u001b[0mY\u001b[0m\u001b[0;34m)\u001b[0m\u001b[0;34m\u001b[0m\u001b[0;34m\u001b[0m\u001b[0m\n",
      "\u001b[0;32m~/Documents/git_stuff/jina/jina/math/distance.py\u001b[0m in \u001b[0;36mcdist\u001b[0;34m(x_mat, y_mat, metric)\u001b[0m\n\u001b[1;32m     27\u001b[0m         \u001b[0mdists\u001b[0m \u001b[0;34m=\u001b[0m \u001b[0msqeuclidean\u001b[0m\u001b[0;34m(\u001b[0m\u001b[0mx_mat\u001b[0m\u001b[0;34m,\u001b[0m \u001b[0my_mat\u001b[0m\u001b[0;34m)\u001b[0m\u001b[0;34m\u001b[0m\u001b[0;34m\u001b[0m\u001b[0m\n\u001b[1;32m     28\u001b[0m     \u001b[0;32melif\u001b[0m \u001b[0mmetric\u001b[0m \u001b[0;34m==\u001b[0m \u001b[0;34m'euclidean'\u001b[0m\u001b[0;34m:\u001b[0m\u001b[0;34m\u001b[0m\u001b[0;34m\u001b[0m\u001b[0m\n\u001b[0;32m---> 29\u001b[0;31m         \u001b[0mdists\u001b[0m \u001b[0;34m=\u001b[0m \u001b[0mnp\u001b[0m\u001b[0;34m.\u001b[0m\u001b[0msqrt\u001b[0m\u001b[0;34m(\u001b[0m\u001b[0msqeuclidean\u001b[0m\u001b[0;34m(\u001b[0m\u001b[0mx_mat\u001b[0m\u001b[0;34m,\u001b[0m \u001b[0my_mat\u001b[0m\u001b[0;34m)\u001b[0m\u001b[0;34m)\u001b[0m\u001b[0;34m\u001b[0m\u001b[0;34m\u001b[0m\u001b[0m\n\u001b[0m\u001b[1;32m     30\u001b[0m     \u001b[0;32melse\u001b[0m\u001b[0;34m:\u001b[0m\u001b[0;34m\u001b[0m\u001b[0;34m\u001b[0m\u001b[0m\n\u001b[1;32m     31\u001b[0m         \u001b[0;32mraise\u001b[0m \u001b[0mValueError\u001b[0m\u001b[0;34m(\u001b[0m\u001b[0;34mf'Input metric={metric} not valid'\u001b[0m\u001b[0;34m)\u001b[0m\u001b[0;34m\u001b[0m\u001b[0;34m\u001b[0m\u001b[0m\n",
      "\u001b[0;32m~/Documents/git_stuff/jina/jina/math/distance.py\u001b[0m in \u001b[0;36msqeuclidean\u001b[0;34m(x_mat, y_mat)\u001b[0m\n\u001b[1;32m     51\u001b[0m     \"\"\"\n\u001b[1;32m     52\u001b[0m     return (\n\u001b[0;32m---> 53\u001b[0;31m         \u001b[0mnp\u001b[0m\u001b[0;34m.\u001b[0m\u001b[0msum\u001b[0m\u001b[0;34m(\u001b[0m\u001b[0my_mat\u001b[0m \u001b[0;34m**\u001b[0m \u001b[0;36m2\u001b[0m\u001b[0;34m,\u001b[0m \u001b[0maxis\u001b[0m\u001b[0;34m=\u001b[0m\u001b[0;36m1\u001b[0m\u001b[0;34m)\u001b[0m\u001b[0;34m\u001b[0m\u001b[0;34m\u001b[0m\u001b[0m\n\u001b[0m\u001b[1;32m     54\u001b[0m         \u001b[0;34m+\u001b[0m \u001b[0mnp\u001b[0m\u001b[0;34m.\u001b[0m\u001b[0msum\u001b[0m\u001b[0;34m(\u001b[0m\u001b[0mx_mat\u001b[0m \u001b[0;34m**\u001b[0m \u001b[0;36m2\u001b[0m\u001b[0;34m,\u001b[0m \u001b[0maxis\u001b[0m\u001b[0;34m=\u001b[0m\u001b[0;36m1\u001b[0m\u001b[0;34m)\u001b[0m\u001b[0;34m[\u001b[0m\u001b[0;34m:\u001b[0m\u001b[0;34m,\u001b[0m \u001b[0mnp\u001b[0m\u001b[0;34m.\u001b[0m\u001b[0mnewaxis\u001b[0m\u001b[0;34m]\u001b[0m\u001b[0;34m\u001b[0m\u001b[0;34m\u001b[0m\u001b[0m\n\u001b[1;32m     55\u001b[0m         \u001b[0;34m-\u001b[0m \u001b[0;36m2\u001b[0m \u001b[0;34m*\u001b[0m \u001b[0mnp\u001b[0m\u001b[0;34m.\u001b[0m\u001b[0mdot\u001b[0m\u001b[0;34m(\u001b[0m\u001b[0mx_mat\u001b[0m\u001b[0;34m,\u001b[0m \u001b[0my_mat\u001b[0m\u001b[0;34m.\u001b[0m\u001b[0mT\u001b[0m\u001b[0;34m)\u001b[0m\u001b[0;34m\u001b[0m\u001b[0;34m\u001b[0m\u001b[0m\n",
      "\u001b[0;32m~/opt/anaconda3/lib/python3.8/site-packages/scipy/sparse/base.py\u001b[0m in \u001b[0;36m__pow__\u001b[0;34m(self, other)\u001b[0m\n\u001b[1;32m    652\u001b[0m     \u001b[0;32mdef\u001b[0m \u001b[0m__pow__\u001b[0m\u001b[0;34m(\u001b[0m\u001b[0mself\u001b[0m\u001b[0;34m,\u001b[0m \u001b[0mother\u001b[0m\u001b[0;34m)\u001b[0m\u001b[0;34m:\u001b[0m\u001b[0;34m\u001b[0m\u001b[0;34m\u001b[0m\u001b[0m\n\u001b[1;32m    653\u001b[0m         \u001b[0;32mif\u001b[0m \u001b[0mself\u001b[0m\u001b[0;34m.\u001b[0m\u001b[0mshape\u001b[0m\u001b[0;34m[\u001b[0m\u001b[0;36m0\u001b[0m\u001b[0;34m]\u001b[0m \u001b[0;34m!=\u001b[0m \u001b[0mself\u001b[0m\u001b[0;34m.\u001b[0m\u001b[0mshape\u001b[0m\u001b[0;34m[\u001b[0m\u001b[0;36m1\u001b[0m\u001b[0;34m]\u001b[0m\u001b[0;34m:\u001b[0m\u001b[0;34m\u001b[0m\u001b[0;34m\u001b[0m\u001b[0m\n\u001b[0;32m--> 654\u001b[0;31m             \u001b[0;32mraise\u001b[0m \u001b[0mTypeError\u001b[0m\u001b[0;34m(\u001b[0m\u001b[0;34m'matrix is not square'\u001b[0m\u001b[0;34m)\u001b[0m\u001b[0;34m\u001b[0m\u001b[0;34m\u001b[0m\u001b[0m\n\u001b[0m\u001b[1;32m    655\u001b[0m \u001b[0;34m\u001b[0m\u001b[0m\n\u001b[1;32m    656\u001b[0m         \u001b[0;32mif\u001b[0m \u001b[0misintlike\u001b[0m\u001b[0;34m(\u001b[0m\u001b[0mother\u001b[0m\u001b[0;34m)\u001b[0m\u001b[0;34m:\u001b[0m\u001b[0;34m\u001b[0m\u001b[0;34m\u001b[0m\u001b[0m\n",
      "\u001b[0;31mTypeError\u001b[0m: matrix is not square"
     ]
    }
   ],
   "source": [
    "from jina import Document, DocumentArray\n",
    "import scipy.sparse as sp\n",
    "\n",
    "d1 = Document(embedding=sp.csr_matrix([0,0,0,0,1]))\n",
    "d2 = Document(embedding=sp.csr_matrix([1,0,0,0,0]))\n",
    "d3 = Document(embedding=sp.csr_matrix([1,1,1,1,0]))\n",
    "d4 = Document(embedding=sp.csr_matrix([1,2,2,1,0]))\n",
    "\n",
    "d1_m = Document(embedding=sp.csr_matrix([0,0.1,0,0,0]))\n",
    "d2_m = Document(embedding=sp.csr_matrix([1,0.1,0,0,0]))\n",
    "d3_m = Document(embedding=sp.csr_matrix([1,1.2,1,1,0]))\n",
    "d4_m = Document(embedding=sp.csr_matrix([1,2.2,2,1,0]))\n",
    "d5_m = Document(embedding=sp.csr_matrix([4,5.2,2,1,0]))\n",
    "\n",
    "da_1 = DocumentArray([d1, d2, d3, d4])\n",
    "da_2 = DocumentArray([d1_m, d2_m, d3_m, d4_m, d5_m])\n",
    "\n",
    "da_1.match(da_2, metric='euclidean', limit=3)\n",
    "query = da_1[2]\n",
    "print(f'query emb = {query.embedding.todense()}')\n",
    "for m in query.matches:\n",
    "    print('match emb =', m.embedding.todense(), 'score =', m.scores['euclidean'].value)"
   ]
  },
  {
   "cell_type": "code",
   "execution_count": null,
   "metadata": {},
   "outputs": [],
   "source": []
  },
  {
   "cell_type": "code",
   "execution_count": null,
   "metadata": {},
   "outputs": [],
   "source": []
  },
  {
   "cell_type": "code",
   "execution_count": null,
   "metadata": {},
   "outputs": [],
   "source": []
  },
  {
   "cell_type": "markdown",
   "metadata": {},
   "source": [
    "## More examples"
   ]
  },
  {
   "cell_type": "code",
   "execution_count": 9,
   "metadata": {
    "ExecuteTime": {
     "end_time": "2021-08-04T13:49:11.675523Z",
     "start_time": "2021-08-04T13:49:11.634827Z"
    }
   },
   "outputs": [],
   "source": [
    "from jina import Document, DocumentArray\n",
    "import numpy as np\n",
    "from jina.math.distance import cosine, sqeuclidean, cdist"
   ]
  },
  {
   "cell_type": "code",
   "execution_count": 10,
   "metadata": {
    "ExecuteTime": {
     "end_time": "2021-08-04T13:49:18.005828Z",
     "start_time": "2021-08-04T13:49:17.969435Z"
    }
   },
   "outputs": [],
   "source": [
    "n_features = 100\n",
    "\n",
    "def get_document_arrays():\n",
    "    d1 = Document(embedding=np.array([0,0,0,0,0]))\n",
    "    d2 = Document(embedding=np.array([1,0,0,0,0]))\n",
    "    d3 = Document(embedding=np.array([1,1,1,1,0]))\n",
    "    d4 = Document(embedding=np.array([1,2,2,1,0]))\n",
    "\n",
    "    d1_m = Document(embedding=np.array([0,0.1,0,0,0]))\n",
    "    d2_m = Document(embedding=np.array([1,0.1,0,0,0]))\n",
    "    d3_m = Document(embedding=np.array([1,1.2,1,1,0]))\n",
    "    d4_m = Document(embedding=np.array([1,2.2,2,1,0]))\n",
    "    d5_m = Document(embedding=np.array([4,5.2,2,1,0]))\n",
    "\n",
    "    D  = DocumentArray([d1,d2,d3,d4])\n",
    "    D2 = DocumentArray([d1_m, d2_m, d3_m, d4_m, d5_m])\n",
    "    return D, D2\n",
    "\n",
    "import scipy.sparse as sp\n",
    "\n",
    "def get_document_arrays_sparse():\n",
    "    d1 = Document(embedding=sp.csr_matrix([0,0,0,0,0]))\n",
    "    d2 = Document(embedding=sp.csr_matrix([1,0,0,0,0]))\n",
    "    d3 = Document(embedding=sp.csr_matrix([1,1,1,1,0]))\n",
    "    d4 = Document(embedding=sp.csr_matrix([1,2,2,1,0]))\n",
    "\n",
    "    d1_m = Document(embedding=sp.csr_matrix([0,0.1,0,0,0]))\n",
    "    d2_m = Document(embedding=sp.csr_matrix([1,0.1,0,0,0]))\n",
    "    d3_m = Document(embedding=sp.csr_matrix([1,1.2,1,1,0]))\n",
    "    d4_m = Document(embedding=sp.csr_matrix([1,2.2,2,1,0]))\n",
    "    d5_m = Document(embedding=sp.csr_matrix([4,5.2,2,1,0]))\n",
    "\n",
    "    D  = DocumentArray([d1,d2,d3,d4])\n",
    "    D2 = DocumentArray([d1_m, d2_m, d3_m, d4_m, d5_m])\n",
    "    return D, D2"
   ]
  },
  {
   "cell_type": "code",
   "execution_count": 11,
   "metadata": {
    "ExecuteTime": {
     "end_time": "2021-08-04T13:49:18.205360Z",
     "start_time": "2021-08-04T13:49:18.173102Z"
    }
   },
   "outputs": [],
   "source": [
    "D, D2 = get_document_arrays()"
   ]
  },
  {
   "cell_type": "code",
   "execution_count": 12,
   "metadata": {
    "ExecuteTime": {
     "end_time": "2021-08-04T13:49:19.041579Z",
     "start_time": "2021-08-04T13:49:19.003394Z"
    }
   },
   "outputs": [
    {
     "data": {
      "text/plain": [
       "array([[0, 1, 2, 3, 4],\n",
       "       [1, 2, 3, 4, 0],\n",
       "       [4, 0, 1, 2, 3],\n",
       "       [4, 0, 3, 1, 2]])"
      ]
     },
     "execution_count": 12,
     "metadata": {},
     "output_type": "execute_result"
    }
   ],
   "source": [
    "E = np.stack(D.get_attributes('embedding'))\n",
    "E.argsort(axis=1)"
   ]
  },
  {
   "cell_type": "markdown",
   "metadata": {},
   "source": [
    "#### _compute_dist Euclidean distance"
   ]
  },
  {
   "cell_type": "code",
   "execution_count": 13,
   "metadata": {
    "ExecuteTime": {
     "end_time": "2021-08-04T13:49:19.533652Z",
     "start_time": "2021-08-04T13:49:19.498542Z"
    }
   },
   "outputs": [
    {
     "data": {
      "text/plain": [
       "array([[0.1       , 1.00498756, 2.10713075, 3.29241553, 6.93108938],\n",
       "       [1.00498756, 0.1       , 1.8547237 , 3.13687743, 6.40624695],\n",
       "       [1.95192213, 1.67630546, 0.2       , 1.56204994, 5.25737577],\n",
       "       [3.1       , 2.93428015, 1.28062485, 0.2       , 4.38634244]])"
      ]
     },
     "execution_count": 13,
     "metadata": {},
     "output_type": "execute_result"
    }
   ],
   "source": [
    "X = np.stack(D.get_attributes('embedding'))\n",
    "Y = np.stack(D2.get_attributes('embedding'))\n",
    "\n",
    "dists = cdist(X, Y, 'euclidean')\n",
    "dists"
   ]
  },
  {
   "cell_type": "markdown",
   "metadata": {},
   "source": [
    "### Computing matches Euclidean similarity\n",
    "\n",
    "By default `D.match` uses a similarity metric.\n",
    "\n",
    "This means matched results are ordered from highest to lowest"
   ]
  },
  {
   "cell_type": "code",
   "execution_count": 14,
   "metadata": {
    "ExecuteTime": {
     "end_time": "2021-08-04T13:49:20.668248Z",
     "start_time": "2021-08-04T13:49:20.634868Z"
    }
   },
   "outputs": [],
   "source": [
    "D, D2 = get_document_arrays()\n",
    "D.match(D2, metric='euclidean', limit=3)"
   ]
  },
  {
   "cell_type": "code",
   "execution_count": null,
   "metadata": {
    "ExecuteTime": {
     "end_time": "2021-07-29T13:53:41.673498Z",
     "start_time": "2021-07-29T13:53:41.649704Z"
    }
   },
   "outputs": [],
   "source": [
    "print(f'query={D[2].embedding}')\n",
    "for m in D[2].matches:\n",
    "    print(m.embedding, 'score =', m.scores['euclidean'].value)"
   ]
  },
  {
   "cell_type": "code",
   "execution_count": null,
   "metadata": {
    "ExecuteTime": {
     "end_time": "2021-07-29T13:53:41.846734Z",
     "start_time": "2021-07-29T13:53:41.822812Z"
    },
    "scrolled": true
   },
   "outputs": [],
   "source": [
    "print(f'query={D[1].embedding}')\n",
    "for m in D[1].matches:\n",
    "    print(m.embedding, 'score =', m.scores['euclidean'].value)"
   ]
  },
  {
   "cell_type": "code",
   "execution_count": null,
   "metadata": {
    "ExecuteTime": {
     "end_time": "2021-07-29T13:56:13.366325Z",
     "start_time": "2021-07-29T13:56:13.333458Z"
    },
    "scrolled": false
   },
   "outputs": [],
   "source": [
    "from jina.enums import EmbeddingClsType\n",
    "\n",
    "D, D2 = get_document_arrays_sparse()\n",
    "D.match(D2, \n",
    "        metric='euclidean',\n",
    "        limit=3,\n",
    "        is_sparse=True)\n",
    "        #embedding_cls_type = EmbeddingClsType.SCIPY_CSR)"
   ]
  },
  {
   "cell_type": "code",
   "execution_count": null,
   "metadata": {
    "ExecuteTime": {
     "end_time": "2021-07-29T13:56:13.661814Z",
     "start_time": "2021-07-29T13:56:13.637394Z"
    }
   },
   "outputs": [],
   "source": [
    "print(f'query={D[1].embedding.todense()}')\n",
    "for m in D[1].matches:\n",
    "    print(m.embedding.todense(), 'score =', m.scores['euclidean'].value)"
   ]
  },
  {
   "cell_type": "code",
   "execution_count": null,
   "metadata": {
    "ExecuteTime": {
     "end_time": "2021-07-29T13:55:13.347704Z",
     "start_time": "2021-07-29T13:55:13.324114Z"
    },
    "scrolled": true
   },
   "outputs": [],
   "source": [
    "print(f'query={D[2].embedding.todense()}')\n",
    "for m in D[2].matches:\n",
    "    print(m.embedding.todense(), 'score =', m.scores['euclidean'].value)"
   ]
  },
  {
   "cell_type": "markdown",
   "metadata": {},
   "source": [
    "### Computing matches Euclidean distance\n",
    "\n",
    "If we want to use a distance we need to specify **`is_distance=True`**.\n",
    "\n",
    "If we do so we should get results ordered from lowest to highest"
   ]
  },
  {
   "cell_type": "code",
   "execution_count": null,
   "metadata": {
    "ExecuteTime": {
     "end_time": "2021-07-20T09:19:20.228570Z",
     "start_time": "2021-07-20T09:19:20.222347Z"
    },
    "slideshow": {
     "slide_type": "slide"
    }
   },
   "outputs": [],
   "source": [
    "D, D2 = get_document_arrays()\n",
    "D.match(D2, metric='euclidean', limit=3, is_distance=True)"
   ]
  },
  {
   "cell_type": "code",
   "execution_count": null,
   "metadata": {
    "ExecuteTime": {
     "end_time": "2021-07-20T09:19:20.417002Z",
     "start_time": "2021-07-20T09:19:20.412986Z"
    }
   },
   "outputs": [],
   "source": [
    "print(f'query={D[2].embedding}')\n",
    "for m in D[2].matches:\n",
    "    print(m.embedding, 'distance =', m.scores['euclidean'].value)"
   ]
  },
  {
   "cell_type": "markdown",
   "metadata": {},
   "source": [
    "### Computing matches Cosine similarity"
   ]
  },
  {
   "cell_type": "code",
   "execution_count": null,
   "metadata": {
    "ExecuteTime": {
     "end_time": "2021-07-20T09:19:20.815031Z",
     "start_time": "2021-07-20T09:19:20.808484Z"
    }
   },
   "outputs": [],
   "source": [
    "D, D2 = get_document_arrays()\n",
    "D.match(D2, metric='cosine', limit=3)"
   ]
  },
  {
   "cell_type": "code",
   "execution_count": null,
   "metadata": {
    "ExecuteTime": {
     "end_time": "2021-07-20T09:19:21.013031Z",
     "start_time": "2021-07-20T09:19:21.009130Z"
    }
   },
   "outputs": [],
   "source": [
    "print(f'query={D[2].embedding}')\n",
    "for m in D[2].matches:\n",
    "    print(m.embedding, 'dist=', m.scores['cosine'].value)"
   ]
  },
  {
   "cell_type": "code",
   "execution_count": null,
   "metadata": {
    "ExecuteTime": {
     "end_time": "2021-07-20T09:19:21.192879Z",
     "start_time": "2021-07-20T09:19:21.189504Z"
    }
   },
   "outputs": [],
   "source": [
    "scores = [m.scores['cosine'].value for m in D[2].matches]\n",
    "scores ==sorted(scores)[::-1]"
   ]
  },
  {
   "cell_type": "markdown",
   "metadata": {},
   "source": [
    "If we want cosine distance we need to specify `is_distance=True`"
   ]
  },
  {
   "cell_type": "code",
   "execution_count": null,
   "metadata": {
    "ExecuteTime": {
     "end_time": "2021-07-20T09:19:21.780184Z",
     "start_time": "2021-07-20T09:19:21.774067Z"
    }
   },
   "outputs": [],
   "source": [
    "D, D2 = get_document_arrays()\n",
    "D.match(D2, metric='cosine', limit=3, is_distance=True)"
   ]
  },
  {
   "cell_type": "code",
   "execution_count": null,
   "metadata": {
    "ExecuteTime": {
     "end_time": "2021-07-20T09:19:22.069953Z",
     "start_time": "2021-07-20T09:19:22.066668Z"
    }
   },
   "outputs": [],
   "source": [
    "print(f'query={D[2].embedding}')\n",
    "for m in D[2].matches:\n",
    "    print(m.embedding, 'dist=', m.scores['cosine'].value)"
   ]
  },
  {
   "cell_type": "code",
   "execution_count": null,
   "metadata": {
    "ExecuteTime": {
     "end_time": "2021-07-20T09:19:22.385573Z",
     "start_time": "2021-07-20T09:19:22.382587Z"
    }
   },
   "outputs": [],
   "source": [
    "distances = [m.scores['cosine'].value for m in D[2].matches]\n",
    "distances ==sorted(distances)"
   ]
  },
  {
   "cell_type": "code",
   "execution_count": null,
   "metadata": {
    "ExecuteTime": {
     "end_time": "2021-07-20T09:19:24.951812Z",
     "start_time": "2021-07-20T09:19:24.948517Z"
    }
   },
   "outputs": [],
   "source": [
    "[m.scores['cosine'].value for d in D for m in d.matches]"
   ]
  },
  {
   "cell_type": "markdown",
   "metadata": {},
   "source": [
    "## test distances with scipy"
   ]
  },
  {
   "cell_type": "code",
   "execution_count": null,
   "metadata": {
    "ExecuteTime": {
     "end_time": "2021-07-20T09:20:25.049189Z",
     "start_time": "2021-07-20T09:20:25.047370Z"
    }
   },
   "outputs": [],
   "source": [
    "\n",
    "from scipy.spatial.distance import cdist"
   ]
  },
  {
   "cell_type": "code",
   "execution_count": null,
   "metadata": {
    "ExecuteTime": {
     "end_time": "2021-07-20T09:32:16.515534Z",
     "start_time": "2021-07-20T09:32:16.512660Z"
    }
   },
   "outputs": [],
   "source": [
    "#X = np.random.random((10,5))\n",
    "#Y = np.random.random((15,5))\n",
    "\n",
    "X = np.array([[1,1,1],[4,5,6],[0,1,2]])\n",
    "Y = np.array([[1,1,2],[2,3,4]])\n",
    "XYdistances = cdist(X,Y,metric='euclidean')\n",
    "XY_new = np.sqrt(euclidean_distance_squared(X,Y))\n",
    "np.testing.assert_almost_equal(XYdistances,XY_new)"
   ]
  },
  {
   "cell_type": "code",
   "execution_count": null,
   "metadata": {
    "ExecuteTime": {
     "end_time": "2021-07-20T09:33:18.550215Z",
     "start_time": "2021-07-20T09:33:18.548042Z"
    }
   },
   "outputs": [],
   "source": [
    "XYdistances = cdist(X,Y,metric='cosine')\n",
    "XY_new = cosine_distance(X,Y)\n",
    "np.testing.assert_almost_equal(XYdistances, XY_new)"
   ]
  },
  {
   "cell_type": "code",
   "execution_count": null,
   "metadata": {
    "ExecuteTime": {
     "end_time": "2021-07-20T09:32:49.908578Z",
     "start_time": "2021-07-20T09:32:49.905855Z"
    }
   },
   "outputs": [],
   "source": [
    "XY_new"
   ]
  },
  {
   "cell_type": "code",
   "execution_count": null,
   "metadata": {
    "ExecuteTime": {
     "end_time": "2021-07-20T09:32:50.154349Z",
     "start_time": "2021-07-20T09:32:50.151397Z"
    }
   },
   "outputs": [],
   "source": [
    "XYdistances"
   ]
  },
  {
   "cell_type": "code",
   "execution_count": null,
   "metadata": {
    "ExecuteTime": {
     "end_time": "2021-07-20T09:33:00.211445Z",
     "start_time": "2021-07-20T09:33:00.208814Z"
    },
    "scrolled": true
   },
   "outputs": [],
   "source": [
    "X"
   ]
  },
  {
   "cell_type": "code",
   "execution_count": null,
   "metadata": {
    "ExecuteTime": {
     "end_time": "2021-07-20T09:33:00.652675Z",
     "start_time": "2021-07-20T09:33:00.649863Z"
    },
    "scrolled": true
   },
   "outputs": [],
   "source": [
    "np.linalg.norm(X, axis=1)"
   ]
  },
  {
   "cell_type": "code",
   "execution_count": null,
   "metadata": {
    "ExecuteTime": {
     "end_time": "2021-07-20T09:33:01.415804Z",
     "start_time": "2021-07-20T09:33:01.412934Z"
    }
   },
   "outputs": [],
   "source": [
    "np.linalg.norm(Y, axis=1)"
   ]
  },
  {
   "cell_type": "code",
   "execution_count": null,
   "metadata": {
    "ExecuteTime": {
     "end_time": "2021-07-20T09:33:01.589531Z",
     "start_time": "2021-07-20T09:33:01.586032Z"
    }
   },
   "outputs": [],
   "source": [
    "np.outer(np.linalg.norm(X, axis=1), np.linalg.norm(Y, axis=1))  "
   ]
  },
  {
   "cell_type": "code",
   "execution_count": null,
   "metadata": {
    "ExecuteTime": {
     "end_time": "2021-07-20T09:33:02.383452Z",
     "start_time": "2021-07-20T09:33:02.380413Z"
    }
   },
   "outputs": [],
   "source": [
    "np.outer(np.array([1,2,3]), np.array([3,4]))"
   ]
  },
  {
   "cell_type": "code",
   "execution_count": null,
   "metadata": {},
   "outputs": [],
   "source": []
  },
  {
   "cell_type": "code",
   "execution_count": null,
   "metadata": {},
   "outputs": [],
   "source": []
  },
  {
   "cell_type": "code",
   "execution_count": null,
   "metadata": {},
   "outputs": [],
   "source": []
  },
  {
   "cell_type": "code",
   "execution_count": null,
   "metadata": {},
   "outputs": [],
   "source": []
  },
  {
   "cell_type": "code",
   "execution_count": null,
   "metadata": {},
   "outputs": [],
   "source": []
  },
  {
   "cell_type": "code",
   "execution_count": null,
   "metadata": {
    "ExecuteTime": {
     "end_time": "2021-07-20T09:27:51.129028Z",
     "start_time": "2021-07-20T09:27:51.126435Z"
    }
   },
   "outputs": [],
   "source": [
    "2.44948974 * 1.73205081"
   ]
  },
  {
   "cell_type": "code",
   "execution_count": null,
   "metadata": {},
   "outputs": [],
   "source": []
  },
  {
   "cell_type": "code",
   "execution_count": null,
   "metadata": {},
   "outputs": [],
   "source": []
  },
  {
   "cell_type": "markdown",
   "metadata": {},
   "source": [
    "## Document Memmap"
   ]
  },
  {
   "cell_type": "code",
   "execution_count": null,
   "metadata": {
    "ExecuteTime": {
     "end_time": "2021-07-19T13:19:36.263207Z",
     "start_time": "2021-07-19T13:19:36.261324Z"
    }
   },
   "outputs": [],
   "source": [
    "from jina.types.arrays.memmap import DocumentArrayMemmap"
   ]
  },
  {
   "cell_type": "markdown",
   "metadata": {
    "ExecuteTime": {
     "end_time": "2021-07-19T11:56:44.193642Z",
     "start_time": "2021-07-19T11:56:44.191985Z"
    }
   },
   "source": [
    "##### test_match_docarray_docarraymemmap"
   ]
  },
  {
   "cell_type": "code",
   "execution_count": null,
   "metadata": {
    "ExecuteTime": {
     "end_time": "2021-07-19T14:08:07.570542Z",
     "start_time": "2021-07-19T14:08:07.434818Z"
    }
   },
   "outputs": [],
   "source": [
    "metric = 'euclidean'\n",
    "D1, D2 = get_document_arrays()\n",
    "D1.match(D2, metric=metric, limit=3, is_distance=True)\n",
    "values_docarray = [m.scores[metric].value for d in D1 for m in d.matches]\n",
    "\n",
    "!rm -rf ./my-memmap\n",
    "D1, D2 = get_document_arrays()\n",
    "D2memmap = DocumentArrayMemmap('./my-memmap')\n",
    "D2memmap.extend(D2)\n",
    "D1.match(D2memmap, metric=metric, limit=3, is_distance=True)\n",
    "values_docarraymemmap = [m.scores[metric].value for d in D1 for m in d.matches]"
   ]
  },
  {
   "cell_type": "code",
   "execution_count": null,
   "metadata": {
    "ExecuteTime": {
     "end_time": "2021-07-19T14:08:07.752664Z",
     "start_time": "2021-07-19T14:08:07.749539Z"
    }
   },
   "outputs": [],
   "source": [
    "values_docarraymemmap == values_docarraymemmap"
   ]
  },
  {
   "cell_type": "markdown",
   "metadata": {},
   "source": [
    "##### test_docarraymemmap_match_docarray"
   ]
  },
  {
   "cell_type": "code",
   "execution_count": null,
   "metadata": {
    "ExecuteTime": {
     "end_time": "2021-07-19T13:59:34.988517Z",
     "start_time": "2021-07-19T13:59:34.843708Z"
    }
   },
   "outputs": [],
   "source": [
    "D1, D2 = get_document_arrays()\n",
    "D1.match(D2, metric='euclidean', limit=3, is_distance=True)\n",
    "values_docarray = [m.scores['euclidean'].value for d in D1 for m in d.matches]\n",
    "\n",
    "!rm -rf ./my-memmap\n",
    "\n",
    "from jina import Document\n",
    "D1, D2 = get_document_arrays()\n",
    "D1memmap = DocumentArrayMemmap('./my-memmap')\n",
    "D1memmap.extend(D1)\n",
    "D1memmap.match(D2, metric='euclidean', limit=3, is_distance=True)\n",
    "\n",
    "print(f'query={dam[2].embedding}')\n",
    "for m in D1memmap[2].matches:\n",
    "    print(m.embedding, 'distance =', m.scores['euclidean'].value)\n",
    "    \n",
    "values_docarraymemmap = [m.scores['euclidean'].value for d in D1memmap for m in d.matches]"
   ]
  },
  {
   "cell_type": "code",
   "execution_count": null,
   "metadata": {
    "ExecuteTime": {
     "end_time": "2021-07-19T13:59:43.148960Z",
     "start_time": "2021-07-19T13:59:43.145965Z"
    }
   },
   "outputs": [],
   "source": [
    "values_docarray == values_docarraymemmap"
   ]
  },
  {
   "cell_type": "markdown",
   "metadata": {},
   "source": [
    "##### test_docarraymemmap_match_docarraymemmap"
   ]
  },
  {
   "cell_type": "code",
   "execution_count": null,
   "metadata": {
    "ExecuteTime": {
     "end_time": "2021-07-19T13:48:38.477375Z",
     "start_time": "2021-07-19T13:48:38.228265Z"
    }
   },
   "outputs": [],
   "source": [
    "metric = 'euclidean'\n",
    "is_distance = 'False'\n",
    "D1, D2 = get_document_arrays()\n",
    "D1.match(D2, metric=metric, limit=3, is_distance=True)\n",
    "values_docarray = [m.scores[metric].value for d in D1 for m in d.matches]\n",
    "\n",
    "!rm -rf ./my-memmap1\n",
    "!rm -rf ./my-memmap2\n",
    "D1, D2 = get_document_arrays()\n",
    "D1memmap = DocumentArrayMemmap('./my-memmap1')\n",
    "D1memmap.extend(D1)\n",
    "D1memmap.reload()\n",
    "D2memmap = DocumentArrayMemmap('./my-memmap2')\n",
    "D2memmap.extend(D2)\n",
    "D2memmap.reload()\n",
    "D2memmap.reload()\n",
    "D1memmap.match(D2memmap, metric=metric, limit=3, is_distance=is_distance)\n",
    "\n",
    "#values_docarraymemmap = [m.scores[metric].value for d in D1memmap for m in d.matches]\n"
   ]
  },
  {
   "cell_type": "code",
   "execution_count": null,
   "metadata": {
    "ExecuteTime": {
     "end_time": "2021-07-19T13:48:32.457604Z",
     "start_time": "2021-07-19T13:48:32.434440Z"
    }
   },
   "outputs": [],
   "source": [
    "values_docarraymemmap = [m.scores[metric].value for d in D1memmap for m in d.matches]\n",
    "values_docarraymemmap"
   ]
  },
  {
   "cell_type": "code",
   "execution_count": null,
   "metadata": {
    "ExecuteTime": {
     "end_time": "2021-07-19T13:20:59.845599Z",
     "start_time": "2021-07-19T13:20:59.839276Z"
    }
   },
   "outputs": [],
   "source": [
    "D1memmap[0].matches"
   ]
  },
  {
   "cell_type": "code",
   "execution_count": null,
   "metadata": {
    "ExecuteTime": {
     "end_time": "2021-07-19T13:21:00.786337Z",
     "start_time": "2021-07-19T13:21:00.783599Z"
    }
   },
   "outputs": [],
   "source": [
    "values_docarray"
   ]
  },
  {
   "cell_type": "markdown",
   "metadata": {},
   "source": [
    "### Test distances using memmaparrays"
   ]
  },
  {
   "cell_type": "code",
   "execution_count": 15,
   "metadata": {
    "ExecuteTime": {
     "end_time": "2021-08-04T13:49:36.075031Z",
     "start_time": "2021-08-04T13:49:36.036886Z"
    },
    "scrolled": true
   },
   "outputs": [
    {
     "ename": "NameError",
     "evalue": "name 'euclidean_distance_squared' is not defined",
     "output_type": "error",
     "traceback": [
      "\u001b[0;31m---------------------------------------------------------------------------\u001b[0m",
      "\u001b[0;31mNameError\u001b[0m                                 Traceback (most recent call last)",
      "\u001b[0;32m<ipython-input-15-b581d697186b>\u001b[0m in \u001b[0;36m<module>\u001b[0;34m\u001b[0m\n\u001b[0;32m----> 1\u001b[0;31m \u001b[0meuclidean_distance_squared\u001b[0m\u001b[0;34m(\u001b[0m\u001b[0mD1memmap\u001b[0m\u001b[0;34m,\u001b[0m \u001b[0mD2memmap\u001b[0m\u001b[0;34m)\u001b[0m\u001b[0;34m\u001b[0m\u001b[0;34m\u001b[0m\u001b[0m\n\u001b[0m",
      "\u001b[0;31mNameError\u001b[0m: name 'euclidean_distance_squared' is not defined"
     ]
    }
   ],
   "source": [
    "euclidean_distance_squared(D1memmap, D2memmap)"
   ]
  },
  {
   "cell_type": "code",
   "execution_count": 16,
   "metadata": {
    "ExecuteTime": {
     "end_time": "2021-08-04T13:49:36.412083Z",
     "start_time": "2021-08-04T13:49:36.374286Z"
    }
   },
   "outputs": [
    {
     "ename": "NameError",
     "evalue": "name 'D1memmap' is not defined",
     "output_type": "error",
     "traceback": [
      "\u001b[0;31m---------------------------------------------------------------------------\u001b[0m",
      "\u001b[0;31mNameError\u001b[0m                                 Traceback (most recent call last)",
      "\u001b[0;32m<ipython-input-16-5fad76273ba2>\u001b[0m in \u001b[0;36m<module>\u001b[0;34m\u001b[0m\n\u001b[0;32m----> 1\u001b[0;31m \u001b[0mD1memmap\u001b[0m\u001b[0;34m.\u001b[0m\u001b[0mget_attributes\u001b[0m\u001b[0;34m(\u001b[0m\u001b[0;34m'embedding'\u001b[0m\u001b[0;34m)\u001b[0m\u001b[0;34m\u001b[0m\u001b[0;34m\u001b[0m\u001b[0m\n\u001b[0m",
      "\u001b[0;31mNameError\u001b[0m: name 'D1memmap' is not defined"
     ]
    }
   ],
   "source": [
    "D1memmap.get_attributes('embedding')"
   ]
  },
  {
   "cell_type": "markdown",
   "metadata": {},
   "source": [
    "# Batching distance computation"
   ]
  },
  {
   "cell_type": "code",
   "execution_count": 268,
   "metadata": {
    "ExecuteTime": {
     "end_time": "2021-08-04T15:18:25.172831Z",
     "start_time": "2021-08-04T15:18:25.138280Z"
    }
   },
   "outputs": [],
   "source": [
    "n_features = 10\n",
    "np.random.seed(1234)\n",
    "X = np.random.random((10, n_features))\n",
    "Y = np.random.random((1000,n_features))"
   ]
  },
  {
   "cell_type": "code",
   "execution_count": 270,
   "metadata": {
    "ExecuteTime": {
     "end_time": "2021-08-04T15:18:27.978096Z",
     "start_time": "2021-08-04T15:18:27.941117Z"
    }
   },
   "outputs": [
    {
     "data": {
      "text/plain": [
       "array([0.19151945, 0.62210877, 0.43772774, 0.78535858, 0.77997581,\n",
       "       0.27259261, 0.27646426, 0.80187218, 0.95813935, 0.87593263])"
      ]
     },
     "execution_count": 270,
     "metadata": {},
     "output_type": "execute_result"
    }
   ],
   "source": [
    "X[0]"
   ]
  },
  {
   "cell_type": "code",
   "execution_count": 279,
   "metadata": {
    "ExecuteTime": {
     "end_time": "2021-08-04T15:19:19.727808Z",
     "start_time": "2021-08-04T15:19:19.692610Z"
    }
   },
   "outputs": [
    {
     "data": {
      "text/plain": [
       "array([1, 5, 2, 0, 3, 4])"
      ]
     },
     "execution_count": 279,
     "metadata": {},
     "output_type": "execute_result"
    }
   ],
   "source": [
    "np.argpartition([4,0,2,6,9,1],kth=3)"
   ]
  },
  {
   "cell_type": "code",
   "execution_count": 78,
   "metadata": {
    "ExecuteTime": {
     "end_time": "2021-08-04T14:09:49.605778Z",
     "start_time": "2021-08-04T14:09:49.567523Z"
    }
   },
   "outputs": [],
   "source": [
    "import jina.math \n",
    "from jina.math.distance import sqeuclidean"
   ]
  },
  {
   "cell_type": "code",
   "execution_count": 79,
   "metadata": {
    "ExecuteTime": {
     "end_time": "2021-08-04T14:09:49.825254Z",
     "start_time": "2021-08-04T14:09:49.787741Z"
    }
   },
   "outputs": [
    {
     "data": {
      "text/plain": [
       "(10, 1000)"
      ]
     },
     "execution_count": 79,
     "metadata": {},
     "output_type": "execute_result"
    }
   ],
   "source": [
    "sqeuclidean(X,Y).shape"
   ]
  },
  {
   "cell_type": "code",
   "execution_count": 80,
   "metadata": {
    "ExecuteTime": {
     "end_time": "2021-08-04T14:09:50.050860Z",
     "start_time": "2021-08-04T14:09:50.015719Z"
    }
   },
   "outputs": [],
   "source": [
    "from jina.math.helper import top_k"
   ]
  },
  {
   "cell_type": "code",
   "execution_count": 81,
   "metadata": {
    "ExecuteTime": {
     "end_time": "2021-08-04T14:09:50.233175Z",
     "start_time": "2021-08-04T14:09:50.198581Z"
    }
   },
   "outputs": [],
   "source": [
    "dists, inds = top_k(sqeuclidean(X,Y), 10)"
   ]
  },
  {
   "cell_type": "code",
   "execution_count": 82,
   "metadata": {
    "ExecuteTime": {
     "end_time": "2021-08-04T14:09:50.450187Z",
     "start_time": "2021-08-04T14:09:50.410060Z"
    }
   },
   "outputs": [
    {
     "data": {
      "text/plain": [
       "((10, 10), (10, 10))"
      ]
     },
     "execution_count": 82,
     "metadata": {},
     "output_type": "execute_result"
    }
   ],
   "source": [
    "inds.shape, dists.shape"
   ]
  },
  {
   "cell_type": "code",
   "execution_count": 267,
   "metadata": {
    "ExecuteTime": {
     "end_time": "2021-08-04T15:18:19.637270Z",
     "start_time": "2021-08-04T15:18:19.592247Z"
    }
   },
   "outputs": [
    {
     "data": {
      "text/plain": [
       "(array([0.2, 0.1, 0.6]), array([  1, 423, 412]))"
      ]
     },
     "execution_count": 267,
     "metadata": {},
     "output_type": "execute_result"
    }
   ],
   "source": [
    "dists[0], inds[0]"
   ]
  },
  {
   "cell_type": "code",
   "execution_count": null,
   "metadata": {},
   "outputs": [],
   "source": []
  },
  {
   "cell_type": "code",
   "execution_count": null,
   "metadata": {},
   "outputs": [],
   "source": []
  },
  {
   "cell_type": "code",
   "execution_count": 84,
   "metadata": {
    "ExecuteTime": {
     "end_time": "2021-08-04T14:09:50.723631Z",
     "start_time": "2021-08-04T14:09:50.687940Z"
    }
   },
   "outputs": [],
   "source": [
    "def batch_generator(X, batch):\n",
    "    for i in range(0,len(X), batch):\n",
    "        yield X[i:i+batch]    "
   ]
  },
  {
   "cell_type": "code",
   "execution_count": 244,
   "metadata": {
    "ExecuteTime": {
     "end_time": "2021-08-04T15:12:48.029668Z",
     "start_time": "2021-08-04T15:12:47.994586Z"
    }
   },
   "outputs": [],
   "source": [
    "def batch_top_k(X, Y, batch_size, top_k_value):\n",
    "\n",
    "    y_generator = batch_generator(Y, batch_size)\n",
    "    top_dists = np.zeros((X.shape[0], top_k_value))\n",
    "    top_inds  = np.zeros((X.shape[0], top_k_value), dtype=int)\n",
    "    \n",
    "    for ybatch in y_generator:\n",
    "        distances = sqeuclidean(X, ybatch)\n",
    "        dists, inds = top_k(distances, top_k_value)\n",
    "        top_dists, top_ids = get_min_dists(dists, inds, top_dists, top_inds,top_k_value)\n",
    "        \n",
    "    return top_dists, top_ids"
   ]
  },
  {
   "cell_type": "code",
   "execution_count": 356,
   "metadata": {
    "ExecuteTime": {
     "end_time": "2021-08-04T15:53:40.193416Z",
     "start_time": "2021-08-04T15:53:40.157166Z"
    }
   },
   "outputs": [],
   "source": [
    "def get_min_dists(dists, inds, top_dists, top_inds, top_k_value):\n",
    "    all_dists = np.hstack((dists, top_dists))\n",
    "    all_inds = np.hstack((inds, top_inds))\n",
    "    best_inds = np.argpartition(all_dists, kth=top_k_value, axis=1)\n",
    "    d_mat = np.array([all_dists[i,best_inds[i][:top_k_value]] for i in range(len(all_dists))])\n",
    "    i_mat = np.array([best_inds[i,best_inds[i][:top_k_value]] for i in range(len(all_dists))])\n",
    "    return all_inds, i_mat"
   ]
  },
  {
   "cell_type": "code",
   "execution_count": 358,
   "metadata": {
    "ExecuteTime": {
     "end_time": "2021-08-04T15:53:48.596111Z",
     "start_time": "2021-08-04T15:53:48.561844Z"
    }
   },
   "outputs": [],
   "source": [
    "dists = np.array([[0.3,0.1,0.6],\n",
    "                  [0.9,0.6,0.9]])\n",
    "\n",
    "inds = np.array([[1,423,412],\n",
    "                 [5,6,2]]) \n",
    "\n",
    "top_dists = np.array([[0.2,0.5,0.9],\n",
    "                      [0.1,0.5,0.7]])\n",
    "\n",
    "top_inds = np.array([[5,8,3],\n",
    "                     [9,10,11]])\n",
    "\n",
    "top_k_value = 3\n",
    "\n"
   ]
  },
  {
   "cell_type": "code",
   "execution_count": 391,
   "metadata": {
    "ExecuteTime": {
     "end_time": "2021-08-04T15:58:54.336132Z",
     "start_time": "2021-08-04T15:58:54.302084Z"
    }
   },
   "outputs": [],
   "source": [
    "all_dists = np.hstack((dists, top_dists))\n",
    "all_inds = np.hstack((inds, top_inds))\n",
    "best_inds = np.argpartition(all_dists, kth=top_k_value, axis=1)[:,:top_k_value]"
   ]
  },
  {
   "cell_type": "code",
   "execution_count": 393,
   "metadata": {
    "ExecuteTime": {
     "end_time": "2021-08-04T15:58:57.406850Z",
     "start_time": "2021-08-04T15:58:57.374457Z"
    }
   },
   "outputs": [
    {
     "data": {
      "text/plain": [
       "array([[1, 3, 0],\n",
       "       [3, 4, 1]])"
      ]
     },
     "execution_count": 393,
     "metadata": {},
     "output_type": "execute_result"
    }
   ],
   "source": [
    "best_inds"
   ]
  },
  {
   "cell_type": "code",
   "execution_count": 401,
   "metadata": {
    "ExecuteTime": {
     "end_time": "2021-08-04T15:59:35.264340Z",
     "start_time": "2021-08-04T15:59:35.231481Z"
    }
   },
   "outputs": [
    {
     "data": {
      "text/plain": [
       "array([[[0.1, 0.2, 0.3],\n",
       "        [0.2, 0.5, 0.1]],\n",
       "\n",
       "       [[0.6, 0.1, 0.9],\n",
       "        [0.1, 0.5, 0.6]]])"
      ]
     },
     "execution_count": 401,
     "metadata": {},
     "output_type": "execute_result"
    }
   ],
   "source": [
    "all_dists[:,best_inds]"
   ]
  },
  {
   "cell_type": "code",
   "execution_count": 403,
   "metadata": {
    "ExecuteTime": {
     "end_time": "2021-08-04T16:00:35.945725Z",
     "start_time": "2021-08-04T16:00:35.905400Z"
    }
   },
   "outputs": [],
   "source": [
    "?np.searchsorted"
   ]
  },
  {
   "cell_type": "code",
   "execution_count": 409,
   "metadata": {
    "ExecuteTime": {
     "end_time": "2021-08-04T16:02:05.828759Z",
     "start_time": "2021-08-04T16:02:05.796739Z"
    }
   },
   "outputs": [],
   "source": [
    "# np.searchsorted([0.3,0.1,0.4], [0.7,0.2,0.5], side='left')"
   ]
  },
  {
   "cell_type": "code",
   "execution_count": 413,
   "metadata": {
    "ExecuteTime": {
     "end_time": "2021-08-04T16:02:27.733851Z",
     "start_time": "2021-08-04T16:02:27.700117Z"
    }
   },
   "outputs": [
    {
     "data": {
      "text/plain": [
       "array([[0.3, 0.1, 0.6, 0.2, 0.5, 0.9],\n",
       "       [0.9, 0.6, 0.9, 0.1, 0.5, 0.7]])"
      ]
     },
     "execution_count": 413,
     "metadata": {},
     "output_type": "execute_result"
    }
   ],
   "source": [
    "all_dists"
   ]
  },
  {
   "cell_type": "code",
   "execution_count": 419,
   "metadata": {
    "ExecuteTime": {
     "end_time": "2021-08-04T16:02:51.234905Z",
     "start_time": "2021-08-04T16:02:51.202348Z"
    }
   },
   "outputs": [
    {
     "data": {
      "text/plain": [
       "array([[[0.1, 0.2, 0.3],\n",
       "        [0.2, 0.5, 0.1]],\n",
       "\n",
       "       [[0.6, 0.1, 0.9],\n",
       "        [0.1, 0.5, 0.6]]])"
      ]
     },
     "execution_count": 419,
     "metadata": {},
     "output_type": "execute_result"
    }
   ],
   "source": [
    "all_dists[:,best_inds]"
   ]
  },
  {
   "cell_type": "code",
   "execution_count": null,
   "metadata": {},
   "outputs": [],
   "source": []
  },
  {
   "cell_type": "code",
   "execution_count": 363,
   "metadata": {
    "ExecuteTime": {
     "end_time": "2021-08-04T15:54:15.088983Z",
     "start_time": "2021-08-04T15:54:15.056594Z"
    }
   },
   "outputs": [
    {
     "name": "stdout",
     "output_type": "stream",
     "text": [
      "[[0.1 0.2 0.3]\n",
      " [0.1 0.5 0.6]]\n",
      "[[3 4 1]\n",
      " [5 0 4]]\n"
     ]
    }
   ],
   "source": [
    "d_mat = np.array([all_dists[i,best_inds[i][:top_k_value]] for i in range(len(all_dists))])\n",
    "i_mat = np.array([best_inds[i,best_inds[i][:top_k_value]] for i in range(len(all_dists))])\n",
    "print(d_mat)\n",
    "print(i_mat)"
   ]
  },
  {
   "cell_type": "code",
   "execution_count": null,
   "metadata": {},
   "outputs": [],
   "source": [
    "dd"
   ]
  },
  {
   "cell_type": "code",
   "execution_count": null,
   "metadata": {},
   "outputs": [],
   "source": []
  },
  {
   "cell_type": "code",
   "execution_count": 355,
   "metadata": {
    "ExecuteTime": {
     "end_time": "2021-08-04T15:51:07.310358Z",
     "start_time": "2021-08-04T15:51:07.276154Z"
    }
   },
   "outputs": [
    {
     "data": {
      "text/plain": [
       "(array([[  1, 423, 412,   5,   8,   3],\n",
       "        [  5,   6,   2,   9,  10,  11]]),\n",
       " array([[3, 4, 1],\n",
       "        [5, 0, 4]]))"
      ]
     },
     "execution_count": 355,
     "metadata": {},
     "output_type": "execute_result"
    }
   ],
   "source": [
    "get_min_dists(dists, \n",
    "              inds, \n",
    "              top_dists,\n",
    "              top_inds,\n",
    "              top_k_value)"
   ]
  },
  {
   "cell_type": "code",
   "execution_count": null,
   "metadata": {},
   "outputs": [],
   "source": []
  },
  {
   "cell_type": "code",
   "execution_count": null,
   "metadata": {},
   "outputs": [],
   "source": []
  },
  {
   "cell_type": "code",
   "execution_count": null,
   "metadata": {},
   "outputs": [],
   "source": []
  },
  {
   "cell_type": "code",
   "execution_count": null,
   "metadata": {},
   "outputs": [],
   "source": []
  },
  {
   "cell_type": "code",
   "execution_count": null,
   "metadata": {},
   "outputs": [],
   "source": []
  }
 ],
 "metadata": {
  "kernelspec": {
   "display_name": "Python 3",
   "language": "python",
   "name": "python3"
  },
  "language_info": {
   "codemirror_mode": {
    "name": "ipython",
    "version": 3
   },
   "file_extension": ".py",
   "mimetype": "text/x-python",
   "name": "python",
   "nbconvert_exporter": "python",
   "pygments_lexer": "ipython3",
   "version": "3.8.5"
  },
  "toc": {
   "base_numbering": 1,
   "nav_menu": {},
   "number_sections": true,
   "sideBar": true,
   "skip_h1_title": false,
   "title_cell": "Table of Contents",
   "title_sidebar": "Contents",
   "toc_cell": true,
   "toc_position": {},
   "toc_section_display": true,
   "toc_window_display": true
  },
  "varInspector": {
   "cols": {
    "lenName": 16,
    "lenType": 16,
    "lenVar": 40
   },
   "kernels_config": {
    "python": {
     "delete_cmd_postfix": "",
     "delete_cmd_prefix": "del ",
     "library": "var_list.py",
     "varRefreshCmd": "print(var_dic_list())"
    },
    "r": {
     "delete_cmd_postfix": ") ",
     "delete_cmd_prefix": "rm(",
     "library": "var_list.r",
     "varRefreshCmd": "cat(var_dic_list()) "
    }
   },
   "types_to_exclude": [
    "module",
    "function",
    "builtin_function_or_method",
    "instance",
    "_Feature"
   ],
   "window_display": false
  }
 },
 "nbformat": 4,
 "nbformat_minor": 5
}
