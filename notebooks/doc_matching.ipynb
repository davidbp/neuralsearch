{
 "cells": [
  {
   "cell_type": "markdown",
   "id": "922c82c6",
   "metadata": {
    "toc": true
   },
   "source": [
    "<h1>Table of Contents<span class=\"tocSkip\"></span></h1>\n",
    "<div class=\"toc\"><ul class=\"toc-item\"><li><ul class=\"toc-item\"><li><span><a href=\"#Batched-.match-operation\" data-toc-modified-id=\"Batched-.match-operation-0.1\"><span class=\"toc-item-num\">0.1&nbsp;&nbsp;</span>Batched <code>.match</code> operation</a></span></li><li><span><a href=\"#More-examples\" data-toc-modified-id=\"More-examples-0.2\"><span class=\"toc-item-num\">0.2&nbsp;&nbsp;</span>More examples</a></span><ul class=\"toc-item\"><li><span><a href=\"#Computing-matches-Euclidean-similarity\" data-toc-modified-id=\"Computing-matches-Euclidean-similarity-0.2.1\"><span class=\"toc-item-num\">0.2.1&nbsp;&nbsp;</span>Computing matches Euclidean similarity</a></span></li><li><span><a href=\"#Computing-matches-Euclidean-distance\" data-toc-modified-id=\"Computing-matches-Euclidean-distance-0.2.2\"><span class=\"toc-item-num\">0.2.2&nbsp;&nbsp;</span>Computing matches Euclidean distance</a></span></li><li><span><a href=\"#Computing-matches-Cosine-similarity\" data-toc-modified-id=\"Computing-matches-Cosine-similarity-0.2.3\"><span class=\"toc-item-num\">0.2.3&nbsp;&nbsp;</span>Computing matches Cosine similarity</a></span></li></ul></li><li><span><a href=\"#test-distances-with-scipy\" data-toc-modified-id=\"test-distances-with-scipy-0.3\"><span class=\"toc-item-num\">0.3&nbsp;&nbsp;</span>test distances with scipy</a></span></li><li><span><a href=\"#Document-Memmap\" data-toc-modified-id=\"Document-Memmap-0.4\"><span class=\"toc-item-num\">0.4&nbsp;&nbsp;</span>Document Memmap</a></span><ul class=\"toc-item\"><li><span><a href=\"#Test-distances-using-memmaparrays\" data-toc-modified-id=\"Test-distances-using-memmaparrays-0.4.1\"><span class=\"toc-item-num\">0.4.1&nbsp;&nbsp;</span>Test distances using memmaparrays</a></span></li></ul></li></ul></li><li><span><a href=\"#Batching-distance-computation\" data-toc-modified-id=\"Batching-distance-computation-1\"><span class=\"toc-item-num\">1&nbsp;&nbsp;</span>Batching distance computation</a></span><ul class=\"toc-item\"><li><span><a href=\"#Expressing-the-problem\" data-toc-modified-id=\"Expressing-the-problem-1.1\"><span class=\"toc-item-num\">1.1&nbsp;&nbsp;</span>Expressing the problem</a></span></li><li><span><a href=\"#Building-the-function\" data-toc-modified-id=\"Building-the-function-1.2\"><span class=\"toc-item-num\">1.2&nbsp;&nbsp;</span>Building the function</a></span></li><li><span><a href=\"#Adapting-batch-funtion-to-memmap-arrays\" data-toc-modified-id=\"Adapting-batch-funtion-to-memmap-arrays-1.3\"><span class=\"toc-item-num\">1.3&nbsp;&nbsp;</span>Adapting batch funtion to memmap arrays</a></span></li><li><span><a href=\"#Benchmark-selection-of-best-values-from-a-distance-matrix\" data-toc-modified-id=\"Benchmark-selection-of-best-values-from-a-distance-matrix-1.4\"><span class=\"toc-item-num\">1.4&nbsp;&nbsp;</span>Benchmark selection of best values from a distance matrix</a></span></li></ul></li></ul></div>"
   ]
  },
  {
   "cell_type": "code",
   "execution_count": 1,
   "id": "aead2e35",
   "metadata": {
    "ExecuteTime": {
     "end_time": "2021-08-06T17:38:21.764012Z",
     "start_time": "2021-08-06T17:38:21.746543Z"
    }
   },
   "outputs": [],
   "source": [
    "%load_ext autoreload\n",
    "%autoreload 2"
   ]
  },
  {
   "cell_type": "code",
   "execution_count": 2,
   "id": "088a5c25",
   "metadata": {
    "ExecuteTime": {
     "end_time": "2021-08-06T18:55:47.025077Z",
     "start_time": "2021-08-06T18:55:46.987162Z"
    },
    "scrolled": true
   },
   "outputs": [
    {
     "name": "stdout",
     "output_type": "stream",
     "text": [
      "query emb = [1 1 1 1 0]\n",
      "match emb = [1.  1.2 1.  1.  0. ] score = 0.20000000298023224\n",
      "match emb = [1.  2.2 2.  1.  0. ] score = 1.5620499849319458\n",
      "match emb = [1.  0.1 0.  0.  0. ] score = 1.6763054132461548\n"
     ]
    }
   ],
   "source": [
    "from jina import Document, DocumentArray\n",
    "import numpy as np\n",
    "from jina.types.arrays.memmap import DocumentArrayMemmap\n",
    "\n",
    "d1 = Document(embedding=np.array([0,0,0,0,1]))\n",
    "d2 = Document(embedding=np.array([1,0,0,0,0]))\n",
    "d3 = Document(embedding=np.array([1,1,1,1,0]))\n",
    "d4 = Document(embedding=np.array([1,2,2,1,0]))\n",
    "\n",
    "d1_m = Document(embedding=np.array([0,0.1,0,0,0]))\n",
    "d2_m = Document(embedding=np.array([1,0.1,0,0,0]))\n",
    "d3_m = Document(embedding=np.array([1,1.2,1,1,0]))\n",
    "d4_m = Document(embedding=np.array([1,2.2,2,1,0]))\n",
    "d5_m = Document(embedding=np.array([4,5.2,2,1,0]))\n",
    "\n",
    "da_1 = DocumentArray([d1, d2, d3, d4])\n",
    "da_2 = DocumentArray([d1_m, d2_m, d3_m, d4_m, d5_m])\n",
    "\n",
    "\n",
    "da_1.match(da_2, metric='euclidean',  limit=3)\n",
    "query = da_1[2]\n",
    "print(f'query emb = {query.embedding}')\n",
    "for m in query.matches:\n",
    "    print('match emb =', m.embedding, 'score =', m.scores['euclidean'].value)"
   ]
  },
  {
   "cell_type": "markdown",
   "id": "11b2100b",
   "metadata": {},
   "source": [
    "## ERROR\n",
    "\n",
    "The following code is not working because\n",
    "\n",
    "```\n",
    "proto = self[0].proto.embedding.dense\n",
    "```\n",
    "\n",
    "assumes the embedding is dense"
   ]
  },
  {
   "cell_type": "code",
   "execution_count": 3,
   "id": "f29cf927",
   "metadata": {},
   "outputs": [
    {
     "data": {
      "text/plain": [
       "'2.2.6'"
      ]
     },
     "execution_count": 3,
     "metadata": {},
     "output_type": "execute_result"
    }
   ],
   "source": [
    "import jina\n",
    "jina.__version__"
   ]
  },
  {
   "cell_type": "code",
   "execution_count": 4,
   "id": "2cc51f94",
   "metadata": {
    "ExecuteTime": {
     "end_time": "2021-08-06T18:55:47.572209Z",
     "start_time": "2021-08-06T18:55:47.524565Z"
    },
    "scrolled": true
   },
   "outputs": [],
   "source": [
    "from jina import Document, DocumentArray\n",
    "import scipy.sparse as sp\n",
    "\n",
    "d1 = Document(embedding=sp.csr_matrix([[0,0,0,0,1]]))\n",
    "d2 = Document(embedding=sp.csr_matrix([[1,0,0,0,0]]))\n",
    "d3 = Document(embedding=sp.csr_matrix([[1,1,1,1,0]]))\n",
    "d4 = Document(embedding=sp.csr_matrix([[1,2,2,1,0]]))\n",
    "\n",
    "d1_m = Document(embedding=sp.csr_matrix([[0,0.1,0,0,0]]))\n",
    "d2_m = Document(embedding=sp.csr_matrix([[1,0.1,0,0,0]]))\n",
    "d3_m = Document(embedding=sp.csr_matrix([[1,1.2,1,1,0]]))\n",
    "d4_m = Document(embedding=sp.csr_matrix([[1,2.2,2,1,0]]))\n",
    "d5_m = Document(embedding=sp.csr_matrix([[4,5.2,2,1,0]]))\n",
    "\n",
    "da_1 = DocumentArray([d1, d2, d3, d4])\n",
    "da_2 = DocumentArray([d1_m, d2_m, d3_m, d4_m, d5_m])\n",
    "\n"
   ]
  },
  {
   "cell_type": "code",
   "execution_count": 5,
   "id": "92001b3f",
   "metadata": {},
   "outputs": [
    {
     "ename": "TypeError",
     "evalue": "data type '' not understood",
     "output_type": "error",
     "traceback": [
      "\u001b[0;31m---------------------------------------------------------------------------\u001b[0m",
      "\u001b[0;31mTypeError\u001b[0m                                 Traceback (most recent call last)",
      "\u001b[0;32m/var/folders/lh/njnz5hj934d2js334v28z1x00000gn/T/ipykernel_1300/3449872720.py\u001b[0m in \u001b[0;36m<module>\u001b[0;34m\u001b[0m\n\u001b[0;32m----> 1\u001b[0;31m \u001b[0mda_1\u001b[0m\u001b[0;34m.\u001b[0m\u001b[0mmatch\u001b[0m\u001b[0;34m(\u001b[0m\u001b[0mda_2\u001b[0m\u001b[0;34m,\u001b[0m \u001b[0mmetric\u001b[0m\u001b[0;34m=\u001b[0m\u001b[0;34m'euclidean'\u001b[0m\u001b[0;34m,\u001b[0m \u001b[0mlimit\u001b[0m\u001b[0;34m=\u001b[0m\u001b[0;36m3\u001b[0m\u001b[0;34m)\u001b[0m\u001b[0;34m\u001b[0m\u001b[0;34m\u001b[0m\u001b[0m\n\u001b[0m\u001b[1;32m      2\u001b[0m \u001b[0mquery\u001b[0m \u001b[0;34m=\u001b[0m \u001b[0mda_1\u001b[0m\u001b[0;34m[\u001b[0m\u001b[0;36m2\u001b[0m\u001b[0;34m]\u001b[0m\u001b[0;34m\u001b[0m\u001b[0;34m\u001b[0m\u001b[0m\n\u001b[1;32m      3\u001b[0m \u001b[0mprint\u001b[0m\u001b[0;34m(\u001b[0m\u001b[0;34mf'query emb = {query.embedding}'\u001b[0m\u001b[0;34m)\u001b[0m\u001b[0;34m\u001b[0m\u001b[0;34m\u001b[0m\u001b[0m\n\u001b[1;32m      4\u001b[0m \u001b[0;32mfor\u001b[0m \u001b[0mm\u001b[0m \u001b[0;32min\u001b[0m \u001b[0mquery\u001b[0m\u001b[0;34m.\u001b[0m\u001b[0mmatches\u001b[0m\u001b[0;34m:\u001b[0m\u001b[0;34m\u001b[0m\u001b[0;34m\u001b[0m\u001b[0m\n\u001b[1;32m      5\u001b[0m     \u001b[0mprint\u001b[0m\u001b[0;34m(\u001b[0m\u001b[0;34m'match emb ='\u001b[0m\u001b[0;34m,\u001b[0m \u001b[0mm\u001b[0m\u001b[0;34m.\u001b[0m\u001b[0membedding\u001b[0m\u001b[0;34m,\u001b[0m \u001b[0;34m'score ='\u001b[0m\u001b[0;34m,\u001b[0m \u001b[0mm\u001b[0m\u001b[0;34m.\u001b[0m\u001b[0mscores\u001b[0m\u001b[0;34m[\u001b[0m\u001b[0;34m'euclidean'\u001b[0m\u001b[0;34m]\u001b[0m\u001b[0;34m.\u001b[0m\u001b[0mvalue\u001b[0m\u001b[0;34m)\u001b[0m\u001b[0;34m\u001b[0m\u001b[0;34m\u001b[0m\u001b[0m\n",
      "\u001b[0;32m~/Documents/git_stuff/jina/jina/types/arrays/neural_ops.py\u001b[0m in \u001b[0;36mmatch\u001b[0;34m(self, darray, metric, limit, normalization, metric_name, batch_size, traversal_ldarray, traversal_rdarray, use_scipy, exclude_self, is_sparse, filter_fn, only_id)\u001b[0m\n\u001b[1;32m    124\u001b[0m             )\n\u001b[1;32m    125\u001b[0m         \u001b[0;32melse\u001b[0m\u001b[0;34m:\u001b[0m\u001b[0;34m\u001b[0m\u001b[0;34m\u001b[0m\u001b[0m\n\u001b[0;32m--> 126\u001b[0;31m             dist, idx = lhv._match(\n\u001b[0m\u001b[1;32m    127\u001b[0m                 \u001b[0mrhv\u001b[0m\u001b[0;34m,\u001b[0m \u001b[0mcdist\u001b[0m\u001b[0;34m,\u001b[0m \u001b[0m_limit\u001b[0m\u001b[0;34m,\u001b[0m \u001b[0mnormalization\u001b[0m\u001b[0;34m,\u001b[0m \u001b[0mmetric_name\u001b[0m\u001b[0;34m,\u001b[0m \u001b[0mis_sparse\u001b[0m\u001b[0;34m\u001b[0m\u001b[0;34m\u001b[0m\u001b[0m\n\u001b[1;32m    128\u001b[0m             )\n",
      "\u001b[0;32m~/Documents/git_stuff/jina/jina/types/arrays/neural_ops.py\u001b[0m in \u001b[0;36m_match\u001b[0;34m(self, darray, cdist, limit, normalization, metric_name, is_sparse)\u001b[0m\n\u001b[1;32m    184\u001b[0m             \u001b[0mdists\u001b[0m \u001b[0;34m=\u001b[0m \u001b[0mcdist\u001b[0m\u001b[0;34m(\u001b[0m\u001b[0mx_mat\u001b[0m\u001b[0;34m,\u001b[0m \u001b[0my_mat\u001b[0m\u001b[0;34m,\u001b[0m \u001b[0mmetric_name\u001b[0m\u001b[0;34m,\u001b[0m \u001b[0mis_sparse\u001b[0m\u001b[0;34m=\u001b[0m\u001b[0;32mTrue\u001b[0m\u001b[0;34m)\u001b[0m\u001b[0;34m\u001b[0m\u001b[0;34m\u001b[0m\u001b[0m\n\u001b[1;32m    185\u001b[0m         \u001b[0;32melse\u001b[0m\u001b[0;34m:\u001b[0m\u001b[0;34m\u001b[0m\u001b[0;34m\u001b[0m\u001b[0m\n\u001b[0;32m--> 186\u001b[0;31m             \u001b[0mx_mat\u001b[0m \u001b[0;34m=\u001b[0m \u001b[0mself\u001b[0m\u001b[0;34m.\u001b[0m\u001b[0membeddings\u001b[0m\u001b[0;34m\u001b[0m\u001b[0;34m\u001b[0m\u001b[0m\n\u001b[0m\u001b[1;32m    187\u001b[0m             \u001b[0my_mat\u001b[0m \u001b[0;34m=\u001b[0m \u001b[0mdarray\u001b[0m\u001b[0;34m.\u001b[0m\u001b[0membeddings\u001b[0m\u001b[0;34m\u001b[0m\u001b[0;34m\u001b[0m\u001b[0m\n\u001b[1;32m    188\u001b[0m             \u001b[0mdists\u001b[0m \u001b[0;34m=\u001b[0m \u001b[0mcdist\u001b[0m\u001b[0;34m(\u001b[0m\u001b[0mx_mat\u001b[0m\u001b[0;34m,\u001b[0m \u001b[0my_mat\u001b[0m\u001b[0;34m,\u001b[0m \u001b[0mmetric_name\u001b[0m\u001b[0;34m)\u001b[0m\u001b[0;34m\u001b[0m\u001b[0;34m\u001b[0m\u001b[0m\n",
      "\u001b[0;32m~/Documents/git_stuff/jina/jina/types/arrays/document.py\u001b[0m in \u001b[0;36membeddings\u001b[0;34m(self)\u001b[0m\n\u001b[1;32m    659\u001b[0m         \u001b[0mproto\u001b[0m \u001b[0;34m=\u001b[0m \u001b[0mself\u001b[0m\u001b[0;34m[\u001b[0m\u001b[0;36m0\u001b[0m\u001b[0;34m]\u001b[0m\u001b[0;34m.\u001b[0m\u001b[0mproto\u001b[0m\u001b[0;34m.\u001b[0m\u001b[0membedding\u001b[0m\u001b[0;34m.\u001b[0m\u001b[0mdense\u001b[0m\u001b[0;34m\u001b[0m\u001b[0;34m\u001b[0m\u001b[0m\n\u001b[1;32m    660\u001b[0m \u001b[0;34m\u001b[0m\u001b[0m\n\u001b[0;32m--> 661\u001b[0;31m         return np.frombuffer(x_mat, dtype=proto.dtype).reshape(\n\u001b[0m\u001b[1;32m    662\u001b[0m             \u001b[0;34m(\u001b[0m\u001b[0mlen\u001b[0m\u001b[0;34m(\u001b[0m\u001b[0mself\u001b[0m\u001b[0;34m)\u001b[0m\u001b[0;34m,\u001b[0m \u001b[0mproto\u001b[0m\u001b[0;34m.\u001b[0m\u001b[0mshape\u001b[0m\u001b[0;34m[\u001b[0m\u001b[0;36m0\u001b[0m\u001b[0;34m]\u001b[0m\u001b[0;34m)\u001b[0m\u001b[0;34m\u001b[0m\u001b[0;34m\u001b[0m\u001b[0m\n\u001b[1;32m    663\u001b[0m         )\n",
      "\u001b[0;31mTypeError\u001b[0m: data type '' not understood"
     ]
    }
   ],
   "source": [
    "da_1.match(da_2, metric='euclidean', limit=3)\n",
    "query = da_1[2]\n",
    "print(f'query emb = {query.embedding}')\n",
    "for m in query.matches:\n",
    "    print('match emb =', m.embedding, 'score =', m.scores['euclidean'].value)"
   ]
  },
  {
   "cell_type": "code",
   "execution_count": 6,
   "id": "e399146e",
   "metadata": {
    "scrolled": true
   },
   "outputs": [
    {
     "data": {
      "text/plain": [
       "sparse {\n",
       "  indices {\n",
       "    buffer: \"\\000\\000\\000\\000\\004\\000\\000\\000\"\n",
       "    shape: 1\n",
       "    shape: 2\n",
       "    dtype: \"<i4\"\n",
       "  }\n",
       "  values {\n",
       "    buffer: \"\\001\\000\\000\\000\\000\\000\\000\\000\"\n",
       "    shape: 1\n",
       "    dtype: \"<i8\"\n",
       "  }\n",
       "  shape: 1\n",
       "  shape: 5\n",
       "}"
      ]
     },
     "execution_count": 6,
     "metadata": {},
     "output_type": "execute_result"
    }
   ],
   "source": [
    "da_1[0].proto.embedding"
   ]
  },
  {
   "cell_type": "markdown",
   "id": "2825e763",
   "metadata": {},
   "source": [
    "The `.embeddings` property is not working correctly for sparse arrays.\n",
    "It should return an sparse array"
   ]
  },
  {
   "cell_type": "code",
   "execution_count": 7,
   "id": "cf699d15",
   "metadata": {},
   "outputs": [
    {
     "data": {
      "text/plain": [
       "<1x5 sparse matrix of type '<class 'numpy.int64'>'\n",
       "\twith 1 stored elements in COOrdinate format>"
      ]
     },
     "execution_count": 7,
     "metadata": {},
     "output_type": "execute_result"
    }
   ],
   "source": [
    "import scipy.sparse as sp\n",
    "da_1[0].get_attributes('embedding')"
   ]
  },
  {
   "cell_type": "code",
   "execution_count": 8,
   "id": "a00fa3a3",
   "metadata": {},
   "outputs": [
    {
     "data": {
      "text/plain": [
       "[<1x5 sparse matrix of type '<class 'numpy.int64'>'\n",
       " \twith 1 stored elements in COOrdinate format>,\n",
       " <1x5 sparse matrix of type '<class 'numpy.int64'>'\n",
       " \twith 1 stored elements in COOrdinate format>,\n",
       " <1x5 sparse matrix of type '<class 'numpy.int64'>'\n",
       " \twith 4 stored elements in COOrdinate format>]"
      ]
     },
     "execution_count": 8,
     "metadata": {},
     "output_type": "execute_result"
    }
   ],
   "source": [
    "da_1[0:3].get_attributes('embedding')"
   ]
  },
  {
   "cell_type": "code",
   "execution_count": 9,
   "id": "cdeb1cf3",
   "metadata": {
    "scrolled": true
   },
   "outputs": [
    {
     "name": "stdout",
     "output_type": "stream",
     "text": [
      "478 µs ± 26.9 µs per loop (mean ± std. dev. of 7 runs, 1000 loops each)\n"
     ]
    }
   ],
   "source": [
    "%timeit sp.vstack(da_1[0:3].get_attributes('embedding'))"
   ]
  },
  {
   "cell_type": "markdown",
   "id": "01e75bd3",
   "metadata": {},
   "source": [
    "#### Big stacking of sparse arrays"
   ]
  },
  {
   "cell_type": "code",
   "execution_count": 10,
   "id": "a649fe5a",
   "metadata": {
    "scrolled": true
   },
   "outputs": [
    {
     "name": "stdout",
     "output_type": "stream",
     "text": [
      "\n",
      "result for n=1000\n",
      "CPU times: user 123 ms, sys: 2.87 ms, total: 126 ms\n",
      "Wall time: 127 ms\n",
      "\n",
      "result for n=10000\n",
      "CPU times: user 1.15 s, sys: 15.2 ms, total: 1.16 s\n",
      "Wall time: 1.17 s\n",
      "\n",
      "result for n=100000\n",
      "CPU times: user 11 s, sys: 118 ms, total: 11.2 s\n",
      "Wall time: 11.2 s\n"
     ]
    }
   ],
   "source": [
    "from jina import Document, DocumentArray\n",
    "import scipy.sparse as sp\n",
    "\n",
    "d1 = Document(embedding=sp.csr_matrix([[0,0,0,0,1]]))\n",
    "for n in [1000, 10_000, 100_000]:\n",
    "    print(f'\\nresult for n={n}')\n",
    "    da_1 = DocumentArray([d1]*n)\n",
    "    %time sp.vstack(da_1.get_attributes('embedding'))"
   ]
  },
  {
   "cell_type": "code",
   "execution_count": 11,
   "id": "48896e0d",
   "metadata": {},
   "outputs": [
    {
     "data": {
      "text/plain": [
       "indices {\n",
       "  buffer: \"\\000\\000\\000\\000\\004\\000\\000\\000\"\n",
       "  shape: 1\n",
       "  shape: 2\n",
       "  dtype: \"<i4\"\n",
       "}\n",
       "values {\n",
       "  buffer: \"\\001\\000\\000\\000\\000\\000\\000\\000\"\n",
       "  shape: 1\n",
       "  dtype: \"<i8\"\n",
       "}\n",
       "shape: 1\n",
       "shape: 5"
      ]
     },
     "execution_count": 11,
     "metadata": {},
     "output_type": "execute_result"
    }
   ],
   "source": [
    "da_1[1].proto.embedding.sparse"
   ]
  },
  {
   "cell_type": "code",
   "execution_count": 12,
   "id": "1d7e49db",
   "metadata": {},
   "outputs": [
    {
     "data": {
      "text/plain": [
       "indices {\n",
       "  buffer: \"\\000\\000\\000\\000\\004\\000\\000\\000\"\n",
       "  shape: 1\n",
       "  shape: 2\n",
       "  dtype: \"<i4\"\n",
       "}\n",
       "values {\n",
       "  buffer: \"\\001\\000\\000\\000\\000\\000\\000\\000\"\n",
       "  shape: 1\n",
       "  dtype: \"<i8\"\n",
       "}\n",
       "shape: 1\n",
       "shape: 5"
      ]
     },
     "execution_count": 12,
     "metadata": {},
     "output_type": "execute_result"
    }
   ],
   "source": [
    "da_1[2].proto.embedding.sparse"
   ]
  },
  {
   "cell_type": "markdown",
   "id": "7e5a0885",
   "metadata": {},
   "source": [
    "## speedup sparse join at byte level\n",
    "\n",
    "We can create an sparse array from a collection of buffers without any need to create an sparse array for each of the elements"
   ]
  },
  {
   "cell_type": "code",
   "execution_count": 14,
   "id": "a70a971f",
   "metadata": {},
   "outputs": [],
   "source": [
    "\n",
    "d1 = Document(embedding=sp.csr_matrix([[0,0,0,0,1]]))\n",
    "d2 = Document(embedding=sp.csr_matrix([[1,0,0,0,0]]))\n",
    "d3 = Document(embedding=sp.csr_matrix([[1,1,1,1,0]]))\n",
    "d4 = Document(embedding=sp.csr_matrix([[1,2,2,1,0]]))\n",
    "\n",
    "da_1 = DocumentArray([d1, d2, d3, d4])"
   ]
  },
  {
   "cell_type": "markdown",
   "id": "834e2a37",
   "metadata": {},
   "source": [
    "We should be able to retrieve the following dense vector from the proto buffers"
   ]
  },
  {
   "cell_type": "code",
   "execution_count": 25,
   "id": "1c91aba0",
   "metadata": {},
   "outputs": [
    {
     "data": {
      "text/plain": [
       "matrix([[0, 0, 0, 0, 1]])"
      ]
     },
     "execution_count": 25,
     "metadata": {},
     "output_type": "execute_result"
    }
   ],
   "source": [
    "da_1[0].embedding.todense()"
   ]
  },
  {
   "cell_type": "markdown",
   "id": "727cfc0c",
   "metadata": {},
   "source": [
    "Note that the vector is stored with indices and values.\n",
    "\n",
    "We should get that index (0,4) contains our value."
   ]
  },
  {
   "cell_type": "code",
   "execution_count": 31,
   "id": "0bc3f893",
   "metadata": {
    "scrolled": true
   },
   "outputs": [
    {
     "data": {
      "text/plain": [
       "b'\\x00\\x00\\x00\\x00\\x04\\x00\\x00\\x00'"
      ]
     },
     "execution_count": 31,
     "metadata": {},
     "output_type": "execute_result"
    }
   ],
   "source": [
    "proto_indices_buffer = da_1[0].proto.embedding.sparse.indices.buffer\n",
    "proto_indices_buffer"
   ]
  },
  {
   "cell_type": "markdown",
   "id": "8c7e608c",
   "metadata": {},
   "source": [
    "Note though that if we interpret the bits as int64 we don´t get this"
   ]
  },
  {
   "cell_type": "code",
   "execution_count": 32,
   "id": "c3252420",
   "metadata": {},
   "outputs": [
    {
     "data": {
      "text/plain": [
       "array([17179869184])"
      ]
     },
     "execution_count": 32,
     "metadata": {},
     "output_type": "execute_result"
    }
   ],
   "source": [
    "np.frombuffer(proto_indices_buffer, dtype=np.int64)"
   ]
  },
  {
   "cell_type": "markdown",
   "id": "2c836c23",
   "metadata": {},
   "source": [
    "We need to interpret them as int32 to get this information"
   ]
  },
  {
   "cell_type": "code",
   "execution_count": 28,
   "id": "b6f1ec8f",
   "metadata": {},
   "outputs": [
    {
     "data": {
      "text/plain": [
       "array([0, 4], dtype=int32)"
      ]
     },
     "execution_count": 28,
     "metadata": {},
     "output_type": "execute_result"
    }
   ],
   "source": [
    "np.frombuffer(proto_indices_buffer, dtype=np.int32)"
   ]
  },
  {
   "cell_type": "markdown",
   "id": "39ff8b44",
   "metadata": {},
   "source": [
    "- **Why is this happening ? ** Why indices are needed to be interpreted as int32 ?\n",
    "\n",
    "Note that this information is stored in the dtype of the class `DenseNdArrayProto`.\n"
   ]
  },
  {
   "cell_type": "code",
   "execution_count": 39,
   "id": "520cb65b",
   "metadata": {},
   "outputs": [
    {
     "data": {
      "text/plain": [
       "jina_pb2.DenseNdArrayProto"
      ]
     },
     "execution_count": 39,
     "metadata": {},
     "output_type": "execute_result"
    }
   ],
   "source": [
    "type(da_1[0].proto.embedding.sparse.indices)"
   ]
  },
  {
   "cell_type": "code",
   "execution_count": 35,
   "id": "a2c25025",
   "metadata": {},
   "outputs": [
    {
     "data": {
      "text/plain": [
       "b'\\x00\\x00\\x00\\x00\\x04\\x00\\x00\\x00'"
      ]
     },
     "execution_count": 35,
     "metadata": {},
     "output_type": "execute_result"
    }
   ],
   "source": [
    "proto_indices_buffer"
   ]
  },
  {
   "cell_type": "code",
   "execution_count": 48,
   "id": "63ecc85c",
   "metadata": {},
   "outputs": [
    {
     "name": "stdout",
     "output_type": "stream",
     "text": [
      "buffer: \"\\000\\000\\000\\000\\004\\000\\000\\000\"\n",
      "shape: 1\n",
      "shape: 2\n",
      "dtype: \"<i4\"\n",
      "\n"
     ]
    },
    {
     "data": {
      "text/plain": [
       "array([0, 4], dtype=int32)"
      ]
     },
     "execution_count": 48,
     "metadata": {},
     "output_type": "execute_result"
    }
   ],
   "source": [
    "indices_proto = da_1[0].proto.embedding.sparse.indices\n",
    "print(indices_proto)\n",
    "np.frombuffer(proto_indices_buffer, dtype=indices_proto.dtype)"
   ]
  },
  {
   "cell_type": "code",
   "execution_count": null,
   "id": "8c525144",
   "metadata": {},
   "outputs": [],
   "source": []
  },
  {
   "cell_type": "code",
   "execution_count": null,
   "id": "7fec02c5",
   "metadata": {},
   "outputs": [],
   "source": []
  },
  {
   "cell_type": "code",
   "execution_count": 22,
   "id": "85276a38",
   "metadata": {},
   "outputs": [
    {
     "data": {
      "text/plain": [
       "matrix([[1, 1, 1, 1, 0]])"
      ]
     },
     "execution_count": 22,
     "metadata": {},
     "output_type": "execute_result"
    }
   ],
   "source": [
    "da_1[2].embedding.todense()"
   ]
  },
  {
   "cell_type": "code",
   "execution_count": 17,
   "id": "42ee4251",
   "metadata": {},
   "outputs": [
    {
     "data": {
      "text/plain": [
       "<1x5 sparse matrix of type '<class 'numpy.int64'>'\n",
       "\twith 4 stored elements in COOrdinate format>"
      ]
     },
     "execution_count": 17,
     "metadata": {},
     "output_type": "execute_result"
    }
   ],
   "source": [
    "da_1[2].embedding"
   ]
  },
  {
   "cell_type": "code",
   "execution_count": 18,
   "id": "c4357194",
   "metadata": {},
   "outputs": [
    {
     "data": {
      "text/plain": [
       "array([1])"
      ]
     },
     "execution_count": 18,
     "metadata": {},
     "output_type": "execute_result"
    }
   ],
   "source": [
    "np.frombuffer(da_1[0].proto.embedding.sparse.values.buffer, \n",
    "              da_1[0].proto.embedding.sparse.values.dtype)"
   ]
  },
  {
   "cell_type": "code",
   "execution_count": 38,
   "id": "45a4c438",
   "metadata": {},
   "outputs": [
    {
     "data": {
      "text/plain": [
       "'<i8'"
      ]
     },
     "execution_count": 38,
     "metadata": {},
     "output_type": "execute_result"
    }
   ],
   "source": [
    "dtype = da_1[0].proto.embedding.sparse.values.dtype\n",
    "dtype"
   ]
  },
  {
   "cell_type": "code",
   "execution_count": 25,
   "id": "5c035d49",
   "metadata": {
    "scrolled": true
   },
   "outputs": [
    {
     "name": "stdout",
     "output_type": "stream",
     "text": [
      "b'\\x01\\x00\\x00\\x00\\x00\\x00\\x00\\x00'\n",
      "[[0 0 0 0 1]]\n"
     ]
    }
   ],
   "source": [
    "# Note that the buffer contains 8 bytes (16 hex numbers) which is an int 64 number\n",
    "print(da_1[0].proto.embedding.sparse.values.buffer)\n",
    "print(da_1[0].embedding.todense())"
   ]
  },
  {
   "cell_type": "code",
   "execution_count": 42,
   "id": "bdb92364",
   "metadata": {},
   "outputs": [
    {
     "data": {
      "text/plain": [
       "array([0, 4], dtype=uint32)"
      ]
     },
     "execution_count": 42,
     "metadata": {},
     "output_type": "execute_result"
    }
   ],
   "source": [
    "np.frombuffer(da_1[0].proto.embedding.sparse.indices.buffer, \n",
    "              dtype=np.uint32)"
   ]
  },
  {
   "cell_type": "code",
   "execution_count": 43,
   "id": "95822222",
   "metadata": {},
   "outputs": [
    {
     "data": {
      "text/plain": [
       "array([17179869184])"
      ]
     },
     "execution_count": 43,
     "metadata": {},
     "output_type": "execute_result"
    }
   ],
   "source": [
    "np.frombuffer(da_1[0].proto.embedding.sparse.indices.buffer, \n",
    "              dtype=dtype)"
   ]
  },
  {
   "cell_type": "code",
   "execution_count": 67,
   "id": "aa4994b5",
   "metadata": {},
   "outputs": [
    {
     "data": {
      "text/plain": [
       "(array([0], dtype=int32), array([4], dtype=int32))"
      ]
     },
     "execution_count": 67,
     "metadata": {},
     "output_type": "execute_result"
    }
   ],
   "source": [
    "da_1[0].embedding.row, da_1[0].embedding.col"
   ]
  },
  {
   "cell_type": "markdown",
   "id": "d92c162e",
   "metadata": {},
   "source": [
    "The following example is more interesting"
   ]
  },
  {
   "cell_type": "code",
   "execution_count": 79,
   "id": "735044e7",
   "metadata": {},
   "outputs": [
    {
     "data": {
      "text/plain": [
       "indices {\n",
       "  buffer: \"\\000\\000\\000\\000\\000\\000\\000\\000\\000\\000\\000\\000\\001\\000\\000\\000\\000\\000\\000\\000\\002\\000\\000\\000\\000\\000\\000\\000\\003\\000\\000\\000\"\n",
       "  shape: 4\n",
       "  shape: 2\n",
       "  dtype: \"<i4\"\n",
       "}\n",
       "values {\n",
       "  buffer: \"\\001\\000\\000\\000\\000\\000\\000\\000\\001\\000\\000\\000\\000\\000\\000\\000\\001\\000\\000\\000\\000\\000\\000\\000\\001\\000\\000\\000\\000\\000\\000\\000\"\n",
       "  shape: 4\n",
       "  dtype: \"<i8\"\n",
       "}\n",
       "shape: 1\n",
       "shape: 5"
      ]
     },
     "execution_count": 79,
     "metadata": {},
     "output_type": "execute_result"
    }
   ],
   "source": [
    "da_1[2].proto.embedding.sparse"
   ]
  },
  {
   "cell_type": "code",
   "execution_count": 109,
   "id": "f181ffb2",
   "metadata": {},
   "outputs": [
    {
     "name": "stdout",
     "output_type": "stream",
     "text": [
      "[0 0 0 0]\n",
      "[0 1 2 3]\n",
      "[1 1 1 1]\n"
     ]
    }
   ],
   "source": [
    "print(da_1[2].embedding.row)\n",
    "print(da_1[2].embedding.col)\n",
    "print(da_1[2].embedding.data)"
   ]
  },
  {
   "cell_type": "code",
   "execution_count": 123,
   "id": "e63e49ab",
   "metadata": {},
   "outputs": [
    {
     "data": {
      "text/plain": [
       "array([1, 1, 1, 1])"
      ]
     },
     "execution_count": 123,
     "metadata": {},
     "output_type": "execute_result"
    }
   ],
   "source": [
    "values = np.frombuffer(da_1[2].proto.embedding.sparse.values.buffer, np.int64)\n",
    "values"
   ]
  },
  {
   "cell_type": "code",
   "execution_count": 124,
   "id": "4c88548d",
   "metadata": {},
   "outputs": [
    {
     "data": {
      "text/plain": [
       "array([          0,  4294967296,  8589934592, 12884901888])"
      ]
     },
     "execution_count": 124,
     "metadata": {},
     "output_type": "execute_result"
    }
   ],
   "source": [
    "# BUG? WHAT IS THIS\n",
    "np.frombuffer(da_1[2].proto.embedding.sparse.indices.buffer, \n",
    "              dtype=np.int64)"
   ]
  },
  {
   "cell_type": "code",
   "execution_count": 162,
   "id": "2ff64e88",
   "metadata": {},
   "outputs": [
    {
     "data": {
      "text/plain": [
       "array([0, 0, 0, 1, 0, 2, 0, 3], dtype=int32)"
      ]
     },
     "execution_count": 162,
     "metadata": {},
     "output_type": "execute_result"
    }
   ],
   "source": [
    "# the coordinates are stored consecutively here\n",
    "coordinates = np.frombuffer(da_1[2].proto.embedding.sparse.indices.buffer, \n",
    "              dtype=np.int32)\n",
    "coordinates"
   ]
  },
  {
   "cell_type": "code",
   "execution_count": 150,
   "id": "2e015ba3",
   "metadata": {},
   "outputs": [
    {
     "data": {
      "text/plain": [
       "<2x4 sparse matrix of type '<class 'numpy.int64'>'\n",
       "\twith 4 stored elements in COOrdinate format>"
      ]
     },
     "execution_count": 150,
     "metadata": {},
     "output_type": "execute_result"
    }
   ],
   "source": [
    "sp.coo_matrix(([1,1,1,1],\n",
    "              (coordinates.reshape(2,4)[0,:],\n",
    "              coordinates.reshape(2,4)[1,:])))"
   ]
  },
  {
   "cell_type": "code",
   "execution_count": 161,
   "id": "0a8c6fef",
   "metadata": {},
   "outputs": [
    {
     "data": {
      "text/plain": [
       "matrix([[1, 1, 1, 1]])"
      ]
     },
     "execution_count": 161,
     "metadata": {},
     "output_type": "execute_result"
    }
   ],
   "source": [
    "r = da_1[2].embedding.row\n",
    "c = da_1[2].embedding.col\n",
    "d = da_1[2].embedding.data\n",
    "sp.csr_matrix((d, (r,c))).todense()"
   ]
  },
  {
   "cell_type": "code",
   "execution_count": null,
   "id": "bc5a384c",
   "metadata": {},
   "outputs": [],
   "source": []
  },
  {
   "cell_type": "markdown",
   "id": "8fd0e18e",
   "metadata": {},
   "source": [
    "## Batched `.match` operation"
   ]
  },
  {
   "cell_type": "code",
   "execution_count": null,
   "id": "d0ec4a2f",
   "metadata": {
    "ExecuteTime": {
     "end_time": "2021-08-06T18:55:48.556736Z",
     "start_time": "2021-08-06T18:55:48.500760Z"
    }
   },
   "outputs": [],
   "source": [
    "from jina import Document, DocumentArray\n",
    "import numpy as np\n",
    "\n",
    "d1 = Document(embedding=np.array([0,0,0,0,1]))\n",
    "d2 = Document(embedding=np.array([1,0,0,0,0]))\n",
    "d3 = Document(embedding=np.array([1,1,1,1,0]))\n",
    "d4 = Document(embedding=np.array([1,2,2,1,0]))\n",
    "\n",
    "da_1 = DocumentArray([d1, d2, d3, d4])\n",
    "\n",
    "np.random.seed(1234)\n",
    "x_mat = np.random.random((1000,5))\n",
    "da_2 = DocumentArray([Document(embedding=x) for x in x_mat])"
   ]
  },
  {
   "cell_type": "code",
   "execution_count": null,
   "id": "af3ec774",
   "metadata": {
    "ExecuteTime": {
     "end_time": "2021-08-06T18:55:48.966932Z",
     "start_time": "2021-08-06T18:55:48.917955Z"
    }
   },
   "outputs": [],
   "source": [
    "da_1.match(da_2, metric='euclidean',  limit=3)\n",
    "query = da_1[2]\n",
    "print(f'query emb = {query.embedding}')\n",
    "for m in query.matches:\n",
    "    print('match emb =', np.round(m.embedding,3), 'score =', round(m.scores['euclidean'].value,3))"
   ]
  },
  {
   "cell_type": "code",
   "execution_count": null,
   "id": "3819a389",
   "metadata": {
    "ExecuteTime": {
     "end_time": "2021-08-06T18:55:27.875738Z",
     "start_time": "2021-08-06T18:55:27.804323Z"
    },
    "code_folding": []
   },
   "outputs": [],
   "source": [
    "da_1.match(da_2, metric='euclidean',  limit=3, batch_size=4)\n",
    "query = da_1[2]\n",
    "print(f'query emb = {query.embedding}')\n",
    "for m in query.matches:\n",
    "    print('match emb =', np.round(m.embedding,3), 'score =', round(m.scores['euclidean'].value,3))"
   ]
  },
  {
   "cell_type": "code",
   "execution_count": null,
   "id": "201f1fcc",
   "metadata": {
    "ExecuteTime": {
     "end_time": "2021-08-06T18:55:56.800423Z",
     "start_time": "2021-08-06T18:55:56.526848Z"
    },
    "scrolled": true
   },
   "outputs": [],
   "source": [
    "!rm -rf dam2\n",
    "dam_2 = DocumentArrayMemmap('./dam2')\n",
    "dam_2.extend([Document(embedding=x) for x in x_mat])\n",
    "\n",
    "da_1.match(dam_2, metric='euclidean',  limit=3, batch_size=100)\n",
    "query = da_1[2]\n",
    "print(f'query emb = {query.embedding}')\n",
    "for m in query.matches:\n",
    "    print('match emb =', np.round(m.embedding,3), 'score =', round(m.scores['euclidean'].value,3))"
   ]
  },
  {
   "cell_type": "code",
   "execution_count": null,
   "id": "6fb2f1d1",
   "metadata": {
    "ExecuteTime": {
     "end_time": "2021-08-06T17:43:18.003475Z",
     "start_time": "2021-08-06T17:43:17.971487Z"
    }
   },
   "outputs": [],
   "source": [
    "from jina.math.helper import  update_rows_x_mat_best"
   ]
  },
  {
   "cell_type": "code",
   "execution_count": null,
   "id": "d7e021b7",
   "metadata": {
    "ExecuteTime": {
     "end_time": "2021-08-06T17:51:14.639339Z",
     "start_time": "2021-08-06T17:51:14.607278Z"
    }
   },
   "outputs": [],
   "source": [
    "x_mat_best = np.array([[1,5], \n",
    "                       [3,5]])\n",
    "\n",
    "x_inds_best = np.array([[0,1], \n",
    "                        [0,1]])\n",
    "\n",
    "x_mat = np.array([[0,1,8,9],\n",
    "                  [9,8,2,1]])\n",
    "\n",
    "x_inds = np.array([[4,5,6,7],\n",
    "                   [4,5,6,7]])"
   ]
  },
  {
   "cell_type": "code",
   "execution_count": null,
   "id": "2c3249b1",
   "metadata": {
    "ExecuteTime": {
     "end_time": "2021-08-06T17:51:15.099309Z",
     "start_time": "2021-08-06T17:51:15.067748Z"
    }
   },
   "outputs": [],
   "source": [
    "x_mat_best_new,x_inds_best_new =  update_rows_x_mat_best(x_mat_best, x_inds_best, x_mat, x_inds, 2)"
   ]
  },
  {
   "cell_type": "code",
   "execution_count": null,
   "id": "de037834",
   "metadata": {
    "ExecuteTime": {
     "end_time": "2021-08-06T17:51:15.483297Z",
     "start_time": "2021-08-06T17:51:15.450827Z"
    }
   },
   "outputs": [],
   "source": [
    "print(x_mat_best_new)\n",
    "print(x_inds_best_new)"
   ]
  },
  {
   "cell_type": "markdown",
   "id": "75d71795",
   "metadata": {},
   "source": [
    "## Memmap batched match"
   ]
  },
  {
   "cell_type": "code",
   "execution_count": null,
   "id": "724d059b",
   "metadata": {},
   "outputs": [],
   "source": []
  },
  {
   "cell_type": "code",
   "execution_count": null,
   "id": "3cea7b86",
   "metadata": {},
   "outputs": [],
   "source": []
  },
  {
   "cell_type": "code",
   "execution_count": null,
   "id": "1544219d",
   "metadata": {},
   "outputs": [],
   "source": []
  },
  {
   "cell_type": "markdown",
   "id": "dcc79902",
   "metadata": {},
   "source": [
    "## More examples"
   ]
  },
  {
   "cell_type": "code",
   "execution_count": null,
   "id": "8ecf4554",
   "metadata": {
    "ExecuteTime": {
     "end_time": "2021-08-04T13:49:11.675523Z",
     "start_time": "2021-08-04T13:49:11.634827Z"
    }
   },
   "outputs": [],
   "source": [
    "from jina import Document, DocumentArray\n",
    "import numpy as np\n",
    "from jina.math.distance import cosine, sqeuclidean, cdist"
   ]
  },
  {
   "cell_type": "code",
   "execution_count": null,
   "id": "b28c3557",
   "metadata": {
    "ExecuteTime": {
     "end_time": "2021-08-04T13:49:18.005828Z",
     "start_time": "2021-08-04T13:49:17.969435Z"
    }
   },
   "outputs": [],
   "source": [
    "n_features = 100\n",
    "\n",
    "def get_document_arrays():\n",
    "    d1 = Document(embedding=np.array([0,0,0,0,0]))\n",
    "    d2 = Document(embedding=np.array([1,0,0,0,0]))\n",
    "    d3 = Document(embedding=np.array([1,1,1,1,0]))\n",
    "    d4 = Document(embedding=np.array([1,2,2,1,0]))\n",
    "\n",
    "    d1_m = Document(embedding=np.array([0,0.1,0,0,0]))\n",
    "    d2_m = Document(embedding=np.array([1,0.1,0,0,0]))\n",
    "    d3_m = Document(embedding=np.array([1,1.2,1,1,0]))\n",
    "    d4_m = Document(embedding=np.array([1,2.2,2,1,0]))\n",
    "    d5_m = Document(embedding=np.array([4,5.2,2,1,0]))\n",
    "\n",
    "    D  = DocumentArray([d1,d2,d3,d4])\n",
    "    D2 = DocumentArray([d1_m, d2_m, d3_m, d4_m, d5_m])\n",
    "    return D, D2\n",
    "\n",
    "import scipy.sparse as sp\n",
    "\n",
    "def get_document_arrays_sparse():\n",
    "    d1 = Document(embedding=sp.csr_matrix([0,0,0,0,0]))\n",
    "    d2 = Document(embedding=sp.csr_matrix([1,0,0,0,0]))\n",
    "    d3 = Document(embedding=sp.csr_matrix([1,1,1,1,0]))\n",
    "    d4 = Document(embedding=sp.csr_matrix([1,2,2,1,0]))\n",
    "\n",
    "    d1_m = Document(embedding=sp.csr_matrix([0,0.1,0,0,0]))\n",
    "    d2_m = Document(embedding=sp.csr_matrix([1,0.1,0,0,0]))\n",
    "    d3_m = Document(embedding=sp.csr_matrix([1,1.2,1,1,0]))\n",
    "    d4_m = Document(embedding=sp.csr_matrix([1,2.2,2,1,0]))\n",
    "    d5_m = Document(embedding=sp.csr_matrix([4,5.2,2,1,0]))\n",
    "\n",
    "    D  = DocumentArray([d1,d2,d3,d4])\n",
    "    D2 = DocumentArray([d1_m, d2_m, d3_m, d4_m, d5_m])\n",
    "    return D, D2"
   ]
  },
  {
   "cell_type": "code",
   "execution_count": null,
   "id": "18060498",
   "metadata": {
    "ExecuteTime": {
     "end_time": "2021-08-04T13:49:18.205360Z",
     "start_time": "2021-08-04T13:49:18.173102Z"
    }
   },
   "outputs": [],
   "source": [
    "D, D2 = get_document_arrays()"
   ]
  },
  {
   "cell_type": "code",
   "execution_count": null,
   "id": "5ee0f619",
   "metadata": {
    "ExecuteTime": {
     "end_time": "2021-08-04T13:49:19.041579Z",
     "start_time": "2021-08-04T13:49:19.003394Z"
    }
   },
   "outputs": [],
   "source": [
    "E = np.stack(D.get_attributes('embedding'))\n",
    "E.argsort(axis=1)"
   ]
  },
  {
   "cell_type": "markdown",
   "id": "54e6f900",
   "metadata": {},
   "source": [
    "#### _compute_dist Euclidean distance"
   ]
  },
  {
   "cell_type": "code",
   "execution_count": null,
   "id": "88d6938a",
   "metadata": {
    "ExecuteTime": {
     "end_time": "2021-08-04T13:49:19.533652Z",
     "start_time": "2021-08-04T13:49:19.498542Z"
    }
   },
   "outputs": [],
   "source": [
    "X = np.stack(D.get_attributes('embedding'))\n",
    "Y = np.stack(D2.get_attributes('embedding'))\n",
    "\n",
    "dists = cdist(X, Y, 'euclidean')\n",
    "dists"
   ]
  },
  {
   "cell_type": "markdown",
   "id": "c58cc363",
   "metadata": {},
   "source": [
    "### Computing matches Euclidean similarity\n",
    "\n",
    "By default `D.match` uses a similarity metric.\n",
    "\n",
    "This means matched results are ordered from highest to lowest"
   ]
  },
  {
   "cell_type": "code",
   "execution_count": null,
   "id": "e80bc984",
   "metadata": {
    "ExecuteTime": {
     "end_time": "2021-08-04T13:49:20.668248Z",
     "start_time": "2021-08-04T13:49:20.634868Z"
    }
   },
   "outputs": [],
   "source": [
    "D, D2 = get_document_arrays()\n",
    "D.match(D2, metric='euclidean', limit=3)"
   ]
  },
  {
   "cell_type": "code",
   "execution_count": null,
   "id": "123a005f",
   "metadata": {
    "ExecuteTime": {
     "end_time": "2021-07-29T13:53:41.673498Z",
     "start_time": "2021-07-29T13:53:41.649704Z"
    }
   },
   "outputs": [],
   "source": [
    "print(f'query={D[2].embedding}')\n",
    "for m in D[2].matches:\n",
    "    print(m.embedding, 'score =', m.scores['euclidean'].value)"
   ]
  },
  {
   "cell_type": "code",
   "execution_count": null,
   "id": "74b5fff0",
   "metadata": {
    "ExecuteTime": {
     "end_time": "2021-07-29T13:53:41.846734Z",
     "start_time": "2021-07-29T13:53:41.822812Z"
    },
    "scrolled": true
   },
   "outputs": [],
   "source": [
    "print(f'query={D[1].embedding}')\n",
    "for m in D[1].matches:\n",
    "    print(m.embedding, 'score =', m.scores['euclidean'].value)"
   ]
  },
  {
   "cell_type": "code",
   "execution_count": null,
   "id": "73453303",
   "metadata": {
    "ExecuteTime": {
     "end_time": "2021-07-29T13:56:13.366325Z",
     "start_time": "2021-07-29T13:56:13.333458Z"
    },
    "scrolled": false
   },
   "outputs": [],
   "source": [
    "from jina.enums import EmbeddingClsType\n",
    "\n",
    "D, D2 = get_document_arrays_sparse()\n",
    "D.match(D2, \n",
    "        metric='euclidean',\n",
    "        limit=3,\n",
    "        is_sparse=True)\n",
    "        #embedding_cls_type = EmbeddingClsType.SCIPY_CSR)"
   ]
  },
  {
   "cell_type": "code",
   "execution_count": null,
   "id": "fe0201e8",
   "metadata": {
    "ExecuteTime": {
     "end_time": "2021-07-29T13:56:13.661814Z",
     "start_time": "2021-07-29T13:56:13.637394Z"
    }
   },
   "outputs": [],
   "source": [
    "print(f'query={D[1].embedding.todense()}')\n",
    "for m in D[1].matches:\n",
    "    print(m.embedding.todense(), 'score =', m.scores['euclidean'].value)"
   ]
  },
  {
   "cell_type": "code",
   "execution_count": null,
   "id": "77dd2d21",
   "metadata": {
    "ExecuteTime": {
     "end_time": "2021-07-29T13:55:13.347704Z",
     "start_time": "2021-07-29T13:55:13.324114Z"
    },
    "scrolled": true
   },
   "outputs": [],
   "source": [
    "print(f'query={D[2].embedding.todense()}')\n",
    "for m in D[2].matches:\n",
    "    print(m.embedding.todense(), 'score =', m.scores['euclidean'].value)"
   ]
  },
  {
   "cell_type": "markdown",
   "id": "a92a6558",
   "metadata": {},
   "source": [
    "### Computing matches Euclidean distance\n",
    "\n",
    "If we want to use a distance we need to specify **`is_distance=True`**.\n",
    "\n",
    "If we do so we should get results ordered from lowest to highest"
   ]
  },
  {
   "cell_type": "code",
   "execution_count": null,
   "id": "525fc0df",
   "metadata": {
    "ExecuteTime": {
     "end_time": "2021-07-20T09:19:20.228570Z",
     "start_time": "2021-07-20T09:19:20.222347Z"
    },
    "slideshow": {
     "slide_type": "slide"
    }
   },
   "outputs": [],
   "source": [
    "D, D2 = get_document_arrays()\n",
    "D.match(D2, metric='euclidean', limit=3, is_distance=True)"
   ]
  },
  {
   "cell_type": "code",
   "execution_count": null,
   "id": "599a3b5a",
   "metadata": {
    "ExecuteTime": {
     "end_time": "2021-07-20T09:19:20.417002Z",
     "start_time": "2021-07-20T09:19:20.412986Z"
    }
   },
   "outputs": [],
   "source": [
    "print(f'query={D[2].embedding}')\n",
    "for m in D[2].matches:\n",
    "    print(m.embedding, 'distance =', m.scores['euclidean'].value)"
   ]
  },
  {
   "cell_type": "markdown",
   "id": "e14ee111",
   "metadata": {},
   "source": [
    "### Computing matches Cosine similarity"
   ]
  },
  {
   "cell_type": "code",
   "execution_count": null,
   "id": "42e91efa",
   "metadata": {
    "ExecuteTime": {
     "end_time": "2021-07-20T09:19:20.815031Z",
     "start_time": "2021-07-20T09:19:20.808484Z"
    }
   },
   "outputs": [],
   "source": [
    "D, D2 = get_document_arrays()\n",
    "D.match(D2, metric='cosine', limit=3)"
   ]
  },
  {
   "cell_type": "code",
   "execution_count": null,
   "id": "25631d86",
   "metadata": {
    "ExecuteTime": {
     "end_time": "2021-07-20T09:19:21.013031Z",
     "start_time": "2021-07-20T09:19:21.009130Z"
    }
   },
   "outputs": [],
   "source": [
    "print(f'query={D[2].embedding}')\n",
    "for m in D[2].matches:\n",
    "    print(m.embedding, 'dist=', m.scores['cosine'].value)"
   ]
  },
  {
   "cell_type": "code",
   "execution_count": null,
   "id": "3755f512",
   "metadata": {
    "ExecuteTime": {
     "end_time": "2021-07-20T09:19:21.192879Z",
     "start_time": "2021-07-20T09:19:21.189504Z"
    }
   },
   "outputs": [],
   "source": [
    "scores = [m.scores['cosine'].value for m in D[2].matches]\n",
    "scores ==sorted(scores)[::-1]"
   ]
  },
  {
   "cell_type": "markdown",
   "id": "511cfa7f",
   "metadata": {},
   "source": [
    "If we want cosine distance we need to specify `is_distance=True`"
   ]
  },
  {
   "cell_type": "code",
   "execution_count": null,
   "id": "0edf1ab0",
   "metadata": {
    "ExecuteTime": {
     "end_time": "2021-07-20T09:19:21.780184Z",
     "start_time": "2021-07-20T09:19:21.774067Z"
    }
   },
   "outputs": [],
   "source": [
    "D, D2 = get_document_arrays()\n",
    "D.match(D2, metric='cosine', limit=3, is_distance=True)"
   ]
  },
  {
   "cell_type": "code",
   "execution_count": null,
   "id": "64b4db96",
   "metadata": {
    "ExecuteTime": {
     "end_time": "2021-07-20T09:19:22.069953Z",
     "start_time": "2021-07-20T09:19:22.066668Z"
    }
   },
   "outputs": [],
   "source": [
    "print(f'query={D[2].embedding}')\n",
    "for m in D[2].matches:\n",
    "    print(m.embedding, 'dist=', m.scores['cosine'].value)"
   ]
  },
  {
   "cell_type": "code",
   "execution_count": null,
   "id": "5ae4ab71",
   "metadata": {
    "ExecuteTime": {
     "end_time": "2021-07-20T09:19:22.385573Z",
     "start_time": "2021-07-20T09:19:22.382587Z"
    }
   },
   "outputs": [],
   "source": [
    "distances = [m.scores['cosine'].value for m in D[2].matches]\n",
    "distances ==sorted(distances)"
   ]
  },
  {
   "cell_type": "code",
   "execution_count": null,
   "id": "4ad758b0",
   "metadata": {
    "ExecuteTime": {
     "end_time": "2021-07-20T09:19:24.951812Z",
     "start_time": "2021-07-20T09:19:24.948517Z"
    }
   },
   "outputs": [],
   "source": [
    "[m.scores['cosine'].value for d in D for m in d.matches]"
   ]
  },
  {
   "cell_type": "markdown",
   "id": "dea1d549",
   "metadata": {},
   "source": [
    "## test distances with scipy"
   ]
  },
  {
   "cell_type": "code",
   "execution_count": null,
   "id": "8cf47511",
   "metadata": {
    "ExecuteTime": {
     "end_time": "2021-07-20T09:20:25.049189Z",
     "start_time": "2021-07-20T09:20:25.047370Z"
    }
   },
   "outputs": [],
   "source": [
    "\n",
    "from scipy.spatial.distance import cdist"
   ]
  },
  {
   "cell_type": "code",
   "execution_count": null,
   "id": "81090f97",
   "metadata": {
    "ExecuteTime": {
     "end_time": "2021-07-20T09:32:16.515534Z",
     "start_time": "2021-07-20T09:32:16.512660Z"
    }
   },
   "outputs": [],
   "source": [
    "#X = np.random.random((10,5))\n",
    "#Y = np.random.random((15,5))\n",
    "\n",
    "X = np.array([[1,1,1],[4,5,6],[0,1,2]])\n",
    "Y = np.array([[1,1,2],[2,3,4]])\n",
    "XYdistances = cdist(X,Y,metric='euclidean')\n",
    "XY_new = np.sqrt(euclidean_distance_squared(X,Y))\n",
    "np.testing.assert_almost_equal(XYdistances,XY_new)"
   ]
  },
  {
   "cell_type": "code",
   "execution_count": null,
   "id": "49add9ed",
   "metadata": {
    "ExecuteTime": {
     "end_time": "2021-07-20T09:33:18.550215Z",
     "start_time": "2021-07-20T09:33:18.548042Z"
    }
   },
   "outputs": [],
   "source": [
    "XYdistances = cdist(X,Y,metric='cosine')\n",
    "XY_new = cosine_distance(X,Y)\n",
    "np.testing.assert_almost_equal(XYdistances, XY_new)"
   ]
  },
  {
   "cell_type": "code",
   "execution_count": null,
   "id": "3a91940c",
   "metadata": {
    "ExecuteTime": {
     "end_time": "2021-07-20T09:32:49.908578Z",
     "start_time": "2021-07-20T09:32:49.905855Z"
    }
   },
   "outputs": [],
   "source": [
    "XY_new"
   ]
  },
  {
   "cell_type": "code",
   "execution_count": null,
   "id": "7e33574d",
   "metadata": {
    "ExecuteTime": {
     "end_time": "2021-07-20T09:32:50.154349Z",
     "start_time": "2021-07-20T09:32:50.151397Z"
    }
   },
   "outputs": [],
   "source": [
    "XYdistances"
   ]
  },
  {
   "cell_type": "code",
   "execution_count": null,
   "id": "f837db2a",
   "metadata": {
    "ExecuteTime": {
     "end_time": "2021-07-20T09:33:00.211445Z",
     "start_time": "2021-07-20T09:33:00.208814Z"
    },
    "scrolled": true
   },
   "outputs": [],
   "source": [
    "X"
   ]
  },
  {
   "cell_type": "code",
   "execution_count": null,
   "id": "ddef2643",
   "metadata": {
    "ExecuteTime": {
     "end_time": "2021-07-20T09:33:00.652675Z",
     "start_time": "2021-07-20T09:33:00.649863Z"
    },
    "scrolled": true
   },
   "outputs": [],
   "source": [
    "np.linalg.norm(X, axis=1)"
   ]
  },
  {
   "cell_type": "code",
   "execution_count": null,
   "id": "4f7dbd2c",
   "metadata": {
    "ExecuteTime": {
     "end_time": "2021-07-20T09:33:01.415804Z",
     "start_time": "2021-07-20T09:33:01.412934Z"
    }
   },
   "outputs": [],
   "source": [
    "np.linalg.norm(Y, axis=1)"
   ]
  },
  {
   "cell_type": "code",
   "execution_count": null,
   "id": "3feabe6b",
   "metadata": {
    "ExecuteTime": {
     "end_time": "2021-07-20T09:33:01.589531Z",
     "start_time": "2021-07-20T09:33:01.586032Z"
    }
   },
   "outputs": [],
   "source": [
    "np.outer(np.linalg.norm(X, axis=1), np.linalg.norm(Y, axis=1))  "
   ]
  },
  {
   "cell_type": "code",
   "execution_count": null,
   "id": "671e6b1c",
   "metadata": {
    "ExecuteTime": {
     "end_time": "2021-07-20T09:33:02.383452Z",
     "start_time": "2021-07-20T09:33:02.380413Z"
    }
   },
   "outputs": [],
   "source": [
    "np.outer(np.array([1,2,3]), np.array([3,4]))"
   ]
  },
  {
   "cell_type": "code",
   "execution_count": null,
   "id": "1d3be8dc",
   "metadata": {},
   "outputs": [],
   "source": []
  },
  {
   "cell_type": "code",
   "execution_count": null,
   "id": "c3a7d617",
   "metadata": {},
   "outputs": [],
   "source": []
  },
  {
   "cell_type": "code",
   "execution_count": null,
   "id": "5dedba01",
   "metadata": {},
   "outputs": [],
   "source": []
  },
  {
   "cell_type": "code",
   "execution_count": null,
   "id": "37fe2262",
   "metadata": {},
   "outputs": [],
   "source": []
  },
  {
   "cell_type": "code",
   "execution_count": null,
   "id": "ef7e910d",
   "metadata": {},
   "outputs": [],
   "source": []
  },
  {
   "cell_type": "code",
   "execution_count": null,
   "id": "b248aa28",
   "metadata": {
    "ExecuteTime": {
     "end_time": "2021-07-20T09:27:51.129028Z",
     "start_time": "2021-07-20T09:27:51.126435Z"
    }
   },
   "outputs": [],
   "source": [
    "2.44948974 * 1.73205081"
   ]
  },
  {
   "cell_type": "code",
   "execution_count": null,
   "id": "405094cd",
   "metadata": {},
   "outputs": [],
   "source": []
  },
  {
   "cell_type": "code",
   "execution_count": null,
   "id": "1bef4a53",
   "metadata": {},
   "outputs": [],
   "source": []
  },
  {
   "cell_type": "markdown",
   "id": "cf878404",
   "metadata": {},
   "source": [
    "## Document Memmap"
   ]
  },
  {
   "cell_type": "code",
   "execution_count": null,
   "id": "9133122f",
   "metadata": {
    "ExecuteTime": {
     "end_time": "2021-07-19T13:19:36.263207Z",
     "start_time": "2021-07-19T13:19:36.261324Z"
    }
   },
   "outputs": [],
   "source": [
    "from jina.types.arrays.memmap import DocumentArrayMemmap"
   ]
  },
  {
   "cell_type": "markdown",
   "id": "b352319d",
   "metadata": {
    "ExecuteTime": {
     "end_time": "2021-07-19T11:56:44.193642Z",
     "start_time": "2021-07-19T11:56:44.191985Z"
    }
   },
   "source": [
    "##### test_match_docarray_docarraymemmap"
   ]
  },
  {
   "cell_type": "code",
   "execution_count": null,
   "id": "da6a3f38",
   "metadata": {
    "ExecuteTime": {
     "end_time": "2021-07-19T14:08:07.570542Z",
     "start_time": "2021-07-19T14:08:07.434818Z"
    }
   },
   "outputs": [],
   "source": [
    "metric = 'euclidean'\n",
    "D1, D2 = get_document_arrays()\n",
    "D1.match(D2, metric=metric, limit=3, is_distance=True)\n",
    "values_docarray = [m.scores[metric].value for d in D1 for m in d.matches]\n",
    "\n",
    "!rm -rf ./my-memmap\n",
    "D1, D2 = get_document_arrays()\n",
    "D2memmap = DocumentArrayMemmap('./my-memmap')\n",
    "D2memmap.extend(D2)\n",
    "D1.match(D2memmap, metric=metric, limit=3, is_distance=True)\n",
    "values_docarraymemmap = [m.scores[metric].value for d in D1 for m in d.matches]"
   ]
  },
  {
   "cell_type": "code",
   "execution_count": null,
   "id": "cc062901",
   "metadata": {
    "ExecuteTime": {
     "end_time": "2021-07-19T14:08:07.752664Z",
     "start_time": "2021-07-19T14:08:07.749539Z"
    }
   },
   "outputs": [],
   "source": [
    "values_docarraymemmap == values_docarraymemmap"
   ]
  },
  {
   "cell_type": "markdown",
   "id": "2d1707c6",
   "metadata": {},
   "source": [
    "##### test_docarraymemmap_match_docarray"
   ]
  },
  {
   "cell_type": "code",
   "execution_count": null,
   "id": "e09ea4c2",
   "metadata": {
    "ExecuteTime": {
     "end_time": "2021-07-19T13:59:34.988517Z",
     "start_time": "2021-07-19T13:59:34.843708Z"
    }
   },
   "outputs": [],
   "source": [
    "D1, D2 = get_document_arrays()\n",
    "D1.match(D2, metric='euclidean', limit=3, is_distance=True)\n",
    "values_docarray = [m.scores['euclidean'].value for d in D1 for m in d.matches]\n",
    "\n",
    "!rm -rf ./my-memmap\n",
    "\n",
    "from jina import Document\n",
    "D1, D2 = get_document_arrays()\n",
    "D1memmap = DocumentArrayMemmap('./my-memmap')\n",
    "D1memmap.extend(D1)\n",
    "D1memmap.match(D2, metric='euclidean', limit=3, is_distance=True)\n",
    "\n",
    "print(f'query={dam[2].embedding}')\n",
    "for m in D1memmap[2].matches:\n",
    "    print(m.embedding, 'distance =', m.scores['euclidean'].value)\n",
    "    \n",
    "values_docarraymemmap = [m.scores['euclidean'].value for d in D1memmap for m in d.matches]"
   ]
  },
  {
   "cell_type": "code",
   "execution_count": null,
   "id": "e4a38877",
   "metadata": {
    "ExecuteTime": {
     "end_time": "2021-07-19T13:59:43.148960Z",
     "start_time": "2021-07-19T13:59:43.145965Z"
    }
   },
   "outputs": [],
   "source": [
    "values_docarray == values_docarraymemmap"
   ]
  },
  {
   "cell_type": "markdown",
   "id": "ab0b7efe",
   "metadata": {},
   "source": [
    "##### test_docarraymemmap_match_docarraymemmap"
   ]
  },
  {
   "cell_type": "code",
   "execution_count": null,
   "id": "8cb64cee",
   "metadata": {
    "ExecuteTime": {
     "end_time": "2021-07-19T13:48:38.477375Z",
     "start_time": "2021-07-19T13:48:38.228265Z"
    }
   },
   "outputs": [],
   "source": [
    "metric = 'euclidean'\n",
    "is_distance = 'False'\n",
    "D1, D2 = get_document_arrays()\n",
    "D1.match(D2, metric=metric, limit=3, is_distance=True)\n",
    "values_docarray = [m.scores[metric].value for d in D1 for m in d.matches]\n",
    "\n",
    "!rm -rf ./my-memmap1\n",
    "!rm -rf ./my-memmap2\n",
    "D1, D2 = get_document_arrays()\n",
    "D1memmap = DocumentArrayMemmap('./my-memmap1')\n",
    "D1memmap.extend(D1)\n",
    "D1memmap.reload()\n",
    "D2memmap = DocumentArrayMemmap('./my-memmap2')\n",
    "D2memmap.extend(D2)\n",
    "D2memmap.reload()\n",
    "D2memmap.reload()\n",
    "D1memmap.match(D2memmap, metric=metric, limit=3, is_distance=is_distance)\n",
    "\n",
    "#values_docarraymemmap = [m.scores[metric].value for d in D1memmap for m in d.matches]\n"
   ]
  },
  {
   "cell_type": "code",
   "execution_count": null,
   "id": "18bd178e",
   "metadata": {
    "ExecuteTime": {
     "end_time": "2021-07-19T13:48:32.457604Z",
     "start_time": "2021-07-19T13:48:32.434440Z"
    }
   },
   "outputs": [],
   "source": [
    "values_docarraymemmap = [m.scores[metric].value for d in D1memmap for m in d.matches]\n",
    "values_docarraymemmap"
   ]
  },
  {
   "cell_type": "code",
   "execution_count": null,
   "id": "28d88286",
   "metadata": {
    "ExecuteTime": {
     "end_time": "2021-07-19T13:20:59.845599Z",
     "start_time": "2021-07-19T13:20:59.839276Z"
    }
   },
   "outputs": [],
   "source": [
    "D1memmap[0].matches"
   ]
  },
  {
   "cell_type": "code",
   "execution_count": null,
   "id": "ddeb6006",
   "metadata": {
    "ExecuteTime": {
     "end_time": "2021-07-19T13:21:00.786337Z",
     "start_time": "2021-07-19T13:21:00.783599Z"
    }
   },
   "outputs": [],
   "source": [
    "values_docarray"
   ]
  },
  {
   "cell_type": "markdown",
   "id": "2a3cb3b5",
   "metadata": {},
   "source": [
    "### Test distances using memmaparrays"
   ]
  },
  {
   "cell_type": "code",
   "execution_count": null,
   "id": "f6b45503",
   "metadata": {
    "ExecuteTime": {
     "end_time": "2021-08-04T13:49:36.075031Z",
     "start_time": "2021-08-04T13:49:36.036886Z"
    },
    "scrolled": true
   },
   "outputs": [],
   "source": [
    "euclidean_distance_squared(D1memmap, D2memmap)"
   ]
  },
  {
   "cell_type": "code",
   "execution_count": null,
   "id": "edfb7792",
   "metadata": {
    "ExecuteTime": {
     "end_time": "2021-08-04T13:49:36.412083Z",
     "start_time": "2021-08-04T13:49:36.374286Z"
    }
   },
   "outputs": [],
   "source": [
    "D1memmap.get_attributes('embedding')"
   ]
  },
  {
   "cell_type": "markdown",
   "id": "e5ca4a7f",
   "metadata": {},
   "source": [
    "# Batching distance computation"
   ]
  },
  {
   "cell_type": "markdown",
   "id": "afbd908e",
   "metadata": {},
   "source": [
    "## Expressing the problem\n",
    "\n",
    "\n",
    "Let `x_mat` and `y_mat` be two matrices with `n_x` and `n_y` rows respectively.\n",
    "\n",
    "The ouput of our code is two matrices:\n",
    "\n",
    "- `dists`: is a np.ndarray of shape `(n_x, k)` containing at row `i` the closest `k` distances from `x_mat[i,:]` and the `best` elements from `y_mat`. This matrix does not store which elements from `Y` are selected. This information is in the following matrix `inds`. \n",
    "\n",
    "\n",
    "- `inds`: is a np.ndarray of shape `(n_x, k)` containing at row `i` the indices of the `k` closest selected items from `y_mat`\n",
    "\n",
    "\n",
    "We want to compute the pariwise distances between `x_mat` and `y_mat` assuming that rows in `x_mat` can be stored in memory but not all rows from `y_mat`.  Therefore we will load from `y_mat` in batches and compute the distances with each batch.\n"
   ]
  },
  {
   "cell_type": "code",
   "execution_count": null,
   "id": "30057f80",
   "metadata": {
    "ExecuteTime": {
     "end_time": "2021-08-06T11:42:55.281367Z",
     "start_time": "2021-08-06T11:42:55.243278Z"
    }
   },
   "outputs": [],
   "source": [
    "import jina.math \n",
    "from jina.math.distance import sqeuclidean\n",
    "from jina.math.helper import top_k"
   ]
  },
  {
   "cell_type": "markdown",
   "id": "5e6940ac",
   "metadata": {},
   "source": [
    "## Building the function"
   ]
  },
  {
   "cell_type": "code",
   "execution_count": null,
   "id": "dff032ed",
   "metadata": {
    "ExecuteTime": {
     "end_time": "2021-08-06T11:42:55.870539Z",
     "start_time": "2021-08-06T11:42:55.837021Z"
    },
    "scrolled": true
   },
   "outputs": [],
   "source": [
    "n_features = 10\n",
    "np.random.seed(1234)\n",
    "X = np.random.random((10, n_features))\n",
    "Y = np.random.random((1000,n_features))\n",
    "\n",
    "print(X[0]) \n",
    "print(np.argpartition([4,0,2,6,9,1],kth=3))\n",
    "print(sqeuclidean(X,Y).shape)"
   ]
  },
  {
   "cell_type": "code",
   "execution_count": null,
   "id": "e18abc67",
   "metadata": {
    "ExecuteTime": {
     "end_time": "2021-08-06T11:42:56.477431Z",
     "start_time": "2021-08-06T11:42:56.445152Z"
    }
   },
   "outputs": [],
   "source": [
    "dists, inds = top_k(sqeuclidean(X,Y), 10)\n",
    "print(inds.shape, dists.shape)\n",
    "print(dists[0])\n",
    "print(inds[0])"
   ]
  },
  {
   "cell_type": "code",
   "execution_count": null,
   "id": "7721df7b",
   "metadata": {
    "ExecuteTime": {
     "end_time": "2021-08-06T11:42:56.738013Z",
     "start_time": "2021-08-06T11:42:56.704891Z"
    }
   },
   "outputs": [],
   "source": [
    "def batch_generator(y_mat, n_batch):\n",
    "    for i in range(0,len(y_mat), n_batch):\n",
    "        yield y_mat[i:i+n_batch], i "
   ]
  },
  {
   "cell_type": "code",
   "execution_count": null,
   "id": "aec2efaa",
   "metadata": {
    "ExecuteTime": {
     "end_time": "2021-08-06T11:42:56.986440Z",
     "start_time": "2021-08-06T11:42:56.952819Z"
    }
   },
   "outputs": [],
   "source": [
    "[(a[0].shape,a[1]) for a in batch_generator(Y, n_batch=100)]"
   ]
  },
  {
   "cell_type": "code",
   "execution_count": null,
   "id": "e5a20a38",
   "metadata": {
    "ExecuteTime": {
     "end_time": "2021-08-06T11:44:07.037035Z",
     "start_time": "2021-08-06T11:44:07.005012Z"
    }
   },
   "outputs": [],
   "source": [
    "def batch_top_k(x_mat, y_mat, batch_size, k):\n",
    "\n",
    "    n_x = x_mat.shape[0]\n",
    "\n",
    "    y_batch_generator = batch_generator(y_mat, batch_size)\n",
    "    top_dists = np.inf * np.ones((n_x, k))\n",
    "    top_inds  = np.zeros((n_x, k), dtype=int)\n",
    "    \n",
    "    for ybatch, ybatch_start_pos in y_batch_generator:\n",
    "        distances = sqeuclidean(x_mat, ybatch)\n",
    "        dists, inds = top_k(distances, k)\n",
    "        inds = ybatch_start_pos + inds\n",
    "        top_dists, top_inds = get_min_dists(dists, inds, top_dists, top_inds, k)\n",
    "        \n",
    "    # sort final the final `top_dists` and `top_inds` per row \n",
    "    perm = np.argsort(top_dists, axis=1)\n",
    "    top_dists = np.take_along_axis(top_dists, perm, axis=1)\n",
    "    top_inds = np.take_along_axis(top_inds, perm, axis=1)\n",
    "    \n",
    "    return top_dists, top_inds"
   ]
  },
  {
   "cell_type": "code",
   "execution_count": null,
   "id": "dc07a8e4",
   "metadata": {
    "ExecuteTime": {
     "end_time": "2021-08-06T11:44:07.532633Z",
     "start_time": "2021-08-06T11:44:07.499712Z"
    }
   },
   "outputs": [],
   "source": [
    "def get_min_dists(dists, inds, top_dists, top_inds, k):\n",
    "    all_dists = np.hstack((dists, top_dists))\n",
    "    all_inds = np.hstack((inds, top_inds))\n",
    "    best_inds = np.argpartition(all_dists, kth=k, axis=1)\n",
    "    d_mat = np.take_along_axis(all_dists, best_inds , axis=1)\n",
    "    i_mat = np.take_along_axis(all_inds, best_inds , axis=1)\n",
    "    return d_mat[:,:k], i_mat[:,:k]\n",
    "\n",
    "def get_min_dists2(dists, inds, top_dists, top_inds, k):\n",
    "    all_dists = np.hstack((dists, top_dists))\n",
    "    all_inds = np.hstack((inds, top_inds))\n",
    "    best_inds = np.argpartition(all_dists, kth=k, axis=1)[:, 0:k]\n",
    "    d_mat = np.array([all_dists[i,best_inds[i]] for i in range(len(all_dists))])\n",
    "    i_mat = np.array([all_inds[i,best_inds[i]] for i in range(len(all_dists))])\n",
    "    return d_mat, i_mat"
   ]
  },
  {
   "cell_type": "code",
   "execution_count": null,
   "id": "8ae97296",
   "metadata": {
    "ExecuteTime": {
     "end_time": "2021-08-06T11:44:07.872143Z",
     "start_time": "2021-08-06T11:44:07.840226Z"
    }
   },
   "outputs": [],
   "source": [
    "n_features = 20\n",
    "k = 5\n",
    "batch_size = 100\n",
    "\n",
    "np.random.seed(1234)\n",
    "X = np.random.random((10, n_features))\n",
    "Y = np.random.random((1000, n_features))"
   ]
  },
  {
   "cell_type": "code",
   "execution_count": null,
   "id": "7497da6c",
   "metadata": {
    "ExecuteTime": {
     "end_time": "2021-08-06T11:44:08.117873Z",
     "start_time": "2021-08-06T11:44:08.083462Z"
    },
    "scrolled": true
   },
   "outputs": [],
   "source": [
    "batch_top_k(X, Y, batch_size, k=k)"
   ]
  },
  {
   "cell_type": "code",
   "execution_count": null,
   "id": "ff9ca7af",
   "metadata": {
    "ExecuteTime": {
     "end_time": "2021-08-06T11:44:17.740015Z",
     "start_time": "2021-08-06T11:44:17.703992Z"
    }
   },
   "outputs": [],
   "source": [
    "top_k(sqeuclidean(X,Y), k=k)"
   ]
  },
  {
   "cell_type": "markdown",
   "id": "6db0ce1c",
   "metadata": {},
   "source": [
    "## Adapting batch funtion to memmap arrays "
   ]
  },
  {
   "cell_type": "code",
   "execution_count": null,
   "id": "548eb4b4",
   "metadata": {
    "ExecuteTime": {
     "end_time": "2021-08-06T11:44:23.857569Z",
     "start_time": "2021-08-06T11:44:23.824499Z"
    }
   },
   "outputs": [],
   "source": [
    "def get_min_dists(dists, inds, top_dists, top_inds, k):\n",
    "    all_dists = np.hstack((dists, top_dists))\n",
    "    all_inds = np.hstack((inds, top_inds))\n",
    "    best_inds = np.argpartition(all_dists, kth=k, axis=1)\n",
    "    d_mat = np.take_along_axis(all_dists, best_inds , axis=1)\n",
    "    i_mat = np.take_along_axis(all_inds, best_inds , axis=1)\n",
    "    return d_mat[:,:k], i_mat[:,:k]\n",
    "\n",
    "def batch_top_k(x_mat, y_mat, batch_size, k):\n",
    "\n",
    "    n_x = x_mat.shape[0]\n",
    "\n",
    "    y_batch_generator = batch_generator(y_mat, batch_size)\n",
    "    top_dists = np.inf * np.ones((n_x, top_k_value))\n",
    "    top_inds  = np.zeros((n_x, k), dtype=int)\n",
    "    \n",
    "    for ybatch, ybatch_start_pos in y_batch_generator:\n",
    "        distances = sqeuclidean(x_mat, ybatch)\n",
    "        dists, inds = top_k(distances, k)\n",
    "        inds = ybatch_start_pos + inds\n",
    "        top_dists, top_inds = get_min_dists(dists, inds, top_dists, top_inds, k)\n",
    "        \n",
    "    # sort final the final `top_dists` and `top_inds` per row \n",
    "    perm = np.argsort(top_dists, axis=1)\n",
    "    top_dists = np.take_along_axis(top_dists, perm, axis=1)\n",
    "    top_inds = np.take_along_axis(top_inds, perm, axis=1)\n",
    "    \n",
    "    return top_dists, top_inds"
   ]
  },
  {
   "cell_type": "code",
   "execution_count": null,
   "id": "d14f43ae",
   "metadata": {
    "ExecuteTime": {
     "end_time": "2021-08-06T11:44:24.216691Z",
     "start_time": "2021-08-06T11:44:24.063014Z"
    }
   },
   "outputs": [],
   "source": [
    "from jina.types.arrays.memmap import DocumentArrayMemmap\n",
    "from jina import Document\n",
    "\n",
    "n_features = 20\n",
    "np.random.seed(1234)\n",
    "X = np.random.random((10, n_features))\n",
    "Y = np.random.random((1000, n_features))\n",
    "\n",
    "y_dam = DocumentArrayMemmap('./my-memmap')\n",
    "y_dam.extend([Document(embedding=y) for y in Y ])\n",
    "y_dam[0:5]"
   ]
  },
  {
   "cell_type": "code",
   "execution_count": null,
   "id": "1c98dd21",
   "metadata": {
    "ExecuteTime": {
     "end_time": "2021-08-05T11:42:19.462522Z",
     "start_time": "2021-08-05T11:42:19.437886Z"
    }
   },
   "outputs": [],
   "source": [
    "n_features = 20\n",
    "\n",
    "np.random.seed(1234)\n",
    "X = np.random.random((10, n_features))\n",
    "Y = np.random.random((1000, n_features))\n",
    "\n",
    "y_da = DocumentArray([Document(embedding=y) for y in Y ])"
   ]
  },
  {
   "cell_type": "code",
   "execution_count": null,
   "id": "5e083873",
   "metadata": {
    "ExecuteTime": {
     "end_time": "2021-08-05T13:27:05.218111Z",
     "start_time": "2021-08-05T13:27:05.215320Z"
    },
    "scrolled": true
   },
   "outputs": [],
   "source": [
    "y_da[0:5]"
   ]
  },
  {
   "cell_type": "code",
   "execution_count": null,
   "id": "697cadea",
   "metadata": {},
   "outputs": [],
   "source": []
  },
  {
   "cell_type": "code",
   "execution_count": null,
   "id": "ccc75a5a",
   "metadata": {
    "ExecuteTime": {
     "end_time": "2021-08-05T13:27:03.697883Z",
     "start_time": "2021-08-05T13:27:03.685788Z"
    }
   },
   "outputs": [],
   "source": [
    "aux = np.memmap(y_dam._body)"
   ]
  },
  {
   "cell_type": "code",
   "execution_count": null,
   "id": "a15f701f",
   "metadata": {
    "ExecuteTime": {
     "end_time": "2021-08-05T13:27:03.913938Z",
     "start_time": "2021-08-05T13:27:03.911147Z"
    }
   },
   "outputs": [],
   "source": [
    "len(aux)"
   ]
  },
  {
   "cell_type": "markdown",
   "id": "b3575739",
   "metadata": {},
   "source": [
    "## Benchmark selection of best values from a distance matrix"
   ]
  },
  {
   "cell_type": "code",
   "execution_count": null,
   "id": "9c73f262",
   "metadata": {
    "ExecuteTime": {
     "end_time": "2021-08-06T14:47:47.613990Z",
     "start_time": "2021-08-06T14:47:47.488307Z"
    }
   },
   "outputs": [],
   "source": [
    "aux = np.vstack([y_dam[i].embedding for i in range(1000)])"
   ]
  },
  {
   "cell_type": "code",
   "execution_count": null,
   "id": "b7064da3",
   "metadata": {
    "ExecuteTime": {
     "end_time": "2021-08-06T14:47:47.998427Z",
     "start_time": "2021-08-06T14:47:47.960888Z"
    }
   },
   "outputs": [],
   "source": [
    "all_dists = np.hstack((dists, top_dists))\n",
    "all_inds = np.hstack((inds, top_inds))\n",
    "best_inds = np.argpartition(all_dists, kth=top_k_value, axis=1)[:,:top_k_value]"
   ]
  },
  {
   "cell_type": "code",
   "execution_count": null,
   "id": "25cd97bd",
   "metadata": {
    "ExecuteTime": {
     "end_time": "2021-08-05T09:06:20.762922Z",
     "start_time": "2021-08-05T09:06:20.759957Z"
    }
   },
   "outputs": [],
   "source": [
    "print(all_dists)\n",
    "print(best_inds)\n",
    "print(np.take_along_axis(all_dists, best_inds , axis=1))"
   ]
  },
  {
   "cell_type": "markdown",
   "id": "489ae522",
   "metadata": {},
   "source": [
    "One way to do it is with a comprenhensive list"
   ]
  },
  {
   "cell_type": "code",
   "execution_count": null,
   "id": "0b6ceaa2",
   "metadata": {
    "ExecuteTime": {
     "end_time": "2021-08-05T08:52:30.083046Z",
     "start_time": "2021-08-05T08:52:26.304855Z"
    }
   },
   "outputs": [],
   "source": [
    "%%timeit\n",
    "d_mat = np.array([all_dists[i,best_inds[i][:top_k_value]] for i in range(len(all_dists))])"
   ]
  },
  {
   "cell_type": "markdown",
   "id": "278ec473",
   "metadata": {},
   "source": [
    "Another way to do it is with `np.take_along_axis`"
   ]
  },
  {
   "cell_type": "code",
   "execution_count": null,
   "id": "e671d737",
   "metadata": {
    "ExecuteTime": {
     "end_time": "2021-08-05T08:46:50.677153Z",
     "start_time": "2021-08-05T08:46:45.410609Z"
    }
   },
   "outputs": [],
   "source": [
    "%%timeit\n",
    "np.take_along_axis(all_dists, best_inds , axis=1)"
   ]
  },
  {
   "cell_type": "markdown",
   "id": "21e14295",
   "metadata": {},
   "source": [
    "Both methods return the same"
   ]
  },
  {
   "cell_type": "code",
   "execution_count": null,
   "id": "96ec9a1f",
   "metadata": {
    "ExecuteTime": {
     "end_time": "2021-08-05T08:46:10.794522Z",
     "start_time": "2021-08-05T08:46:10.791381Z"
    }
   },
   "outputs": [],
   "source": [
    "np.array([all_dists[i,best_inds[i][:top_k_value]] for i in range(len(all_dists))])"
   ]
  },
  {
   "cell_type": "code",
   "execution_count": null,
   "id": "332a0782",
   "metadata": {
    "ExecuteTime": {
     "end_time": "2021-08-05T08:45:57.563490Z",
     "start_time": "2021-08-05T08:45:57.560549Z"
    },
    "scrolled": true
   },
   "outputs": [],
   "source": [
    "np.take_along_axis(all_dists, best_inds , axis=1)"
   ]
  },
  {
   "cell_type": "code",
   "execution_count": null,
   "id": "19158e64",
   "metadata": {},
   "outputs": [],
   "source": []
  },
  {
   "cell_type": "code",
   "execution_count": null,
   "id": "48a93ddf",
   "metadata": {},
   "outputs": [],
   "source": []
  },
  {
   "cell_type": "code",
   "execution_count": null,
   "id": "e1325c33",
   "metadata": {
    "ExecuteTime": {
     "end_time": "2021-08-05T14:52:49.689073Z",
     "start_time": "2021-08-05T14:52:49.686892Z"
    }
   },
   "outputs": [],
   "source": [
    "def f(a=1,b=2,c=None):\n",
    "    if c:\n",
    "        return a+b+c\n",
    "    else:\n",
    "        return a+b"
   ]
  },
  {
   "cell_type": "code",
   "execution_count": null,
   "id": "451b70db",
   "metadata": {
    "ExecuteTime": {
     "end_time": "2021-08-05T14:53:04.194533Z",
     "start_time": "2021-08-05T14:53:04.192075Z"
    }
   },
   "outputs": [],
   "source": [
    "f(1,2)"
   ]
  },
  {
   "cell_type": "code",
   "execution_count": null,
   "id": "264f11f0",
   "metadata": {
    "ExecuteTime": {
     "end_time": "2021-08-05T15:14:35.233181Z",
     "start_time": "2021-08-05T15:14:35.219851Z"
    },
    "scrolled": true
   },
   "outputs": [],
   "source": [
    "f(1,2,**{'d':24})"
   ]
  },
  {
   "cell_type": "code",
   "execution_count": null,
   "id": "d4355083",
   "metadata": {
    "ExecuteTime": {
     "end_time": "2021-08-05T15:14:49.413162Z",
     "start_time": "2021-08-05T15:14:49.410953Z"
    }
   },
   "outputs": [],
   "source": [
    "def g(a=1,b=2):\n",
    "    return a+b"
   ]
  },
  {
   "cell_type": "code",
   "execution_count": null,
   "id": "fe7a30a1",
   "metadata": {},
   "outputs": [],
   "source": []
  },
  {
   "cell_type": "code",
   "execution_count": null,
   "id": "cdf7656d",
   "metadata": {},
   "outputs": [],
   "source": []
  },
  {
   "cell_type": "code",
   "execution_count": null,
   "id": "c80eb2eb",
   "metadata": {},
   "outputs": [],
   "source": []
  }
 ],
 "metadata": {
  "kernelspec": {
   "display_name": "Python 3 (ipykernel)",
   "language": "python",
   "name": "python3"
  },
  "language_info": {
   "codemirror_mode": {
    "name": "ipython",
    "version": 3
   },
   "file_extension": ".py",
   "mimetype": "text/x-python",
   "name": "python",
   "nbconvert_exporter": "python",
   "pygments_lexer": "ipython3",
   "version": "3.8.8"
  },
  "toc": {
   "base_numbering": 1,
   "nav_menu": {},
   "number_sections": true,
   "sideBar": true,
   "skip_h1_title": false,
   "title_cell": "Table of Contents",
   "title_sidebar": "Contents",
   "toc_cell": true,
   "toc_position": {},
   "toc_section_display": true,
   "toc_window_display": true
  },
  "varInspector": {
   "cols": {
    "lenName": 16,
    "lenType": 16,
    "lenVar": 40
   },
   "kernels_config": {
    "python": {
     "delete_cmd_postfix": "",
     "delete_cmd_prefix": "del ",
     "library": "var_list.py",
     "varRefreshCmd": "print(var_dic_list())"
    },
    "r": {
     "delete_cmd_postfix": ") ",
     "delete_cmd_prefix": "rm(",
     "library": "var_list.r",
     "varRefreshCmd": "cat(var_dic_list()) "
    }
   },
   "types_to_exclude": [
    "module",
    "function",
    "builtin_function_or_method",
    "instance",
    "_Feature"
   ],
   "window_display": false
  }
 },
 "nbformat": 4,
 "nbformat_minor": 5
}
