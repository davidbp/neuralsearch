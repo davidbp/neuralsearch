{
 "cells": [
  {
   "cell_type": "markdown",
   "metadata": {
    "toc": true
   },
   "source": [
    "<h1>Table of Contents<span class=\"tocSkip\"></span></h1>\n",
    "<div class=\"toc\"><ul class=\"toc-item\"><li><ul class=\"toc-item\"><li><ul class=\"toc-item\"><li><span><a href=\"#_compute_dist-Euclidean-distance\" data-toc-modified-id=\"_compute_dist-Euclidean-distance-0.0.1\"><span class=\"toc-item-num\">0.0.1&nbsp;&nbsp;</span>_compute_dist Euclidean distance</a></span></li></ul></li><li><span><a href=\"#Computing-matches-Euclidean-similarity\" data-toc-modified-id=\"Computing-matches-Euclidean-similarity-0.1\"><span class=\"toc-item-num\">0.1&nbsp;&nbsp;</span>Computing matches Euclidean similarity</a></span></li><li><span><a href=\"#Computing-matches-Euclidean-distance\" data-toc-modified-id=\"Computing-matches-Euclidean-distance-0.2\"><span class=\"toc-item-num\">0.2&nbsp;&nbsp;</span>Computing matches Euclidean distance</a></span></li><li><span><a href=\"#Computing-matches-Cosine-similarity\" data-toc-modified-id=\"Computing-matches-Cosine-similarity-0.3\"><span class=\"toc-item-num\">0.3&nbsp;&nbsp;</span>Computing matches Cosine similarity</a></span></li></ul></li><li><span><a href=\"#Document-Memmap\" data-toc-modified-id=\"Document-Memmap-1\"><span class=\"toc-item-num\">1&nbsp;&nbsp;</span>Document Memmap</a></span></li></ul></div>"
   ]
  },
  {
   "cell_type": "code",
   "execution_count": 3,
   "metadata": {
    "ExecuteTime": {
     "end_time": "2021-07-19T11:33:07.480427Z",
     "start_time": "2021-07-19T11:33:07.478363Z"
    }
   },
   "outputs": [],
   "source": [
    "from jina import Document, DocumentArray\n",
    "import numpy as np\n",
    "from jina.types.arrays.neuraloperations import cosine_distance\n",
    "from jina.types.arrays.neuraloperations import euclidean_distance_squared\n",
    "from jina.types.arrays.neuraloperations import compute_distances"
   ]
  },
  {
   "cell_type": "code",
   "execution_count": 4,
   "metadata": {
    "ExecuteTime": {
     "end_time": "2021-07-19T11:33:07.953650Z",
     "start_time": "2021-07-19T11:33:07.952041Z"
    }
   },
   "outputs": [],
   "source": [
    "#%load_ext autoreload\n",
    "#%autoreload 2"
   ]
  },
  {
   "cell_type": "code",
   "execution_count": 5,
   "metadata": {
    "ExecuteTime": {
     "end_time": "2021-07-19T11:33:08.224765Z",
     "start_time": "2021-07-19T11:33:08.220764Z"
    }
   },
   "outputs": [],
   "source": [
    "n_features = 100\n",
    "\n",
    "def get_document_arrays():\n",
    "    d1 = Document(embedding=np.array([0,0,0,0,0]))\n",
    "    d2 = Document(embedding=np.array([1,0,0,0,0]))\n",
    "    d3 = Document(embedding=np.array([1,1,1,1,0]))\n",
    "    d4 = Document(embedding=np.array([1,2,2,1,0]))\n",
    "\n",
    "    d1_m = Document(embedding=np.array([0,0.1,0,0,0]))\n",
    "    d2_m = Document(embedding=np.array([1,0.1,0,0,0]))\n",
    "    d3_m = Document(embedding=np.array([1,1.2,1,1,0]))\n",
    "    d4_m = Document(embedding=np.array([1,2.2,2,1,0]))\n",
    "    d5_m = Document(embedding=np.array([4,5.2,2,1,0]))\n",
    "\n",
    "    D  = DocumentArray([d1,d2,d3,d4])\n",
    "    D2 = DocumentArray([d1_m, d2_m, d3_m, d4_m, d5_m])\n",
    "    return D, D2"
   ]
  },
  {
   "cell_type": "code",
   "execution_count": 6,
   "metadata": {
    "ExecuteTime": {
     "end_time": "2021-07-19T11:33:08.651858Z",
     "start_time": "2021-07-19T11:33:08.648994Z"
    }
   },
   "outputs": [],
   "source": [
    "D, D2 = get_document_arrays()"
   ]
  },
  {
   "cell_type": "code",
   "execution_count": 7,
   "metadata": {
    "ExecuteTime": {
     "end_time": "2021-07-19T11:33:09.172848Z",
     "start_time": "2021-07-19T11:33:09.166017Z"
    }
   },
   "outputs": [
    {
     "data": {
      "text/plain": [
       "array([[0, 1, 2, 3, 4],\n",
       "       [1, 2, 3, 4, 0],\n",
       "       [4, 0, 1, 2, 3],\n",
       "       [4, 0, 3, 1, 2]])"
      ]
     },
     "execution_count": 7,
     "metadata": {},
     "output_type": "execute_result"
    }
   ],
   "source": [
    "E = np.stack(D.get_attributes('embedding'))\n",
    "E.argsort(axis=1)"
   ]
  },
  {
   "cell_type": "markdown",
   "metadata": {},
   "source": [
    "#### _compute_dist Euclidean distance"
   ]
  },
  {
   "cell_type": "code",
   "execution_count": 8,
   "metadata": {
    "ExecuteTime": {
     "end_time": "2021-07-19T11:33:09.912902Z",
     "start_time": "2021-07-19T11:33:09.908742Z"
    }
   },
   "outputs": [
    {
     "data": {
      "text/plain": [
       "array([[0.1       , 1.00498756],\n",
       "       [0.1       , 1.00498756],\n",
       "       [0.2       , 1.56204994],\n",
       "       [0.2       , 1.28062485]])"
      ]
     },
     "execution_count": 8,
     "metadata": {},
     "output_type": "execute_result"
    }
   ],
   "source": [
    "X = np.stack(D.get_attributes('embedding'))\n",
    "Y = np.stack(D2.get_attributes('embedding'))\n",
    "\n",
    "dists = compute_distances(X, Y, 'euclidean')\n",
    "idx, dist = D._get_sorted_smallest_k(dists, 2)\n",
    "dist"
   ]
  },
  {
   "cell_type": "code",
   "execution_count": 9,
   "metadata": {
    "ExecuteTime": {
     "end_time": "2021-07-19T11:33:10.407180Z",
     "start_time": "2021-07-19T11:33:10.403471Z"
    }
   },
   "outputs": [
    {
     "data": {
      "text/plain": [
       "array([[0.1       , 1.00498756, 2.10713075],\n",
       "       [0.1       , 1.00498756, 1.8547237 ],\n",
       "       [0.2       , 1.56204994, 1.67630546],\n",
       "       [0.2       , 1.28062485, 2.93428015]])"
      ]
     },
     "execution_count": 9,
     "metadata": {},
     "output_type": "execute_result"
    }
   ],
   "source": [
    "idx, dist = D._get_sorted_smallest_k(dists,3)\n",
    "dist"
   ]
  },
  {
   "cell_type": "markdown",
   "metadata": {},
   "source": [
    "### Computing matches Euclidean similarity\n",
    "\n",
    "By default `D.match` uses a similarity metric.\n",
    "\n",
    "This means matched results are ordered from highest to lowest"
   ]
  },
  {
   "cell_type": "code",
   "execution_count": 10,
   "metadata": {
    "ExecuteTime": {
     "end_time": "2021-07-19T11:33:11.422105Z",
     "start_time": "2021-07-19T11:33:11.416077Z"
    }
   },
   "outputs": [],
   "source": [
    "D, D2 = get_document_arrays()\n",
    "D.match(D2, metric='euclidean', limit=3)"
   ]
  },
  {
   "cell_type": "code",
   "execution_count": 11,
   "metadata": {
    "ExecuteTime": {
     "end_time": "2021-07-19T11:33:12.454648Z",
     "start_time": "2021-07-19T11:33:12.450977Z"
    }
   },
   "outputs": [
    {
     "name": "stdout",
     "output_type": "stream",
     "text": [
      "query=[1 1 1 1 0]\n",
      "[1.  1.2 1.  1.  0. ] score = 0.8333333134651184\n",
      "[1.  2.2 2.  1.  0. ] score = 0.39031246304512024\n",
      "[1.  0.1 0.  0.  0. ] score = 0.3736494183540344\n"
     ]
    }
   ],
   "source": [
    "print(f'query={D[2].embedding}')\n",
    "for m in D[2].matches:\n",
    "    print(m.embedding, 'score =', m.scores['euclidean'].value)"
   ]
  },
  {
   "cell_type": "code",
   "execution_count": 12,
   "metadata": {
    "ExecuteTime": {
     "end_time": "2021-07-19T11:33:12.701967Z",
     "start_time": "2021-07-19T11:33:12.698273Z"
    }
   },
   "outputs": [
    {
     "name": "stdout",
     "output_type": "stream",
     "text": [
      "query=[1 0 0 0 0]\n",
      "[1.  0.1 0.  0.  0. ] score = 0.9090909361839294\n",
      "[0.  0.1 0.  0.  0. ] score = 0.49875620007514954\n",
      "[1.  1.2 1.  1.  0. ] score = 0.35029658675193787\n"
     ]
    }
   ],
   "source": [
    "print(f'query={D[1].embedding}')\n",
    "for m in D[1].matches:\n",
    "    print(m.embedding, 'score =', m.scores['euclidean'].value)"
   ]
  },
  {
   "cell_type": "markdown",
   "metadata": {},
   "source": [
    "### Computing matches Euclidean distance\n",
    "\n",
    "If we want to use a distance we need to specify **`is_distance=True`**.\n",
    "\n",
    "If we do so we should get results ordered from lowest to highest"
   ]
  },
  {
   "cell_type": "code",
   "execution_count": 13,
   "metadata": {
    "ExecuteTime": {
     "end_time": "2021-07-19T11:33:13.346376Z",
     "start_time": "2021-07-19T11:33:13.340099Z"
    },
    "slideshow": {
     "slide_type": "slide"
    }
   },
   "outputs": [],
   "source": [
    "D, D2 = get_document_arrays()\n",
    "D.match(D2, metric='euclidean', limit=3, is_distance=True)"
   ]
  },
  {
   "cell_type": "code",
   "execution_count": 14,
   "metadata": {
    "ExecuteTime": {
     "end_time": "2021-07-19T11:33:13.528103Z",
     "start_time": "2021-07-19T11:33:13.523608Z"
    }
   },
   "outputs": [
    {
     "name": "stdout",
     "output_type": "stream",
     "text": [
      "query=[1 1 1 1 0]\n",
      "[1.  1.2 1.  1.  0. ] distance = 0.20000000298023224\n",
      "[1.  2.2 2.  1.  0. ] distance = 1.5620499849319458\n",
      "[1.  0.1 0.  0.  0. ] distance = 1.6763054132461548\n"
     ]
    }
   ],
   "source": [
    "print(f'query={D[2].embedding}')\n",
    "for m in D[2].matches:\n",
    "    print(m.embedding, 'distance =', m.scores['euclidean'].value)"
   ]
  },
  {
   "cell_type": "markdown",
   "metadata": {},
   "source": [
    "### Computing matches Cosine similarity"
   ]
  },
  {
   "cell_type": "code",
   "execution_count": 15,
   "metadata": {
    "ExecuteTime": {
     "end_time": "2021-07-19T11:33:14.032973Z",
     "start_time": "2021-07-19T11:33:14.026416Z"
    }
   },
   "outputs": [
    {
     "name": "stderr",
     "output_type": "stream",
     "text": [
      "/Users/davidbuchaca1/Documents/git_stuff/jina/jina/types/arrays/neuraloperations.py:120: RuntimeWarning: invalid value encountered in true_divide\n",
      "  return 1 - np.dot(X, Y.T) / np.outer(\n"
     ]
    }
   ],
   "source": [
    "D, D2 = get_document_arrays()\n",
    "D.match(D2, metric='cosine', limit=3)"
   ]
  },
  {
   "cell_type": "code",
   "execution_count": 16,
   "metadata": {
    "ExecuteTime": {
     "end_time": "2021-07-19T11:33:14.243429Z",
     "start_time": "2021-07-19T11:33:14.239876Z"
    }
   },
   "outputs": [
    {
     "name": "stdout",
     "output_type": "stream",
     "text": [
      "query=[1 1 1 1 0]\n",
      "[1.  1.2 1.  1.  0. ] dist= 0.9966158866882324\n",
      "[1.  2.2 2.  1.  0. ] dist= 0.9415579438209534\n",
      "[4.  5.2 2.  1.  0. ] dist= 0.8800925612449646\n"
     ]
    }
   ],
   "source": [
    "print(f'query={D[2].embedding}')\n",
    "for m in D[2].matches:\n",
    "    print(m.embedding, 'dist=', m.scores['cosine'].value)"
   ]
  },
  {
   "cell_type": "code",
   "execution_count": 17,
   "metadata": {
    "ExecuteTime": {
     "end_time": "2021-07-19T11:33:14.842576Z",
     "start_time": "2021-07-19T11:33:14.839159Z"
    }
   },
   "outputs": [
    {
     "data": {
      "text/plain": [
       "True"
      ]
     },
     "execution_count": 17,
     "metadata": {},
     "output_type": "execute_result"
    }
   ],
   "source": [
    "scores = [m.scores['cosine'].value for m in D[2].matches]\n",
    "scores ==sorted(scores)[::-1]"
   ]
  },
  {
   "cell_type": "markdown",
   "metadata": {},
   "source": [
    "If we want cosine distance we need to specify `is_distance=True`"
   ]
  },
  {
   "cell_type": "code",
   "execution_count": 79,
   "metadata": {
    "ExecuteTime": {
     "end_time": "2021-07-19T11:43:30.609809Z",
     "start_time": "2021-07-19T11:43:30.603235Z"
    }
   },
   "outputs": [
    {
     "name": "stderr",
     "output_type": "stream",
     "text": [
      "/Users/davidbuchaca1/Documents/git_stuff/jina/jina/types/arrays/neuraloperations.py:120: RuntimeWarning: invalid value encountered in true_divide\n",
      "  return 1 - np.dot(X, Y.T) / np.outer(\n"
     ]
    }
   ],
   "source": [
    "D, D2 = get_document_arrays()\n",
    "D.match(D2, metric='cosine', limit=3, is_distance=True)"
   ]
  },
  {
   "cell_type": "code",
   "execution_count": 80,
   "metadata": {
    "ExecuteTime": {
     "end_time": "2021-07-19T11:43:31.308514Z",
     "start_time": "2021-07-19T11:43:31.304645Z"
    }
   },
   "outputs": [
    {
     "name": "stdout",
     "output_type": "stream",
     "text": [
      "query=[1 1 1 1 0]\n",
      "[1.  1.2 1.  1.  0. ] dist= 0.0033841044642031193\n",
      "[1.  2.2 2.  1.  0. ] dist= 0.05844205245375633\n",
      "[4.  5.2 2.  1.  0. ] dist= 0.11990746855735779\n"
     ]
    }
   ],
   "source": [
    "print(f'query={D[2].embedding}')\n",
    "for m in D[2].matches:\n",
    "    print(m.embedding, 'dist=', m.scores['cosine'].value)"
   ]
  },
  {
   "cell_type": "code",
   "execution_count": 81,
   "metadata": {
    "ExecuteTime": {
     "end_time": "2021-07-19T11:43:31.573924Z",
     "start_time": "2021-07-19T11:43:31.570934Z"
    }
   },
   "outputs": [
    {
     "data": {
      "text/plain": [
       "True"
      ]
     },
     "execution_count": 81,
     "metadata": {},
     "output_type": "execute_result"
    }
   ],
   "source": [
    "distances = [m.scores['cosine'].value for m in D[2].matches]\n",
    "distances ==sorted(distances)"
   ]
  },
  {
   "cell_type": "code",
   "execution_count": 82,
   "metadata": {
    "ExecuteTime": {
     "end_time": "2021-07-19T11:43:31.756060Z",
     "start_time": "2021-07-19T11:43:31.752364Z"
    }
   },
   "outputs": [
    {
     "data": {
      "text/plain": [
       "[nan,\n",
       " nan,\n",
       " nan,\n",
       " 0.0049628098495304585,\n",
       " 0.42289015650749207,\n",
       " 0.5254210233688354,\n",
       " 0.0033841044642031193,\n",
       " 0.05844205245375633,\n",
       " 0.11990746855735779,\n",
       " 0.0011076244991272688,\n",
       " 0.03951964154839516,\n",
       " 0.1148839220404625]"
      ]
     },
     "execution_count": 82,
     "metadata": {},
     "output_type": "execute_result"
    }
   ],
   "source": [
    "[m.scores['cosine'].value for d in D for m in d.matches]"
   ]
  },
  {
   "cell_type": "markdown",
   "metadata": {},
   "source": [
    "## Document Memmap"
   ]
  },
  {
   "cell_type": "code",
   "execution_count": 218,
   "metadata": {
    "ExecuteTime": {
     "end_time": "2021-07-19T13:19:36.263207Z",
     "start_time": "2021-07-19T13:19:36.261324Z"
    }
   },
   "outputs": [],
   "source": [
    "from jina.types.arrays.memmap import DocumentArrayMemmap"
   ]
  },
  {
   "cell_type": "markdown",
   "metadata": {},
   "source": [
    "##### test_docarraymemmap_match_docarray"
   ]
  },
  {
   "cell_type": "code",
   "execution_count": 225,
   "metadata": {
    "ExecuteTime": {
     "end_time": "2021-07-19T13:20:49.091339Z",
     "start_time": "2021-07-19T13:20:48.949516Z"
    }
   },
   "outputs": [
    {
     "name": "stdout",
     "output_type": "stream",
     "text": [
      "query=[1 1 1 1 0]\n",
      "[1.  1.2 1.  1.  0. ] distance = 0.20000000298023224\n",
      "[1.  2.2 2.  1.  0. ] distance = 1.5620499849319458\n",
      "[1.  0.1 0.  0.  0. ] distance = 1.6763054132461548\n"
     ]
    }
   ],
   "source": [
    "D1, D2 = get_document_arrays()\n",
    "D1.match(D2, metric='euclidean', limit=3, is_distance=True)\n",
    "values_docarray = [m.scores['euclidean'].value for d in D1 for m in d.matches]\n",
    "\n",
    "!rm -rf ./my-memmap\n",
    "\n",
    "from jina import Document\n",
    "\n",
    "D1memmap = DocumentArrayMemmap('./my-memmap')\n",
    "D1memmap.extend(D)\n",
    "D1memmap.match(D2, metric='euclidean', limit=3, is_distance=True)\n",
    "\n",
    "print(f'query={dam[2].embedding}')\n",
    "for m in D1memmap[2].matches:\n",
    "    print(m.embedding, 'distance =', m.scores['euclidean'].value)\n",
    "    \n",
    "values_docarraymemmap = [m.scores['euclidean'].value for d in D1memmap for m in d.matches]"
   ]
  },
  {
   "cell_type": "code",
   "execution_count": 226,
   "metadata": {
    "ExecuteTime": {
     "end_time": "2021-07-19T13:20:50.650175Z",
     "start_time": "2021-07-19T13:20:50.647562Z"
    }
   },
   "outputs": [
    {
     "data": {
      "text/plain": [
       "True"
      ]
     },
     "execution_count": 226,
     "metadata": {},
     "output_type": "execute_result"
    }
   ],
   "source": [
    "values_docarray == values_docarraymemmap"
   ]
  },
  {
   "cell_type": "markdown",
   "metadata": {
    "ExecuteTime": {
     "end_time": "2021-07-19T11:56:44.193642Z",
     "start_time": "2021-07-19T11:56:44.191985Z"
    }
   },
   "source": [
    "##### test_match_docarray_docarraymemmap"
   ]
  },
  {
   "cell_type": "code",
   "execution_count": 227,
   "metadata": {
    "ExecuteTime": {
     "end_time": "2021-07-19T13:20:56.758612Z",
     "start_time": "2021-07-19T13:20:56.621642Z"
    }
   },
   "outputs": [],
   "source": [
    "metric = 'euclidean'\n",
    "D1, D2 = get_document_arrays()\n",
    "D1.match(D2, metric=metric, limit=3, is_distance=True)\n",
    "values_docarray = [m.scores[metric].value for d in D1 for m in d.matches]\n",
    "\n",
    "!rm -rf ./my-memmap\n",
    "D1, D2 = get_document_arrays()\n",
    "D2memmap = DocumentArrayMemmap('./my-memmap')\n",
    "D2memmap.extend(D2)\n",
    "D1.match(D2memmap, metric=metric, limit=3, is_distance=True)\n",
    "values_docarraymemmap = [m.scores[metric].value for d in D1 for m in d.matches]"
   ]
  },
  {
   "cell_type": "code",
   "execution_count": 228,
   "metadata": {
    "ExecuteTime": {
     "end_time": "2021-07-19T13:20:56.916709Z",
     "start_time": "2021-07-19T13:20:56.913802Z"
    }
   },
   "outputs": [
    {
     "data": {
      "text/plain": [
       "True"
      ]
     },
     "execution_count": 228,
     "metadata": {},
     "output_type": "execute_result"
    }
   ],
   "source": [
    "values_docarraymemmap == values_docarraymemmap"
   ]
  },
  {
   "cell_type": "markdown",
   "metadata": {},
   "source": [
    "##### test_docarraymemmap_match_docarraymemmap"
   ]
  },
  {
   "cell_type": "code",
   "execution_count": 229,
   "metadata": {
    "ExecuteTime": {
     "end_time": "2021-07-19T13:20:58.923418Z",
     "start_time": "2021-07-19T13:20:58.589960Z"
    }
   },
   "outputs": [],
   "source": [
    "metric = 'euclidean'\n",
    "is_distance = 'False'\n",
    "D1, D2 = get_document_arrays()\n",
    "D1.match(D2, metric=metric, limit=3, is_distance=True)\n",
    "values_docarray = [m.scores[metric].value for d in D1 for m in d.matches]\n",
    "\n",
    "!rm -rf ./my-memmap1\n",
    "!rm -rf ./my-memmap2\n",
    "D1, D2 = get_document_arrays()\n",
    "D1memmap = DocumentArrayMemmap('./my-memmap1')\n",
    "D1memmap.extend(D1)\n",
    "D2memmap = DocumentArrayMemmap('./my-memmap2')\n",
    "D2memmap.extend(D2)\n",
    "D1memmap.match(D2memmap, metric=metric, limit=3, is_distance=is_distance)\n",
    "\n",
    "#values_docarraymemmap = [m.scores[metric].value for d in D1memmap for m in d.matches]\n"
   ]
  },
  {
   "cell_type": "code",
   "execution_count": 230,
   "metadata": {
    "ExecuteTime": {
     "end_time": "2021-07-19T13:20:59.614945Z",
     "start_time": "2021-07-19T13:20:59.591329Z"
    }
   },
   "outputs": [
    {
     "data": {
      "text/plain": [
       "[]"
      ]
     },
     "execution_count": 230,
     "metadata": {},
     "output_type": "execute_result"
    }
   ],
   "source": [
    "values_docarraymemmap = [m.scores[metric].value for d in D1memmap for m in d.matches]\n",
    "values_docarraymemmap"
   ]
  },
  {
   "cell_type": "code",
   "execution_count": 231,
   "metadata": {
    "ExecuteTime": {
     "end_time": "2021-07-19T13:20:59.845599Z",
     "start_time": "2021-07-19T13:20:59.839276Z"
    }
   },
   "outputs": [
    {
     "data": {
      "text/plain": [
       "<jina.types.arrays.match.MatchArray length=0 at 140270561565280>"
      ]
     },
     "execution_count": 231,
     "metadata": {},
     "output_type": "execute_result"
    }
   ],
   "source": [
    "D1memmap[0].matches"
   ]
  },
  {
   "cell_type": "code",
   "execution_count": 232,
   "metadata": {
    "ExecuteTime": {
     "end_time": "2021-07-19T13:21:00.786337Z",
     "start_time": "2021-07-19T13:21:00.783599Z"
    }
   },
   "outputs": [
    {
     "data": {
      "text/plain": [
       "[0.10000000149011612,\n",
       " 1.0049875974655151,\n",
       " 2.107130765914917,\n",
       " 0.10000000149011612,\n",
       " 1.0049875974655151,\n",
       " 1.8547236919403076,\n",
       " 0.20000000298023224,\n",
       " 1.5620499849319458,\n",
       " 1.6763054132461548,\n",
       " 0.20000000298023224,\n",
       " 1.2806248664855957,\n",
       " 2.9342801570892334]"
      ]
     },
     "execution_count": 232,
     "metadata": {},
     "output_type": "execute_result"
    }
   ],
   "source": [
    "values_docarray"
   ]
  },
  {
   "cell_type": "code",
   "execution_count": null,
   "metadata": {},
   "outputs": [],
   "source": []
  }
 ],
 "metadata": {
  "kernelspec": {
   "display_name": "Python 3",
   "language": "python",
   "name": "python3"
  },
  "language_info": {
   "codemirror_mode": {
    "name": "ipython",
    "version": 3
   },
   "file_extension": ".py",
   "mimetype": "text/x-python",
   "name": "python",
   "nbconvert_exporter": "python",
   "pygments_lexer": "ipython3",
   "version": "3.8.5"
  },
  "toc": {
   "base_numbering": 1,
   "nav_menu": {},
   "number_sections": true,
   "sideBar": true,
   "skip_h1_title": false,
   "title_cell": "Table of Contents",
   "title_sidebar": "Contents",
   "toc_cell": true,
   "toc_position": {},
   "toc_section_display": true,
   "toc_window_display": true
  },
  "varInspector": {
   "cols": {
    "lenName": 16,
    "lenType": 16,
    "lenVar": 40
   },
   "kernels_config": {
    "python": {
     "delete_cmd_postfix": "",
     "delete_cmd_prefix": "del ",
     "library": "var_list.py",
     "varRefreshCmd": "print(var_dic_list())"
    },
    "r": {
     "delete_cmd_postfix": ") ",
     "delete_cmd_prefix": "rm(",
     "library": "var_list.r",
     "varRefreshCmd": "cat(var_dic_list()) "
    }
   },
   "types_to_exclude": [
    "module",
    "function",
    "builtin_function_or_method",
    "instance",
    "_Feature"
   ],
   "window_display": false
  }
 },
 "nbformat": 4,
 "nbformat_minor": 5
}
