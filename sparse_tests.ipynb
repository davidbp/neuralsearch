{
 "cells": [
  {
   "cell_type": "markdown",
   "metadata": {
    "toc": true
   },
   "source": [
    "<h1>Table of Contents<span class=\"tocSkip\"></span></h1>\n",
    "\n",
    "<div class=\"toc\"><ul class=\"toc-item\"><li><span><a href=\"#Jina-SparseNdArray\" data-toc-modified-id=\"Jina-SparseNdArray-1\"><span class=\"toc-item-num\">1&nbsp;&nbsp;</span>Jina <code>SparseNdArray</code></a></span></li><li><span><a href=\"#Allow-document.embedding--with-sparse-data\" data-toc-modified-id=\"Allow-document.embedding--with-sparse-data-2\"><span class=\"toc-item-num\">2&nbsp;&nbsp;</span>Allow <code>document.embedding</code>  with sparse data</a></span><ul class=\"toc-item\"><li><ul class=\"toc-item\"><li><span><a href=\"#test--{'coo',-'bsr',-'csc',-'csr'}\" data-toc-modified-id=\"test--{'coo',-'bsr',-'csc',-'csr'}-2.0.1\"><span class=\"toc-item-num\">2.0.1&nbsp;&nbsp;</span>test  {'coo', 'bsr', 'csc', 'csr'}</a></span></li><li><span><a href=\"#Set-and-get-embeddings-from-scipy.sparse.coo_matrix\" data-toc-modified-id=\"Set-and-get-embeddings-from-scipy.sparse.coo_matrix-2.0.2\"><span class=\"toc-item-num\">2.0.2&nbsp;&nbsp;</span>Set and get embeddings from scipy.sparse.coo_matrix</a></span></li><li><span><a href=\"#Set-and-get-embeddings-from-scipy.sparse.bsr_matrix\" data-toc-modified-id=\"Set-and-get-embeddings-from-scipy.sparse.bsr_matrix-2.0.3\"><span class=\"toc-item-num\">2.0.3&nbsp;&nbsp;</span>Set and get embeddings from scipy.sparse.bsr_matrix</a></span></li><li><span><a href=\"#Set-and-get-embeddings-from-scipy.sparse.csr_matrix\" data-toc-modified-id=\"Set-and-get-embeddings-from-scipy.sparse.csr_matrix-2.0.4\"><span class=\"toc-item-num\">2.0.4&nbsp;&nbsp;</span>Set and get embeddings from scipy.sparse.csr_matrix</a></span></li><li><span><a href=\"#Set-and-get-embeddings-from-scipy.sparse.csc_matrix\" data-toc-modified-id=\"Set-and-get-embeddings-from-scipy.sparse.csc_matrix-2.0.5\"><span class=\"toc-item-num\">2.0.5&nbsp;&nbsp;</span>Set and get embeddings from scipy.sparse.csc_matrix</a></span></li></ul></li></ul></li><li><span><a href=\"#Allow-document.blob-with--sparse--data\" data-toc-modified-id=\"Allow-document.blob-with--sparse--data-3\"><span class=\"toc-item-num\">3&nbsp;&nbsp;</span>Allow <code>document.blob</code> with  sparse  data</a></span><ul class=\"toc-item\"><li><span><a href=\"#Tensorflow-sparse-tests\" data-toc-modified-id=\"Tensorflow-sparse-tests-3.1\"><span class=\"toc-item-num\">3.1&nbsp;&nbsp;</span>Tensorflow sparse tests</a></span></li></ul></li><li><span><a href=\"#pytorch-sparse-arrays\" data-toc-modified-id=\"pytorch-sparse-arrays-4\"><span class=\"toc-item-num\">4&nbsp;&nbsp;</span>pytorch sparse arrays</a></span><ul class=\"toc-item\"><li><span><a href=\"#Current-pytorch-test\" data-toc-modified-id=\"Current-pytorch-test-4.1\"><span class=\"toc-item-num\">4.1&nbsp;&nbsp;</span>Current pytorch test</a></span></li><li><span><a href=\"#IMPORANT:\" data-toc-modified-id=\"IMPORANT:-4.2\"><span class=\"toc-item-num\">4.2&nbsp;&nbsp;</span>IMPORANT:</a></span></li></ul></li></ul></div>"
   ]
  },
  {
   "cell_type": "code",
   "execution_count": 23,
   "metadata": {},
   "outputs": [
    {
     "data": {
      "text/plain": [
       "array([1, 3])"
      ]
     },
     "execution_count": 23,
     "metadata": {},
     "output_type": "execute_result"
    }
   ],
   "source": [
    "import numpy as np\n",
    "a = np.array([True, False,True])\n",
    "v = np.array([1,2,3])\n",
    "v[a]"
   ]
  },
  {
   "cell_type": "code",
   "execution_count": 30,
   "metadata": {},
   "outputs": [],
   "source": [
    "#np.where(a,v)"
   ]
  },
  {
   "cell_type": "code",
   "execution_count": 178,
   "metadata": {},
   "outputs": [
    {
     "data": {
      "text/plain": [
       "(array([0, 1, 2]),)"
      ]
     },
     "execution_count": 178,
     "metadata": {},
     "output_type": "execute_result"
    }
   ],
   "source": [
    "np.where(v<5)"
   ]
  },
  {
   "cell_type": "code",
   "execution_count": null,
   "metadata": {},
   "outputs": [],
   "source": []
  },
  {
   "cell_type": "markdown",
   "metadata": {},
   "source": [
    "### indexing time"
   ]
  },
  {
   "cell_type": "code",
   "execution_count": 240,
   "metadata": {},
   "outputs": [],
   "source": [
    "sizes = np.linspace(1000,100_000, 10)"
   ]
  },
  {
   "cell_type": "code",
   "execution_count": 278,
   "metadata": {},
   "outputs": [
    {
     "name": "stdout",
     "output_type": "stream",
     "text": [
      "Number elements = 1000\n",
      "boolean flag:\n",
      "16.6 µs ± 278 ns per loop (mean ± std. dev. of 7 runs, 100000 loops each)\n",
      "vector of indices:\n",
      "12.5 µs ± 296 ns per loop (mean ± std. dev. of 7 runs, 100000 loops each)\n",
      "Number elements = 12000\n",
      "boolean flag:\n",
      "339 µs ± 23.5 µs per loop (mean ± std. dev. of 7 runs, 1000 loops each)\n",
      "vector of indices:\n",
      "271 µs ± 18.1 µs per loop (mean ± std. dev. of 7 runs, 1000 loops each)\n",
      "Number elements = 23000\n",
      "boolean flag:\n",
      "794 µs ± 22.4 µs per loop (mean ± std. dev. of 7 runs, 1000 loops each)\n",
      "vector of indices:\n",
      "768 µs ± 58 µs per loop (mean ± std. dev. of 7 runs, 1000 loops each)\n",
      "Number elements = 34000\n",
      "boolean flag:\n",
      "2.27 ms ± 138 µs per loop (mean ± std. dev. of 7 runs, 100 loops each)\n",
      "vector of indices:\n",
      "2.14 ms ± 39.4 µs per loop (mean ± std. dev. of 7 runs, 100 loops each)\n",
      "Number elements = 45000\n",
      "boolean flag:\n",
      "2.87 ms ± 53 µs per loop (mean ± std. dev. of 7 runs, 100 loops each)\n",
      "vector of indices:\n",
      "3.23 ms ± 85.1 µs per loop (mean ± std. dev. of 7 runs, 100 loops each)\n",
      "Number elements = 56000\n",
      "boolean flag:\n",
      "4.4 ms ± 84 µs per loop (mean ± std. dev. of 7 runs, 100 loops each)\n",
      "vector of indices:\n",
      "4.26 ms ± 180 µs per loop (mean ± std. dev. of 7 runs, 100 loops each)\n",
      "Number elements = 67000\n",
      "boolean flag:\n",
      "5 ms ± 114 µs per loop (mean ± std. dev. of 7 runs, 100 loops each)\n",
      "vector of indices:\n",
      "5.22 ms ± 243 µs per loop (mean ± std. dev. of 7 runs, 100 loops each)\n",
      "Number elements = 78000\n",
      "boolean flag:\n",
      "5.56 ms ± 174 µs per loop (mean ± std. dev. of 7 runs, 100 loops each)\n",
      "vector of indices:\n",
      "5.51 ms ± 124 µs per loop (mean ± std. dev. of 7 runs, 100 loops each)\n",
      "Number elements = 89000\n",
      "boolean flag:\n",
      "6.08 ms ± 159 µs per loop (mean ± std. dev. of 7 runs, 100 loops each)\n",
      "vector of indices:\n",
      "6.8 ms ± 477 µs per loop (mean ± std. dev. of 7 runs, 100 loops each)\n",
      "Number elements = 100000\n",
      "boolean flag:\n",
      "7.09 ms ± 124 µs per loop (mean ± std. dev. of 7 runs, 100 loops each)\n",
      "vector of indices:\n",
      "7.92 ms ± 368 µs per loop (mean ± std. dev. of 7 runs, 100 loops each)\n"
     ]
    }
   ],
   "source": [
    "flags_times = []\n",
    "indices_times = []\n",
    "for s in sizes:\n",
    "    s = int(s)\n",
    "    x = np.random.rand(s, 100)\n",
    "    print(f'Number elements = {s}')\n",
    "    indices = np.random.choice(len(x), size= s//4, replace=False)\n",
    "    \n",
    "    # slicing using vector of booleans\n",
    "    flag = np.zeros(len(x), dtype=bool)\n",
    "    flag[indices]=True\n",
    "    \n",
    "    print('boolean flag:')\n",
    "    t_flag = %timeit -o x[flag,:]\n",
    "\n",
    "    # slicing using directly the coordinates\n",
    "    print('vector of indices:')\n",
    "    t_indices = %timeit -o x[indices,:]\n",
    "    \n",
    "    flags_times.append(t_flag.average)\n",
    "    indices_times.append(t_indices.average)"
   ]
  },
  {
   "cell_type": "code",
   "execution_count": 279,
   "metadata": {},
   "outputs": [
    {
     "data": {
      "text/plain": [
       "<AxesSubplot:title={'center':'slicing with vector of booleans vs vector of indices'}, xlabel='Number of elements in the array', ylabel='time (ms)'>"
      ]
     },
     "execution_count": 279,
     "metadata": {},
     "output_type": "execute_result"
    },
    {
     "data": {
      "image/png": "[encoded data removed]",
      "text/plain": [
       "<Figure size 432x288 with 1 Axes>"
      ]
     },
     "metadata": {
      "needs_background": "light"
     },
     "output_type": "display_data"
    }
   ],
   "source": [
    "import pandas as pd\n",
    "df = pd.DataFrame({'boolean flag': flags_times,\n",
    "                   'vector of indices': indices_times})\n",
    "\n",
    "df.index =sizes\n",
    "df = df*10**6\n",
    "df.plot(title='slicing with vector of booleans vs vector of indices', \n",
    "        xlabel='Number of elements in the array',\n",
    "        ylabel='time (ms)')\n"
   ]
  },
  {
   "cell_type": "code",
   "execution_count": null,
   "metadata": {},
   "outputs": [],
   "source": []
  },
  {
   "cell_type": "code",
   "execution_count": null,
   "metadata": {},
   "outputs": [],
   "source": []
  },
  {
   "cell_type": "code",
   "execution_count": 92,
   "metadata": {},
   "outputs": [],
   "source": [
    "indices = [0,2,25]"
   ]
  },
  {
   "cell_type": "code",
   "execution_count": 93,
   "metadata": {},
   "outputs": [
    {
     "name": "stdout",
     "output_type": "stream",
     "text": [
      "1.08 µs ± 67.7 ns per loop (mean ± std. dev. of 7 runs, 1000000 loops each)\n"
     ]
    }
   ],
   "source": [
    "%timeit x[indices]"
   ]
  },
  {
   "cell_type": "code",
   "execution_count": 94,
   "metadata": {},
   "outputs": [],
   "source": [
    "flag = np.zeros(len(x), dtype=bool)\n",
    "flag[0] = True\n",
    "flag[2] = True\n",
    "flag[25] = True"
   ]
  },
  {
   "cell_type": "code",
   "execution_count": 95,
   "metadata": {},
   "outputs": [
    {
     "name": "stdout",
     "output_type": "stream",
     "text": [
      "3.1 µs ± 230 ns per loop (mean ± std. dev. of 7 runs, 100000 loops each)\n"
     ]
    }
   ],
   "source": [
    "%timeit x[flag]"
   ]
  },
  {
   "cell_type": "markdown",
   "metadata": {},
   "source": [
    "Selecting halve of the examples"
   ]
  },
  {
   "cell_type": "code",
   "execution_count": 155,
   "metadata": {},
   "outputs": [
    {
     "data": {
      "text/plain": [
       "array([7527, 2781, 2596, ..., 5507, 2130,  908])"
      ]
     },
     "execution_count": 155,
     "metadata": {},
     "output_type": "execute_result"
    }
   ],
   "source": [
    "indices = np.random.choice(len(x), size=5000, replace=False)\n",
    "indices"
   ]
  },
  {
   "cell_type": "code",
   "execution_count": 156,
   "metadata": {},
   "outputs": [],
   "source": [
    "flag = np.zeros(len(x), dtype=bool)\n",
    "flag[indices]=True"
   ]
  },
  {
   "cell_type": "code",
   "execution_count": 157,
   "metadata": {},
   "outputs": [
    {
     "data": {
      "text/plain": [
       "5000"
      ]
     },
     "execution_count": 157,
     "metadata": {},
     "output_type": "execute_result"
    }
   ],
   "source": [
    "flag.sum()"
   ]
  },
  {
   "cell_type": "code",
   "execution_count": 158,
   "metadata": {},
   "outputs": [
    {
     "name": "stdout",
     "output_type": "stream",
     "text": [
      "6.95 µs ± 226 ns per loop (mean ± std. dev. of 7 runs, 100000 loops each)\n"
     ]
    }
   ],
   "source": [
    "# using an array containing the indices\n",
    "%timeit x[indices]"
   ]
  },
  {
   "cell_type": "code",
   "execution_count": 159,
   "metadata": {},
   "outputs": [
    {
     "name": "stdout",
     "output_type": "stream",
     "text": [
      "34.7 µs ± 2.89 µs per loop (mean ± std. dev. of 7 runs, 10000 loops each)\n"
     ]
    }
   ],
   "source": [
    "# using an array of booleans\n",
    "%timeit x[flag]"
   ]
  },
  {
   "cell_type": "code",
   "execution_count": 176,
   "metadata": {},
   "outputs": [
    {
     "data": {
      "text/plain": [
       "1.0"
      ]
     },
     "execution_count": 176,
     "metadata": {},
     "output_type": "execute_result"
    }
   ],
   "source": [
    "np.mean(x[indices] == x[indices])"
   ]
  },
  {
   "cell_type": "code",
   "execution_count": 173,
   "metadata": {},
   "outputs": [],
   "source": [
    "flag = np.zeros(len(x),dtype=bool)"
   ]
  },
  {
   "cell_type": "code",
   "execution_count": 172,
   "metadata": {},
   "outputs": [
    {
     "data": {
      "text/plain": [
       "array([], dtype=float64)"
      ]
     },
     "execution_count": 172,
     "metadata": {},
     "output_type": "execute_result"
    }
   ],
   "source": [
    "x[flag]"
   ]
  },
  {
   "cell_type": "code",
   "execution_count": 167,
   "metadata": {},
   "outputs": [
    {
     "data": {
      "text/plain": [
       "array([False, False,  True, ..., False,  True, False])"
      ]
     },
     "execution_count": 167,
     "metadata": {},
     "output_type": "execute_result"
    }
   ],
   "source": [
    "np.random.choice(a=[False, True], size=len(x))"
   ]
  },
  {
   "cell_type": "code",
   "execution_count": null,
   "metadata": {},
   "outputs": [],
   "source": []
  },
  {
   "cell_type": "code",
   "execution_count": null,
   "metadata": {},
   "outputs": [],
   "source": []
  },
  {
   "cell_type": "code",
   "execution_count": null,
   "metadata": {},
   "outputs": [],
   "source": []
  },
  {
   "cell_type": "code",
   "execution_count": 1,
   "metadata": {},
   "outputs": [],
   "source": [
    "import scipy\n",
    "from scipy import sparse"
   ]
  },
  {
   "cell_type": "code",
   "execution_count": 20,
   "metadata": {},
   "outputs": [
    {
     "name": "stderr",
     "output_type": "stream",
     "text": [
      "ERROR:root:Internal Python error in the inspect module.\n",
      "Below is the traceback from this internal error.\n",
      "\n"
     ]
    },
    {
     "name": "stdout",
     "output_type": "stream",
     "text": [
      "Traceback (most recent call last):\n",
      "  File \"/usr/local/lib/python3.9/site-packages/IPython/core/interactiveshell.py\", line 3437, in run_code\n",
      "    exec(code_obj, self.user_global_ns, self.user_ns)\n",
      "  File \"<ipython-input-20-4fd3070b34a6>\", line 1, in <module>\n",
      "    X_sp = scipy.sparse.rand(m=400_000,n=500, density=0.0001)\n",
      "  File \"/usr/local/lib/python3.9/site-packages/scipy/sparse/construct.py\", line 860, in rand\n",
      "    return random(m, n, density, format, dtype, random_state)\n",
      "  File \"/usr/local/lib/python3.9/site-packages/scipy/sparse/construct.py\", line 806, in random\n",
      "    ind = random_state.choice(mn, size=k, replace=False)\n",
      "KeyboardInterrupt\n",
      "\n",
      "During handling of the above exception, another exception occurred:\n",
      "\n",
      "Traceback (most recent call last):\n",
      "  File \"/usr/local/lib/python3.9/site-packages/IPython/core/interactiveshell.py\", line 2061, in showtraceback\n",
      "    stb = value._render_traceback_()\n",
      "AttributeError: 'KeyboardInterrupt' object has no attribute '_render_traceback_'\n",
      "\n",
      "During handling of the above exception, another exception occurred:\n",
      "\n",
      "Traceback (most recent call last):\n",
      "  File \"/usr/local/lib/python3.9/site-packages/IPython/core/ultratb.py\", line 1101, in get_records\n",
      "    return _fixed_getinnerframes(etb, number_of_lines_of_context, tb_offset)\n",
      "  File \"/usr/local/lib/python3.9/site-packages/IPython/core/ultratb.py\", line 248, in wrapped\n",
      "    return f(*args, **kwargs)\n",
      "  File \"/usr/local/lib/python3.9/site-packages/IPython/core/ultratb.py\", line 281, in _fixed_getinnerframes\n",
      "    records = fix_frame_records_filenames(inspect.getinnerframes(etb, context))\n",
      "  File \"/usr/local/Cellar/python@3.9/3.9.2_4/Frameworks/Python.framework/Versions/3.9/lib/python3.9/inspect.py\", line 1541, in getinnerframes\n",
      "    frameinfo = (tb.tb_frame,) + getframeinfo(tb, context)\n",
      "  File \"/usr/local/Cellar/python@3.9/3.9.2_4/Frameworks/Python.framework/Versions/3.9/lib/python3.9/inspect.py\", line 1499, in getframeinfo\n",
      "    filename = getsourcefile(frame) or getfile(frame)\n",
      "  File \"/usr/local/Cellar/python@3.9/3.9.2_4/Frameworks/Python.framework/Versions/3.9/lib/python3.9/inspect.py\", line 709, in getsourcefile\n",
      "    if getattr(getmodule(object, filename), '__loader__', None) is not None:\n",
      "  File \"/usr/local/Cellar/python@3.9/3.9.2_4/Frameworks/Python.framework/Versions/3.9/lib/python3.9/inspect.py\", line 755, in getmodule\n",
      "    os.path.realpath(f)] = module.__name__\n",
      "  File \"/usr/local/Cellar/python@3.9/3.9.2_4/Frameworks/Python.framework/Versions/3.9/lib/python3.9/posixpath.py\", line 391, in realpath\n",
      "    path, ok = _joinrealpath(filename[:0], filename, {})\n",
      "  File \"/usr/local/Cellar/python@3.9/3.9.2_4/Frameworks/Python.framework/Versions/3.9/lib/python3.9/posixpath.py\", line 424, in _joinrealpath\n",
      "    newpath = join(path, name)\n",
      "  File \"/usr/local/Cellar/python@3.9/3.9.2_4/Frameworks/Python.framework/Versions/3.9/lib/python3.9/posixpath.py\", line 82, in join\n",
      "    for b in map(os.fspath, p):\n",
      "KeyboardInterrupt\n"
     ]
    },
    {
     "ename": "TypeError",
     "evalue": "object of type 'NoneType' has no len()",
     "output_type": "error",
     "traceback": [
      "\u001b[0;31m---------------------------------------------------------------------------\u001b[0m",
      "\u001b[0;31mKeyboardInterrupt\u001b[0m                         Traceback (most recent call last)",
      "    \u001b[0;31m[... skipping hidden 1 frame]\u001b[0m\n",
      "\u001b[0;32m<ipython-input-20-4fd3070b34a6>\u001b[0m in \u001b[0;36m<module>\u001b[0;34m\u001b[0m\n\u001b[0;32m----> 1\u001b[0;31m \u001b[0mX_sp\u001b[0m \u001b[0;34m=\u001b[0m \u001b[0mscipy\u001b[0m\u001b[0;34m.\u001b[0m\u001b[0msparse\u001b[0m\u001b[0;34m.\u001b[0m\u001b[0mrand\u001b[0m\u001b[0;34m(\u001b[0m\u001b[0mm\u001b[0m\u001b[0;34m=\u001b[0m\u001b[0;36m400_000\u001b[0m\u001b[0;34m,\u001b[0m\u001b[0mn\u001b[0m\u001b[0;34m=\u001b[0m\u001b[0;36m500\u001b[0m\u001b[0;34m,\u001b[0m \u001b[0mdensity\u001b[0m\u001b[0;34m=\u001b[0m\u001b[0;36m0.0001\u001b[0m\u001b[0;34m)\u001b[0m\u001b[0;34m\u001b[0m\u001b[0;34m\u001b[0m\u001b[0m\n\u001b[0m",
      "\u001b[0;32m/usr/local/lib/python3.9/site-packages/scipy/sparse/construct.py\u001b[0m in \u001b[0;36mrand\u001b[0;34m(m, n, density, format, dtype, random_state)\u001b[0m\n\u001b[1;32m    859\u001b[0m     \"\"\"\n\u001b[0;32m--> 860\u001b[0;31m     \u001b[0;32mreturn\u001b[0m \u001b[0mrandom\u001b[0m\u001b[0;34m(\u001b[0m\u001b[0mm\u001b[0m\u001b[0;34m,\u001b[0m \u001b[0mn\u001b[0m\u001b[0;34m,\u001b[0m \u001b[0mdensity\u001b[0m\u001b[0;34m,\u001b[0m \u001b[0mformat\u001b[0m\u001b[0;34m,\u001b[0m \u001b[0mdtype\u001b[0m\u001b[0;34m,\u001b[0m \u001b[0mrandom_state\u001b[0m\u001b[0;34m)\u001b[0m\u001b[0;34m\u001b[0m\u001b[0;34m\u001b[0m\u001b[0m\n\u001b[0m",
      "\u001b[0;32m/usr/local/lib/python3.9/site-packages/scipy/sparse/construct.py\u001b[0m in \u001b[0;36mrandom\u001b[0;34m(m, n, density, format, dtype, random_state, data_rvs)\u001b[0m\n\u001b[1;32m    805\u001b[0m \u001b[0;34m\u001b[0m\u001b[0m\n\u001b[0;32m--> 806\u001b[0;31m     \u001b[0mind\u001b[0m \u001b[0;34m=\u001b[0m \u001b[0mrandom_state\u001b[0m\u001b[0;34m.\u001b[0m\u001b[0mchoice\u001b[0m\u001b[0;34m(\u001b[0m\u001b[0mmn\u001b[0m\u001b[0;34m,\u001b[0m \u001b[0msize\u001b[0m\u001b[0;34m=\u001b[0m\u001b[0mk\u001b[0m\u001b[0;34m,\u001b[0m \u001b[0mreplace\u001b[0m\u001b[0;34m=\u001b[0m\u001b[0;32mFalse\u001b[0m\u001b[0;34m)\u001b[0m\u001b[0;34m\u001b[0m\u001b[0;34m\u001b[0m\u001b[0m\n\u001b[0m\u001b[1;32m    807\u001b[0m \u001b[0;34m\u001b[0m\u001b[0m\n",
      "\u001b[0;31mKeyboardInterrupt\u001b[0m: ",
      "\nDuring handling of the above exception, another exception occurred:\n",
      "\u001b[0;31mAttributeError\u001b[0m                            Traceback (most recent call last)",
      "\u001b[0;32m/usr/local/lib/python3.9/site-packages/IPython/core/interactiveshell.py\u001b[0m in \u001b[0;36mshowtraceback\u001b[0;34m(self, exc_tuple, filename, tb_offset, exception_only, running_compiled_code)\u001b[0m\n\u001b[1;32m   2060\u001b[0m                         \u001b[0;31m# in the engines. This should return a list of strings.\u001b[0m\u001b[0;34m\u001b[0m\u001b[0;34m\u001b[0m\u001b[0;34m\u001b[0m\u001b[0m\n\u001b[0;32m-> 2061\u001b[0;31m                         \u001b[0mstb\u001b[0m \u001b[0;34m=\u001b[0m \u001b[0mvalue\u001b[0m\u001b[0;34m.\u001b[0m\u001b[0m_render_traceback_\u001b[0m\u001b[0;34m(\u001b[0m\u001b[0;34m)\u001b[0m\u001b[0;34m\u001b[0m\u001b[0;34m\u001b[0m\u001b[0m\n\u001b[0m\u001b[1;32m   2062\u001b[0m                     \u001b[0;32mexcept\u001b[0m \u001b[0mException\u001b[0m\u001b[0;34m:\u001b[0m\u001b[0;34m\u001b[0m\u001b[0;34m\u001b[0m\u001b[0m\n",
      "\u001b[0;31mAttributeError\u001b[0m: 'KeyboardInterrupt' object has no attribute '_render_traceback_'",
      "\nDuring handling of the above exception, another exception occurred:\n",
      "\u001b[0;31mTypeError\u001b[0m                                 Traceback (most recent call last)",
      "    \u001b[0;31m[... skipping hidden 1 frame]\u001b[0m\n",
      "\u001b[0;32m/usr/local/lib/python3.9/site-packages/IPython/core/interactiveshell.py\u001b[0m in \u001b[0;36mshowtraceback\u001b[0;34m(self, exc_tuple, filename, tb_offset, exception_only, running_compiled_code)\u001b[0m\n\u001b[1;32m   2061\u001b[0m                         \u001b[0mstb\u001b[0m \u001b[0;34m=\u001b[0m \u001b[0mvalue\u001b[0m\u001b[0;34m.\u001b[0m\u001b[0m_render_traceback_\u001b[0m\u001b[0;34m(\u001b[0m\u001b[0;34m)\u001b[0m\u001b[0;34m\u001b[0m\u001b[0;34m\u001b[0m\u001b[0m\n\u001b[1;32m   2062\u001b[0m                     \u001b[0;32mexcept\u001b[0m \u001b[0mException\u001b[0m\u001b[0;34m:\u001b[0m\u001b[0;34m\u001b[0m\u001b[0;34m\u001b[0m\u001b[0m\n\u001b[0;32m-> 2063\u001b[0;31m                         stb = self.InteractiveTB.structured_traceback(etype,\n\u001b[0m\u001b[1;32m   2064\u001b[0m                                             value, tb, tb_offset=tb_offset)\n\u001b[1;32m   2065\u001b[0m \u001b[0;34m\u001b[0m\u001b[0m\n",
      "\u001b[0;32m/usr/local/lib/python3.9/site-packages/IPython/core/ultratb.py\u001b[0m in \u001b[0;36mstructured_traceback\u001b[0;34m(self, etype, value, tb, tb_offset, number_of_lines_of_context)\u001b[0m\n\u001b[1;32m   1365\u001b[0m         \u001b[0;32melse\u001b[0m\u001b[0;34m:\u001b[0m\u001b[0;34m\u001b[0m\u001b[0;34m\u001b[0m\u001b[0m\n\u001b[1;32m   1366\u001b[0m             \u001b[0mself\u001b[0m\u001b[0;34m.\u001b[0m\u001b[0mtb\u001b[0m \u001b[0;34m=\u001b[0m \u001b[0mtb\u001b[0m\u001b[0;34m\u001b[0m\u001b[0;34m\u001b[0m\u001b[0m\n\u001b[0;32m-> 1367\u001b[0;31m         return FormattedTB.structured_traceback(\n\u001b[0m\u001b[1;32m   1368\u001b[0m             self, etype, value, tb, tb_offset, number_of_lines_of_context)\n\u001b[1;32m   1369\u001b[0m \u001b[0;34m\u001b[0m\u001b[0m\n",
      "\u001b[0;32m/usr/local/lib/python3.9/site-packages/IPython/core/ultratb.py\u001b[0m in \u001b[0;36mstructured_traceback\u001b[0;34m(self, etype, value, tb, tb_offset, number_of_lines_of_context)\u001b[0m\n\u001b[1;32m   1265\u001b[0m         \u001b[0;32mif\u001b[0m \u001b[0mmode\u001b[0m \u001b[0;32min\u001b[0m \u001b[0mself\u001b[0m\u001b[0;34m.\u001b[0m\u001b[0mverbose_modes\u001b[0m\u001b[0;34m:\u001b[0m\u001b[0;34m\u001b[0m\u001b[0;34m\u001b[0m\u001b[0m\n\u001b[1;32m   1266\u001b[0m             \u001b[0;31m# Verbose modes need a full traceback\u001b[0m\u001b[0;34m\u001b[0m\u001b[0;34m\u001b[0m\u001b[0;34m\u001b[0m\u001b[0m\n\u001b[0;32m-> 1267\u001b[0;31m             return VerboseTB.structured_traceback(\n\u001b[0m\u001b[1;32m   1268\u001b[0m                 \u001b[0mself\u001b[0m\u001b[0;34m,\u001b[0m \u001b[0metype\u001b[0m\u001b[0;34m,\u001b[0m \u001b[0mvalue\u001b[0m\u001b[0;34m,\u001b[0m \u001b[0mtb\u001b[0m\u001b[0;34m,\u001b[0m \u001b[0mtb_offset\u001b[0m\u001b[0;34m,\u001b[0m \u001b[0mnumber_of_lines_of_context\u001b[0m\u001b[0;34m\u001b[0m\u001b[0;34m\u001b[0m\u001b[0m\n\u001b[1;32m   1269\u001b[0m             )\n",
      "\u001b[0;32m/usr/local/lib/python3.9/site-packages/IPython/core/ultratb.py\u001b[0m in \u001b[0;36mstructured_traceback\u001b[0;34m(self, etype, evalue, etb, tb_offset, number_of_lines_of_context)\u001b[0m\n\u001b[1;32m   1122\u001b[0m         \u001b[0;34m\"\"\"Return a nice text document describing the traceback.\"\"\"\u001b[0m\u001b[0;34m\u001b[0m\u001b[0;34m\u001b[0m\u001b[0m\n\u001b[1;32m   1123\u001b[0m \u001b[0;34m\u001b[0m\u001b[0m\n\u001b[0;32m-> 1124\u001b[0;31m         formatted_exception = self.format_exception_as_a_whole(etype, evalue, etb, number_of_lines_of_context,\n\u001b[0m\u001b[1;32m   1125\u001b[0m                                                                tb_offset)\n\u001b[1;32m   1126\u001b[0m \u001b[0;34m\u001b[0m\u001b[0m\n",
      "\u001b[0;32m/usr/local/lib/python3.9/site-packages/IPython/core/ultratb.py\u001b[0m in \u001b[0;36mformat_exception_as_a_whole\u001b[0;34m(self, etype, evalue, etb, number_of_lines_of_context, tb_offset)\u001b[0m\n\u001b[1;32m   1080\u001b[0m \u001b[0;34m\u001b[0m\u001b[0m\n\u001b[1;32m   1081\u001b[0m \u001b[0;34m\u001b[0m\u001b[0m\n\u001b[0;32m-> 1082\u001b[0;31m         \u001b[0mlast_unique\u001b[0m\u001b[0;34m,\u001b[0m \u001b[0mrecursion_repeat\u001b[0m \u001b[0;34m=\u001b[0m \u001b[0mfind_recursion\u001b[0m\u001b[0;34m(\u001b[0m\u001b[0morig_etype\u001b[0m\u001b[0;34m,\u001b[0m \u001b[0mevalue\u001b[0m\u001b[0;34m,\u001b[0m \u001b[0mrecords\u001b[0m\u001b[0;34m)\u001b[0m\u001b[0;34m\u001b[0m\u001b[0;34m\u001b[0m\u001b[0m\n\u001b[0m\u001b[1;32m   1083\u001b[0m \u001b[0;34m\u001b[0m\u001b[0m\n\u001b[1;32m   1084\u001b[0m         \u001b[0mframes\u001b[0m \u001b[0;34m=\u001b[0m \u001b[0mself\u001b[0m\u001b[0;34m.\u001b[0m\u001b[0mformat_records\u001b[0m\u001b[0;34m(\u001b[0m\u001b[0mrecords\u001b[0m\u001b[0;34m,\u001b[0m \u001b[0mlast_unique\u001b[0m\u001b[0;34m,\u001b[0m \u001b[0mrecursion_repeat\u001b[0m\u001b[0;34m)\u001b[0m\u001b[0;34m\u001b[0m\u001b[0;34m\u001b[0m\u001b[0m\n",
      "\u001b[0;32m/usr/local/lib/python3.9/site-packages/IPython/core/ultratb.py\u001b[0m in \u001b[0;36mfind_recursion\u001b[0;34m(etype, value, records)\u001b[0m\n\u001b[1;32m    380\u001b[0m     \u001b[0;31m# first frame (from in to out) that looks different.\u001b[0m\u001b[0;34m\u001b[0m\u001b[0;34m\u001b[0m\u001b[0;34m\u001b[0m\u001b[0m\n\u001b[1;32m    381\u001b[0m     \u001b[0;32mif\u001b[0m \u001b[0;32mnot\u001b[0m \u001b[0mis_recursion_error\u001b[0m\u001b[0;34m(\u001b[0m\u001b[0metype\u001b[0m\u001b[0;34m,\u001b[0m \u001b[0mvalue\u001b[0m\u001b[0;34m,\u001b[0m \u001b[0mrecords\u001b[0m\u001b[0;34m)\u001b[0m\u001b[0;34m:\u001b[0m\u001b[0;34m\u001b[0m\u001b[0;34m\u001b[0m\u001b[0m\n\u001b[0;32m--> 382\u001b[0;31m         \u001b[0;32mreturn\u001b[0m \u001b[0mlen\u001b[0m\u001b[0;34m(\u001b[0m\u001b[0mrecords\u001b[0m\u001b[0;34m)\u001b[0m\u001b[0;34m,\u001b[0m \u001b[0;36m0\u001b[0m\u001b[0;34m\u001b[0m\u001b[0;34m\u001b[0m\u001b[0m\n\u001b[0m\u001b[1;32m    383\u001b[0m \u001b[0;34m\u001b[0m\u001b[0m\n\u001b[1;32m    384\u001b[0m     \u001b[0;31m# Select filename, lineno, func_name to track frames with\u001b[0m\u001b[0;34m\u001b[0m\u001b[0;34m\u001b[0m\u001b[0;34m\u001b[0m\u001b[0m\n",
      "\u001b[0;31mTypeError\u001b[0m: object of type 'NoneType' has no len()"
     ]
    }
   ],
   "source": [
    "X_sp = scipy.sparse.rand(m=200_000,n=500, density=0.0001)"
   ]
  },
  {
   "cell_type": "code",
   "execution_count": 12,
   "metadata": {},
   "outputs": [],
   "source": [
    "import pickle"
   ]
  },
  {
   "cell_type": "code",
   "execution_count": 13,
   "metadata": {},
   "outputs": [],
   "source": [
    "with open('X_sp.pkl', 'wb') as f:\n",
    "    pickle.dump(obj=X_sp, file=f)"
   ]
  },
  {
   "cell_type": "code",
   "execution_count": 14,
   "metadata": {},
   "outputs": [
    {
     "name": "stdout",
     "output_type": "stream",
     "text": [
      "\u001b[34mPySparNN\u001b[m\u001b[m/           README.md           X_sp.pkl            sparse_tests.ipynb\r\n",
      "\u001b[34mPysparnnIndexer\u001b[m\u001b[m/    Untitled.ipynb      X_sp_npz.npz        \u001b[34mtfidf_true_sparse\u001b[m\u001b[m/\r\n"
     ]
    }
   ],
   "source": [
    "ls"
   ]
  },
  {
   "cell_type": "code",
   "execution_count": 15,
   "metadata": {},
   "outputs": [],
   "source": [
    "with open('X_sp.pkl', 'rb') as f:\n",
    "    X_sp_loaded=pickle.load(f)"
   ]
  },
  {
   "cell_type": "code",
   "execution_count": 16,
   "metadata": {},
   "outputs": [
    {
     "data": {
      "text/plain": [
       "<100000x500 sparse matrix of type '<class 'numpy.float64'>'\n",
       "\twith 5000 stored elements in COOrdinate format>"
      ]
     },
     "execution_count": 16,
     "metadata": {},
     "output_type": "execute_result"
    }
   ],
   "source": [
    "X_sp_loaded"
   ]
  },
  {
   "cell_type": "code",
   "execution_count": 17,
   "metadata": {},
   "outputs": [
    {
     "name": "stdout",
     "output_type": "stream",
     "text": [
      "160\tX_sp.pkl\r\n"
     ]
    }
   ],
   "source": [
    "!du X_sp.pkl"
   ]
  },
  {
   "cell_type": "code",
   "execution_count": 18,
   "metadata": {},
   "outputs": [],
   "source": [
    "scipy.sparse.save_npz('X_sp_npz', X_sp)"
   ]
  },
  {
   "cell_type": "code",
   "execution_count": 19,
   "metadata": {},
   "outputs": [
    {
     "name": "stdout",
     "output_type": "stream",
     "text": [
      "120\tX_sp_npz.npz\r\n"
     ]
    }
   ],
   "source": [
    "!du X_sp_npz.npz"
   ]
  },
  {
   "cell_type": "markdown",
   "metadata": {},
   "source": [
    "## Jina `SparseNdArray`"
   ]
  },
  {
   "cell_type": "code",
   "execution_count": null,
   "metadata": {
    "ExecuteTime": {
     "end_time": "2021-03-23T08:49:04.480329Z",
     "start_time": "2021-03-23T08:49:04.436431Z"
    }
   },
   "outputs": [],
   "source": [
    "%load_ext autoreload\n",
    "%autoreload 2\n",
    "import jina\n",
    "from jina import Document\n",
    "import scipy\n",
    "from scipy import sparse\n",
    "import scipy.sparse as sp\n",
    "import numpy as np"
   ]
  },
  {
   "cell_type": "code",
   "execution_count": null,
   "metadata": {
    "ExecuteTime": {
     "end_time": "2021-03-23T08:49:05.278760Z",
     "start_time": "2021-03-23T08:49:05.220004Z"
    }
   },
   "outputs": [],
   "source": [
    "from jina.types.ndarray.sparse.tensorflow import SparseNdArray\n",
    "SparseNdArray"
   ]
  },
  {
   "cell_type": "code",
   "execution_count": null,
   "metadata": {
    "ExecuteTime": {
     "end_time": "2021-03-23T08:49:05.548917Z",
     "start_time": "2021-03-23T08:49:05.503011Z"
    }
   },
   "outputs": [],
   "source": [
    "from jina.types.ndarray.sparse.scipy import SparseNdArray\n",
    "SparseNdArray"
   ]
  },
  {
   "cell_type": "markdown",
   "metadata": {},
   "source": [
    "## Allow `document.embedding`  with sparse data"
   ]
  },
  {
   "cell_type": "code",
   "execution_count": null,
   "metadata": {
    "ExecuteTime": {
     "end_time": "2021-03-23T08:49:10.217596Z",
     "start_time": "2021-03-23T08:49:10.170665Z"
    }
   },
   "outputs": [],
   "source": [
    "d = Document()\n",
    "d.embedding = np.array([23,4])\n",
    "d.embedding"
   ]
  },
  {
   "cell_type": "code",
   "execution_count": null,
   "metadata": {
    "ExecuteTime": {
     "end_time": "2021-03-23T08:49:10.823588Z",
     "start_time": "2021-03-23T08:49:10.780801Z"
    }
   },
   "outputs": [],
   "source": [
    "row  = np.array([0, 0, 1, 3, 1, 0, 0])\n",
    "col  = np.array([0, 2, 1, 3, 1, 0, 0])\n",
    "data = np.array([1, 1, 1, 1, 1, 1, 1])\n",
    "\n",
    "X = sp.coo_matrix( (data,(row,col)), shape=(10,8))"
   ]
  },
  {
   "cell_type": "code",
   "execution_count": null,
   "metadata": {
    "ExecuteTime": {
     "end_time": "2021-03-23T08:49:11.430505Z",
     "start_time": "2021-03-23T08:49:11.385563Z"
    }
   },
   "outputs": [],
   "source": [
    "d = Document()\n",
    "d.embedding = X"
   ]
  },
  {
   "cell_type": "code",
   "execution_count": null,
   "metadata": {
    "ExecuteTime": {
     "end_time": "2021-03-23T08:49:12.576479Z",
     "start_time": "2021-03-23T08:49:12.534321Z"
    }
   },
   "outputs": [],
   "source": [
    "scipy.sparse.issparse(X), type(X)"
   ]
  },
  {
   "cell_type": "markdown",
   "metadata": {},
   "source": [
    "#### test  {'coo', 'bsr', 'csc', 'csr'}"
   ]
  },
  {
   "cell_type": "markdown",
   "metadata": {},
   "source": [
    "#### Set and get embeddings from scipy.sparse.coo_matrix\n",
    "\n"
   ]
  },
  {
   "cell_type": "code",
   "execution_count": null,
   "metadata": {
    "ExecuteTime": {
     "end_time": "2021-03-19T11:09:17.024121Z",
     "start_time": "2021-03-19T11:09:17.006349Z"
    }
   },
   "outputs": [],
   "source": [
    "row  = np.array([0, 0, 1, 3, 1, 0, 0])\n",
    "col  = np.array([0, 2, 1, 3, 1, 0, 0])\n",
    "data = np.array([1, 1, 1, 1, 1, 1, 1])\n",
    "\n",
    "X = sp.coo_matrix( (data,(row,col)), shape=(4,10))\n",
    "\n",
    "d = Document()\n",
    "d.embedding = X\n",
    "\n",
    "isinstance(d.embedding, scipy.sparse.coo_matrix)"
   ]
  },
  {
   "cell_type": "code",
   "execution_count": null,
   "metadata": {
    "ExecuteTime": {
     "end_time": "2021-03-19T11:09:17.483565Z",
     "start_time": "2021-03-19T11:09:17.467211Z"
    }
   },
   "outputs": [],
   "source": [
    "np.testing.assert_array_equal(d.embedding.todense(), X.todense())"
   ]
  },
  {
   "cell_type": "markdown",
   "metadata": {
    "ExecuteTime": {
     "end_time": "2021-03-18T10:23:22.010214Z",
     "start_time": "2021-03-18T10:23:21.989355Z"
    }
   },
   "source": [
    "#### Set and get embeddings from scipy.sparse.bsr_matrix\n",
    "\n"
   ]
  },
  {
   "cell_type": "code",
   "execution_count": null,
   "metadata": {
    "ExecuteTime": {
     "end_time": "2021-03-19T11:09:17.890948Z",
     "start_time": "2021-03-19T11:09:17.873757Z"
    }
   },
   "outputs": [],
   "source": [
    "row = np.array([0, 0, 1, 2, 2, 2])\n",
    "col = np.array([0, 2, 2, 0, 1, 2])\n",
    "data = np.array([1, 2, 3 ,4, 5, 6])\n",
    "\n",
    "X = sp.bsr_matrix((data, (row, col)), shape=(3,10))\n",
    "\n",
    "d = Document()\n",
    "d.embedding = X\n",
    "\n",
    "# this is false because sparse_parser in scipy.SparseNdArray\n",
    "# casts the data as v = value.tocoo()\n",
    "isinstance(d.embedding, scipy.sparse.bsr_matrix)\n",
    "assert X.shape == d.embedding.shape"
   ]
  },
  {
   "cell_type": "code",
   "execution_count": null,
   "metadata": {
    "ExecuteTime": {
     "end_time": "2021-03-19T11:09:18.090865Z",
     "start_time": "2021-03-19T11:09:18.074823Z"
    }
   },
   "outputs": [],
   "source": [
    "X.tocoo()"
   ]
  },
  {
   "cell_type": "code",
   "execution_count": null,
   "metadata": {
    "ExecuteTime": {
     "end_time": "2021-03-19T11:09:18.296011Z",
     "start_time": "2021-03-19T11:09:18.280039Z"
    }
   },
   "outputs": [],
   "source": [
    "np.testing.assert_array_equal(d.embedding.todense(), X.todense())"
   ]
  },
  {
   "cell_type": "markdown",
   "metadata": {},
   "source": [
    "#### Set and get embeddings from scipy.sparse.csr_matrix\n",
    "\n"
   ]
  },
  {
   "cell_type": "code",
   "execution_count": null,
   "metadata": {
    "ExecuteTime": {
     "end_time": "2021-03-19T11:09:18.725187Z",
     "start_time": "2021-03-19T11:09:18.706977Z"
    }
   },
   "outputs": [],
   "source": [
    "row = np.array([0, 0, 1, 2, 2, 2])\n",
    "col = np.array([0, 2, 2, 0, 1, 2])\n",
    "data = np.array([1, 2, 3 ,4, 5, 6])\n",
    "\n",
    "X = sp.csr_matrix((data, (row, col)), shape=(3,10))\n",
    "\n",
    "d = Document()\n",
    "d.embedding = X\n",
    "\n",
    "# this is false because sparse_parser in scipy.SparseNdArray\n",
    "# casts the data as v = value.tocoo()\n",
    "print(isinstance(d.embedding, scipy.sparse.csr_matrix))\n",
    "X.shape == d.embedding.shape"
   ]
  },
  {
   "cell_type": "code",
   "execution_count": null,
   "metadata": {
    "ExecuteTime": {
     "end_time": "2021-03-19T11:09:18.891007Z",
     "start_time": "2021-03-19T11:09:18.874095Z"
    }
   },
   "outputs": [],
   "source": [
    "np.testing.assert_array_equal(d.embedding.todense(), X.todense())"
   ]
  },
  {
   "cell_type": "markdown",
   "metadata": {
    "ExecuteTime": {
     "end_time": "2021-03-18T10:30:59.603294Z",
     "start_time": "2021-03-18T10:30:59.586811Z"
    }
   },
   "source": [
    "#### Set and get embeddings from scipy.sparse.csc_matrix\n",
    "\n"
   ]
  },
  {
   "cell_type": "code",
   "execution_count": null,
   "metadata": {
    "ExecuteTime": {
     "end_time": "2021-03-19T11:09:52.881896Z",
     "start_time": "2021-03-19T11:09:52.862342Z"
    }
   },
   "outputs": [],
   "source": [
    "row = np.array([0, 0, 1, 2, 2, 2])\n",
    "col = np.array([0, 2, 2, 0, 1, 2])\n",
    "data = np.array([1, 2, 3 ,4, 5, 6])\n",
    "\n",
    "X = sp.csc_matrix((data, (row, col)), shape=(3,10))\n",
    "\n",
    "d = Document()\n",
    "d.embedding = X\n",
    "\n",
    "d.blob = X *2\n",
    "\n",
    "# this is false because sparse_parser in scipy.SparseNdArray\n",
    "# casts the data as v = value.tocoo()\n",
    "isinstance(d.embedding, scipy.sparse.csr_matrix)\n",
    "X.shape == d.embedding.shape"
   ]
  },
  {
   "cell_type": "code",
   "execution_count": null,
   "metadata": {
    "ExecuteTime": {
     "end_time": "2021-03-19T11:10:02.709740Z",
     "start_time": "2021-03-19T11:10:02.694278Z"
    }
   },
   "outputs": [],
   "source": [
    "np.testing.assert_array_equal(d.embedding.todense(), X.todense())"
   ]
  },
  {
   "cell_type": "code",
   "execution_count": null,
   "metadata": {
    "ExecuteTime": {
     "end_time": "2021-03-19T11:10:13.511104Z",
     "start_time": "2021-03-19T11:10:13.494982Z"
    }
   },
   "outputs": [],
   "source": [
    "np.testing.assert_array_equal(d.blob.todense(), 2*X.todense())"
   ]
  },
  {
   "cell_type": "markdown",
   "metadata": {},
   "source": [
    "## Allow `document.blob` with  sparse  data"
   ]
  },
  {
   "cell_type": "code",
   "execution_count": null,
   "metadata": {
    "ExecuteTime": {
     "end_time": "2021-03-19T16:47:12.412069Z",
     "start_time": "2021-03-19T16:47:12.369624Z"
    }
   },
   "outputs": [],
   "source": [
    "import numpy as np"
   ]
  },
  {
   "cell_type": "code",
   "execution_count": null,
   "metadata": {
    "ExecuteTime": {
     "end_time": "2021-03-19T16:47:56.076974Z",
     "start_time": "2021-03-19T16:47:56.032043Z"
    }
   },
   "outputs": [],
   "source": [
    "row  = np.array([0, 0, 1, 3, 1, 0, 0])\n",
    "col  = np.array([0, 2, 1, 3, 1, 0, 0])\n",
    "data = np.array([1, 1, 1, 1, 1, 1, 1])\n",
    "\n",
    "X = sp.coo_matrix( (data,(row,col)), shape=(4,10))\n",
    "\n",
    "d = Document()\n",
    "d.blob = X\n",
    "d.embedding = X\n",
    "isinstance(d.embedding, scipy.sparse.coo_matrix)\n",
    "np.testing.assert_array_equal(d.blob.todense(), X.todense())\n",
    "\n",
    "np.testing.assert_array_equal(d.blob.todense(), X.todense())\n",
    "np.testing.assert_array_equal(d.embedding.todense(), X.todense())"
   ]
  },
  {
   "cell_type": "code",
   "execution_count": null,
   "metadata": {
    "ExecuteTime": {
     "end_time": "2021-03-19T16:47:30.277483Z",
     "start_time": "2021-03-19T16:47:30.234948Z"
    }
   },
   "outputs": [],
   "source": [
    "row  = np.array([0, 0, 1, 3, 1, 0, 0])\n",
    "col  = np.array([0, 2, 1, 3, 1, 0, 0])\n",
    "data = np.array([1, 1, 1, 1, 1, 1, 1])\n",
    "\n",
    "X = sp.bsr_matrix( (data,(row,col)), shape=(4,10))\n",
    "\n",
    "d = Document()\n",
    "d.blob = X\n",
    "isinstance(d.blob, scipy.sparse.coo_matrix)\n",
    "np.testing.assert_array_equal(d.blob.todense(), X.todense())"
   ]
  },
  {
   "cell_type": "code",
   "execution_count": null,
   "metadata": {
    "ExecuteTime": {
     "end_time": "2021-03-23T12:14:08.635168Z",
     "start_time": "2021-03-23T12:14:00.502013Z"
    }
   },
   "outputs": [],
   "source": [
    "row  = np.array([0, 0, 1, 3, 1, 0, 0])\n",
    "col  = np.array([0, 2, 1, 3, 1, 0, 0])\n",
    "data = np.array([1, 1, 1, 1, 1, 1, 1])\n",
    "\n",
    "X = sp.csc_matrix( (data,(row,col)), shape=(4,10))\n",
    "\n",
    "d = Document()\n",
    "d.blob = X\n",
    "isinstance(d.blob, scipy.sparse.coo_matrix)\n",
    "np.testing.assert_array_equal(d.blob.todense(), X.todense())"
   ]
  },
  {
   "cell_type": "code",
   "execution_count": null,
   "metadata": {},
   "outputs": [],
   "source": []
  },
  {
   "cell_type": "code",
   "execution_count": null,
   "metadata": {
    "ExecuteTime": {
     "end_time": "2021-03-19T11:09:21.691881Z",
     "start_time": "2021-03-19T11:09:21.674868Z"
    }
   },
   "outputs": [],
   "source": [
    "row  = np.array([0, 0, 1, 3, 1, 0, 0])\n",
    "col  = np.array([0, 2, 1, 3, 1, 0, 0])\n",
    "data = np.array([1, 1, 1, 1, 1, 1, 1])\n",
    "\n",
    "X = sp.csr_matrix( (data,(row,col)), shape=(4,10))\n",
    "\n",
    "d = Document()\n",
    "d.blob = X\n",
    "isinstance(d.blob, scipy.sparse.coo_matrix)\n",
    "np.testing.assert_array_equal(d.blob.todense(), X.todense())"
   ]
  },
  {
   "cell_type": "code",
   "execution_count": null,
   "metadata": {
    "ExecuteTime": {
     "end_time": "2021-03-19T11:09:21.873155Z",
     "start_time": "2021-03-19T11:09:21.857154Z"
    }
   },
   "outputs": [],
   "source": [
    "d.content"
   ]
  },
  {
   "cell_type": "code",
   "execution_count": null,
   "metadata": {
    "ExecuteTime": {
     "end_time": "2021-03-19T11:09:22.073154Z",
     "start_time": "2021-03-19T11:09:22.057315Z"
    }
   },
   "outputs": [],
   "source": [
    "d.blob"
   ]
  },
  {
   "cell_type": "code",
   "execution_count": null,
   "metadata": {},
   "outputs": [],
   "source": []
  },
  {
   "cell_type": "code",
   "execution_count": null,
   "metadata": {
    "ExecuteTime": {
     "end_time": "2021-03-18T10:07:45.944496Z",
     "start_time": "2021-03-18T10:07:45.925953Z"
    }
   },
   "outputs": [],
   "source": [
    "d.embedding"
   ]
  },
  {
   "cell_type": "code",
   "execution_count": null,
   "metadata": {
    "ExecuteTime": {
     "end_time": "2021-03-18T10:08:55.321013Z",
     "start_time": "2021-03-18T10:08:55.302522Z"
    }
   },
   "outputs": [],
   "source": [
    "d.__dict__"
   ]
  },
  {
   "cell_type": "code",
   "execution_count": null,
   "metadata": {
    "ExecuteTime": {
     "end_time": "2021-03-18T10:10:34.910491Z",
     "start_time": "2021-03-18T10:10:34.892090Z"
    },
    "scrolled": true
   },
   "outputs": [],
   "source": [
    "d._pb_body.embedding.sparse.dense_shape"
   ]
  },
  {
   "cell_type": "code",
   "execution_count": null,
   "metadata": {
    "ExecuteTime": {
     "end_time": "2021-03-18T10:01:40.663280Z",
     "start_time": "2021-03-18T10:01:40.605088Z"
    }
   },
   "outputs": [],
   "source": [
    "d.embedd"
   ]
  },
  {
   "cell_type": "code",
   "execution_count": null,
   "metadata": {
    "ExecuteTime": {
     "end_time": "2021-03-18T10:03:13.085238Z",
     "start_time": "2021-03-18T10:03:13.066833Z"
    }
   },
   "outputs": [],
   "source": [
    "d.blob = X"
   ]
  },
  {
   "cell_type": "code",
   "execution_count": null,
   "metadata": {
    "ExecuteTime": {
     "end_time": "2021-03-18T10:03:14.826760Z",
     "start_time": "2021-03-18T10:03:14.807445Z"
    }
   },
   "outputs": [],
   "source": [
    "d.blob"
   ]
  },
  {
   "cell_type": "markdown",
   "metadata": {},
   "source": [
    "### Tensorflow sparse tests"
   ]
  },
  {
   "cell_type": "code",
   "execution_count": null,
   "metadata": {
    "ExecuteTime": {
     "end_time": "2021-03-23T08:49:39.380562Z",
     "start_time": "2021-03-23T08:49:39.331734Z"
    }
   },
   "outputs": [],
   "source": [
    "import tensorflow as tf"
   ]
  },
  {
   "cell_type": "code",
   "execution_count": null,
   "metadata": {
    "ExecuteTime": {
     "end_time": "2021-03-23T08:49:42.471120Z",
     "start_time": "2021-03-23T08:49:42.426003Z"
    }
   },
   "outputs": [],
   "source": [
    "row = np.array([0, 0, 1, 2, 2, 2])\n",
    "col = np.array([0, 2, 2, 0, 1, 2])\n",
    "data = np.array([1, 2, 3, 4, 5, 6])\n",
    "\n",
    "indices=[(x,y) for x,y in zip(row,col)]\n",
    "X = tf.SparseTensor(indices=indices,\n",
    "                        values=data,\n",
    "                        dense_shape=[4, 10])\n",
    "\n",
    "print(X.indices.numpy())\n",
    "print('\\n', X.values.numpy())\n",
    "print('\\n', tf.sparse.to_dense(X).numpy())"
   ]
  },
  {
   "cell_type": "code",
   "execution_count": null,
   "metadata": {
    "ExecuteTime": {
     "end_time": "2021-03-23T12:14:43.793349Z",
     "start_time": "2021-03-23T12:14:39.575544Z"
    },
    "scrolled": true
   },
   "outputs": [],
   "source": [
    "import tensorflow as tf\n",
    "\n",
    "row = np.array([0, 0, 1, 2, 2, 2])\n",
    "col = np.array([0, 2, 2, 0, 1, 2])\n",
    "data = np.array([1, 2, 3, 4, 5, 6])\n",
    "shape = [4, 10]\n",
    "\n",
    "indices=[(x,y) for x,y in zip(row,col)]\n",
    "X = tf.SparseTensor(indices=indices,\n",
    "                    values=data,\n",
    "                    dense_shape=shape)\n",
    "\n",
    "d = Document()\n",
    "d.embedding =  X\n",
    "print(d.embedding)\n",
    "#d.embedding\n",
    "#d.blob =  X\n",
    "#print('isinstance(d.embedding, sp.coo_matrix):', isinstance(d.embedding, sp.coo_matrix))\n",
    "#print('isinstance(d.embedding, tf.SparseTensor):', isinstance(d.embedding, tf.SparseTensor))"
   ]
  },
  {
   "cell_type": "code",
   "execution_count": null,
   "metadata": {
    "ExecuteTime": {
     "end_time": "2021-03-23T11:53:36.520415Z",
     "start_time": "2021-03-23T11:53:36.471069Z"
    }
   },
   "outputs": [],
   "source": [
    "d.__dict__"
   ]
  },
  {
   "cell_type": "markdown",
   "metadata": {},
   "source": [
    "## pytorch sparse arrays"
   ]
  },
  {
   "cell_type": "code",
   "execution_count": null,
   "metadata": {
    "ExecuteTime": {
     "end_time": "2021-03-23T09:27:33.963130Z",
     "start_time": "2021-03-23T09:27:33.921165Z"
    }
   },
   "outputs": [],
   "source": [
    "import torch\n",
    "from torch.sparse import FloatTensor"
   ]
  },
  {
   "cell_type": "code",
   "execution_count": null,
   "metadata": {
    "ExecuteTime": {
     "end_time": "2021-03-23T09:27:34.220337Z",
     "start_time": "2021-03-23T09:27:34.175347Z"
    },
    "scrolled": true
   },
   "outputs": [],
   "source": [
    "i = [[0, 1, 1],[2, 0, 2]]\n",
    "v =  [[3, 4], [5, 6], [7, 8]]\n",
    "s = torch.sparse_coo_tensor(i, v, (2, 3, 2))\n",
    "s"
   ]
  },
  {
   "cell_type": "code",
   "execution_count": null,
   "metadata": {
    "ExecuteTime": {
     "end_time": "2021-03-23T13:20:51.516182Z",
     "start_time": "2021-03-23T13:20:51.387041Z"
    },
    "scrolled": true
   },
   "outputs": [],
   "source": [
    "import torch\n",
    "import jina\n",
    "from jina import Document\n",
    "\n",
    "row = [0, 0, 1, 2, 2, 2]\n",
    "col = [0, 2, 2, 0, 1, 2]\n",
    "data = [1, 2, 3, 4, 5, 6]\n",
    "shape = [4, 10]\n",
    "indices= [list(row), list(col)]\n",
    "\n",
    "X = torch.sparse_coo_tensor(indices, data, shape)\n",
    "#X.to_dense()\n",
    "d = Document()\n",
    "d.embedding = X\n",
    "#d.blob = X\n",
    "#d.embedding == None\n",
    "#print(d.embedding)"
   ]
  },
  {
   "cell_type": "code",
   "execution_count": null,
   "metadata": {
    "ExecuteTime": {
     "end_time": "2021-03-23T13:57:17.506360Z",
     "start_time": "2021-03-23T13:57:17.348557Z"
    }
   },
   "outputs": [],
   "source": [
    "#d.embedding "
   ]
  },
  {
   "cell_type": "code",
   "execution_count": null,
   "metadata": {
    "ExecuteTime": {
     "end_time": "2021-03-23T14:19:45.597291Z",
     "start_time": "2021-03-23T14:19:45.533631Z"
    }
   },
   "outputs": [],
   "source": [
    "jina.__version__"
   ]
  },
  {
   "cell_type": "code",
   "execution_count": null,
   "metadata": {},
   "outputs": [],
   "source": []
  },
  {
   "cell_type": "code",
   "execution_count": null,
   "metadata": {
    "ExecuteTime": {
     "end_time": "2021-03-23T11:47:08.283967Z",
     "start_time": "2021-03-23T11:47:08.241845Z"
    }
   },
   "outputs": [],
   "source": [
    "d.embedding"
   ]
  },
  {
   "cell_type": "code",
   "execution_count": null,
   "metadata": {
    "ExecuteTime": {
     "end_time": "2021-03-23T11:43:39.702449Z",
     "start_time": "2021-03-23T11:43:39.657749Z"
    }
   },
   "outputs": [],
   "source": [
    "d.blob"
   ]
  },
  {
   "cell_type": "code",
   "execution_count": null,
   "metadata": {
    "ExecuteTime": {
     "end_time": "2021-03-23T11:40:44.478030Z",
     "start_time": "2021-03-23T11:40:44.432018Z"
    }
   },
   "outputs": [],
   "source": [
    "type(d.embedding)"
   ]
  },
  {
   "cell_type": "code",
   "execution_count": null,
   "metadata": {},
   "outputs": [],
   "source": []
  },
  {
   "cell_type": "code",
   "execution_count": null,
   "metadata": {
    "ExecuteTime": {
     "end_time": "2021-03-23T11:14:49.886279Z",
     "start_time": "2021-03-23T11:14:49.845097Z"
    }
   },
   "outputs": [],
   "source": [
    "# there is no embedding saved\n",
    "d.embedding ==None"
   ]
  },
  {
   "cell_type": "markdown",
   "metadata": {},
   "source": [
    "Nevertheless, if we use the tests..."
   ]
  },
  {
   "cell_type": "code",
   "execution_count": null,
   "metadata": {
    "ExecuteTime": {
     "end_time": "2021-03-22T14:22:15.559113Z",
     "start_time": "2021-03-22T14:22:15.434836Z"
    }
   },
   "outputs": [],
   "source": [
    "idx_shape = ([[0, 1, 2]], [3])\n",
    "transpose=False\n",
    "i = torch.LongTensor(idx_shape[0])\n",
    "v = torch.FloatTensor([3, 4, 5])\n",
    "X2 = torch.sparse.FloatTensor(i.t() if transpose else i, v, torch.Size(idx_shape[1]))\n",
    "X2\n",
    "\n",
    "d = Document()\n",
    "d.embedding = X2\n",
    "d.blob = X2"
   ]
  },
  {
   "cell_type": "code",
   "execution_count": null,
   "metadata": {
    "ExecuteTime": {
     "end_time": "2021-03-22T14:32:47.647462Z",
     "start_time": "2021-03-22T14:32:47.451523Z"
    }
   },
   "outputs": [],
   "source": [
    "d.embedding"
   ]
  },
  {
   "cell_type": "code",
   "execution_count": null,
   "metadata": {
    "ExecuteTime": {
     "end_time": "2021-03-22T14:22:28.738225Z",
     "start_time": "2021-03-22T14:22:28.699245Z"
    }
   },
   "outputs": [],
   "source": [
    "d.__dict__"
   ]
  },
  {
   "cell_type": "code",
   "execution_count": null,
   "metadata": {},
   "outputs": [],
   "source": []
  },
  {
   "cell_type": "code",
   "execution_count": null,
   "metadata": {},
   "outputs": [],
   "source": []
  },
  {
   "cell_type": "code",
   "execution_count": null,
   "metadata": {
    "ExecuteTime": {
     "end_time": "2021-03-22T14:10:05.535237Z",
     "start_time": "2021-03-22T14:10:05.496798Z"
    }
   },
   "outputs": [],
   "source": [
    "aux = torch.sparse_coo_tensor(\n",
    "            indices=indices,\n",
    "            values=data,\n",
    "            size=shape)"
   ]
  },
  {
   "cell_type": "code",
   "execution_count": null,
   "metadata": {
    "ExecuteTime": {
     "end_time": "2021-03-22T14:10:11.992234Z",
     "start_time": "2021-03-22T14:10:11.952631Z"
    }
   },
   "outputs": [],
   "source": [
    "type(aux)"
   ]
  },
  {
   "cell_type": "code",
   "execution_count": null,
   "metadata": {
    "ExecuteTime": {
     "end_time": "2021-03-22T13:35:08.760683Z",
     "start_time": "2021-03-22T13:35:08.720977Z"
    }
   },
   "outputs": [],
   "source": [
    "?X"
   ]
  },
  {
   "cell_type": "code",
   "execution_count": null,
   "metadata": {
    "ExecuteTime": {
     "end_time": "2021-03-22T14:10:29.082007Z",
     "start_time": "2021-03-22T14:10:29.042634Z"
    }
   },
   "outputs": [],
   "source": [
    "b = SparseNdArray()\n",
    "#b.value = a\n",
    "#np.testing.assert_equal(b.value.to_dense().numpy(), a.to_dense().numpy())\n",
    "b.blob = X\n",
    "b.embedding = X\n",
    "type(b)"
   ]
  },
  {
   "cell_type": "code",
   "execution_count": null,
   "metadata": {
    "ExecuteTime": {
     "end_time": "2021-03-22T14:10:31.489418Z",
     "start_time": "2021-03-22T14:10:31.450014Z"
    }
   },
   "outputs": [],
   "source": [
    "b.embedding"
   ]
  },
  {
   "cell_type": "code",
   "execution_count": null,
   "metadata": {
    "ExecuteTime": {
     "end_time": "2021-03-22T14:10:34.560995Z",
     "start_time": "2021-03-22T14:10:34.521454Z"
    }
   },
   "outputs": [],
   "source": [
    "b.blob"
   ]
  },
  {
   "cell_type": "code",
   "execution_count": null,
   "metadata": {
    "ExecuteTime": {
     "end_time": "2021-03-22T14:11:32.278202Z",
     "start_time": "2021-03-22T14:11:32.236599Z"
    }
   },
   "outputs": [],
   "source": [
    "X.to_dense().numpy()"
   ]
  },
  {
   "cell_type": "markdown",
   "metadata": {},
   "source": [
    "### Current pytorch test\n",
    "\n",
    "CURRENT TESTS DO NOT TEST DOCUMENTS CONTAINING sparse torch arrays\n",
    "\n",
    "They only test SparseNdArray types\n",
    "\n",
    "\n",
    "\n",
    "```python\n",
    "@pytest.mark.parametrize(\n",
    "    'idx_shape',\n",
    "    [\n",
    "        ([[0, 1, 2]], [3]),\n",
    "        ([[0, 2, 1], [1, 0, 2]], [3, 3]),\n",
    "        ([[0, 1, 1], [0, 1, 2], [2, 1, 2]], [3, 3, 3]),\n",
    "    ],\n",
    ")\n",
    "def test_torch_sparse(idx_shape, transpose=False):\n",
    "    from jina.types.ndarray.sparse.pytorch import SparseNdArray\n",
    "    import torch\n",
    "\n",
    "    i = torch.LongTensor(idx_shape[0])\n",
    "    v = torch.FloatTensor([3, 4, 5])\n",
    "    a = torch.sparse.FloatTensor(i, v, torch.Size(idx_shape[1]))\n",
    "\n",
    "    b = SparseNdArray(transpose_indices=transpose)\n",
    "    b.value = a\n",
    "    np.testing.assert_equal(b.value.to_dense().numpy(), a.to_dense().numpy())\n",
    "```"
   ]
  },
  {
   "cell_type": "code",
   "execution_count": null,
   "metadata": {
    "ExecuteTime": {
     "end_time": "2021-03-22T14:19:55.948307Z",
     "start_time": "2021-03-22T14:19:55.906942Z"
    }
   },
   "outputs": [],
   "source": [
    "from jina.types.ndarray.sparse.pytorch import SparseNdArray\n",
    "import torch\n",
    "\n",
    "idx_shape = ([[0, 1, 2]], [3])\n",
    "transpose=False\n",
    "i = torch.LongTensor(idx_shape[0])\n",
    "v = torch.FloatTensor([3, 4, 5])\n",
    "X = torch.sparse.FloatTensor(i.t() if transpose else i, v, torch.Size(idx_shape[1]))\n",
    "X"
   ]
  },
  {
   "cell_type": "code",
   "execution_count": null,
   "metadata": {
    "ExecuteTime": {
     "end_time": "2021-03-22T14:19:56.198580Z",
     "start_time": "2021-03-22T14:19:56.158463Z"
    },
    "scrolled": true
   },
   "outputs": [],
   "source": [
    "X.to_dense()"
   ]
  },
  {
   "cell_type": "code",
   "execution_count": null,
   "metadata": {
    "ExecuteTime": {
     "end_time": "2021-03-22T14:19:57.152183Z",
     "start_time": "2021-03-22T14:19:57.110653Z"
    }
   },
   "outputs": [],
   "source": [
    "idx_shape = ([[0, 2, 1], [1, 0, 2]], [3, 3])\n",
    "transpose=False\n",
    "i = torch.LongTensor(idx_shape[0])\n",
    "v = torch.FloatTensor([3, 4, 5])\n",
    "X = torch.sparse.FloatTensor(i.t() if transpose else i, v, torch.Size(idx_shape[1]))\n",
    "X"
   ]
  },
  {
   "cell_type": "code",
   "execution_count": null,
   "metadata": {
    "ExecuteTime": {
     "end_time": "2021-03-22T14:19:58.084624Z",
     "start_time": "2021-03-22T14:19:58.044616Z"
    }
   },
   "outputs": [],
   "source": [
    "X.to_dense()"
   ]
  },
  {
   "cell_type": "code",
   "execution_count": null,
   "metadata": {
    "ExecuteTime": {
     "end_time": "2021-03-22T14:19:58.367416Z",
     "start_time": "2021-03-22T14:19:58.326859Z"
    }
   },
   "outputs": [],
   "source": [
    "idx_shape = ([[0, 1, 1], [0, 1, 2], [2, 1, 2]], [3, 3, 3])\n",
    "transpose=False\n",
    "i = torch.LongTensor(idx_shape[0])\n",
    "v = torch.FloatTensor([3, 4, 5])\n",
    "X = torch.sparse.FloatTensor(i.t() if transpose else i, v, torch.Size(idx_shape[1]))\n",
    "X"
   ]
  },
  {
   "cell_type": "code",
   "execution_count": null,
   "metadata": {
    "ExecuteTime": {
     "end_time": "2021-03-22T14:19:58.613222Z",
     "start_time": "2021-03-22T14:19:58.573001Z"
    }
   },
   "outputs": [],
   "source": [
    "X.to_dense()"
   ]
  },
  {
   "cell_type": "code",
   "execution_count": null,
   "metadata": {},
   "outputs": [],
   "source": []
  },
  {
   "cell_type": "markdown",
   "metadata": {},
   "source": [
    "### IMPORANT:"
   ]
  },
  {
   "cell_type": "markdown",
   "metadata": {},
   "source": [
    "Note that `SparseNdArray` can get `blob` and `embedding` without being converted to None"
   ]
  },
  {
   "cell_type": "code",
   "execution_count": null,
   "metadata": {
    "ExecuteTime": {
     "end_time": "2021-03-22T14:20:31.901646Z",
     "start_time": "2021-03-22T14:20:31.863121Z"
    }
   },
   "outputs": [],
   "source": [
    "\n",
    "b = SparseNdArray()\n",
    "b.blob = a\n",
    "b.embedding = a"
   ]
  },
  {
   "cell_type": "code",
   "execution_count": null,
   "metadata": {
    "ExecuteTime": {
     "end_time": "2021-03-22T14:20:32.210995Z",
     "start_time": "2021-03-22T14:20:32.170311Z"
    }
   },
   "outputs": [],
   "source": [
    "b.blob"
   ]
  },
  {
   "cell_type": "code",
   "execution_count": null,
   "metadata": {
    "ExecuteTime": {
     "end_time": "2021-03-22T14:20:32.526436Z",
     "start_time": "2021-03-22T14:20:32.486203Z"
    }
   },
   "outputs": [],
   "source": [
    "b.embedding"
   ]
  },
  {
   "cell_type": "code",
   "execution_count": null,
   "metadata": {},
   "outputs": [],
   "source": []
  },
  {
   "cell_type": "code",
   "execution_count": null,
   "metadata": {},
   "outputs": [],
   "source": []
  },
  {
   "cell_type": "code",
   "execution_count": null,
   "metadata": {},
   "outputs": [],
   "source": []
  },
  {
   "cell_type": "code",
   "execution_count": null,
   "metadata": {},
   "outputs": [],
   "source": []
  },
  {
   "cell_type": "code",
   "execution_count": null,
   "metadata": {},
   "outputs": [],
   "source": []
  }
 ],
 "metadata": {
  "kernelspec": {
   "display_name": "Python 3",
   "language": "python",
   "name": "python3"
  },
  "language_info": {
   "codemirror_mode": {
    "name": "ipython",
    "version": 3
   },
   "file_extension": ".py",
   "mimetype": "text/x-python",
   "name": "python",
   "nbconvert_exporter": "python",
   "pygments_lexer": "ipython3",
   "version": "3.9.2"
  },
  "toc": {
   "base_numbering": 1,
   "nav_menu": {},
   "number_sections": true,
   "sideBar": true,
   "skip_h1_title": false,
   "title_cell": "Table of Contents",
   "title_sidebar": "Contents",
   "toc_cell": true,
   "toc_position": {
    "height": "calc(100% - 180px)",
    "left": "10px",
    "top": "150px",
    "width": "165px"
   },
   "toc_section_display": true,
   "toc_window_display": true
  },
  "varInspector": {
   "cols": {
    "lenName": 16,
    "lenType": 16,
    "lenVar": 40
   },
   "kernels_config": {
    "python": {
     "delete_cmd_postfix": "",
     "delete_cmd_prefix": "del ",
     "library": "var_list.py",
     "varRefreshCmd": "print(var_dic_list())"
    },
    "r": {
     "delete_cmd_postfix": ") ",
     "delete_cmd_prefix": "rm(",
     "library": "var_list.r",
     "varRefreshCmd": "cat(var_dic_list()) "
    }
   },
   "types_to_exclude": [
    "module",
    "function",
    "builtin_function_or_method",
    "instance",
    "_Feature"
   ],
   "window_display": false
  }
 },
 "nbformat": 4,
 "nbformat_minor": 4
}
