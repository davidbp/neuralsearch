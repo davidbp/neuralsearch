{
 "cells": [
  {
   "cell_type": "markdown",
   "metadata": {
    "toc": true
   },
   "source": [
    "<h1>Table of Contents<span class=\"tocSkip\"></span></h1>\n",
    "<div class=\"toc\"><ul class=\"toc-item\"><li><span><a href=\"#Document-methods-benchmark\" data-toc-modified-id=\"Document-methods-benchmark-1\"><span class=\"toc-item-num\">1&nbsp;&nbsp;</span>Document methods benchmark</a></span><ul class=\"toc-item\"><li><span><a href=\"#Document-pop\" data-toc-modified-id=\"Document-pop-1.1\"><span class=\"toc-item-num\">1.1&nbsp;&nbsp;</span>Document <code>pop</code></a></span></li><li><span><a href=\"#Document-clear\" data-toc-modified-id=\"Document-clear-1.2\"><span class=\"toc-item-num\">1.2&nbsp;&nbsp;</span>Document <code>clear</code></a></span></li><li><span><a href=\"#Documentarray\" data-toc-modified-id=\"Documentarray-1.3\"><span class=\"toc-item-num\">1.3&nbsp;&nbsp;</span>Documentarray</a></span><ul class=\"toc-item\"><li><span><a href=\"#Get-embedding-from-Document\" data-toc-modified-id=\"Get-embedding-from-Document-1.3.1\"><span class=\"toc-item-num\">1.3.1&nbsp;&nbsp;</span>Get embedding from Document</a></span></li></ul></li><li><span><a href=\"#Docarray-memmap\" data-toc-modified-id=\"Docarray-memmap-1.4\"><span class=\"toc-item-num\">1.4&nbsp;&nbsp;</span>Docarray memmap</a></span><ul class=\"toc-item\"><li><span><a href=\"#creating-an-array-with-a-particular-dtype\" data-toc-modified-id=\"creating-an-array-with-a-particular-dtype-1.4.1\"><span class=\"toc-item-num\">1.4.1&nbsp;&nbsp;</span>creating an array with a particular dtype</a></span></li><li><span><a href=\"#Acessing-dtype-of-a-doc\" data-toc-modified-id=\"Acessing-dtype-of-a-doc-1.4.2\"><span class=\"toc-item-num\">1.4.2&nbsp;&nbsp;</span>Acessing dtype of a doc</a></span></li><li><span><a href=\"#Getting-an-embedding\" data-toc-modified-id=\"Getting-an-embedding-1.4.3\"><span class=\"toc-item-num\">1.4.3&nbsp;&nbsp;</span>Getting an embedding</a></span></li></ul></li></ul></li></ul></div>"
   ]
  },
  {
   "cell_type": "markdown",
   "metadata": {},
   "source": [
    "# Document methods benchmark"
   ]
  },
  {
   "cell_type": "code",
   "execution_count": 1,
   "metadata": {
    "ExecuteTime": {
     "end_time": "2021-09-09T10:39:17.599586Z",
     "start_time": "2021-09-09T10:39:17.580892Z"
    }
   },
   "outputs": [],
   "source": [
    "%load_ext autoreload\n",
    "%autoreload 2"
   ]
  },
  {
   "cell_type": "code",
   "execution_count": 2,
   "metadata": {
    "ExecuteTime": {
     "end_time": "2021-09-09T10:39:18.733963Z",
     "start_time": "2021-09-09T10:39:18.247821Z"
    }
   },
   "outputs": [],
   "source": [
    "import jina\n",
    "from jina import Document, DocumentArray\n",
    "import numpy as np\n",
    "import os"
   ]
  },
  {
   "cell_type": "markdown",
   "metadata": {
    "ExecuteTime": {
     "end_time": "2021-09-05T17:42:07.044430Z",
     "start_time": "2021-09-05T17:42:07.031779Z"
    }
   },
   "source": [
    "## Document `pop`"
   ]
  },
  {
   "cell_type": "code",
   "execution_count": 3,
   "metadata": {
    "ExecuteTime": {
     "end_time": "2021-09-09T10:39:24.174130Z",
     "start_time": "2021-09-09T10:39:24.159793Z"
    }
   },
   "outputs": [],
   "source": [
    "d = Document(text='doc0')"
   ]
  },
  {
   "cell_type": "code",
   "execution_count": 12,
   "metadata": {
    "ExecuteTime": {
     "end_time": "2021-09-09T10:48:25.886697Z",
     "start_time": "2021-09-09T10:48:25.871944Z"
    }
   },
   "outputs": [
    {
     "name": "stdout",
     "output_type": "stream",
     "text": [
      "Help on method pop in module jina.types.document:\n",
      "\n",
      "pop(*fields) -> None method of jina.types.document.Document instance\n",
      "    Remove the values from the given fields of this Document.\n",
      "    \n",
      "    :param fields: field names\n",
      "\n"
     ]
    }
   ],
   "source": [
    "help(d.pop)"
   ]
  },
  {
   "cell_type": "code",
   "execution_count": 5,
   "metadata": {
    "ExecuteTime": {
     "end_time": "2021-09-09T10:39:24.843776Z",
     "start_time": "2021-09-09T10:39:24.828508Z"
    }
   },
   "outputs": [],
   "source": [
    "d.pop('text')"
   ]
  },
  {
   "cell_type": "code",
   "execution_count": 6,
   "metadata": {
    "ExecuteTime": {
     "end_time": "2021-09-09T10:39:25.109470Z",
     "start_time": "2021-09-09T10:39:25.090983Z"
    },
    "scrolled": true
   },
   "outputs": [
    {
     "data": {
      "text/plain": [
       "''"
      ]
     },
     "execution_count": 6,
     "metadata": {},
     "output_type": "execute_result"
    }
   ],
   "source": [
    "d.text"
   ]
  },
  {
   "cell_type": "markdown",
   "metadata": {},
   "source": [
    "## Document `clear`"
   ]
  },
  {
   "cell_type": "code",
   "execution_count": 20,
   "metadata": {
    "ExecuteTime": {
     "end_time": "2021-09-09T10:48:57.434086Z",
     "start_time": "2021-09-09T10:48:57.418401Z"
    }
   },
   "outputs": [
    {
     "data": {
      "text/plain": [
       "'doc0'"
      ]
     },
     "execution_count": 20,
     "metadata": {},
     "output_type": "execute_result"
    }
   ],
   "source": [
    "d = Document(text='doc0', embedding=np.array([1,2,3]))\n",
    "d.text"
   ]
  },
  {
   "cell_type": "code",
   "execution_count": 23,
   "metadata": {
    "ExecuteTime": {
     "end_time": "2021-09-09T10:49:05.262148Z",
     "start_time": "2021-09-09T10:49:05.248610Z"
    }
   },
   "outputs": [],
   "source": [
    "d.clear()"
   ]
  },
  {
   "cell_type": "code",
   "execution_count": 24,
   "metadata": {
    "ExecuteTime": {
     "end_time": "2021-09-09T10:49:05.805175Z",
     "start_time": "2021-09-09T10:49:05.790386Z"
    }
   },
   "outputs": [
    {
     "data": {
      "text/plain": [
       "''"
      ]
     },
     "execution_count": 24,
     "metadata": {},
     "output_type": "execute_result"
    }
   ],
   "source": [
    "d.text"
   ]
  },
  {
   "cell_type": "code",
   "execution_count": null,
   "metadata": {},
   "outputs": [],
   "source": []
  },
  {
   "cell_type": "code",
   "execution_count": null,
   "metadata": {},
   "outputs": [],
   "source": []
  },
  {
   "cell_type": "code",
   "execution_count": null,
   "metadata": {},
   "outputs": [],
   "source": []
  },
  {
   "cell_type": "code",
   "execution_count": null,
   "metadata": {},
   "outputs": [],
   "source": []
  },
  {
   "cell_type": "markdown",
   "metadata": {},
   "source": [
    "## Documentarray"
   ]
  },
  {
   "cell_type": "code",
   "execution_count": 4,
   "metadata": {
    "ExecuteTime": {
     "end_time": "2021-09-05T17:41:52.469230Z",
     "start_time": "2021-09-05T17:41:52.451521Z"
    }
   },
   "outputs": [
    {
     "data": {
      "text/plain": [
       "'doc0'"
      ]
     },
     "execution_count": 4,
     "metadata": {},
     "output_type": "execute_result"
    }
   ],
   "source": [
    "da = DocumentArray([Document(text='doc0'),\n",
    "                    Document(text='doc1'),\n",
    "                    Document(text='doc2')]) \n",
    "da[0].text"
   ]
  },
  {
   "cell_type": "code",
   "execution_count": 17,
   "metadata": {
    "ExecuteTime": {
     "end_time": "2021-09-05T17:43:32.940171Z",
     "start_time": "2021-09-05T17:43:32.925717Z"
    }
   },
   "outputs": [
    {
     "data": {
      "text/plain": [
       "('doc1', 'doc0', 'doc2')"
      ]
     },
     "execution_count": 17,
     "metadata": {},
     "output_type": "execute_result"
    }
   ],
   "source": [
    "da = DocumentArray([Document(text='doc0'),\n",
    "                    Document(text='doc1'),\n",
    "                    Document(text='doc2')]) \n",
    "\n",
    "da = da.shuffle(seed=1234)\n",
    "da[0].text,da[1].text, da[2].text"
   ]
  },
  {
   "cell_type": "code",
   "execution_count": null,
   "metadata": {},
   "outputs": [],
   "source": []
  },
  {
   "cell_type": "code",
   "execution_count": null,
   "metadata": {},
   "outputs": [],
   "source": []
  },
  {
   "cell_type": "code",
   "execution_count": null,
   "metadata": {},
   "outputs": [],
   "source": []
  },
  {
   "cell_type": "code",
   "execution_count": null,
   "metadata": {},
   "outputs": [],
   "source": []
  },
  {
   "cell_type": "markdown",
   "metadata": {},
   "source": [
    "#### Accessing `Document._pb_body`"
   ]
  },
  {
   "cell_type": "code",
   "execution_count": 266,
   "metadata": {
    "ExecuteTime": {
     "end_time": "2021-09-02T09:17:29.549550Z",
     "start_time": "2021-09-02T09:17:25.664175Z"
    },
    "scrolled": true
   },
   "outputs": [
    {
     "name": "stdout",
     "output_type": "stream",
     "text": [
      "47.7 ns ± 0.464 ns per loop (mean ± std. dev. of 7 runs, 10000000 loops each)\n"
     ]
    }
   ],
   "source": [
    "%timeit d._pb_body"
   ]
  },
  {
   "cell_type": "markdown",
   "metadata": {},
   "source": [
    "#### Fastest way to get type of embedding from proto\n",
    "\n",
    "How can we know if a Document has a sparse or a dense embedding?"
   ]
  },
  {
   "cell_type": "code",
   "execution_count": 254,
   "metadata": {
    "ExecuteTime": {
     "end_time": "2021-09-02T09:16:12.054319Z",
     "start_time": "2021-09-02T09:16:12.041054Z"
    }
   },
   "outputs": [],
   "source": [
    "d = Document(text='doc0', embedding = np.array([2.3,4.5,4.5]))"
   ]
  },
  {
   "cell_type": "code",
   "execution_count": 249,
   "metadata": {
    "ExecuteTime": {
     "end_time": "2021-09-02T09:12:23.070400Z",
     "start_time": "2021-09-02T09:12:23.056520Z"
    }
   },
   "outputs": [
    {
     "data": {
      "text/plain": [
       "jina_pb2.SparseNdArrayProto"
      ]
     },
     "execution_count": 249,
     "metadata": {},
     "output_type": "execute_result"
    }
   ],
   "source": [
    "type(d._pb_body.embedding.sparse)"
   ]
  },
  {
   "cell_type": "code",
   "execution_count": 255,
   "metadata": {
    "ExecuteTime": {
     "end_time": "2021-09-02T09:16:18.415049Z",
     "start_time": "2021-09-02T09:16:18.401012Z"
    }
   },
   "outputs": [
    {
     "data": {
      "text/plain": [
       "jina_pb2.DenseNdArrayProto"
      ]
     },
     "execution_count": 255,
     "metadata": {},
     "output_type": "execute_result"
    }
   ],
   "source": [
    "type(d._pb_body.embedding.dense)"
   ]
  },
  {
   "cell_type": "markdown",
   "metadata": {},
   "source": [
    "We can use the `HasField` function"
   ]
  },
  {
   "cell_type": "code",
   "execution_count": 262,
   "metadata": {
    "ExecuteTime": {
     "end_time": "2021-09-02T09:17:00.520995Z",
     "start_time": "2021-09-02T09:17:00.507448Z"
    }
   },
   "outputs": [
    {
     "data": {
      "text/plain": [
       "jina_pb2.DocumentProto"
      ]
     },
     "execution_count": 262,
     "metadata": {},
     "output_type": "execute_result"
    }
   ],
   "source": [
    "type(d._pb_body)"
   ]
  },
  {
   "cell_type": "code",
   "execution_count": 240,
   "metadata": {
    "ExecuteTime": {
     "end_time": "2021-09-02T09:11:49.907434Z",
     "start_time": "2021-09-02T09:11:47.444135Z"
    }
   },
   "outputs": [
    {
     "name": "stdout",
     "output_type": "stream",
     "text": [
      "302 ns ± 5.67 ns per loop (mean ± std. dev. of 7 runs, 1000000 loops each)\n"
     ]
    }
   ],
   "source": [
    "%timeit d._pb_body.embedding.HasField('dense')"
   ]
  },
  {
   "cell_type": "markdown",
   "metadata": {},
   "source": [
    "Faster way to acess dtype of a dense embedding"
   ]
  },
  {
   "cell_type": "code",
   "execution_count": 252,
   "metadata": {
    "ExecuteTime": {
     "end_time": "2021-09-02T09:14:58.142971Z",
     "start_time": "2021-09-02T09:14:55.552430Z"
    }
   },
   "outputs": [
    {
     "name": "stdout",
     "output_type": "stream",
     "text": [
      "317 ns ± 4.29 ns per loop (mean ± std. dev. of 7 runs, 1000000 loops each)\n"
     ]
    }
   ],
   "source": [
    "%timeit d._pb_body.embedding.dense.dtype"
   ]
  },
  {
   "cell_type": "code",
   "execution_count": 253,
   "metadata": {
    "ExecuteTime": {
     "end_time": "2021-09-02T09:15:18.918698Z",
     "start_time": "2021-09-02T09:15:15.683645Z"
    }
   },
   "outputs": [
    {
     "name": "stdout",
     "output_type": "stream",
     "text": [
      "397 ns ± 5.28 ns per loop (mean ± std. dev. of 7 runs, 1000000 loops each)\n"
     ]
    }
   ],
   "source": [
    "%timeit d.proto.embedding.dense.dtype"
   ]
  },
  {
   "cell_type": "markdown",
   "metadata": {},
   "source": [
    "### Get embedding from Document"
   ]
  },
  {
   "cell_type": "markdown",
   "metadata": {},
   "source": [
    "Note that embeddings store the dtype of the arrays"
   ]
  },
  {
   "cell_type": "code",
   "execution_count": 191,
   "metadata": {
    "ExecuteTime": {
     "end_time": "2021-09-02T07:57:31.307330Z",
     "start_time": "2021-09-02T07:57:31.293168Z"
    }
   },
   "outputs": [
    {
     "data": {
      "text/plain": [
       "dtype('float64')"
      ]
     },
     "execution_count": 191,
     "metadata": {},
     "output_type": "execute_result"
    }
   ],
   "source": [
    "d = Document(text='doc0', embedding = np.array([2.3,4.5,4.5]))\n",
    "d.embedding.dtype"
   ]
  },
  {
   "cell_type": "code",
   "execution_count": 195,
   "metadata": {
    "ExecuteTime": {
     "end_time": "2021-09-02T07:57:51.588507Z",
     "start_time": "2021-09-02T07:57:51.573871Z"
    }
   },
   "outputs": [
    {
     "data": {
      "text/plain": [
       "dtype('float32')"
      ]
     },
     "execution_count": 195,
     "metadata": {},
     "output_type": "execute_result"
    }
   ],
   "source": [
    "d = Document(text='doc0', embedding = np.array([2.3,4.5,4.5],dtype=np.float32))\n",
    "d.embedding.dtype"
   ]
  },
  {
   "cell_type": "markdown",
   "metadata": {},
   "source": [
    "This information is tored in \n",
    "\n",
    "`d._pb_body.embedding.dense.dtype`:\n",
    "\n",
    "\n",
    "- `'f8'` is for float64\n",
    "- `'f4'` is for float32\n"
   ]
  },
  {
   "cell_type": "code",
   "execution_count": 201,
   "metadata": {
    "ExecuteTime": {
     "end_time": "2021-09-02T09:05:03.123437Z",
     "start_time": "2021-09-02T09:05:03.086664Z"
    }
   },
   "outputs": [
    {
     "data": {
      "text/plain": [
       "id: \"78dc1722-0bc3-11ec-82eb-787b8ab3f5de\"\n",
       "mime_type: \"text/plain\"\n",
       "text: \"doc0\"\n",
       "embedding {\n",
       "  dense {\n",
       "    buffer: \"33\\023@\\000\\000\\220@\\000\\000\\220@\"\n",
       "    shape: 3\n",
       "    dtype: \"<f4\"\n",
       "  }\n",
       "}"
      ]
     },
     "execution_count": 201,
     "metadata": {},
     "output_type": "execute_result"
    }
   ],
   "source": [
    "d._pb_body"
   ]
  },
  {
   "cell_type": "code",
   "execution_count": 297,
   "metadata": {
    "ExecuteTime": {
     "end_time": "2021-09-02T09:44:23.381787Z",
     "start_time": "2021-09-02T09:44:23.282247Z"
    }
   },
   "outputs": [],
   "source": [
    "d = Document(embedding = np.random.rand((128)))"
   ]
  },
  {
   "cell_type": "code",
   "execution_count": 298,
   "metadata": {
    "ExecuteTime": {
     "end_time": "2021-09-02T09:44:25.853860Z",
     "start_time": "2021-09-02T09:44:23.530671Z"
    }
   },
   "outputs": [
    {
     "name": "stdout",
     "output_type": "stream",
     "text": [
      "2.8 µs ± 50.6 ns per loop (mean ± std. dev. of 7 runs, 100000 loops each)\n"
     ]
    }
   ],
   "source": [
    "#this PR\n",
    "%timeit aux = d.embedding"
   ]
  },
  {
   "cell_type": "code",
   "execution_count": 300,
   "metadata": {
    "ExecuteTime": {
     "end_time": "2021-09-02T09:44:42.840539Z",
     "start_time": "2021-09-02T09:44:37.712339Z"
    }
   },
   "outputs": [
    {
     "name": "stdout",
     "output_type": "stream",
     "text": [
      "6.2 µs ± 173 ns per loop (mean ± std. dev. of 7 runs, 100000 loops each)\n"
     ]
    }
   ],
   "source": [
    "#master\n",
    "%timeit aux = d.embedding"
   ]
  },
  {
   "cell_type": "markdown",
   "metadata": {},
   "source": [
    "#### Getting embedding\n",
    "\n",
    "Note that accessing `d._pb_body.embedding` has a cost, therefore it is better to store it in a variable"
   ]
  },
  {
   "cell_type": "code",
   "execution_count": 295,
   "metadata": {
    "ExecuteTime": {
     "end_time": "2021-09-02T09:43:39.909471Z",
     "start_time": "2021-09-02T09:43:35.700358Z"
    }
   },
   "outputs": [
    {
     "name": "stdout",
     "output_type": "stream",
     "text": [
      "514 ns ± 10.2 ns per loop (mean ± std. dev. of 7 runs, 1000000 loops each)\n"
     ]
    }
   ],
   "source": [
    "%%timeit\n",
    "aux1 = d._pb_body.embedding.dense.buffer\n",
    "aux2 = d._pb_body.embedding.dense.dtype\n",
    "aux3 = d._pb_body.embedding.dense.shape"
   ]
  },
  {
   "cell_type": "code",
   "execution_count": 296,
   "metadata": {
    "ExecuteTime": {
     "end_time": "2021-09-02T09:43:43.390939Z",
     "start_time": "2021-09-02T09:43:40.875596Z"
    }
   },
   "outputs": [
    {
     "name": "stdout",
     "output_type": "stream",
     "text": [
      "304 ns ± 2.81 ns per loop (mean ± std. dev. of 7 runs, 1000000 loops each)\n"
     ]
    }
   ],
   "source": [
    "%%timeit\n",
    "dense_proto = d._pb_body.embedding.dense\n",
    "aux1 = dense_proto.buffer\n",
    "aux2 = dense_proto.dtype\n",
    "aux3 = dense_proto.shape"
   ]
  },
  {
   "cell_type": "markdown",
   "metadata": {},
   "source": [
    "##### Timing in get_attributes embedding"
   ]
  },
  {
   "cell_type": "code",
   "execution_count": 276,
   "metadata": {
    "ExecuteTime": {
     "end_time": "2021-09-02T09:30:45.767075Z",
     "start_time": "2021-09-02T09:30:45.733094Z"
    }
   },
   "outputs": [
    {
     "name": "stdout",
     "output_type": "stream",
     "text": [
      "True\n",
      "False\n"
     ]
    }
   ],
   "source": [
    "d = Document(embedding = np.random.rand((128)))\n",
    "print(d._pb_body.embedding.HasField('dense'))\n",
    "print(d._pb_body.embedding.HasField('sparse'))"
   ]
  },
  {
   "cell_type": "code",
   "execution_count": 237,
   "metadata": {
    "ExecuteTime": {
     "end_time": "2021-09-02T09:10:39.520154Z",
     "start_time": "2021-09-02T09:10:39.506954Z"
    }
   },
   "outputs": [],
   "source": [
    "da = DocumentArray([d]*1000)"
   ]
  },
  {
   "cell_type": "code",
   "execution_count": 238,
   "metadata": {
    "ExecuteTime": {
     "end_time": "2021-09-02T09:10:52.789915Z",
     "start_time": "2021-09-02T09:10:40.677174Z"
    }
   },
   "outputs": [
    {
     "name": "stdout",
     "output_type": "stream",
     "text": [
      "14.9 ms ± 213 µs per loop (mean ± std. dev. of 7 runs, 100 loops each)\n"
     ]
    }
   ],
   "source": [
    "#This PR\n",
    "%timeit da.get_attributes('embedding')"
   ]
  },
  {
   "cell_type": "code",
   "execution_count": null,
   "metadata": {},
   "outputs": [],
   "source": [
    "self._pb_body.embedding.HasField('dense')"
   ]
  },
  {
   "cell_type": "markdown",
   "metadata": {
    "ExecuteTime": {
     "end_time": "2021-09-02T09:29:57.650547Z",
     "start_time": "2021-09-02T09:29:57.581562Z"
    }
   },
   "source": [
    "We can also have sparse embeddings"
   ]
  },
  {
   "cell_type": "code",
   "execution_count": 273,
   "metadata": {
    "ExecuteTime": {
     "end_time": "2021-09-02T09:30:31.845235Z",
     "start_time": "2021-09-02T09:30:31.812419Z"
    }
   },
   "outputs": [],
   "source": [
    "import scipy.sparse as sp\n",
    "d = Document(embedding = sp.csr_matrix(np.random.rand((128))))"
   ]
  },
  {
   "cell_type": "code",
   "execution_count": 275,
   "metadata": {
    "ExecuteTime": {
     "end_time": "2021-09-02T09:30:41.583698Z",
     "start_time": "2021-09-02T09:30:41.547966Z"
    }
   },
   "outputs": [
    {
     "name": "stdout",
     "output_type": "stream",
     "text": [
      "False\n",
      "True\n"
     ]
    }
   ],
   "source": [
    "print(d._pb_body.embedding.HasField('dense'))\n",
    "print(d._pb_body.embedding.HasField('sparse'))"
   ]
  },
  {
   "cell_type": "markdown",
   "metadata": {},
   "source": [
    "## Docarray memmap"
   ]
  },
  {
   "cell_type": "code",
   "execution_count": 302,
   "metadata": {
    "ExecuteTime": {
     "end_time": "2021-09-02T13:51:38.526147Z",
     "start_time": "2021-09-02T13:51:38.489304Z"
    }
   },
   "outputs": [],
   "source": [
    "from jina.types.arrays.memmap import DocumentArrayMemmap\n"
   ]
  },
  {
   "cell_type": "code",
   "execution_count": 334,
   "metadata": {
    "ExecuteTime": {
     "end_time": "2021-09-02T14:38:45.619502Z",
     "start_time": "2021-09-02T14:38:45.586875Z"
    }
   },
   "outputs": [],
   "source": [
    "dam = DocumentArrayMemmap('./')"
   ]
  },
  {
   "cell_type": "code",
   "execution_count": 339,
   "metadata": {
    "ExecuteTime": {
     "end_time": "2021-09-02T14:39:18.157390Z",
     "start_time": "2021-09-02T14:39:18.123751Z"
    }
   },
   "outputs": [],
   "source": [
    "dam.extend([Document(text='lala')])"
   ]
  },
  {
   "cell_type": "code",
   "execution_count": null,
   "metadata": {
    "ExecuteTime": {
     "end_time": "2021-09-02T14:39:18.739290Z",
     "start_time": "2021-09-02T14:39:18.694083Z"
    }
   },
   "outputs": [],
   "source": []
  },
  {
   "cell_type": "code",
   "execution_count": 316,
   "metadata": {
    "ExecuteTime": {
     "end_time": "2021-09-02T14:28:42.655535Z",
     "start_time": "2021-09-02T14:28:42.622860Z"
    }
   },
   "outputs": [],
   "source": [
    "dam.save()"
   ]
  },
  {
   "cell_type": "code",
   "execution_count": 331,
   "metadata": {
    "ExecuteTime": {
     "end_time": "2021-09-02T14:38:38.765032Z",
     "start_time": "2021-09-02T14:38:38.731395Z"
    }
   },
   "outputs": [],
   "source": [
    "da = DocumentArray([Document(text='lala')])"
   ]
  },
  {
   "cell_type": "code",
   "execution_count": 332,
   "metadata": {
    "ExecuteTime": {
     "end_time": "2021-09-02T14:38:39.009933Z",
     "start_time": "2021-09-02T14:38:38.972124Z"
    }
   },
   "outputs": [],
   "source": [
    "da.save('./docarray')"
   ]
  },
  {
   "cell_type": "code",
   "execution_count": 341,
   "metadata": {
    "ExecuteTime": {
     "end_time": "2021-09-02T14:42:48.105059Z",
     "start_time": "2021-09-02T14:42:48.041218Z"
    }
   },
   "outputs": [],
   "source": [
    "da.save_binary('./docarraybin')"
   ]
  },
  {
   "cell_type": "code",
   "execution_count": 346,
   "metadata": {
    "ExecuteTime": {
     "end_time": "2021-09-02T14:48:40.813586Z",
     "start_time": "2021-09-02T14:48:40.780461Z"
    }
   },
   "outputs": [],
   "source": [
    "dam.save()"
   ]
  },
  {
   "cell_type": "code",
   "execution_count": null,
   "metadata": {},
   "outputs": [],
   "source": []
  },
  {
   "cell_type": "markdown",
   "metadata": {},
   "source": [
    "### creating an array with a particular dtype\n",
    "\n",
    "Acessing `d._pb_body.embedding.dense.dtype` is unreasonable slow"
   ]
  },
  {
   "cell_type": "code",
   "execution_count": 162,
   "metadata": {
    "ExecuteTime": {
     "end_time": "2021-09-02T07:51:47.788950Z",
     "start_time": "2021-09-02T07:51:38.989213Z"
    }
   },
   "outputs": [
    {
     "name": "stdout",
     "output_type": "stream",
     "text": [
      "1.09 µs ± 16.8 ns per loop (mean ± std. dev. of 7 runs, 1000000 loops each)\n"
     ]
    }
   ],
   "source": [
    "%timeit np.array([2.3, 4.5, 4.5])"
   ]
  },
  {
   "cell_type": "code",
   "execution_count": 161,
   "metadata": {
    "ExecuteTime": {
     "end_time": "2021-09-02T07:51:25.813941Z",
     "start_time": "2021-09-02T07:51:12.048015Z"
    },
    "scrolled": true
   },
   "outputs": [
    {
     "name": "stdout",
     "output_type": "stream",
     "text": [
      "1.7 µs ± 9.94 ns per loop (mean ± std. dev. of 7 runs, 1000000 loops each)\n"
     ]
    }
   ],
   "source": [
    "%timeit np.array([2.3, 4.5, 4.5], \\\n",
    "                 dtype=d._pb_body.embedding.dense.dtype)"
   ]
  },
  {
   "cell_type": "code",
   "execution_count": 127,
   "metadata": {
    "ExecuteTime": {
     "end_time": "2021-09-02T07:39:37.744237Z",
     "start_time": "2021-09-02T07:39:28.012790Z"
    }
   },
   "outputs": [
    {
     "name": "stdout",
     "output_type": "stream",
     "text": [
      "1.2 µs ± 6.2 ns per loop (mean ± std. dev. of 7 runs, 1000000 loops each)\n"
     ]
    }
   ],
   "source": [
    "%timeit np.array([2.3, 4.5, 4.5], dtype='f4')"
   ]
  },
  {
   "cell_type": "code",
   "execution_count": 168,
   "metadata": {
    "ExecuteTime": {
     "end_time": "2021-09-02T07:54:46.092740Z",
     "start_time": "2021-09-02T07:54:44.410846Z"
    }
   },
   "outputs": [
    {
     "name": "stdout",
     "output_type": "stream",
     "text": [
      "206 ns ± 1.67 ns per loop (mean ± std. dev. of 7 runs, 1000000 loops each)\n"
     ]
    }
   ],
   "source": [
    "%timeit d._pb_body.embedding"
   ]
  },
  {
   "cell_type": "markdown",
   "metadata": {},
   "source": [
    "### Acessing dtype of a doc"
   ]
  },
  {
   "cell_type": "code",
   "execution_count": 169,
   "metadata": {
    "ExecuteTime": {
     "end_time": "2021-09-02T07:54:54.434102Z",
     "start_time": "2021-09-02T07:54:54.420889Z"
    }
   },
   "outputs": [],
   "source": [
    "d = Document(text='doc0', embedding = np.array([2.3,4.5,4.5]))"
   ]
  },
  {
   "cell_type": "code",
   "execution_count": 170,
   "metadata": {
    "ExecuteTime": {
     "end_time": "2021-09-02T07:54:59.763518Z",
     "start_time": "2021-09-02T07:54:54.941935Z"
    }
   },
   "outputs": [
    {
     "name": "stdout",
     "output_type": "stream",
     "text": [
      "592 ns ± 7.16 ns per loop (mean ± std. dev. of 7 runs, 1000000 loops each)\n"
     ]
    }
   ],
   "source": [
    "%timeit d._pb_body.embedding.dense"
   ]
  },
  {
   "cell_type": "code",
   "execution_count": 171,
   "metadata": {
    "ExecuteTime": {
     "end_time": "2021-09-02T07:55:05.381869Z",
     "start_time": "2021-09-02T07:54:59.798990Z"
    }
   },
   "outputs": [
    {
     "name": "stdout",
     "output_type": "stream",
     "text": [
      "686 ns ± 3.92 ns per loop (mean ± std. dev. of 7 runs, 1000000 loops each)\n"
     ]
    }
   ],
   "source": [
    "%timeit d._pb_body.embedding.dense.dtype"
   ]
  },
  {
   "cell_type": "code",
   "execution_count": 176,
   "metadata": {
    "ExecuteTime": {
     "end_time": "2021-09-02T07:55:17.501446Z",
     "start_time": "2021-09-02T07:55:17.487933Z"
    }
   },
   "outputs": [
    {
     "name": "stdout",
     "output_type": "stream",
     "text": [
      "<class 'jina_pb2.DocumentProto'>\n",
      "<class 'jina_pb2.DenseNdArrayProto'>\n"
     ]
    }
   ],
   "source": [
    "print(type(d._pb_body))\n",
    "print(type(d._pb_body.embedding.dense))"
   ]
  },
  {
   "cell_type": "code",
   "execution_count": 180,
   "metadata": {
    "ExecuteTime": {
     "end_time": "2021-09-02T07:55:30.071364Z",
     "start_time": "2021-09-02T07:55:30.057574Z"
    }
   },
   "outputs": [],
   "source": [
    "d = Document(embedding = np.array([2.3,4.5,4.5]))"
   ]
  },
  {
   "cell_type": "code",
   "execution_count": 181,
   "metadata": {
    "ExecuteTime": {
     "end_time": "2021-09-02T07:55:36.722460Z",
     "start_time": "2021-09-02T07:55:33.118615Z"
    }
   },
   "outputs": [
    {
     "name": "stdout",
     "output_type": "stream",
     "text": [
      "44.2 ns ± 0.288 ns per loop (mean ± std. dev. of 7 runs, 10000000 loops each)\n"
     ]
    }
   ],
   "source": [
    "%timeit d._pb_body"
   ]
  },
  {
   "cell_type": "code",
   "execution_count": 178,
   "metadata": {
    "ExecuteTime": {
     "end_time": "2021-09-02T07:55:24.265281Z",
     "start_time": "2021-09-02T07:55:19.467544Z"
    }
   },
   "outputs": [
    {
     "name": "stdout",
     "output_type": "stream",
     "text": [
      "589 ns ± 6.02 ns per loop (mean ± std. dev. of 7 runs, 1000000 loops each)\n"
     ]
    }
   ],
   "source": [
    "%timeit d._pb_body.embedding.dense"
   ]
  },
  {
   "cell_type": "code",
   "execution_count": 179,
   "metadata": {
    "ExecuteTime": {
     "end_time": "2021-09-02T07:55:29.821183Z",
     "start_time": "2021-09-02T07:55:24.300519Z"
    }
   },
   "outputs": [
    {
     "name": "stdout",
     "output_type": "stream",
     "text": [
      "678 ns ± 9.34 ns per loop (mean ± std. dev. of 7 runs, 1000000 loops each)\n"
     ]
    }
   ],
   "source": [
    "%timeit d._pb_body.embedding.dense.dtype"
   ]
  },
  {
   "cell_type": "markdown",
   "metadata": {},
   "source": [
    "Getting the dtype of an embedding is around half the time needed to do 500 additions"
   ]
  },
  {
   "cell_type": "code",
   "execution_count": 151,
   "metadata": {
    "ExecuteTime": {
     "end_time": "2021-09-02T07:46:59.572771Z",
     "start_time": "2021-09-02T07:46:47.289967Z"
    }
   },
   "outputs": [
    {
     "name": "stdout",
     "output_type": "stream",
     "text": [
      "1.51 µs ± 8.03 ns per loop (mean ± std. dev. of 7 runs, 1000000 loops each)\n"
     ]
    }
   ],
   "source": [
    "x = np.ones(500)\n",
    "%timeit x.sum()"
   ]
  },
  {
   "cell_type": "markdown",
   "metadata": {},
   "source": [
    "### Getting an embedding"
   ]
  },
  {
   "cell_type": "code",
   "execution_count": 109,
   "metadata": {
    "ExecuteTime": {
     "end_time": "2021-09-02T07:35:48.387867Z",
     "start_time": "2021-09-02T07:35:46.468437Z"
    }
   },
   "outputs": [
    {
     "name": "stdout",
     "output_type": "stream",
     "text": [
      "2.34 µs ± 13.3 ns per loop (mean ± std. dev. of 7 runs, 100000 loops each)\n"
     ]
    }
   ],
   "source": [
    "%timeit d.embedding"
   ]
  },
  {
   "cell_type": "code",
   "execution_count": 83,
   "metadata": {
    "ExecuteTime": {
     "end_time": "2021-09-02T07:29:05.056298Z",
     "start_time": "2021-09-02T07:29:02.061078Z"
    },
    "scrolled": true
   },
   "outputs": [
    {
     "name": "stdout",
     "output_type": "stream",
     "text": [
      "370 ns ± 14.4 ns per loop (mean ± std. dev. of 7 runs, 1000000 loops each)\n"
     ]
    }
   ],
   "source": [
    "%timeit d._pb_body.embedding.WhichOneof('content')"
   ]
  },
  {
   "cell_type": "code",
   "execution_count": 84,
   "metadata": {
    "ExecuteTime": {
     "end_time": "2021-09-02T07:29:42.492796Z",
     "start_time": "2021-09-02T07:29:42.478637Z"
    }
   },
   "outputs": [
    {
     "data": {
      "text/plain": [
       "<function NdArrayProto.WhichOneof>"
      ]
     },
     "execution_count": 84,
     "metadata": {},
     "output_type": "execute_result"
    }
   ],
   "source": [
    "d._pb_body.embedding.WhichOneof"
   ]
  },
  {
   "cell_type": "code",
   "execution_count": 98,
   "metadata": {
    "ExecuteTime": {
     "end_time": "2021-09-02T07:34:24.506599Z",
     "start_time": "2021-09-02T07:34:24.492919Z"
    }
   },
   "outputs": [
    {
     "data": {
      "text/plain": [
       "<google.protobuf.pyext._message.MessageDescriptor at 0x7fdcd87d92b0>"
      ]
     },
     "execution_count": 98,
     "metadata": {},
     "output_type": "execute_result"
    }
   ],
   "source": [
    "d._pb_body.embedding.DESCRIPTOR"
   ]
  },
  {
   "cell_type": "code",
   "execution_count": 104,
   "metadata": {
    "ExecuteTime": {
     "end_time": "2021-09-02T07:35:08.790015Z",
     "start_time": "2021-09-02T07:34:54.896772Z"
    }
   },
   "outputs": [
    {
     "name": "stdout",
     "output_type": "stream",
     "text": [
      "171 ns ± 1.4 ns per loop (mean ± std. dev. of 7 runs, 10000000 loops each)\n"
     ]
    }
   ],
   "source": [
    "%timeit d._pb_body.embedding.HasField('sparse')"
   ]
  },
  {
   "cell_type": "code",
   "execution_count": 105,
   "metadata": {
    "ExecuteTime": {
     "end_time": "2021-09-02T07:35:22.798998Z",
     "start_time": "2021-09-02T07:35:08.823518Z"
    }
   },
   "outputs": [
    {
     "name": "stdout",
     "output_type": "stream",
     "text": [
      "173 ns ± 1.56 ns per loop (mean ± std. dev. of 7 runs, 10000000 loops each)\n"
     ]
    }
   ],
   "source": [
    "%timeit d._pb_body.embedding.HasField('dense')"
   ]
  },
  {
   "cell_type": "code",
   "execution_count": null,
   "metadata": {},
   "outputs": [],
   "source": []
  },
  {
   "cell_type": "code",
   "execution_count": 64,
   "metadata": {
    "ExecuteTime": {
     "end_time": "2021-09-02T07:27:16.309036Z",
     "start_time": "2021-09-02T07:27:11.916947Z"
    }
   },
   "outputs": [
    {
     "name": "stdout",
     "output_type": "stream",
     "text": [
      "5.4 µs ± 30.8 ns per loop (mean ± std. dev. of 7 runs, 100000 loops each)\n"
     ]
    }
   ],
   "source": [
    "%timeit d.embedding"
   ]
  },
  {
   "cell_type": "code",
   "execution_count": 8,
   "metadata": {
    "ExecuteTime": {
     "end_time": "2021-09-02T07:18:32.898632Z",
     "start_time": "2021-09-02T07:18:28.019493Z"
    }
   },
   "outputs": [
    {
     "name": "stdout",
     "output_type": "stream",
     "text": [
      "6.03 µs ± 86.3 ns per loop (mean ± std. dev. of 7 runs, 100000 loops each)\n"
     ]
    }
   ],
   "source": [
    "%timeit d.get_attributes('embedding')"
   ]
  },
  {
   "cell_type": "code",
   "execution_count": 23,
   "metadata": {
    "ExecuteTime": {
     "end_time": "2021-09-02T07:21:38.049765Z",
     "start_time": "2021-09-02T07:21:38.047931Z"
    }
   },
   "outputs": [],
   "source": [
    "if d._pb_body.embedding.sparse== :\n",
    "    print('hi')"
   ]
  },
  {
   "cell_type": "code",
   "execution_count": 27,
   "metadata": {
    "ExecuteTime": {
     "end_time": "2021-09-02T07:22:01.771998Z",
     "start_time": "2021-09-02T07:21:54.307811Z"
    }
   },
   "outputs": [
    {
     "name": "stdout",
     "output_type": "stream",
     "text": [
      "92.3 ns ± 0.438 ns per loop (mean ± std. dev. of 7 runs, 10000000 loops each)\n"
     ]
    }
   ],
   "source": [
    "%timeit d._pb_body.embedding.sparse"
   ]
  },
  {
   "cell_type": "code",
   "execution_count": 33,
   "metadata": {
    "ExecuteTime": {
     "end_time": "2021-09-02T07:23:18.164258Z",
     "start_time": "2021-09-02T07:23:18.161536Z"
    }
   },
   "outputs": [
    {
     "data": {
      "text/plain": [
       "b'ffffff\\x02@\\x00\\x00\\x00\\x00\\x00\\x00\\x12@\\x00\\x00\\x00\\x00\\x00\\x00\\x12@'"
      ]
     },
     "execution_count": 33,
     "metadata": {},
     "output_type": "execute_result"
    }
   ],
   "source": [
    "d._pb_body.embedding.dense.buffer"
   ]
  },
  {
   "cell_type": "code",
   "execution_count": 39,
   "metadata": {
    "ExecuteTime": {
     "end_time": "2021-09-02T07:23:44.972471Z",
     "start_time": "2021-09-02T07:23:32.817296Z"
    }
   },
   "outputs": [
    {
     "name": "stdout",
     "output_type": "stream",
     "text": [
      "150 ns ± 0.923 ns per loop (mean ± std. dev. of 7 runs, 10000000 loops each)\n"
     ]
    }
   ],
   "source": [
    "%timeit d._pb_body.embedding.sparse.ByteSize()"
   ]
  },
  {
   "cell_type": "code",
   "execution_count": 51,
   "metadata": {
    "ExecuteTime": {
     "end_time": "2021-09-02T07:24:46.236883Z",
     "start_time": "2021-09-02T07:24:44.595707Z"
    }
   },
   "outputs": [
    {
     "name": "stdout",
     "output_type": "stream",
     "text": [
      "202 ns ± 2.67 ns per loop (mean ± std. dev. of 7 runs, 1000000 loops each)\n"
     ]
    }
   ],
   "source": [
    "%timeit d._pb_body.embedding.WhichOneof('content')"
   ]
  },
  {
   "cell_type": "code",
   "execution_count": 58,
   "metadata": {
    "ExecuteTime": {
     "end_time": "2021-09-02T07:26:33.368137Z",
     "start_time": "2021-09-02T07:26:33.365596Z"
    }
   },
   "outputs": [
    {
     "data": {
      "text/plain": [
       "[3]"
      ]
     },
     "execution_count": 58,
     "metadata": {},
     "output_type": "execute_result"
    }
   ],
   "source": [
    "d._pb_body.embedding.dense.shape"
   ]
  },
  {
   "cell_type": "code",
   "execution_count": null,
   "metadata": {},
   "outputs": [],
   "source": []
  },
  {
   "cell_type": "code",
   "execution_count": null,
   "metadata": {},
   "outputs": [],
   "source": []
  },
  {
   "cell_type": "markdown",
   "metadata": {
    "ExecuteTime": {
     "end_time": "2021-08-30T14:14:58.909425Z",
     "start_time": "2021-08-30T14:14:58.906508Z"
    }
   },
   "source": [
    "#### Appending to list vs numpy array"
   ]
  },
  {
   "cell_type": "code",
   "execution_count": 17,
   "metadata": {
    "ExecuteTime": {
     "end_time": "2021-08-30T14:18:22.031437Z",
     "start_time": "2021-08-30T14:18:22.029381Z"
    }
   },
   "outputs": [],
   "source": [
    "l = [1,2,3,4]\n",
    "lnp = np.array([1,2,3,4])"
   ]
  },
  {
   "cell_type": "code",
   "execution_count": 21,
   "metadata": {
    "ExecuteTime": {
     "end_time": "2021-08-30T14:18:38.976838Z",
     "start_time": "2021-08-30T14:18:36.639610Z"
    }
   },
   "outputs": [
    {
     "name": "stdout",
     "output_type": "stream",
     "text": [
      "2.87 µs ± 30.6 ns per loop (mean ± std. dev. of 7 runs, 100000 loops each)\n"
     ]
    }
   ],
   "source": [
    "%timeit np.append(lnp,lnp)"
   ]
  },
  {
   "cell_type": "code",
   "execution_count": 22,
   "metadata": {
    "ExecuteTime": {
     "end_time": "2021-08-30T14:18:44.790359Z",
     "start_time": "2021-08-30T14:18:41.230492Z"
    }
   },
   "outputs": [
    {
     "name": "stdout",
     "output_type": "stream",
     "text": [
      "4.37 µs ± 30 ns per loop (mean ± std. dev. of 7 runs, 100000 loops each)\n"
     ]
    }
   ],
   "source": [
    "%timeit np.append(lnp, l)"
   ]
  },
  {
   "cell_type": "code",
   "execution_count": null,
   "metadata": {},
   "outputs": [],
   "source": []
  },
  {
   "cell_type": "code",
   "execution_count": null,
   "metadata": {},
   "outputs": [],
   "source": []
  },
  {
   "cell_type": "code",
   "execution_count": null,
   "metadata": {},
   "outputs": [],
   "source": []
  },
  {
   "cell_type": "code",
   "execution_count": 1,
   "metadata": {
    "ExecuteTime": {
     "end_time": "2021-08-20T13:40:36.864817Z",
     "start_time": "2021-08-20T13:40:36.863044Z"
    }
   },
   "outputs": [],
   "source": [
    "#self.quantize = os.environ.get('JINA_ARRAY_QUANT', quantize)"
   ]
  },
  {
   "cell_type": "code",
   "execution_count": 26,
   "metadata": {
    "ExecuteTime": {
     "end_time": "2021-08-20T13:50:35.845759Z",
     "start_time": "2021-08-20T13:50:35.832852Z"
    }
   },
   "outputs": [],
   "source": [
    "import jina\n",
    "from jina import Document\n",
    "import numpy as np\n",
    "import os"
   ]
  },
  {
   "cell_type": "code",
   "execution_count": 6,
   "metadata": {
    "ExecuteTime": {
     "end_time": "2021-08-20T13:40:45.482304Z",
     "start_time": "2021-08-20T13:40:45.468904Z"
    }
   },
   "outputs": [],
   "source": [
    "d = Document(embedding=np.array([1,2,3]))"
   ]
  },
  {
   "cell_type": "code",
   "execution_count": 24,
   "metadata": {
    "ExecuteTime": {
     "end_time": "2021-08-20T13:50:27.387888Z",
     "start_time": "2021-08-20T13:50:22.291001Z"
    }
   },
   "outputs": [
    {
     "name": "stdout",
     "output_type": "stream",
     "text": [
      "6.21 µs ± 219 ns per loop (mean ± std. dev. of 7 runs, 100000 loops each)\n"
     ]
    }
   ],
   "source": [
    "%timeit aux = d.embedding"
   ]
  },
  {
   "cell_type": "code",
   "execution_count": 28,
   "metadata": {
    "ExecuteTime": {
     "end_time": "2021-08-20T13:50:58.174494Z",
     "start_time": "2021-08-20T13:50:52.359785Z"
    }
   },
   "outputs": [
    {
     "name": "stdout",
     "output_type": "stream",
     "text": [
      "715 ns ± 5.69 ns per loop (mean ± std. dev. of 7 runs, 1000000 loops each)\n"
     ]
    }
   ],
   "source": [
    "%timeit aux = os.environ.get('JINA_ARRAY_QUANT', None) "
   ]
  },
  {
   "cell_type": "code",
   "execution_count": 35,
   "metadata": {
    "ExecuteTime": {
     "end_time": "2021-08-20T14:12:40.978088Z",
     "start_time": "2021-08-20T14:12:30.910435Z"
    }
   },
   "outputs": [
    {
     "name": "stdout",
     "output_type": "stream",
     "text": [
      "1.24 µs ± 19.2 ns per loop (mean ± std. dev. of 7 runs, 1000000 loops each)\n"
     ]
    }
   ],
   "source": [
    "%timeit aux = jina.types.ndarray.generic.NdArray()"
   ]
  },
  {
   "cell_type": "code",
   "execution_count": 47,
   "metadata": {
    "ExecuteTime": {
     "end_time": "2021-08-20T14:17:00.410730Z",
     "start_time": "2021-08-20T14:17:00.397205Z"
    }
   },
   "outputs": [],
   "source": [
    "import jina.types.ndarray.dense.numpy"
   ]
  },
  {
   "cell_type": "code",
   "execution_count": 49,
   "metadata": {
    "ExecuteTime": {
     "end_time": "2021-08-20T14:17:57.517690Z",
     "start_time": "2021-08-20T14:17:44.318233Z"
    }
   },
   "outputs": [
    {
     "name": "stdout",
     "output_type": "stream",
     "text": [
      "1.63 µs ± 58.7 ns per loop (mean ± std. dev. of 7 runs, 1000000 loops each)\n"
     ]
    }
   ],
   "source": [
    "%timeit aux = jina.types.ndarray.dense.numpy.DenseNdArray(quantize='fp16')"
   ]
  },
  {
   "cell_type": "code",
   "execution_count": 52,
   "metadata": {
    "ExecuteTime": {
     "end_time": "2021-08-20T14:19:21.079746Z",
     "start_time": "2021-08-20T14:19:18.740979Z"
    }
   },
   "outputs": [
    {
     "name": "stdout",
     "output_type": "stream",
     "text": [
      "2.81 µs ± 177 ns per loop (mean ± std. dev. of 7 runs, 100000 loops each)\n"
     ]
    }
   ],
   "source": [
    "# before\n",
    "%timeit aux = jina.types.ndarray.dense.numpy.DenseNdArray()"
   ]
  },
  {
   "cell_type": "code",
   "execution_count": 48,
   "metadata": {
    "ExecuteTime": {
     "end_time": "2021-08-20T14:17:17.238656Z",
     "start_time": "2021-08-20T14:17:05.234873Z"
    }
   },
   "outputs": [
    {
     "name": "stdout",
     "output_type": "stream",
     "text": [
      "1.48 µs ± 11.8 ns per loop (mean ± std. dev. of 7 runs, 1000000 loops each)\n"
     ]
    }
   ],
   "source": [
    "# after\n",
    "%timeit aux = jina.types.ndarray.dense.numpy.DenseNdArray()"
   ]
  },
  {
   "cell_type": "code",
   "execution_count": 83,
   "metadata": {
    "ExecuteTime": {
     "end_time": "2021-08-20T16:25:06.592352Z",
     "start_time": "2021-08-20T16:25:06.427601Z"
    }
   },
   "outputs": [],
   "source": [
    "d = Document(embedding = np.array([1,2,3]))"
   ]
  },
  {
   "cell_type": "code",
   "execution_count": 54,
   "metadata": {
    "ExecuteTime": {
     "end_time": "2021-08-20T14:36:57.190751Z",
     "start_time": "2021-08-20T14:36:53.703005Z"
    }
   },
   "outputs": [
    {
     "name": "stdout",
     "output_type": "stream",
     "text": [
      "4.29 µs ± 80.6 ns per loop (mean ± std. dev. of 7 runs, 100000 loops each)\n"
     ]
    }
   ],
   "source": [
    "%timeit aux = d.embedding"
   ]
  },
  {
   "cell_type": "code",
   "execution_count": 62,
   "metadata": {
    "ExecuteTime": {
     "end_time": "2021-08-20T14:38:57.363789Z",
     "start_time": "2021-08-20T14:38:52.224706Z"
    }
   },
   "outputs": [
    {
     "name": "stdout",
     "output_type": "stream",
     "text": [
      "6.28 µs ± 82.5 ns per loop (mean ± std. dev. of 7 runs, 100000 loops each)\n"
     ]
    }
   ],
   "source": [
    "# before\n",
    "%timeit d.embedding = x"
   ]
  },
  {
   "cell_type": "code",
   "execution_count": 60,
   "metadata": {
    "ExecuteTime": {
     "end_time": "2021-08-20T14:38:32.924946Z",
     "start_time": "2021-08-20T14:38:28.564884Z"
    }
   },
   "outputs": [
    {
     "name": "stdout",
     "output_type": "stream",
     "text": [
      "5.31 µs ± 74 ns per loop (mean ± std. dev. of 7 runs, 100000 loops each)\n"
     ]
    }
   ],
   "source": [
    "# after \n",
    "%timeit d.embedding = x"
   ]
  },
  {
   "cell_type": "code",
   "execution_count": null,
   "metadata": {},
   "outputs": [],
   "source": []
  },
  {
   "cell_type": "code",
   "execution_count": 63,
   "metadata": {
    "ExecuteTime": {
     "end_time": "2021-08-20T14:59:28.685110Z",
     "start_time": "2021-08-20T14:59:28.619257Z"
    }
   },
   "outputs": [],
   "source": [
    "from jina.types.ndarray.generic import NdArray\n",
    "from scipy.sparse import coo_matrix"
   ]
  },
  {
   "cell_type": "code",
   "execution_count": 66,
   "metadata": {
    "ExecuteTime": {
     "end_time": "2021-08-20T14:59:51.374142Z",
     "start_time": "2021-08-20T14:59:51.356633Z"
    }
   },
   "outputs": [],
   "source": [
    "row = np.array([0, 3, 1, 0])\n",
    "col = np.array([0, 3, 1, 2])\n",
    "data = np.array([4, 5, 7, 9])\n",
    "a = coo_matrix((data, (row, col)), shape=(4, 4))\n",
    "dense_a = a.toarray()\n",
    "\n"
   ]
  },
  {
   "cell_type": "code",
   "execution_count": 67,
   "metadata": {
    "ExecuteTime": {
     "end_time": "2021-08-20T14:59:51.731034Z",
     "start_time": "2021-08-20T14:59:51.715083Z"
    }
   },
   "outputs": [
    {
     "data": {
      "text/plain": [
       "<4x4 sparse matrix of type '<class 'numpy.int64'>'\n",
       "\twith 4 stored elements in COOrdinate format>"
      ]
     },
     "execution_count": 67,
     "metadata": {},
     "output_type": "execute_result"
    }
   ],
   "source": [
    "a"
   ]
  },
  {
   "cell_type": "code",
   "execution_count": 82,
   "metadata": {
    "ExecuteTime": {
     "end_time": "2021-08-20T15:01:25.085646Z",
     "start_time": "2021-08-20T15:01:25.035186Z"
    }
   },
   "outputs": [
    {
     "ename": "AttributeError",
     "evalue": "_ndarray",
     "output_type": "error",
     "traceback": [
      "\u001b[0;31m---------------------------------------------------------------------------\u001b[0m",
      "\u001b[0;31mAttributeError\u001b[0m                            Traceback (most recent call last)",
      "\u001b[0;32m<ipython-input-82-aec20888625b>\u001b[0m in \u001b[0;36m<module>\u001b[0;34m\u001b[0m\n\u001b[0;32m----> 1\u001b[0;31m \u001b[0maux\u001b[0m \u001b[0;34m=\u001b[0m \u001b[0mNdArray\u001b[0m\u001b[0;34m(\u001b[0m\u001b[0ma\u001b[0m\u001b[0;34m,\u001b[0m \u001b[0mis_sparse\u001b[0m\u001b[0;34m=\u001b[0m\u001b[0;32mTrue\u001b[0m\u001b[0;34m)\u001b[0m\u001b[0;34m\u001b[0m\u001b[0;34m\u001b[0m\u001b[0m\n\u001b[0m",
      "\u001b[0;32m~/Documents/git_stuff/jina/jina/types/ndarray/generic.py\u001b[0m in \u001b[0;36m__init__\u001b[0;34m(self, proto, is_sparse, dense_cls, sparse_cls, *args, **kwargs)\u001b[0m\n\u001b[1;32m     92\u001b[0m         \u001b[0mself\u001b[0m\u001b[0;34m.\u001b[0m\u001b[0mdense_cls\u001b[0m \u001b[0;34m=\u001b[0m \u001b[0mdense_cls\u001b[0m\u001b[0;34m\u001b[0m\u001b[0;34m\u001b[0m\u001b[0m\n\u001b[1;32m     93\u001b[0m         \u001b[0mself\u001b[0m\u001b[0;34m.\u001b[0m\u001b[0msparse_cls\u001b[0m \u001b[0;34m=\u001b[0m \u001b[0msparse_cls\u001b[0m\u001b[0;34m\u001b[0m\u001b[0;34m\u001b[0m\u001b[0m\n\u001b[0;32m---> 94\u001b[0;31m         \u001b[0msuper\u001b[0m\u001b[0;34m(\u001b[0m\u001b[0;34m)\u001b[0m\u001b[0;34m.\u001b[0m\u001b[0m__init__\u001b[0m\u001b[0;34m(\u001b[0m\u001b[0mproto\u001b[0m\u001b[0;34m,\u001b[0m \u001b[0;34m*\u001b[0m\u001b[0margs\u001b[0m\u001b[0;34m,\u001b[0m \u001b[0;34m**\u001b[0m\u001b[0mkwargs\u001b[0m\u001b[0;34m)\u001b[0m\u001b[0;34m\u001b[0m\u001b[0;34m\u001b[0m\u001b[0m\n\u001b[0m\u001b[1;32m     95\u001b[0m         \u001b[0mself\u001b[0m\u001b[0;34m.\u001b[0m\u001b[0m_args\u001b[0m \u001b[0;34m=\u001b[0m \u001b[0margs\u001b[0m\u001b[0;34m\u001b[0m\u001b[0;34m\u001b[0m\u001b[0m\n\u001b[1;32m     96\u001b[0m         \u001b[0mself\u001b[0m\u001b[0;34m.\u001b[0m\u001b[0m_kwargs\u001b[0m \u001b[0;34m=\u001b[0m \u001b[0mkwargs\u001b[0m\u001b[0;34m\u001b[0m\u001b[0;34m\u001b[0m\u001b[0m\n",
      "\u001b[0;32m~/Documents/git_stuff/jina/jina/types/ndarray/__init__.py\u001b[0m in \u001b[0;36m__init__\u001b[0;34m(self, proto, *args, **kwargs)\u001b[0m\n\u001b[1;32m     30\u001b[0m             \u001b[0;32mif\u001b[0m \u001b[0mproto\u001b[0m \u001b[0;32mis\u001b[0m \u001b[0;32mnot\u001b[0m \u001b[0;32mNone\u001b[0m\u001b[0;34m:\u001b[0m\u001b[0;34m\u001b[0m\u001b[0;34m\u001b[0m\u001b[0m\n\u001b[1;32m     31\u001b[0m                 \u001b[0;31m# casting using the subclass :attr:`value` interface\u001b[0m\u001b[0;34m\u001b[0m\u001b[0;34m\u001b[0m\u001b[0;34m\u001b[0m\u001b[0m\n\u001b[0;32m---> 32\u001b[0;31m                 \u001b[0mself\u001b[0m\u001b[0;34m.\u001b[0m\u001b[0mvalue\u001b[0m \u001b[0;34m=\u001b[0m \u001b[0mproto\u001b[0m\u001b[0;34m\u001b[0m\u001b[0;34m\u001b[0m\u001b[0m\n\u001b[0m\u001b[1;32m     33\u001b[0m \u001b[0;34m\u001b[0m\u001b[0m\n\u001b[1;32m     34\u001b[0m     \u001b[0;34m@\u001b[0m\u001b[0mproperty\u001b[0m\u001b[0;34m\u001b[0m\u001b[0;34m\u001b[0m\u001b[0m\n",
      "\u001b[0;32m~/Documents/git_stuff/jina/jina/types/ndarray/generic.py\u001b[0m in \u001b[0;36mvalue\u001b[0;34m(self, value)\u001b[0m\n\u001b[1;32m    125\u001b[0m         \u001b[0;34m:\u001b[0m\u001b[0mparam\u001b[0m \u001b[0mvalue\u001b[0m\u001b[0;34m:\u001b[0m \u001b[0mvalue\u001b[0m \u001b[0mto\u001b[0m \u001b[0mset\u001b[0m\u001b[0;34m\u001b[0m\u001b[0;34m\u001b[0m\u001b[0m\n\u001b[1;32m    126\u001b[0m         \"\"\"\n\u001b[0;32m--> 127\u001b[0;31m         \u001b[0mself\u001b[0m\u001b[0;34m.\u001b[0m\u001b[0m_ndarray\u001b[0m\u001b[0;34m.\u001b[0m\u001b[0mvalue\u001b[0m \u001b[0;34m=\u001b[0m \u001b[0mvalue\u001b[0m\u001b[0;34m\u001b[0m\u001b[0;34m\u001b[0m\u001b[0m\n\u001b[0m\u001b[1;32m    128\u001b[0m \u001b[0;34m\u001b[0m\u001b[0m\n\u001b[1;32m    129\u001b[0m     \u001b[0;32mdef\u001b[0m \u001b[0m_build_content_dict\u001b[0m\u001b[0;34m(\u001b[0m\u001b[0mself\u001b[0m\u001b[0;34m)\u001b[0m\u001b[0;34m:\u001b[0m\u001b[0;34m\u001b[0m\u001b[0;34m\u001b[0m\u001b[0m\n",
      "\u001b[0;32m~/Documents/git_stuff/jina/jina/types/mixin.py\u001b[0m in \u001b[0;36m__getattr__\u001b[0;34m(self, name)\u001b[0m\n\u001b[1;32m     56\u001b[0m \u001b[0;34m\u001b[0m\u001b[0m\n\u001b[1;32m     57\u001b[0m     \u001b[0;32mdef\u001b[0m \u001b[0m__getattr__\u001b[0m\u001b[0;34m(\u001b[0m\u001b[0mself\u001b[0m\u001b[0;34m,\u001b[0m \u001b[0mname\u001b[0m\u001b[0;34m:\u001b[0m \u001b[0mstr\u001b[0m\u001b[0;34m)\u001b[0m\u001b[0;34m:\u001b[0m\u001b[0;34m\u001b[0m\u001b[0;34m\u001b[0m\u001b[0m\n\u001b[0;32m---> 58\u001b[0;31m         \u001b[0;32mreturn\u001b[0m \u001b[0mgetattr\u001b[0m\u001b[0;34m(\u001b[0m\u001b[0mself\u001b[0m\u001b[0;34m.\u001b[0m\u001b[0m_pb_body\u001b[0m\u001b[0;34m,\u001b[0m \u001b[0mname\u001b[0m\u001b[0;34m)\u001b[0m\u001b[0;34m\u001b[0m\u001b[0;34m\u001b[0m\u001b[0m\n\u001b[0m\u001b[1;32m     59\u001b[0m \u001b[0;34m\u001b[0m\u001b[0m\n\u001b[1;32m     60\u001b[0m     \u001b[0;32mdef\u001b[0m \u001b[0m__str__\u001b[0m\u001b[0;34m(\u001b[0m\u001b[0mself\u001b[0m\u001b[0;34m)\u001b[0m\u001b[0;34m:\u001b[0m\u001b[0;34m\u001b[0m\u001b[0;34m\u001b[0m\u001b[0m\n",
      "\u001b[0;31mAttributeError\u001b[0m: _ndarray"
     ]
    }
   ],
   "source": [
    "aux = NdArray(a, is_sparse=True)"
   ]
  },
  {
   "cell_type": "code",
   "execution_count": 75,
   "metadata": {
    "ExecuteTime": {
     "end_time": "2021-08-20T15:00:27.742060Z",
     "start_time": "2021-08-20T15:00:27.726552Z"
    }
   },
   "outputs": [
    {
     "data": {
      "text/plain": [
       "<jina.types.ndarray.dense.numpy.DenseNdArray at 140511073762272>"
      ]
     },
     "execution_count": 75,
     "metadata": {},
     "output_type": "execute_result"
    }
   ],
   "source": [
    "aux._ndarray"
   ]
  },
  {
   "cell_type": "code",
   "execution_count": 81,
   "metadata": {
    "ExecuteTime": {
     "end_time": "2021-08-20T15:01:03.763856Z",
     "start_time": "2021-08-20T15:01:03.749320Z"
    }
   },
   "outputs": [],
   "source": [
    "aux._ndarray.value = np.array([1,23])"
   ]
  },
  {
   "cell_type": "code",
   "execution_count": 79,
   "metadata": {
    "ExecuteTime": {
     "end_time": "2021-08-20T15:00:49.075038Z",
     "start_time": "2021-08-20T15:00:49.058764Z"
    }
   },
   "outputs": [
    {
     "data": {
      "text/plain": [
       "array([ 1, 23])"
      ]
     },
     "execution_count": 79,
     "metadata": {},
     "output_type": "execute_result"
    }
   ],
   "source": [
    "aux.value"
   ]
  },
  {
   "cell_type": "code",
   "execution_count": null,
   "metadata": {},
   "outputs": [],
   "source": []
  },
  {
   "cell_type": "code",
   "execution_count": null,
   "metadata": {},
   "outputs": [],
   "source": []
  },
  {
   "cell_type": "code",
   "execution_count": 41,
   "metadata": {
    "ExecuteTime": {
     "end_time": "2021-08-20T14:13:48.260599Z",
     "start_time": "2021-08-20T14:13:48.244753Z"
    }
   },
   "outputs": [],
   "source": [
    "class A:\n",
    "    def __init__(self):\n",
    "        pass"
   ]
  },
  {
   "cell_type": "code",
   "execution_count": 43,
   "metadata": {
    "ExecuteTime": {
     "end_time": "2021-08-20T14:14:01.100344Z",
     "start_time": "2021-08-20T14:13:52.226957Z"
    }
   },
   "outputs": [
    {
     "name": "stdout",
     "output_type": "stream",
     "text": [
      "109 ns ± 0.808 ns per loop (mean ± std. dev. of 7 runs, 10000000 loops each)\n"
     ]
    }
   ],
   "source": [
    "%timeit A()"
   ]
  },
  {
   "cell_type": "code",
   "execution_count": null,
   "metadata": {},
   "outputs": [],
   "source": []
  },
  {
   "cell_type": "code",
   "execution_count": null,
   "metadata": {},
   "outputs": [],
   "source": []
  },
  {
   "cell_type": "code",
   "execution_count": 36,
   "metadata": {
    "ExecuteTime": {
     "end_time": "2021-08-20T14:12:41.036132Z",
     "start_time": "2021-08-20T14:12:41.017844Z"
    }
   },
   "outputs": [
    {
     "name": "stdout",
     "output_type": "stream",
     "text": [
      "<class 'jina_pb2.DocumentProto'>\n"
     ]
    },
    {
     "data": {
      "text/plain": [
       "id: \"387c926c-01bc-11ec-958c-787b8ab3f5de\"\n",
       "embedding {\n",
       "  dense {\n",
       "    buffer: \"\\001\\000\\000\\000\\000\\000\\000\\000\\002\\000\\000\\000\\000\\000\\000\\000\\003\\000\\000\\000\\000\\000\\000\\000\"\n",
       "    shape: 3\n",
       "    dtype: \"<i8\"\n",
       "  }\n",
       "}"
      ]
     },
     "execution_count": 36,
     "metadata": {},
     "output_type": "execute_result"
    }
   ],
   "source": [
    "print(type(d._pb_body))\n",
    "d._pb_body"
   ]
  },
  {
   "cell_type": "code",
   "execution_count": 19,
   "metadata": {
    "ExecuteTime": {
     "end_time": "2021-08-20T13:41:34.826719Z",
     "start_time": "2021-08-20T13:41:34.812482Z"
    }
   },
   "outputs": [
    {
     "data": {
      "text/plain": [
       "jina_pb2.NdArrayProto"
      ]
     },
     "execution_count": 19,
     "metadata": {},
     "output_type": "execute_result"
    }
   ],
   "source": [
    "type(d._pb_body.embedding)"
   ]
  },
  {
   "cell_type": "code",
   "execution_count": 30,
   "metadata": {
    "ExecuteTime": {
     "end_time": "2021-08-20T13:56:11.563377Z",
     "start_time": "2021-08-20T13:56:11.549305Z"
    }
   },
   "outputs": [
    {
     "data": {
      "text/plain": [
       "id: \"387c926c-01bc-11ec-958c-787b8ab3f5de\"\n",
       "embedding {\n",
       "  dense {\n",
       "    buffer: \"\\001\\000\\000\\000\\000\\000\\000\\000\\002\\000\\000\\000\\000\\000\\000\\000\\003\\000\\000\\000\\000\\000\\000\\000\"\n",
       "    shape: 3\n",
       "    dtype: \"<i8\"\n",
       "  }\n",
       "}"
      ]
     },
     "execution_count": 30,
     "metadata": {},
     "output_type": "execute_result"
    }
   ],
   "source": [
    "d._pb_body"
   ]
  },
  {
   "cell_type": "code",
   "execution_count": null,
   "metadata": {},
   "outputs": [],
   "source": []
  },
  {
   "cell_type": "code",
   "execution_count": null,
   "metadata": {},
   "outputs": [],
   "source": []
  },
  {
   "cell_type": "code",
   "execution_count": null,
   "metadata": {},
   "outputs": [],
   "source": []
  },
  {
   "cell_type": "code",
   "execution_count": null,
   "metadata": {},
   "outputs": [],
   "source": []
  },
  {
   "cell_type": "code",
   "execution_count": null,
   "metadata": {},
   "outputs": [],
   "source": []
  },
  {
   "cell_type": "code",
   "execution_count": null,
   "metadata": {},
   "outputs": [],
   "source": []
  }
 ],
 "metadata": {
  "kernelspec": {
   "display_name": "Python 3",
   "language": "python",
   "name": "python3"
  },
  "language_info": {
   "codemirror_mode": {
    "name": "ipython",
    "version": 3
   },
   "file_extension": ".py",
   "mimetype": "text/x-python",
   "name": "python",
   "nbconvert_exporter": "python",
   "pygments_lexer": "ipython3",
   "version": "3.8.5"
  },
  "toc": {
   "base_numbering": 1,
   "nav_menu": {},
   "number_sections": true,
   "sideBar": true,
   "skip_h1_title": false,
   "title_cell": "Table of Contents",
   "title_sidebar": "Contents",
   "toc_cell": true,
   "toc_position": {
    "height": "calc(100% - 180px)",
    "left": "10px",
    "top": "150px",
    "width": "165px"
   },
   "toc_section_display": true,
   "toc_window_display": true
  },
  "varInspector": {
   "cols": {
    "lenName": 16,
    "lenType": 16,
    "lenVar": 40
   },
   "kernels_config": {
    "python": {
     "delete_cmd_postfix": "",
     "delete_cmd_prefix": "del ",
     "library": "var_list.py",
     "varRefreshCmd": "print(var_dic_list())"
    },
    "r": {
     "delete_cmd_postfix": ") ",
     "delete_cmd_prefix": "rm(",
     "library": "var_list.r",
     "varRefreshCmd": "cat(var_dic_list()) "
    }
   },
   "types_to_exclude": [
    "module",
    "function",
    "builtin_function_or_method",
    "instance",
    "_Feature"
   ],
   "window_display": false
  }
 },
 "nbformat": 4,
 "nbformat_minor": 4
}
