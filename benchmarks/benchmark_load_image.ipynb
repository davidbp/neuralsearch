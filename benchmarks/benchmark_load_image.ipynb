{
 "cells": [
  {
   "cell_type": "markdown",
   "metadata": {
    "toc": true
   },
   "source": [
    "<h1>Table of Contents<span class=\"tocSkip\"></span></h1>\n",
    "<div class=\"toc\"><ul class=\"toc-item\"><li><span><a href=\"#benchmarking-to_numpy\" data-toc-modified-id=\"benchmarking-to_numpy-1\"><span class=\"toc-item-num\">1&nbsp;&nbsp;</span>benchmarking to_numpy</a></span><ul class=\"toc-item\"><li><span><a href=\"#Convert-image-uri-to-blob\" data-toc-modified-id=\"Convert-image-uri-to-blob-1.1\"><span class=\"toc-item-num\">1.1&nbsp;&nbsp;</span>Convert image uri to blob</a></span></li><li><span><a href=\"#Converting-image-to-numpy-array-without-copies\" data-toc-modified-id=\"Converting-image-to-numpy-array-without-copies-1.2\"><span class=\"toc-item-num\">1.2&nbsp;&nbsp;</span>Converting image to numpy array without copies</a></span></li></ul></li></ul></div>"
   ]
  },
  {
   "cell_type": "code",
   "execution_count": 1,
   "metadata": {
    "ExecuteTime": {
     "end_time": "2021-08-31T17:30:29.158935Z",
     "start_time": "2021-08-31T17:30:29.141599Z"
    }
   },
   "outputs": [],
   "source": [
    "%load_ext autoreload\n",
    "%autoreload 2\n",
    "%load_ext cython"
   ]
  },
  {
   "cell_type": "code",
   "execution_count": 2,
   "metadata": {
    "ExecuteTime": {
     "end_time": "2021-08-31T17:31:08.137643Z",
     "start_time": "2021-08-31T17:31:08.113512Z"
    }
   },
   "outputs": [],
   "source": [
    "import time\n",
    "import jina\n",
    "from jina import Document, DocumentArray\n",
    "import random\n",
    "import glob\n",
    "from PIL import Image\n",
    "import numpy as np\n"
   ]
  },
  {
   "cell_type": "code",
   "execution_count": 3,
   "metadata": {
    "ExecuteTime": {
     "end_time": "2021-08-31T17:30:30.078733Z",
     "start_time": "2021-08-31T17:30:30.059098Z"
    }
   },
   "outputs": [],
   "source": [
    "#files = glob.glob('/Volumes/corsair2tv/data/imaterialist-fashion-2019-FGVC6/test/*.jpg')\n",
    "files = glob.glob('./team_fotos/*.jpg')"
   ]
  },
  {
   "cell_type": "code",
   "execution_count": 4,
   "metadata": {
    "ExecuteTime": {
     "end_time": "2021-08-31T17:30:30.962495Z",
     "start_time": "2021-08-31T17:30:30.941546Z"
    },
    "scrolled": true
   },
   "outputs": [
    {
     "data": {
      "text/plain": [
       "['./team_fotos/image_from_ios 2.jpg', './team_fotos/image_from_ios-2.jpg']"
      ]
     },
     "execution_count": 4,
     "metadata": {},
     "output_type": "execute_result"
    }
   ],
   "source": [
    "len(files)\n",
    "source = files[0]\n",
    "files[0:2]"
   ]
  },
  {
   "cell_type": "code",
   "execution_count": 5,
   "metadata": {
    "ExecuteTime": {
     "end_time": "2021-08-31T17:30:46.000799Z",
     "start_time": "2021-08-31T17:30:45.986922Z"
    }
   },
   "outputs": [],
   "source": [
    "from jina.types.document.converters import to_image_blob"
   ]
  },
  {
   "cell_type": "code",
   "execution_count": 7,
   "metadata": {},
   "outputs": [],
   "source": [
    "aux = to_image_blob(files[0])"
   ]
  },
  {
   "cell_type": "code",
   "execution_count": null,
   "metadata": {},
   "outputs": [],
   "source": []
  },
  {
   "cell_type": "code",
   "execution_count": 26,
   "metadata": {
    "ExecuteTime": {
     "end_time": "2021-08-31T17:10:37.162120Z",
     "start_time": "2021-08-31T17:10:24.128213Z"
    }
   },
   "outputs": [
    {
     "name": "stdout",
     "output_type": "stream",
     "text": [
      "269 ms ± 6.59 ms per loop (mean ± std. dev. of 7 runs, 1 loop each)\n"
     ]
    }
   ],
   "source": [
    "%timeit aux = to_image_blob(files[0])"
   ]
  },
  {
   "cell_type": "code",
   "execution_count": 24,
   "metadata": {
    "ExecuteTime": {
     "end_time": "2021-08-31T17:30:31.229404Z",
     "start_time": "2021-08-31T17:30:31.214986Z"
    }
   },
   "outputs": [],
   "source": [
    "def image_generator(files):\n",
    "    da = DocumentArray()\n",
    "    for idx, filename in enumerate(files):\n",
    "        doc = Document(uri=filename)\n",
    "        doc.convert_image_uri_to_blob()\n",
    "        da.append(doc)"
   ]
  },
  {
   "cell_type": "code",
   "execution_count": 25,
   "metadata": {
    "ExecuteTime": {
     "end_time": "2021-08-31T17:05:29.050911Z",
     "start_time": "2021-08-31T17:05:14.201064Z"
    },
    "scrolled": true
   },
   "outputs": [
    {
     "name": "stdout",
     "output_type": "stream",
     "text": [
      "453 ms ± 15.8 ms per loop (mean ± std. dev. of 7 runs, 1 loop each)\n"
     ]
    }
   ],
   "source": [
    "%timeit aux = image_generator(files[0:1])"
   ]
  },
  {
   "cell_type": "code",
   "execution_count": null,
   "metadata": {},
   "outputs": [],
   "source": []
  },
  {
   "cell_type": "code",
   "execution_count": null,
   "metadata": {
    "ExecuteTime": {
     "end_time": "2021-08-31T17:30:35.247039Z",
     "start_time": "2021-08-31T17:30:35.232274Z"
    }
   },
   "outputs": [],
   "source": [
    "def to_image_blob_new(source, color_axis: int = -1) -> 'np.ndarray':\n",
    "    \"\"\"\n",
    "    Convert an image buffer to blob\n",
    "\n",
    "    :param source: image bytes buffer\n",
    "    :param color_axis: the axis id of the color channel, ``-1`` indicates the color channel info at the last axis\n",
    "    :return: image blob\n",
    "    \"\"\"\n",
    "    from PIL import Image\n",
    "\n",
    "    raw_img = Image.open(source)\n",
    "    img = np.asarray(raw_img, dtype='float32')\n",
    "    if color_axis != -1:\n",
    "        img = np.moveaxis(img, -1, color_axis)\n",
    "    return img"
   ]
  },
  {
   "cell_type": "code",
   "execution_count": null,
   "metadata": {
    "ExecuteTime": {
     "end_time": "2021-08-31T17:11:00.255551Z",
     "start_time": "2021-08-31T17:10:50.229684Z"
    }
   },
   "outputs": [],
   "source": [
    "%timeit aux = to_image_blob_new(files[0])"
   ]
  },
  {
   "cell_type": "code",
   "execution_count": null,
   "metadata": {
    "ExecuteTime": {
     "end_time": "2021-08-31T17:33:36.323449Z",
     "start_time": "2021-08-31T17:33:36.304998Z"
    }
   },
   "outputs": [],
   "source": [
    "def to_image_blob_new2(source, color_axis: int = -1) -> 'np.ndarray':\n",
    "    \"\"\"\n",
    "    Convert an image buffer to blob\n",
    "\n",
    "    :param source: image bytes buffer\n",
    "    :param color_axis: the axis id of the color channel, ``-1`` indicates the color channel info at the last axis\n",
    "    :return: image blob\n",
    "    \"\"\"\n",
    "    from PIL import Image\n",
    "\n",
    "    raw_img = Image.open(source)\n",
    "    shape, typestr = Image._conv_type_shape(raw_img)\n",
    "    img = np.empty(shape, dtype='float32')\n",
    "    img = np.asarray(raw_img, dtype='float32')\n",
    "    if color_axis != -1:\n",
    "        img = np.moveaxis(img, -1, color_axis)\n",
    "    return img"
   ]
  },
  {
   "cell_type": "code",
   "execution_count": null,
   "metadata": {
    "ExecuteTime": {
     "end_time": "2021-08-31T17:16:01.284761Z",
     "start_time": "2021-08-31T17:15:49.957433Z"
    }
   },
   "outputs": [],
   "source": [
    "%timeit aux = to_image_blob_new2(files[0])"
   ]
  },
  {
   "cell_type": "code",
   "execution_count": null,
   "metadata": {
    "ExecuteTime": {
     "end_time": "2021-08-31T17:15:11.921729Z",
     "start_time": "2021-08-31T17:14:42.093601Z"
    }
   },
   "outputs": [],
   "source": [
    "raw_img = Image.open(source)\n",
    "%timeit raw_img = Image.open(source)\n",
    "\n",
    "shape, typestr = Image._conv_type_shape(raw_img)\n",
    "%timeit shape, typestr = Image._conv_type_shape(raw_img)\n",
    "\n",
    "img = np.empty(shape, dtype='float32')\n",
    "%timeit img = np.empty(shape, dtype='float32')\n",
    "\n",
    "%timeit img = np.asarray(raw_img, dtype='float32')"
   ]
  },
  {
   "cell_type": "code",
   "execution_count": null,
   "metadata": {
    "ExecuteTime": {
     "end_time": "2021-08-31T17:16:33.915524Z",
     "start_time": "2021-08-31T17:16:16.507048Z"
    },
    "scrolled": true
   },
   "outputs": [],
   "source": [
    "%timeit aux = raw_img.tobytes()"
   ]
  },
  {
   "cell_type": "code",
   "execution_count": null,
   "metadata": {
    "ExecuteTime": {
     "end_time": "2021-08-31T17:32:16.922744Z",
     "start_time": "2021-08-31T17:32:16.906558Z"
    }
   },
   "outputs": [],
   "source": [
    "def to_numpy(raw_img):\n",
    "    raw_img.load()\n",
    "    e = Image._getencoder(raw_img.mode, 'raw', raw_img.mode)\n",
    "    e.setimage(raw_img.im)\n",
    "\n",
    "    # NumPy buffer for the result\n",
    "    shape, typestr = Image._conv_type_shape(raw_img)\n",
    "    data = np.empty(shape, dtype=np.dtype(typestr))\n",
    "    mem = data.data.cast('B', (data.data.nbytes,))\n",
    "    \n",
    "    bufsize, s, offset = 65536, 0, 0\n",
    "    while not s:\n",
    "        l, s, d = e.encode(bufsize)\n",
    "        mem[offset:offset + len(d)] = d\n",
    "        offset += len(d)\n",
    "    if s < 0:\n",
    "        raise RuntimeError(\"encoder error %d in tobytes\" % s)\n",
    "    return data\n",
    "\n",
    "def to_numpy(raw_img):\n",
    "    cache = 2**16\n",
    "    \n",
    "    raw_img.load()\n",
    "    e = Image._getencoder(raw_img.mode, 'raw', raw_img.mode)\n",
    "    e.setimage(raw_img.im)\n",
    "\n",
    "    shape, typestr = Image._conv_type_shape(raw_img)\n",
    "    data = np.empty(shape, dtype=np.dtype(typestr))\n",
    "    mem = data.data.cast('B', (data.data.nbytes,))\n",
    "    \n",
    "    bufsize, stop_flag, offset = cache, 0, 0 \n",
    "    while stop_flag == 0:\n",
    "        l, stop_flag, im_chunk = e.encode(bufsize)\n",
    "        mem[offset:offset + len(im_chunk)] = im_chunk\n",
    "        offset += len(im_chunk)\n",
    "\n",
    "    return data\n",
    "\n",
    "def to_image_blob_new3(source, color_axis: int = -1) -> 'np.ndarray':\n",
    "    \"\"\"\n",
    "    Convert an image buffer to blob\n",
    "\n",
    "    :param source: image bytes buffer\n",
    "    :param color_axis: the axis id of the color channel, ``-1`` indicates the color channel info at the last axis\n",
    "    :return: image blob\n",
    "    \"\"\"\n",
    "    from PIL import Image\n",
    "\n",
    "    raw_img = Image.open(source)\n",
    "    img = raw_img_to_numpy(raw_img)\n",
    "    if color_axis != -1:\n",
    "        img = np.moveaxis(img, -1, color_axis)\n",
    "    return img\n"
   ]
  },
  {
   "cell_type": "code",
   "execution_count": null,
   "metadata": {},
   "outputs": [],
   "source": [
    "raw_img = Image.open(source)\n",
    "type(raw_img)"
   ]
  },
  {
   "cell_type": "code",
   "execution_count": null,
   "metadata": {
    "ExecuteTime": {
     "end_time": "2021-08-31T17:33:15.618398Z",
     "start_time": "2021-08-31T17:33:09.093397Z"
    }
   },
   "outputs": [],
   "source": [
    "%timeit aux3 = to_image_blob_new3(files[0])"
   ]
  },
  {
   "cell_type": "code",
   "execution_count": null,
   "metadata": {
    "ExecuteTime": {
     "end_time": "2021-08-31T17:33:47.664620Z",
     "start_time": "2021-08-31T17:33:40.414311Z"
    }
   },
   "outputs": [],
   "source": [
    "%timeit aux2 = to_image_blob_new2(files[0])"
   ]
  },
  {
   "cell_type": "code",
   "execution_count": null,
   "metadata": {
    "ExecuteTime": {
     "end_time": "2021-08-31T17:34:32.745298Z",
     "start_time": "2021-08-31T17:34:25.506627Z"
    }
   },
   "outputs": [],
   "source": [
    "%timeit aux1 = to_image_blob_new(files[0])"
   ]
  },
  {
   "cell_type": "code",
   "execution_count": null,
   "metadata": {
    "ExecuteTime": {
     "end_time": "2021-08-31T17:34:43.684367Z",
     "start_time": "2021-08-31T17:34:35.797128Z"
    }
   },
   "outputs": [],
   "source": [
    "%timeit aux0 = to_image_blob(files[0])"
   ]
  },
  {
   "cell_type": "code",
   "execution_count": null,
   "metadata": {
    "ExecuteTime": {
     "end_time": "2021-08-31T17:53:50.249128Z",
     "start_time": "2021-08-31T17:53:50.235713Z"
    }
   },
   "outputs": [],
   "source": [
    "aux = Image.open(source)"
   ]
  },
  {
   "cell_type": "code",
   "execution_count": null,
   "metadata": {
    "ExecuteTime": {
     "end_time": "2021-08-31T17:54:05.758972Z",
     "start_time": "2021-08-31T17:53:57.466120Z"
    }
   },
   "outputs": [],
   "source": [
    "%timeit aux.size"
   ]
  },
  {
   "cell_type": "code",
   "execution_count": null,
   "metadata": {
    "ExecuteTime": {
     "end_time": "2021-08-31T17:54:28.170715Z",
     "start_time": "2021-08-31T17:54:21.482250Z"
    }
   },
   "outputs": [],
   "source": [
    "%timeit aux.tobytes()"
   ]
  },
  {
   "cell_type": "code",
   "execution_count": null,
   "metadata": {},
   "outputs": [],
   "source": []
  },
  {
   "cell_type": "code",
   "execution_count": null,
   "metadata": {},
   "outputs": [],
   "source": []
  },
  {
   "cell_type": "code",
   "execution_count": null,
   "metadata": {},
   "outputs": [],
   "source": [
    "def image_generator2(files):\n",
    "    da = DocumentArray()\n",
    "    for idx, filename in enumerate(files):\n",
    "        doc = Document(uri=filename)\n",
    "        doc.convert_image_uri_to_blob()\n",
    "        da.append(doc)"
   ]
  },
  {
   "cell_type": "code",
   "execution_count": null,
   "metadata": {},
   "outputs": [],
   "source": [
    "%time aux = image_generator(files)"
   ]
  },
  {
   "cell_type": "code",
   "execution_count": null,
   "metadata": {},
   "outputs": [],
   "source": [
    "def image_generator2(files):\n",
    "    da = DocumentArray()\n",
    "    for idx, filename in enumerate(files):\n",
    "        doc = Document(uri=filename)\n",
    "        doc.convert_image_uri_to_blob()\n",
    "        da.append(doc)"
   ]
  },
  {
   "cell_type": "code",
   "execution_count": null,
   "metadata": {},
   "outputs": [],
   "source": []
  },
  {
   "cell_type": "code",
   "execution_count": null,
   "metadata": {},
   "outputs": [],
   "source": []
  },
  {
   "cell_type": "code",
   "execution_count": null,
   "metadata": {},
   "outputs": [],
   "source": []
  },
  {
   "cell_type": "code",
   "execution_count": null,
   "metadata": {},
   "outputs": [],
   "source": [
    "##"
   ]
  },
  {
   "cell_type": "code",
   "execution_count": null,
   "metadata": {},
   "outputs": [],
   "source": []
  },
  {
   "cell_type": "code",
   "execution_count": null,
   "metadata": {},
   "outputs": [],
   "source": []
  },
  {
   "cell_type": "code",
   "execution_count": null,
   "metadata": {},
   "outputs": [],
   "source": []
  },
  {
   "cell_type": "code",
   "execution_count": null,
   "metadata": {},
   "outputs": [],
   "source": []
  },
  {
   "cell_type": "code",
   "execution_count": null,
   "metadata": {},
   "outputs": [],
   "source": []
  },
  {
   "cell_type": "code",
   "execution_count": null,
   "metadata": {},
   "outputs": [],
   "source": []
  },
  {
   "cell_type": "markdown",
   "metadata": {},
   "source": [
    "## Cythonizing code"
   ]
  },
  {
   "cell_type": "code",
   "execution_count": null,
   "metadata": {},
   "outputs": [],
   "source": [
    "raw_img.load()\n",
    "e = Image._getencoder(raw_img.mode, 'raw', raw_img.mode)\n",
    "e.setimage(raw_img.im)"
   ]
  },
  {
   "cell_type": "code",
   "execution_count": null,
   "metadata": {},
   "outputs": [],
   "source": [
    "def to_numpy(raw_img):\n",
    "    cache = 2**16\n",
    "    \n",
    "    raw_img.load()\n",
    "    e = Image._getencoder(raw_img.mode, 'raw', raw_img.mode)\n",
    "    e.setimage(raw_img.im)\n",
    "\n",
    "    shape, typestr = Image._conv_type_shape(raw_img)\n",
    "    data = np.empty(shape, dtype=np.dtype(typestr))\n",
    "    mem = data.data.cast('B', (data.data.nbytes,))\n",
    "    \n",
    "    bufsize, stop_flag, offset = cache, 0, 0 \n",
    "    while stop_flag == 0:\n",
    "        l, stop_flag, im_chunk = e.encode(bufsize)\n",
    "        mem[offset:offset + len(im_chunk)] = im_chunk\n",
    "        offset += len(im_chunk)\n",
    "\n",
    "    return data"
   ]
  },
  {
   "cell_type": "code",
   "execution_count": null,
   "metadata": {
    "scrolled": false
   },
   "outputs": [],
   "source": [
    "%timeit img = to_numpy(raw_img)"
   ]
  },
  {
   "cell_type": "code",
   "execution_count": null,
   "metadata": {
    "scrolled": true
   },
   "outputs": [],
   "source": [
    "raw_img.size, img.shape"
   ]
  },
  {
   "cell_type": "markdown",
   "metadata": {},
   "source": [
    "If we load all the data into memory it does not fit in L1 cache and it becomes less performant"
   ]
  },
  {
   "cell_type": "code",
   "execution_count": null,
   "metadata": {},
   "outputs": [],
   "source": [
    "\n",
    "def to_numpy2(raw_img):\n",
    "    \n",
    "    # NumPy buffer for the result\n",
    "    shape, typestr = Image._conv_type_shape(raw_img)\n",
    "    data = np.empty(shape, dtype=np.dtype(typestr))\n",
    "    mem = data.data.cast('B', (data.data.nbytes,))\n",
    "    \n",
    "    mem[0:] = raw_img.tobytes()\n",
    "    \n",
    "    if s < 0:\n",
    "        raise RuntimeError(\"encoder error %d in tobytes\" % s)\n",
    "    return data "
   ]
  },
  {
   "cell_type": "code",
   "execution_count": null,
   "metadata": {},
   "outputs": [],
   "source": [
    "raw_img = Image.open(source)"
   ]
  },
  {
   "cell_type": "code",
   "execution_count": null,
   "metadata": {},
   "outputs": [],
   "source": [
    "# note that this is very slow due to \n",
    "# memory having to go to RAM vs beein in cache\n",
    "%timeit mem = raw_img.tobytes()"
   ]
  },
  {
   "cell_type": "code",
   "execution_count": null,
   "metadata": {
    "scrolled": false
   },
   "outputs": [],
   "source": [
    "raw_img = Image.open(source)\n",
    "%timeit img = to_numpy2(raw_img)"
   ]
  },
  {
   "cell_type": "markdown",
   "metadata": {},
   "source": [
    "We can cythonize the loop to achieve better performance"
   ]
  },
  {
   "cell_type": "code",
   "execution_count": null,
   "metadata": {},
   "outputs": [],
   "source": [
    "%%cython -a\n",
    "cimport numpy as cnp\n",
    "import numpy as np\n",
    "cimport cython\n",
    "from PIL import Image \n",
    "\n",
    "@cython.boundscheck(False)\n",
    "@cython.wraparound(False)\n",
    "\n",
    "cdef fill_in_array(array, mem, n_x, n_y, n_c):\n",
    "    for \n",
    "\n",
    "def to_numpy3(raw_img):\n",
    "\n",
    "    # NumPy buffer for the result\n",
    "    shape, typestr = Image._conv_type_shape(raw_img)\n",
    "    data = np.empty(shape, dtype=np.dtype(typestr))\n",
    "    mem = data.data.cast('B', (data.data.nbytes,))\n",
    "    \n",
    "    bufsize, s, offset = 65536, 0, 0\n",
    "    #mem[0:] = raw_img.tobytes()\n",
    "    n_x, n_y, n_c = shape    \n",
    "    fill_in_array(data, mem, n_x, n_y, n_c)\n",
    "    \n",
    "    if s < 0:\n",
    "        raise RuntimeError(\"encoder error %d in tobytes\" % s)\n",
    "    return data \n",
    "        "
   ]
  },
  {
   "cell_type": "code",
   "execution_count": null,
   "metadata": {},
   "outputs": [],
   "source": [
    "%time img = to_numpy3(raw_img)"
   ]
  },
  {
   "cell_type": "code",
   "execution_count": null,
   "metadata": {},
   "outputs": [],
   "source": []
  },
  {
   "cell_type": "code",
   "execution_count": null,
   "metadata": {},
   "outputs": [],
   "source": [
    "#Same as\n",
    "#data.shape[0] * data.shape[1] * data.shape[2]  \n",
    "len(mem)"
   ]
  },
  {
   "cell_type": "code",
   "execution_count": null,
   "metadata": {},
   "outputs": [],
   "source": []
  },
  {
   "cell_type": "code",
   "execution_count": null,
   "metadata": {},
   "outputs": [],
   "source": []
  },
  {
   "cell_type": "code",
   "execution_count": null,
   "metadata": {},
   "outputs": [],
   "source": []
  },
  {
   "cell_type": "markdown",
   "metadata": {},
   "source": [
    "### benchmarking to_numpy"
   ]
  },
  {
   "cell_type": "code",
   "execution_count": null,
   "metadata": {},
   "outputs": [],
   "source": [
    "64000/2**14"
   ]
  },
  {
   "cell_type": "code",
   "execution_count": null,
   "metadata": {
    "ExecuteTime": {
     "end_time": "2021-08-31T17:25:03.300210Z",
     "start_time": "2021-08-31T17:25:03.284568Z"
    }
   },
   "outputs": [],
   "source": [
    "def to_numpy(im_path):\n",
    "    #im = Image.open(im_path)\n",
    "    im.load()\n",
    "    # unpack data\n",
    "    e = Image._getencoder(im.mode, 'raw', im.mode)\n",
    "    e.setimage(im.im)\n",
    "\n",
    "    # NumPy buffer for the result\n",
    "    shape, typestr = Image._conv_type_shape(im)\n",
    "    data = np.empty(shape, dtype=np.dtype(typestr))\n",
    "    mem = data.data.cast('B', (data.data.nbytes,))\n",
    "\n",
    "    bufsize, s, offset = 65536, 0, 0\n",
    "    while not s:\n",
    "        l, s, d = e.encode(bufsize)\n",
    "        mem[offset:offset + len(d)] = d\n",
    "        offset += len(d)\n",
    "    if s < 0:\n",
    "        raise RuntimeError(\"encoder error %d in tobytes\" % s)\n",
    "    return data"
   ]
  },
  {
   "cell_type": "code",
   "execution_count": null,
   "metadata": {
    "ExecuteTime": {
     "end_time": "2021-08-31T17:27:23.859510Z",
     "start_time": "2021-08-31T17:25:10.064309Z"
    }
   },
   "outputs": [],
   "source": [
    "for i in range(6, 0, -1):\n",
    "    i = 128 * 2 ** i\n",
    "    print(f'\\n\\nSize: {i}x{i}   \\t{i*i // 1024} KPx')\n",
    "    im = Image.new('RGB', (i, i))\n",
    "    print('\\tnumpy.array()')\n",
    "    %timeit n = np.array(im)\n",
    "    print('\\tnumpy.asarray()')\n",
    "    %timeit n = np.asarray(im)\n",
    "    print('\\tto_numpy()')\n",
    "    %timeit n = to_numpy(im)\n",
    "    im = None"
   ]
  },
  {
   "cell_type": "code",
   "execution_count": null,
   "metadata": {},
   "outputs": [],
   "source": [
    "data,"
   ]
  },
  {
   "cell_type": "code",
   "execution_count": null,
   "metadata": {},
   "outputs": [],
   "source": []
  },
  {
   "cell_type": "code",
   "execution_count": null,
   "metadata": {},
   "outputs": [],
   "source": []
  },
  {
   "cell_type": "code",
   "execution_count": null,
   "metadata": {},
   "outputs": [],
   "source": []
  },
  {
   "cell_type": "markdown",
   "metadata": {},
   "source": [
    "#### Convert image uri to blob\n",
    "\n",
    "\n",
    "In the following lines we can see that the method `convert_image_uri_to_blob` takes a considerable time\n",
    "\n",
    "Note tha the function\n",
    "```python\n",
    "    def convert_image_uri_to_blob(\n",
    "        self, color_axis: int = -1, uri_prefix: Optional[str] = None\n",
    "    ):\n",
    "        self.blob = to_image_blob(\n",
    "            (uri_prefix + self.uri) if uri_prefix else self.uri, color_axis\n",
    "        )\n",
    " ```\n",
    "   \n",
    "Is basically calling `to_image_blob`\n",
    "   \n",
    "```python\n",
    "def to_image_blob(source, color_axis: int = -1) -> 'np.ndarray':\n",
    "    from PIL import Image\n",
    "\n",
    "    raw_img = Image.open(source).convert('RGB')\n",
    "    img = np.array(raw_img).astype('float32')\n",
    "    if color_axis != -1:\n",
    "        img = np.moveaxis(img, -1, color_axis)\n",
    "    return img\n",
    "\n",
    "```"
   ]
  },
  {
   "cell_type": "code",
   "execution_count": null,
   "metadata": {},
   "outputs": [],
   "source": []
  },
  {
   "cell_type": "code",
   "execution_count": null,
   "metadata": {
    "ExecuteTime": {
     "end_time": "2021-08-31T15:21:21.194379Z",
     "start_time": "2021-08-31T15:21:21.180315Z"
    }
   },
   "outputs": [],
   "source": [
    "doc = Document(uri=files[0])"
   ]
  },
  {
   "cell_type": "code",
   "execution_count": null,
   "metadata": {
    "ExecuteTime": {
     "end_time": "2021-08-31T15:21:21.318956Z",
     "start_time": "2021-08-31T15:21:21.293382Z"
    }
   },
   "outputs": [],
   "source": [
    "%time doc.convert_image_uri_to_blob()"
   ]
  },
  {
   "cell_type": "code",
   "execution_count": null,
   "metadata": {
    "ExecuteTime": {
     "end_time": "2021-08-31T15:21:21.756024Z",
     "start_time": "2021-08-31T15:21:21.717877Z"
    }
   },
   "outputs": [],
   "source": [
    "doc = Document(uri=files[0])\n",
    "doc.convert_image_uri_to_blob()\n",
    "doc.blob.shape, doc.blob.dtype"
   ]
  },
  {
   "cell_type": "code",
   "execution_count": null,
   "metadata": {
    "ExecuteTime": {
     "end_time": "2021-08-31T15:21:22.163247Z",
     "start_time": "2021-08-31T15:21:22.142515Z"
    }
   },
   "outputs": [],
   "source": [
    "from PIL import Image\n",
    "source=files[0]\n",
    "raw_img = Image.open(source).convert('RGB')"
   ]
  },
  {
   "cell_type": "code",
   "execution_count": null,
   "metadata": {
    "ExecuteTime": {
     "end_time": "2021-08-31T15:21:28.280776Z",
     "start_time": "2021-08-31T15:21:22.557500Z"
    }
   },
   "outputs": [],
   "source": [
    "%timeit raw_img = Image.open(source)"
   ]
  },
  {
   "cell_type": "code",
   "execution_count": null,
   "metadata": {
    "ExecuteTime": {
     "end_time": "2021-08-31T15:21:28.768735Z",
     "start_time": "2021-08-31T15:21:28.743859Z"
    }
   },
   "outputs": [],
   "source": [
    "color_axis = -1\n",
    "raw_img = Image.open(source).convert('RGB')\n",
    "img = np.array(raw_img).astype('float32')\n",
    "if color_axis != -1:\n",
    "    img = np.moveaxis(img, -1, color_axis)"
   ]
  },
  {
   "cell_type": "code",
   "execution_count": null,
   "metadata": {
    "ExecuteTime": {
     "end_time": "2021-08-31T15:21:29.177058Z",
     "start_time": "2021-08-31T15:21:29.161705Z"
    }
   },
   "outputs": [],
   "source": [
    "img.shape"
   ]
  },
  {
   "cell_type": "code",
   "execution_count": null,
   "metadata": {
    "ExecuteTime": {
     "end_time": "2021-08-31T15:21:30.742599Z",
     "start_time": "2021-08-31T15:21:30.716479Z"
    }
   },
   "outputs": [],
   "source": [
    "color_axis = -1\n",
    "raw_img2 = Image.open(source)\n",
    "img2 = np.array(raw_img2).astype('float32')\n",
    "if color_axis != -1:\n",
    "    img2 = np.moveaxis(img, -1, color_axis)"
   ]
  },
  {
   "cell_type": "code",
   "execution_count": null,
   "metadata": {
    "ExecuteTime": {
     "end_time": "2021-08-31T15:21:31.573525Z",
     "start_time": "2021-08-31T15:21:31.559918Z"
    }
   },
   "outputs": [],
   "source": [
    "img2.shape, img2.dtype"
   ]
  },
  {
   "cell_type": "code",
   "execution_count": null,
   "metadata": {
    "ExecuteTime": {
     "end_time": "2021-08-31T15:21:32.668352Z",
     "start_time": "2021-08-31T15:21:32.651179Z"
    }
   },
   "outputs": [],
   "source": [
    "type(raw_img2), type(raw_img2.convert('RGB'))"
   ]
  },
  {
   "cell_type": "code",
   "execution_count": null,
   "metadata": {
    "ExecuteTime": {
     "end_time": "2021-08-31T15:21:40.750110Z",
     "start_time": "2021-08-31T15:21:34.616922Z"
    }
   },
   "outputs": [],
   "source": [
    "%timeit aux = Image.open(source)"
   ]
  },
  {
   "cell_type": "code",
   "execution_count": null,
   "metadata": {
    "ExecuteTime": {
     "end_time": "2021-08-31T14:57:24.478400Z",
     "start_time": "2021-08-31T14:57:16.050416Z"
    }
   },
   "outputs": [],
   "source": [
    "%timeit aux = Image.open(source)\n",
    "%timeit img = np.asarray(raw_img, dtype='float32')"
   ]
  },
  {
   "cell_type": "code",
   "execution_count": null,
   "metadata": {
    "ExecuteTime": {
     "end_time": "2021-08-31T14:57:34.323469Z",
     "start_time": "2021-08-31T14:57:31.501141Z"
    }
   },
   "outputs": [],
   "source": [
    "%timeit img = np.asarray(raw_img).astype('float32')"
   ]
  },
  {
   "cell_type": "code",
   "execution_count": null,
   "metadata": {
    "ExecuteTime": {
     "end_time": "2021-08-31T14:57:42.186865Z",
     "start_time": "2021-08-31T14:57:38.356034Z"
    }
   },
   "outputs": [],
   "source": [
    "%timeit img = np.array(raw_img).astype('float32')"
   ]
  },
  {
   "cell_type": "markdown",
   "metadata": {},
   "source": [
    "#### Converting image to numpy array without copies"
   ]
  },
  {
   "cell_type": "code",
   "execution_count": null,
   "metadata": {
    "ExecuteTime": {
     "end_time": "2021-08-31T15:21:51.475263Z",
     "start_time": "2021-08-31T15:21:51.462263Z"
    }
   },
   "outputs": [],
   "source": [
    "import numpy \n"
   ]
  },
  {
   "cell_type": "code",
   "execution_count": null,
   "metadata": {
    "ExecuteTime": {
     "end_time": "2021-08-31T15:21:51.949895Z",
     "start_time": "2021-08-31T15:21:51.935952Z"
    }
   },
   "outputs": [],
   "source": [
    "img = Image.open(source)\n",
    "shape, typestr = Image._conv_type_shape(img)\n",
    "data = numpy.empty(shape, dtype=numpy.dtype(typestr))\n",
    "mem = data.data.cast('B', (data.data.nbytes,))"
   ]
  },
  {
   "cell_type": "code",
   "execution_count": null,
   "metadata": {
    "ExecuteTime": {
     "end_time": "2021-08-31T15:21:52.421709Z",
     "start_time": "2021-08-31T15:21:52.406580Z"
    }
   },
   "outputs": [],
   "source": [
    "#data[0],\n",
    "np.array(mem).reshape(shape)[0]"
   ]
  },
  {
   "cell_type": "code",
   "execution_count": null,
   "metadata": {
    "ExecuteTime": {
     "end_time": "2021-08-31T15:22:03.134168Z",
     "start_time": "2021-08-31T15:21:54.341924Z"
    }
   },
   "outputs": [],
   "source": [
    "%timeit img = np.array(Image.open(source))"
   ]
  },
  {
   "cell_type": "code",
   "execution_count": null,
   "metadata": {
    "ExecuteTime": {
     "end_time": "2021-08-31T15:22:06.256869Z",
     "start_time": "2021-08-31T15:22:03.520060Z"
    }
   },
   "outputs": [],
   "source": [
    "%timeit data = numpy.empty(shape, dtype=numpy.dtype(typestr))"
   ]
  },
  {
   "cell_type": "code",
   "execution_count": null,
   "metadata": {
    "ExecuteTime": {
     "end_time": "2021-08-31T15:19:02.283911Z",
     "start_time": "2021-08-31T15:19:02.269689Z"
    }
   },
   "outputs": [],
   "source": [
    "shape, typestr = Image._conv_type_shape(im)\n",
    "data = numpy.empty(shape, dtype=numpy.dtype(typestr))\n",
    "mem = data.data.cast('B', (data.data.nbytes,))\n",
    "\n",
    "bufsize, s, offset = 65536, 0, 0"
   ]
  },
  {
   "cell_type": "code",
   "execution_count": null,
   "metadata": {
    "ExecuteTime": {
     "end_time": "2021-08-31T15:22:57.937872Z",
     "start_time": "2021-08-31T15:22:51.509812Z"
    }
   },
   "outputs": [],
   "source": [
    "%timeit e = Image._getencoder(img.mode, 'raw', img.mode)"
   ]
  },
  {
   "cell_type": "code",
   "execution_count": null,
   "metadata": {
    "ExecuteTime": {
     "end_time": "2021-08-31T15:23:39.318049Z",
     "start_time": "2021-08-31T15:23:39.302306Z"
    },
    "scrolled": true
   },
   "outputs": [],
   "source": [
    "e = Image._getencoder(img.mode, 'raw', img.mode)\n",
    "e.setimage(im)"
   ]
  },
  {
   "cell_type": "code",
   "execution_count": null,
   "metadata": {
    "ExecuteTime": {
     "end_time": "2021-08-31T15:26:42.253611Z",
     "start_time": "2021-08-31T15:26:42.237355Z"
    }
   },
   "outputs": [],
   "source": [
    "np.frombuffer(img)"
   ]
  },
  {
   "cell_type": "code",
   "execution_count": null,
   "metadata": {
    "ExecuteTime": {
     "end_time": "2021-08-31T15:29:45.917081Z",
     "start_time": "2021-08-31T15:29:45.902357Z"
    }
   },
   "outputs": [],
   "source": [
    "\n",
    "e.setimage(img.im)\n",
    "shape, typestr = Image._conv_type_shape(img)\n",
    "data = numpy.empty(shape, dtype=numpy.dtype(typestr))\n",
    "mem = data.data.cast('B', (data.data.nbytes,))\n",
    "\n",
    "bufsize, s, offset = 65536, 0, 0\n",
    "while not s:\n",
    "    l, s, d = e.encode(bufsize)\n",
    "    mem[offset:offset + len(d)] = d\n",
    "    offset += len(d)"
   ]
  },
  {
   "cell_type": "code",
   "execution_count": null,
   "metadata": {
    "ExecuteTime": {
     "end_time": "2021-08-31T15:29:18.913998Z",
     "start_time": "2021-08-31T15:29:18.900786Z"
    }
   },
   "outputs": [],
   "source": [
    "result = np.asarray(mem).reshape(shape)"
   ]
  },
  {
   "cell_type": "code",
   "execution_count": null,
   "metadata": {},
   "outputs": [],
   "source": []
  },
  {
   "cell_type": "code",
   "execution_count": null,
   "metadata": {},
   "outputs": [],
   "source": []
  },
  {
   "cell_type": "code",
   "execution_count": null,
   "metadata": {},
   "outputs": [],
   "source": []
  },
  {
   "cell_type": "code",
   "execution_count": null,
   "metadata": {},
   "outputs": [],
   "source": []
  },
  {
   "cell_type": "code",
   "execution_count": null,
   "metadata": {},
   "outputs": [],
   "source": []
  },
  {
   "cell_type": "code",
   "execution_count": null,
   "metadata": {
    "ExecuteTime": {
     "end_time": "2021-08-31T15:20:52.693368Z",
     "start_time": "2021-08-31T15:20:52.689817Z"
    }
   },
   "outputs": [],
   "source": [
    "def to_mem(source):\n",
    "    img = Image.open(source)\n",
    "\n",
    "    e = Image._getencoder(im.mode, \"raw\", img.mode)\n",
    "    e.setimage(img.im)\n",
    "\n",
    "    \n",
    "    # NumPy buffer for the result\n",
    "    shape, typestr = Image._conv_type_shape(im)\n",
    "    data = numpy.empty(shape, dtype=numpy.dtype(typestr))\n",
    "    mem = data.data.cast('B', (data.data.nbytes,))\n",
    "\n",
    "\n",
    "    bufsize, offset, s = 65536, 0, 0\n",
    "    while not s:\n",
    "        l, s, d = e.encode(bufsize)\n",
    "        mem[offset:offset + len(d)] = d\n",
    "        offset += len(d)\n",
    "    if s < 0:\n",
    "        raise RuntimeError(f\"encoder error {s} in tobytes\")\n",
    "    return mem"
   ]
  },
  {
   "cell_type": "code",
   "execution_count": null,
   "metadata": {
    "ExecuteTime": {
     "end_time": "2021-08-31T15:20:53.332156Z",
     "start_time": "2021-08-31T15:20:53.319486Z"
    }
   },
   "outputs": [],
   "source": [
    "to_mem(files[0])"
   ]
  },
  {
   "cell_type": "code",
   "execution_count": null,
   "metadata": {},
   "outputs": [],
   "source": []
  },
  {
   "cell_type": "code",
   "execution_count": null,
   "metadata": {},
   "outputs": [],
   "source": []
  },
  {
   "cell_type": "code",
   "execution_count": null,
   "metadata": {},
   "outputs": [],
   "source": []
  },
  {
   "cell_type": "code",
   "execution_count": null,
   "metadata": {
    "ExecuteTime": {
     "end_time": "2021-08-31T15:08:32.199693Z",
     "start_time": "2021-08-31T15:08:32.185776Z"
    }
   },
   "outputs": [],
   "source": [
    "def to_image_blob_new(source, color_axis: int = -1) -> 'np.ndarray':\n",
    "\n",
    "    from PIL import Image\n",
    "\n",
    "    img = Image.open(source)\n",
    "    shape, typestr = Image._conv_type_shape(img)\n",
    "    data = numpy.empty(shape, dtype=numpy.dtype(typestr))\n",
    "    mem = data.data.cast('B', (data.data.nbytes,))\n",
    "    \n",
    "    if color_axis != -1:\n",
    "        img = np.moveaxis(img, -1, color_axis)\n",
    "    return mem\n"
   ]
  },
  {
   "cell_type": "code",
   "execution_count": null,
   "metadata": {
    "ExecuteTime": {
     "end_time": "2021-08-31T15:08:41.544301Z",
     "start_time": "2021-08-31T15:08:41.530964Z"
    }
   },
   "outputs": [],
   "source": [
    "aux = to_image_blob_new(files[0])"
   ]
  },
  {
   "cell_type": "code",
   "execution_count": null,
   "metadata": {
    "ExecuteTime": {
     "end_time": "2021-08-31T15:08:36.071131Z",
     "start_time": "2021-08-31T15:08:36.055563Z"
    }
   },
   "outputs": [],
   "source": [
    "mem"
   ]
  },
  {
   "cell_type": "code",
   "execution_count": null,
   "metadata": {},
   "outputs": [],
   "source": []
  },
  {
   "cell_type": "code",
   "execution_count": null,
   "metadata": {},
   "outputs": [],
   "source": []
  },
  {
   "cell_type": "code",
   "execution_count": null,
   "metadata": {
    "ExecuteTime": {
     "end_time": "2021-08-31T14:56:10.922701Z",
     "start_time": "2021-08-31T14:56:10.902127Z"
    }
   },
   "outputs": [],
   "source": [
    "def image_generator2(files):\n",
    "    da = DocumentArray()\n",
    "    for idx, filename in enumerate(files):\n",
    "        doc = Document(uri=filename)\n",
    "        doc.convert_image_uri_to_blob()\n",
    "        da.append(doc)"
   ]
  },
  {
   "cell_type": "code",
   "execution_count": null,
   "metadata": {
    "ExecuteTime": {
     "end_time": "2021-08-31T14:56:16.942775Z",
     "start_time": "2021-08-31T14:56:11.937719Z"
    }
   },
   "outputs": [],
   "source": [
    "%time aux = image_generator(files[0:50])"
   ]
  },
  {
   "cell_type": "code",
   "execution_count": null,
   "metadata": {},
   "outputs": [],
   "source": []
  },
  {
   "cell_type": "code",
   "execution_count": null,
   "metadata": {
    "ExecuteTime": {
     "end_time": "2021-08-31T15:01:24.632204Z",
     "start_time": "2021-08-31T15:01:24.609773Z"
    }
   },
   "outputs": [],
   "source": [
    "def to_numpy(im_path):\n",
    "    im = Image.open(im_path)\n",
    "    im.load()\n",
    "    # unpack data\n",
    "    e = Image._getencoder(im.mode, 'raw', im.mode)\n",
    "    e.setimage(im.im)\n",
    "\n",
    "    # NumPy buffer for the result\n",
    "    shape, typestr = Image._conv_type_shape(im)\n",
    "    data = numpy.empty(shape, dtype=numpy.dtype(typestr))\n",
    "    mem = data.data.cast('B', (data.data.nbytes,))\n",
    "\n",
    "    bufsize, s, offset = 65536, 0, 0\n",
    "    while not s:\n",
    "        l, s, d = e.encode(bufsize)\n",
    "        mem[offset:offset + len(d)] = d\n",
    "        offset += len(d)\n",
    "    if s < 0:\n",
    "        raise RuntimeError(\"encoder error %d in tobytes\" % s)\n",
    "    return data\n"
   ]
  },
  {
   "cell_type": "code",
   "execution_count": null,
   "metadata": {
    "ExecuteTime": {
     "end_time": "2021-08-31T15:02:00.257423Z",
     "start_time": "2021-08-31T15:01:52.421180Z"
    }
   },
   "outputs": [],
   "source": [
    "%timeit to_numpy(files[0])"
   ]
  },
  {
   "cell_type": "code",
   "execution_count": null,
   "metadata": {
    "ExecuteTime": {
     "end_time": "2021-08-31T15:03:12.094444Z",
     "start_time": "2021-08-31T15:03:05.563544Z"
    }
   },
   "outputs": [],
   "source": [
    "im = Image.open(files[0])\n",
    "\n",
    "%timeit e = Image._getencoder(im.mode, 'raw', im.mode)"
   ]
  },
  {
   "cell_type": "code",
   "execution_count": null,
   "metadata": {
    "ExecuteTime": {
     "end_time": "2021-08-31T15:03:23.832196Z",
     "start_time": "2021-08-31T15:03:23.818984Z"
    }
   },
   "outputs": [],
   "source": [
    "e = Image._getencoder(im.mode, 'raw', im.mode)"
   ]
  },
  {
   "cell_type": "code",
   "execution_count": null,
   "metadata": {
    "ExecuteTime": {
     "end_time": "2021-08-31T15:03:33.327616Z",
     "start_time": "2021-08-31T15:03:33.314622Z"
    }
   },
   "outputs": [],
   "source": [
    "shape, typestr = Image._conv_type_shape(im)"
   ]
  },
  {
   "cell_type": "code",
   "execution_count": null,
   "metadata": {
    "ExecuteTime": {
     "end_time": "2021-08-31T15:03:51.707493Z",
     "start_time": "2021-08-31T15:03:48.450246Z"
    }
   },
   "outputs": [],
   "source": [
    "%timeit data = numpy.empty(shape, dtype=numpy.dtype(typestr))"
   ]
  },
  {
   "cell_type": "code",
   "execution_count": null,
   "metadata": {},
   "outputs": [],
   "source": []
  },
  {
   "cell_type": "code",
   "execution_count": null,
   "metadata": {},
   "outputs": [],
   "source": []
  }
 ],
 "metadata": {
  "kernelspec": {
   "display_name": "Python 3",
   "language": "python",
   "name": "python3"
  },
  "language_info": {
   "codemirror_mode": {
    "name": "ipython",
    "version": 3
   },
   "file_extension": ".py",
   "mimetype": "text/x-python",
   "name": "python",
   "nbconvert_exporter": "python",
   "pygments_lexer": "ipython3",
   "version": "3.8.8"
  },
  "toc": {
   "base_numbering": 1,
   "nav_menu": {},
   "number_sections": true,
   "sideBar": true,
   "skip_h1_title": false,
   "title_cell": "Table of Contents",
   "title_sidebar": "Contents",
   "toc_cell": true,
   "toc_position": {},
   "toc_section_display": true,
   "toc_window_display": true
  },
  "varInspector": {
   "cols": {
    "lenName": 16,
    "lenType": 16,
    "lenVar": 40
   },
   "kernels_config": {
    "python": {
     "delete_cmd_postfix": "",
     "delete_cmd_prefix": "del ",
     "library": "var_list.py",
     "varRefreshCmd": "print(var_dic_list())"
    },
    "r": {
     "delete_cmd_postfix": ") ",
     "delete_cmd_prefix": "rm(",
     "library": "var_list.r",
     "varRefreshCmd": "cat(var_dic_list()) "
    }
   },
   "types_to_exclude": [
    "module",
    "function",
    "builtin_function_or_method",
    "instance",
    "_Feature"
   ],
   "window_display": false
  }
 },
 "nbformat": 4,
 "nbformat_minor": 4
}
