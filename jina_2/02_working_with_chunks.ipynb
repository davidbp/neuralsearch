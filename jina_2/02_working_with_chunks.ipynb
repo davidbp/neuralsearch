{
 "cells": [
  {
   "cell_type": "markdown",
   "metadata": {
    "toc": true
   },
   "source": [
    "<h1>Table of Contents<span class=\"tocSkip\"></span></h1>\n",
    "<div class=\"toc\"><ul class=\"toc-item\"><li><span><a href=\"#Documents-and-chunks\" data-toc-modified-id=\"Documents-and-chunks-1\"><span class=\"toc-item-num\">1&nbsp;&nbsp;</span>Documents and chunks</a></span><ul class=\"toc-item\"><li><span><a href=\"#Getting-matches\" data-toc-modified-id=\"Getting-matches-1.1\"><span class=\"toc-item-num\">1.1&nbsp;&nbsp;</span>Getting matches</a></span></li></ul></li><li><span><a href=\"#Segmenters\" data-toc-modified-id=\"Segmenters-2\"><span class=\"toc-item-num\">2&nbsp;&nbsp;</span>Segmenters</a></span></li></ul></div>"
   ]
  },
  {
   "cell_type": "markdown",
   "metadata": {},
   "source": [
    "## Documents and chunks"
   ]
  },
  {
   "cell_type": "markdown",
   "metadata": {},
   "source": [
    "When a `Document` is created it has acces to a `chunks` field"
   ]
  },
  {
   "cell_type": "code",
   "execution_count": 62,
   "metadata": {
    "ExecuteTime": {
     "end_time": "2021-05-18T13:55:35.177811Z",
     "start_time": "2021-05-18T13:55:35.174667Z"
    }
   },
   "outputs": [
    {
     "name": "stdout",
     "output_type": "stream",
     "text": [
      "0\n"
     ]
    }
   ],
   "source": [
    "from jina import Document\n",
    "\n",
    "with Document() as root:\n",
    "    root.text = 'What is love? Oh baby do not hurt me.'\n",
    "\n",
    "print(root.adjacency)                  # outputs 0"
   ]
  },
  {
   "cell_type": "markdown",
   "metadata": {},
   "source": [
    "We can see that the filed `.chunks` returns a `ChunkArray`"
   ]
  },
  {
   "cell_type": "code",
   "execution_count": 63,
   "metadata": {
    "ExecuteTime": {
     "end_time": "2021-05-18T13:55:35.511945Z",
     "start_time": "2021-05-18T13:55:35.498229Z"
    }
   },
   "outputs": [
    {
     "data": {
      "text/plain": [
       "<jina.types.arrays.chunk.ChunkArray length=0 at 140245189713584>"
      ]
     },
     "execution_count": 63,
     "metadata": {},
     "output_type": "execute_result"
    }
   ],
   "source": [
    "root.chunks"
   ]
  },
  {
   "cell_type": "markdown",
   "metadata": {},
   "source": [
    "Underneath Jina is creating at runtime a ChunkArray Object from the `._pb_body.chunks` field\n",
    "\n",
    "```python\n",
    "  @property\n",
    "    def chunks(self) -> 'ChunkArray':\n",
    "        \"\"\"Get all chunks of the current document.\n",
    "\n",
    "        :return: the array of chunks of this document\n",
    "        \"\"\"\n",
    "        return ChunkArray(self._pb_body.chunks, reference_doc=self)\n",
    "```"
   ]
  },
  {
   "cell_type": "markdown",
   "metadata": {},
   "source": [
    "Note that since we just created a Document with text we will not have anythin in the chunks"
   ]
  },
  {
   "cell_type": "code",
   "execution_count": 64,
   "metadata": {
    "ExecuteTime": {
     "end_time": "2021-05-18T13:55:35.963930Z",
     "start_time": "2021-05-18T13:55:35.960183Z"
    }
   },
   "outputs": [
    {
     "data": {
      "text/plain": [
       "[]"
      ]
     },
     "execution_count": 64,
     "metadata": {},
     "output_type": "execute_result"
    }
   ],
   "source": [
    "root._pb_body.chunks"
   ]
  },
  {
   "cell_type": "code",
   "execution_count": 65,
   "metadata": {
    "ExecuteTime": {
     "end_time": "2021-05-18T13:55:36.177764Z",
     "start_time": "2021-05-18T13:55:36.173832Z"
    }
   },
   "outputs": [],
   "source": [
    "\n",
    "# Initialise two Documents and add as chunks to root.\n",
    "with Document() as chunk1:\n",
    "    chunk1.text = 'What is love?'\n",
    "    root.chunks.append(chunk1)\n",
    "\n",
    "with Document() as chunk2:\n",
    "    chunk2.text = 'Oh baby do not hurt me.'\n",
    "    root.chunks.append(chunk2)\n"
   ]
  },
  {
   "cell_type": "markdown",
   "metadata": {},
   "source": [
    "Now we will have two chunks"
   ]
  },
  {
   "cell_type": "code",
   "execution_count": 66,
   "metadata": {
    "ExecuteTime": {
     "end_time": "2021-05-18T13:55:36.629519Z",
     "start_time": "2021-05-18T13:55:36.624166Z"
    },
    "scrolled": true
   },
   "outputs": [
    {
     "data": {
      "text/plain": [
       "[id: \"b88d355e-b7e0-11eb-bafd-787b8ab3f5de\"\n",
       "mime_type: \"text/plain\"\n",
       "text: \"What is love?\"\n",
       "granularity: 1\n",
       "parent_id: \"b7f4b09a-b7e0-11eb-bafd-787b8ab3f5de\"\n",
       "content_hash: \"d12a28ebfdc62258\"\n",
       ", id: \"b88d516a-b7e0-11eb-bafd-787b8ab3f5de\"\n",
       "mime_type: \"text/plain\"\n",
       "text: \"Oh baby do not hurt me.\"\n",
       "granularity: 1\n",
       "parent_id: \"b7f4b09a-b7e0-11eb-bafd-787b8ab3f5de\"\n",
       "content_hash: \"c0781807296e94d1\"\n",
       "]"
      ]
     },
     "execution_count": 66,
     "metadata": {},
     "output_type": "execute_result"
    }
   ],
   "source": [
    "root._pb_body.chunks"
   ]
  },
  {
   "cell_type": "markdown",
   "metadata": {},
   "source": [
    "To access the text inside each chunk we can do"
   ]
  },
  {
   "cell_type": "code",
   "execution_count": 67,
   "metadata": {
    "ExecuteTime": {
     "end_time": "2021-05-18T13:55:37.324502Z",
     "start_time": "2021-05-18T13:55:37.321082Z"
    }
   },
   "outputs": [
    {
     "data": {
      "text/plain": [
       "'What is love?'"
      ]
     },
     "execution_count": 67,
     "metadata": {},
     "output_type": "execute_result"
    }
   ],
   "source": [
    "root.chunks[0].text"
   ]
  },
  {
   "cell_type": "code",
   "execution_count": 68,
   "metadata": {
    "ExecuteTime": {
     "end_time": "2021-05-18T13:55:37.707147Z",
     "start_time": "2021-05-18T13:55:37.703693Z"
    }
   },
   "outputs": [
    {
     "data": {
      "text/plain": [
       "'Oh baby do not hurt me.'"
      ]
     },
     "execution_count": 68,
     "metadata": {},
     "output_type": "execute_result"
    }
   ],
   "source": [
    "root.chunks[1].text"
   ]
  },
  {
   "cell_type": "markdown",
   "metadata": {},
   "source": [
    "### Getting matches"
   ]
  },
  {
   "cell_type": "code",
   "execution_count": 70,
   "metadata": {
    "ExecuteTime": {
     "end_time": "2021-05-18T14:28:15.450060Z",
     "start_time": "2021-05-18T14:28:15.447214Z"
    }
   },
   "outputs": [
    {
     "data": {
      "text/plain": [
       "[]"
      ]
     },
     "execution_count": 70,
     "metadata": {},
     "output_type": "execute_result"
    }
   ],
   "source": [
    "root._pb_body.matches"
   ]
  },
  {
   "cell_type": "code",
   "execution_count": 72,
   "metadata": {
    "ExecuteTime": {
     "end_time": "2021-05-18T14:28:23.754596Z",
     "start_time": "2021-05-18T14:28:23.750745Z"
    }
   },
   "outputs": [
    {
     "name": "stdout",
     "output_type": "stream",
     "text": [
      "1\n",
      "0\n",
      "1\n"
     ]
    }
   ],
   "source": [
    "\n",
    "# Add a match Document.\n",
    "with Document() as match:\n",
    "    # a match Document semantically related to our root\n",
    "    match.text = 'What is love? Oh please do not hurt me.'\n",
    "    root.matches.append(match)\n",
    "\n",
    "print(len(root.matches))               # outputs 1\n",
    "print(root.matches[0].granularity)     # outputs 0\n",
    "print(root.matches[0].adjacency)       # outputs 1"
   ]
  },
  {
   "cell_type": "markdown",
   "metadata": {},
   "source": [
    "## Segmenters\n",
    "\n",
    "A Segmenter is the name that Jina uses to define classes that partition (or segment) the data into chunks. \n",
    "\n"
   ]
  },
  {
   "cell_type": "code",
   "execution_count": null,
   "metadata": {},
   "outputs": [],
   "source": []
  },
  {
   "cell_type": "code",
   "execution_count": null,
   "metadata": {},
   "outputs": [],
   "source": []
  },
  {
   "cell_type": "code",
   "execution_count": null,
   "metadata": {},
   "outputs": [],
   "source": []
  },
  {
   "cell_type": "code",
   "execution_count": null,
   "metadata": {},
   "outputs": [],
   "source": []
  },
  {
   "cell_type": "code",
   "execution_count": null,
   "metadata": {},
   "outputs": [],
   "source": []
  }
 ],
 "metadata": {
  "kernelspec": {
   "display_name": "Python 3",
   "language": "python",
   "name": "python3"
  },
  "language_info": {
   "codemirror_mode": {
    "name": "ipython",
    "version": 3
   },
   "file_extension": ".py",
   "mimetype": "text/x-python",
   "name": "python",
   "nbconvert_exporter": "python",
   "pygments_lexer": "ipython3",
   "version": "3.8.5"
  },
  "toc": {
   "base_numbering": 1,
   "nav_menu": {},
   "number_sections": true,
   "sideBar": true,
   "skip_h1_title": false,
   "title_cell": "Table of Contents",
   "title_sidebar": "Contents",
   "toc_cell": true,
   "toc_position": {},
   "toc_section_display": true,
   "toc_window_display": true
  },
  "varInspector": {
   "cols": {
    "lenName": 16,
    "lenType": 16,
    "lenVar": 40
   },
   "kernels_config": {
    "python": {
     "delete_cmd_postfix": "",
     "delete_cmd_prefix": "del ",
     "library": "var_list.py",
     "varRefreshCmd": "print(var_dic_list())"
    },
    "r": {
     "delete_cmd_postfix": ") ",
     "delete_cmd_prefix": "rm(",
     "library": "var_list.r",
     "varRefreshCmd": "cat(var_dic_list()) "
    }
   },
   "types_to_exclude": [
    "module",
    "function",
    "builtin_function_or_method",
    "instance",
    "_Feature"
   ],
   "window_display": false
  }
 },
 "nbformat": 4,
 "nbformat_minor": 5
}
