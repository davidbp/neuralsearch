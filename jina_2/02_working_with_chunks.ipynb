{
 "cells": [
  {
   "cell_type": "markdown",
   "metadata": {
    "toc": true
   },
   "source": [
    "<h1>Table of Contents<span class=\"tocSkip\"></span></h1>\n",
    "<div class=\"toc\"><ul class=\"toc-item\"><li><span><a href=\"#Documents-and-chunks\" data-toc-modified-id=\"Documents-and-chunks-1\"><span class=\"toc-item-num\">1&nbsp;&nbsp;</span>Documents and chunks</a></span><ul class=\"toc-item\"><li><span><a href=\"#Getting-matches\" data-toc-modified-id=\"Getting-matches-1.1\"><span class=\"toc-item-num\">1.1&nbsp;&nbsp;</span>Getting matches</a></span></li></ul></li><li><span><a href=\"#Iterating-over-chunks-of-a-DocumentArray\" data-toc-modified-id=\"Iterating-over-chunks-of-a-DocumentArray-2\"><span class=\"toc-item-num\">2&nbsp;&nbsp;</span>Iterating over chunks of a DocumentArray</a></span><ul class=\"toc-item\"><li><ul class=\"toc-item\"><li><span><a href=\"#Traversal-paths\" data-toc-modified-id=\"Traversal-paths-2.0.1\"><span class=\"toc-item-num\">2.0.1&nbsp;&nbsp;</span>Traversal paths</a></span></li><li><span><a href=\"#Chunk-Traversal\" data-toc-modified-id=\"Chunk-Traversal-2.0.2\"><span class=\"toc-item-num\">2.0.2&nbsp;&nbsp;</span>Chunk Traversal</a></span></li><li><span><a href=\"#Root-Traversal\" data-toc-modified-id=\"Root-Traversal-2.0.3\"><span class=\"toc-item-num\">2.0.3&nbsp;&nbsp;</span>Root Traversal</a></span></li></ul></li></ul></li><li><span><a href=\"#Segmenters\" data-toc-modified-id=\"Segmenters-3\"><span class=\"toc-item-num\">3&nbsp;&nbsp;</span>Segmenters</a></span></li></ul></div>"
   ]
  },
  {
   "cell_type": "markdown",
   "metadata": {},
   "source": [
    "## Documents and chunks"
   ]
  },
  {
   "cell_type": "markdown",
   "metadata": {},
   "source": [
    "When a `Document` is created it has acces to a `chunks` field"
   ]
  },
  {
   "cell_type": "code",
   "execution_count": 2,
   "metadata": {
    "ExecuteTime": {
     "end_time": "2021-05-19T09:02:10.625571Z",
     "start_time": "2021-05-19T09:02:10.623017Z"
    }
   },
   "outputs": [
    {
     "name": "stdout",
     "output_type": "stream",
     "text": [
      "0\n"
     ]
    }
   ],
   "source": [
    "from jina import Document\n",
    "\n",
    "with Document() as root:\n",
    "    root.text = 'What is love? Oh baby do not hurt me.'\n",
    "\n",
    "print(root.adjacency)                  # outputs 0"
   ]
  },
  {
   "cell_type": "markdown",
   "metadata": {},
   "source": [
    "We can see that the filed `.chunks` returns a `ChunkArray`"
   ]
  },
  {
   "cell_type": "code",
   "execution_count": 3,
   "metadata": {
    "ExecuteTime": {
     "end_time": "2021-05-19T09:02:10.636379Z",
     "start_time": "2021-05-19T09:02:10.626988Z"
    }
   },
   "outputs": [
    {
     "data": {
      "text/plain": [
       "<jina.types.arrays.chunk.ChunkArray length=0 at 140479529883056>"
      ]
     },
     "execution_count": 3,
     "metadata": {},
     "output_type": "execute_result"
    }
   ],
   "source": [
    "root.chunks"
   ]
  },
  {
   "cell_type": "markdown",
   "metadata": {},
   "source": [
    "Underneath Jina is creating at runtime a ChunkArray Object from the `._pb_body.chunks` field\n",
    "\n",
    "```python\n",
    "  @property\n",
    "    def chunks(self) -> 'ChunkArray':\n",
    "        \"\"\"Get all chunks of the current document.\n",
    "\n",
    "        :return: the array of chunks of this document\n",
    "        \"\"\"\n",
    "        return ChunkArray(self._pb_body.chunks, reference_doc=self)\n",
    "```"
   ]
  },
  {
   "cell_type": "markdown",
   "metadata": {},
   "source": [
    "Note that since we just created a Document with text we will not have anythin in the chunks"
   ]
  },
  {
   "cell_type": "code",
   "execution_count": 4,
   "metadata": {
    "ExecuteTime": {
     "end_time": "2021-05-19T09:02:12.671585Z",
     "start_time": "2021-05-19T09:02:12.668838Z"
    }
   },
   "outputs": [
    {
     "data": {
      "text/plain": [
       "[]"
      ]
     },
     "execution_count": 4,
     "metadata": {},
     "output_type": "execute_result"
    }
   ],
   "source": [
    "root._pb_body.chunks"
   ]
  },
  {
   "cell_type": "code",
   "execution_count": 5,
   "metadata": {
    "ExecuteTime": {
     "end_time": "2021-05-19T09:02:12.897326Z",
     "start_time": "2021-05-19T09:02:12.894039Z"
    }
   },
   "outputs": [],
   "source": [
    "\n",
    "# Initialise two Documents and add as chunks to root.\n",
    "with Document() as chunk1:\n",
    "    chunk1.text = 'What is love?'\n",
    "    root.chunks.append(chunk1)\n",
    "\n",
    "with Document() as chunk2:\n",
    "    chunk2.text = 'Oh baby do not hurt me.'\n",
    "    root.chunks.append(chunk2)\n"
   ]
  },
  {
   "cell_type": "markdown",
   "metadata": {},
   "source": [
    "Now we will have two chunks"
   ]
  },
  {
   "cell_type": "code",
   "execution_count": 6,
   "metadata": {
    "ExecuteTime": {
     "end_time": "2021-05-19T09:02:13.481808Z",
     "start_time": "2021-05-19T09:02:13.479255Z"
    },
    "scrolled": true
   },
   "outputs": [
    {
     "data": {
      "text/plain": [
       "[id: \"e69792f0-b880-11eb-9de2-787b8ab3f5de\"\n",
       "mime_type: \"text/plain\"\n",
       "text: \"What is love?\"\n",
       "granularity: 1\n",
       "parent_id: \"e53d0714-b880-11eb-9de2-787b8ab3f5de\"\n",
       "content_hash: \"d12a28ebfdc62258\"\n",
       ", id: \"e697adf8-b880-11eb-9de2-787b8ab3f5de\"\n",
       "mime_type: \"text/plain\"\n",
       "text: \"Oh baby do not hurt me.\"\n",
       "granularity: 1\n",
       "parent_id: \"e53d0714-b880-11eb-9de2-787b8ab3f5de\"\n",
       "content_hash: \"c0781807296e94d1\"\n",
       "]"
      ]
     },
     "execution_count": 6,
     "metadata": {},
     "output_type": "execute_result"
    }
   ],
   "source": [
    "root._pb_body.chunks"
   ]
  },
  {
   "cell_type": "markdown",
   "metadata": {},
   "source": [
    "To access the text inside each chunk we can do"
   ]
  },
  {
   "cell_type": "code",
   "execution_count": 7,
   "metadata": {
    "ExecuteTime": {
     "end_time": "2021-05-19T09:02:14.133898Z",
     "start_time": "2021-05-19T09:02:14.131366Z"
    }
   },
   "outputs": [
    {
     "data": {
      "text/plain": [
       "'What is love?'"
      ]
     },
     "execution_count": 7,
     "metadata": {},
     "output_type": "execute_result"
    }
   ],
   "source": [
    "root.chunks[0].text"
   ]
  },
  {
   "cell_type": "code",
   "execution_count": 8,
   "metadata": {
    "ExecuteTime": {
     "end_time": "2021-05-19T09:02:14.336852Z",
     "start_time": "2021-05-19T09:02:14.334118Z"
    }
   },
   "outputs": [
    {
     "data": {
      "text/plain": [
       "'Oh baby do not hurt me.'"
      ]
     },
     "execution_count": 8,
     "metadata": {},
     "output_type": "execute_result"
    }
   ],
   "source": [
    "root.chunks[1].text"
   ]
  },
  {
   "cell_type": "markdown",
   "metadata": {},
   "source": [
    "### Getting matches"
   ]
  },
  {
   "cell_type": "code",
   "execution_count": 10,
   "metadata": {
    "ExecuteTime": {
     "end_time": "2021-05-19T09:02:15.809968Z",
     "start_time": "2021-05-19T09:02:15.807436Z"
    }
   },
   "outputs": [
    {
     "data": {
      "text/plain": [
       "[]"
      ]
     },
     "execution_count": 10,
     "metadata": {},
     "output_type": "execute_result"
    }
   ],
   "source": [
    "root._pb_body.matches"
   ]
  },
  {
   "cell_type": "code",
   "execution_count": 13,
   "metadata": {
    "ExecuteTime": {
     "end_time": "2021-05-19T09:04:45.742562Z",
     "start_time": "2021-05-19T09:04:45.739065Z"
    }
   },
   "outputs": [
    {
     "name": "stdout",
     "output_type": "stream",
     "text": [
      "3\n",
      "0\n",
      "1\n"
     ]
    }
   ],
   "source": [
    "\n",
    "# Add a match Document.\n",
    "with Document() as match:\n",
    "    # a match Document semantically related to our root\n",
    "    match.text = 'What is love? Oh please do not hurt me.'\n",
    "    root.matches.append(match)\n",
    "\n",
    "print(len(root.matches))               # outputs 1\n",
    "print(root.matches[0].granularity)     # outputs 0\n",
    "print(root.matches[0].adjacency)       # outputs 1"
   ]
  },
  {
   "cell_type": "code",
   "execution_count": 20,
   "metadata": {
    "ExecuteTime": {
     "end_time": "2021-05-19T09:05:20.527756Z",
     "start_time": "2021-05-19T09:05:20.524446Z"
    }
   },
   "outputs": [
    {
     "data": {
      "text/html": [
       "<img src=\"https://mermaid.ink/svg/JSV7aW5pdDogeyd0aGVtZSc6ICdiYXNlJywgJ3RoZW1lVmFyaWFibGVzJzogeyAncHJpbWFyeUNvbG9yJzogJyNGRkM2NjYnfX19JSUKICAgICAgICAgICAgICAgICAgICBjbGFzc0RpYWdyYW0KICAgICAgICAgICAgICAgIAogICAgICAgICAgICAgICAgICAgICAgICAgICAgM2E4fkRvY3VtZW50fiAtLT4gIjEvMiIgOTU2fkRvY3VtZW50fjogY2h1bmtzCmNsYXNzIDk1Nn5Eb2N1bWVudH57CitpZCBlNjk3OTJmMC1iCittaW1lX3R5cGUgdGV4dC9wbGFpbgordGV4dCBXaGF0IGlzIGxvCitncmFudWxhcml0eSAxCitwYXJlbnRfaWQgZTUzZDA3MTQtYgorY29udGVudF9oYXNoIGQxMmEyOGViZmQKfQozYTh+RG9jdW1lbnR+IC0tPiAiMi8yIiBjOGJ+RG9jdW1lbnR+OiBjaHVua3MKY2xhc3MgYzhifkRvY3VtZW50fnsKK2lkIGU2OTdhZGY4LWIKK21pbWVfdHlwZSB0ZXh0L3BsYWluCit0ZXh0IE9oIGJhYnkgZG8KK2dyYW51bGFyaXR5IDEKK3BhcmVudF9pZCBlNTNkMDcxNC1iCitjb250ZW50X2hhc2ggYzA3ODE4MDcyOQp9CjNhOH5Eb2N1bWVudH4gLi4+ICIxLzMiIDQ0M35Eb2N1bWVudH46IG1hdGNoZXMKY2xhc3MgNDQzfkRvY3VtZW50fnsKK2lkIGU4NTUyNmEyLWIKK21pbWVfdHlwZSB0ZXh0L3BsYWluCit0ZXh0IFdoYXQgaXMgbG8KK3Njb3JlKDxjbGFzcyAnamluYS50eXBlcy5zY29yZS5OYW1lZFNjb3JlJz4pCithZGphY2VuY3kgMQp9CjNhOH5Eb2N1bWVudH4gLi4+ICIyLzMiIDFiNX5Eb2N1bWVudH46IG1hdGNoZXMKY2xhc3MgMWI1fkRvY3VtZW50fnsKK2lkIDFkMGM4NGIyLWIKK21pbWVfdHlwZSB0ZXh0L3BsYWluCit0ZXh0IFdoYXQgaXMgbG8KK3Njb3JlKDxjbGFzcyAnamluYS50eXBlcy5zY29yZS5OYW1lZFNjb3JlJz4pCithZGphY2VuY3kgMQp9CjNhOH5Eb2N1bWVudH4gLi4+ICIzLzMiIDgzOX5Eb2N1bWVudH46IG1hdGNoZXMKY2xhc3MgODM5fkRvY3VtZW50fnsKK2lkIDQxYjFlM2RlLWIKK21pbWVfdHlwZSB0ZXh0L3BsYWluCit0ZXh0IFdoYXQgaXMgbG8KK3Njb3JlKDxjbGFzcyAnamluYS50eXBlcy5zY29yZS5OYW1lZFNjb3JlJz4pCithZGphY2VuY3kgMQp9CmNsYXNzIDNhOH5Eb2N1bWVudH57CitpZCBlNTNkMDcxNC1iCittaW1lX3R5cGUgdGV4dC9wbGFpbgordGV4dCBXaGF0IGlzIGxvCitjb250ZW50X2hhc2ggOTNiZjg1YTM2NAp9\"/>"
      ],
      "text/plain": [
       "<IPython.core.display.Image object>"
      ]
     },
     "metadata": {},
     "output_type": "display_data"
    }
   ],
   "source": [
    "root"
   ]
  },
  {
   "cell_type": "code",
   "execution_count": null,
   "metadata": {},
   "outputs": [],
   "source": [
    "Now the "
   ]
  },
  {
   "cell_type": "code",
   "execution_count": 17,
   "metadata": {
    "ExecuteTime": {
     "end_time": "2021-05-19T09:05:10.514638Z",
     "start_time": "2021-05-19T09:05:10.511989Z"
    }
   },
   "outputs": [
    {
     "data": {
      "text/plain": [
       "0"
      ]
     },
     "execution_count": 17,
     "metadata": {},
     "output_type": "execute_result"
    }
   ],
   "source": [
    "root.granularity"
   ]
  },
  {
   "cell_type": "code",
   "execution_count": 21,
   "metadata": {
    "ExecuteTime": {
     "end_time": "2021-05-19T09:50:58.919858Z",
     "start_time": "2021-05-19T09:50:58.917294Z"
    }
   },
   "outputs": [
    {
     "data": {
      "text/plain": [
       "1"
      ]
     },
     "execution_count": 21,
     "metadata": {},
     "output_type": "execute_result"
    }
   ],
   "source": [
    "root.chunks[0].granularity"
   ]
  },
  {
   "cell_type": "markdown",
   "metadata": {
    "ExecuteTime": {
     "end_time": "2021-05-19T09:51:02.991762Z",
     "start_time": "2021-05-19T09:51:02.990130Z"
    }
   },
   "source": [
    "## Iterating over chunks of a DocumentArray"
   ]
  },
  {
   "cell_type": "code",
   "execution_count": 23,
   "metadata": {
    "ExecuteTime": {
     "end_time": "2021-05-19T09:51:10.609964Z",
     "start_time": "2021-05-19T09:51:10.606138Z"
    }
   },
   "outputs": [],
   "source": [
    "from jina import Document, DocumentArray\n",
    "\n",
    "with Document() as doc1:\n",
    "    doc1.text = 'What is love? Oh baby do not hurt me.'\n",
    "with Document() as chunk1:\n",
    "    chunk1.text = 'What is love?'\n",
    "    doc1.chunks.append(chunk1)\n",
    "with Document() as chunk2:\n",
    "    chunk2.text = 'Oh baby do not hurt me.'\n",
    "    doc1.chunks.append(chunk2)\n",
    "\n",
    "    \n",
    "with Document() as doc2:\n",
    "    doc2.text = 'Ronaldo? Oh Ronaldo does not hurt me.'\n",
    "with Document() as chunk1:\n",
    "    chunk1.text = 'Ronaldo is worth some milions'\n",
    "    doc2.chunks.append(chunk1)\n",
    "with Document() as chunk2:\n",
    "    chunk2.text = 'Ronaldo plays at Madrid'\n",
    "    doc2.chunks.append(chunk2)"
   ]
  },
  {
   "cell_type": "code",
   "execution_count": 24,
   "metadata": {
    "ExecuteTime": {
     "end_time": "2021-05-19T09:51:17.898518Z",
     "start_time": "2021-05-19T09:51:17.896595Z"
    }
   },
   "outputs": [],
   "source": [
    "x = DocumentArray([doc1,doc2])"
   ]
  },
  {
   "cell_type": "markdown",
   "metadata": {},
   "source": [
    "#### Traversal paths\n",
    "\n",
    "Traversing over a `DocumentArray`"
   ]
  },
  {
   "cell_type": "code",
   "execution_count": 25,
   "metadata": {
    "ExecuteTime": {
     "end_time": "2021-05-19T09:51:30.060634Z",
     "start_time": "2021-05-19T09:51:30.058188Z"
    }
   },
   "outputs": [
    {
     "name": "stdout",
     "output_type": "stream",
     "text": [
      "DocumentArray has 2 items:\n",
      "{'id': 'bd9af7b4-b887-11eb-9de2-787b8ab3f5de', 'chunks': [{'id': 'bd9afde0-b887-11eb-9de2-787b8ab3f5de', 'mime_type': 'text/plain', 'text': 'What is love?', 'granularity': 1, 'parent_id': 'bd9af7b4-b887-11eb-9de2-787b8ab3f5de', 'content_hash': 'd12a28ebfdc62258'}, {'id': 'bd9b0830-b887-11eb-9de2-787b8ab3f5de', 'mime_type': 'text/plain', 'text': 'Oh baby do not hurt me.', 'granularity': 1, 'parent_id': 'bd9af7b4-b887-11eb-9de2-787b8ab3f5de', 'content_hash': 'c0781807296e94d1'}], 'mime_type': 'text/plain', 'text': 'What is love? Oh baby do not hurt me.', 'content_hash': '93bf85a364ff576b'},\n",
      "{'id': 'bd9b0e16-b887-11eb-9de2-787b8ab3f5de', 'chunks': [{'id': 'bd9b11a4-b887-11eb-9de2-787b8ab3f5de', 'mime_type': 'text/plain', 'text': 'Ronaldo is worth some milions', 'granularity': 1, 'parent_id': 'bd9b0e16-b887-11eb-9de2-787b8ab3f5de', 'content_hash': 'ebe255baa97a6b3e'}, {'id': 'bd9b1758-b887-11eb-9de2-787b8ab3f5de', 'mime_type': 'text/plain', 'text': 'Ronaldo plays at Madrid', 'granularity': 1, 'parent_id': 'bd9b0e16-b887-11eb-9de2-787b8ab3f5de', 'content_hash': 'ec77343d1672863e'}], 'mime_type': 'text/plain', 'text': 'Ronaldo? Oh Ronaldo does not hurt me.', 'content_hash': 'cf9327f26461c3c5'}\n"
     ]
    }
   ],
   "source": [
    "for doc in x.traverse(traversal_paths='r'):\n",
    "    print(doc)"
   ]
  },
  {
   "cell_type": "markdown",
   "metadata": {},
   "source": [
    "#### Chunk Traversal\n",
    "\n",
    "If we want to iterate over all chunks of the documents of the DocumentArray `x` we can use `traversal_paths='c'`.\n",
    "\n",
    "Note that if we iterate over chunks:\n",
    "\n",
    "-  `chunk[0].text` will be the text of the first chunk in each of the documents that we iterate on.\n",
    "\n",
    "-  `chunk[1].text` will be the text of the second chunk in each of the documents that we iterate on.\n",
    "\n",
    "\n"
   ]
  },
  {
   "cell_type": "code",
   "execution_count": 26,
   "metadata": {
    "ExecuteTime": {
     "end_time": "2021-05-19T09:51:47.082459Z",
     "start_time": "2021-05-19T09:51:47.079806Z"
    }
   },
   "outputs": [
    {
     "name": "stdout",
     "output_type": "stream",
     "text": [
      "What is love?\n",
      "Ronaldo is worth some milions\n"
     ]
    }
   ],
   "source": [
    "for chunk in x.traverse(traversal_paths='c'):\n",
    "    print(chunk[0].text)"
   ]
  },
  {
   "cell_type": "code",
   "execution_count": 27,
   "metadata": {
    "ExecuteTime": {
     "end_time": "2021-05-19T09:51:50.187257Z",
     "start_time": "2021-05-19T09:51:50.184516Z"
    }
   },
   "outputs": [
    {
     "name": "stdout",
     "output_type": "stream",
     "text": [
      "Oh baby do not hurt me.\n",
      "Ronaldo plays at Madrid\n"
     ]
    }
   ],
   "source": [
    "for chunk in x.traverse(traversal_paths='c'):\n",
    "    print(chunk[1].text)"
   ]
  },
  {
   "cell_type": "markdown",
   "metadata": {},
   "source": [
    "#### Root Traversal\n",
    "\n",
    "If we want to iterate over all root documents inside a\n",
    "DocumentArray `x` we can use `traversal_paths='r'`.\n",
    "\n",
    "Note that if we iterate over root documents:\n",
    "\n",
    "-  `root[0].text` will be the text of the first document.\n",
    "\n",
    "-  `root[1].text` will be the text of the second document.\n",
    "\n"
   ]
  },
  {
   "cell_type": "code",
   "execution_count": 28,
   "metadata": {
    "ExecuteTime": {
     "end_time": "2021-05-19T09:52:00.159340Z",
     "start_time": "2021-05-19T09:52:00.157019Z"
    }
   },
   "outputs": [
    {
     "name": "stdout",
     "output_type": "stream",
     "text": [
      "What is love? Oh baby do not hurt me.\n"
     ]
    }
   ],
   "source": [
    "for aux in x.traverse(traversal_paths='r'):\n",
    "    print(aux[0].text)"
   ]
  },
  {
   "cell_type": "code",
   "execution_count": 29,
   "metadata": {
    "ExecuteTime": {
     "end_time": "2021-05-19T09:52:03.237038Z",
     "start_time": "2021-05-19T09:52:03.234761Z"
    }
   },
   "outputs": [
    {
     "name": "stdout",
     "output_type": "stream",
     "text": [
      "Ronaldo? Oh Ronaldo does not hurt me.\n"
     ]
    }
   ],
   "source": [
    "for aux in x.traverse(traversal_paths='r'):\n",
    "    print(aux[1].text)"
   ]
  },
  {
   "cell_type": "markdown",
   "metadata": {},
   "source": [
    "We can iterate over all texts"
   ]
  },
  {
   "cell_type": "code",
   "execution_count": 30,
   "metadata": {
    "ExecuteTime": {
     "end_time": "2021-05-19T09:52:11.955783Z",
     "start_time": "2021-05-19T09:52:11.953656Z"
    }
   },
   "outputs": [
    {
     "name": "stdout",
     "output_type": "stream",
     "text": [
      "What is love? Oh baby do not hurt me.\n",
      "Ronaldo? Oh Ronaldo does not hurt me.\n"
     ]
    }
   ],
   "source": [
    "for d in x:\n",
    "    print(d.text)"
   ]
  },
  {
   "cell_type": "code",
   "execution_count": 31,
   "metadata": {
    "ExecuteTime": {
     "end_time": "2021-05-19T09:52:15.050412Z",
     "start_time": "2021-05-19T09:52:15.047302Z"
    }
   },
   "outputs": [
    {
     "name": "stdout",
     "output_type": "stream",
     "text": [
      "What is love? Oh baby do not hurt me.\n",
      "Ronaldo? Oh Ronaldo does not hurt me.\n",
      "What is love?\n",
      "Oh baby do not hurt me.\n",
      "Ronaldo is worth some milions\n",
      "Ronaldo plays at Madrid\n"
     ]
    }
   ],
   "source": [
    "traversal = x.traverse(traversal_paths='rc')\n",
    "\n",
    "for d in traversal:\n",
    "    for i in range(len(d)):\n",
    "        print(d[i].text)"
   ]
  },
  {
   "cell_type": "code",
   "execution_count": null,
   "metadata": {},
   "outputs": [],
   "source": []
  },
  {
   "cell_type": "code",
   "execution_count": null,
   "metadata": {},
   "outputs": [],
   "source": []
  },
  {
   "cell_type": "code",
   "execution_count": null,
   "metadata": {},
   "outputs": [],
   "source": []
  },
  {
   "cell_type": "markdown",
   "metadata": {},
   "source": [
    "## Segmenters\n",
    "\n",
    "A Segmenter is the name that Jina uses to define classes that partition (or segment) the data into chunks. \n",
    "\n"
   ]
  },
  {
   "cell_type": "code",
   "execution_count": null,
   "metadata": {},
   "outputs": [],
   "source": []
  },
  {
   "cell_type": "code",
   "execution_count": null,
   "metadata": {},
   "outputs": [],
   "source": []
  },
  {
   "cell_type": "code",
   "execution_count": null,
   "metadata": {},
   "outputs": [],
   "source": []
  },
  {
   "cell_type": "code",
   "execution_count": null,
   "metadata": {},
   "outputs": [],
   "source": []
  },
  {
   "cell_type": "code",
   "execution_count": null,
   "metadata": {},
   "outputs": [],
   "source": []
  },
  {
   "cell_type": "code",
   "execution_count": null,
   "metadata": {},
   "outputs": [],
   "source": []
  },
  {
   "cell_type": "code",
   "execution_count": null,
   "metadata": {},
   "outputs": [],
   "source": []
  },
  {
   "cell_type": "code",
   "execution_count": null,
   "metadata": {},
   "outputs": [],
   "source": []
  }
 ],
 "metadata": {
  "kernelspec": {
   "display_name": "Python 3",
   "language": "python",
   "name": "python3"
  },
  "language_info": {
   "codemirror_mode": {
    "name": "ipython",
    "version": 3
   },
   "file_extension": ".py",
   "mimetype": "text/x-python",
   "name": "python",
   "nbconvert_exporter": "python",
   "pygments_lexer": "ipython3",
   "version": "3.8.5"
  },
  "toc": {
   "base_numbering": 1,
   "nav_menu": {},
   "number_sections": true,
   "sideBar": true,
   "skip_h1_title": false,
   "title_cell": "Table of Contents",
   "title_sidebar": "Contents",
   "toc_cell": true,
   "toc_position": {},
   "toc_section_display": true,
   "toc_window_display": true
  },
  "varInspector": {
   "cols": {
    "lenName": 16,
    "lenType": 16,
    "lenVar": 40
   },
   "kernels_config": {
    "python": {
     "delete_cmd_postfix": "",
     "delete_cmd_prefix": "del ",
     "library": "var_list.py",
     "varRefreshCmd": "print(var_dic_list())"
    },
    "r": {
     "delete_cmd_postfix": ") ",
     "delete_cmd_prefix": "rm(",
     "library": "var_list.r",
     "varRefreshCmd": "cat(var_dic_list()) "
    }
   },
   "types_to_exclude": [
    "module",
    "function",
    "builtin_function_or_method",
    "instance",
    "_Feature"
   ],
   "window_display": false
  }
 },
 "nbformat": 4,
 "nbformat_minor": 5
}
