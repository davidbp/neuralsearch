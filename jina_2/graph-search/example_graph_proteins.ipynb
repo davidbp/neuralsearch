{
 "cells": [
  {
   "cell_type": "markdown",
   "metadata": {
    "toc": true
   },
   "source": [
    "<h1>Table of Contents<span class=\"tocSkip\"></span></h1>\n",
    "<div class=\"toc\"><ul class=\"toc-item\"><li><span><a href=\"#DGL--lifescience-example\" data-toc-modified-id=\"DGL--lifescience-example-1\"><span class=\"toc-item-num\">1&nbsp;&nbsp;</span>DGL- lifescience example</a></span><ul class=\"toc-item\"><li><ul class=\"toc-item\"><li><span><a href=\"#Jina-graph\" data-toc-modified-id=\"Jina-graph-1.0.1\"><span class=\"toc-item-num\">1.0.1&nbsp;&nbsp;</span>Jina graph</a></span></li></ul></li></ul></li></ul></div>"
   ]
  },
  {
   "cell_type": "markdown",
   "metadata": {},
   "source": [
    "# DGL- lifescience example\n",
    "\n",
    "\n",
    "The tutorial from this notebook uses https://github.com/awslabs/dgl-lifesci"
   ]
  },
  {
   "cell_type": "code",
   "execution_count": 1,
   "metadata": {
    "ExecuteTime": {
     "end_time": "2021-06-09T15:44:29.738337Z",
     "start_time": "2021-06-09T15:44:29.660564Z"
    }
   },
   "outputs": [],
   "source": [
    "import jina\n",
    "from jina import Document\n",
    "from jina.types.document.graph import GraphDocument\n",
    "from jina import Document"
   ]
  },
  {
   "cell_type": "code",
   "execution_count": 2,
   "metadata": {
    "ExecuteTime": {
     "end_time": "2021-06-09T15:44:30.125589Z",
     "start_time": "2021-06-09T15:44:30.107978Z"
    }
   },
   "outputs": [],
   "source": [
    "%load_ext autoreload\n",
    "%autoreload 2"
   ]
  },
  {
   "cell_type": "code",
   "execution_count": 3,
   "metadata": {
    "ExecuteTime": {
     "end_time": "2021-06-09T15:44:32.456360Z",
     "start_time": "2021-06-09T15:44:30.484405Z"
    }
   },
   "outputs": [
    {
     "name": "stderr",
     "output_type": "stream",
     "text": [
      "Using backend: pytorch\n"
     ]
    },
    {
     "name": "stdout",
     "output_type": "stream",
     "text": [
      "0.2.8\n"
     ]
    }
   ],
   "source": [
    "import dgl\n",
    "import torch\n",
    "import torch.nn as nn\n",
    "import torch.nn.functional as F\n",
    "import dgllife\n",
    "print(dgllife.__version__)\n",
    "#import rdkit\n",
    "from pprint import pprint "
   ]
  },
  {
   "cell_type": "markdown",
   "metadata": {},
   "source": [
    "We will use a feature mapper that converts strings representing atoms to features"
   ]
  },
  {
   "cell_type": "code",
   "execution_count": 4,
   "metadata": {
    "ExecuteTime": {
     "end_time": "2021-06-09T15:44:32.635288Z",
     "start_time": "2021-06-09T15:44:32.601616Z"
    }
   },
   "outputs": [
    {
     "name": "stdout",
     "output_type": "stream",
     "text": [
      "representation for CCO is array torch.Size([3, 74])\n",
      "representation for CCCO is array torch.Size([4, 74])\n"
     ]
    }
   ],
   "source": [
    "from rdkit import Chem\n",
    "from dgllife.utils import CanonicalAtomFeaturizer\n",
    "\n",
    "mol_str = 'CCO'\n",
    "mol = Chem.MolFromSmiles(mol_str)\n",
    "atom_featurizer = CanonicalAtomFeaturizer(atom_data_field='feat')\n",
    "x = atom_featurizer(mol)['feat']\n",
    "print(f'representation for {mol_str} is array {x.shape}')\n",
    "\n",
    "\n",
    "mol_str = 'CCCO'\n",
    "mol = Chem.MolFromSmiles(mol_str)\n",
    "atom_featurizer = CanonicalAtomFeaturizer(atom_data_field='feat')\n",
    "x = atom_featurizer(mol)['feat']\n",
    "print(f'representation for {mol_str} is array {x.shape}')"
   ]
  },
  {
   "cell_type": "markdown",
   "metadata": {},
   "source": [
    "The following cell constructs a DGL graph with node and edge features"
   ]
  },
  {
   "cell_type": "code",
   "execution_count": 5,
   "metadata": {
    "ExecuteTime": {
     "end_time": "2021-06-09T15:44:32.812079Z",
     "start_time": "2021-06-09T15:44:32.778447Z"
    }
   },
   "outputs": [
    {
     "name": "stdout",
     "output_type": "stream",
     "text": [
      "Graph(num_nodes=23, num_edges=50,\n",
      "      ndata_schemes={'h': Scheme(shape=(74,), dtype=torch.float32)}\n",
      "      edata_schemes={'h': Scheme(shape=(12,), dtype=torch.float32)})\n"
     ]
    }
   ],
   "source": [
    "from dgllife.utils import smiles_to_bigraph, CanonicalAtomFeaturizer, CanonicalBondFeaturizer\n",
    "\n",
    "# Node featurizer\n",
    "node_featurizer = CanonicalAtomFeaturizer(atom_data_field='h')\n",
    "# Edge featurizer\n",
    "edge_featurizer = CanonicalBondFeaturizer(bond_data_field='h')\n",
    "# SMILES (a string representation for molecule) for Penicillin\n",
    "smiles = 'CC1(C(N2C(S1)C(C2=O)NC(=O)CC3=CC=CC=C3)C(=O)O)C'\n",
    "g = smiles_to_bigraph(smiles=smiles, \n",
    "                      node_featurizer=node_featurizer,\n",
    "                      edge_featurizer=edge_featurizer)\n",
    "print(g)"
   ]
  },
  {
   "cell_type": "code",
   "execution_count": 6,
   "metadata": {
    "ExecuteTime": {
     "end_time": "2021-06-09T15:44:32.980069Z",
     "start_time": "2021-06-09T15:44:32.948919Z"
    }
   },
   "outputs": [
    {
     "name": "stdout",
     "output_type": "stream",
     "text": [
      "Node features are kept as a torch.Size([23, 74]) array\n",
      "Edge features are kept as a torch.Size([50, 12]) array\n",
      "g.num_nodes()=23\n",
      "g.num_edges()=50\n"
     ]
    }
   ],
   "source": [
    "print(f\"Node features are kept as a {g.ndata['h'].shape} array\")\n",
    "print(f\"Edge features are kept as a {g.edata['h'].shape} array\")\n",
    "print(f\"g.num_nodes()={g.num_nodes()}\")\n",
    "print(f\"g.num_edges()={g.num_edges()}\")"
   ]
  },
  {
   "cell_type": "code",
   "execution_count": 34,
   "metadata": {
    "ExecuteTime": {
     "end_time": "2021-06-09T16:03:50.563660Z",
     "start_time": "2021-06-09T16:03:40.847391Z"
    }
   },
   "outputs": [
    {
     "name": "stdout",
     "output_type": "stream",
     "text": [
      "Processing dgl graphs from scratch...\n",
      "Processing molecule 1000/7831\n",
      "Processing molecule 2000/7831\n",
      "Processing molecule 3000/7831\n",
      "Processing molecule 4000/7831\n",
      "Processing molecule 5000/7831\n",
      "Processing molecule 6000/7831\n",
      "Processing molecule 7000/7831\n",
      "Downloading GCN_Tox21_pre_trained.pth from https://data.dgl.ai/dgllife/pre_trained/gcn_tox21.pth...\n",
      "Pretrained model loaded\n"
     ]
    }
   ],
   "source": [
    "from dgllife.model import GCNPredictor\n",
    "model = GCNPredictor(in_feats=1)\n",
    "\n",
    "from dgllife.data import Tox21\n",
    "from dgllife.model import load_pretrained\n",
    "from dgllife.utils import smiles_to_bigraph, CanonicalAtomFeaturizer\n",
    "\n",
    "dataset = Tox21(smiles_to_bigraph, CanonicalAtomFeaturizer())\n",
    "model = load_pretrained('GCN_Tox21') # Pretrained model loaded\n",
    "model.eval()\n",
    "\n",
    "smiles, g, label, mask = dataset[0]\n",
    "#feats = g.ndata.pop('h')\n",
    "label_pred = model(g, g.ndata['h'])"
   ]
  },
  {
   "cell_type": "code",
   "execution_count": 42,
   "metadata": {
    "ExecuteTime": {
     "end_time": "2021-06-09T16:04:32.400256Z",
     "start_time": "2021-06-09T16:04:32.367063Z"
    }
   },
   "outputs": [
    {
     "data": {
      "text/plain": [
       "tensor([[ 1.4190, -0.1820,  1.2974,  1.8104,  0.5580,  1.4416,  0.6914,  2.0957,\n",
       "          0.5919,  0.7715,  1.7273,  0.2070]], grad_fn=<AddmmBackward>)"
      ]
     },
     "execution_count": 42,
     "metadata": {},
     "output_type": "execute_result"
    }
   ],
   "source": [
    "import torch\n",
    "label_pred = model(g, torch.tensor(g.ndata['h'].detach().numpy()))\n",
    "label_pred"
   ]
  },
  {
   "cell_type": "code",
   "execution_count": 8,
   "metadata": {
    "ExecuteTime": {
     "end_time": "2021-06-09T15:44:44.652443Z",
     "start_time": "2021-06-09T15:44:44.612557Z"
    }
   },
   "outputs": [
    {
     "data": {
      "text/plain": [
       "<bound method GCNPredictor.forward of GCNPredictor(\n",
       "  (gnn): GCN(\n",
       "    (gnn_layers): ModuleList(\n",
       "      (0): GCNLayer(\n",
       "        (graph_conv): GraphConv(in=74, out=64, normalization=none, activation=<function relu at 0x7fb999982c10>)\n",
       "        (dropout): Dropout(p=0.0, inplace=False)\n",
       "        (res_connection): Linear(in_features=74, out_features=64, bias=True)\n",
       "        (bn_layer): BatchNorm1d(64, eps=1e-05, momentum=0.1, affine=True, track_running_stats=True)\n",
       "      )\n",
       "      (1): GCNLayer(\n",
       "        (graph_conv): GraphConv(in=64, out=64, normalization=none, activation=<function relu at 0x7fb999982c10>)\n",
       "        (dropout): Dropout(p=0.0, inplace=False)\n",
       "        (res_connection): Linear(in_features=64, out_features=64, bias=True)\n",
       "        (bn_layer): BatchNorm1d(64, eps=1e-05, momentum=0.1, affine=True, track_running_stats=True)\n",
       "      )\n",
       "    )\n",
       "  )\n",
       "  (readout): WeightedSumAndMax(\n",
       "    (weight_and_sum): WeightAndSum(\n",
       "      (atom_weighting): Sequential(\n",
       "        (0): Linear(in_features=64, out_features=1, bias=True)\n",
       "        (1): Sigmoid()\n",
       "      )\n",
       "    )\n",
       "  )\n",
       "  (predict): MLPPredictor(\n",
       "    (predict): Sequential(\n",
       "      (0): Dropout(p=0.0, inplace=False)\n",
       "      (1): Linear(in_features=128, out_features=64, bias=True)\n",
       "      (2): ReLU()\n",
       "      (3): BatchNorm1d(64, eps=1e-05, momentum=0.1, affine=True, track_running_stats=True)\n",
       "      (4): Linear(in_features=64, out_features=12, bias=True)\n",
       "    )\n",
       "  )\n",
       ")>"
      ]
     },
     "execution_count": 8,
     "metadata": {},
     "output_type": "execute_result"
    }
   ],
   "source": [
    "model.forward"
   ]
  },
  {
   "cell_type": "markdown",
   "metadata": {},
   "source": [
    "#### How to generate the embedding for a single molecule"
   ]
  },
  {
   "cell_type": "code",
   "execution_count": 9,
   "metadata": {
    "ExecuteTime": {
     "end_time": "2021-06-09T15:44:44.879108Z",
     "start_time": "2021-06-09T15:44:44.827722Z"
    }
   },
   "outputs": [],
   "source": [
    "smiles, g, label, mask = dataset[0]"
   ]
  },
  {
   "cell_type": "code",
   "execution_count": 10,
   "metadata": {
    "ExecuteTime": {
     "end_time": "2021-06-09T15:44:45.061225Z",
     "start_time": "2021-06-09T15:44:45.024941Z"
    }
   },
   "outputs": [
    {
     "data": {
      "text/plain": [
       "tensor([[ 1.4190, -0.1820,  1.2974,  1.8104,  0.5580,  1.4416,  0.6914,  2.0957,\n",
       "          0.5919,  0.7715,  1.7273,  0.2070]], grad_fn=<AddmmBackward>)"
      ]
     },
     "execution_count": 10,
     "metadata": {},
     "output_type": "execute_result"
    }
   ],
   "source": [
    "model.forward(g, feats= g.ndata['h'])"
   ]
  },
  {
   "cell_type": "code",
   "execution_count": 11,
   "metadata": {
    "ExecuteTime": {
     "end_time": "2021-06-09T15:44:45.262227Z",
     "start_time": "2021-06-09T15:44:45.227550Z"
    }
   },
   "outputs": [
    {
     "data": {
      "text/plain": [
       "torch.Size([16, 74])"
      ]
     },
     "execution_count": 11,
     "metadata": {},
     "output_type": "execute_result"
    }
   ],
   "source": [
    "g.ndata['h'].shape"
   ]
  },
  {
   "cell_type": "markdown",
   "metadata": {},
   "source": [
    "#### Generating embeddings for each of the n_sample graphs"
   ]
  },
  {
   "cell_type": "code",
   "execution_count": 43,
   "metadata": {
    "ExecuteTime": {
     "end_time": "2021-06-09T16:22:03.153784Z",
     "start_time": "2021-06-09T16:22:03.113061Z"
    }
   },
   "outputs": [],
   "source": [
    "from tqdm import tqdm"
   ]
  },
  {
   "cell_type": "code",
   "execution_count": 44,
   "metadata": {
    "ExecuteTime": {
     "end_time": "2021-06-09T16:22:07.525400Z",
     "start_time": "2021-06-09T16:22:07.494868Z"
    }
   },
   "outputs": [],
   "source": [
    "n_samples = len(dataset)"
   ]
  },
  {
   "cell_type": "code",
   "execution_count": 45,
   "metadata": {
    "ExecuteTime": {
     "end_time": "2021-06-09T16:22:23.588725Z",
     "start_time": "2021-06-09T16:22:11.881579Z"
    }
   },
   "outputs": [
    {
     "name": "stderr",
     "output_type": "stream",
     "text": [
      "100%|██████████| 7831/7831 [00:11<00:00, 671.04it/s]\n"
     ]
    }
   ],
   "source": [
    "embeddings=[]\n",
    "for i in tqdm(range(n_samples)):\n",
    "    smiles, g, label, mask = dataset[i]\n",
    "    g = dgl.add_self_loop(g)\n",
    "    emb = model.forward(g, feats= g.ndata['h'])\n",
    "    embeddings.append(emb.detach().numpy())"
   ]
  },
  {
   "cell_type": "code",
   "execution_count": 46,
   "metadata": {
    "ExecuteTime": {
     "end_time": "2021-06-09T16:22:28.067903Z",
     "start_time": "2021-06-09T16:22:28.036915Z"
    }
   },
   "outputs": [
    {
     "data": {
      "text/plain": [
       "(1, 12)"
      ]
     },
     "execution_count": 46,
     "metadata": {},
     "output_type": "execute_result"
    }
   ],
   "source": [
    "embeddings[1].shape"
   ]
  },
  {
   "cell_type": "code",
   "execution_count": 47,
   "metadata": {
    "ExecuteTime": {
     "end_time": "2021-06-09T16:22:32.514864Z",
     "start_time": "2021-06-09T16:22:32.483257Z"
    }
   },
   "outputs": [],
   "source": [
    "#aux = GraphDocument.load_from_dgl_graph(g)"
   ]
  },
  {
   "cell_type": "markdown",
   "metadata": {},
   "source": [
    "### Jina graph"
   ]
  },
  {
   "cell_type": "code",
   "execution_count": 48,
   "metadata": {
    "ExecuteTime": {
     "end_time": "2021-06-09T16:22:37.000241Z",
     "start_time": "2021-06-09T16:22:36.951353Z"
    },
    "scrolled": true
   },
   "outputs": [],
   "source": [
    "jina_graph = GraphDocument.load_from_dgl_graph(g)"
   ]
  },
  {
   "cell_type": "code",
   "execution_count": 49,
   "metadata": {
    "ExecuteTime": {
     "end_time": "2021-06-09T16:22:41.600796Z",
     "start_time": "2021-06-09T16:22:41.567594Z"
    },
    "scrolled": false
   },
   "outputs": [
    {
     "name": "stdout",
     "output_type": "stream",
     "text": [
      "[ 0  9  9  4  4 15 15  3  3 18 18 23 23 13 13 21 21 12 23 10 10 24 24 22\n",
      " 22  1  1  8  8 14 14  5  5 16 16 17 17  2  2 19 19  6 16  7  7 20 20 11\n",
      " 13  4 19 24  6 18  2  8 11  5  0  1  2  3  4  5  6  7  8  9 10 11 12 13\n",
      " 14 15 16 17 18 19 20 21 22 23 24]\n",
      "[ 9  0  4  9 15  4  3 15 18  3 23 18 13 23 21 13 12 21 10 23 24 10 22 24\n",
      "  1 22  8  1 14  8  5 14 16  5 17 16  2 17 19  2  6 19  7 16 20  7 11 20\n",
      "  4 13 24 19 18  6  8  2  5 11  0  1  2  3  4  5  6  7  8  9 10 11 12 13\n",
      " 14 15 16 17 18 19 20 21 22 23 24]\n",
      "[[1 0 0 0 0 0 0 0 0 1 0 0 0 0 0 0 0 0 0 0 0 0 0 0 0]\n",
      " [0 1 0 0 0 0 0 0 1 0 0 0 0 0 0 0 0 0 0 0 0 0 1 0 0]\n",
      " [0 0 1 0 0 0 0 0 1 0 0 0 0 0 0 0 0 1 0 1 0 0 0 0 0]\n",
      " [0 0 0 1 0 0 0 0 0 0 0 0 0 0 0 1 0 0 1 0 0 0 0 0 0]\n",
      " [0 0 0 0 1 0 0 0 0 1 0 0 0 1 0 1 0 0 0 0 0 0 0 0 0]\n",
      " [0 0 0 0 0 1 0 0 0 0 0 1 0 0 1 0 1 0 0 0 0 0 0 0 0]\n",
      " [0 0 0 0 0 0 1 0 0 0 0 0 0 0 0 0 0 0 1 1 0 0 0 0 0]\n",
      " [0 0 0 0 0 0 0 1 0 0 0 0 0 0 0 0 1 0 0 0 1 0 0 0 0]\n",
      " [0 1 1 0 0 0 0 0 1 0 0 0 0 0 1 0 0 0 0 0 0 0 0 0 0]\n",
      " [1 0 0 0 1 0 0 0 0 1 0 0 0 0 0 0 0 0 0 0 0 0 0 0 0]\n",
      " [0 0 0 0 0 0 0 0 0 0 1 0 0 0 0 0 0 0 0 0 0 0 0 1 1]\n",
      " [0 0 0 0 0 1 0 0 0 0 0 1 0 0 0 0 0 0 0 0 1 0 0 0 0]\n",
      " [0 0 0 0 0 0 0 0 0 0 0 0 1 0 0 0 0 0 0 0 0 1 0 0 0]\n",
      " [0 0 0 0 1 0 0 0 0 0 0 0 0 1 0 0 0 0 0 0 0 1 0 1 0]\n",
      " [0 0 0 0 0 1 0 0 1 0 0 0 0 0 1 0 0 0 0 0 0 0 0 0 0]\n",
      " [0 0 0 1 1 0 0 0 0 0 0 0 0 0 0 1 0 0 0 0 0 0 0 0 0]\n",
      " [0 0 0 0 0 1 0 1 0 0 0 0 0 0 0 0 1 1 0 0 0 0 0 0 0]\n",
      " [0 0 1 0 0 0 0 0 0 0 0 0 0 0 0 0 1 1 0 0 0 0 0 0 0]\n",
      " [0 0 0 1 0 0 1 0 0 0 0 0 0 0 0 0 0 0 1 0 0 0 0 1 0]\n",
      " [0 0 1 0 0 0 1 0 0 0 0 0 0 0 0 0 0 0 0 1 0 0 0 0 1]\n",
      " [0 0 0 0 0 0 0 1 0 0 0 1 0 0 0 0 0 0 0 0 1 0 0 0 0]\n",
      " [0 0 0 0 0 0 0 0 0 0 0 0 1 1 0 0 0 0 0 0 0 1 0 0 0]\n",
      " [0 1 0 0 0 0 0 0 0 0 0 0 0 0 0 0 0 0 0 0 0 0 1 0 1]\n",
      " [0 0 0 0 0 0 0 0 0 0 1 0 0 1 0 0 0 0 1 0 0 0 0 1 0]\n",
      " [0 0 0 0 0 0 0 0 0 0 1 0 0 0 0 0 0 0 0 1 0 0 1 0 1]]\n"
     ]
    }
   ],
   "source": [
    "print(jina_graph.adjacency.row)\n",
    "print(jina_graph.adjacency.col)\n",
    "print(jina_graph.adjacency.todense())"
   ]
  },
  {
   "cell_type": "code",
   "execution_count": 50,
   "metadata": {
    "ExecuteTime": {
     "end_time": "2021-06-09T16:22:46.034351Z",
     "start_time": "2021-06-09T16:22:46.000265Z"
    }
   },
   "outputs": [
    {
     "data": {
      "text/plain": [
       "(25, 83)"
      ]
     },
     "execution_count": 50,
     "metadata": {},
     "output_type": "execute_result"
    }
   ],
   "source": [
    "jina_graph.num_nodes, jina_graph.num_edges"
   ]
  },
  {
   "cell_type": "markdown",
   "metadata": {
    "ExecuteTime": {
     "end_time": "2021-06-07T10:48:30.454534Z",
     "start_time": "2021-06-07T10:48:30.423342Z"
    }
   },
   "source": [
    "Note that both graphs have exactly the same adjacency matrix"
   ]
  },
  {
   "cell_type": "code",
   "execution_count": 51,
   "metadata": {
    "ExecuteTime": {
     "end_time": "2021-06-09T16:22:50.485003Z",
     "start_time": "2021-06-09T16:22:50.452524Z"
    }
   },
   "outputs": [
    {
     "data": {
      "text/plain": [
       "1.0"
      ]
     },
     "execution_count": 51,
     "metadata": {},
     "output_type": "execute_result"
    }
   ],
   "source": [
    "np.mean(g.adjacency_matrix(scipy_fmt='csr').todense() == jina_graph.adjacency.todense())"
   ]
  },
  {
   "cell_type": "markdown",
   "metadata": {},
   "source": [
    "#### Basic Jina app"
   ]
  },
  {
   "cell_type": "code",
   "execution_count": 20,
   "metadata": {
    "ExecuteTime": {
     "end_time": "2021-06-09T15:45:46.666438Z",
     "start_time": "2021-06-09T15:45:46.620232Z"
    },
    "scrolled": false
   },
   "outputs": [
    {
     "data": {
      "text/plain": [
       "('CCOc1ccc2nc(S(N)(=O)=O)sc2c1',\n",
       " Graph(num_nodes=16, num_edges=34,\n",
       "       ndata_schemes={'h': Scheme(shape=(74,), dtype=torch.float32)}\n",
       "       edata_schemes={}),\n",
       " tensor([0., 0., 1., 0., 0., 0., 0., 1., 0., 0., 0., 0.]),\n",
       " tensor([1., 1., 1., 0., 0., 1., 1., 1., 1., 1., 1., 1.]))"
      ]
     },
     "execution_count": 20,
     "metadata": {},
     "output_type": "execute_result"
    }
   ],
   "source": [
    "dataset[0]"
   ]
  },
  {
   "cell_type": "code",
   "execution_count": 21,
   "metadata": {
    "ExecuteTime": {
     "end_time": "2021-06-09T15:45:51.088015Z",
     "start_time": "2021-06-09T15:45:51.046741Z"
    },
    "scrolled": true
   },
   "outputs": [
    {
     "data": {
      "text/plain": [
       "array([[1., 0., 0., ..., 0., 1., 0.],\n",
       "       [0., 1., 0., ..., 0., 0., 0.],\n",
       "       [0., 0., 0., ..., 0., 0., 0.],\n",
       "       ...,\n",
       "       [0., 1., 0., ..., 1., 0., 0.],\n",
       "       [1., 0., 0., ..., 0., 0., 0.],\n",
       "       [1., 0., 0., ..., 0., 0., 0.]], dtype=float32)"
      ]
     },
     "execution_count": 21,
     "metadata": {},
     "output_type": "execute_result"
    }
   ],
   "source": [
    "g = dataset[0][1]\n",
    "\n",
    "features = g.ndata['h'].detach().numpy()\n",
    "features.shape\n",
    "\n",
    "d = GraphDocument.load_from_dgl_graph(g);\n",
    "d.blob = features\n",
    "d.blob"
   ]
  },
  {
   "cell_type": "code",
   "execution_count": 24,
   "metadata": {
    "ExecuteTime": {
     "end_time": "2021-06-09T15:55:54.786532Z",
     "start_time": "2021-06-09T15:55:54.745571Z"
    }
   },
   "outputs": [
    {
     "name": "stdout",
     "output_type": "stream",
     "text": [
      "<class 'jina.types.document.graph.GraphDocument'>\n",
      "<class 'jina.types.arrays.document.DocumentArray'>\n",
      "<class 'jina.types.document.Document'>\n",
      "isinstance(docarray_graph[0], GraphDocument)= False\n",
      "isinstance(d,GraphDocument)= True\n"
     ]
    }
   ],
   "source": [
    "from jina.types.document.graph import GraphDocument\n",
    "from jina import  Document, DocumentArray\n",
    "\n",
    "d = GraphDocument()\n",
    "docarray_graph = DocumentArray([d,d])\n",
    "\n",
    "print(type(d))\n",
    "print(type(docarray_graph))\n",
    "print(type(docarray_graph[0]))\n",
    "print('isinstance(docarray_graph[0], GraphDocument)=',isinstance(docarray_graph[0], GraphDocument))\n",
    "print('isinstance(d,GraphDocument)=', isinstance(d,GraphDocument))"
   ]
  },
  {
   "cell_type": "code",
   "execution_count": 27,
   "metadata": {
    "ExecuteTime": {
     "end_time": "2021-06-09T15:56:50.208645Z",
     "start_time": "2021-06-09T15:56:50.177457Z"
    }
   },
   "outputs": [
    {
     "name": "stdout",
     "output_type": "stream",
     "text": [
      "type(d)= <class 'jina.types.document.graph.GraphDocument'>\n",
      "isinstance(d, GraphDocument)= True\n",
      "type(d)= <class 'jina.types.document.graph.GraphDocument'>\n",
      "isinstance(d, GraphDocument)= True\n"
     ]
    }
   ],
   "source": [
    "for d in docarray_graph:\n",
    "    print('type(d)=',type(d))\n",
    "    print('isinstance(d, GraphDocument)=',isinstance(d, GraphDocument))"
   ]
  },
  {
   "cell_type": "code",
   "execution_count": 52,
   "metadata": {
    "ExecuteTime": {
     "end_time": "2021-06-09T16:22:55.411971Z",
     "start_time": "2021-06-09T16:22:55.359680Z"
    }
   },
   "outputs": [],
   "source": [
    "from jina import DocumentArray\n",
    "\n",
    "def create_docs(dataset):\n",
    "    docs = []\n",
    "    for molecule_str, dgl_graph, label, mask in dataset:\n",
    "        tags={'molecule_str': molecule_str}\n",
    "              #'label':label.detach().numpy(),\n",
    "              #'mask':mask.detach().numpy()}\n",
    "        gdoc = GraphDocument.load_from_dgl_graph(dgl_graph)\n",
    "        gdoc.tags = tags\n",
    "        gdoc.blob = dgl_graph.ndata['h'].detach().numpy()\n",
    "        docs.append(gdoc.tags)\n",
    "\n",
    "    return DocumentArray(docs)"
   ]
  },
  {
   "cell_type": "code",
   "execution_count": 53,
   "metadata": {
    "ExecuteTime": {
     "end_time": "2021-06-09T16:24:10.720983Z",
     "start_time": "2021-06-09T16:23:01.275103Z"
    }
   },
   "outputs": [],
   "source": [
    "docarray_of_graphs = create_docs(dataset)"
   ]
  },
  {
   "cell_type": "code",
   "execution_count": 54,
   "metadata": {
    "ExecuteTime": {
     "end_time": "2021-06-09T16:24:15.104817Z",
     "start_time": "2021-06-09T16:24:15.070692Z"
    }
   },
   "outputs": [
    {
     "data": {
      "text/plain": [
       "jina.types.document.Document"
      ]
     },
     "execution_count": 54,
     "metadata": {},
     "output_type": "execute_result"
    }
   ],
   "source": [
    "type(docarray_of_graphs[0])"
   ]
  },
  {
   "cell_type": "code",
   "execution_count": 58,
   "metadata": {
    "ExecuteTime": {
     "end_time": "2021-06-09T16:24:41.739035Z",
     "start_time": "2021-06-09T16:24:41.705297Z"
    }
   },
   "outputs": [],
   "source": [
    "from jina import Executor, requests \n",
    "\n",
    "class MoleculeEncoder(Executor):\n",
    "    \n",
    "    def __init__(self, model_type: str='GCN_Tox21', *args, **kwargs):\n",
    "\n",
    "        super().__init__(*args, **kwargs)\n",
    "        import torch\n",
    "        from dgllife.model import load_pretrained\n",
    "        from dgllife.utils import smiles_to_bigraph, CanonicalAtomFeaturizer\n",
    "        self.model = load_pretrained(model_type) \n",
    "        self.model.eval()\n",
    "\n",
    "    @requests()\n",
    "    def encode(self, docs: DocumentArray, *args, **kwargs):\n",
    "        for d in docs:\n",
    "            dgl_graph = d.to_dgl_graph()\n",
    "            dgl_graph = dgl.add_self_loop(dgl_graph)\n",
    "            d.embedding = model.forward(dgl_graph, feats= torch.tensor(d.blob))\n",
    "    "
   ]
  },
  {
   "cell_type": "code",
   "execution_count": null,
   "metadata": {},
   "outputs": [],
   "source": []
  },
  {
   "cell_type": "code",
   "execution_count": null,
   "metadata": {},
   "outputs": [],
   "source": []
  },
  {
   "cell_type": "code",
   "execution_count": null,
   "metadata": {},
   "outputs": [],
   "source": []
  },
  {
   "cell_type": "code",
   "execution_count": null,
   "metadata": {},
   "outputs": [],
   "source": []
  },
  {
   "cell_type": "code",
   "execution_count": null,
   "metadata": {},
   "outputs": [],
   "source": []
  },
  {
   "cell_type": "code",
   "execution_count": null,
   "metadata": {},
   "outputs": [],
   "source": []
  }
 ],
 "metadata": {
  "kernelspec": {
   "display_name": "Python 3",
   "language": "python",
   "name": "python3"
  },
  "language_info": {
   "codemirror_mode": {
    "name": "ipython",
    "version": 3
   },
   "file_extension": ".py",
   "mimetype": "text/x-python",
   "name": "python",
   "nbconvert_exporter": "python",
   "pygments_lexer": "ipython3",
   "version": "3.8.5"
  },
  "toc": {
   "base_numbering": 1,
   "nav_menu": {},
   "number_sections": true,
   "sideBar": true,
   "skip_h1_title": false,
   "title_cell": "Table of Contents",
   "title_sidebar": "Contents",
   "toc_cell": true,
   "toc_position": {
    "height": "calc(100% - 180px)",
    "left": "10px",
    "top": "150px",
    "width": "165px"
   },
   "toc_section_display": true,
   "toc_window_display": true
  },
  "varInspector": {
   "cols": {
    "lenName": 16,
    "lenType": 16,
    "lenVar": 40
   },
   "kernels_config": {
    "python": {
     "delete_cmd_postfix": "",
     "delete_cmd_prefix": "del ",
     "library": "var_list.py",
     "varRefreshCmd": "print(var_dic_list())"
    },
    "r": {
     "delete_cmd_postfix": ") ",
     "delete_cmd_prefix": "rm(",
     "library": "var_list.r",
     "varRefreshCmd": "cat(var_dic_list()) "
    }
   },
   "types_to_exclude": [
    "module",
    "function",
    "builtin_function_or_method",
    "instance",
    "_Feature"
   ],
   "window_display": false
  }
 },
 "nbformat": 4,
 "nbformat_minor": 4
}
