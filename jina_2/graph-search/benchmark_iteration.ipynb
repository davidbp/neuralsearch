{
 "cells": [
  {
   "cell_type": "markdown",
   "metadata": {
    "toc": true
   },
   "source": [
    "<h1>Table of Contents<span class=\"tocSkip\"></span></h1>\n",
    "<div class=\"toc\"><ul class=\"toc-item\"><li><span><a href=\"#Timing-Document-iteration\" data-toc-modified-id=\"Timing-Document-iteration-1\"><span class=\"toc-item-num\">1&nbsp;&nbsp;</span>Timing Document iteration</a></span></li></ul></div>"
   ]
  },
  {
   "cell_type": "markdown",
   "metadata": {},
   "source": [
    "# Timing Document iteration"
   ]
  },
  {
   "cell_type": "code",
   "execution_count": 45,
   "metadata": {
    "ExecuteTime": {
     "end_time": "2021-06-09T16:58:18.076594Z",
     "start_time": "2021-06-09T16:58:18.063009Z"
    }
   },
   "outputs": [],
   "source": [
    "import jina\n",
    "from jina import Document\n",
    "from jina.types.document.graph import GraphDocument\n",
    "from jina import Document, DocumentArray\n",
    "\n",
    "d = Document()\n",
    "\n",
    "def iterate_over_d(darr):\n",
    "    i = 0\n",
    "    for d in darr:\n",
    "        i+=1\n",
    "    "
   ]
  },
  {
   "cell_type": "code",
   "execution_count": 50,
   "metadata": {
    "ExecuteTime": {
     "end_time": "2021-06-09T17:00:21.405814Z",
     "start_time": "2021-06-09T17:00:04.646688Z"
    }
   },
   "outputs": [
    {
     "name": "stdout",
     "output_type": "stream",
     "text": [
      "n_samples=50\n",
      "4.68 µs ± 26.5 ns per loop (mean ± std. dev. of 7 runs, 100000 loops each)\n",
      "n_samples=500\n",
      "38.6 µs ± 170 ns per loop (mean ± std. dev. of 7 runs, 10000 loops each)\n",
      "n_samples=5000\n",
      "413 µs ± 21.2 µs per loop (mean ± std. dev. of 7 runs, 1000 loops each)\n",
      "n_samples=50000\n",
      "3.99 ms ± 44.4 µs per loop (mean ± std. dev. of 7 runs, 100 loops each)\n",
      "n_samples=500000\n",
      "39.7 ms ± 421 µs per loop (mean ± std. dev. of 7 runs, 10 loops each)\n"
     ]
    }
   ],
   "source": [
    "n_samples = 5\n",
    "\n",
    "for i in range(5):\n",
    "    n_samples = n_samples *10\n",
    "    darr = DocumentArray([d]*n_samples)\n",
    "    print(f'n_samples={n_samples}')\n",
    "    %timeit iterate_over_d(darr)"
   ]
  },
  {
   "cell_type": "code",
   "execution_count": null,
   "metadata": {},
   "outputs": [],
   "source": []
  },
  {
   "cell_type": "code",
   "execution_count": null,
   "metadata": {},
   "outputs": [],
   "source": []
  },
  {
   "cell_type": "code",
   "execution_count": null,
   "metadata": {},
   "outputs": [],
   "source": []
  }
 ],
 "metadata": {
  "kernelspec": {
   "display_name": "Python 3",
   "language": "python",
   "name": "python3"
  },
  "language_info": {
   "codemirror_mode": {
    "name": "ipython",
    "version": 3
   },
   "file_extension": ".py",
   "mimetype": "text/x-python",
   "name": "python",
   "nbconvert_exporter": "python",
   "pygments_lexer": "ipython3",
   "version": "3.8.5"
  },
  "toc": {
   "base_numbering": 1,
   "nav_menu": {},
   "number_sections": true,
   "sideBar": true,
   "skip_h1_title": false,
   "title_cell": "Table of Contents",
   "title_sidebar": "Contents",
   "toc_cell": true,
   "toc_position": {},
   "toc_section_display": true,
   "toc_window_display": true
  },
  "varInspector": {
   "cols": {
    "lenName": 16,
    "lenType": 16,
    "lenVar": 40
   },
   "kernels_config": {
    "python": {
     "delete_cmd_postfix": "",
     "delete_cmd_prefix": "del ",
     "library": "var_list.py",
     "varRefreshCmd": "print(var_dic_list())"
    },
    "r": {
     "delete_cmd_postfix": ") ",
     "delete_cmd_prefix": "rm(",
     "library": "var_list.r",
     "varRefreshCmd": "cat(var_dic_list()) "
    }
   },
   "types_to_exclude": [
    "module",
    "function",
    "builtin_function_or_method",
    "instance",
    "_Feature"
   ],
   "window_display": false
  }
 },
 "nbformat": 4,
 "nbformat_minor": 4
}
