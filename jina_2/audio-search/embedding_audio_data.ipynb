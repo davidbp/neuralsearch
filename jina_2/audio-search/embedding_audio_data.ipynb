{
 "cells": [
  {
   "cell_type": "code",
   "execution_count": 2,
   "id": "brown-purpose",
   "metadata": {
    "scrolled": true
   },
   "outputs": [],
   "source": [
    "%load_ext autoreload\n",
    "%autoreload 2"
   ]
  },
  {
   "cell_type": "code",
   "execution_count": 26,
   "id": "upper-invention",
   "metadata": {},
   "outputs": [
    {
     "ename": "ModuleNotFoundError",
     "evalue": "No module named 'jinahub'",
     "output_type": "error",
     "traceback": [
      "\u001b[0;31m---------------------------------------------------------------------------\u001b[0m",
      "\u001b[0;31mModuleNotFoundError\u001b[0m                       Traceback (most recent call last)",
      "\u001b[0;32m<ipython-input-26-fe1562709a65>\u001b[0m in \u001b[0;36m<module>\u001b[0;34m\u001b[0m\n\u001b[1;32m      1\u001b[0m \u001b[0;32mfrom\u001b[0m \u001b[0mvggish\u001b[0m \u001b[0;32mimport\u001b[0m \u001b[0mmel_features\u001b[0m\u001b[0;34m\u001b[0m\u001b[0;34m\u001b[0m\u001b[0m\n\u001b[1;32m      2\u001b[0m \u001b[0;32mfrom\u001b[0m \u001b[0mvggish\u001b[0m \u001b[0;32mimport\u001b[0m \u001b[0mvggish_input\u001b[0m\u001b[0;34m\u001b[0m\u001b[0;34m\u001b[0m\u001b[0m\n\u001b[0;32m----> 3\u001b[0;31m \u001b[0;32mfrom\u001b[0m \u001b[0mvggish\u001b[0m \u001b[0;32mimport\u001b[0m \u001b[0mvggish_slim\u001b[0m\u001b[0;34m\u001b[0m\u001b[0;34m\u001b[0m\u001b[0m\n\u001b[0m",
      "\u001b[0;32m~/Documents/git_stuff/neuralsearch/jina_2/audio-search/vggish/vggish_slim.py\u001b[0m in \u001b[0;36m<module>\u001b[0;34m\u001b[0m\n\u001b[1;32m     37\u001b[0m \u001b[0;32mimport\u001b[0m \u001b[0mtf_slim\u001b[0m \u001b[0;32mas\u001b[0m \u001b[0mslim\u001b[0m\u001b[0;34m\u001b[0m\u001b[0;34m\u001b[0m\u001b[0m\n\u001b[1;32m     38\u001b[0m \u001b[0;34m\u001b[0m\u001b[0m\n\u001b[0;32m---> 39\u001b[0;31m \u001b[0;32mfrom\u001b[0m \u001b[0mjinahub\u001b[0m\u001b[0;34m.\u001b[0m\u001b[0mvggish_params\u001b[0m \u001b[0;32mimport\u001b[0m \u001b[0;34m*\u001b[0m\u001b[0;34m\u001b[0m\u001b[0;34m\u001b[0m\u001b[0m\n\u001b[0m\u001b[1;32m     40\u001b[0m \u001b[0;34m\u001b[0m\u001b[0m\n\u001b[1;32m     41\u001b[0m \u001b[0;34m\u001b[0m\u001b[0m\n",
      "\u001b[0;31mModuleNotFoundError\u001b[0m: No module named 'jinahub'"
     ]
    }
   ],
   "source": [
    "from vggish import mel_features\n",
    "from vggish import vggish_input\n",
    "from vggish import vggish_slim"
   ]
  },
  {
   "cell_type": "markdown",
   "id": "compact-thomas",
   "metadata": {},
   "source": [
    "### Prepare vvgish input manually"
   ]
  },
  {
   "cell_type": "code",
   "execution_count": 4,
   "id": "second-jordan",
   "metadata": {},
   "outputs": [],
   "source": [
    "import librosa"
   ]
  },
  {
   "cell_type": "code",
   "execution_count": 5,
   "id": "brown-partnership",
   "metadata": {},
   "outputs": [
    {
     "name": "stderr",
     "output_type": "stream",
     "text": [
      "/usr/local/lib/python3.9/site-packages/librosa/core/audio.py:162: UserWarning: PySoundFile failed. Trying audioread instead.\n",
      "  warnings.warn(\"PySoundFile failed. Trying audioread instead.\")\n"
     ]
    }
   ],
   "source": [
    "x_audio, sample_rate = librosa.load('data/sample.mp3')"
   ]
  },
  {
   "cell_type": "code",
   "execution_count": 6,
   "id": "complex-liechtenstein",
   "metadata": {},
   "outputs": [],
   "source": [
    "log_mel_examples = vggish_input.waveform_to_examples(x_audio, sample_rate)"
   ]
  },
  {
   "cell_type": "code",
   "execution_count": 7,
   "id": "expected-greek",
   "metadata": {},
   "outputs": [
    {
     "data": {
      "text/plain": [
       "(28, 96, 64)"
      ]
     },
     "execution_count": 7,
     "metadata": {},
     "output_type": "execute_result"
    }
   ],
   "source": [
    "log_mel_examples.shape"
   ]
  },
  {
   "cell_type": "markdown",
   "id": "several-gothic",
   "metadata": {},
   "source": [
    "### We can directly go from path of mp3 file to input vggish"
   ]
  },
  {
   "cell_type": "code",
   "execution_count": 14,
   "id": "herbal-bosnia",
   "metadata": {},
   "outputs": [
    {
     "name": "stderr",
     "output_type": "stream",
     "text": [
      "/usr/local/lib/python3.9/site-packages/librosa/core/audio.py:162: UserWarning: PySoundFile failed. Trying audioread instead.\n",
      "  warnings.warn(\"PySoundFile failed. Trying audioread instead.\")\n"
     ]
    }
   ],
   "source": [
    "log_mel_examples = vggish_input.mp3_to_examples('data/sample.mp3')"
   ]
  },
  {
   "cell_type": "code",
   "execution_count": 18,
   "id": "filled-prince",
   "metadata": {},
   "outputs": [
    {
     "data": {
      "text/plain": [
       "(28, 96, 64)"
      ]
     },
     "execution_count": 18,
     "metadata": {},
     "output_type": "execute_result"
    }
   ],
   "source": [
    "log_mel_examples.shape"
   ]
  },
  {
   "cell_type": "markdown",
   "id": "imposed-expert",
   "metadata": {},
   "source": [
    "### Passing data thorugh the vvgish"
   ]
  },
  {
   "cell_type": "code",
   "execution_count": 20,
   "id": "shaped-quality",
   "metadata": {},
   "outputs": [],
   "source": [
    "import tensorflow as tf"
   ]
  },
  {
   "cell_type": "code",
   "execution_count": 21,
   "id": "defensive-generation",
   "metadata": {},
   "outputs": [],
   "source": [
    "sess = tf.compat.v1.Session()"
   ]
  },
  {
   "cell_type": "code",
   "execution_count": null,
   "id": "polar-premium",
   "metadata": {},
   "outputs": [],
   "source": [
    "vggish/vggish_slim.def"
   ]
  },
  {
   "cell_type": "code",
   "execution_count": 27,
   "id": "comparative-teach",
   "metadata": {},
   "outputs": [
    {
     "ename": "NameError",
     "evalue": "name 'define_vggish_slim' is not defined",
     "output_type": "error",
     "traceback": [
      "\u001b[0;31m---------------------------------------------------------------------------\u001b[0m",
      "\u001b[0;31mNameError\u001b[0m                                 Traceback (most recent call last)",
      "\u001b[0;32m<ipython-input-27-1291bb52d6c1>\u001b[0m in \u001b[0;36m<module>\u001b[0;34m\u001b[0m\n\u001b[0;32m----> 1\u001b[0;31m \u001b[0mnet\u001b[0m \u001b[0;34m=\u001b[0m \u001b[0mdefine_vggish_slim\u001b[0m\u001b[0;34m(\u001b[0m\u001b[0;34m)\u001b[0m\u001b[0;34m\u001b[0m\u001b[0;34m\u001b[0m\u001b[0m\n\u001b[0m",
      "\u001b[0;31mNameError\u001b[0m: name 'define_vggish_slim' is not defined"
     ]
    }
   ],
   "source": [
    "net = define_vggish_slim()"
   ]
  },
  {
   "cell_type": "code",
   "execution_count": null,
   "id": "further-cameroon",
   "metadata": {},
   "outputs": [],
   "source": []
  },
  {
   "cell_type": "code",
   "execution_count": 31,
   "id": "abstract-southeast",
   "metadata": {},
   "outputs": [],
   "source": [
    "\n",
    "from jina import Executor\n",
    "\n",
    "class VggishEncoder(Executor):\n",
    "    def __init__(self, model_path: str, pca_path: str, *args, **kwargs):\n",
    "        super().__init__(*args, **kwargs)\n",
    "        self.model_path = model_path\n",
    "        self.pca_path = pca_path\n",
    "\n",
    "        import tensorflow as tf\n",
    "        tf.compat.v1.disable_eager_execution()\n",
    "        self.sess = tf.compat.v1.Session()\n",
    "        define_vggish_slim()\n",
    "        load_vggish_slim_checkpoint(self.sess, self.model_path)\n",
    "        self.feature_tensor = self.sess.graph.get_tensor_by_name(\n",
    "            INPUT_TENSOR_NAME)\n",
    "        self.embedding_tensor = self.sess.graph.get_tensor_by_name(\n",
    "            OUTPUT_TENSOR_NAME)\n",
    "        self.post_processor = Postprocessor(self.pca_path)\n",
    "\n",
    "    def encode(self, content, *args, **kwargs):\n",
    "        [embedding_batch] = self.sess.run([self.embedding_tensor],\n",
    "                                          feed_dict={self.feature_tensor: content})\n",
    "        result = self.post_processor.postprocess(embedding_batch)\n",
    "        return (np.float32(result) - 128.) / 128."
   ]
  },
  {
   "cell_type": "code",
   "execution_count": null,
   "id": "finnish-advance",
   "metadata": {},
   "outputs": [],
   "source": [
    "VggishEncoder(model_path=)"
   ]
  },
  {
   "cell_type": "code",
   "execution_count": null,
   "id": "closing-french",
   "metadata": {},
   "outputs": [],
   "source": []
  }
 ],
 "metadata": {
  "kernelspec": {
   "display_name": "Python 3",
   "language": "python",
   "name": "python3"
  },
  "language_info": {
   "codemirror_mode": {
    "name": "ipython",
    "version": 3
   },
   "file_extension": ".py",
   "mimetype": "text/x-python",
   "name": "python",
   "nbconvert_exporter": "python",
   "pygments_lexer": "ipython3",
   "version": "3.9.2"
  }
 },
 "nbformat": 4,
 "nbformat_minor": 5
}
