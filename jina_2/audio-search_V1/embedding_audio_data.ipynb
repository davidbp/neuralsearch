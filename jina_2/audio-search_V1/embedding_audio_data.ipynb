{
 "cells": [
  {
   "cell_type": "markdown",
   "metadata": {
    "toc": true
   },
   "source": [
    "<h1>Table of Contents<span class=\"tocSkip\"></span></h1>\n",
    "<div class=\"toc\"><ul class=\"toc-item\"><li><ul class=\"toc-item\"><li><ul class=\"toc-item\"><li><span><a href=\"#Prepare-vvgish-input-manually\" data-toc-modified-id=\"Prepare-vvgish-input-manually-0.0.1\"><span class=\"toc-item-num\">0.0.1&nbsp;&nbsp;</span>Prepare vvgish input manually</a></span></li><li><span><a href=\"#We-can-directly-go-from-path-of-mp3-file-to-input-vggish\" data-toc-modified-id=\"We-can-directly-go-from-path-of-mp3-file-to-input-vggish-0.0.2\"><span class=\"toc-item-num\">0.0.2&nbsp;&nbsp;</span>We can directly go from path of mp3 file to input vggish</a></span></li></ul></li></ul></li><li><span><a href=\"#Index-FLow\" data-toc-modified-id=\"Index-FLow-1\"><span class=\"toc-item-num\">1&nbsp;&nbsp;</span>Index FLow</a></span><ul class=\"toc-item\"><li><span><a href=\"#Segmenting-the-data\" data-toc-modified-id=\"Segmenting-the-data-1.1\"><span class=\"toc-item-num\">1.1&nbsp;&nbsp;</span>Segmenting the data</a></span></li><li><span><a href=\"#Passing-data-thorugh-the-vvgish\" data-toc-modified-id=\"Passing-data-thorugh-the-vvgish-1.2\"><span class=\"toc-item-num\">1.2&nbsp;&nbsp;</span>Passing data thorugh the vvgish</a></span></li><li><span><a href=\"#Indexing\" data-toc-modified-id=\"Indexing-1.3\"><span class=\"toc-item-num\">1.3&nbsp;&nbsp;</span>Indexing</a></span></li></ul></li><li><span><a href=\"#Query-Flow\" data-toc-modified-id=\"Query-Flow-2\"><span class=\"toc-item-num\">2&nbsp;&nbsp;</span>Query Flow</a></span></li><li><span><a href=\"#Other-info\" data-toc-modified-id=\"Other-info-3\"><span class=\"toc-item-num\">3&nbsp;&nbsp;</span>Other info</a></span><ul class=\"toc-item\"><li><ul class=\"toc-item\"><li><span><a href=\"#Finding-matches-in-a-dataset\" data-toc-modified-id=\"Finding-matches-in-a-dataset-3.0.1\"><span class=\"toc-item-num\">3.0.1&nbsp;&nbsp;</span>Finding matches in a dataset</a></span></li></ul></li></ul></li></ul></div>"
   ]
  },
  {
   "cell_type": "code",
   "execution_count": 277,
   "metadata": {
    "ExecuteTime": {
     "end_time": "2021-05-31T14:43:33.962519Z",
     "start_time": "2021-05-31T14:43:33.919483Z"
    },
    "scrolled": true
   },
   "outputs": [
    {
     "name": "stdout",
     "output_type": "stream",
     "text": [
      "The autoreload extension is already loaded. To reload it, use:\n",
      "  %reload_ext autoreload\n"
     ]
    }
   ],
   "source": [
    "%load_ext autoreload\n",
    "%autoreload 2"
   ]
  },
  {
   "cell_type": "code",
   "execution_count": 278,
   "metadata": {
    "ExecuteTime": {
     "end_time": "2021-05-31T14:43:34.237757Z",
     "start_time": "2021-05-31T14:43:34.195246Z"
    },
    "scrolled": true
   },
   "outputs": [],
   "source": [
    "from vggish import mel_features\n",
    "from vggish import vggish_input\n",
    "from vggish import vggish_slim\n",
    "import executors\n",
    "\n",
    "import numpy as np\n",
    "import inspect\n",
    "\n",
    "import jina\n",
    "from jina import Document, DocumentArray"
   ]
  },
  {
   "cell_type": "markdown",
   "metadata": {},
   "source": [
    "### Prepare vvgish input manually"
   ]
  },
  {
   "cell_type": "code",
   "execution_count": 279,
   "metadata": {
    "ExecuteTime": {
     "end_time": "2021-05-31T14:43:34.527493Z",
     "start_time": "2021-05-31T14:43:34.482181Z"
    }
   },
   "outputs": [],
   "source": [
    "import librosa"
   ]
  },
  {
   "cell_type": "code",
   "execution_count": 280,
   "metadata": {
    "ExecuteTime": {
     "end_time": "2021-05-31T14:43:35.428649Z",
     "start_time": "2021-05-31T14:43:34.736539Z"
    }
   },
   "outputs": [
    {
     "name": "stderr",
     "output_type": "stream",
     "text": [
      "/Users/davidbuchaca1/opt/anaconda3/lib/python3.8/site-packages/librosa/core/audio.py:162: UserWarning: PySoundFile failed. Trying audioread instead.\n",
      "  warnings.warn(\"PySoundFile failed. Trying audioread instead.\")\n"
     ]
    }
   ],
   "source": [
    "x_audio, sample_rate = librosa.load('data/sample.mp3')"
   ]
  },
  {
   "cell_type": "code",
   "execution_count": 281,
   "metadata": {
    "ExecuteTime": {
     "end_time": "2021-05-31T14:43:36.042239Z",
     "start_time": "2021-05-31T14:43:35.603479Z"
    }
   },
   "outputs": [],
   "source": [
    "log_mel_examples = vggish_input.waveform_to_examples(x_audio, sample_rate)"
   ]
  },
  {
   "cell_type": "code",
   "execution_count": 282,
   "metadata": {
    "ExecuteTime": {
     "end_time": "2021-05-31T14:43:36.263404Z",
     "start_time": "2021-05-31T14:43:36.218892Z"
    }
   },
   "outputs": [
    {
     "data": {
      "text/plain": [
       "(28, 96, 64)"
      ]
     },
     "execution_count": 282,
     "metadata": {},
     "output_type": "execute_result"
    }
   ],
   "source": [
    "log_mel_examples.shape"
   ]
  },
  {
   "cell_type": "markdown",
   "metadata": {},
   "source": [
    "### We can directly go from path of mp3 file to input vggish"
   ]
  },
  {
   "cell_type": "code",
   "execution_count": 283,
   "metadata": {
    "ExecuteTime": {
     "end_time": "2021-05-31T14:43:37.495463Z",
     "start_time": "2021-05-31T14:43:36.430934Z"
    }
   },
   "outputs": [
    {
     "name": "stderr",
     "output_type": "stream",
     "text": [
      "/Users/davidbuchaca1/opt/anaconda3/lib/python3.8/site-packages/librosa/core/audio.py:162: UserWarning: PySoundFile failed. Trying audioread instead.\n",
      "  warnings.warn(\"PySoundFile failed. Trying audioread instead.\")\n"
     ]
    }
   ],
   "source": [
    "log_mel_examples = vggish_input.mp3_to_examples('data/sample.mp3')"
   ]
  },
  {
   "cell_type": "code",
   "execution_count": 284,
   "metadata": {
    "ExecuteTime": {
     "end_time": "2021-05-31T14:43:37.737138Z",
     "start_time": "2021-05-31T14:43:37.692364Z"
    }
   },
   "outputs": [
    {
     "data": {
      "text/plain": [
       "(28, 96, 64)"
      ]
     },
     "execution_count": 284,
     "metadata": {},
     "output_type": "execute_result"
    }
   ],
   "source": [
    "log_mel_examples.shape"
   ]
  },
  {
   "cell_type": "code",
   "execution_count": 285,
   "metadata": {
    "ExecuteTime": {
     "end_time": "2021-05-31T14:43:38.339063Z",
     "start_time": "2021-05-31T14:43:37.897918Z"
    }
   },
   "outputs": [],
   "source": [
    "log_mel_examples = vggish_input.wavfile_to_examples('data/Beethoven_1.wav')"
   ]
  },
  {
   "cell_type": "code",
   "execution_count": 286,
   "metadata": {
    "ExecuteTime": {
     "end_time": "2021-05-31T14:43:38.569656Z",
     "start_time": "2021-05-31T14:43:38.524293Z"
    }
   },
   "outputs": [
    {
     "data": {
      "text/plain": [
       "((19, 96, 64), (116736,))"
      ]
     },
     "execution_count": 286,
     "metadata": {},
     "output_type": "execute_result"
    }
   ],
   "source": [
    "log_mel_examples.shape, log_mel_examples.flatten().shape"
   ]
  },
  {
   "cell_type": "markdown",
   "metadata": {},
   "source": [
    "# Index FLow"
   ]
  },
  {
   "cell_type": "markdown",
   "metadata": {},
   "source": [
    "## Segmenting the data\n",
    "\n",
    "The segmenter in audio-example from jina examples does the following at segment time:\n",
    "\n",
    "- uses `read_wav(path_to_wav)` reads a wav file and returns a numpy array (`data`) and a integer (`sample_rate`)\n",
    "\n",
    "    - Here `read_wav` reads the data from a path, calling `soundfile.read` which returns a numpy array `data`.\n",
    "\n",
    "\n",
    "\n",
    "Example for `data/Beethoven_1.wav`:\n",
    "\n",
    "- data after `soundfile.read` has shape (806912,)\n",
    "\n",
    "- `mel_data=wav2vel(data)` has shape (806912,)\n",
    "\n",
    "\n"
   ]
  },
  {
   "cell_type": "code",
   "execution_count": 287,
   "metadata": {
    "ExecuteTime": {
     "end_time": "2021-05-31T14:43:38.791421Z",
     "start_time": "2021-05-31T14:43:38.732998Z"
    },
    "scrolled": true
   },
   "outputs": [
    {
     "name": "stdout",
     "output_type": "stream",
     "text": [
      "(806912, 2)\n",
      "(806912,)\n"
     ]
    }
   ],
   "source": [
    "import soundfile as sf\n",
    "\n",
    "wav_data, sample_rate = sf.read('data/Beethoven_1.wav', dtype='int16')\n",
    "print(wav_data.shape)\n",
    "wav_data = np.mean(wav_data, axis=1)\n",
    "data = wav_data / sample_rate\n",
    "print(data.shape)"
   ]
  },
  {
   "cell_type": "code",
   "execution_count": 288,
   "metadata": {
    "ExecuteTime": {
     "end_time": "2021-05-31T14:43:39.821234Z",
     "start_time": "2021-05-31T14:43:38.952396Z"
    }
   },
   "outputs": [
    {
     "name": "stdout",
     "output_type": "stream",
     "text": [
      "(19, 96, 64)\n",
      "(19, 96, 64)\n"
     ]
    }
   ],
   "source": [
    "from vggish.vggish_input import waveform_to_examples\n",
    "\n",
    "aux = waveform_to_examples(data, sample_rate)\n",
    "print(aux.shape)\n",
    "\n",
    "aux = waveform_to_examples(data, sample_rate).squeeze()\n",
    "print(aux.shape)"
   ]
  },
  {
   "cell_type": "code",
   "execution_count": 289,
   "metadata": {
    "ExecuteTime": {
     "end_time": "2021-05-31T14:43:40.060048Z",
     "start_time": "2021-05-31T14:43:40.016101Z"
    }
   },
   "outputs": [],
   "source": [
    "segmenter = executors.VggishSegmenter()"
   ]
  },
  {
   "cell_type": "code",
   "execution_count": 290,
   "metadata": {
    "ExecuteTime": {
     "end_time": "2021-05-31T14:43:40.272107Z",
     "start_time": "2021-05-31T14:43:40.224009Z"
    },
    "scrolled": true
   },
   "outputs": [
    {
     "name": "stdout",
     "output_type": "stream",
     "text": [
      "    def segment(self, docs, *args, **kwargs):\n",
      "        for doc in docs:\n",
      "            data, sample_rate = self.read_wav(doc.uri)\n",
      "            mel_data = self.wav2mel(data, sample_rate)\n",
      "            for idx, blob in enumerate(mel_data):\n",
      "                #self.logger.debug(f'blob: {blob.shape}')\n",
      "                doc.chunks.append(Document(offset=idx, weight=1.0, blob=blob))\n",
      "\n"
     ]
    }
   ],
   "source": [
    "print(inspect.getsource(segmenter.segment))"
   ]
  },
  {
   "cell_type": "markdown",
   "metadata": {},
   "source": [
    "Note that each chunk is a Document containing each element from mel_data.\n",
    "\n",
    "In particular this will create as elements as mel_data.shape[0]"
   ]
  },
  {
   "cell_type": "code",
   "execution_count": 291,
   "metadata": {
    "ExecuteTime": {
     "end_time": "2021-05-31T14:43:40.489569Z",
     "start_time": "2021-05-31T14:43:40.444795Z"
    },
    "scrolled": false
   },
   "outputs": [
    {
     "data": {
      "text/plain": [
       "(96, 64)"
      ]
     },
     "execution_count": 291,
     "metadata": {},
     "output_type": "execute_result"
    }
   ],
   "source": [
    "aux[0].shape"
   ]
  },
  {
   "cell_type": "markdown",
   "metadata": {},
   "source": [
    "##### Segmenting data"
   ]
  },
  {
   "cell_type": "code",
   "execution_count": 292,
   "metadata": {
    "ExecuteTime": {
     "end_time": "2021-05-31T14:43:40.700093Z",
     "start_time": "2021-05-31T14:43:40.656840Z"
    },
    "scrolled": true
   },
   "outputs": [
    {
     "name": "stdout",
     "output_type": "stream",
     "text": [
      "data/Beethoven_1.wav data/Beethoven_2.wav\n"
     ]
    }
   ],
   "source": [
    "doc_1 = Document(uri = 'data/Beethoven_1.wav')\n",
    "doc_2 = Document(uri = 'data/Beethoven_2.wav')\n",
    "\n",
    "print(doc_1.uri, doc_2.uri)\n",
    "darray = DocumentArray([doc_1, doc_2])\n",
    "segmenter = executors.VggishSegmenter()"
   ]
  },
  {
   "cell_type": "markdown",
   "metadata": {},
   "source": [
    "Now we can see that a document contains nothing more than a uri"
   ]
  },
  {
   "cell_type": "code",
   "execution_count": 293,
   "metadata": {
    "ExecuteTime": {
     "end_time": "2021-05-31T14:43:40.857322Z",
     "start_time": "2021-05-31T14:43:40.813943Z"
    }
   },
   "outputs": [
    {
     "name": "stdout",
     "output_type": "stream",
     "text": [
      "{'id': '973b30b6-c21e-11eb-8d75-787b8ab3f5de', 'uri': 'data/Beethoven_1.wav', 'mime_type': 'audio/x-wav'}\n"
     ]
    }
   ],
   "source": [
    "print(darray[0])"
   ]
  },
  {
   "cell_type": "code",
   "execution_count": 294,
   "metadata": {
    "ExecuteTime": {
     "end_time": "2021-05-31T14:43:42.173764Z",
     "start_time": "2021-05-31T14:43:40.966946Z"
    }
   },
   "outputs": [],
   "source": [
    "segmenter.read(darray)"
   ]
  },
  {
   "cell_type": "markdown",
   "metadata": {},
   "source": [
    "After segmenting the document contains many chunks"
   ]
  },
  {
   "cell_type": "code",
   "execution_count": 295,
   "metadata": {
    "ExecuteTime": {
     "end_time": "2021-05-31T14:43:42.419132Z",
     "start_time": "2021-05-31T14:43:42.365248Z"
    }
   },
   "outputs": [
    {
     "data": {
      "text/html": [
       "<img src=\"https://mermaid.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\"/>"
      ],
      "text/plain": [
       "<IPython.core.display.Image object>"
      ]
     },
     "metadata": {},
     "output_type": "display_data"
    }
   ],
   "source": [
    "darray[0]"
   ]
  },
  {
   "cell_type": "markdown",
   "metadata": {},
   "source": [
    "Note that different documents can have a different number of chunks"
   ]
  },
  {
   "cell_type": "code",
   "execution_count": 296,
   "metadata": {
    "ExecuteTime": {
     "end_time": "2021-05-31T14:43:42.629431Z",
     "start_time": "2021-05-31T14:43:42.578388Z"
    }
   },
   "outputs": [
    {
     "data": {
      "text/plain": [
       "(19, 33)"
      ]
     },
     "execution_count": 296,
     "metadata": {},
     "output_type": "execute_result"
    }
   ],
   "source": [
    "len(darray[0].chunks),len(darray[1].chunks)"
   ]
  },
  {
   "cell_type": "markdown",
   "metadata": {},
   "source": [
    "##  Passing data thorugh the vvgish\n",
    "\n",
    "\n",
    "Now we have each document with a bunch of chunks and we need to encode the data of each chunk as an embedding"
   ]
  },
  {
   "cell_type": "code",
   "execution_count": 297,
   "metadata": {
    "ExecuteTime": {
     "end_time": "2021-05-31T14:43:43.111819Z",
     "start_time": "2021-05-31T14:43:43.067836Z"
    }
   },
   "outputs": [
    {
     "data": {
      "text/plain": [
       "<jina.types.arrays.chunk.ChunkArray length=19 at 140544965935888>"
      ]
     },
     "execution_count": 297,
     "metadata": {},
     "output_type": "execute_result"
    }
   ],
   "source": [
    "darray[0].chunks"
   ]
  },
  {
   "cell_type": "code",
   "execution_count": 298,
   "metadata": {
    "ExecuteTime": {
     "end_time": "2021-05-31T14:43:43.370102Z",
     "start_time": "2021-05-31T14:43:43.326408Z"
    }
   },
   "outputs": [],
   "source": [
    "from executors import VggishEncoder"
   ]
  },
  {
   "cell_type": "code",
   "execution_count": 424,
   "metadata": {
    "ExecuteTime": {
     "end_time": "2021-05-31T15:16:33.617235Z",
     "start_time": "2021-05-31T15:16:33.038988Z"
    }
   },
   "outputs": [
    {
     "name": "stdout",
     "output_type": "stream",
     "text": [
      "INFO:tensorflow:Restoring parameters from /Users/davidbuchaca1/Documents/git_stuff/neuralsearch/jina_2/audio-search_V1/models/vggish_model.ckpt\n"
     ]
    }
   ],
   "source": [
    "encoder = VggishEncoder()"
   ]
  },
  {
   "cell_type": "code",
   "execution_count": 425,
   "metadata": {
    "ExecuteTime": {
     "end_time": "2021-05-31T15:16:34.591692Z",
     "start_time": "2021-05-31T15:16:34.546615Z"
    }
   },
   "outputs": [
    {
     "data": {
      "text/plain": [
       "numpy.ndarray"
      ]
     },
     "execution_count": 425,
     "metadata": {},
     "output_type": "execute_result"
    }
   ],
   "source": [
    "type(darray[0].chunks[0].embedding)"
   ]
  },
  {
   "cell_type": "markdown",
   "metadata": {},
   "source": [
    "#### Traversing over chunks\n",
    "\n",
    "We can traverse over all chunks of all documents using `darray.traverse_flat(traversal_paths='c')` which will return a DocumentArray that contains 52 documents (19+33=52)."
   ]
  },
  {
   "cell_type": "code",
   "execution_count": 426,
   "metadata": {
    "ExecuteTime": {
     "end_time": "2021-05-31T15:16:35.233400Z",
     "start_time": "2021-05-31T15:16:35.190797Z"
    }
   },
   "outputs": [
    {
     "data": {
      "text/plain": [
       "<jina.types.arrays.document.DocumentArray length=52 at 140544391462384>"
      ]
     },
     "execution_count": 426,
     "metadata": {},
     "output_type": "execute_result"
    }
   ],
   "source": [
    "darray.traverse_flat(traversal_paths='c')"
   ]
  },
  {
   "cell_type": "code",
   "execution_count": 302,
   "metadata": {
    "ExecuteTime": {
     "end_time": "2021-05-31T14:43:45.979641Z",
     "start_time": "2021-05-31T14:43:45.618754Z"
    }
   },
   "outputs": [],
   "source": [
    "embedding = encoder._encode(darray.traverse_flat(traversal_paths='c'))"
   ]
  },
  {
   "cell_type": "markdown",
   "metadata": {},
   "source": [
    "After the embedding is generated we have a vector of 128 components for each chunk"
   ]
  },
  {
   "cell_type": "code",
   "execution_count": 303,
   "metadata": {
    "ExecuteTime": {
     "end_time": "2021-05-31T14:43:46.564065Z",
     "start_time": "2021-05-31T14:43:46.519669Z"
    }
   },
   "outputs": [
    {
     "name": "stdout",
     "output_type": "stream",
     "text": [
      "    def _encode(self, docs: DocumentArray, *args, **kwargs):\n",
      "        blobs = docs.get_attributes('blob')\n",
      "        [embedding_batch] = self.sess.run([self.embedding_tensor],\n",
      "                                          feed_dict={self.feature_tensor: blobs})\n",
      "        result = self.post_processor.postprocess(embedding_batch)\n",
      "        embedding_matrix = (np.float32(result) - 128.) / 128.\n",
      "        return embedding_matrix\n",
      "\n"
     ]
    }
   ],
   "source": [
    "print(inspect.getsource(encoder._encode))"
   ]
  },
  {
   "cell_type": "code",
   "execution_count": 304,
   "metadata": {
    "ExecuteTime": {
     "end_time": "2021-05-31T14:43:47.521580Z",
     "start_time": "2021-05-31T14:43:47.476154Z"
    }
   },
   "outputs": [
    {
     "data": {
      "text/plain": [
       "(52, 128)"
      ]
     },
     "execution_count": 304,
     "metadata": {},
     "output_type": "execute_result"
    }
   ],
   "source": [
    "embedding.shape"
   ]
  },
  {
   "cell_type": "markdown",
   "metadata": {},
   "source": [
    "The function `_encode_and_update` precisely updates the document array\n",
    "using each of the rows in the matrix generated by `_encode`"
   ]
  },
  {
   "cell_type": "code",
   "execution_count": 305,
   "metadata": {
    "ExecuteTime": {
     "end_time": "2021-05-31T14:43:48.588629Z",
     "start_time": "2021-05-31T14:43:48.544735Z"
    }
   },
   "outputs": [
    {
     "name": "stdout",
     "output_type": "stream",
     "text": [
      "    def _encode_and_update(self, docs: DocumentArray, *args, **kwargs):\n",
      "        embedding_matrix = self._encode(docs)\n",
      "        for d,e in zip(docs, embedding_matrix):\n",
      "            d.embedding = e\n",
      "\n"
     ]
    }
   ],
   "source": [
    "print(inspect.getsource(encoder._encode_and_update))"
   ]
  },
  {
   "cell_type": "code",
   "execution_count": 306,
   "metadata": {
    "ExecuteTime": {
     "end_time": "2021-05-31T14:43:49.162484Z",
     "start_time": "2021-05-31T14:43:48.799890Z"
    }
   },
   "outputs": [],
   "source": [
    "encoder._encode_and_update(darray.traverse_flat(traversal_paths='c'))"
   ]
  },
  {
   "cell_type": "code",
   "execution_count": 307,
   "metadata": {
    "ExecuteTime": {
     "end_time": "2021-05-31T14:43:49.397960Z",
     "start_time": "2021-05-31T14:43:49.353156Z"
    },
    "scrolled": true
   },
   "outputs": [
    {
     "data": {
      "text/plain": [
       "(128,)"
      ]
     },
     "execution_count": 307,
     "metadata": {},
     "output_type": "execute_result"
    }
   ],
   "source": [
    "darray[0].chunks[0].embedding.shape"
   ]
  },
  {
   "cell_type": "markdown",
   "metadata": {},
   "source": [
    "## Indexing\n",
    "\n",
    "We can create an `Indexer object` and pass the document array with the DocumentArray that contains the embeddings"
   ]
  },
  {
   "cell_type": "code",
   "execution_count": 308,
   "metadata": {
    "ExecuteTime": {
     "end_time": "2021-05-31T14:43:51.139701Z",
     "start_time": "2021-05-31T14:43:51.098444Z"
    }
   },
   "outputs": [],
   "source": [
    "indexer = executors.Indexer()"
   ]
  },
  {
   "cell_type": "code",
   "execution_count": 309,
   "metadata": {
    "ExecuteTime": {
     "end_time": "2021-05-31T14:43:53.190668Z",
     "start_time": "2021-05-31T14:43:53.146601Z"
    }
   },
   "outputs": [],
   "source": [
    "indexer.index(darray)"
   ]
  },
  {
   "cell_type": "markdown",
   "metadata": {},
   "source": [
    "When the indexer is fitted (`.index()`) it stores the embeddings of the data"
   ]
  },
  {
   "cell_type": "code",
   "execution_count": 310,
   "metadata": {
    "ExecuteTime": {
     "end_time": "2021-05-31T14:43:53.727773Z",
     "start_time": "2021-05-31T14:43:53.685975Z"
    }
   },
   "outputs": [
    {
     "data": {
      "text/plain": [
       "(128,)"
      ]
     },
     "execution_count": 310,
     "metadata": {},
     "output_type": "execute_result"
    }
   ],
   "source": [
    "indexer._docs[0].chunks[0].embedding.shape"
   ]
  },
  {
   "cell_type": "code",
   "execution_count": 311,
   "metadata": {
    "ExecuteTime": {
     "end_time": "2021-05-31T14:43:54.021793Z",
     "start_time": "2021-05-31T14:43:53.978750Z"
    }
   },
   "outputs": [
    {
     "data": {
      "text/plain": [
       "NoneType"
      ]
     },
     "execution_count": 311,
     "metadata": {},
     "output_type": "execute_result"
    }
   ],
   "source": [
    "#this is empty\n",
    "type(indexer._embedding_matrix)"
   ]
  },
  {
   "cell_type": "code",
   "execution_count": 316,
   "metadata": {
    "ExecuteTime": {
     "end_time": "2021-05-31T14:44:02.899631Z",
     "start_time": "2021-05-31T14:44:02.855316Z"
    }
   },
   "outputs": [
    {
     "data": {
      "text/plain": [
       "NoneType"
      ]
     },
     "execution_count": 316,
     "metadata": {},
     "output_type": "execute_result"
    }
   ],
   "source": [
    "type(indexer._darray_chunks)"
   ]
  },
  {
   "cell_type": "markdown",
   "metadata": {},
   "source": [
    "Note that now folder `workspace` does not exists"
   ]
  },
  {
   "cell_type": "code",
   "execution_count": 313,
   "metadata": {
    "ExecuteTime": {
     "end_time": "2021-05-31T14:43:54.631012Z",
     "start_time": "2021-05-31T14:43:54.465781Z"
    }
   },
   "outputs": [
    {
     "name": "stdout",
     "output_type": "stream",
     "text": [
      "ls: workspace/: No such file or directory\r\n"
     ]
    }
   ],
   "source": [
    "!ls workspace/"
   ]
  },
  {
   "cell_type": "markdown",
   "metadata": {},
   "source": [
    "after calling `indexer.close()` the `workspace` folder will be created"
   ]
  },
  {
   "cell_type": "code",
   "execution_count": 318,
   "metadata": {
    "ExecuteTime": {
     "end_time": "2021-05-31T14:44:36.077197Z",
     "start_time": "2021-05-31T14:44:36.009347Z"
    }
   },
   "outputs": [],
   "source": [
    "indexer.close()"
   ]
  },
  {
   "cell_type": "code",
   "execution_count": 320,
   "metadata": {
    "ExecuteTime": {
     "end_time": "2021-05-31T14:44:39.884230Z",
     "start_time": "2021-05-31T14:44:39.722048Z"
    }
   },
   "outputs": [
    {
     "name": "stdout",
     "output_type": "stream",
     "text": [
      "docs.json\r\n"
     ]
    }
   ],
   "source": [
    "!ls workspace/"
   ]
  },
  {
   "cell_type": "markdown",
   "metadata": {},
   "source": [
    "Then when we instanciate the indexer again it will contain the `_embemdding_matrix` which will be loaded from `workspace`"
   ]
  },
  {
   "cell_type": "code",
   "execution_count": 377,
   "metadata": {
    "ExecuteTime": {
     "end_time": "2021-05-31T15:09:44.534914Z",
     "start_time": "2021-05-31T15:09:42.981279Z"
    }
   },
   "outputs": [
    {
     "name": "stderr",
     "output_type": "stream",
     "text": [
      "[autoreload of executors failed: Traceback (most recent call last):\n",
      "  File \"/Users/davidbuchaca1/opt/anaconda3/lib/python3.8/site-packages/IPython/extensions/autoreload.py\", line 245, in check\n",
      "    superreload(m, reload, self.old_objects)\n",
      "  File \"/Users/davidbuchaca1/opt/anaconda3/lib/python3.8/site-packages/IPython/extensions/autoreload.py\", line 410, in superreload\n",
      "    update_generic(old_obj, new_obj)\n",
      "  File \"/Users/davidbuchaca1/opt/anaconda3/lib/python3.8/site-packages/IPython/extensions/autoreload.py\", line 347, in update_generic\n",
      "    update(a, b)\n",
      "  File \"/Users/davidbuchaca1/opt/anaconda3/lib/python3.8/site-packages/IPython/extensions/autoreload.py\", line 302, in update_class\n",
      "    if update_generic(old_obj, new_obj): continue\n",
      "  File \"/Users/davidbuchaca1/opt/anaconda3/lib/python3.8/site-packages/IPython/extensions/autoreload.py\", line 347, in update_generic\n",
      "    update(a, b)\n",
      "  File \"/Users/davidbuchaca1/opt/anaconda3/lib/python3.8/site-packages/IPython/extensions/autoreload.py\", line 266, in update_function\n",
      "    setattr(old, name, getattr(new, name))\n",
      "ValueError: __init__() requires a code object with 1 free vars, not 0\n",
      "]\n"
     ]
    }
   ],
   "source": [
    "indexer = executors.Indexer()"
   ]
  },
  {
   "cell_type": "code",
   "execution_count": 378,
   "metadata": {
    "ExecuteTime": {
     "end_time": "2021-05-31T15:09:45.115984Z",
     "start_time": "2021-05-31T15:09:45.065372Z"
    }
   },
   "outputs": [
    {
     "data": {
      "text/plain": [
       "array([[ 0.234375 , -0.421875 ,  0.0859375, ...,  0.4921875,  0.6640625,\n",
       "        -0.046875 ],\n",
       "       [ 0.2890625, -0.4296875,  0.0625   , ...,  0.6953125,  0.3515625,\n",
       "        -0.921875 ],\n",
       "       [ 0.2890625, -0.5703125,  0.15625  , ...,  0.5625   ,  0.8203125,\n",
       "         0.       ],\n",
       "       ...,\n",
       "       [ 0.34375  , -0.796875 ,  0.       , ...,  0.1328125,  0.078125 ,\n",
       "         0.4765625],\n",
       "       [ 0.34375  , -0.796875 , -0.0078125, ...,  0.09375  ,  0.0703125,\n",
       "         0.4453125],\n",
       "       [ 0.3515625, -0.7890625, -0.015625 , ...,  0.0390625,  0.015625 ,\n",
       "         0.4609375]], dtype=float32)"
      ]
     },
     "execution_count": 378,
     "metadata": {},
     "output_type": "execute_result"
    }
   ],
   "source": [
    "indexer._embedding_matrix"
   ]
  },
  {
   "cell_type": "markdown",
   "metadata": {},
   "source": [
    "# Query Flow"
   ]
  },
  {
   "cell_type": "markdown",
   "metadata": {},
   "source": [
    "Let us assume we have a query that is segmented and for each segment a chunk is created with an embedding"
   ]
  },
  {
   "cell_type": "code",
   "execution_count": 415,
   "metadata": {
    "ExecuteTime": {
     "end_time": "2021-05-31T15:14:06.899663Z",
     "start_time": "2021-05-31T15:14:06.854170Z"
    }
   },
   "outputs": [],
   "source": [
    "chunks = darray[0].chunks[2:4]\n",
    "q = Document()\n",
    "q.chunks = chunks"
   ]
  },
  {
   "cell_type": "code",
   "execution_count": 416,
   "metadata": {
    "ExecuteTime": {
     "end_time": "2021-05-31T15:14:07.442923Z",
     "start_time": "2021-05-31T15:14:07.389079Z"
    },
    "scrolled": true
   },
   "outputs": [
    {
     "data": {
      "text/html": [
       "<img src=\"https://mermaid.ink/svg/JSV7aW5pdDogeyd0aGVtZSc6ICdiYXNlJywgJ3RoZW1lVmFyaWFibGVzJzogeyAncHJpbWFyeUNvbG9yJzogJyNGRkM2NjYnfX19JSUKICAgICAgICAgICAgICAgICAgICAgICAgY2xhc3NEaWFncmFtCiAgICAgICAgICAgICAgICAgICAgCiAgICAgICAgICAgICAgICAgICAgICAgICAgICAgICAgNjZmfkRvY3VtZW50fiAtLT4gIjEvMiIgY2Y2fkRvY3VtZW50fjogY2h1bmtzCmNsYXNzIGNmNn5Eb2N1bWVudH57CitpZCA5N2FiYzQwYy1jCit3ZWlnaHQgMS4wCittaW1lX3R5cGUgYXVkaW8veC13YQorYmxvYig8Y2xhc3MgJ251bXB5Lm5kYXJyYXknPikKK2dyYW51bGFyaXR5IDEKK3BhcmVudF9pZCBkN2JiMjlhOC1jCitvZmZzZXQgMgorZW1iZWRkaW5nKDxjbGFzcyAnbnVtcHkubmRhcnJheSc+KQorY29udGVudF9oYXNoIDVjMjI2Mjg0MjAKfQo2NmZ+RG9jdW1lbnR+IC0tPiAiMi8yIiA0NjB+RG9jdW1lbnR+OiBjaHVua3MKY2xhc3MgNDYwfkRvY3VtZW50fnsKK2lkIDk3YWJjZGIyLWMKK3dlaWdodCAxLjAKK21pbWVfdHlwZSBhdWRpby94LXdhCitibG9iKDxjbGFzcyAnbnVtcHkubmRhcnJheSc+KQorZ3JhbnVsYXJpdHkgMQorcGFyZW50X2lkIGQ3YmIyOWE4LWMKK29mZnNldCAzCitlbWJlZGRpbmcoPGNsYXNzICdudW1weS5uZGFycmF5Jz4pCitjb250ZW50X2hhc2ggNDE4Mjk0ZWIyNAp9CmNsYXNzIDY2Zn5Eb2N1bWVudH57CitpZCBkN2JiMjlhOC1jCn0=\"/>"
      ],
      "text/plain": [
       "<IPython.core.display.Image object>"
      ]
     },
     "metadata": {},
     "output_type": "display_data"
    }
   ],
   "source": [
    "q"
   ]
  },
  {
   "cell_type": "code",
   "execution_count": 417,
   "metadata": {
    "ExecuteTime": {
     "end_time": "2021-05-31T15:14:07.903569Z",
     "start_time": "2021-05-31T15:14:07.855417Z"
    }
   },
   "outputs": [],
   "source": [
    "q_darray = DocumentArray([q])"
   ]
  },
  {
   "cell_type": "markdown",
   "metadata": {
    "ExecuteTime": {
     "end_time": "2021-05-31T14:13:25.447071Z",
     "start_time": "2021-05-31T14:13:25.398682Z"
    }
   },
   "source": [
    "Now it is time for the `Indexer` to find matches"
   ]
  },
  {
   "cell_type": "code",
   "execution_count": 418,
   "metadata": {
    "ExecuteTime": {
     "end_time": "2021-05-31T15:14:08.148275Z",
     "start_time": "2021-05-31T15:14:08.083890Z"
    },
    "scrolled": true
   },
   "outputs": [],
   "source": [
    "indexer.search(q_darray, parameters={'top_k':10})"
   ]
  },
  {
   "cell_type": "code",
   "execution_count": 419,
   "metadata": {
    "ExecuteTime": {
     "end_time": "2021-05-31T15:14:08.619697Z",
     "start_time": "2021-05-31T15:14:08.569075Z"
    },
    "scrolled": true
   },
   "outputs": [
    {
     "data": {
      "text/plain": [
       "<jina.types.arrays.match.MatchArray length=2 at 140543733364144>"
      ]
     },
     "execution_count": 419,
     "metadata": {},
     "output_type": "execute_result"
    }
   ],
   "source": [
    "q_darray[0].matches"
   ]
  },
  {
   "cell_type": "code",
   "execution_count": 420,
   "metadata": {
    "ExecuteTime": {
     "end_time": "2021-05-31T15:14:09.092487Z",
     "start_time": "2021-05-31T15:14:09.036336Z"
    }
   },
   "outputs": [
    {
     "data": {
      "text/plain": [
       "0.0"
      ]
     },
     "execution_count": 420,
     "metadata": {},
     "output_type": "execute_result"
    }
   ],
   "source": [
    "q_darray[0].matches[0].score.value"
   ]
  },
  {
   "cell_type": "code",
   "execution_count": 421,
   "metadata": {
    "ExecuteTime": {
     "end_time": "2021-05-31T15:14:09.773574Z",
     "start_time": "2021-05-31T15:14:09.726025Z"
    },
    "scrolled": true
   },
   "outputs": [
    {
     "data": {
      "text/plain": [
       "'data/Beethoven_1.wav'"
      ]
     },
     "execution_count": 421,
     "metadata": {},
     "output_type": "execute_result"
    }
   ],
   "source": [
    "q_darray[0].matches[0].uri"
   ]
  },
  {
   "cell_type": "code",
   "execution_count": 422,
   "metadata": {
    "ExecuteTime": {
     "end_time": "2021-05-31T15:14:10.698079Z",
     "start_time": "2021-05-31T15:14:10.646068Z"
    }
   },
   "outputs": [
    {
     "data": {
      "text/plain": [
       "'data/Beethoven_2.wav'"
      ]
     },
     "execution_count": 422,
     "metadata": {},
     "output_type": "execute_result"
    }
   ],
   "source": [
    "q_darray[0].matches[1].uri"
   ]
  },
  {
   "cell_type": "code",
   "execution_count": null,
   "metadata": {},
   "outputs": [],
   "source": []
  },
  {
   "cell_type": "code",
   "execution_count": null,
   "metadata": {},
   "outputs": [],
   "source": []
  },
  {
   "cell_type": "code",
   "execution_count": null,
   "metadata": {},
   "outputs": [],
   "source": []
  },
  {
   "cell_type": "code",
   "execution_count": null,
   "metadata": {},
   "outputs": [],
   "source": []
  },
  {
   "cell_type": "code",
   "execution_count": null,
   "metadata": {},
   "outputs": [],
   "source": []
  },
  {
   "cell_type": "markdown",
   "metadata": {},
   "source": [
    "# Other info"
   ]
  },
  {
   "cell_type": "markdown",
   "metadata": {},
   "source": [
    "Note that different wav files will be represented with different numpy arrays:"
   ]
  },
  {
   "cell_type": "code",
   "execution_count": 49,
   "metadata": {
    "ExecuteTime": {
     "end_time": "2021-05-31T13:04:09.880424Z",
     "start_time": "2021-05-31T13:04:08.729414Z"
    },
    "scrolled": true
   },
   "outputs": [
    {
     "name": "stdout",
     "output_type": "stream",
     "text": [
      "(19, 96, 64)\n",
      "(33, 96, 64)\n"
     ]
    }
   ],
   "source": [
    "data_1 = vggish_input.wavfile_to_examples('data/Beethoven_1.wav')\n",
    "data_2 = vggish_input.wavfile_to_examples('data/Beethoven_2.wav')\n",
    "print(data_1.shape)\n",
    "print(data_2.shape)"
   ]
  },
  {
   "cell_type": "markdown",
   "metadata": {},
   "source": [
    "Now let's define a VggishEncoder and look at how to encode the data"
   ]
  },
  {
   "cell_type": "code",
   "execution_count": 30,
   "metadata": {
    "ExecuteTime": {
     "end_time": "2021-05-31T13:02:14.711184Z",
     "start_time": "2021-05-31T13:02:13.977648Z"
    },
    "scrolled": true
   },
   "outputs": [
    {
     "name": "stderr",
     "output_type": "stream",
     "text": [
      "/Users/davidbuchaca1/opt/anaconda3/lib/python3.8/site-packages/tensorflow/python/keras/engine/base_layer_v1.py:1719: UserWarning: `layer.apply` is deprecated and will be removed in a future version. Please use `layer.__call__` method instead.\n",
      "  warnings.warn('`layer.apply` is deprecated and '\n",
      "/Users/davidbuchaca1/opt/anaconda3/lib/python3.8/site-packages/tensorflow/python/keras/legacy_tf_layers/core.py:329: UserWarning: `tf.layers.flatten` is deprecated and will be removed in a future version. Please use `tf.keras.layers.Flatten` instead.\n",
      "  warnings.warn('`tf.layers.flatten` is deprecated and '\n"
     ]
    },
    {
     "name": "stdout",
     "output_type": "stream",
     "text": [
      "INFO:tensorflow:Restoring parameters from /Users/davidbuchaca1/Documents/git_stuff/neuralsearch/jina_2/audio-search_V1/models/vggish_model.ckpt\n"
     ]
    }
   ],
   "source": [
    "encoder = VggishEncoder()"
   ]
  },
  {
   "cell_type": "code",
   "execution_count": 31,
   "metadata": {
    "ExecuteTime": {
     "end_time": "2021-05-31T13:02:15.035344Z",
     "start_time": "2021-05-31T13:02:14.991706Z"
    }
   },
   "outputs": [
    {
     "data": {
      "text/plain": [
       "'/Users/davidbuchaca1/Documents/git_stuff/neuralsearch/jina_2/audio-search_V1/executors.py'"
      ]
     },
     "execution_count": 31,
     "metadata": {},
     "output_type": "execute_result"
    }
   ],
   "source": [
    "inspect.getsourcefile(encoder._encode)"
   ]
  },
  {
   "cell_type": "markdown",
   "metadata": {},
   "source": [
    "We can take a look at how data is encoded"
   ]
  },
  {
   "cell_type": "code",
   "execution_count": 32,
   "metadata": {
    "ExecuteTime": {
     "end_time": "2021-05-31T13:02:15.560826Z",
     "start_time": "2021-05-31T13:02:15.518828Z"
    }
   },
   "outputs": [
    {
     "name": "stdout",
     "output_type": "stream",
     "text": [
      "    def _encode(self, docs: DocumentArray, *args, **kwargs):\n",
      "        blobs = docs.get_attributes('blob')\n",
      "        [embedding_batch] = self.sess.run([self.embedding_tensor],\n",
      "                                           feed_dict={self.feature_tensor: blobs})\n",
      "        result = self.post_processor.postprocess(embedding_batch)\n",
      "        embedding_matrix = (np.float32(result) - 128.) / 128.\n",
      "        \n",
      "        for d,e in zip(docs, embedding_matrix):\n",
      "            d.embedding = e\n",
      "\n"
     ]
    }
   ],
   "source": [
    "print(inspect.getsource(encoder._encode))"
   ]
  },
  {
   "cell_type": "code",
   "execution_count": 33,
   "metadata": {
    "ExecuteTime": {
     "end_time": "2021-05-31T13:02:16.460079Z",
     "start_time": "2021-05-31T13:02:16.418922Z"
    },
    "scrolled": true
   },
   "outputs": [
    {
     "data": {
      "text/plain": [
       "<bound method VggishEncoder._encode of <executors.VggishEncoder object at 0x7f90d1184f70>>"
      ]
     },
     "execution_count": 33,
     "metadata": {},
     "output_type": "execute_result"
    }
   ],
   "source": [
    "encoder._encode"
   ]
  },
  {
   "cell_type": "code",
   "execution_count": 34,
   "metadata": {
    "ExecuteTime": {
     "end_time": "2021-05-31T13:02:17.720586Z",
     "start_time": "2021-05-31T13:02:17.678781Z"
    }
   },
   "outputs": [],
   "source": [
    "d1 = Document()\n",
    "d2 = Document()\n",
    "\n",
    "d1.blob = data_1\n",
    "d2.blob = data_2\n",
    "\n",
    "darray = DocumentArray([d1,d2])"
   ]
  },
  {
   "cell_type": "code",
   "execution_count": 36,
   "metadata": {
    "ExecuteTime": {
     "end_time": "2021-05-31T13:02:21.197214Z",
     "start_time": "2021-05-31T13:02:21.155525Z"
    }
   },
   "outputs": [
    {
     "data": {
      "text/plain": [
       "((19, 96, 64), (33, 96, 64))"
      ]
     },
     "execution_count": 36,
     "metadata": {},
     "output_type": "execute_result"
    }
   ],
   "source": [
    "d1.blob.shape, d2.blob.shape"
   ]
  },
  {
   "cell_type": "code",
   "execution_count": 42,
   "metadata": {
    "ExecuteTime": {
     "end_time": "2021-05-31T13:02:36.124883Z",
     "start_time": "2021-05-31T13:02:36.084157Z"
    }
   },
   "outputs": [],
   "source": [
    "aux = darray.get_attributes('blob')"
   ]
  },
  {
   "cell_type": "code",
   "execution_count": 47,
   "metadata": {
    "ExecuteTime": {
     "end_time": "2021-05-31T13:02:43.933115Z",
     "start_time": "2021-05-31T13:02:43.891901Z"
    }
   },
   "outputs": [
    {
     "data": {
      "text/plain": [
       "(19, 96, 64)"
      ]
     },
     "execution_count": 47,
     "metadata": {},
     "output_type": "execute_result"
    }
   ],
   "source": [
    "aux[0].shape"
   ]
  },
  {
   "cell_type": "code",
   "execution_count": 31,
   "metadata": {
    "ExecuteTime": {
     "end_time": "2021-05-31T10:51:27.722390Z",
     "start_time": "2021-05-31T10:51:27.681243Z"
    }
   },
   "outputs": [],
   "source": [
    "#encoder._encode(darray)"
   ]
  },
  {
   "cell_type": "code",
   "execution_count": 85,
   "metadata": {},
   "outputs": [],
   "source": [
    "#Document(data_1)"
   ]
  },
  {
   "cell_type": "code",
   "execution_count": 357,
   "metadata": {
    "ExecuteTime": {
     "end_time": "2021-05-31T15:01:50.635709Z",
     "start_time": "2021-05-31T15:01:50.586606Z"
    }
   },
   "outputs": [
    {
     "data": {
      "text/plain": [
       "2"
      ]
     },
     "execution_count": 357,
     "metadata": {},
     "output_type": "execute_result"
    }
   ],
   "source": [
    "np.min([2,3,4])"
   ]
  },
  {
   "cell_type": "markdown",
   "metadata": {},
   "source": [
    "### Finding matches in a dataset \n",
    "\n",
    "We have seen that given an audio input we create a numpy array `(n, 96, 64)` where `n` depends on the input audio.\n",
    "\n",
    "At index time we will index each segment to a vector `(n, 96, 64)` will be converted to\n",
    "\n",
    "\n",
    "\n",
    "```\n",
    "(0, 96, 64)   ->  (96, 64)  -> embedding\n",
    "(1, 96, 64)   ->  (96, 64)  -> embedding\n",
    "...\n",
    "(n-1, 96, 64) ->  (96, 64)  -> embedding\n",
    "```\n"
   ]
  },
  {
   "cell_type": "markdown",
   "metadata": {},
   "source": [
    "Then given a query with shape `(n_q, 96,64)` we will create an embedding for each chunk in the query\n",
    "\n",
    "\n",
    "```\n",
    "(0, 96, 64)     ->  (96, 64)  -> embedding\n",
    "(1, 96, 64)     ->  (96, 64)  -> embedding\n",
    "...\n",
    "(n_q-1, 96, 64) ->  (96, 64)  -> embedding\n",
    "```\n",
    "\n",
    "Afterwards we will find for each chunk embedding which is its closest match.\n",
    "\n",
    "Given a chunk from the query $c_k$ we will compute\n",
    "\n",
    "```\n",
    "d(c_k, c) for each c \n",
    "```\n",
    "\n",
    "Then we will get the 'hitted' parents\n",
    "\n",
    "```\n",
    "parent_id_1 : [0.1, 0.3]\n",
    "parent_id_2 : [0.3, 0.4]\n",
    "...\n",
    "parent_id_N : [0.1]\n",
    "```\n",
    "\n",
    "\n",
    "\n",
    "\n"
   ]
  },
  {
   "cell_type": "code",
   "execution_count": 18,
   "metadata": {
    "ExecuteTime": {
     "end_time": "2021-05-31T12:58:46.784856Z",
     "start_time": "2021-05-31T12:58:46.742323Z"
    }
   },
   "outputs": [
    {
     "name": "stdout",
     "output_type": "stream",
     "text": [
      "    def read(self, docs, *args, **kwargs):\n",
      "        for doc in docs:\n",
      "            data, sample_rate = self.read_wav(doc.uri)\n",
      "            mel_data = self.wav2mel(data, sample_rate)\n",
      "            for idx, blob in enumerate(mel_data):\n",
      "                # self.logger.debug(f'blob: {blob.shape}')\n",
      "                doc.chunks.append(Document(offset=idx, weight=1.0, blob=blob))\n",
      "\n"
     ]
    }
   ],
   "source": [
    "print(inspect.getsource(segmenter.read))"
   ]
  },
  {
   "cell_type": "code",
   "execution_count": 19,
   "metadata": {
    "ExecuteTime": {
     "end_time": "2021-05-31T12:58:48.032369Z",
     "start_time": "2021-05-31T12:58:46.882192Z"
    }
   },
   "outputs": [
    {
     "name": "stdout",
     "output_type": "stream",
     "text": [
      "(19, 96, 64)\n",
      "(33, 96, 64)\n"
     ]
    }
   ],
   "source": [
    "data_1 = vggish_input.wavfile_to_examples('data/Beethoven_1.wav')\n",
    "data_2 = vggish_input.wavfile_to_examples('data/Beethoven_2.wav')\n",
    "print(data_1.shape)\n",
    "print(data_2.shape)"
   ]
  },
  {
   "cell_type": "code",
   "execution_count": 20,
   "metadata": {
    "ExecuteTime": {
     "end_time": "2021-05-31T12:58:48.217998Z",
     "start_time": "2021-05-31T12:58:48.170074Z"
    }
   },
   "outputs": [],
   "source": [
    "segmenter = executors.VggishSegmenter()"
   ]
  },
  {
   "cell_type": "code",
   "execution_count": 21,
   "metadata": {
    "ExecuteTime": {
     "end_time": "2021-05-31T12:58:48.381131Z",
     "start_time": "2021-05-31T12:58:48.322068Z"
    },
    "scrolled": true
   },
   "outputs": [
    {
     "data": {
      "text/plain": [
       "(806912,)"
      ]
     },
     "execution_count": 21,
     "metadata": {},
     "output_type": "execute_result"
    }
   ],
   "source": [
    "data, sample_rate = segmenter.read_wav('data/Beethoven_1.wav')\n",
    "data.shape"
   ]
  },
  {
   "cell_type": "code",
   "execution_count": 22,
   "metadata": {
    "ExecuteTime": {
     "end_time": "2021-05-31T12:58:48.553959Z",
     "start_time": "2021-05-31T12:58:48.485925Z"
    },
    "scrolled": false
   },
   "outputs": [
    {
     "data": {
      "text/plain": [
       "(1409024,)"
      ]
     },
     "execution_count": 22,
     "metadata": {},
     "output_type": "execute_result"
    }
   ],
   "source": [
    "data, sample_rate = segmenter.read_wav('data/Beethoven_2.wav')\n",
    "data.shape"
   ]
  }
 ],
 "metadata": {
  "kernelspec": {
   "display_name": "Python 3",
   "language": "python",
   "name": "python3"
  },
  "language_info": {
   "codemirror_mode": {
    "name": "ipython",
    "version": 3
   },
   "file_extension": ".py",
   "mimetype": "text/x-python",
   "name": "python",
   "nbconvert_exporter": "python",
   "pygments_lexer": "ipython3",
   "version": "3.8.5"
  },
  "toc": {
   "base_numbering": 1,
   "nav_menu": {},
   "number_sections": true,
   "sideBar": true,
   "skip_h1_title": false,
   "title_cell": "Table of Contents",
   "title_sidebar": "Contents",
   "toc_cell": true,
   "toc_position": {
    "height": "calc(100% - 180px)",
    "left": "10px",
    "top": "150px",
    "width": "165px"
   },
   "toc_section_display": true,
   "toc_window_display": true
  },
  "varInspector": {
   "cols": {
    "lenName": 16,
    "lenType": 16,
    "lenVar": 40
   },
   "kernels_config": {
    "python": {
     "delete_cmd_postfix": "",
     "delete_cmd_prefix": "del ",
     "library": "var_list.py",
     "varRefreshCmd": "print(var_dic_list())"
    },
    "r": {
     "delete_cmd_postfix": ") ",
     "delete_cmd_prefix": "rm(",
     "library": "var_list.r",
     "varRefreshCmd": "cat(var_dic_list()) "
    }
   },
   "types_to_exclude": [
    "module",
    "function",
    "builtin_function_or_method",
    "instance",
    "_Feature"
   ],
   "window_display": false
  }
 },
 "nbformat": 4,
 "nbformat_minor": 5
}
