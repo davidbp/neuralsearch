{
 "cells": [
  {
   "cell_type": "markdown",
   "metadata": {
    "toc": true
   },
   "source": [
    "<h1>Table of Contents<span class=\"tocSkip\"></span></h1>\n",
    "<div class=\"toc\"><ul class=\"toc-item\"><li><ul class=\"toc-item\"><li><ul class=\"toc-item\"><li><span><a href=\"#Prepare-vvgish-input-manually\" data-toc-modified-id=\"Prepare-vvgish-input-manually-0.0.1\"><span class=\"toc-item-num\">0.0.1&nbsp;&nbsp;</span>Prepare vvgish input manually</a></span></li><li><span><a href=\"#We-can-directly-go-from-path-of-mp3-file-to-input-vggish\" data-toc-modified-id=\"We-can-directly-go-from-path-of-mp3-file-to-input-vggish-0.0.2\"><span class=\"toc-item-num\">0.0.2&nbsp;&nbsp;</span>We can directly go from path of mp3 file to input vggish</a></span></li></ul></li></ul></li><li><span><a href=\"#Index-FLow\" data-toc-modified-id=\"Index-FLow-1\"><span class=\"toc-item-num\">1&nbsp;&nbsp;</span>Index FLow</a></span><ul class=\"toc-item\"><li><span><a href=\"#Segmenting-the-data\" data-toc-modified-id=\"Segmenting-the-data-1.1\"><span class=\"toc-item-num\">1.1&nbsp;&nbsp;</span>Segmenting the data</a></span></li><li><span><a href=\"#Passing-data-thorugh-the-vvgish\" data-toc-modified-id=\"Passing-data-thorugh-the-vvgish-1.2\"><span class=\"toc-item-num\">1.2&nbsp;&nbsp;</span>Passing data thorugh the vvgish</a></span></li><li><span><a href=\"#Indexing\" data-toc-modified-id=\"Indexing-1.3\"><span class=\"toc-item-num\">1.3&nbsp;&nbsp;</span>Indexing</a></span></li></ul></li><li><span><a href=\"#Query-Flow\" data-toc-modified-id=\"Query-Flow-2\"><span class=\"toc-item-num\">2&nbsp;&nbsp;</span>Query Flow</a></span></li><li><span><a href=\"#Other-info\" data-toc-modified-id=\"Other-info-3\"><span class=\"toc-item-num\">3&nbsp;&nbsp;</span>Other info</a></span><ul class=\"toc-item\"><li><ul class=\"toc-item\"><li><span><a href=\"#Finding-matches-in-a-dataset\" data-toc-modified-id=\"Finding-matches-in-a-dataset-3.0.1\"><span class=\"toc-item-num\">3.0.1&nbsp;&nbsp;</span>Finding matches in a dataset</a></span></li></ul></li></ul></li></ul></div>"
   ]
  },
  {
   "cell_type": "code",
   "execution_count": 1,
   "metadata": {
    "ExecuteTime": {
     "end_time": "2021-06-01T14:08:15.952904Z",
     "start_time": "2021-06-01T14:08:15.936968Z"
    },
    "scrolled": true
   },
   "outputs": [],
   "source": [
    "%load_ext autoreload\n",
    "%autoreload 2"
   ]
  },
  {
   "cell_type": "code",
   "execution_count": 2,
   "metadata": {
    "ExecuteTime": {
     "end_time": "2021-06-01T14:08:19.230399Z",
     "start_time": "2021-06-01T14:08:16.134014Z"
    },
    "scrolled": true
   },
   "outputs": [],
   "source": [
    "from vggish import mel_features\n",
    "from vggish import vggish_input\n",
    "from vggish import vggish_slim\n",
    "import executors\n",
    "\n",
    "import numpy as np\n",
    "import inspect\n",
    "\n",
    "import jina\n",
    "from jina import Document, DocumentArray"
   ]
  },
  {
   "cell_type": "markdown",
   "metadata": {},
   "source": [
    "### Prepare vvgish input manually"
   ]
  },
  {
   "cell_type": "code",
   "execution_count": 3,
   "metadata": {
    "ExecuteTime": {
     "end_time": "2021-06-01T14:08:19.421435Z",
     "start_time": "2021-06-01T14:08:19.375948Z"
    }
   },
   "outputs": [],
   "source": [
    "import librosa"
   ]
  },
  {
   "cell_type": "code",
   "execution_count": 4,
   "metadata": {
    "ExecuteTime": {
     "end_time": "2021-06-01T14:08:20.733591Z",
     "start_time": "2021-06-01T14:08:19.571065Z"
    }
   },
   "outputs": [
    {
     "name": "stderr",
     "output_type": "stream",
     "text": [
      "/Users/davidbuchaca1/opt/anaconda3/lib/python3.8/site-packages/librosa/core/audio.py:162: UserWarning: PySoundFile failed. Trying audioread instead.\n",
      "  warnings.warn(\"PySoundFile failed. Trying audioread instead.\")\n"
     ]
    }
   ],
   "source": [
    "x_audio, sample_rate = librosa.load('data/sample.mp3')"
   ]
  },
  {
   "cell_type": "code",
   "execution_count": 5,
   "metadata": {
    "ExecuteTime": {
     "end_time": "2021-06-01T14:08:21.328954Z",
     "start_time": "2021-06-01T14:08:20.881726Z"
    }
   },
   "outputs": [],
   "source": [
    "log_mel_examples = vggish_input.waveform_to_examples(x_audio, sample_rate)"
   ]
  },
  {
   "cell_type": "code",
   "execution_count": 6,
   "metadata": {
    "ExecuteTime": {
     "end_time": "2021-06-01T14:08:21.549350Z",
     "start_time": "2021-06-01T14:08:21.492986Z"
    }
   },
   "outputs": [
    {
     "data": {
      "text/plain": [
       "(28, 96, 64)"
      ]
     },
     "execution_count": 6,
     "metadata": {},
     "output_type": "execute_result"
    }
   ],
   "source": [
    "log_mel_examples.shape"
   ]
  },
  {
   "cell_type": "markdown",
   "metadata": {},
   "source": [
    "### We can directly go from path of mp3 file to input vggish"
   ]
  },
  {
   "cell_type": "code",
   "execution_count": 7,
   "metadata": {
    "ExecuteTime": {
     "end_time": "2021-06-01T14:08:22.837306Z",
     "start_time": "2021-06-01T14:08:21.703786Z"
    }
   },
   "outputs": [
    {
     "name": "stderr",
     "output_type": "stream",
     "text": [
      "/Users/davidbuchaca1/opt/anaconda3/lib/python3.8/site-packages/librosa/core/audio.py:162: UserWarning: PySoundFile failed. Trying audioread instead.\n",
      "  warnings.warn(\"PySoundFile failed. Trying audioread instead.\")\n"
     ]
    }
   ],
   "source": [
    "log_mel_examples = vggish_input.mp3_to_examples('data/sample.mp3')"
   ]
  },
  {
   "cell_type": "code",
   "execution_count": 8,
   "metadata": {
    "ExecuteTime": {
     "end_time": "2021-06-01T14:08:23.090872Z",
     "start_time": "2021-06-01T14:08:23.037960Z"
    }
   },
   "outputs": [
    {
     "data": {
      "text/plain": [
       "(28, 96, 64)"
      ]
     },
     "execution_count": 8,
     "metadata": {},
     "output_type": "execute_result"
    }
   ],
   "source": [
    "log_mel_examples.shape"
   ]
  },
  {
   "cell_type": "code",
   "execution_count": 9,
   "metadata": {
    "ExecuteTime": {
     "end_time": "2021-06-01T14:08:24.074355Z",
     "start_time": "2021-06-01T14:08:23.263426Z"
    }
   },
   "outputs": [],
   "source": [
    "log_mel_examples = vggish_input.wavfile_to_examples('data/Beethoven_1.wav')"
   ]
  },
  {
   "cell_type": "code",
   "execution_count": 10,
   "metadata": {
    "ExecuteTime": {
     "end_time": "2021-06-01T14:08:24.321080Z",
     "start_time": "2021-06-01T14:08:24.264800Z"
    }
   },
   "outputs": [
    {
     "data": {
      "text/plain": [
       "((19, 96, 64), (116736,))"
      ]
     },
     "execution_count": 10,
     "metadata": {},
     "output_type": "execute_result"
    }
   ],
   "source": [
    "log_mel_examples.shape, log_mel_examples.flatten().shape"
   ]
  },
  {
   "cell_type": "markdown",
   "metadata": {},
   "source": [
    "# Index FLow"
   ]
  },
  {
   "cell_type": "markdown",
   "metadata": {},
   "source": [
    "## Segmenting the data\n",
    "\n",
    "The segmenter in audio-example from jina examples does the following at segment time:\n",
    "\n",
    "- uses `read_wav(path_to_wav)` reads a wav file and returns a numpy array (`data`) and a integer (`sample_rate`)\n",
    "\n",
    "    - Here `read_wav` reads the data from a path, calling `soundfile.read` which returns a numpy array `data`.\n",
    "\n",
    "\n",
    "\n",
    "Example for `data/Beethoven_1.wav`:\n",
    "\n",
    "- data after `soundfile.read` has shape (806912,)\n",
    "\n",
    "- `mel_data=wav2vel(data)` has shape (806912,)\n",
    "\n",
    "\n"
   ]
  },
  {
   "cell_type": "code",
   "execution_count": 11,
   "metadata": {
    "ExecuteTime": {
     "end_time": "2021-06-01T14:08:24.571506Z",
     "start_time": "2021-06-01T14:08:24.492801Z"
    },
    "scrolled": true
   },
   "outputs": [
    {
     "name": "stdout",
     "output_type": "stream",
     "text": [
      "(806912, 2)\n",
      "(806912,)\n"
     ]
    }
   ],
   "source": [
    "import soundfile as sf\n",
    "\n",
    "wav_data, sample_rate = sf.read('data/Beethoven_1.wav', dtype='int16')\n",
    "print(wav_data.shape)\n",
    "wav_data = np.mean(wav_data, axis=1)\n",
    "data = wav_data / sample_rate\n",
    "print(data.shape)"
   ]
  },
  {
   "cell_type": "code",
   "execution_count": 12,
   "metadata": {
    "ExecuteTime": {
     "end_time": "2021-06-01T14:08:25.673195Z",
     "start_time": "2021-06-01T14:08:24.741563Z"
    }
   },
   "outputs": [
    {
     "name": "stdout",
     "output_type": "stream",
     "text": [
      "(19, 96, 64)\n",
      "(19, 96, 64)\n"
     ]
    }
   ],
   "source": [
    "from vggish.vggish_input import waveform_to_examples\n",
    "\n",
    "aux = waveform_to_examples(data, sample_rate)\n",
    "print(aux.shape)\n",
    "\n",
    "aux = waveform_to_examples(data, sample_rate).squeeze()\n",
    "print(aux.shape)"
   ]
  },
  {
   "cell_type": "code",
   "execution_count": 16,
   "metadata": {
    "ExecuteTime": {
     "end_time": "2021-06-01T14:14:06.246859Z",
     "start_time": "2021-06-01T14:14:06.191888Z"
    }
   },
   "outputs": [],
   "source": [
    "segmenter = executors.VggishSegmenter()"
   ]
  },
  {
   "cell_type": "code",
   "execution_count": 17,
   "metadata": {
    "ExecuteTime": {
     "end_time": "2021-06-01T14:14:06.665682Z",
     "start_time": "2021-06-01T14:14:06.611864Z"
    },
    "scrolled": true
   },
   "outputs": [
    {
     "name": "stdout",
     "output_type": "stream",
     "text": [
      "    @requests()\n",
      "    def segment(self, docs, *args, **kwargs):\n",
      "        for doc in docs:\n",
      "            mel_data = self.wav2mel(doc.blob, doc.tags['sample_rate'])\n",
      "            for idx, blob in enumerate(mel_data):\n",
      "                doc.chunks.append(Document(offset=idx, weight=1.0, blob=blob))\n",
      "\n"
     ]
    }
   ],
   "source": [
    "print(inspect.getsource(segmenter.segment))"
   ]
  },
  {
   "cell_type": "markdown",
   "metadata": {},
   "source": [
    "Note that each chunk is a Document containing each element from mel_data.\n",
    "\n",
    "In particular this will create as elements as mel_data.shape[0]"
   ]
  },
  {
   "cell_type": "code",
   "execution_count": 18,
   "metadata": {
    "ExecuteTime": {
     "end_time": "2021-06-01T14:14:10.260046Z",
     "start_time": "2021-06-01T14:14:10.211721Z"
    },
    "scrolled": false
   },
   "outputs": [
    {
     "data": {
      "text/plain": [
       "(96, 64)"
      ]
     },
     "execution_count": 18,
     "metadata": {},
     "output_type": "execute_result"
    }
   ],
   "source": [
    "aux[0].shape"
   ]
  },
  {
   "cell_type": "markdown",
   "metadata": {},
   "source": [
    "##### Segmenting data"
   ]
  },
  {
   "cell_type": "code",
   "execution_count": 19,
   "metadata": {
    "ExecuteTime": {
     "end_time": "2021-06-01T14:14:10.632280Z",
     "start_time": "2021-06-01T14:14:10.587963Z"
    }
   },
   "outputs": [],
   "source": [
    "\n",
    "def create_docs(data_folder, data_files):\n",
    "\n",
    "    docs = []\n",
    "    for file in data_files:\n",
    "        file_path = os.path.join(data_folder, file)\n",
    "        data, sample_rate = executors.VggishSegmenter.read_wav(file_path)\n",
    "        docs.append(Document(blob=data, tags={'sample_rate':sample_rate, 'file':file}))\n",
    "\n",
    "    return DocumentArray(docs)"
   ]
  },
  {
   "cell_type": "code",
   "execution_count": 20,
   "metadata": {
    "ExecuteTime": {
     "end_time": "2021-06-01T14:14:10.983696Z",
     "start_time": "2021-06-01T14:14:10.876546Z"
    }
   },
   "outputs": [],
   "source": [
    "import os\n",
    "cur_dir = os.path.dirname(os.path.abspath('./audio-search_V1'))\n",
    "data_folder = os.path.join(cur_dir, 'data')\n",
    "darray = create_docs(data_folder, data_files=['Beethoven_1.wav', 'Beethoven_2.wav'])\n"
   ]
  },
  {
   "cell_type": "code",
   "execution_count": 21,
   "metadata": {
    "ExecuteTime": {
     "end_time": "2021-06-01T14:14:11.852950Z",
     "start_time": "2021-06-01T14:14:11.801886Z"
    },
    "scrolled": true
   },
   "outputs": [],
   "source": [
    "segmenter = executors.VggishSegmenter()"
   ]
  },
  {
   "cell_type": "markdown",
   "metadata": {},
   "source": [
    "Now we can see that a document contains nothing more than a uri"
   ]
  },
  {
   "cell_type": "code",
   "execution_count": 22,
   "metadata": {
    "ExecuteTime": {
     "end_time": "2021-06-01T14:14:12.422407Z",
     "start_time": "2021-06-01T14:14:12.294612Z"
    }
   },
   "outputs": [
    {
     "name": "stderr",
     "output_type": "stream",
     "text": [
      "IOPub data rate exceeded.\n",
      "The notebook server will temporarily stop sending output\n",
      "to the client in order to avoid crashing it.\n",
      "To change this limit, set the config variable\n",
      "`--NotebookApp.iopub_data_rate_limit`.\n",
      "\n",
      "Current values:\n",
      "NotebookApp.iopub_data_rate_limit=1000000.0 (bytes/sec)\n",
      "NotebookApp.rate_limit_window=3.0 (secs)\n",
      "\n"
     ]
    }
   ],
   "source": [
    "print(darray[0])"
   ]
  },
  {
   "cell_type": "markdown",
   "metadata": {},
   "source": [
    "After segmenting the document contains many chunks"
   ]
  },
  {
   "cell_type": "code",
   "execution_count": 23,
   "metadata": {
    "ExecuteTime": {
     "end_time": "2021-06-01T14:14:14.027698Z",
     "start_time": "2021-06-01T14:14:13.962450Z"
    }
   },
   "outputs": [
    {
     "data": {
      "text/html": [
       "<img src=\"https://mermaid.ink/svg/JSV7aW5pdDogeyd0aGVtZSc6ICdiYXNlJywgJ3RoZW1lVmFyaWFibGVzJzogeyAncHJpbWFyeUNvbG9yJzogJyNGRkM2NjYnfX19JSUKICAgICAgICAgICAgICAgICAgICAgICAgY2xhc3NEaWFncmFtCiAgICAgICAgICAgICAgICAgICAgCiAgICAgICAgICAgICAgICAgICAgICAgICAgICAgICAgY2xhc3MgMDJlfkRvY3VtZW50fnsKK2lkIGEyYzk1YjdjLWMKK3RhZ3MoPGNsYXNzICdqaW5hLnR5cGVzLnN0cnVjdC5TdHJ1Y3RWaWV3Jz4pCitibG9iKDxjbGFzcyAnbnVtcHkubmRhcnJheSc+KQp9\"/>"
      ],
      "text/plain": [
       "<IPython.core.display.Image object>"
      ]
     },
     "metadata": {},
     "output_type": "display_data"
    }
   ],
   "source": [
    "darray[0]"
   ]
  },
  {
   "cell_type": "code",
   "execution_count": 24,
   "metadata": {
    "ExecuteTime": {
     "end_time": "2021-06-01T14:14:17.142085Z",
     "start_time": "2021-06-01T14:14:17.097140Z"
    }
   },
   "outputs": [
    {
     "data": {
      "text/plain": [
       "(0, 0)"
      ]
     },
     "execution_count": 24,
     "metadata": {},
     "output_type": "execute_result"
    }
   ],
   "source": [
    "len(darray[0].chunks),len(darray[1].chunks)"
   ]
  },
  {
   "cell_type": "markdown",
   "metadata": {},
   "source": [
    "The function `.segment` segments each `Document` in the `DocumentArray` and updates the `Document` with the chunks generated."
   ]
  },
  {
   "cell_type": "code",
   "execution_count": 25,
   "metadata": {
    "ExecuteTime": {
     "end_time": "2021-06-01T14:14:19.672708Z",
     "start_time": "2021-06-01T14:14:18.177185Z"
    }
   },
   "outputs": [],
   "source": [
    "segmenter.segment(darray)"
   ]
  },
  {
   "cell_type": "markdown",
   "metadata": {},
   "source": [
    "Note that different documents can have a different number of chunks"
   ]
  },
  {
   "cell_type": "code",
   "execution_count": 26,
   "metadata": {
    "ExecuteTime": {
     "end_time": "2021-06-01T14:14:20.356285Z",
     "start_time": "2021-06-01T14:14:20.307043Z"
    }
   },
   "outputs": [
    {
     "data": {
      "text/plain": [
       "(19, 33)"
      ]
     },
     "execution_count": 26,
     "metadata": {},
     "output_type": "execute_result"
    }
   ],
   "source": [
    "len(darray[0].chunks),len(darray[1].chunks)"
   ]
  },
  {
   "cell_type": "markdown",
   "metadata": {},
   "source": [
    "##  Passing data thorugh the vvgish\n",
    "\n",
    "\n",
    "Now we have each document with a bunch of chunks and we need to encode the data of each chunk as an embedding"
   ]
  },
  {
   "cell_type": "code",
   "execution_count": 27,
   "metadata": {
    "ExecuteTime": {
     "end_time": "2021-06-01T14:15:09.882864Z",
     "start_time": "2021-06-01T14:15:09.838129Z"
    }
   },
   "outputs": [
    {
     "data": {
      "text/plain": [
       "<jina.types.arrays.chunk.ChunkArray length=19 at 140672036142096>"
      ]
     },
     "execution_count": 27,
     "metadata": {},
     "output_type": "execute_result"
    }
   ],
   "source": [
    "darray[0].chunks"
   ]
  },
  {
   "cell_type": "code",
   "execution_count": 28,
   "metadata": {
    "ExecuteTime": {
     "end_time": "2021-06-01T14:15:11.699321Z",
     "start_time": "2021-06-01T14:15:11.654472Z"
    }
   },
   "outputs": [],
   "source": [
    "from executors import VggishEncoder"
   ]
  },
  {
   "cell_type": "code",
   "execution_count": 29,
   "metadata": {
    "ExecuteTime": {
     "end_time": "2021-06-01T14:15:13.057257Z",
     "start_time": "2021-06-01T14:15:12.276491Z"
    }
   },
   "outputs": [
    {
     "name": "stderr",
     "output_type": "stream",
     "text": [
      "/Users/davidbuchaca1/opt/anaconda3/lib/python3.8/site-packages/tensorflow/python/keras/engine/base_layer_v1.py:1719: UserWarning: `layer.apply` is deprecated and will be removed in a future version. Please use `layer.__call__` method instead.\n",
      "  warnings.warn('`layer.apply` is deprecated and '\n",
      "/Users/davidbuchaca1/opt/anaconda3/lib/python3.8/site-packages/tensorflow/python/keras/legacy_tf_layers/core.py:329: UserWarning: `tf.layers.flatten` is deprecated and will be removed in a future version. Please use `tf.keras.layers.Flatten` instead.\n",
      "  warnings.warn('`tf.layers.flatten` is deprecated and '\n"
     ]
    },
    {
     "name": "stdout",
     "output_type": "stream",
     "text": [
      "INFO:tensorflow:Restoring parameters from /Users/davidbuchaca1/Documents/git_stuff/neuralsearch/jina_2/audio-search_V1/models/vggish_model.ckpt\n"
     ]
    }
   ],
   "source": [
    "encoder = VggishEncoder()"
   ]
  },
  {
   "cell_type": "code",
   "execution_count": 30,
   "metadata": {
    "ExecuteTime": {
     "end_time": "2021-06-01T14:15:14.465291Z",
     "start_time": "2021-06-01T14:15:14.071503Z"
    }
   },
   "outputs": [],
   "source": [
    "encoder.encode_and_update(darray)"
   ]
  },
  {
   "cell_type": "markdown",
   "metadata": {},
   "source": [
    "#### Traversing over chunks\n",
    "\n",
    "We can traverse over all chunks of all documents using `darray.traverse_flat(traversal_paths='c')` which will return a DocumentArray that contains 52 documents (19+33=52)."
   ]
  },
  {
   "cell_type": "code",
   "execution_count": 32,
   "metadata": {
    "ExecuteTime": {
     "end_time": "2021-06-01T14:15:25.437758Z",
     "start_time": "2021-06-01T14:15:25.392841Z"
    }
   },
   "outputs": [
    {
     "data": {
      "text/plain": [
       "<jina.types.arrays.document.DocumentArray length=52 at 140672036140896>"
      ]
     },
     "execution_count": 32,
     "metadata": {},
     "output_type": "execute_result"
    }
   ],
   "source": [
    "darray.traverse_flat(traversal_paths='c')"
   ]
  },
  {
   "cell_type": "code",
   "execution_count": 33,
   "metadata": {
    "ExecuteTime": {
     "end_time": "2021-06-01T14:15:27.596965Z",
     "start_time": "2021-06-01T14:15:27.268519Z"
    }
   },
   "outputs": [],
   "source": [
    "embedding = encoder._encode(darray.traverse_flat(traversal_paths='c'))"
   ]
  },
  {
   "cell_type": "markdown",
   "metadata": {},
   "source": [
    "After the embedding is generated we have a vector of 128 components for each chunk"
   ]
  },
  {
   "cell_type": "code",
   "execution_count": 34,
   "metadata": {
    "ExecuteTime": {
     "end_time": "2021-06-01T14:15:28.617352Z",
     "start_time": "2021-06-01T14:15:28.572975Z"
    }
   },
   "outputs": [
    {
     "name": "stdout",
     "output_type": "stream",
     "text": [
      "    def _encode(self, docs: DocumentArray, *args, **kwargs):\n",
      "        blobs = docs.get_attributes('blob')\n",
      "        [embedding_batch] = self.sess.run([self.embedding_tensor],\n",
      "                                          feed_dict={self.feature_tensor: blobs})\n",
      "        result = self.post_processor.postprocess(embedding_batch)\n",
      "        embedding_matrix = (np.float32(result) - 128.) / 128.\n",
      "        return embedding_matrix\n",
      "\n"
     ]
    }
   ],
   "source": [
    "print(inspect.getsource(encoder._encode))"
   ]
  },
  {
   "cell_type": "code",
   "execution_count": 35,
   "metadata": {
    "ExecuteTime": {
     "end_time": "2021-06-01T14:15:29.534816Z",
     "start_time": "2021-06-01T14:15:29.489610Z"
    }
   },
   "outputs": [
    {
     "data": {
      "text/plain": [
       "(52, 128)"
      ]
     },
     "execution_count": 35,
     "metadata": {},
     "output_type": "execute_result"
    }
   ],
   "source": [
    "embedding.shape"
   ]
  },
  {
   "cell_type": "markdown",
   "metadata": {},
   "source": [
    "The function `_encode_and_update` precisely updates the document array\n",
    "using each of the rows in the matrix generated by `_encode`"
   ]
  },
  {
   "cell_type": "code",
   "execution_count": 36,
   "metadata": {
    "ExecuteTime": {
     "end_time": "2021-06-01T14:15:30.612680Z",
     "start_time": "2021-06-01T14:15:30.567758Z"
    }
   },
   "outputs": [
    {
     "name": "stdout",
     "output_type": "stream",
     "text": [
      "    def _encode_and_update(self, docs: DocumentArray, *args, **kwargs):\n",
      "        embedding_matrix = self._encode(docs)\n",
      "        for d,e in zip(docs, embedding_matrix):\n",
      "            d.embedding = e\n",
      "\n"
     ]
    }
   ],
   "source": [
    "print(inspect.getsource(encoder._encode_and_update))"
   ]
  },
  {
   "cell_type": "code",
   "execution_count": 37,
   "metadata": {
    "ExecuteTime": {
     "end_time": "2021-06-01T14:15:31.558996Z",
     "start_time": "2021-06-01T14:15:31.179849Z"
    }
   },
   "outputs": [],
   "source": [
    "encoder._encode_and_update(darray.traverse_flat(traversal_paths='c'))"
   ]
  },
  {
   "cell_type": "code",
   "execution_count": 38,
   "metadata": {
    "ExecuteTime": {
     "end_time": "2021-06-01T14:15:32.156251Z",
     "start_time": "2021-06-01T14:15:32.108594Z"
    },
    "scrolled": true
   },
   "outputs": [
    {
     "data": {
      "text/plain": [
       "(128,)"
      ]
     },
     "execution_count": 38,
     "metadata": {},
     "output_type": "execute_result"
    }
   ],
   "source": [
    "darray[0].chunks[0].embedding.shape"
   ]
  },
  {
   "cell_type": "markdown",
   "metadata": {},
   "source": [
    "## Indexing\n",
    "\n",
    "We can create an `Indexer object` and pass the document array with the DocumentArray that contains the embeddings"
   ]
  },
  {
   "cell_type": "code",
   "execution_count": 39,
   "metadata": {
    "ExecuteTime": {
     "end_time": "2021-06-01T14:15:32.718870Z",
     "start_time": "2021-06-01T14:15:32.673684Z"
    }
   },
   "outputs": [],
   "source": [
    "indexer = executors.Indexer()"
   ]
  },
  {
   "cell_type": "code",
   "execution_count": 40,
   "metadata": {
    "ExecuteTime": {
     "end_time": "2021-06-01T14:15:33.420486Z",
     "start_time": "2021-06-01T14:15:33.374591Z"
    }
   },
   "outputs": [],
   "source": [
    "indexer.index(darray)"
   ]
  },
  {
   "cell_type": "markdown",
   "metadata": {},
   "source": [
    "When the indexer is fitted (`.index()`) it stores the embeddings of the data"
   ]
  },
  {
   "cell_type": "code",
   "execution_count": 41,
   "metadata": {
    "ExecuteTime": {
     "end_time": "2021-06-01T14:15:34.394481Z",
     "start_time": "2021-06-01T14:15:34.348799Z"
    }
   },
   "outputs": [
    {
     "data": {
      "text/plain": [
       "(128,)"
      ]
     },
     "execution_count": 41,
     "metadata": {},
     "output_type": "execute_result"
    }
   ],
   "source": [
    "indexer._docs[0].chunks[0].embedding.shape"
   ]
  },
  {
   "cell_type": "code",
   "execution_count": 42,
   "metadata": {
    "ExecuteTime": {
     "end_time": "2021-06-01T14:15:35.502044Z",
     "start_time": "2021-06-01T14:15:35.458705Z"
    }
   },
   "outputs": [
    {
     "data": {
      "text/plain": [
       "NoneType"
      ]
     },
     "execution_count": 42,
     "metadata": {},
     "output_type": "execute_result"
    }
   ],
   "source": [
    "#this is empty\n",
    "type(indexer._embedding_matrix)"
   ]
  },
  {
   "cell_type": "code",
   "execution_count": 43,
   "metadata": {
    "ExecuteTime": {
     "end_time": "2021-06-01T14:15:36.884809Z",
     "start_time": "2021-06-01T14:15:36.838147Z"
    }
   },
   "outputs": [
    {
     "data": {
      "text/plain": [
       "NoneType"
      ]
     },
     "execution_count": 43,
     "metadata": {},
     "output_type": "execute_result"
    }
   ],
   "source": [
    "type(indexer._darray_chunks)"
   ]
  },
  {
   "cell_type": "markdown",
   "metadata": {},
   "source": [
    "Note that now folder `workspace` does not exists"
   ]
  },
  {
   "cell_type": "code",
   "execution_count": 44,
   "metadata": {
    "ExecuteTime": {
     "end_time": "2021-06-01T14:15:38.474937Z",
     "start_time": "2021-06-01T14:15:38.292700Z"
    }
   },
   "outputs": [
    {
     "name": "stdout",
     "output_type": "stream",
     "text": [
      "ls: workspace/: No such file or directory\r\n"
     ]
    }
   ],
   "source": [
    "!ls workspace/"
   ]
  },
  {
   "cell_type": "markdown",
   "metadata": {},
   "source": [
    "after calling `indexer.close()` the `workspace` folder will be created"
   ]
  },
  {
   "cell_type": "code",
   "execution_count": 45,
   "metadata": {
    "ExecuteTime": {
     "end_time": "2021-06-01T14:15:40.161523Z",
     "start_time": "2021-06-01T14:15:39.945688Z"
    }
   },
   "outputs": [],
   "source": [
    "indexer.close()"
   ]
  },
  {
   "cell_type": "code",
   "execution_count": 46,
   "metadata": {
    "ExecuteTime": {
     "end_time": "2021-06-01T14:15:40.833315Z",
     "start_time": "2021-06-01T14:15:40.669543Z"
    }
   },
   "outputs": [
    {
     "name": "stdout",
     "output_type": "stream",
     "text": [
      "docs.json\r\n"
     ]
    }
   ],
   "source": [
    "!ls workspace/"
   ]
  },
  {
   "cell_type": "markdown",
   "metadata": {},
   "source": [
    "Then when we instanciate the indexer again it will contain the `_embemdding_matrix` which will be loaded from `workspace`"
   ]
  },
  {
   "cell_type": "code",
   "execution_count": 47,
   "metadata": {
    "ExecuteTime": {
     "end_time": "2021-06-01T14:15:42.167872Z",
     "start_time": "2021-06-01T14:15:41.953525Z"
    }
   },
   "outputs": [],
   "source": [
    "indexer = executors.Indexer()"
   ]
  },
  {
   "cell_type": "code",
   "execution_count": 48,
   "metadata": {
    "ExecuteTime": {
     "end_time": "2021-06-01T14:15:42.992205Z",
     "start_time": "2021-06-01T14:15:42.944023Z"
    }
   },
   "outputs": [
    {
     "data": {
      "text/plain": [
       "array([[ 0.234375 , -0.421875 ,  0.0859375, ...,  0.4921875,  0.6640625,\n",
       "        -0.046875 ],\n",
       "       [ 0.2890625, -0.4296875,  0.0625   , ...,  0.6953125,  0.3515625,\n",
       "        -0.921875 ],\n",
       "       [ 0.2890625, -0.5703125,  0.15625  , ...,  0.5625   ,  0.8203125,\n",
       "         0.       ],\n",
       "       ...,\n",
       "       [ 0.34375  , -0.796875 ,  0.       , ...,  0.1328125,  0.078125 ,\n",
       "         0.4765625],\n",
       "       [ 0.34375  , -0.796875 , -0.0078125, ...,  0.09375  ,  0.0703125,\n",
       "         0.4453125],\n",
       "       [ 0.3515625, -0.7890625, -0.015625 , ...,  0.0390625,  0.015625 ,\n",
       "         0.4609375]], dtype=float32)"
      ]
     },
     "execution_count": 48,
     "metadata": {},
     "output_type": "execute_result"
    }
   ],
   "source": [
    "indexer._embedding_matrix"
   ]
  },
  {
   "cell_type": "markdown",
   "metadata": {},
   "source": [
    "# Query Flow"
   ]
  },
  {
   "cell_type": "markdown",
   "metadata": {},
   "source": [
    "Let us assume we have a query that is segmented and for each segment a chunk is created with an embedding"
   ]
  },
  {
   "cell_type": "code",
   "execution_count": 49,
   "metadata": {
    "ExecuteTime": {
     "end_time": "2021-06-01T14:15:47.264149Z",
     "start_time": "2021-06-01T14:15:47.218629Z"
    }
   },
   "outputs": [],
   "source": [
    "chunks = darray[0].chunks[2:4]\n",
    "q = Document()\n",
    "q.chunks = chunks"
   ]
  },
  {
   "cell_type": "code",
   "execution_count": 50,
   "metadata": {
    "ExecuteTime": {
     "end_time": "2021-06-01T14:15:48.075419Z",
     "start_time": "2021-06-01T14:15:48.028296Z"
    },
    "scrolled": true
   },
   "outputs": [
    {
     "data": {
      "text/html": [
       "<img src=\"https://mermaid.ink/svg/JSV7aW5pdDogeyd0aGVtZSc6ICdiYXNlJywgJ3RoZW1lVmFyaWFibGVzJzogeyAncHJpbWFyeUNvbG9yJzogJyNGRkM2NjYnfX19JSUKICAgICAgICAgICAgICAgICAgICAgICAgY2xhc3NEaWFncmFtCiAgICAgICAgICAgICAgICAgICAgCiAgICAgICAgICAgICAgICAgICAgICAgICAgICAgICAgZGRifkRvY3VtZW50fiAtLT4gIjEvMiIgN2RlfkRvY3VtZW50fjogY2h1bmtzCmNsYXNzIDdkZX5Eb2N1bWVudH57CitpZCBhNzkwMjVhMC1jCit3ZWlnaHQgMS4wCitibG9iKDxjbGFzcyAnbnVtcHkubmRhcnJheSc+KQorZ3JhbnVsYXJpdHkgMQorcGFyZW50X2lkIGRjMzJlYzVjLWMKK29mZnNldCAyCitlbWJlZGRpbmcoPGNsYXNzICdudW1weS5uZGFycmF5Jz4pCitjb250ZW50X2hhc2ggZjY2NWMzZTVjZAp9CmRkYn5Eb2N1bWVudH4gLS0+ICIyLzIiIGRlMH5Eb2N1bWVudH46IGNodW5rcwpjbGFzcyBkZTB+RG9jdW1lbnR+eworaWQgYTc5MDJjYjItYword2VpZ2h0IDEuMAorYmxvYig8Y2xhc3MgJ251bXB5Lm5kYXJyYXknPikKK2dyYW51bGFyaXR5IDEKK3BhcmVudF9pZCBkYzMyZWM1Yy1jCitvZmZzZXQgMworZW1iZWRkaW5nKDxjbGFzcyAnbnVtcHkubmRhcnJheSc+KQorY29udGVudF9oYXNoIDEwMzEyYjYxODQKfQpjbGFzcyBkZGJ+RG9jdW1lbnR+eworaWQgZGMzMmVjNWMtYwp9\"/>"
      ],
      "text/plain": [
       "<IPython.core.display.Image object>"
      ]
     },
     "metadata": {},
     "output_type": "display_data"
    }
   ],
   "source": [
    "q"
   ]
  },
  {
   "cell_type": "code",
   "execution_count": 51,
   "metadata": {
    "ExecuteTime": {
     "end_time": "2021-06-01T14:15:48.703496Z",
     "start_time": "2021-06-01T14:15:48.660865Z"
    }
   },
   "outputs": [],
   "source": [
    "q_darray = DocumentArray([q])"
   ]
  },
  {
   "cell_type": "markdown",
   "metadata": {
    "ExecuteTime": {
     "end_time": "2021-05-31T14:13:25.447071Z",
     "start_time": "2021-05-31T14:13:25.398682Z"
    }
   },
   "source": [
    "Now it is time for the `Indexer` to find matches"
   ]
  },
  {
   "cell_type": "code",
   "execution_count": 52,
   "metadata": {
    "ExecuteTime": {
     "end_time": "2021-06-01T14:15:49.912113Z",
     "start_time": "2021-06-01T14:15:49.858427Z"
    },
    "scrolled": true
   },
   "outputs": [],
   "source": [
    "indexer.search(q_darray, parameters={'top_k':10})"
   ]
  },
  {
   "cell_type": "code",
   "execution_count": 53,
   "metadata": {
    "ExecuteTime": {
     "end_time": "2021-06-01T14:15:50.842523Z",
     "start_time": "2021-06-01T14:15:50.795352Z"
    },
    "scrolled": true
   },
   "outputs": [
    {
     "data": {
      "text/plain": [
       "<jina.types.arrays.match.MatchArray length=1 at 140672032068416>"
      ]
     },
     "execution_count": 53,
     "metadata": {},
     "output_type": "execute_result"
    }
   ],
   "source": [
    "q_darray[0].matches"
   ]
  },
  {
   "cell_type": "code",
   "execution_count": 54,
   "metadata": {
    "ExecuteTime": {
     "end_time": "2021-06-01T14:15:52.048631Z",
     "start_time": "2021-06-01T14:15:52.003604Z"
    }
   },
   "outputs": [
    {
     "data": {
      "text/plain": [
       "0.0"
      ]
     },
     "execution_count": 54,
     "metadata": {},
     "output_type": "execute_result"
    }
   ],
   "source": [
    "q_darray[0].matches[0].score.value"
   ]
  },
  {
   "cell_type": "code",
   "execution_count": 63,
   "metadata": {
    "ExecuteTime": {
     "end_time": "2021-06-01T14:16:33.356752Z",
     "start_time": "2021-06-01T14:16:33.284153Z"
    },
    "scrolled": true
   },
   "outputs": [
    {
     "data": {
      "text/html": [
       "<img src=\"https://mermaid.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\"/>"
      ],
      "text/plain": [
       "<IPython.core.display.Image object>"
      ]
     },
     "metadata": {},
     "output_type": "display_data"
    }
   ],
   "source": [
    "q_darray[0].matches[0]"
   ]
  },
  {
   "cell_type": "code",
   "execution_count": null,
   "metadata": {},
   "outputs": [],
   "source": []
  },
  {
   "cell_type": "code",
   "execution_count": null,
   "metadata": {},
   "outputs": [],
   "source": []
  },
  {
   "cell_type": "code",
   "execution_count": null,
   "metadata": {},
   "outputs": [],
   "source": []
  },
  {
   "cell_type": "code",
   "execution_count": null,
   "metadata": {},
   "outputs": [],
   "source": []
  },
  {
   "cell_type": "code",
   "execution_count": null,
   "metadata": {},
   "outputs": [],
   "source": []
  },
  {
   "cell_type": "code",
   "execution_count": null,
   "metadata": {},
   "outputs": [],
   "source": []
  },
  {
   "cell_type": "code",
   "execution_count": null,
   "metadata": {},
   "outputs": [],
   "source": []
  },
  {
   "cell_type": "markdown",
   "metadata": {},
   "source": [
    "# Other info"
   ]
  },
  {
   "cell_type": "markdown",
   "metadata": {},
   "source": [
    "Note that different wav files will be represented with different numpy arrays:"
   ]
  },
  {
   "cell_type": "code",
   "execution_count": null,
   "metadata": {
    "ExecuteTime": {
     "end_time": "2021-05-31T13:04:09.880424Z",
     "start_time": "2021-05-31T13:04:08.729414Z"
    },
    "scrolled": true
   },
   "outputs": [],
   "source": [
    "data_1 = vggish_input.wavfile_to_examples('data/Beethoven_1.wav')\n",
    "data_2 = vggish_input.wavfile_to_examples('data/Beethoven_2.wav')\n",
    "print(data_1.shape)\n",
    "print(data_2.shape)"
   ]
  },
  {
   "cell_type": "markdown",
   "metadata": {},
   "source": [
    "Now let's define a VggishEncoder and look at how to encode the data"
   ]
  },
  {
   "cell_type": "code",
   "execution_count": null,
   "metadata": {
    "ExecuteTime": {
     "end_time": "2021-05-31T13:02:14.711184Z",
     "start_time": "2021-05-31T13:02:13.977648Z"
    },
    "scrolled": true
   },
   "outputs": [],
   "source": [
    "encoder = VggishEncoder()"
   ]
  },
  {
   "cell_type": "code",
   "execution_count": null,
   "metadata": {
    "ExecuteTime": {
     "end_time": "2021-05-31T13:02:15.035344Z",
     "start_time": "2021-05-31T13:02:14.991706Z"
    }
   },
   "outputs": [],
   "source": [
    "inspect.getsourcefile(encoder._encode)"
   ]
  },
  {
   "cell_type": "markdown",
   "metadata": {},
   "source": [
    "We can take a look at how data is encoded"
   ]
  },
  {
   "cell_type": "code",
   "execution_count": null,
   "metadata": {
    "ExecuteTime": {
     "end_time": "2021-05-31T13:02:15.560826Z",
     "start_time": "2021-05-31T13:02:15.518828Z"
    }
   },
   "outputs": [],
   "source": [
    "print(inspect.getsource(encoder._encode))"
   ]
  },
  {
   "cell_type": "code",
   "execution_count": null,
   "metadata": {
    "ExecuteTime": {
     "end_time": "2021-05-31T13:02:16.460079Z",
     "start_time": "2021-05-31T13:02:16.418922Z"
    },
    "scrolled": true
   },
   "outputs": [],
   "source": [
    "encoder._encode"
   ]
  },
  {
   "cell_type": "code",
   "execution_count": null,
   "metadata": {
    "ExecuteTime": {
     "end_time": "2021-05-31T13:02:17.720586Z",
     "start_time": "2021-05-31T13:02:17.678781Z"
    }
   },
   "outputs": [],
   "source": [
    "d1 = Document()\n",
    "d2 = Document()\n",
    "\n",
    "d1.blob = data_1\n",
    "d2.blob = data_2\n",
    "\n",
    "darray = DocumentArray([d1,d2])"
   ]
  },
  {
   "cell_type": "code",
   "execution_count": null,
   "metadata": {
    "ExecuteTime": {
     "end_time": "2021-05-31T13:02:21.197214Z",
     "start_time": "2021-05-31T13:02:21.155525Z"
    }
   },
   "outputs": [],
   "source": [
    "d1.blob.shape, d2.blob.shape"
   ]
  },
  {
   "cell_type": "code",
   "execution_count": null,
   "metadata": {
    "ExecuteTime": {
     "end_time": "2021-05-31T13:02:36.124883Z",
     "start_time": "2021-05-31T13:02:36.084157Z"
    }
   },
   "outputs": [],
   "source": [
    "aux = darray.get_attributes('blob')"
   ]
  },
  {
   "cell_type": "code",
   "execution_count": null,
   "metadata": {
    "ExecuteTime": {
     "end_time": "2021-05-31T13:02:43.933115Z",
     "start_time": "2021-05-31T13:02:43.891901Z"
    }
   },
   "outputs": [],
   "source": [
    "aux[0].shape"
   ]
  },
  {
   "cell_type": "code",
   "execution_count": null,
   "metadata": {
    "ExecuteTime": {
     "end_time": "2021-05-31T10:51:27.722390Z",
     "start_time": "2021-05-31T10:51:27.681243Z"
    }
   },
   "outputs": [],
   "source": [
    "#encoder._encode(darray)"
   ]
  },
  {
   "cell_type": "code",
   "execution_count": null,
   "metadata": {},
   "outputs": [],
   "source": [
    "#Document(data_1)"
   ]
  },
  {
   "cell_type": "code",
   "execution_count": null,
   "metadata": {
    "ExecuteTime": {
     "end_time": "2021-05-31T15:01:50.635709Z",
     "start_time": "2021-05-31T15:01:50.586606Z"
    }
   },
   "outputs": [],
   "source": [
    "np.min([2,3,4])"
   ]
  },
  {
   "cell_type": "markdown",
   "metadata": {},
   "source": [
    "### Finding matches in a dataset \n",
    "\n",
    "We have seen that given an audio input we create a numpy array `(n, 96, 64)` where `n` depends on the input audio.\n",
    "\n",
    "At index time we will index each segment to a vector `(n, 96, 64)` will be converted to\n",
    "\n",
    "\n",
    "\n",
    "```\n",
    "(0, 96, 64)   ->  (96, 64)  -> embedding\n",
    "(1, 96, 64)   ->  (96, 64)  -> embedding\n",
    "...\n",
    "(n-1, 96, 64) ->  (96, 64)  -> embedding\n",
    "```\n"
   ]
  },
  {
   "cell_type": "markdown",
   "metadata": {},
   "source": [
    "Then given a query with shape `(n_q, 96,64)` we will create an embedding for each chunk in the query\n",
    "\n",
    "\n",
    "```\n",
    "(0, 96, 64)     ->  (96, 64)  -> embedding\n",
    "(1, 96, 64)     ->  (96, 64)  -> embedding\n",
    "...\n",
    "(n_q-1, 96, 64) ->  (96, 64)  -> embedding\n",
    "```\n",
    "\n",
    "Afterwards we will find for each chunk embedding which is its closest match.\n",
    "\n",
    "Given a chunk from the query $c_k$ we will compute\n",
    "\n",
    "```\n",
    "d(c_k, c) for each c \n",
    "```\n",
    "\n",
    "Then we will get the 'hitted' parents\n",
    "\n",
    "```\n",
    "parent_id_1 : [0.1, 0.3]\n",
    "parent_id_2 : [0.3, 0.4]\n",
    "...\n",
    "parent_id_N : [0.1]\n",
    "```\n",
    "\n",
    "\n",
    "\n",
    "\n"
   ]
  },
  {
   "cell_type": "code",
   "execution_count": null,
   "metadata": {
    "ExecuteTime": {
     "end_time": "2021-05-31T12:58:46.784856Z",
     "start_time": "2021-05-31T12:58:46.742323Z"
    }
   },
   "outputs": [],
   "source": [
    "print(inspect.getsource(segmenter.read))"
   ]
  },
  {
   "cell_type": "code",
   "execution_count": null,
   "metadata": {
    "ExecuteTime": {
     "end_time": "2021-05-31T12:58:48.032369Z",
     "start_time": "2021-05-31T12:58:46.882192Z"
    }
   },
   "outputs": [],
   "source": [
    "data_1 = vggish_input.wavfile_to_examples('data/Beethoven_1.wav')\n",
    "data_2 = vggish_input.wavfile_to_examples('data/Beethoven_2.wav')\n",
    "print(data_1.shape)\n",
    "print(data_2.shape)"
   ]
  },
  {
   "cell_type": "code",
   "execution_count": null,
   "metadata": {
    "ExecuteTime": {
     "end_time": "2021-05-31T12:58:48.217998Z",
     "start_time": "2021-05-31T12:58:48.170074Z"
    }
   },
   "outputs": [],
   "source": [
    "segmenter = executors.VggishSegmenter()"
   ]
  },
  {
   "cell_type": "code",
   "execution_count": null,
   "metadata": {
    "ExecuteTime": {
     "end_time": "2021-05-31T12:58:48.381131Z",
     "start_time": "2021-05-31T12:58:48.322068Z"
    },
    "scrolled": true
   },
   "outputs": [],
   "source": [
    "data, sample_rate = segmenter.read_wav('data/Beethoven_1.wav')\n",
    "data.shape"
   ]
  },
  {
   "cell_type": "code",
   "execution_count": null,
   "metadata": {
    "ExecuteTime": {
     "end_time": "2021-05-31T12:58:48.553959Z",
     "start_time": "2021-05-31T12:58:48.485925Z"
    },
    "scrolled": false
   },
   "outputs": [],
   "source": [
    "data, sample_rate = segmenter.read_wav('data/Beethoven_2.wav')\n",
    "data.shape"
   ]
  }
 ],
 "metadata": {
  "kernelspec": {
   "display_name": "Python 3",
   "language": "python",
   "name": "python3"
  },
  "language_info": {
   "codemirror_mode": {
    "name": "ipython",
    "version": 3
   },
   "file_extension": ".py",
   "mimetype": "text/x-python",
   "name": "python",
   "nbconvert_exporter": "python",
   "pygments_lexer": "ipython3",
   "version": "3.8.5"
  },
  "toc": {
   "base_numbering": 1,
   "nav_menu": {},
   "number_sections": true,
   "sideBar": true,
   "skip_h1_title": false,
   "title_cell": "Table of Contents",
   "title_sidebar": "Contents",
   "toc_cell": true,
   "toc_position": {
    "height": "calc(100% - 180px)",
    "left": "10px",
    "top": "150px",
    "width": "165px"
   },
   "toc_section_display": true,
   "toc_window_display": true
  },
  "varInspector": {
   "cols": {
    "lenName": 16,
    "lenType": 16,
    "lenVar": 40
   },
   "kernels_config": {
    "python": {
     "delete_cmd_postfix": "",
     "delete_cmd_prefix": "del ",
     "library": "var_list.py",
     "varRefreshCmd": "print(var_dic_list())"
    },
    "r": {
     "delete_cmd_postfix": ") ",
     "delete_cmd_prefix": "rm(",
     "library": "var_list.r",
     "varRefreshCmd": "cat(var_dic_list()) "
    }
   },
   "types_to_exclude": [
    "module",
    "function",
    "builtin_function_or_method",
    "instance",
    "_Feature"
   ],
   "window_display": false
  }
 },
 "nbformat": 4,
 "nbformat_minor": 5
}
