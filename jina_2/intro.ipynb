{
 "cells": [
  {
   "cell_type": "markdown",
   "metadata": {
    "toc": true
   },
   "source": [
    "<h1>Table of Contents<span class=\"tocSkip\"></span></h1>\n",
    "<div class=\"toc\"><ul class=\"toc-item\"><li><ul class=\"toc-item\"><li><span><a href=\"#Method-returns\" data-toc-modified-id=\"Method-returns-0.1\"><span class=\"toc-item-num\">0.1&nbsp;&nbsp;</span>Method returns</a></span></li><li><span><a href=\"#Why-is-the-documentarray-not-updated?\" data-toc-modified-id=\"Why-is-the-documentarray-not-updated?-0.2\"><span class=\"toc-item-num\">0.2&nbsp;&nbsp;</span>Why is the documentarray not updated?</a></span></li></ul></li><li><span><a href=\"#Load-and-save-Executor-YAML\" data-toc-modified-id=\"Load-and-save-Executor-YAML-1\"><span class=\"toc-item-num\">1&nbsp;&nbsp;</span>Load and save Executor YAML</a></span></li><li><span><a href=\"#Executor-Built-in-Features\" data-toc-modified-id=\"Executor-Built-in-Features-2\"><span class=\"toc-item-num\">2&nbsp;&nbsp;</span>Executor Built-in Features</a></span><ul class=\"toc-item\"><li><span><a href=\"#Merging\" data-toc-modified-id=\"Merging-2.1\"><span class=\"toc-item-num\">2.1&nbsp;&nbsp;</span>Merging</a></span></li></ul></li></ul></div>"
   ]
  },
  {
   "cell_type": "code",
   "execution_count": 1,
   "metadata": {
    "ExecuteTime": {
     "end_time": "2021-05-12T09:37:17.420344Z",
     "start_time": "2021-05-12T09:37:17.077807Z"
    }
   },
   "outputs": [],
   "source": [
    "%load_ext autoreload\n",
    "%autoreload 2\n",
    "    \n",
    "import jina"
   ]
  },
  {
   "cell_type": "code",
   "execution_count": 2,
   "metadata": {
    "ExecuteTime": {
     "end_time": "2021-05-12T09:37:20.101137Z",
     "start_time": "2021-05-12T09:37:20.082763Z"
    }
   },
   "outputs": [
    {
     "data": {
      "text/plain": [
       "'2.0.0'"
      ]
     },
     "execution_count": 2,
     "metadata": {},
     "output_type": "execute_result"
    }
   ],
   "source": [
    "jina.__version__"
   ]
  },
  {
   "cell_type": "markdown",
   "metadata": {},
   "source": [
    "Minimal working example"
   ]
  },
  {
   "cell_type": "code",
   "execution_count": 3,
   "metadata": {
    "ExecuteTime": {
     "end_time": "2021-05-12T09:37:23.135319Z",
     "start_time": "2021-05-12T09:37:22.363989Z"
    }
   },
   "outputs": [
    {
     "name": "stdout",
     "output_type": "stream",
     "text": [
      "           pod0@22004[I]:starting jina.peapods.runtimes.zmq.zed.ZEDRuntime...\n",
      "           pod0@22004[I]:input \u001b[33mtcp://0.0.0.0:50859\u001b[0m (PULL_BIND) output \u001b[33mtcp://0.0.0.0:50860\u001b[0m (PUSH_BIND) control over \u001b[33mtcp://0.0.0.0:50858\u001b[0m (PAIR_BIND)\n",
      "        gateway@22005[I]:starting jina.peapods.runtimes.asyncio.grpc.GRPCRuntime...\n",
      "        gateway@22005[I]:input \u001b[33mtcp://0.0.0.0:50860\u001b[0m (PULL_CONNECT) output \u001b[33mtcp://0.0.0.0:50859\u001b[0m (PUSH_CONNECT) control over \u001b[33mipc:///var/folders/05/h71x7gh54sx_5y43ppkq9_dw0000gq/T/tmpnpuw8r2o\u001b[0m (PAIR_BIND)\n",
      "           JINA@22004[S]:\u001b[32msuccessfully built MyExecutor from a yaml config\u001b[0m\n",
      "           pod0@21999[S]:\u001b[32mready and listening\u001b[0m\n",
      "        gateway@22005[S]:\u001b[32mGRPCRuntime is listening at: 0.0.0.0:50865\u001b[0m\n",
      "        gateway@21999[S]:\u001b[32mready and listening\u001b[0m\n",
      "           Flow@21999[I]:2 Pods (i.e. 2 Peas) are running in this Flow\n",
      "           Flow@21999[S]:\u001b[32m🎉 Flow is ready to use, accepting \u001b[1mgRPC request\u001b[0m\u001b[0m\n",
      "           Flow@21999[I]:\n",
      "\t🖥️ Local access:\t\u001b[4m\u001b[36mtcp://0.0.0.0:50865\u001b[0m\n",
      "\t🔒 Private network:\t\u001b[4m\u001b[36mtcp://192.168.1.136:50865\u001b[0m\n",
      "\t🌐 Public address:\t\u001b[4m\u001b[36mtcp://213.195.113.21:50865\u001b[0m\n",
      "         Client@21999[S]:\u001b[32mconnected to the gateway at 0.0.0.0:50865!\u001b[0m\n",
      " \u001b[36m\u001b[0m |\u001b[32m█\u001b[0m                   | 📃      0 ⏱️ 0.0s 🐎 0.0/s      0   requests ...\t        gateway@22005[I]:prefetching 50 requests...\n",
      "        gateway@22005[W]:\u001b[40m\u001b[33mif this takes too long, you may want to take smaller \"--prefetch\" or ask client to reduce \"--request-size\"\u001b[0m\n",
      "        gateway@22005[I]:prefetching 50 requests takes 0 seconds (0.00s)\n",
      "           pod0@22004[I]:recv DataRequest  from gateway\u001b[32m▸\u001b[0mpod0/ZEDRuntime\u001b[32m▸\u001b[0m⚐\n",
      "\n",
      "\n",
      "\n",
      "\n",
      "\n",
      "Function foo called: {'docs': <jina.types.arrays.document.DocumentArray length=1 at 140500604902368>, 'parameters': {}, 'docs_matrix': [<jina.types.arrays.document.DocumentArray length=1 at 140500604902656>], 'groundtruths': None, 'groundtruths_matrix': None}\n",
      "\n",
      "\n",
      "\n",
      "\n",
      "\n",
      "           pod0@22004[I]:#sent: 0 #recv: 1 sent_size: 0 Bytes recv_size: 344 Bytes\n",
      "{'requestId': 'd082aa1d-3f1f-4cd8-bb89-183c9ee06ef5', 'data': {'docs': [{'id': 'a7574494-b305-11eb-89e2-787b8ab3f5de'}]}, 'header': {}, 'routes': [{'pod': 'gateway', 'podId': '70f8bd50-d79c-4db1-9196-6be5250cc89e', 'startTime': '2021-05-12T09:37:22.882650Z', 'endTime': '2021-05-12T09:37:22.891117Z'}, {'pod': 'pod0/ZEDRuntime', 'podId': 'ea43a9b1-c93a-41ca-acf8-16e1c9ee89b5', 'startTime': '2021-05-12T09:37:22.884390Z', 'endTime': '2021-05-12T09:37:22.890406Z'}, {'pod': 'gateway', 'podId': 'eaee323e-59da-4af0-a949-43409edf978a', 'startTime': '2021-05-12T09:37:22.891087Z'}], 'status': {}}\n",
      " \u001b[36m\u001b[0m |\u001b[32m█\u001b[0m                   | 📃    100 ⏱️ 0.0s 🐎 6175.9/s      1   requests takes 0 seconds (0.02s)\u001b[0m\n",
      "        gateway@22005[I]:#sent: 1 #recv: 1 sent_size: 413 Bytes recv_size: 429 Bytes\n",
      "\t\u001b[32m✅ done in ⏱ 0 seconds 🐎 5813.4/s\u001b[0m\n",
      "        gateway@21999[S]:\u001b[32mterminated\u001b[0m\n",
      "           pod0@22004[I]:recv ControlRequest  from ctl\u001b[32m▸\u001b[0mpod0/ZEDRuntime\u001b[32m▸\u001b[0m⚐\n",
      "           pod0@22004[I]:#sent: 2 #recv: 2 sent_size: 740 Bytes recv_size: 481 Bytes\n",
      "           pod0@21999[S]:\u001b[32mterminated\u001b[0m\n",
      "           Flow@21999[S]:\u001b[32mflow is closed and all resources are released, current build level is 0\u001b[0m\n"
     ]
    }
   ],
   "source": [
    "from jina import Executor, Flow, Document, requests\n",
    "\n",
    "\n",
    "class MyExecutor(Executor):\n",
    "\n",
    "    @requests(on='/index')\n",
    "    def foo(self, **kwargs):\n",
    "        print(f'\\n\\n\\n\\n\\nFunction foo called: {kwargs}\\n\\n\\n\\n\\n')\n",
    "    \n",
    "    @requests(on='/search')\n",
    "    def foo2(self, **kwargs):\n",
    "        print(f'\\n\\n\\n\\n\\nFunction foo2 called: {kwargs}\\n\\n\\n\\n\\n')\n",
    "\n",
    "\n",
    "f = Flow().add(uses=MyExecutor)\n",
    "\n",
    "with f:\n",
    "    f.post(on='/index', inputs=Document(), on_done=print)"
   ]
  },
  {
   "cell_type": "code",
   "execution_count": 4,
   "metadata": {
    "ExecuteTime": {
     "end_time": "2021-05-12T09:37:25.228762Z",
     "start_time": "2021-05-12T09:37:24.456125Z"
    }
   },
   "outputs": [
    {
     "name": "stdout",
     "output_type": "stream",
     "text": [
      "           pod0@22006[I]:starting jina.peapods.runtimes.zmq.zed.ZEDRuntime...\n",
      "           pod0@22006[I]:input \u001b[33mtcp://0.0.0.0:50924\u001b[0m (PULL_BIND) output \u001b[33mtcp://0.0.0.0:50925\u001b[0m (PUSH_BIND) control over \u001b[33mtcp://0.0.0.0:50923\u001b[0m (PAIR_BIND)\n",
      "        gateway@22007[I]:starting jina.peapods.runtimes.asyncio.grpc.GRPCRuntime...\n",
      "        gateway@22007[I]:input \u001b[33mtcp://0.0.0.0:50925\u001b[0m (PULL_CONNECT) output \u001b[33mtcp://0.0.0.0:50924\u001b[0m (PUSH_CONNECT) control over \u001b[33mipc:///var/folders/05/h71x7gh54sx_5y43ppkq9_dw0000gq/T/tmpncuocid7\u001b[0m (PAIR_BIND)\n",
      "           JINA@22006[S]:\u001b[32msuccessfully built MyExecutor from a yaml config\u001b[0m\n",
      "        gateway@22007[S]:\u001b[32mGRPCRuntime is listening at: 0.0.0.0:50930\u001b[0m\n",
      "           pod0@21999[S]:\u001b[32mready and listening\u001b[0m\n",
      "        gateway@21999[S]:\u001b[32mready and listening\u001b[0m\n",
      "           Flow@21999[I]:2 Pods (i.e. 2 Peas) are running in this Flow\n",
      "           Flow@21999[S]:\u001b[32m🎉 Flow is ready to use, accepting \u001b[1mgRPC request\u001b[0m\u001b[0m\n",
      "           Flow@21999[I]:\n",
      "\t🖥️ Local access:\t\u001b[4m\u001b[36mtcp://0.0.0.0:50930\u001b[0m\n",
      "\t🔒 Private network:\t\u001b[4m\u001b[36mtcp://192.168.1.136:50930\u001b[0m\n",
      "\t🌐 Public address:\t\u001b[4m\u001b[36mtcp://213.195.113.21:50930\u001b[0m\n",
      "         Client@21999[S]:\u001b[32mconnected to the gateway at 0.0.0.0:50930!\u001b[0m\n",
      " \u001b[36m\u001b[0m |\u001b[32m█\u001b[0m                   | 📃      0 ⏱️ 0.0s 🐎 0.0/s      0   requests ...\t        gateway@22007[I]:prefetching 50 requests...\n",
      "        gateway@22007[W]:\u001b[40m\u001b[33mif this takes too long, you may want to take smaller \"--prefetch\" or ask client to reduce \"--request-size\"\u001b[0m\n",
      "        gateway@22007[I]:prefetching 50 requests takes 0 seconds (0.01s)\n",
      "           pod0@22006[I]:recv DataRequest  from gateway\u001b[32m▸\u001b[0mpod0/ZEDRuntime\u001b[32m▸\u001b[0m⚐\n",
      "\n",
      "\n",
      "\n",
      "\n",
      "\n",
      "Function foo2 called: {'docs': <jina.types.arrays.document.DocumentArray length=1 at 140500069772640>, 'parameters': {}, 'docs_matrix': [<jina.types.arrays.document.DocumentArray length=1 at 140500069773168>], 'groundtruths': None, 'groundtruths_matrix': None}\n",
      "\n",
      "\n",
      "\n",
      "\n",
      "\n",
      "           pod0@22006[I]:#sent: 0 #recv: 1 sent_size: 0 Bytes recv_size: 345 Bytes\n",
      "{'requestId': 'df2ae568-0a35-47b3-98ab-c1b51fc63e10', 'data': {'docs': [{'id': 'a8975ce0-b305-11eb-89e2-787b8ab3f5de'}]}, 'header': {}, 'routes': [{'pod': 'gateway', 'podId': 'a709a94f-fb75-41fd-95e2-3f38ddcb8df4', 'startTime': '2021-05-12T09:37:24.979592Z', 'endTime': '2021-05-12T09:37:24.988804Z'}, {'pod': 'pod0/ZEDRuntime', 'podId': '50b9fa4f-8115-4caf-b221-7ef03c28a033', 'startTime': '2021-05-12T09:37:24.983448Z', 'endTime': '2021-05-12T09:37:24.988099Z'}, {'pod': 'gateway', 'podId': '410c0c41-783b-49de-9c1c-66f602cdb8a8', 'startTime': '2021-05-12T09:37:24.988781Z'}], 'status': {}}\n",
      " \u001b[36m\u001b[0m |\u001b[32m█\u001b[0m                   | 📃    100 ⏱️ 0.0s 🐎 6314.4/s      1   requests takes 0 seconds (0.02s)\u001b[0m\n",
      "        gateway@22007[I]:#sent: 1 #recv: 1 sent_size: 414 Bytes recv_size: 430 Bytes\n",
      "\t\u001b[32m✅ done in ⏱ 0 seconds 🐎 5879.1/s\u001b[0m\n",
      "        gateway@21999[S]:\u001b[32mterminated\u001b[0m\n",
      "           pod0@22006[I]:recv ControlRequest  from ctl\u001b[32m▸\u001b[0mpod0/ZEDRuntime\u001b[32m▸\u001b[0m⚐\n",
      "           pod0@22006[I]:#sent: 2 #recv: 2 sent_size: 741 Bytes recv_size: 482 Bytes\n",
      "           pod0@21999[S]:\u001b[32mterminated\u001b[0m\n",
      "           Flow@21999[S]:\u001b[32mflow is closed and all resources are released, current build level is 0\u001b[0m\n"
     ]
    }
   ],
   "source": [
    "f = Flow().add(uses=MyExecutor)\n",
    "\n",
    "with f:\n",
    "    f.post(on='/search', inputs=Document(), on_done=print)"
   ]
  },
  {
   "cell_type": "code",
   "execution_count": 5,
   "metadata": {
    "ExecuteTime": {
     "end_time": "2021-05-12T09:37:27.124852Z",
     "start_time": "2021-05-12T09:37:27.111168Z"
    }
   },
   "outputs": [],
   "source": [
    "x = jina.types.arrays.DocumentArray([Document(id='doc1'), Document(id='doc2')])"
   ]
  },
  {
   "cell_type": "code",
   "execution_count": 6,
   "metadata": {
    "ExecuteTime": {
     "end_time": "2021-05-12T09:37:27.620808Z",
     "start_time": "2021-05-12T09:37:27.606145Z"
    }
   },
   "outputs": [
    {
     "data": {
      "text/plain": [
       "('doc1', 'doc2')"
      ]
     },
     "execution_count": 6,
     "metadata": {},
     "output_type": "execute_result"
    }
   ],
   "source": [
    "x[0].id,x[1].id,"
   ]
  },
  {
   "cell_type": "code",
   "execution_count": 7,
   "metadata": {
    "ExecuteTime": {
     "end_time": "2021-05-12T09:37:32.066380Z",
     "start_time": "2021-05-12T09:37:31.284828Z"
    }
   },
   "outputs": [
    {
     "name": "stdout",
     "output_type": "stream",
     "text": [
      "           pod0@22009[I]:starting jina.peapods.runtimes.zmq.zed.ZEDRuntime...\n",
      "           pod0@22009[I]:input \u001b[33mtcp://0.0.0.0:50984\u001b[0m (PULL_BIND) output \u001b[33mtcp://0.0.0.0:50985\u001b[0m (PUSH_BIND) control over \u001b[33mtcp://0.0.0.0:50983\u001b[0m (PAIR_BIND)\n",
      "        gateway@22010[I]:starting jina.peapods.runtimes.asyncio.grpc.GRPCRuntime...\n",
      "        gateway@22010[I]:input \u001b[33mtcp://0.0.0.0:50985\u001b[0m (PULL_CONNECT) output \u001b[33mtcp://0.0.0.0:50984\u001b[0m (PUSH_CONNECT) control over \u001b[33mipc:///var/folders/05/h71x7gh54sx_5y43ppkq9_dw0000gq/T/tmpzck541ii\u001b[0m (PAIR_BIND)\n",
      "           JINA@22009[S]:\u001b[32msuccessfully built MyExecutor from a yaml config\u001b[0m\n",
      "           pod0@21999[S]:\u001b[32mready and listening\u001b[0m\n",
      "        gateway@22010[S]:\u001b[32mGRPCRuntime is listening at: 0.0.0.0:50990\u001b[0m\n",
      "        gateway@21999[S]:\u001b[32mready and listening\u001b[0m\n",
      "           Flow@21999[I]:2 Pods (i.e. 2 Peas) are running in this Flow\n",
      "           Flow@21999[S]:\u001b[32m🎉 Flow is ready to use, accepting \u001b[1mgRPC request\u001b[0m\u001b[0m\n",
      "           Flow@21999[I]:\n",
      "\t🖥️ Local access:\t\u001b[4m\u001b[36mtcp://0.0.0.0:50990\u001b[0m\n",
      "\t🔒 Private network:\t\u001b[4m\u001b[36mtcp://192.168.1.136:50990\u001b[0m\n",
      "\t🌐 Public address:\t\u001b[4m\u001b[36mtcp://213.195.113.21:50990\u001b[0m\n",
      "         Client@21999[S]:\u001b[32mconnected to the gateway at 0.0.0.0:50990!\u001b[0m\n",
      " \u001b[36m\u001b[0m |\u001b[32m█\u001b[0m                   | 📃      0 ⏱️ 0.0s 🐎 0.0/s      0   requests ...\t        gateway@22010[I]:prefetching 50 requests...\n",
      "        gateway@22010[W]:\u001b[40m\u001b[33mif this takes too long, you may want to take smaller \"--prefetch\" or ask client to reduce \"--request-size\"\u001b[0m\n",
      "        gateway@22010[I]:prefetching 50 requests takes 0 seconds (0.00s)\n",
      "           pod0@22009[I]:recv DataRequest  from gateway\u001b[32m▸\u001b[0mpod0/ZEDRuntime\u001b[32m▸\u001b[0m⚐\n",
      "\n",
      "\n",
      "\n",
      "\n",
      "\n",
      "Function foo2 called: {'docs': <jina.types.arrays.document.DocumentArray length=2 at 140500606053632>, 'parameters': {}, 'docs_matrix': [<jina.types.arrays.document.DocumentArray length=2 at 140500606051280>], 'groundtruths': None, 'groundtruths_matrix': None}\n",
      "\n",
      "\n",
      "\n",
      "\n",
      "\n",
      "           pod0@22009[I]:#sent: 0 #recv: 1 sent_size: 0 Bytes recv_size: 321 Bytes\n",
      "{'requestId': '691c1e7b-9fcb-4d81-b4e8-40539da2d3f8', 'data': {'docs': [{'id': 'doc1'}, {'id': 'doc2'}]}, 'header': {}, 'routes': [{'pod': 'gateway', 'podId': '7ca91602-bfe6-4ff4-a39a-5c889b98ef37', 'startTime': '2021-05-12T09:37:31.820443Z', 'endTime': '2021-05-12T09:37:31.826943Z'}, {'pod': 'pod0/ZEDRuntime', 'podId': 'c831f162-628d-434a-8056-78539d92bf56', 'startTime': '2021-05-12T09:37:31.821217Z', 'endTime': '2021-05-12T09:37:31.826264Z'}, {'pod': 'gateway', 'podId': '73192b42-705f-4e6a-b237-745d427a805a', 'startTime': '2021-05-12T09:37:31.826919Z'}], 'status': {}}\n",
      " \u001b[36m\u001b[0m |\u001b[32m█\u001b[0m                   | 📃    100 ⏱️ 0.0s 🐎 7449.9/s      1   requests takes 0 seconds (0.01s)\u001b[0m\n",
      "        gateway@22010[I]:#sent: 1 #recv: 1 sent_size: 390 Bytes recv_size: 406 Bytes\n",
      "\t\u001b[32m✅ done in ⏱ 0 seconds 🐎 6897.0/s\u001b[0m\n",
      "        gateway@21999[S]:\u001b[32mterminated\u001b[0m\n",
      "           pod0@22009[I]:recv ControlRequest  from ctl\u001b[32m▸\u001b[0mpod0/ZEDRuntime\u001b[32m▸\u001b[0m⚐\n",
      "           pod0@22009[I]:#sent: 2 #recv: 2 sent_size: 717 Bytes recv_size: 458 Bytes\n",
      "           pod0@21999[S]:\u001b[32mterminated\u001b[0m\n",
      "           Flow@21999[S]:\u001b[32mflow is closed and all resources are released, current build level is 0\u001b[0m\n"
     ]
    }
   ],
   "source": [
    "f = Flow().add(uses=MyExecutor)\n",
    "\n",
    "with f:\n",
    "    f.post(on='/search', inputs=x, on_done=print)"
   ]
  },
  {
   "cell_type": "markdown",
   "metadata": {},
   "source": [
    "With Yaml"
   ]
  },
  {
   "cell_type": "code",
   "execution_count": 8,
   "metadata": {
    "ExecuteTime": {
     "end_time": "2021-05-12T09:37:34.043155Z",
     "start_time": "2021-05-12T09:37:34.029651Z"
    }
   },
   "outputs": [],
   "source": [
    "yml=\"\"\"\n",
    "jtype: MyExecutor\n",
    "with:\n",
    "  bar: 123\n",
    "metas:\n",
    "  name: awesomeness\n",
    "  description: my first awesome executor\n",
    "requests:\n",
    "  /random_work: foo\n",
    "\"\"\""
   ]
  },
  {
   "cell_type": "code",
   "execution_count": 9,
   "metadata": {
    "ExecuteTime": {
     "end_time": "2021-05-12T09:37:35.036877Z",
     "start_time": "2021-05-12T09:37:34.907489Z"
    }
   },
   "outputs": [
    {
     "name": "stdout",
     "output_type": "stream",
     "text": [
      "Untitled.ipynb        intro-Copy1.ipynb     y.yml\r\n",
      "executor_save_bug.py  intro.ipynb\r\n"
     ]
    }
   ],
   "source": [
    "ls"
   ]
  },
  {
   "cell_type": "code",
   "execution_count": 10,
   "metadata": {
    "ExecuteTime": {
     "end_time": "2021-05-12T09:37:35.845558Z",
     "start_time": "2021-05-12T09:37:35.582731Z"
    },
    "scrolled": false
   },
   "outputs": [
    {
     "name": "stdout",
     "output_type": "stream",
     "text": [
      "           pod0@22012[I]:starting jina.peapods.runtimes.zmq.zed.ZEDRuntime...\n",
      "           pod0@22012[I]:input \u001b[33mtcp://0.0.0.0:51044\u001b[0m (PULL_BIND) output \u001b[33mtcp://0.0.0.0:51045\u001b[0m (PUSH_BIND) control over \u001b[33mtcp://0.0.0.0:51043\u001b[0m (PAIR_BIND)\n",
      "        gateway@22013[I]:starting jina.peapods.runtimes.asyncio.grpc.GRPCRuntime...\n",
      "           pod0@22012[E]:\u001b[31mfail to load file dependency\u001b[0m\n",
      "           pod0@22012[E]:\u001b[31mExecutorFailToLoad() during <bound method ZEDRuntime.setup of <jina.peapods.runtimes.zmq.zed.ZEDRuntime object at 0x7fc8b8bfe790>>\n",
      " add \"--quiet-error\" to suppress the exception details\u001b[0m\n",
      "Traceback (most recent call last):\n",
      "  File \"/Users/davidbuchaca1/Documents/git_stuff/jina/jina/peapods/runtimes/zmq/zed.py\", line 76, in _load_executor\n",
      "    self._executor = BaseExecutor.load_config(\n",
      "  File \"/Users/davidbuchaca1/Documents/git_stuff/jina/jina/jaml/__init__.py\", line 498, in load_config\n",
      "    stream, s_path = parse_config_source(source, **kwargs)\n",
      "  File \"/Users/davidbuchaca1/Documents/git_stuff/jina/jina/jaml/helper.py\", line 151, in parse_config_source\n",
      "    comp_path = complete_path(path)\n",
      "  File \"/Users/davidbuchaca1/Documents/git_stuff/jina/jina/jaml/helper.py\", line 205, in complete_path\n",
      "    raise FileNotFoundError(f'can not find {path}')\n",
      "FileNotFoundError: can not find my.yml\n",
      "\n",
      "The above exception was the direct cause of the following exception:\n",
      "\n",
      "Traceback (most recent call last):\n",
      "  File \"/Users/davidbuchaca1/Documents/git_stuff/jina/jina/peapods/peas/__init__.py\", line 70, in run\n",
      "    self.runtime.setup()\n",
      "  File \"/Users/davidbuchaca1/Documents/git_stuff/jina/jina/peapods/runtimes/zmq/zed.py\", line 55, in setup\n",
      "    self._load_executor()\n",
      "  File \"/Users/davidbuchaca1/Documents/git_stuff/jina/jina/peapods/runtimes/zmq/zed.py\", line 93, in _load_executor\n",
      "    raise ExecutorFailToLoad from ex\n",
      "jina.excepts.ExecutorFailToLoad\n",
      "        gateway@22013[I]:input \u001b[33mtcp://0.0.0.0:51045\u001b[0m (PULL_CONNECT) output \u001b[33mtcp://0.0.0.0:51044\u001b[0m (PUSH_CONNECT) control over \u001b[33mipc:///var/folders/05/h71x7gh54sx_5y43ppkq9_dw0000gq/T/tmpx2x7i3hf\u001b[0m (PAIR_BIND)\n",
      "           pod0@21999[S]:\u001b[32mterminated\u001b[0m\n",
      "           Flow@21999[E]:\u001b[31mpod0:<jina.peapods.pods.Pod object at 0x7fc8b8c1f790> can not be started due to RuntimeFailToStart(), Flow is aborted\u001b[0m\n",
      "        gateway@22013[S]:\u001b[32mGRPCRuntime is listening at: 0.0.0.0:51050\u001b[0m\n",
      "        gateway@22013[I]:#sent: 0 #recv: 0 sent_size: 0 Bytes recv_size: 0 Bytes\n",
      "        gateway@21999[S]:\u001b[32mterminated\u001b[0m\n",
      "           Flow@21999[S]:\u001b[32mflow is closed and all resources are released, current build level is 0\u001b[0m\n",
      "           Flow@21999[S]:\u001b[32mflow is closed and all resources are released, current build level is 0\u001b[0m\n"
     ]
    },
    {
     "ename": "RuntimeFailToStart",
     "evalue": "",
     "output_type": "error",
     "traceback": [
      "\u001b[0;31m---------------------------------------------------------------------------\u001b[0m",
      "\u001b[0;31mRuntimeFailToStart\u001b[0m                        Traceback (most recent call last)",
      "\u001b[0;32m<ipython-input-10-41121fa603a1>\u001b[0m in \u001b[0;36m<module>\u001b[0;34m\u001b[0m\n\u001b[1;32m     14\u001b[0m \u001b[0mf\u001b[0m \u001b[0;34m=\u001b[0m \u001b[0mFlow\u001b[0m\u001b[0;34m(\u001b[0m\u001b[0;34m)\u001b[0m\u001b[0;34m.\u001b[0m\u001b[0madd\u001b[0m\u001b[0;34m(\u001b[0m\u001b[0muses\u001b[0m\u001b[0;34m=\u001b[0m\u001b[0;34m'my.yml'\u001b[0m\u001b[0;34m)\u001b[0m\u001b[0;34m\u001b[0m\u001b[0;34m\u001b[0m\u001b[0m\n\u001b[1;32m     15\u001b[0m \u001b[0;34m\u001b[0m\u001b[0m\n\u001b[0;32m---> 16\u001b[0;31m \u001b[0;32mwith\u001b[0m \u001b[0mf\u001b[0m\u001b[0;34m:\u001b[0m\u001b[0;34m\u001b[0m\u001b[0;34m\u001b[0m\u001b[0m\n\u001b[0m\u001b[1;32m     17\u001b[0m     \u001b[0mf\u001b[0m\u001b[0;34m.\u001b[0m\u001b[0mpost\u001b[0m\u001b[0;34m(\u001b[0m\u001b[0mon\u001b[0m\u001b[0;34m=\u001b[0m\u001b[0;34m'/random_work'\u001b[0m\u001b[0;34m,\u001b[0m \u001b[0minputs\u001b[0m\u001b[0;34m=\u001b[0m\u001b[0mDocument\u001b[0m\u001b[0;34m(\u001b[0m\u001b[0;34m)\u001b[0m\u001b[0;34m,\u001b[0m \u001b[0mon_done\u001b[0m\u001b[0;34m=\u001b[0m\u001b[0mprint\u001b[0m\u001b[0;34m)\u001b[0m\u001b[0;34m\u001b[0m\u001b[0;34m\u001b[0m\u001b[0m\n",
      "\u001b[0;32m~/Documents/git_stuff/jina/jina/flow/base.py\u001b[0m in \u001b[0;36m__enter__\u001b[0;34m(self)\u001b[0m\n\u001b[1;32m    510\u001b[0m \u001b[0;34m\u001b[0m\u001b[0m\n\u001b[1;32m    511\u001b[0m         \u001b[0;32mwith\u001b[0m \u001b[0mCatchAllCleanupContextManager\u001b[0m\u001b[0;34m(\u001b[0m\u001b[0mself\u001b[0m\u001b[0;34m)\u001b[0m\u001b[0;34m:\u001b[0m\u001b[0;34m\u001b[0m\u001b[0;34m\u001b[0m\u001b[0m\n\u001b[0;32m--> 512\u001b[0;31m             \u001b[0;32mreturn\u001b[0m \u001b[0mself\u001b[0m\u001b[0;34m.\u001b[0m\u001b[0mstart\u001b[0m\u001b[0;34m(\u001b[0m\u001b[0;34m)\u001b[0m\u001b[0;34m\u001b[0m\u001b[0;34m\u001b[0m\u001b[0m\n\u001b[0m\u001b[1;32m    513\u001b[0m \u001b[0;34m\u001b[0m\u001b[0m\n\u001b[1;32m    514\u001b[0m     \u001b[0;32mdef\u001b[0m \u001b[0m__exit__\u001b[0m\u001b[0;34m(\u001b[0m\u001b[0mself\u001b[0m\u001b[0;34m,\u001b[0m \u001b[0mexc_type\u001b[0m\u001b[0;34m,\u001b[0m \u001b[0mexc_val\u001b[0m\u001b[0;34m,\u001b[0m \u001b[0mexc_tb\u001b[0m\u001b[0;34m)\u001b[0m\u001b[0;34m:\u001b[0m\u001b[0;34m\u001b[0m\u001b[0;34m\u001b[0m\u001b[0m\n",
      "\u001b[0;32m~/Documents/git_stuff/jina/jina/flow/base.py\u001b[0m in \u001b[0;36mstart\u001b[0;34m(self)\u001b[0m\n\u001b[1;32m    555\u001b[0m         \u001b[0;32mfor\u001b[0m \u001b[0mk\u001b[0m\u001b[0;34m,\u001b[0m \u001b[0mv\u001b[0m \u001b[0;32min\u001b[0m \u001b[0mself\u001b[0m\u001b[0;34m:\u001b[0m\u001b[0;34m\u001b[0m\u001b[0;34m\u001b[0m\u001b[0m\n\u001b[1;32m    556\u001b[0m             \u001b[0;32mtry\u001b[0m\u001b[0;34m:\u001b[0m\u001b[0;34m\u001b[0m\u001b[0;34m\u001b[0m\u001b[0m\n\u001b[0;32m--> 557\u001b[0;31m                 \u001b[0mv\u001b[0m\u001b[0;34m.\u001b[0m\u001b[0mwait_start_success\u001b[0m\u001b[0;34m(\u001b[0m\u001b[0;34m)\u001b[0m\u001b[0;34m\u001b[0m\u001b[0;34m\u001b[0m\u001b[0m\n\u001b[0m\u001b[1;32m    558\u001b[0m             \u001b[0;32mexcept\u001b[0m \u001b[0mException\u001b[0m \u001b[0;32mas\u001b[0m \u001b[0mex\u001b[0m\u001b[0;34m:\u001b[0m\u001b[0;34m\u001b[0m\u001b[0;34m\u001b[0m\u001b[0m\n\u001b[1;32m    559\u001b[0m                 self.logger.error(\n",
      "\u001b[0;32m~/Documents/git_stuff/jina/jina/peapods/pods/__init__.py\u001b[0m in \u001b[0;36mwait_start_success\u001b[0;34m(self)\u001b[0m\n\u001b[1;32m    442\u001b[0m         \u001b[0;32mtry\u001b[0m\u001b[0;34m:\u001b[0m\u001b[0;34m\u001b[0m\u001b[0;34m\u001b[0m\u001b[0m\n\u001b[1;32m    443\u001b[0m             \u001b[0;32mfor\u001b[0m \u001b[0mp\u001b[0m \u001b[0;32min\u001b[0m \u001b[0mself\u001b[0m\u001b[0;34m.\u001b[0m\u001b[0mpeas\u001b[0m\u001b[0;34m:\u001b[0m\u001b[0;34m\u001b[0m\u001b[0;34m\u001b[0m\u001b[0m\n\u001b[0;32m--> 444\u001b[0;31m                 \u001b[0mp\u001b[0m\u001b[0;34m.\u001b[0m\u001b[0mwait_start_success\u001b[0m\u001b[0;34m(\u001b[0m\u001b[0;34m)\u001b[0m\u001b[0;34m\u001b[0m\u001b[0;34m\u001b[0m\u001b[0m\n\u001b[0m\u001b[1;32m    445\u001b[0m         \u001b[0;32mexcept\u001b[0m\u001b[0;34m:\u001b[0m\u001b[0;34m\u001b[0m\u001b[0;34m\u001b[0m\u001b[0m\n\u001b[1;32m    446\u001b[0m             \u001b[0mself\u001b[0m\u001b[0;34m.\u001b[0m\u001b[0mclose\u001b[0m\u001b[0;34m(\u001b[0m\u001b[0;34m)\u001b[0m\u001b[0;34m\u001b[0m\u001b[0;34m\u001b[0m\u001b[0m\n",
      "\u001b[0;32m~/Documents/git_stuff/jina/jina/peapods/peas/__init__.py\u001b[0m in \u001b[0;36mwait_start_success\u001b[0;34m(self)\u001b[0m\n\u001b[1;32m    139\u001b[0m                         \u001b[0;34mf'remove \"--quiet-error\" to see the exception stack in details'\u001b[0m\u001b[0;34m\u001b[0m\u001b[0;34m\u001b[0m\u001b[0m\n\u001b[1;32m    140\u001b[0m                     )\n\u001b[0;32m--> 141\u001b[0;31m                 \u001b[0;32mraise\u001b[0m \u001b[0mRuntimeFailToStart\u001b[0m\u001b[0;34m\u001b[0m\u001b[0;34m\u001b[0m\u001b[0m\n\u001b[0m\u001b[1;32m    142\u001b[0m             \u001b[0;32melse\u001b[0m\u001b[0;34m:\u001b[0m\u001b[0;34m\u001b[0m\u001b[0;34m\u001b[0m\u001b[0m\n\u001b[1;32m    143\u001b[0m                 \u001b[0mself\u001b[0m\u001b[0;34m.\u001b[0m\u001b[0mlogger\u001b[0m\u001b[0;34m.\u001b[0m\u001b[0msuccess\u001b[0m\u001b[0;34m(\u001b[0m\u001b[0m__ready_msg__\u001b[0m\u001b[0;34m)\u001b[0m\u001b[0;34m\u001b[0m\u001b[0;34m\u001b[0m\u001b[0m\n",
      "\u001b[0;31mRuntimeFailToStart\u001b[0m: "
     ]
    }
   ],
   "source": [
    "from jina import Executor, Flow, Document\n",
    "\n",
    "\n",
    "class MyExecutor(Executor):\n",
    "\n",
    "    def __init__(self, bar: int, **kwargs):\n",
    "        super().__init__(**kwargs)\n",
    "        self.bar = bar\n",
    "\n",
    "    def foo(self, **kwargs):\n",
    "        print(f'\\n\\n\\n\\nfoo says: {self.bar} {self.metas} {kwargs}\\n\\n\\n\\n')\n",
    "\n",
    "\n",
    "f = Flow().add(uses='my.yml')\n",
    "\n",
    "with f:\n",
    "    f.post(on='/random_work', inputs=Document(), on_done=print)\n"
   ]
  },
  {
   "cell_type": "code",
   "execution_count": 38,
   "metadata": {
    "ExecuteTime": {
     "end_time": "2021-05-12T09:42:22.723072Z",
     "start_time": "2021-05-12T09:42:22.709642Z"
    }
   },
   "outputs": [],
   "source": [
    "from jina import executors, Executor, requests, DocumentArray"
   ]
  },
  {
   "cell_type": "markdown",
   "metadata": {
    "ExecuteTime": {
     "end_time": "2021-05-12T09:42:23.579282Z",
     "start_time": "2021-05-12T09:42:23.564820Z"
    }
   },
   "source": [
    "Note that a user can control which function from an `Executor` is called specifying `on=myfunc` where\n",
    "`myfunc` is a string that is specified in a function inside the `Executor`. \n",
    "\n",
    "For example\n",
    "\n",
    "```python\n",
    "with f:\n",
    "    f.post(on='banch_bar')\n",
    "```\n",
    "\n",
    "For example, in the following cell we have a flow where we call `f.post` twice.\n",
    "\n",
    "- `f.post(on='branch_bar',inputs=d)`  calls function `bar` because `branch_bar` has been used to decorate the function `bar`.\n",
    "\n",
    "- The second time, `f.post(on='brunch_bar', inputs=d)` calls function `foo` because `brunch_bar` was not used to decorate any function and it uses the default function `foo`.\n"
   ]
  },
  {
   "cell_type": "code",
   "execution_count": 45,
   "metadata": {
    "ExecuteTime": {
     "end_time": "2021-05-12T09:47:02.938706Z",
     "start_time": "2021-05-12T09:47:02.153296Z"
    }
   },
   "outputs": [
    {
     "name": "stdout",
     "output_type": "stream",
     "text": [
      "           pod0@22120[I]:starting jina.peapods.runtimes.zmq.zed.ZEDRuntime...\n",
      "           pod0@22120[I]:input \u001b[33mtcp://0.0.0.0:52186\u001b[0m (PULL_BIND) output \u001b[33mtcp://0.0.0.0:52187\u001b[0m (PUSH_BIND) control over \u001b[33mtcp://0.0.0.0:52185\u001b[0m (PAIR_BIND)\n",
      "        gateway@22121[I]:starting jina.peapods.runtimes.asyncio.grpc.GRPCRuntime...\n",
      "        gateway@22121[I]:input \u001b[33mtcp://0.0.0.0:52187\u001b[0m (PULL_CONNECT) output \u001b[33mtcp://0.0.0.0:52186\u001b[0m (PUSH_CONNECT) control over \u001b[33mipc:///var/folders/05/h71x7gh54sx_5y43ppkq9_dw0000gq/T/tmpa8sc_qsu\u001b[0m (PAIR_BIND)\n",
      "           JINA@22120[S]:\u001b[32msuccessfully built MyExecutor from a yaml config\u001b[0m\n",
      "           pod0@21999[S]:\u001b[32mready and listening\u001b[0m\n",
      "        gateway@22121[S]:\u001b[32mGRPCRuntime is listening at: 0.0.0.0:52192\u001b[0m\n",
      "        gateway@21999[S]:\u001b[32mready and listening\u001b[0m\n",
      "           Flow@21999[I]:2 Pods (i.e. 2 Peas) are running in this Flow\n",
      "           Flow@21999[S]:\u001b[32m🎉 Flow is ready to use, accepting \u001b[1mgRPC request\u001b[0m\u001b[0m\n",
      "           Flow@21999[I]:\n",
      "\t🖥️ Local access:\t\u001b[4m\u001b[36mtcp://0.0.0.0:52192\u001b[0m\n",
      "\t🔒 Private network:\t\u001b[4m\u001b[36mtcp://192.168.1.136:52192\u001b[0m\n",
      "\t🌐 Public address:\t\u001b[4m\u001b[36mtcp://213.195.113.21:52192\u001b[0m\n",
      "         Client@21999[S]:\u001b[32mconnected to the gateway at 0.0.0.0:52192!\u001b[0m\n",
      " \u001b[36m\u001b[0m |\u001b[32m█\u001b[0m                   | 📃      0 ⏱️ 0.0s 🐎 0.0/s      0   requests ...\t        gateway@22121[I]:prefetching 50 requests...\n",
      "        gateway@22121[W]:\u001b[40m\u001b[33mif this takes too long, you may want to take smaller \"--prefetch\" or ask client to reduce \"--request-size\"\u001b[0m\n",
      "        gateway@22121[I]:prefetching 50 requests takes 0 seconds (0.00s)\n",
      "           pod0@22120[I]:recv DataRequest  from gateway\u001b[32m▸\u001b[0mpod0/ZEDRuntime\u001b[32m▸\u001b[0m⚐\n",
      "\n",
      "\n",
      "\n",
      "on=\"banch_bar\" has been passed to f.post. Therefore bar function is called\n",
      "\n",
      "\n",
      "\n",
      "\n",
      "           pod0@22120[I]:#sent: 0 #recv: 1 sent_size: 0 Bytes recv_size: 348 Bytes\n",
      " \u001b[36m\u001b[0m |\u001b[32m█\u001b[0m                   | 📃    100 ⏱️ 0.0s 🐎 7651.5/s      1   requests takes 0 seconds (0.01s)\u001b[0m\n",
      "\t\u001b[32m✅ done in ⏱ 0 seconds 🐎 7071.1/s\u001b[0m\n",
      "         Client@21999[S]:\u001b[32mconnected to the gateway at 0.0.0.0:52192!\u001b[0m\n",
      " \u001b[36m\u001b[0m |\u001b[32m█\u001b[0m                   | 📃      0 ⏱️ 0.0s 🐎 0.0/s      0   requests ...\t        gateway@22121[I]:prefetching 50 requests...\n",
      "        gateway@22121[W]:\u001b[40m\u001b[33mif this takes too long, you may want to take smaller \"--prefetch\" or ask client to reduce \"--request-size\"\u001b[0m\n",
      "        gateway@22121[I]:prefetching 50 requests takes 0 seconds (0.00s)\n",
      "           pod0@22120[I]:recv DataRequest  from gateway\u001b[32m▸\u001b[0mpod0/ZEDRuntime\u001b[32m▸\u001b[0m⚐\n",
      "\n",
      "\n",
      "\n",
      "\n",
      "Here if \"on=something\"  where something not found in other requests\n",
      "\n",
      "\n",
      "\n",
      "\n",
      "           pod0@22120[I]:#sent: 1 #recv: 2 sent_size: 502 Bytes recv_size: 696 Bytes\n",
      " \u001b[36m\u001b[0m |\u001b[32m█\u001b[0m                   | 📃    100 ⏱️ 0.0s 🐎 9806.1/s      1   requests takes 0 seconds (0.01s)\u001b[0m\n",
      "        gateway@22121[I]:#sent: 2 #recv: 2 sent_size: 834 Bytes recv_size: 866 Bytes\n",
      "\t\u001b[32m✅ done in ⏱ 0 seconds 🐎 8742.1/s\u001b[0m\n",
      "        gateway@21999[S]:\u001b[32mterminated\u001b[0m\n",
      "           pod0@22120[I]:recv ControlRequest  from ctl\u001b[32m▸\u001b[0mpod0/ZEDRuntime\u001b[32m▸\u001b[0m⚐\n",
      "           pod0@22120[I]:#sent: 3 #recv: 3 sent_size: 1.2 KB recv_size: 834 Bytes\n",
      "           pod0@21999[S]:\u001b[32mterminated\u001b[0m\n",
      "           Flow@21999[S]:\u001b[32mflow is closed and all resources are released, current build level is 0\u001b[0m\n"
     ]
    }
   ],
   "source": [
    "from jina import Executor, requests\n",
    "\n",
    "class MyExecutor(Executor):\n",
    "\n",
    "  @requests\n",
    "  def foo(self, **kwargs):\n",
    "    print(f'\\n\\n\\n\\nHere if \"on=something\"  where something not found in other requests\\n\\n\\n\\n')\n",
    "\n",
    "\n",
    "  @requests(on='branch_bar')\n",
    "  def bar(self, **kwargs):\n",
    "    print('\\n\\n\\non=\"banch_bar\" has been passed to f.post. Therefore bar function is called\\n\\n\\n\\n')\n",
    "\n",
    "    \n",
    "f = Flow().add(uses=MyExecutor)\n",
    "d = DocumentArray([Document()])\n",
    "\n",
    "with f:\n",
    "    f.post(on='branch_bar',inputs=d) \n",
    "    \n",
    "    # if incorrect 'on' is passed it defaults to the default\n",
    "    f.post(on='brunch_bar',inputs=d) \n",
    "    "
   ]
  },
  {
   "cell_type": "markdown",
   "metadata": {},
   "source": [
    "#### Multiple binding"
   ]
  },
  {
   "cell_type": "code",
   "execution_count": 59,
   "metadata": {},
   "outputs": [],
   "source": [
    "from jina import Executor, requests\n",
    "\n",
    "class MyExecutor(Executor):\n",
    "\n",
    "  @requests\n",
    "  def foo(self, **kwargs):\n",
    "    print(f'\\n\\n\\n\\nfoo\\n\\n\\n\\n')\n",
    "\n",
    "\n",
    "  @requests(on='/index')\n",
    "  def bar(self, **kwargs):\n",
    "    print(f'\\n\\n\\n\\nbar\\n\\n\\n\\n')\n",
    "\n",
    "  @requests(on=['/foo', '/bar'])\n",
    "  def foobar(self, **kwargs):\n",
    "    print(f'\\n\\n\\n\\nfoo_bar\\n\\n\\n\\n')\n",
    "\n",
    "    "
   ]
  },
  {
   "cell_type": "code",
   "execution_count": 60,
   "metadata": {},
   "outputs": [
    {
     "name": "stdout",
     "output_type": "stream",
     "text": [
      "           pod0@9636[I]:starting jina.peapods.runtimes.zmq.zed.ZEDRuntime...\n",
      "           pod0@9636[I]:input \u001b[33mtcp://0.0.0.0:65082\u001b[0m (PULL_BIND) output \u001b[33mtcp://0.0.0.0:65083\u001b[0m (PUSH_BIND) control over \u001b[33mtcp://0.0.0.0:65081\u001b[0m (PAIR_BIND)\n",
      "        gateway@9637[I]:starting jina.peapods.runtimes.asyncio.grpc.GRPCRuntime...\n",
      "           JINA@9636[S]:\u001b[32msuccessfully built MyExecutor from a yaml config\u001b[0m\n",
      "        gateway@9637[I]:input \u001b[33mtcp://0.0.0.0:65083\u001b[0m (PULL_CONNECT) output \u001b[33mtcp://0.0.0.0:65082\u001b[0m (PUSH_CONNECT) control over \u001b[33mipc:///var/folders/lh/njnz5hj934d2js334v28z1x00000gn/T/tmpfzcmbfh6\u001b[0m (PAIR_BIND)\n",
      "           pod0@8930[S]:\u001b[32mready and listening\u001b[0m\n",
      "        gateway@9637[S]:\u001b[32mGRPCRuntime is listening at: 0.0.0.0:49154\u001b[0m\n",
      "        gateway@8930[S]:\u001b[32mready and listening\u001b[0m\n",
      "           Flow@8930[I]:2 Pods (i.e. 2 Peas) are running in this Flow\n",
      "           Flow@8930[S]:\u001b[32m🎉 Flow is ready to use, accepting \u001b[1mgRPC request\u001b[0m\u001b[0m\n",
      "           Flow@8930[I]:\n",
      "\t🖥️ Local access:\t\u001b[4m\u001b[36mtcp://0.0.0.0:49154\u001b[0m\n",
      "\t🔒 Private network:\t\u001b[4m\u001b[36mtcp://192.168.1.138:49154\u001b[0m\n",
      "\t🌐 Public address:\t\u001b[4m\u001b[36mtcp://213.195.113.21:49154\u001b[0m\n",
      "         Client@8930[S]:\u001b[32mconnected to the gateway at 0.0.0.0:49154!\u001b[0m\n",
      "\u001b[36mdata\u001b[0m |\u001b[32m█\u001b[0m                   | 📃      0 ⏱️ 0.0s 🐎 0.0/s      0   requestsdata ...\t        gateway@9637[I]:prefetching 50 requests...\n",
      "        gateway@9637[W]:\u001b[40m\u001b[33mif this takes too long, you may want to take smaller \"--prefetch\" or ask client to reduce \"--request-size\"\u001b[0m\n",
      "        gateway@9637[I]:prefetching 50 requests takes 0 seconds (0.01s)\n",
      "           pod0@9636[I]:recv DataRequest  from gateway\u001b[32m▸\u001b[0mpod0/ZEDRuntime\u001b[32m▸\u001b[0m⚐\n",
      "\n",
      "\n",
      "\n",
      "\n",
      "foo_bar\n",
      "\n",
      "\n",
      "\n",
      "\n",
      "           pod0@9636[I]:#sent: 0 #recv: 1 sent_size: 0 Bytes recv_size: 343 Bytes\n",
      "\u001b[36mdata\u001b[0m |\u001b[32m█\u001b[0m                   | 📃    100 ⏱️ 0.0s 🐎 3900.0/s      1   requestsdata takes 0 seconds (0.03s)\u001b[0m\n",
      "        gateway@9637[I]:#sent: 1 #recv: 1 sent_size: 412 Bytes recv_size: 428 Bytes\n",
      "\t\u001b[32m✅ done in ⏱ 0 seconds 🐎 3709.6/s\u001b[0m\n",
      "        gateway@8930[S]:\u001b[32mterminated\u001b[0m\n",
      "           pod0@9636[I]:recv ControlRequest  from ctl\u001b[32m▸\u001b[0mpod0/ZEDRuntime\u001b[32m▸\u001b[0m⚐\n",
      "           pod0@9636[I]:#sent: 2 #recv: 2 sent_size: 740 Bytes recv_size: 481 Bytes\n",
      "           pod0@8930[S]:\u001b[32mterminated\u001b[0m\n",
      "           Flow@8930[S]:\u001b[32mflow is closed and all resources are released, current build level is EMPTY\u001b[0m\n"
     ]
    }
   ],
   "source": [
    "with f:\n",
    "    # if incorrect 'on' is passed it defaults to the default\n",
    "    f.post(inputs=Document(), on='/foo') "
   ]
  },
  {
   "cell_type": "code",
   "execution_count": 61,
   "metadata": {},
   "outputs": [
    {
     "name": "stdout",
     "output_type": "stream",
     "text": [
      "           pod0@9640[I]:starting jina.peapods.runtimes.zmq.zed.ZEDRuntime...\n",
      "           pod0@9640[I]:input \u001b[33mtcp://0.0.0.0:65082\u001b[0m (PULL_BIND) output \u001b[33mtcp://0.0.0.0:65083\u001b[0m (PUSH_BIND) control over \u001b[33mtcp://0.0.0.0:65081\u001b[0m (PAIR_BIND)\n",
      "        gateway@9641[I]:starting jina.peapods.runtimes.asyncio.grpc.GRPCRuntime...\n",
      "        gateway@9641[I]:input \u001b[33mtcp://0.0.0.0:65083\u001b[0m (PULL_CONNECT) output \u001b[33mtcp://0.0.0.0:65082\u001b[0m (PUSH_CONNECT) control over \u001b[33mipc:///var/folders/lh/njnz5hj934d2js334v28z1x00000gn/T/tmp1_crot9v\u001b[0m (PAIR_BIND)\n",
      "           JINA@9640[S]:\u001b[32msuccessfully built MyExecutor from a yaml config\u001b[0m\n",
      "           pod0@8930[S]:\u001b[32mready and listening\u001b[0m\n",
      "        gateway@9641[S]:\u001b[32mGRPCRuntime is listening at: 0.0.0.0:49186\u001b[0m\n",
      "        gateway@8930[S]:\u001b[32mready and listening\u001b[0m\n",
      "           Flow@8930[I]:2 Pods (i.e. 2 Peas) are running in this Flow\n",
      "           Flow@8930[S]:\u001b[32m🎉 Flow is ready to use, accepting \u001b[1mgRPC request\u001b[0m\u001b[0m\n",
      "           Flow@8930[I]:\n",
      "\t🖥️ Local access:\t\u001b[4m\u001b[36mtcp://0.0.0.0:49186\u001b[0m\n",
      "\t🔒 Private network:\t\u001b[4m\u001b[36mtcp://192.168.1.138:49186\u001b[0m\n",
      "\t🌐 Public address:\t\u001b[4m\u001b[36mtcp://213.195.113.21:49186\u001b[0m\n",
      "         Client@8930[S]:\u001b[32mconnected to the gateway at 0.0.0.0:49186!\u001b[0m\n",
      "\u001b[36mdata\u001b[0m |\u001b[32m█\u001b[0m                   | 📃      0 ⏱️ 0.0s 🐎 0.0/s      0   requestsdata ...\t        gateway@9641[I]:prefetching 50 requests...\n",
      "        gateway@9641[W]:\u001b[40m\u001b[33mif this takes too long, you may want to take smaller \"--prefetch\" or ask client to reduce \"--request-size\"\u001b[0m\n",
      "        gateway@9641[I]:prefetching 50 requests takes 0 seconds (0.01s)\n",
      "           pod0@9640[I]:recv DataRequest  from gateway\u001b[32m▸\u001b[0mpod0/ZEDRuntime\u001b[32m▸\u001b[0m⚐\n",
      "\n",
      "\n",
      "\n",
      "\n",
      "foo_bar\n",
      "\n",
      "\n",
      "\n",
      "\n",
      "           pod0@9640[I]:#sent: 0 #recv: 1 sent_size: 0 Bytes recv_size: 343 Bytes\n",
      "\u001b[36mdata\u001b[0m |\u001b[32m█\u001b[0m                   | 📃    100 ⏱️ 0.0s 🐎 3376.4/s      1   requestsdata takes 0 seconds (0.03s)\u001b[0m\n",
      "        gateway@9641[I]:#sent: 1 #recv: 1 sent_size: 412 Bytes recv_size: 428 Bytes\n",
      "\t\u001b[32m✅ done in ⏱ 0 seconds 🐎 3057.0/s\u001b[0m\n",
      "        gateway@8930[S]:\u001b[32mterminated\u001b[0m\n",
      "           pod0@9640[I]:recv ControlRequest  from ctl\u001b[32m▸\u001b[0mpod0/ZEDRuntime\u001b[32m▸\u001b[0m⚐\n",
      "           pod0@9640[I]:#sent: 2 #recv: 2 sent_size: 742 Bytes recv_size: 482 Bytes\n",
      "           pod0@8930[S]:\u001b[32mterminated\u001b[0m\n",
      "           Flow@8930[S]:\u001b[32mflow is closed and all resources are released, current build level is EMPTY\u001b[0m\n"
     ]
    }
   ],
   "source": [
    "with f:\n",
    "    # if incorrect 'on' is passed it defaults to the default\n",
    "    f.post(inputs=Document(), on='/bar') "
   ]
  },
  {
   "cell_type": "code",
   "execution_count": 62,
   "metadata": {},
   "outputs": [
    {
     "name": "stdout",
     "output_type": "stream",
     "text": [
      "           pod0@9648[I]:starting jina.peapods.runtimes.zmq.zed.ZEDRuntime...\n",
      "           pod0@9648[I]:input \u001b[33mtcp://0.0.0.0:65082\u001b[0m (PULL_BIND) output \u001b[33mtcp://0.0.0.0:65083\u001b[0m (PUSH_BIND) control over \u001b[33mtcp://0.0.0.0:65081\u001b[0m (PAIR_BIND)\n",
      "        gateway@9649[I]:starting jina.peapods.runtimes.asyncio.grpc.GRPCRuntime...\n",
      "        gateway@9649[I]:input \u001b[33mtcp://0.0.0.0:65083\u001b[0m (PULL_CONNECT) output \u001b[33mtcp://0.0.0.0:65082\u001b[0m (PUSH_CONNECT) control over \u001b[33mipc:///var/folders/lh/njnz5hj934d2js334v28z1x00000gn/T/tmpwq15eor7\u001b[0m (PAIR_BIND)\n",
      "           JINA@9648[S]:\u001b[32msuccessfully built MyExecutor from a yaml config\u001b[0m\n",
      "           pod0@8930[S]:\u001b[32mready and listening\u001b[0m\n",
      "        gateway@9649[S]:\u001b[32mGRPCRuntime is listening at: 0.0.0.0:49218\u001b[0m\n",
      "        gateway@8930[S]:\u001b[32mready and listening\u001b[0m\n",
      "           Flow@8930[I]:2 Pods (i.e. 2 Peas) are running in this Flow\n",
      "           Flow@8930[S]:\u001b[32m🎉 Flow is ready to use, accepting \u001b[1mgRPC request\u001b[0m\u001b[0m\n",
      "           Flow@8930[I]:\n",
      "\t🖥️ Local access:\t\u001b[4m\u001b[36mtcp://0.0.0.0:49218\u001b[0m\n",
      "\t🔒 Private network:\t\u001b[4m\u001b[36mtcp://192.168.1.138:49218\u001b[0m\n",
      "\t🌐 Public address:\t\u001b[4m\u001b[36mtcp://213.195.113.21:49218\u001b[0m\n",
      "         Client@8930[S]:\u001b[32mconnected to the gateway at 0.0.0.0:49218!\u001b[0m\n",
      "\u001b[36mdata\u001b[0m |\u001b[32m█\u001b[0m                   | 📃      0 ⏱️ 0.0s 🐎 0.0/s      0   requestsdata ...\t           JINA@8930[C]:\u001b[41m\u001b[37minputs is not valid! TypeError(\"['/foo', '/bar'] has type list, but expected one of: bytes, unicode\")\u001b[0m\n",
      "Traceback (most recent call last):\n",
      "  File \"/Users/davidbuchaca/Documents/git_stuff/jina/jina/clients/request/__init__.py\", line 52, in request_generator\n",
      "    yield _new_data_request_from_batch(\n",
      "  File \"/Users/davidbuchaca/Documents/git_stuff/jina/jina/clients/request/helper.py\", line 17, in _new_data_request_from_batch\n",
      "    req.header.exec_endpoint = endpoint\n",
      "TypeError: ['/foo', '/bar'] has type list, but expected one of: bytes, unicode\n",
      "        gateway@9649[I]:prefetching 50 requests...\n",
      "        gateway@9649[W]:\u001b[40m\u001b[33mif this takes too long, you may want to take smaller \"--prefetch\" or ask client to reduce \"--request-size\"\u001b[0m\n",
      "        gateway@9649[E]:\u001b[31mreceive an empty stream from the client! please check your client's inputs, you can use \"Client.check_input(inputs)\"\u001b[0m\n",
      "        gateway@9649[I]:prefetching 50 requests takes 0 seconds (0.01s)\n",
      "data takes 0 seconds (0.02s)\u001b[0m\n",
      "        gateway@9649[I]:#sent: 0 #recv: 0 sent_size: 0 Bytes recv_size: 0 Bytes\n",
      "\t\u001b[32m✅ done in ⏱ 0 seconds 🐎 0.0/s\u001b[0m\n",
      "        gateway@8930[S]:\u001b[32mterminated\u001b[0m\n",
      "           pod0@9648[I]:recv ControlRequest  from ctl\u001b[32m▸\u001b[0mpod0/ZEDRuntime\u001b[32m▸\u001b[0m⚐\n",
      "           pod0@9648[I]:#sent: 1 #recv: 1 sent_size: 245 Bytes recv_size: 139 Bytes\n",
      "           pod0@8930[S]:\u001b[32mterminated\u001b[0m\n",
      "           Flow@8930[S]:\u001b[32mflow is closed and all resources are released, current build level is EMPTY\u001b[0m\n"
     ]
    }
   ],
   "source": [
    "with f:\n",
    "    # if incorrect 'on' is passed it defaults to the default\n",
    "    f.post(inputs=Document(), on=['/foo', '/bar']) "
   ]
  },
  {
   "cell_type": "markdown",
   "metadata": {},
   "source": [
    "## Method returns"
   ]
  },
  {
   "cell_type": "markdown",
   "metadata": {},
   "source": [
    "Method decorated with `@request` can return `Optional[DocumentArray]`. If not `None`, then the current `Request.docs` will be overridden by the return value.\n",
    "\n",
    "If return is just a shallow copy of `Request.docs`, then nothing happens.\n",
    "\n"
   ]
  },
  {
   "cell_type": "code",
   "execution_count": 46,
   "metadata": {
    "ExecuteTime": {
     "end_time": "2021-05-12T10:43:14.041758Z",
     "start_time": "2021-05-12T10:43:14.010185Z"
    }
   },
   "outputs": [],
   "source": [
    "from jina import DocumentArray"
   ]
  },
  {
   "cell_type": "code",
   "execution_count": 47,
   "metadata": {
    "ExecuteTime": {
     "end_time": "2021-05-12T10:43:15.779280Z",
     "start_time": "2021-05-12T10:43:15.762922Z"
    }
   },
   "outputs": [],
   "source": [
    "x = jina.types.arrays.DocumentArray([Document(id='0'), Document(id='1')])"
   ]
  },
  {
   "cell_type": "code",
   "execution_count": 48,
   "metadata": {
    "ExecuteTime": {
     "end_time": "2021-05-12T10:43:46.134415Z",
     "start_time": "2021-05-12T10:43:46.117016Z"
    }
   },
   "outputs": [],
   "source": [
    "from jina import Executor, requests\n",
    "\n",
    "class MyExecutor(Executor):\n",
    "\n",
    "  @requests(on='/update_id')\n",
    "  def add_1_id(self, docs:DocumentArray, **kwargs):\n",
    "    for d in docs:\n",
    "        d.id = str(int(d.id) +1 )\n",
    "        print(f'\\n\\ndoc.id={d.id}\\n\\n')\n",
    "        \n",
    "    return docs\n",
    "\n",
    "  @requests(on=['/foo', '/bar'])\n",
    "  def foobar(self, **kwargs):\n",
    "    print(f'\\n\\n\\n\\nfoo_bar\\n\\n\\n\\n')\n"
   ]
  },
  {
   "cell_type": "code",
   "execution_count": 52,
   "metadata": {
    "ExecuteTime": {
     "end_time": "2021-05-12T10:47:19.031508Z",
     "start_time": "2021-05-12T10:47:18.224740Z"
    }
   },
   "outputs": [
    {
     "name": "stdout",
     "output_type": "stream",
     "text": [
      "           pod0@23447[I]:starting jina.peapods.runtimes.zmq.zed.ZEDRuntime...\n",
      "           pod0@23447[I]:input \u001b[33mtcp://0.0.0.0:52186\u001b[0m (PULL_BIND) output \u001b[33mtcp://0.0.0.0:52187\u001b[0m (PUSH_BIND) control over \u001b[33mtcp://0.0.0.0:52185\u001b[0m (PAIR_BIND)\n",
      "        gateway@23448[I]:starting jina.peapods.runtimes.asyncio.grpc.GRPCRuntime...\n",
      "        gateway@23448[I]:input \u001b[33mtcp://0.0.0.0:52187\u001b[0m (PULL_CONNECT) output \u001b[33mtcp://0.0.0.0:52186\u001b[0m (PUSH_CONNECT) control over \u001b[33mipc:///var/folders/05/h71x7gh54sx_5y43ppkq9_dw0000gq/T/tmpbqn52ih2\u001b[0m (PAIR_BIND)\n",
      "           JINA@23447[S]:\u001b[32msuccessfully built MyExecutor from a yaml config\u001b[0m\n",
      "           pod0@21999[S]:\u001b[32mready and listening\u001b[0m\n",
      "        gateway@23448[S]:\u001b[32mGRPCRuntime is listening at: 0.0.0.0:60116\u001b[0m\n",
      "        gateway@21999[S]:\u001b[32mready and listening\u001b[0m\n",
      "           Flow@21999[I]:2 Pods (i.e. 2 Peas) are running in this Flow\n",
      "           Flow@21999[S]:\u001b[32m🎉 Flow is ready to use, accepting \u001b[1mgRPC request\u001b[0m\u001b[0m\n",
      "           Flow@21999[I]:\n",
      "\t🖥️ Local access:\t\u001b[4m\u001b[36mtcp://0.0.0.0:60116\u001b[0m\n",
      "\t🔒 Private network:\t\u001b[4m\u001b[36mtcp://192.168.1.136:60116\u001b[0m\n",
      "\t🌐 Public address:\t\u001b[4m\u001b[36mtcp://213.195.113.21:60116\u001b[0m\n",
      "         Client@21999[S]:\u001b[32mconnected to the gateway at 0.0.0.0:60116!\u001b[0m\n",
      " \u001b[36m\u001b[0m |\u001b[32m█\u001b[0m                   | 📃      0 ⏱️ 0.0s 🐎 0.0/s      0   requests ...\t        gateway@23448[I]:prefetching 50 requests...\n",
      "        gateway@23448[W]:\u001b[40m\u001b[33mif this takes too long, you may want to take smaller \"--prefetch\" or ask client to reduce \"--request-size\"\u001b[0m\n",
      "        gateway@23448[I]:prefetching 50 requests takes 0 seconds (0.01s)\n",
      "           pod0@23447[I]:recv DataRequest  from gateway\u001b[32m▸\u001b[0mpod0/ZEDRuntime\u001b[32m▸\u001b[0m⚐\n",
      "\n",
      "\n",
      "doc.id=1\n",
      "\n",
      "\n",
      "\n",
      "\n",
      "doc.id=2\n",
      "\n",
      "\n",
      "           pod0@23447[I]:#sent: 0 #recv: 1 sent_size: 0 Bytes recv_size: 318 Bytes\n",
      " \u001b[36m\u001b[0m |\u001b[32m█\u001b[0m                   | 📃    100 ⏱️ 0.0s 🐎 4831.6/s      1   requests takes 0 seconds (0.02s)\u001b[0m\n",
      "        gateway@23448[I]:#sent: 1 #recv: 1 sent_size: 387 Bytes recv_size: 403 Bytes\n",
      "\t\u001b[32m✅ done in ⏱ 0 seconds 🐎 4425.1/s\u001b[0m\n",
      "        gateway@21999[S]:\u001b[32mterminated\u001b[0m\n",
      "           pod0@23447[I]:recv ControlRequest  from ctl\u001b[32m▸\u001b[0mpod0/ZEDRuntime\u001b[32m▸\u001b[0m⚐\n",
      "           pod0@23447[I]:#sent: 2 #recv: 2 sent_size: 714 Bytes recv_size: 455 Bytes\n",
      "           pod0@21999[S]:\u001b[32mterminated\u001b[0m\n",
      "           Flow@21999[S]:\u001b[32mflow is closed and all resources are released, current build level is 0\u001b[0m\n"
     ]
    }
   ],
   "source": [
    "def print_id(resp):\n",
    "    for d in resp.data.docs:\n",
    "        print(f'\\n\\ndoc.id={d.id}\\n\\n')\n",
    "\n",
    "with f:\n",
    "    resp_new = f.post(on='/update_id',inputs=x, return_results=True)\n",
    "    #print(x[0].id,x[1].id)"
   ]
  },
  {
   "cell_type": "code",
   "execution_count": 60,
   "metadata": {
    "ExecuteTime": {
     "end_time": "2021-05-12T10:47:50.775849Z",
     "start_time": "2021-05-12T10:47:50.760181Z"
    }
   },
   "outputs": [
    {
     "data": {
      "text/plain": [
       "[id: \"1\"\n",
       ", id: \"2\"\n",
       "]"
      ]
     },
     "execution_count": 60,
     "metadata": {},
     "output_type": "execute_result"
    }
   ],
   "source": [
    "resp_new[0].data.docs"
   ]
  },
  {
   "cell_type": "markdown",
   "metadata": {},
   "source": [
    "## Why is the documentarray not updated?"
   ]
  },
  {
   "cell_type": "code",
   "execution_count": 50,
   "metadata": {
    "ExecuteTime": {
     "end_time": "2021-05-12T10:44:05.308442Z",
     "start_time": "2021-05-12T10:44:05.287203Z"
    }
   },
   "outputs": [
    {
     "name": "stdout",
     "output_type": "stream",
     "text": [
      "0 1\n"
     ]
    }
   ],
   "source": [
    "print(x[0].id,x[1].id)"
   ]
  },
  {
   "cell_type": "markdown",
   "metadata": {},
   "source": [
    "\n",
    "# Load and save Executor YAML"
   ]
  },
  {
   "cell_type": "code",
   "execution_count": null,
   "metadata": {},
   "outputs": [],
   "source": [
    "%load_ext autoreload\n",
    "%autoreload 2"
   ]
  },
  {
   "cell_type": "code",
   "execution_count": 8,
   "metadata": {},
   "outputs": [
    {
     "name": "stdout",
     "output_type": "stream",
     "text": [
      "reg_cls_set={'jina.executors.BaseExecutor', '__main__.MyExecutor'}\n"
     ]
    }
   ],
   "source": [
    "from jina import Executor\n",
    "\n",
    "class MyExecutor(Executor):\n",
    "\n",
    "  def __init__(self, bar: int, weight, *args, **kwargs):\n",
    "    super().__init__( *args ,**kwargs)\n",
    "    self.bar = bar\n",
    "    self.weight = weight\n",
    "\n",
    "  def foo(self, **kwargs):\n",
    "    pass\n",
    "\n",
    "y_literal = \"\"\"\n",
    "jtype: MyExecutor\n",
    "with:\n",
    "  bar: 123\n",
    "  weight: 23\n",
    "metas:\n",
    "  name: awesomeness\n",
    "  description: my first awesome executor\n",
    "requests:\n",
    "  /random_work: foo\n",
    "\"\"\""
   ]
  },
  {
   "cell_type": "code",
   "execution_count": 9,
   "metadata": {},
   "outputs": [
    {
     "name": "stdout",
     "output_type": "stream",
     "text": [
      "tmp={}\n",
      "           JINA@1647[S]:\u001b[32msuccessfully built MyExecutor from a yaml config\u001b[0m\n"
     ]
    }
   ],
   "source": [
    "ex = Executor.load_config(y_literal)"
   ]
  },
  {
   "cell_type": "code",
   "execution_count": 78,
   "metadata": {},
   "outputs": [],
   "source": [
    "ex.save_config('y.yml')"
   ]
  },
  {
   "cell_type": "code",
   "execution_count": 79,
   "metadata": {},
   "outputs": [
    {
     "name": "stdout",
     "output_type": "stream",
     "text": [
      "Untitled.ipynb  intro.ipynb     my.yml          y.yml\r\n"
     ]
    }
   ],
   "source": [
    "ls"
   ]
  },
  {
   "cell_type": "code",
   "execution_count": 80,
   "metadata": {},
   "outputs": [
    {
     "data": {
      "text/plain": [
       "(123, 23)"
      ]
     },
     "execution_count": 80,
     "metadata": {},
     "output_type": "execute_result"
    }
   ],
   "source": [
    "ex.bar,ex.weight"
   ]
  },
  {
   "cell_type": "code",
   "execution_count": 81,
   "metadata": {},
   "outputs": [],
   "source": [
    "#import numpy as np\n",
    "#Executor"
   ]
  },
  {
   "cell_type": "code",
   "execution_count": 82,
   "metadata": {},
   "outputs": [
    {
     "data": {
      "text/plain": [
       "{'_init_kwargs_dict': {},\n",
       " 'metas': namespace(name='awesomeness',\n",
       "           description='my first awesome executor',\n",
       "           workspace=None,\n",
       "           py_modules=None),\n",
       " 'requests': {'/random_work': <function __main__.MyExecutor.foo(self, **kwargs)>},\n",
       " 'bar': 123,\n",
       " 'weight': 23,\n",
       " 'is_updated': False}"
      ]
     },
     "execution_count": 82,
     "metadata": {},
     "output_type": "execute_result"
    }
   ],
   "source": [
    "ex.__dict__"
   ]
  },
  {
   "cell_type": "code",
   "execution_count": 83,
   "metadata": {
    "scrolled": true
   },
   "outputs": [
    {
     "name": "stdout",
     "output_type": "stream",
     "text": [
      "!MyExecutor\r\n",
      "metas:\r\n",
      "  name: awesomeness\r\n",
      "  description: my first awesome executor\r\n",
      "requests:\r\n",
      "  /random_work: foo\r\n"
     ]
    }
   ],
   "source": [
    "# saved yml does not seem to store bar to disk\n",
    "!cat y.yml"
   ]
  },
  {
   "cell_type": "code",
   "execution_count": 84,
   "metadata": {},
   "outputs": [
    {
     "ename": "TypeError",
     "evalue": "__init__() missing 2 required positional arguments: 'bar' and 'weight'",
     "output_type": "error",
     "traceback": [
      "\u001b[0;31m---------------------------------------------------------------------------\u001b[0m",
      "\u001b[0;31mTypeError\u001b[0m                                 Traceback (most recent call last)",
      "\u001b[0;32m<ipython-input-84-867ad806b358>\u001b[0m in \u001b[0;36m<module>\u001b[0;34m\u001b[0m\n\u001b[0;32m----> 1\u001b[0;31m \u001b[0mExecutor\u001b[0m\u001b[0;34m.\u001b[0m\u001b[0mload_config\u001b[0m\u001b[0;34m(\u001b[0m\u001b[0;34m'y.yml'\u001b[0m\u001b[0;34m)\u001b[0m\u001b[0;34m\u001b[0m\u001b[0;34m\u001b[0m\u001b[0m\n\u001b[0m",
      "\u001b[0;32m~/Documents/git_stuff/jina/jina/jaml/__init__.py\u001b[0m in \u001b[0;36mload_config\u001b[0;34m(cls, source, allow_py_modules, substitute, context, **kwargs)\u001b[0m\n\u001b[1;32m    529\u001b[0m \u001b[0;34m\u001b[0m\u001b[0m\n\u001b[1;32m    530\u001b[0m             \u001b[0;31m# load into object, no more substitute\u001b[0m\u001b[0;34m\u001b[0m\u001b[0;34m\u001b[0m\u001b[0;34m\u001b[0m\u001b[0m\n\u001b[0;32m--> 531\u001b[0;31m             \u001b[0;32mreturn\u001b[0m \u001b[0mJAML\u001b[0m\u001b[0;34m.\u001b[0m\u001b[0mload\u001b[0m\u001b[0;34m(\u001b[0m\u001b[0mtag_yml\u001b[0m\u001b[0;34m,\u001b[0m \u001b[0msubstitute\u001b[0m\u001b[0;34m=\u001b[0m\u001b[0;32mFalse\u001b[0m\u001b[0;34m)\u001b[0m\u001b[0;34m\u001b[0m\u001b[0;34m\u001b[0m\u001b[0m\n\u001b[0m\u001b[1;32m    532\u001b[0m \u001b[0;34m\u001b[0m\u001b[0m\n\u001b[1;32m    533\u001b[0m     \u001b[0;34m@\u001b[0m\u001b[0mclassmethod\u001b[0m\u001b[0;34m\u001b[0m\u001b[0;34m\u001b[0m\u001b[0m\n",
      "\u001b[0;32m~/Documents/git_stuff/jina/jina/jaml/__init__.py\u001b[0m in \u001b[0;36mload\u001b[0;34m(stream, substitute, context)\u001b[0m\n\u001b[1;32m     87\u001b[0m \u001b[0;34m\u001b[0m\u001b[0m\n\u001b[1;32m     88\u001b[0m         \"\"\"\n\u001b[0;32m---> 89\u001b[0;31m         \u001b[0mr\u001b[0m \u001b[0;34m=\u001b[0m \u001b[0myaml\u001b[0m\u001b[0;34m.\u001b[0m\u001b[0mload\u001b[0m\u001b[0;34m(\u001b[0m\u001b[0mstream\u001b[0m\u001b[0;34m,\u001b[0m \u001b[0mLoader\u001b[0m\u001b[0;34m=\u001b[0m\u001b[0mJinaLoader\u001b[0m\u001b[0;34m)\u001b[0m\u001b[0;34m\u001b[0m\u001b[0;34m\u001b[0m\u001b[0m\n\u001b[0m\u001b[1;32m     90\u001b[0m         \u001b[0;32mif\u001b[0m \u001b[0msubstitute\u001b[0m\u001b[0;34m:\u001b[0m\u001b[0;34m\u001b[0m\u001b[0;34m\u001b[0m\u001b[0m\n\u001b[1;32m     91\u001b[0m             \u001b[0mr\u001b[0m \u001b[0;34m=\u001b[0m \u001b[0mJAML\u001b[0m\u001b[0;34m.\u001b[0m\u001b[0mexpand_dict\u001b[0m\u001b[0;34m(\u001b[0m\u001b[0mr\u001b[0m\u001b[0;34m,\u001b[0m \u001b[0mcontext\u001b[0m\u001b[0;34m)\u001b[0m\u001b[0;34m\u001b[0m\u001b[0;34m\u001b[0m\u001b[0m\n",
      "\u001b[0;32m/usr/local/lib/python3.9/site-packages/yaml/__init__.py\u001b[0m in \u001b[0;36mload\u001b[0;34m(stream, Loader)\u001b[0m\n\u001b[1;32m    112\u001b[0m     \u001b[0mloader\u001b[0m \u001b[0;34m=\u001b[0m \u001b[0mLoader\u001b[0m\u001b[0;34m(\u001b[0m\u001b[0mstream\u001b[0m\u001b[0;34m)\u001b[0m\u001b[0;34m\u001b[0m\u001b[0;34m\u001b[0m\u001b[0m\n\u001b[1;32m    113\u001b[0m     \u001b[0;32mtry\u001b[0m\u001b[0;34m:\u001b[0m\u001b[0;34m\u001b[0m\u001b[0;34m\u001b[0m\u001b[0m\n\u001b[0;32m--> 114\u001b[0;31m         \u001b[0;32mreturn\u001b[0m \u001b[0mloader\u001b[0m\u001b[0;34m.\u001b[0m\u001b[0mget_single_data\u001b[0m\u001b[0;34m(\u001b[0m\u001b[0;34m)\u001b[0m\u001b[0;34m\u001b[0m\u001b[0;34m\u001b[0m\u001b[0m\n\u001b[0m\u001b[1;32m    115\u001b[0m     \u001b[0;32mfinally\u001b[0m\u001b[0;34m:\u001b[0m\u001b[0;34m\u001b[0m\u001b[0;34m\u001b[0m\u001b[0m\n\u001b[1;32m    116\u001b[0m         \u001b[0mloader\u001b[0m\u001b[0;34m.\u001b[0m\u001b[0mdispose\u001b[0m\u001b[0;34m(\u001b[0m\u001b[0;34m)\u001b[0m\u001b[0;34m\u001b[0m\u001b[0;34m\u001b[0m\u001b[0m\n",
      "\u001b[0;32m/usr/local/lib/python3.9/site-packages/yaml/constructor.py\u001b[0m in \u001b[0;36mget_single_data\u001b[0;34m(self)\u001b[0m\n\u001b[1;32m     49\u001b[0m         \u001b[0mnode\u001b[0m \u001b[0;34m=\u001b[0m \u001b[0mself\u001b[0m\u001b[0;34m.\u001b[0m\u001b[0mget_single_node\u001b[0m\u001b[0;34m(\u001b[0m\u001b[0;34m)\u001b[0m\u001b[0;34m\u001b[0m\u001b[0;34m\u001b[0m\u001b[0m\n\u001b[1;32m     50\u001b[0m         \u001b[0;32mif\u001b[0m \u001b[0mnode\u001b[0m \u001b[0;32mis\u001b[0m \u001b[0;32mnot\u001b[0m \u001b[0;32mNone\u001b[0m\u001b[0;34m:\u001b[0m\u001b[0;34m\u001b[0m\u001b[0;34m\u001b[0m\u001b[0m\n\u001b[0;32m---> 51\u001b[0;31m             \u001b[0;32mreturn\u001b[0m \u001b[0mself\u001b[0m\u001b[0;34m.\u001b[0m\u001b[0mconstruct_document\u001b[0m\u001b[0;34m(\u001b[0m\u001b[0mnode\u001b[0m\u001b[0;34m)\u001b[0m\u001b[0;34m\u001b[0m\u001b[0;34m\u001b[0m\u001b[0m\n\u001b[0m\u001b[1;32m     52\u001b[0m         \u001b[0;32mreturn\u001b[0m \u001b[0;32mNone\u001b[0m\u001b[0;34m\u001b[0m\u001b[0;34m\u001b[0m\u001b[0m\n\u001b[1;32m     53\u001b[0m \u001b[0;34m\u001b[0m\u001b[0m\n",
      "\u001b[0;32m/usr/local/lib/python3.9/site-packages/yaml/constructor.py\u001b[0m in \u001b[0;36mconstruct_document\u001b[0;34m(self, node)\u001b[0m\n\u001b[1;32m     53\u001b[0m \u001b[0;34m\u001b[0m\u001b[0m\n\u001b[1;32m     54\u001b[0m     \u001b[0;32mdef\u001b[0m \u001b[0mconstruct_document\u001b[0m\u001b[0;34m(\u001b[0m\u001b[0mself\u001b[0m\u001b[0;34m,\u001b[0m \u001b[0mnode\u001b[0m\u001b[0;34m)\u001b[0m\u001b[0;34m:\u001b[0m\u001b[0;34m\u001b[0m\u001b[0;34m\u001b[0m\u001b[0m\n\u001b[0;32m---> 55\u001b[0;31m         \u001b[0mdata\u001b[0m \u001b[0;34m=\u001b[0m \u001b[0mself\u001b[0m\u001b[0;34m.\u001b[0m\u001b[0mconstruct_object\u001b[0m\u001b[0;34m(\u001b[0m\u001b[0mnode\u001b[0m\u001b[0;34m)\u001b[0m\u001b[0;34m\u001b[0m\u001b[0;34m\u001b[0m\u001b[0m\n\u001b[0m\u001b[1;32m     56\u001b[0m         \u001b[0;32mwhile\u001b[0m \u001b[0mself\u001b[0m\u001b[0;34m.\u001b[0m\u001b[0mstate_generators\u001b[0m\u001b[0;34m:\u001b[0m\u001b[0;34m\u001b[0m\u001b[0;34m\u001b[0m\u001b[0m\n\u001b[1;32m     57\u001b[0m             \u001b[0mstate_generators\u001b[0m \u001b[0;34m=\u001b[0m \u001b[0mself\u001b[0m\u001b[0;34m.\u001b[0m\u001b[0mstate_generators\u001b[0m\u001b[0;34m\u001b[0m\u001b[0;34m\u001b[0m\u001b[0m\n",
      "\u001b[0;32m/usr/local/lib/python3.9/site-packages/yaml/constructor.py\u001b[0m in \u001b[0;36mconstruct_object\u001b[0;34m(self, node, deep)\u001b[0m\n\u001b[1;32m     98\u001b[0m                     \u001b[0mconstructor\u001b[0m \u001b[0;34m=\u001b[0m \u001b[0mself\u001b[0m\u001b[0;34m.\u001b[0m\u001b[0m__class__\u001b[0m\u001b[0;34m.\u001b[0m\u001b[0mconstruct_mapping\u001b[0m\u001b[0;34m\u001b[0m\u001b[0;34m\u001b[0m\u001b[0m\n\u001b[1;32m     99\u001b[0m         \u001b[0;32mif\u001b[0m \u001b[0mtag_suffix\u001b[0m \u001b[0;32mis\u001b[0m \u001b[0;32mNone\u001b[0m\u001b[0;34m:\u001b[0m\u001b[0;34m\u001b[0m\u001b[0;34m\u001b[0m\u001b[0m\n\u001b[0;32m--> 100\u001b[0;31m             \u001b[0mdata\u001b[0m \u001b[0;34m=\u001b[0m \u001b[0mconstructor\u001b[0m\u001b[0;34m(\u001b[0m\u001b[0mself\u001b[0m\u001b[0;34m,\u001b[0m \u001b[0mnode\u001b[0m\u001b[0;34m)\u001b[0m\u001b[0;34m\u001b[0m\u001b[0;34m\u001b[0m\u001b[0m\n\u001b[0m\u001b[1;32m    101\u001b[0m         \u001b[0;32melse\u001b[0m\u001b[0;34m:\u001b[0m\u001b[0;34m\u001b[0m\u001b[0;34m\u001b[0m\u001b[0m\n\u001b[1;32m    102\u001b[0m             \u001b[0mdata\u001b[0m \u001b[0;34m=\u001b[0m \u001b[0mconstructor\u001b[0m\u001b[0;34m(\u001b[0m\u001b[0mself\u001b[0m\u001b[0;34m,\u001b[0m \u001b[0mtag_suffix\u001b[0m\u001b[0;34m,\u001b[0m \u001b[0mnode\u001b[0m\u001b[0;34m)\u001b[0m\u001b[0;34m\u001b[0m\u001b[0;34m\u001b[0m\u001b[0m\n",
      "\u001b[0;32m~/Documents/git_stuff/jina/jina/jaml/__init__.py\u001b[0m in \u001b[0;36m_from_yaml\u001b[0;34m(cls, constructor, node)\u001b[0m\n\u001b[1;32m    420\u001b[0m         \u001b[0;32mfrom\u001b[0m \u001b[0;34m.\u001b[0m\u001b[0mparsers\u001b[0m \u001b[0;32mimport\u001b[0m \u001b[0mget_parser\u001b[0m\u001b[0;34m\u001b[0m\u001b[0;34m\u001b[0m\u001b[0m\n\u001b[1;32m    421\u001b[0m \u001b[0;34m\u001b[0m\u001b[0m\n\u001b[0;32m--> 422\u001b[0;31m         \u001b[0;32mreturn\u001b[0m \u001b[0mget_parser\u001b[0m\u001b[0;34m(\u001b[0m\u001b[0mcls\u001b[0m\u001b[0;34m,\u001b[0m \u001b[0mversion\u001b[0m\u001b[0;34m=\u001b[0m\u001b[0mdata\u001b[0m\u001b[0;34m.\u001b[0m\u001b[0mget\u001b[0m\u001b[0;34m(\u001b[0m\u001b[0;34m'version'\u001b[0m\u001b[0;34m,\u001b[0m \u001b[0;32mNone\u001b[0m\u001b[0;34m)\u001b[0m\u001b[0;34m)\u001b[0m\u001b[0;34m.\u001b[0m\u001b[0mparse\u001b[0m\u001b[0;34m(\u001b[0m\u001b[0mcls\u001b[0m\u001b[0;34m,\u001b[0m \u001b[0mdata\u001b[0m\u001b[0;34m)\u001b[0m\u001b[0;34m\u001b[0m\u001b[0;34m\u001b[0m\u001b[0m\n\u001b[0m\u001b[1;32m    423\u001b[0m \u001b[0;34m\u001b[0m\u001b[0m\n\u001b[1;32m    424\u001b[0m     \u001b[0;32mdef\u001b[0m \u001b[0msave_config\u001b[0m\u001b[0;34m(\u001b[0m\u001b[0mself\u001b[0m\u001b[0;34m,\u001b[0m \u001b[0mfilename\u001b[0m\u001b[0;34m:\u001b[0m \u001b[0mOptional\u001b[0m\u001b[0;34m[\u001b[0m\u001b[0mstr\u001b[0m\u001b[0;34m]\u001b[0m \u001b[0;34m=\u001b[0m \u001b[0;32mNone\u001b[0m\u001b[0;34m)\u001b[0m\u001b[0;34m:\u001b[0m\u001b[0;34m\u001b[0m\u001b[0;34m\u001b[0m\u001b[0m\n",
      "\u001b[0;32m~/Documents/git_stuff/jina/jina/jaml/parsers/executor/legacy.py\u001b[0m in \u001b[0;36mparse\u001b[0;34m(self, cls, data)\u001b[0m\n\u001b[1;32m     66\u001b[0m         \u001b[0mcls\u001b[0m\u001b[0;34m.\u001b[0m\u001b[0m_init_from_yaml\u001b[0m \u001b[0;34m=\u001b[0m \u001b[0;32mTrue\u001b[0m\u001b[0;34m\u001b[0m\u001b[0;34m\u001b[0m\u001b[0m\n\u001b[1;32m     67\u001b[0m         \u001b[0;31m# tmp_p = {kk: expand_env_var(vv) for kk, vv in data.get('with', {}).items()}\u001b[0m\u001b[0;34m\u001b[0m\u001b[0;34m\u001b[0m\u001b[0;34m\u001b[0m\u001b[0m\n\u001b[0;32m---> 68\u001b[0;31m         obj = cls(\n\u001b[0m\u001b[1;32m     69\u001b[0m             \u001b[0;34m**\u001b[0m\u001b[0mdata\u001b[0m\u001b[0;34m.\u001b[0m\u001b[0mget\u001b[0m\u001b[0;34m(\u001b[0m\u001b[0;34m'with'\u001b[0m\u001b[0;34m,\u001b[0m \u001b[0;34m{\u001b[0m\u001b[0;34m}\u001b[0m\u001b[0;34m)\u001b[0m\u001b[0;34m,\u001b[0m\u001b[0;34m\u001b[0m\u001b[0;34m\u001b[0m\u001b[0m\n\u001b[1;32m     70\u001b[0m             \u001b[0mmetas\u001b[0m\u001b[0;34m=\u001b[0m\u001b[0mdata\u001b[0m\u001b[0;34m.\u001b[0m\u001b[0mget\u001b[0m\u001b[0;34m(\u001b[0m\u001b[0;34m'metas'\u001b[0m\u001b[0;34m,\u001b[0m \u001b[0;34m{\u001b[0m\u001b[0;34m}\u001b[0m\u001b[0;34m)\u001b[0m\u001b[0;34m,\u001b[0m\u001b[0;34m\u001b[0m\u001b[0;34m\u001b[0m\u001b[0m\n",
      "\u001b[0;31mTypeError\u001b[0m: __init__() missing 2 required positional arguments: 'bar' and 'weight'"
     ]
    }
   ],
   "source": [
    "Executor.load_config('y.yml')"
   ]
  },
  {
   "cell_type": "code",
   "execution_count": 40,
   "metadata": {
    "scrolled": false
   },
   "outputs": [
    {
     "data": {
      "text/plain": [
       "{'_init_kwargs_dict': {},\n",
       " 'metas': namespace(name='awesomeness',\n",
       "           description='my first awesome executor',\n",
       "           workspace=None,\n",
       "           py_modules=None),\n",
       " 'requests': {'/random_work': <function __main__.MyExecutor.foo(self, **kwargs)>},\n",
       " 'bar': 123,\n",
       " 'is_updated': False}"
      ]
     },
     "execution_count": 40,
     "metadata": {},
     "output_type": "execute_result"
    }
   ],
   "source": [
    "ex.__dict__"
   ]
  },
  {
   "cell_type": "code",
   "execution_count": null,
   "metadata": {},
   "outputs": [],
   "source": []
  },
  {
   "cell_type": "markdown",
   "metadata": {},
   "source": [
    "# Executor Built-in Features\n"
   ]
  },
  {
   "cell_type": "code",
   "execution_count": 124,
   "metadata": {},
   "outputs": [
    {
     "data": {
      "text/plain": [
       "{'pod0': '3e4855cf-8df1-4aa7-85cd-48272de19121'}"
      ]
     },
     "execution_count": 124,
     "metadata": {},
     "output_type": "execute_result"
    }
   ],
   "source": [
    "f.workspace_id"
   ]
  },
  {
   "cell_type": "code",
   "execution_count": 126,
   "metadata": {},
   "outputs": [],
   "source": [
    "#ex.workspace"
   ]
  },
  {
   "cell_type": "markdown",
   "metadata": {},
   "source": [
    "## Merging"
   ]
  },
  {
   "cell_type": "code",
   "execution_count": 128,
   "metadata": {},
   "outputs": [],
   "source": [
    "from jina import Executor, requests, Flow, Document\n",
    "\n",
    "\n",
    "class C(Executor):\n",
    "\n",
    "  @requests\n",
    "  def foo(self, docs, **kwargs):\n",
    "    # 6 docs\n",
    "    return docs\n",
    "\n",
    "\n",
    "class B(Executor):\n",
    "\n",
    "  @requests\n",
    "  def foo(self, docs, **kwargs):\n",
    "    # 3 docs\n",
    "    for idx, d in enumerate(docs):\n",
    "      d.text = f'hello {idx}'\n",
    "\n",
    "\n",
    "class A(Executor):\n",
    "\n",
    "  @requests\n",
    "  def A(self, docs, **kwargs):\n",
    "    # 3 docs\n",
    "    for idx, d in enumerate(docs):\n",
    "      d.text = f'world {idx}'\n",
    "\n",
    "\n",
    "f = Flow().add(uses=A).add(uses=B, needs='gateway').add(uses=C, needs=['pod0', 'pod1'])\n"
   ]
  },
  {
   "cell_type": "code",
   "execution_count": 129,
   "metadata": {
    "scrolled": true
   },
   "outputs": [
    {
     "name": "stdout",
     "output_type": "stream",
     "text": [
      "           pod0@10262[I]:starting jina.peapods.runtimes.zmq.zed.ZEDRuntime...\n",
      "           pod0@10262[I]:input \u001b[33mtcp://0.0.0.0:49979\u001b[0m (SUB_CONNECT) output \u001b[33mtcp://0.0.0.0:49974\u001b[0m (PUSH_CONNECT) control over \u001b[33mtcp://0.0.0.0:49965\u001b[0m (PAIR_BIND)\n",
      "           pod1@10263[I]:starting jina.peapods.runtimes.zmq.zed.ZEDRuntime...\n",
      "           pod1@10263[I]:input \u001b[33mtcp://0.0.0.0:49979\u001b[0m (SUB_CONNECT) output \u001b[33mtcp://0.0.0.0:49974\u001b[0m (PUSH_CONNECT) control over \u001b[33mtcp://0.0.0.0:49969\u001b[0m (PAIR_BIND)\n",
      "           JINA@10262[S]:\u001b[32msuccessfully built A from a yaml config\u001b[0m\n",
      "           pod2@10264[I]:starting jina.peapods.runtimes.zmq.zed.ZEDRuntime...\n",
      "           pod2@10264[I]:input \u001b[33mtcp://0.0.0.0:49974\u001b[0m (PULL_BIND) output \u001b[33mtcp://0.0.0.0:49975\u001b[0m (PUSH_BIND) control over \u001b[33mtcp://0.0.0.0:49973\u001b[0m (PAIR_BIND)\n",
      "           pod0@8930[S]:\u001b[32mready and listening\u001b[0m\n",
      "        gateway@10265[I]:starting jina.peapods.runtimes.asyncio.grpc.GRPCRuntime...\n",
      "           JINA@10263[S]:\u001b[32msuccessfully built B from a yaml config\u001b[0m\n",
      "           pod1@8930[S]:\u001b[32mready and listening\u001b[0m\n",
      "        gateway@10265[I]:input \u001b[33mtcp://0.0.0.0:49975\u001b[0m (PULL_CONNECT) output \u001b[33mtcp://0.0.0.0:49979\u001b[0m (PUB_BIND) control over \u001b[33mipc:///var/folders/lh/njnz5hj934d2js334v28z1x00000gn/T/tmp_zbwe8td\u001b[0m (PAIR_BIND)\n",
      "           JINA@10264[S]:\u001b[32msuccessfully built C from a yaml config\u001b[0m\n",
      "        gateway@10265[S]:\u001b[32mGRPCRuntime is listening at: 0.0.0.0:49980\u001b[0m\n",
      "           pod2@8930[S]:\u001b[32mready and listening\u001b[0m\n",
      "        gateway@8930[S]:\u001b[32mready and listening\u001b[0m\n",
      "           Flow@8930[I]:4 Pods (i.e. 4 Peas) are running in this Flow\n",
      "           Flow@8930[S]:\u001b[32m🎉 Flow is ready to use, accepting \u001b[1mgRPC request\u001b[0m\u001b[0m\n",
      "           Flow@8930[I]:\n",
      "\t🖥️ Local access:\t\u001b[4m\u001b[36mtcp://0.0.0.0:49980\u001b[0m\n",
      "\t🔒 Private network:\t\u001b[4m\u001b[36mtcp://192.168.1.138:49980\u001b[0m\n",
      "\t🌐 Public address:\t\u001b[4m\u001b[36mtcp://213.195.113.21:49980\u001b[0m\n",
      "         Client@8930[S]:\u001b[32mconnected to the gateway at 0.0.0.0:49980!\u001b[0m\n",
      "\u001b[36mdata\u001b[0m |\u001b[32m█\u001b[0m                   | 📃      0 ⏱️ 0.0s 🐎 0.0/s      0   requestsdata ...\t        gateway@10265[I]:prefetching 50 requests...\n",
      "        gateway@10265[W]:\u001b[40m\u001b[33mif this takes too long, you may want to take smaller \"--prefetch\" or ask client to reduce \"--request-size\"\u001b[0m\n",
      "        gateway@10265[I]:prefetching 50 requests takes 0 seconds (0.01s)\n",
      "           pod0@10262[I]:recv DataRequest  from gateway\u001b[32m▸\u001b[0mpod0/ZEDRuntime\u001b[32m▸\u001b[0m⚐\n",
      "           pod1@10263[I]:recv DataRequest  from gateway\u001b[32m▸\u001b[0mpod1/ZEDRuntime\u001b[32m▸\u001b[0m⚐\n",
      "           pod1@10263[I]:#sent: 0 #recv: 1 sent_size: 0 Bytes recv_size: 433 Bytes\n",
      "           pod0@10262[I]:#sent: 0 #recv: 1 sent_size: 0 Bytes recv_size: 433 Bytes\n",
      "           pod2@10264[I]:recv DataRequest (1/2 parts) from gateway\u001b[32m▸\u001b[0mpod1/ZEDRuntime\u001b[32m▸\u001b[0mpod2/ZEDRuntime\u001b[32m▸\u001b[0m⚐\n",
      "           pod2@10264[I]:recv DataRequest (2/2 parts) from gateway\u001b[32m▸\u001b[0mpod0/ZEDRuntime\u001b[32m▸\u001b[0mpod2/ZEDRuntime\u001b[32m▸\u001b[0m⚐\n",
      "           pod2@10264[I]:#sent: 0 #recv: 2 sent_size: 0 Bytes recv_size: 1.1 KB\n",
      "{'requestId': 'd83507fb-0e30-4140-8059-10a4c7c746a8', 'data': {'docs': [{'id': '481cc040-ae7c-11eb-bb5c-acde48001122', 'mimeType': 'text/plain', 'text': 'world 0'}, {'id': '481cc608-ae7c-11eb-bb5c-acde48001122', 'mimeType': 'text/plain', 'text': 'world 1'}, {'id': '481cc6da-ae7c-11eb-bb5c-acde48001122', 'mimeType': 'text/plain', 'text': 'world 2'}, {'id': '481cc040-ae7c-11eb-bb5c-acde48001122', 'mimeType': 'text/plain', 'text': 'hello 0'}, {'id': '481cc608-ae7c-11eb-bb5c-acde48001122', 'mimeType': 'text/plain', 'text': 'hello 1'}, {'id': '481cc6da-ae7c-11eb-bb5c-acde48001122', 'mimeType': 'text/plain', 'text': 'hello 2'}]}, 'header': {}, 'routes': [{'pod': 'gateway', 'podId': '6179d8c6-4061-4c0c-81f2-1f4cd54dc1fd', 'startTime': '2021-05-06T15:03:57.422684Z', 'endTime': '2021-05-06T15:03:57.445311Z'}, {'pod': 'pod1/ZEDRuntime', 'podId': 'aac9bd5e-5473-4c1e-af48-288f65b2a0c8', 'startTime': '2021-05-06T15:03:57.425731Z', 'endTime': '2021-05-06T15:03:57.432481Z'}, {'pod': 'pod0/ZEDRuntime', 'podId': '5a14e5be-7211-4ea7-aa9b-a7315a1d2d30', 'startTime': '2021-05-06T15:03:57.425745Z', 'endTime': '2021-05-06T15:03:57.432911Z'}, {'pod': 'pod2/ZEDRuntime', 'podId': 'e61a8b10-0a05-40f9-b5a4-5ea46af6b0b5', 'startTime': '2021-05-06T15:03:57.437860Z', 'endTime': '2021-05-06T15:03:57.443501Z'}, {'pod': 'gateway', 'podId': 'd9a9c44f-6532-4297-8eae-a036857665ef', 'startTime': '2021-05-06T15:03:57.445028Z'}], 'status': {}}\n",
      "\u001b[36mdata\u001b[0m |\u001b[32m█\u001b[0m                   | 📃    100 ⏱️ 0.0s 🐎 2543.1/s      1   requestsdata takes 0 seconds (0.04s)\u001b[0m\n",
      "        gateway@10265[I]:#sent: 1 #recv: 1 sent_size: 502 Bytes recv_size: 935 Bytes\n",
      "\t\u001b[32m✅ done in ⏱ 0 seconds 🐎 2397.4/s\u001b[0m\n",
      "        gateway@8930[S]:\u001b[32mterminated\u001b[0m\n",
      "           pod2@10264[I]:recv ControlRequest  from ctl\u001b[32m▸\u001b[0mpod2/ZEDRuntime\u001b[32m▸\u001b[0m⚐\n",
      "           pod2@10264[I]:#sent: 2 #recv: 3 sent_size: 1.2 KB recv_size: 1.3 KB\n",
      "           pod2@8930[S]:\u001b[32mterminated\u001b[0m\n",
      "           pod1@10263[I]:recv ControlRequest  from ctl\u001b[32m▸\u001b[0mpod1/ZEDRuntime\u001b[32m▸\u001b[0m⚐\n",
      "           pod1@10263[I]:#sent: 2 #recv: 2 sent_size: 896 Bytes recv_size: 572 Bytes\n",
      "           pod1@8930[S]:\u001b[32mterminated\u001b[0m\n",
      "           pod0@10262[I]:recv ControlRequest  from ctl\u001b[32m▸\u001b[0mpod0/ZEDRuntime\u001b[32m▸\u001b[0m⚐\n",
      "           pod0@10262[I]:#sent: 2 #recv: 2 sent_size: 896 Bytes recv_size: 572 Bytes\n",
      "           pod0@8930[S]:\u001b[32mterminated\u001b[0m\n",
      "           Flow@8930[S]:\u001b[32mflow is closed and all resources are released, current build level is EMPTY\u001b[0m\n"
     ]
    }
   ],
   "source": [
    "with f:\n",
    "  f.post(on='/some_endpoint',\n",
    "         inputs=[Document() for _ in range(3)],\n",
    "         on_done=print)\n"
   ]
  },
  {
   "cell_type": "code",
   "execution_count": 131,
   "metadata": {},
   "outputs": [],
   "source": [
    "class C(Executor):\n",
    "  @requests\n",
    "  def foo(self, docs, **kwargs):\n",
    "    for d in docs:\n",
    "      d.text += '!!!'\n",
    "    \n",
    "    return docs"
   ]
  },
  {
   "cell_type": "code",
   "execution_count": 143,
   "metadata": {
    "scrolled": false
   },
   "outputs": [
    {
     "name": "stdout",
     "output_type": "stream",
     "text": [
      "           pod0@10318[I]:starting jina.peapods.runtimes.zmq.zed.ZEDRuntime...\n",
      "           pod0@10318[I]:input \u001b[33mtcp://0.0.0.0:50172\u001b[0m (SUB_CONNECT) output \u001b[33mtcp://0.0.0.0:49974\u001b[0m (PUSH_CONNECT) control over \u001b[33mtcp://0.0.0.0:49965\u001b[0m (PAIR_BIND)\n",
      "           pod1@10319[I]:starting jina.peapods.runtimes.zmq.zed.ZEDRuntime...\n",
      "           pod1@10319[I]:input \u001b[33mtcp://0.0.0.0:50172\u001b[0m (SUB_CONNECT) output \u001b[33mtcp://0.0.0.0:49974\u001b[0m (PUSH_CONNECT) control over \u001b[33mtcp://0.0.0.0:49969\u001b[0m (PAIR_BIND)\n",
      "           JINA@10318[S]:\u001b[32msuccessfully built A from a yaml config\u001b[0m\n",
      "           pod2@10320[I]:starting jina.peapods.runtimes.zmq.zed.ZEDRuntime...\n",
      "           JINA@10319[S]:\u001b[32msuccessfully built B from a yaml config\u001b[0m\n",
      "           pod2@10320[I]:input \u001b[33mtcp://0.0.0.0:49974\u001b[0m (PULL_BIND) output \u001b[33mtcp://0.0.0.0:49975\u001b[0m (PUSH_BIND) control over \u001b[33mtcp://0.0.0.0:49973\u001b[0m (PAIR_BIND)\n",
      "           pod0@8930[S]:\u001b[32mready and listening\u001b[0m\n",
      "           pod1@8930[S]:\u001b[32mready and listening\u001b[0m\n",
      "        gateway@10321[I]:starting jina.peapods.runtimes.asyncio.grpc.GRPCRuntime...\n",
      "           JINA@10320[S]:\u001b[32msuccessfully built C from a yaml config\u001b[0m\n",
      "           pod2@8930[S]:\u001b[32mready and listening\u001b[0m\n",
      "        gateway@10321[I]:input \u001b[33mtcp://0.0.0.0:49975\u001b[0m (PULL_CONNECT) output \u001b[33mtcp://0.0.0.0:50172\u001b[0m (PUB_BIND) control over \u001b[33mipc:///var/folders/lh/njnz5hj934d2js334v28z1x00000gn/T/tmp93gzzs2s\u001b[0m (PAIR_BIND)\n",
      "        gateway@10321[S]:\u001b[32mGRPCRuntime is listening at: 0.0.0.0:50173\u001b[0m\n",
      "        gateway@8930[S]:\u001b[32mready and listening\u001b[0m\n",
      "           Flow@8930[I]:4 Pods (i.e. 4 Peas) are running in this Flow\n",
      "           Flow@8930[S]:\u001b[32m🎉 Flow is ready to use, accepting \u001b[1mgRPC request\u001b[0m\u001b[0m\n",
      "           Flow@8930[I]:\n",
      "\t🖥️ Local access:\t\u001b[4m\u001b[36mtcp://0.0.0.0:50173\u001b[0m\n",
      "\t🔒 Private network:\t\u001b[4m\u001b[36mtcp://192.168.1.138:50173\u001b[0m\n",
      "\t🌐 Public address:\t\u001b[4m\u001b[36mtcp://213.195.113.21:50173\u001b[0m\n",
      "         Client@8930[S]:\u001b[32mconnected to the gateway at 0.0.0.0:50173!\u001b[0m\n",
      "\u001b[36mdata\u001b[0m |\u001b[32m█\u001b[0m                   | 📃      0 ⏱️ 0.0s 🐎 0.0/s      0   requestsdata ...\t        gateway@10321[I]:prefetching 50 requests...\n",
      "        gateway@10321[W]:\u001b[40m\u001b[33mif this takes too long, you may want to take smaller \"--prefetch\" or ask client to reduce \"--request-size\"\u001b[0m\n",
      "        gateway@10321[I]:prefetching 50 requests takes 0 seconds (0.01s)\n",
      "           pod0@10318[I]:recv DataRequest  from gateway\u001b[32m▸\u001b[0mpod0/ZEDRuntime\u001b[32m▸\u001b[0m⚐\n",
      "           pod1@10319[I]:recv DataRequest  from gateway\u001b[32m▸\u001b[0mpod1/ZEDRuntime\u001b[32m▸\u001b[0m⚐\n",
      "           pod1@10319[I]:#sent: 0 #recv: 1 sent_size: 0 Bytes recv_size: 426 Bytes\n",
      "           pod0@10318[I]:#sent: 0 #recv: 1 sent_size: 0 Bytes recv_size: 426 Bytes\n",
      "           pod2@10320[I]:recv DataRequest (1/2 parts) from gateway\u001b[32m▸\u001b[0mpod1/ZEDRuntime\u001b[32m▸\u001b[0mpod2/ZEDRuntime\u001b[32m▸\u001b[0m⚐\n",
      "           pod2@10320[I]:recv DataRequest (2/2 parts) from gateway\u001b[32m▸\u001b[0mpod0/ZEDRuntime\u001b[32m▸\u001b[0mpod2/ZEDRuntime\u001b[32m▸\u001b[0m⚐\n",
      "           pod2@10320[I]:#sent: 0 #recv: 2 sent_size: 0 Bytes recv_size: 1.0 KB\n",
      "{'requestId': 'ff0d714f-3115-40ac-9ecb-f9e9c672ad86', 'data': {'docs': [{'id': 'a94a9d2e-ae7c-11eb-bb5c-acde48001122', 'mimeType': 'text/plain', 'text': 'world 0!!!'}, {'id': 'a94a9fb8-ae7c-11eb-bb5c-acde48001122', 'mimeType': 'text/plain', 'text': 'world 1!!!'}, {'id': 'a94a9d2e-ae7c-11eb-bb5c-acde48001122', 'mimeType': 'text/plain', 'text': 'hello 0!!!'}, {'id': 'a94a9fb8-ae7c-11eb-bb5c-acde48001122', 'mimeType': 'text/plain', 'text': 'hello 1!!!'}]}, 'header': {}, 'routes': [{'pod': 'gateway', 'podId': '6179d8c6-4061-4c0c-81f2-1f4cd54dc1fd', 'startTime': '2021-05-06T15:06:41.133722Z', 'endTime': '2021-05-06T15:06:41.155716Z'}, {'pod': 'pod0/ZEDRuntime', 'podId': '022ff491-3081-4feb-92fa-bdf8567f4e4c', 'startTime': '2021-05-06T15:06:41.135758Z', 'endTime': '2021-05-06T15:06:41.143099Z'}, {'pod': 'pod1/ZEDRuntime', 'podId': 'c391f698-5003-4af5-b03b-3319a1b93ec5', 'startTime': '2021-05-06T15:06:41.135810Z', 'endTime': '2021-05-06T15:06:41.142546Z'}, {'pod': 'pod2/ZEDRuntime', 'podId': '24774094-6a25-4040-9b4a-d680613ee858', 'startTime': '2021-05-06T15:06:41.148956Z', 'endTime': '2021-05-06T15:06:41.154417Z'}, {'pod': 'gateway', 'podId': '058694d4-5503-43c7-b5c6-18c9c8f05fc4', 'startTime': '2021-05-06T15:06:41.155674Z'}], 'status': {}}\n",
      "\u001b[36mdata\u001b[0m |\u001b[32m█\u001b[0m                   | 📃    100 ⏱️ 0.0s 🐎 3100.0/s      1   requestsdata takes 0 seconds (0.03s)\u001b[0m\n",
      "        gateway@10321[I]:#sent: 1 #recv: 1 sent_size: 495 Bytes recv_size: 818 Bytes\n",
      "\t\u001b[32m✅ done in ⏱ 0 seconds 🐎 2943.3/s\u001b[0m\n",
      "        gateway@8930[S]:\u001b[32mterminated\u001b[0m\n",
      "           pod2@10320[I]:recv ControlRequest  from ctl\u001b[32m▸\u001b[0mpod2/ZEDRuntime\u001b[32m▸\u001b[0m⚐\n",
      "           pod2@10320[I]:#sent: 2 #recv: 3 sent_size: 1.1 KB recv_size: 1.1 KB\n",
      "           pod2@8930[S]:\u001b[32mterminated\u001b[0m\n",
      "           pod1@10319[I]:recv ControlRequest  from ctl\u001b[32m▸\u001b[0mpod1/ZEDRuntime\u001b[32m▸\u001b[0m⚐\n",
      "           pod1@10319[I]:#sent: 2 #recv: 2 sent_size: 831 Bytes recv_size: 565 Bytes\n",
      "           pod1@8930[S]:\u001b[32mterminated\u001b[0m\n",
      "           pod0@10318[I]:recv ControlRequest  from ctl\u001b[32m▸\u001b[0mpod0/ZEDRuntime\u001b[32m▸\u001b[0m⚐\n",
      "           pod0@10318[I]:#sent: 2 #recv: 2 sent_size: 831 Bytes recv_size: 565 Bytes\n",
      "           pod0@8930[S]:\u001b[32mterminated\u001b[0m\n",
      "           Flow@8930[S]:\u001b[32mflow is closed and all resources are released, current build level is EMPTY\u001b[0m\n"
     ]
    }
   ],
   "source": [
    "x = DocumentArray([Document(text='hi'),Document(text='Chen')])\n",
    "\n",
    "with f:\n",
    "  f.post(on='/some_endpoint',\n",
    "         inputs=x,\n",
    "         on_done=print)"
   ]
  },
  {
   "cell_type": "code",
   "execution_count": 145,
   "metadata": {},
   "outputs": [
    {
     "data": {
      "text/plain": [
       "('hi', 'Chen')"
      ]
     },
     "execution_count": 145,
     "metadata": {},
     "output_type": "execute_result"
    }
   ],
   "source": [
    "# HOw can we get the updated documents?\n",
    "x[0].text,x[1].text"
   ]
  },
  {
   "cell_type": "code",
   "execution_count": null,
   "metadata": {},
   "outputs": [],
   "source": []
  }
 ],
 "metadata": {
  "kernelspec": {
   "display_name": "Python 3",
   "language": "python",
   "name": "python3"
  },
  "language_info": {
   "codemirror_mode": {
    "name": "ipython",
    "version": 3
   },
   "file_extension": ".py",
   "mimetype": "text/x-python",
   "name": "python",
   "nbconvert_exporter": "python",
   "pygments_lexer": "ipython3",
   "version": "3.8.5"
  },
  "toc": {
   "base_numbering": 1,
   "nav_menu": {},
   "number_sections": true,
   "sideBar": true,
   "skip_h1_title": false,
   "title_cell": "Table of Contents",
   "title_sidebar": "Contents",
   "toc_cell": true,
   "toc_position": {},
   "toc_section_display": true,
   "toc_window_display": true
  },
  "varInspector": {
   "cols": {
    "lenName": 16,
    "lenType": 16,
    "lenVar": 40
   },
   "kernels_config": {
    "python": {
     "delete_cmd_postfix": "",
     "delete_cmd_prefix": "del ",
     "library": "var_list.py",
     "varRefreshCmd": "print(var_dic_list())"
    },
    "r": {
     "delete_cmd_postfix": ") ",
     "delete_cmd_prefix": "rm(",
     "library": "var_list.r",
     "varRefreshCmd": "cat(var_dic_list()) "
    }
   },
   "types_to_exclude": [
    "module",
    "function",
    "builtin_function_or_method",
    "instance",
    "_Feature"
   ],
   "window_display": false
  }
 },
 "nbformat": 4,
 "nbformat_minor": 5
}
