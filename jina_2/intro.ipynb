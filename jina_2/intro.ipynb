{
 "cells": [
  {
   "cell_type": "code",
   "execution_count": 10,
   "id": "placed-corner",
   "metadata": {},
   "outputs": [],
   "source": [
    "%load_ext autoreload\n",
    "%autoreload 2\n",
    "    \n",
    "import jina"
   ]
  },
  {
   "cell_type": "code",
   "execution_count": 2,
   "id": "threaded-strain",
   "metadata": {},
   "outputs": [
    {
     "data": {
      "text/plain": [
       "'1.1.11'"
      ]
     },
     "execution_count": 2,
     "metadata": {},
     "output_type": "execute_result"
    }
   ],
   "source": [
    "jina.__version__"
   ]
  },
  {
   "cell_type": "markdown",
   "id": "solid-canal",
   "metadata": {},
   "source": [
    "Minimal working example"
   ]
  },
  {
   "cell_type": "code",
   "execution_count": 11,
   "id": "patent-father",
   "metadata": {},
   "outputs": [
    {
     "name": "stdout",
     "output_type": "stream",
     "text": [
      "           pod0@9198[I]:starting jina.peapods.runtimes.zmq.zed.ZEDRuntime...\n",
      "           pod0@9198[I]:input \u001b[33mtcp://0.0.0.0:64784\u001b[0m (PULL_BIND) output \u001b[33mtcp://0.0.0.0:64785\u001b[0m (PUSH_BIND) control over \u001b[33mtcp://0.0.0.0:64783\u001b[0m (PAIR_BIND)\n",
      "        gateway@9199[I]:starting jina.peapods.runtimes.asyncio.grpc.GRPCRuntime...\n",
      "        gateway@9199[I]:input \u001b[33mtcp://0.0.0.0:64785\u001b[0m (PULL_CONNECT) output \u001b[33mtcp://0.0.0.0:64784\u001b[0m (PUSH_CONNECT) control over \u001b[33mipc:///var/folders/lh/njnz5hj934d2js334v28z1x00000gn/T/tmpdc7zm2z5\u001b[0m (PAIR_BIND)\n",
      "        gateway@9199[S]:\u001b[32mGRPCRuntime is listening at: 0.0.0.0:64790\u001b[0m\n",
      "           JINA@9198[S]:\u001b[32msuccessfully built MyExecutor from a yaml config\u001b[0m\n",
      "           pod0@8930[S]:\u001b[32mready and listening\u001b[0m\n",
      "        gateway@8930[S]:\u001b[32mready and listening\u001b[0m\n",
      "           Flow@8930[I]:2 Pods (i.e. 2 Peas) are running in this Flow\n",
      "           Flow@8930[S]:\u001b[32m🎉 Flow is ready to use, accepting \u001b[1mgRPC request\u001b[0m\u001b[0m\n",
      "           Flow@8930[I]:\n",
      "\t🖥️ Local access:\t\u001b[4m\u001b[36mtcp://0.0.0.0:64790\u001b[0m\n",
      "\t🔒 Private network:\t\u001b[4m\u001b[36mtcp://192.168.1.138:64790\u001b[0m\n",
      "\t🌐 Public address:\t\u001b[4m\u001b[36mtcp://213.195.113.21:64790\u001b[0m\n",
      "         Client@8930[S]:\u001b[32mconnected to the gateway at 0.0.0.0:64790!\u001b[0m\n",
      "\u001b[36mdata\u001b[0m |\u001b[32m█\u001b[0m                   | 📃      0 ⏱️ 0.0s 🐎 0.0/s      0   requestsdata ...\t        gateway@9199[I]:prefetching 50 requests...\n",
      "        gateway@9199[W]:\u001b[40m\u001b[33mif this takes too long, you may want to take smaller \"--prefetch\" or ask client to reduce \"--request-size\"\u001b[0m\n",
      "        gateway@9199[I]:prefetching 50 requests takes 0 seconds (0.01s)\n",
      "           pod0@9198[I]:recv DataRequest  from gateway\u001b[32m▸\u001b[0mpod0/ZEDRuntime\u001b[32m▸\u001b[0m⚐\n",
      "\n",
      "\n",
      "\n",
      "\n",
      "\n",
      "Function foo called: {'docs': <jina.types.arrays.document.DocumentArray length=1 at 5215626960>, 'parameters': {}, 'docs_matrix': [<jina.types.arrays.document.DocumentArray length=1 at 5215626000>], 'groundtruths': None, 'groundtruths_matrix': None}\n",
      "\n",
      "\n",
      "\n",
      "\n",
      "\n",
      "           pod0@9198[I]:#sent: 0 #recv: 1 sent_size: 0 Bytes recv_size: 344 Bytes\n",
      "{'requestId': 'a25f4275-27f1-4eaa-aa77-4f9a34fc7aea', 'data': {'docs': [{'id': '3831adac-ae73-11eb-bb5c-acde48001122'}]}, 'header': {}, 'routes': [{'pod': 'gateway', 'podId': '4c7bcdcd-a72e-4926-9646-6be66fac9be9', 'startTime': '2021-05-06T13:59:05.260365Z', 'endTime': '2021-05-06T13:59:05.283953Z'}, {'pod': 'pod0/ZEDRuntime', 'podId': '3486184e-272d-4e23-82cb-f9eb77780bff', 'startTime': '2021-05-06T13:59:05.262562Z', 'endTime': '2021-05-06T13:59:05.281404Z'}, {'pod': 'gateway', 'podId': 'a08f7f86-d6c6-459c-b5e4-48d786633937', 'startTime': '2021-05-06T13:59:05.283912Z'}], 'status': {}}\n",
      "\u001b[36mdata\u001b[0m |\u001b[32m█\u001b[0m                   | 📃    100 ⏱️ 0.1s 🐎 1954.0/s      1   requestsdata takes 0 seconds (0.05s)\u001b[0m\n",
      "        gateway@9199[I]:#sent: 1 #recv: 1 sent_size: 413 Bytes recv_size: 428 Bytes\n",
      "\t\u001b[32m✅ done in ⏱ 0 seconds 🐎 1870.1/s\u001b[0m\n",
      "        gateway@8930[S]:\u001b[32mterminated\u001b[0m\n",
      "           pod0@9198[I]:recv ControlRequest  from ctl\u001b[32m▸\u001b[0mpod0/ZEDRuntime\u001b[32m▸\u001b[0m⚐\n",
      "           pod0@9198[I]:#sent: 2 #recv: 2 sent_size: 742 Bytes recv_size: 483 Bytes\n",
      "           pod0@8930[S]:\u001b[32mterminated\u001b[0m\n",
      "           Flow@8930[S]:\u001b[32mflow is closed and all resources are released, current build level is EMPTY\u001b[0m\n"
     ]
    }
   ],
   "source": [
    "from jina import Executor, Flow, Document, requests\n",
    "\n",
    "\n",
    "class MyExecutor(Executor):\n",
    "\n",
    "    @requests(on='/index')\n",
    "    def foo(self, **kwargs):\n",
    "        print(f'\\n\\n\\n\\n\\nFunction foo called: {kwargs}\\n\\n\\n\\n\\n')\n",
    "    \n",
    "    @requests(on='/search')\n",
    "    def foo2(self, **kwargs):\n",
    "        print(f'\\n\\n\\n\\n\\nFunction foo2 called: {kwargs}\\n\\n\\n\\n\\n')\n",
    "\n",
    "\n",
    "f = Flow().add(uses=MyExecutor)\n",
    "\n",
    "with f:\n",
    "    f.post(on='/index', inputs=Document(), on_done=print)"
   ]
  },
  {
   "cell_type": "code",
   "execution_count": 18,
   "id": "romantic-flood",
   "metadata": {},
   "outputs": [
    {
     "name": "stdout",
     "output_type": "stream",
     "text": [
      "           pod0@9244[I]:starting jina.peapods.runtimes.zmq.zed.ZEDRuntime...\n",
      "           pod0@9244[I]:input \u001b[33mtcp://0.0.0.0:65037\u001b[0m (PULL_BIND) output \u001b[33mtcp://0.0.0.0:65038\u001b[0m (PUSH_BIND) control over \u001b[33mtcp://0.0.0.0:65036\u001b[0m (PAIR_BIND)\n",
      "        gateway@9245[I]:starting jina.peapods.runtimes.asyncio.grpc.GRPCRuntime...\n",
      "        gateway@9245[I]:input \u001b[33mtcp://0.0.0.0:65038\u001b[0m (PULL_CONNECT) output \u001b[33mtcp://0.0.0.0:65037\u001b[0m (PUSH_CONNECT) control over \u001b[33mipc:///var/folders/lh/njnz5hj934d2js334v28z1x00000gn/T/tmpva01es82\u001b[0m (PAIR_BIND)\n",
      "           JINA@9244[S]:\u001b[32msuccessfully built MyExecutor from a yaml config\u001b[0m\n",
      "           pod0@8930[S]:\u001b[32mready and listening\u001b[0m\n",
      "        gateway@9245[S]:\u001b[32mGRPCRuntime is listening at: 0.0.0.0:65043\u001b[0m\n",
      "        gateway@8930[S]:\u001b[32mready and listening\u001b[0m\n",
      "           Flow@8930[I]:2 Pods (i.e. 2 Peas) are running in this Flow\n",
      "           Flow@8930[S]:\u001b[32m🎉 Flow is ready to use, accepting \u001b[1mgRPC request\u001b[0m\u001b[0m\n",
      "           Flow@8930[I]:\n",
      "\t🖥️ Local access:\t\u001b[4m\u001b[36mtcp://0.0.0.0:65043\u001b[0m\n",
      "\t🔒 Private network:\t\u001b[4m\u001b[36mtcp://192.168.1.138:65043\u001b[0m\n",
      "\t🌐 Public address:\t\u001b[4m\u001b[36mtcp://213.195.113.21:65043\u001b[0m\n",
      "         Client@8930[S]:\u001b[32mconnected to the gateway at 0.0.0.0:65043!\u001b[0m\n",
      "\u001b[36mdata\u001b[0m |\u001b[32m█\u001b[0m                   | 📃      0 ⏱️ 0.0s 🐎 0.0/s      0   requestsdata ...\t        gateway@9245[I]:prefetching 50 requests...\n",
      "        gateway@9245[W]:\u001b[40m\u001b[33mif this takes too long, you may want to take smaller \"--prefetch\" or ask client to reduce \"--request-size\"\u001b[0m\n",
      "        gateway@9245[I]:prefetching 50 requests takes 0 seconds (0.01s)\n",
      "           pod0@9244[I]:recv DataRequest  from gateway\u001b[32m▸\u001b[0mpod0/ZEDRuntime\u001b[32m▸\u001b[0m⚐\n",
      "\n",
      "\n",
      "\n",
      "\n",
      "\n",
      "Function foo2 called: {'docs': <jina.types.arrays.document.DocumentArray length=1 at 5235171280>, 'parameters': {}, 'docs_matrix': [<jina.types.arrays.document.DocumentArray length=1 at 5235168736>], 'groundtruths': None, 'groundtruths_matrix': None}\n",
      "\n",
      "\n",
      "\n",
      "\n",
      "\n",
      "           pod0@9244[I]:#sent: 0 #recv: 1 sent_size: 0 Bytes recv_size: 346 Bytes\n",
      "{'requestId': '52c6898c-2eac-40a8-b874-2063ef0f6ec1', 'data': {'docs': [{'id': '95e0c474-ae73-11eb-bb5c-acde48001122'}]}, 'header': {}, 'routes': [{'pod': 'gateway', 'podId': '2b007c69-3b02-4f4d-81d1-e5a3e7a4db71', 'startTime': '2021-05-06T14:01:42.423530Z', 'endTime': '2021-05-06T14:01:42.439767Z'}, {'pod': 'pod0/ZEDRuntime', 'podId': '8afc8080-11e8-4a57-b4f1-653753c1bab6', 'startTime': '2021-05-06T14:01:42.425208Z', 'endTime': '2021-05-06T14:01:42.438097Z'}, {'pod': 'gateway', 'podId': 'c1df5c88-eda6-4b86-9c42-0420e9fab36e', 'startTime': '2021-05-06T14:01:42.439694Z'}], 'status': {}}\n",
      "\u001b[36mdata\u001b[0m |\u001b[32m█\u001b[0m                   | 📃    100 ⏱️ 0.0s 🐎 2960.4/s      1   requestsdata takes 0 seconds (0.03s)\u001b[0m\n",
      "        gateway@9245[I]:#sent: 1 #recv: 1 sent_size: 415 Bytes recv_size: 431 Bytes\n",
      "\t\u001b[32m✅ done in ⏱ 0 seconds 🐎 2681.2/s\u001b[0m\n",
      "        gateway@8930[S]:\u001b[32mterminated\u001b[0m\n",
      "           pod0@9244[I]:recv ControlRequest  from ctl\u001b[32m▸\u001b[0mpod0/ZEDRuntime\u001b[32m▸\u001b[0m⚐\n",
      "           pod0@9244[I]:#sent: 2 #recv: 2 sent_size: 745 Bytes recv_size: 485 Bytes\n",
      "           pod0@8930[S]:\u001b[32mterminated\u001b[0m\n",
      "           Flow@8930[S]:\u001b[32mflow is closed and all resources are released, current build level is EMPTY\u001b[0m\n"
     ]
    }
   ],
   "source": [
    "f = Flow().add(uses=MyExecutor)\n",
    "\n",
    "with f:\n",
    "    f.post(on='/search', inputs=Document(), on_done=print)"
   ]
  },
  {
   "cell_type": "code",
   "execution_count": 29,
   "id": "running-guide",
   "metadata": {},
   "outputs": [],
   "source": [
    "x = jina.types.arrays.DocumentArray([Document(id='doc1'), Document(id='doc2')])"
   ]
  },
  {
   "cell_type": "code",
   "execution_count": 30,
   "id": "bridal-indication",
   "metadata": {},
   "outputs": [
    {
     "data": {
      "text/plain": [
       "('doc1', 'doc2')"
      ]
     },
     "execution_count": 30,
     "metadata": {},
     "output_type": "execute_result"
    }
   ],
   "source": [
    "x[0].id,x[1].id,"
   ]
  },
  {
   "cell_type": "code",
   "execution_count": 31,
   "id": "labeled-hurricane",
   "metadata": {},
   "outputs": [
    {
     "name": "stdout",
     "output_type": "stream",
     "text": [
      "           pod0@9261[I]:starting jina.peapods.runtimes.zmq.zed.ZEDRuntime...\n",
      "           pod0@9261[I]:input \u001b[33mtcp://0.0.0.0:65082\u001b[0m (PULL_BIND) output \u001b[33mtcp://0.0.0.0:65083\u001b[0m (PUSH_BIND) control over \u001b[33mtcp://0.0.0.0:65081\u001b[0m (PAIR_BIND)\n",
      "        gateway@9262[I]:starting jina.peapods.runtimes.asyncio.grpc.GRPCRuntime...\n",
      "        gateway@9262[I]:input \u001b[33mtcp://0.0.0.0:65083\u001b[0m (PULL_CONNECT) output \u001b[33mtcp://0.0.0.0:65082\u001b[0m (PUSH_CONNECT) control over \u001b[33mipc:///var/folders/lh/njnz5hj934d2js334v28z1x00000gn/T/tmpny1nynea\u001b[0m (PAIR_BIND)\n",
      "           JINA@9261[S]:\u001b[32msuccessfully built MyExecutor from a yaml config\u001b[0m\n",
      "           pod0@8930[S]:\u001b[32mready and listening\u001b[0m\n",
      "        gateway@9262[S]:\u001b[32mGRPCRuntime is listening at: 0.0.0.0:65088\u001b[0m\n",
      "        gateway@8930[S]:\u001b[32mready and listening\u001b[0m\n",
      "           Flow@8930[I]:2 Pods (i.e. 2 Peas) are running in this Flow\n",
      "           Flow@8930[S]:\u001b[32m🎉 Flow is ready to use, accepting \u001b[1mgRPC request\u001b[0m\u001b[0m\n",
      "           Flow@8930[I]:\n",
      "\t🖥️ Local access:\t\u001b[4m\u001b[36mtcp://0.0.0.0:65088\u001b[0m\n",
      "\t🔒 Private network:\t\u001b[4m\u001b[36mtcp://192.168.1.138:65088\u001b[0m\n",
      "\t🌐 Public address:\t\u001b[4m\u001b[36mtcp://213.195.113.21:65088\u001b[0m\n",
      "         Client@8930[S]:\u001b[32mconnected to the gateway at 0.0.0.0:65088!\u001b[0m\n",
      "\u001b[36mdata\u001b[0m |\u001b[32m█\u001b[0m                   | 📃      0 ⏱️ 0.0s 🐎 0.0/s      0   requestsdata ...\t        gateway@9262[I]:prefetching 50 requests...\n",
      "        gateway@9262[W]:\u001b[40m\u001b[33mif this takes too long, you may want to take smaller \"--prefetch\" or ask client to reduce \"--request-size\"\u001b[0m\n",
      "        gateway@9262[I]:prefetching 50 requests takes 0 seconds (0.01s)\n",
      "           pod0@9261[I]:recv DataRequest  from gateway\u001b[32m▸\u001b[0mpod0/ZEDRuntime\u001b[32m▸\u001b[0m⚐\n",
      "\n",
      "\n",
      "\n",
      "\n",
      "\n",
      "Function foo2 called: {'docs': <jina.types.arrays.document.DocumentArray length=2 at 5235182848>, 'parameters': {}, 'docs_matrix': [<jina.types.arrays.document.DocumentArray length=2 at 5235180784>], 'groundtruths': None, 'groundtruths_matrix': None}\n",
      "\n",
      "\n",
      "\n",
      "\n",
      "\n",
      "           pod0@9261[I]:#sent: 0 #recv: 1 sent_size: 0 Bytes recv_size: 321 Bytes\n",
      "{'requestId': 'db79db94-5f5b-4b68-be82-05dc8dd336c2', 'data': {'docs': [{'id': 'doc1'}, {'id': 'doc2'}]}, 'header': {}, 'routes': [{'pod': 'gateway', 'podId': 'cebb3900-ea00-452d-815b-b32c444661e5', 'startTime': '2021-05-06T14:02:58.083075Z', 'endTime': '2021-05-06T14:02:58.104710Z'}, {'pod': 'pod0/ZEDRuntime', 'podId': 'db280c83-6d43-402b-9cd4-06d53c637223', 'startTime': '2021-05-06T14:02:58.085844Z', 'endTime': '2021-05-06T14:02:58.102986Z'}, {'pod': 'gateway', 'podId': 'f70252de-3de5-45be-922d-347baa75da13', 'startTime': '2021-05-06T14:02:58.104656Z'}], 'status': {}}\n",
      "\u001b[36mdata\u001b[0m |\u001b[32m█\u001b[0m                   | 📃    100 ⏱️ 0.0s 🐎 2804.1/s      1   requestsdata takes 0 seconds (0.04s)\u001b[0m\n",
      "        gateway@9262[I]:#sent: 1 #recv: 1 sent_size: 390 Bytes recv_size: 404 Bytes\n",
      "\t\u001b[32m✅ done in ⏱ 0 seconds 🐎 2688.8/s\u001b[0m\n",
      "        gateway@8930[S]:\u001b[32mterminated\u001b[0m\n",
      "           pod0@9261[I]:recv ControlRequest  from ctl\u001b[32m▸\u001b[0mpod0/ZEDRuntime\u001b[32m▸\u001b[0m⚐\n",
      "           pod0@9261[I]:#sent: 2 #recv: 2 sent_size: 718 Bytes recv_size: 460 Bytes\n",
      "           pod0@8930[S]:\u001b[32mterminated\u001b[0m\n",
      "           Flow@8930[S]:\u001b[32mflow is closed and all resources are released, current build level is EMPTY\u001b[0m\n"
     ]
    }
   ],
   "source": [
    "f = Flow().add(uses=MyExecutor)\n",
    "\n",
    "with f:\n",
    "    f.post(on='/search', inputs=x, on_done=print)"
   ]
  },
  {
   "cell_type": "markdown",
   "id": "streaming-grave",
   "metadata": {},
   "source": [
    "With Yaml"
   ]
  },
  {
   "cell_type": "code",
   "execution_count": 32,
   "id": "disciplinary-syria",
   "metadata": {},
   "outputs": [],
   "source": [
    "yml=\"\"\"\n",
    "jtype: MyExecutor\n",
    "with:\n",
    "  bar: 123\n",
    "metas:\n",
    "  name: awesomeness\n",
    "  description: my first awesome executor\n",
    "requests:\n",
    "  /random_work: foo\n",
    "\"\"\""
   ]
  },
  {
   "cell_type": "code",
   "execution_count": 10,
   "id": "assigned-confusion",
   "metadata": {},
   "outputs": [
    {
     "name": "stdout",
     "output_type": "stream",
     "text": [
      "Untitled.ipynb  my.yml\r\n"
     ]
    }
   ],
   "source": [
    "ls"
   ]
  },
  {
   "cell_type": "code",
   "execution_count": 8,
   "id": "unauthorized-jewel",
   "metadata": {
    "scrolled": false
   },
   "outputs": [
    {
     "name": "stdout",
     "output_type": "stream",
     "text": [
      "           pod0@9105[I]:starting jina.peapods.runtimes.zmq.zed.ZEDRuntime...\n",
      "           pod0@9105[I]:input \u001b[33mtcp://0.0.0.0:64699\u001b[0m (PULL_BIND) output \u001b[33mtcp://0.0.0.0:64700\u001b[0m (PUSH_BIND) control over \u001b[33mtcp://0.0.0.0:64698\u001b[0m (PAIR_BIND)\n",
      "        gateway@9106[I]:starting jina.peapods.runtimes.asyncio.grpc.GRPCRuntime...\n",
      "        gateway@9106[I]:input \u001b[33mtcp://0.0.0.0:64700\u001b[0m (PULL_CONNECT) output \u001b[33mtcp://0.0.0.0:64699\u001b[0m (PUSH_CONNECT) control over \u001b[33mipc:///var/folders/lh/njnz5hj934d2js334v28z1x00000gn/T/tmp5maaji6c\u001b[0m (PAIR_BIND)\n",
      "           JINA@9105[S]:\u001b[32msuccessfully built MyExecutor from a yaml config\u001b[0m\n",
      "           pod0@8930[S]:\u001b[32mready and listening\u001b[0m\n",
      "        gateway@9106[S]:\u001b[32mGRPCRuntime is listening at: 0.0.0.0:64705\u001b[0m\n",
      "        gateway@8930[S]:\u001b[32mready and listening\u001b[0m\n",
      "           Flow@8930[I]:2 Pods (i.e. 2 Peas) are running in this Flow\n",
      "           Flow@8930[S]:\u001b[32m🎉 Flow is ready to use, accepting \u001b[1mgRPC request\u001b[0m\u001b[0m\n",
      "           Flow@8930[I]:\n",
      "\t🖥️ Local access:\t\u001b[4m\u001b[36mtcp://0.0.0.0:64705\u001b[0m\n",
      "\t🔒 Private network:\t\u001b[4m\u001b[36mtcp://192.168.1.138:64705\u001b[0m\n",
      "\t🌐 Public address:\t\u001b[4m\u001b[36mtcp://213.195.113.21:64705\u001b[0m\n",
      "         Client@8930[S]:\u001b[32mconnected to the gateway at 0.0.0.0:64705!\u001b[0m\n",
      "\u001b[36mdata\u001b[0m |\u001b[32m█\u001b[0m                   | 📃      0 ⏱️ 0.0s 🐎 0.0/s      0   requestsdata ...\t        gateway@9106[I]:prefetching 50 requests...\n",
      "        gateway@9106[W]:\u001b[40m\u001b[33mif this takes too long, you may want to take smaller \"--prefetch\" or ask client to reduce \"--request-size\"\u001b[0m\n",
      "        gateway@9106[I]:prefetching 50 requests takes 0 seconds (0.01s)\n",
      "           pod0@9105[I]:recv DataRequest  from gateway\u001b[32m▸\u001b[0mpod0/ZEDRuntime\u001b[32m▸\u001b[0m⚐\n",
      "\n",
      "\n",
      "\n",
      "\n",
      "foo says: 123 namespace(name='awesomeness', description='my first awesome executor', workspace=None, py_modules=None, pea_id=0, replica_id=-1, read_only=False, parent_workspace='./') {'docs': <jina.types.arrays.document.DocumentArray length=1 at 5215364624>, 'parameters': {}, 'docs_matrix': [<jina.types.arrays.document.DocumentArray length=1 at 5215364816>], 'groundtruths': None, 'groundtruths_matrix': None}\n",
      "\n",
      "\n",
      "\n",
      "\n",
      "           pod0@9105[I]:#sent: 0 #recv: 1 sent_size: 0 Bytes recv_size: 350 Bytes\n",
      "{'requestId': '15814e27-4d9e-41d4-811d-f0c200b1651d', 'data': {'docs': [{'id': '7da02428-ae72-11eb-bb5c-acde48001122'}]}, 'header': {}, 'routes': [{'pod': 'gateway', 'podId': 'bff69126-3afd-49a8-9d00-6a38787844a6', 'startTime': '2021-05-06T13:53:52.230926Z', 'endTime': '2021-05-06T13:53:52.246792Z'}, {'pod': 'pod0/ZEDRuntime', 'podId': '9d54a698-aaf6-435f-b963-f5dbc20ed12e', 'startTime': '2021-05-06T13:53:52.232224Z', 'endTime': '2021-05-06T13:53:52.245060Z'}, {'pod': 'gateway', 'podId': '445220c8-bc21-4337-8a31-d99d1277c63c', 'startTime': '2021-05-06T13:53:52.246732Z'}], 'status': {}}\n",
      "\u001b[36mdata\u001b[0m |\u001b[32m█\u001b[0m                   | 📃    100 ⏱️ 0.0s 🐎 3815.1/s      1   requestsdata takes 0 seconds (0.03s)\u001b[0m\n",
      "        gateway@9106[I]:#sent: 1 #recv: 1 sent_size: 419 Bytes recv_size: 433 Bytes\n",
      "\t\u001b[32m✅ done in ⏱ 0 seconds 🐎 3507.9/s\u001b[0m\n",
      "        gateway@8930[S]:\u001b[32mterminated\u001b[0m\n",
      "           pod0@9105[I]:recv ControlRequest  from ctl\u001b[32m▸\u001b[0mpod0/ZEDRuntime\u001b[32m▸\u001b[0m⚐\n",
      "           pod0@9105[I]:#sent: 2 #recv: 2 sent_size: 747 Bytes recv_size: 489 Bytes\n",
      "           pod0@8930[S]:\u001b[32mterminated\u001b[0m\n",
      "           Flow@8930[S]:\u001b[32mflow is closed and all resources are released, current build level is EMPTY\u001b[0m\n"
     ]
    }
   ],
   "source": [
    "from jina import Executor, Flow, Document\n",
    "\n",
    "\n",
    "class MyExecutor(Executor):\n",
    "\n",
    "    def __init__(self, bar: int, **kwargs):\n",
    "        super().__init__(**kwargs)\n",
    "        self.bar = bar\n",
    "\n",
    "    def foo(self, **kwargs):\n",
    "        print(f'\\n\\n\\n\\nfoo says: {self.bar} {self.metas} {kwargs}\\n\\n\\n\\n')\n",
    "\n",
    "\n",
    "f = Flow().add(uses='my.yml')\n",
    "\n",
    "with f:\n",
    "    f.post(on='/random_work', inputs=Document(), on_done=print)\n"
   ]
  },
  {
   "cell_type": "code",
   "execution_count": null,
   "id": "weekly-transformation",
   "metadata": {},
   "outputs": [],
   "source": []
  },
  {
   "cell_type": "code",
   "execution_count": 33,
   "id": "complete-huntington",
   "metadata": {},
   "outputs": [],
   "source": [
    "from jina import executors"
   ]
  },
  {
   "cell_type": "code",
   "execution_count": 40,
   "id": "fantastic-proxy",
   "metadata": {},
   "outputs": [],
   "source": [
    "from jina import Executor"
   ]
  },
  {
   "cell_type": "code",
   "execution_count": 44,
   "id": "fixed-novel",
   "metadata": {},
   "outputs": [
    {
     "data": {
      "text/plain": [
       "jina.executors.BaseExecutor"
      ]
     },
     "execution_count": 44,
     "metadata": {},
     "output_type": "execute_result"
    }
   ],
   "source": [
    "jina.Executor"
   ]
  },
  {
   "cell_type": "code",
   "execution_count": 52,
   "id": "applicable-croatia",
   "metadata": {},
   "outputs": [],
   "source": [
    "from jina import Executor, requests\n",
    "\n",
    "class MyExecutor(Executor):\n",
    "\n",
    "  @requests\n",
    "  def foo(self, **kwargs):\n",
    "    print(f'\\n\\n\\n\\nfoo\\n\\n\\n\\n')\n",
    "\n",
    "\n",
    "  @requests(on='index')\n",
    "  def bar(self, **kwargs):\n",
    "    print(f'\\n\\n\\n\\nbar\\n\\n\\n\\n')\n"
   ]
  },
  {
   "cell_type": "code",
   "execution_count": 54,
   "id": "equivalent-playing",
   "metadata": {},
   "outputs": [
    {
     "name": "stdout",
     "output_type": "stream",
     "text": [
      "           pod0@9578[I]:starting jina.peapods.runtimes.zmq.zed.ZEDRuntime...\n",
      "           pod0@9578[I]:input \u001b[33mtcp://0.0.0.0:65082\u001b[0m (PULL_BIND) output \u001b[33mtcp://0.0.0.0:65083\u001b[0m (PUSH_BIND) control over \u001b[33mtcp://0.0.0.0:65081\u001b[0m (PAIR_BIND)\n",
      "        gateway@9579[I]:starting jina.peapods.runtimes.asyncio.grpc.GRPCRuntime...\n",
      "        gateway@9579[I]:input \u001b[33mtcp://0.0.0.0:65083\u001b[0m (PULL_CONNECT) output \u001b[33mtcp://0.0.0.0:65082\u001b[0m (PUSH_CONNECT) control over \u001b[33mipc:///var/folders/lh/njnz5hj934d2js334v28z1x00000gn/T/tmpzhmfpjfk\u001b[0m (PAIR_BIND)\n",
      "           JINA@9578[S]:\u001b[32msuccessfully built MyExecutor from a yaml config\u001b[0m\n",
      "           pod0@8930[S]:\u001b[32mready and listening\u001b[0m\n",
      "        gateway@9579[S]:\u001b[32mGRPCRuntime is listening at: 0.0.0.0:65415\u001b[0m\n",
      "        gateway@8930[S]:\u001b[32mready and listening\u001b[0m\n",
      "           Flow@8930[I]:2 Pods (i.e. 2 Peas) are running in this Flow\n",
      "           Flow@8930[S]:\u001b[32m🎉 Flow is ready to use, accepting \u001b[1mgRPC request\u001b[0m\u001b[0m\n",
      "           Flow@8930[I]:\n",
      "\t🖥️ Local access:\t\u001b[4m\u001b[36mtcp://0.0.0.0:65415\u001b[0m\n",
      "\t🔒 Private network:\t\u001b[4m\u001b[36mtcp://192.168.1.138:65415\u001b[0m\n",
      "\t🌐 Public address:\t\u001b[4m\u001b[36mtcp://213.195.113.21:65415\u001b[0m\n",
      "         Client@8930[S]:\u001b[32mconnected to the gateway at 0.0.0.0:65415!\u001b[0m\n",
      "\u001b[36mdata\u001b[0m |\u001b[32m█\u001b[0m                   | 📃      0 ⏱️ 0.0s 🐎 0.0/s      0   requestsdata ...\t        gateway@9579[I]:prefetching 50 requests...\n",
      "        gateway@9579[W]:\u001b[40m\u001b[33mif this takes too long, you may want to take smaller \"--prefetch\" or ask client to reduce \"--request-size\"\u001b[0m\n",
      "        gateway@9579[I]:prefetching 50 requests takes 0 seconds (0.01s)\n",
      "           pod0@9578[I]:recv DataRequest  from gateway\u001b[32m▸\u001b[0mpod0/ZEDRuntime\u001b[32m▸\u001b[0m⚐\n",
      "\n",
      "\n",
      "\n",
      "\n",
      "foo\n",
      "\n",
      "\n",
      "\n",
      "\n",
      "           pod0@9578[I]:#sent: 0 #recv: 1 sent_size: 0 Bytes recv_size: 342 Bytes\n",
      "\u001b[36mdata\u001b[0m |\u001b[32m█\u001b[0m                   | 📃    100 ⏱️ 0.0s 🐎 2993.6/s      1   requestsdata takes 0 seconds (0.03s)\u001b[0m\n",
      "        gateway@9579[I]:#sent: 1 #recv: 1 sent_size: 411 Bytes recv_size: 427 Bytes\n",
      "\t\u001b[32m✅ done in ⏱ 0 seconds 🐎 2679.2/s\u001b[0m\n",
      "        gateway@8930[S]:\u001b[32mterminated\u001b[0m\n",
      "           pod0@9578[I]:recv ControlRequest  from ctl\u001b[32m▸\u001b[0mpod0/ZEDRuntime\u001b[32m▸\u001b[0m⚐\n",
      "           pod0@9578[I]:#sent: 2 #recv: 2 sent_size: 741 Bytes recv_size: 481 Bytes\n",
      "           pod0@8930[S]:\u001b[32mterminated\u001b[0m\n",
      "           Flow@8930[S]:\u001b[32mflow is closed and all resources are released, current build level is EMPTY\u001b[0m\n"
     ]
    }
   ],
   "source": [
    "with f:\n",
    "    # if incorrect 'on' is passed it defaults to the default\n",
    "    f.post(inputs=Document(), on='boo') "
   ]
  },
  {
   "cell_type": "markdown",
   "id": "stretch-devices",
   "metadata": {},
   "source": [
    "Multiple binding"
   ]
  },
  {
   "cell_type": "code",
   "execution_count": 59,
   "id": "decent-bristol",
   "metadata": {},
   "outputs": [],
   "source": [
    "from jina import Executor, requests\n",
    "\n",
    "class MyExecutor(Executor):\n",
    "\n",
    "  @requests\n",
    "  def foo(self, **kwargs):\n",
    "    print(f'\\n\\n\\n\\nfoo\\n\\n\\n\\n')\n",
    "\n",
    "\n",
    "  @requests(on='/index')\n",
    "  def bar(self, **kwargs):\n",
    "    print(f'\\n\\n\\n\\nbar\\n\\n\\n\\n')\n",
    "\n",
    "  @requests(on=['/foo', '/bar'])\n",
    "  def foobar(self, **kwargs):\n",
    "    print(f'\\n\\n\\n\\nfoo_bar\\n\\n\\n\\n')\n",
    "\n",
    "    "
   ]
  },
  {
   "cell_type": "code",
   "execution_count": 60,
   "id": "hybrid-liberal",
   "metadata": {},
   "outputs": [
    {
     "name": "stdout",
     "output_type": "stream",
     "text": [
      "           pod0@9636[I]:starting jina.peapods.runtimes.zmq.zed.ZEDRuntime...\n",
      "           pod0@9636[I]:input \u001b[33mtcp://0.0.0.0:65082\u001b[0m (PULL_BIND) output \u001b[33mtcp://0.0.0.0:65083\u001b[0m (PUSH_BIND) control over \u001b[33mtcp://0.0.0.0:65081\u001b[0m (PAIR_BIND)\n",
      "        gateway@9637[I]:starting jina.peapods.runtimes.asyncio.grpc.GRPCRuntime...\n",
      "           JINA@9636[S]:\u001b[32msuccessfully built MyExecutor from a yaml config\u001b[0m\n",
      "        gateway@9637[I]:input \u001b[33mtcp://0.0.0.0:65083\u001b[0m (PULL_CONNECT) output \u001b[33mtcp://0.0.0.0:65082\u001b[0m (PUSH_CONNECT) control over \u001b[33mipc:///var/folders/lh/njnz5hj934d2js334v28z1x00000gn/T/tmpfzcmbfh6\u001b[0m (PAIR_BIND)\n",
      "           pod0@8930[S]:\u001b[32mready and listening\u001b[0m\n",
      "        gateway@9637[S]:\u001b[32mGRPCRuntime is listening at: 0.0.0.0:49154\u001b[0m\n",
      "        gateway@8930[S]:\u001b[32mready and listening\u001b[0m\n",
      "           Flow@8930[I]:2 Pods (i.e. 2 Peas) are running in this Flow\n",
      "           Flow@8930[S]:\u001b[32m🎉 Flow is ready to use, accepting \u001b[1mgRPC request\u001b[0m\u001b[0m\n",
      "           Flow@8930[I]:\n",
      "\t🖥️ Local access:\t\u001b[4m\u001b[36mtcp://0.0.0.0:49154\u001b[0m\n",
      "\t🔒 Private network:\t\u001b[4m\u001b[36mtcp://192.168.1.138:49154\u001b[0m\n",
      "\t🌐 Public address:\t\u001b[4m\u001b[36mtcp://213.195.113.21:49154\u001b[0m\n",
      "         Client@8930[S]:\u001b[32mconnected to the gateway at 0.0.0.0:49154!\u001b[0m\n",
      "\u001b[36mdata\u001b[0m |\u001b[32m█\u001b[0m                   | 📃      0 ⏱️ 0.0s 🐎 0.0/s      0   requestsdata ...\t        gateway@9637[I]:prefetching 50 requests...\n",
      "        gateway@9637[W]:\u001b[40m\u001b[33mif this takes too long, you may want to take smaller \"--prefetch\" or ask client to reduce \"--request-size\"\u001b[0m\n",
      "        gateway@9637[I]:prefetching 50 requests takes 0 seconds (0.01s)\n",
      "           pod0@9636[I]:recv DataRequest  from gateway\u001b[32m▸\u001b[0mpod0/ZEDRuntime\u001b[32m▸\u001b[0m⚐\n",
      "\n",
      "\n",
      "\n",
      "\n",
      "foo_bar\n",
      "\n",
      "\n",
      "\n",
      "\n",
      "           pod0@9636[I]:#sent: 0 #recv: 1 sent_size: 0 Bytes recv_size: 343 Bytes\n",
      "\u001b[36mdata\u001b[0m |\u001b[32m█\u001b[0m                   | 📃    100 ⏱️ 0.0s 🐎 3900.0/s      1   requestsdata takes 0 seconds (0.03s)\u001b[0m\n",
      "        gateway@9637[I]:#sent: 1 #recv: 1 sent_size: 412 Bytes recv_size: 428 Bytes\n",
      "\t\u001b[32m✅ done in ⏱ 0 seconds 🐎 3709.6/s\u001b[0m\n",
      "        gateway@8930[S]:\u001b[32mterminated\u001b[0m\n",
      "           pod0@9636[I]:recv ControlRequest  from ctl\u001b[32m▸\u001b[0mpod0/ZEDRuntime\u001b[32m▸\u001b[0m⚐\n",
      "           pod0@9636[I]:#sent: 2 #recv: 2 sent_size: 740 Bytes recv_size: 481 Bytes\n",
      "           pod0@8930[S]:\u001b[32mterminated\u001b[0m\n",
      "           Flow@8930[S]:\u001b[32mflow is closed and all resources are released, current build level is EMPTY\u001b[0m\n"
     ]
    }
   ],
   "source": [
    "with f:\n",
    "    # if incorrect 'on' is passed it defaults to the default\n",
    "    f.post(inputs=Document(), on='/foo') "
   ]
  },
  {
   "cell_type": "code",
   "execution_count": 61,
   "id": "frozen-shelf",
   "metadata": {},
   "outputs": [
    {
     "name": "stdout",
     "output_type": "stream",
     "text": [
      "           pod0@9640[I]:starting jina.peapods.runtimes.zmq.zed.ZEDRuntime...\n",
      "           pod0@9640[I]:input \u001b[33mtcp://0.0.0.0:65082\u001b[0m (PULL_BIND) output \u001b[33mtcp://0.0.0.0:65083\u001b[0m (PUSH_BIND) control over \u001b[33mtcp://0.0.0.0:65081\u001b[0m (PAIR_BIND)\n",
      "        gateway@9641[I]:starting jina.peapods.runtimes.asyncio.grpc.GRPCRuntime...\n",
      "        gateway@9641[I]:input \u001b[33mtcp://0.0.0.0:65083\u001b[0m (PULL_CONNECT) output \u001b[33mtcp://0.0.0.0:65082\u001b[0m (PUSH_CONNECT) control over \u001b[33mipc:///var/folders/lh/njnz5hj934d2js334v28z1x00000gn/T/tmp1_crot9v\u001b[0m (PAIR_BIND)\n",
      "           JINA@9640[S]:\u001b[32msuccessfully built MyExecutor from a yaml config\u001b[0m\n",
      "           pod0@8930[S]:\u001b[32mready and listening\u001b[0m\n",
      "        gateway@9641[S]:\u001b[32mGRPCRuntime is listening at: 0.0.0.0:49186\u001b[0m\n",
      "        gateway@8930[S]:\u001b[32mready and listening\u001b[0m\n",
      "           Flow@8930[I]:2 Pods (i.e. 2 Peas) are running in this Flow\n",
      "           Flow@8930[S]:\u001b[32m🎉 Flow is ready to use, accepting \u001b[1mgRPC request\u001b[0m\u001b[0m\n",
      "           Flow@8930[I]:\n",
      "\t🖥️ Local access:\t\u001b[4m\u001b[36mtcp://0.0.0.0:49186\u001b[0m\n",
      "\t🔒 Private network:\t\u001b[4m\u001b[36mtcp://192.168.1.138:49186\u001b[0m\n",
      "\t🌐 Public address:\t\u001b[4m\u001b[36mtcp://213.195.113.21:49186\u001b[0m\n",
      "         Client@8930[S]:\u001b[32mconnected to the gateway at 0.0.0.0:49186!\u001b[0m\n",
      "\u001b[36mdata\u001b[0m |\u001b[32m█\u001b[0m                   | 📃      0 ⏱️ 0.0s 🐎 0.0/s      0   requestsdata ...\t        gateway@9641[I]:prefetching 50 requests...\n",
      "        gateway@9641[W]:\u001b[40m\u001b[33mif this takes too long, you may want to take smaller \"--prefetch\" or ask client to reduce \"--request-size\"\u001b[0m\n",
      "        gateway@9641[I]:prefetching 50 requests takes 0 seconds (0.01s)\n",
      "           pod0@9640[I]:recv DataRequest  from gateway\u001b[32m▸\u001b[0mpod0/ZEDRuntime\u001b[32m▸\u001b[0m⚐\n",
      "\n",
      "\n",
      "\n",
      "\n",
      "foo_bar\n",
      "\n",
      "\n",
      "\n",
      "\n",
      "           pod0@9640[I]:#sent: 0 #recv: 1 sent_size: 0 Bytes recv_size: 343 Bytes\n",
      "\u001b[36mdata\u001b[0m |\u001b[32m█\u001b[0m                   | 📃    100 ⏱️ 0.0s 🐎 3376.4/s      1   requestsdata takes 0 seconds (0.03s)\u001b[0m\n",
      "        gateway@9641[I]:#sent: 1 #recv: 1 sent_size: 412 Bytes recv_size: 428 Bytes\n",
      "\t\u001b[32m✅ done in ⏱ 0 seconds 🐎 3057.0/s\u001b[0m\n",
      "        gateway@8930[S]:\u001b[32mterminated\u001b[0m\n",
      "           pod0@9640[I]:recv ControlRequest  from ctl\u001b[32m▸\u001b[0mpod0/ZEDRuntime\u001b[32m▸\u001b[0m⚐\n",
      "           pod0@9640[I]:#sent: 2 #recv: 2 sent_size: 742 Bytes recv_size: 482 Bytes\n",
      "           pod0@8930[S]:\u001b[32mterminated\u001b[0m\n",
      "           Flow@8930[S]:\u001b[32mflow is closed and all resources are released, current build level is EMPTY\u001b[0m\n"
     ]
    }
   ],
   "source": [
    "with f:\n",
    "    # if incorrect 'on' is passed it defaults to the default\n",
    "    f.post(inputs=Document(), on='/bar') "
   ]
  },
  {
   "cell_type": "code",
   "execution_count": 62,
   "id": "attractive-courtesy",
   "metadata": {},
   "outputs": [
    {
     "name": "stdout",
     "output_type": "stream",
     "text": [
      "           pod0@9648[I]:starting jina.peapods.runtimes.zmq.zed.ZEDRuntime...\n",
      "           pod0@9648[I]:input \u001b[33mtcp://0.0.0.0:65082\u001b[0m (PULL_BIND) output \u001b[33mtcp://0.0.0.0:65083\u001b[0m (PUSH_BIND) control over \u001b[33mtcp://0.0.0.0:65081\u001b[0m (PAIR_BIND)\n",
      "        gateway@9649[I]:starting jina.peapods.runtimes.asyncio.grpc.GRPCRuntime...\n",
      "        gateway@9649[I]:input \u001b[33mtcp://0.0.0.0:65083\u001b[0m (PULL_CONNECT) output \u001b[33mtcp://0.0.0.0:65082\u001b[0m (PUSH_CONNECT) control over \u001b[33mipc:///var/folders/lh/njnz5hj934d2js334v28z1x00000gn/T/tmpwq15eor7\u001b[0m (PAIR_BIND)\n",
      "           JINA@9648[S]:\u001b[32msuccessfully built MyExecutor from a yaml config\u001b[0m\n",
      "           pod0@8930[S]:\u001b[32mready and listening\u001b[0m\n",
      "        gateway@9649[S]:\u001b[32mGRPCRuntime is listening at: 0.0.0.0:49218\u001b[0m\n",
      "        gateway@8930[S]:\u001b[32mready and listening\u001b[0m\n",
      "           Flow@8930[I]:2 Pods (i.e. 2 Peas) are running in this Flow\n",
      "           Flow@8930[S]:\u001b[32m🎉 Flow is ready to use, accepting \u001b[1mgRPC request\u001b[0m\u001b[0m\n",
      "           Flow@8930[I]:\n",
      "\t🖥️ Local access:\t\u001b[4m\u001b[36mtcp://0.0.0.0:49218\u001b[0m\n",
      "\t🔒 Private network:\t\u001b[4m\u001b[36mtcp://192.168.1.138:49218\u001b[0m\n",
      "\t🌐 Public address:\t\u001b[4m\u001b[36mtcp://213.195.113.21:49218\u001b[0m\n",
      "         Client@8930[S]:\u001b[32mconnected to the gateway at 0.0.0.0:49218!\u001b[0m\n",
      "\u001b[36mdata\u001b[0m |\u001b[32m█\u001b[0m                   | 📃      0 ⏱️ 0.0s 🐎 0.0/s      0   requestsdata ...\t           JINA@8930[C]:\u001b[41m\u001b[37minputs is not valid! TypeError(\"['/foo', '/bar'] has type list, but expected one of: bytes, unicode\")\u001b[0m\n",
      "Traceback (most recent call last):\n",
      "  File \"/Users/davidbuchaca/Documents/git_stuff/jina/jina/clients/request/__init__.py\", line 52, in request_generator\n",
      "    yield _new_data_request_from_batch(\n",
      "  File \"/Users/davidbuchaca/Documents/git_stuff/jina/jina/clients/request/helper.py\", line 17, in _new_data_request_from_batch\n",
      "    req.header.exec_endpoint = endpoint\n",
      "TypeError: ['/foo', '/bar'] has type list, but expected one of: bytes, unicode\n",
      "        gateway@9649[I]:prefetching 50 requests...\n",
      "        gateway@9649[W]:\u001b[40m\u001b[33mif this takes too long, you may want to take smaller \"--prefetch\" or ask client to reduce \"--request-size\"\u001b[0m\n",
      "        gateway@9649[E]:\u001b[31mreceive an empty stream from the client! please check your client's inputs, you can use \"Client.check_input(inputs)\"\u001b[0m\n",
      "        gateway@9649[I]:prefetching 50 requests takes 0 seconds (0.01s)\n",
      "data takes 0 seconds (0.02s)\u001b[0m\n",
      "        gateway@9649[I]:#sent: 0 #recv: 0 sent_size: 0 Bytes recv_size: 0 Bytes\n",
      "\t\u001b[32m✅ done in ⏱ 0 seconds 🐎 0.0/s\u001b[0m\n",
      "        gateway@8930[S]:\u001b[32mterminated\u001b[0m\n",
      "           pod0@9648[I]:recv ControlRequest  from ctl\u001b[32m▸\u001b[0mpod0/ZEDRuntime\u001b[32m▸\u001b[0m⚐\n",
      "           pod0@9648[I]:#sent: 1 #recv: 1 sent_size: 245 Bytes recv_size: 139 Bytes\n",
      "           pod0@8930[S]:\u001b[32mterminated\u001b[0m\n",
      "           Flow@8930[S]:\u001b[32mflow is closed and all resources are released, current build level is EMPTY\u001b[0m\n"
     ]
    }
   ],
   "source": [
    "with f:\n",
    "    # if incorrect 'on' is passed it defaults to the default\n",
    "    f.post(inputs=Document(), on=['/foo', '/bar']) "
   ]
  },
  {
   "cell_type": "code",
   "execution_count": null,
   "id": "athletic-mason",
   "metadata": {},
   "outputs": [],
   "source": []
  },
  {
   "cell_type": "markdown",
   "id": "electric-briefing",
   "metadata": {},
   "source": [
    "## Method returns"
   ]
  },
  {
   "cell_type": "markdown",
   "id": "orange-teens",
   "metadata": {},
   "source": [
    "Method decorated with `@request` can return `Optional[DocumentArray]`. If not `None`, then the current `Request.docs` will be overridden by the return value.\n",
    "\n",
    "If return is just a shallow copy of `Request.docs`, then nothing happens.\n",
    "\n"
   ]
  },
  {
   "cell_type": "code",
   "execution_count": 67,
   "id": "parallel-laundry",
   "metadata": {},
   "outputs": [],
   "source": [
    "from jina import DocumentArray"
   ]
  },
  {
   "cell_type": "code",
   "execution_count": 68,
   "id": "blind-reception",
   "metadata": {},
   "outputs": [],
   "source": [
    "x = jina.types.arrays.DocumentArray([Document(id='0'), Document(id='1')])"
   ]
  },
  {
   "cell_type": "code",
   "execution_count": 101,
   "id": "paperback-customs",
   "metadata": {},
   "outputs": [],
   "source": [
    "from jina import Executor, requests\n",
    "\n",
    "class MyExecutor(Executor):\n",
    "\n",
    "  @requests(on='update_id')\n",
    "  def add_1_id(self, docs:DocumentArray, **kwargs):\n",
    "    for d in docs:\n",
    "        d.id = str(int(d.id) +1 )\n",
    "        print(f'\\n\\ndoc.id={d.id}\\n\\n')\n",
    "        \n",
    "    return docs\n",
    "\n",
    "  @requests(on=['/foo', '/bar'])\n",
    "  def foobar(self, **kwargs):\n",
    "    print(f'\\n\\n\\n\\nfoo_bar\\n\\n\\n\\n')\n"
   ]
  },
  {
   "cell_type": "code",
   "execution_count": 102,
   "id": "yellow-launch",
   "metadata": {},
   "outputs": [
    {
     "name": "stdout",
     "output_type": "stream",
     "text": [
      "           pod0@9962[I]:starting jina.peapods.runtimes.zmq.zed.ZEDRuntime...\n",
      "           pod0@9962[I]:input \u001b[33mtcp://0.0.0.0:65082\u001b[0m (PULL_BIND) output \u001b[33mtcp://0.0.0.0:65083\u001b[0m (PUSH_BIND) control over \u001b[33mtcp://0.0.0.0:65081\u001b[0m (PAIR_BIND)\n",
      "        gateway@9963[I]:starting jina.peapods.runtimes.asyncio.grpc.GRPCRuntime...\n",
      "        gateway@9963[I]:input \u001b[33mtcp://0.0.0.0:65083\u001b[0m (PULL_CONNECT) output \u001b[33mtcp://0.0.0.0:65082\u001b[0m (PUSH_CONNECT) control over \u001b[33mipc:///var/folders/lh/njnz5hj934d2js334v28z1x00000gn/T/tmpcb8u8mu3\u001b[0m (PAIR_BIND)\n",
      "           JINA@9962[S]:\u001b[32msuccessfully built MyExecutor from a yaml config\u001b[0m\n",
      "           pod0@8930[S]:\u001b[32mready and listening\u001b[0m\n",
      "        gateway@9963[S]:\u001b[32mGRPCRuntime is listening at: 0.0.0.0:49819\u001b[0m\n",
      "        gateway@8930[S]:\u001b[32mready and listening\u001b[0m\n",
      "           Flow@8930[I]:2 Pods (i.e. 2 Peas) are running in this Flow\n",
      "           Flow@8930[S]:\u001b[32m🎉 Flow is ready to use, accepting \u001b[1mgRPC request\u001b[0m\u001b[0m\n",
      "           Flow@8930[I]:\n",
      "\t🖥️ Local access:\t\u001b[4m\u001b[36mtcp://0.0.0.0:49819\u001b[0m\n",
      "\t🔒 Private network:\t\u001b[4m\u001b[36mtcp://192.168.1.138:49819\u001b[0m\n",
      "\t🌐 Public address:\t\u001b[4m\u001b[36mtcp://213.195.113.21:49819\u001b[0m\n",
      "         Client@8930[S]:\u001b[32mconnected to the gateway at 0.0.0.0:49819!\u001b[0m\n",
      "\u001b[36mdata\u001b[0m |\u001b[32m█\u001b[0m                   | 📃      0 ⏱️ 0.0s 🐎 0.0/s      0   requestsdata ...\t        gateway@9963[I]:prefetching 50 requests...\n",
      "        gateway@9963[W]:\u001b[40m\u001b[33mif this takes too long, you may want to take smaller \"--prefetch\" or ask client to reduce \"--request-size\"\u001b[0m\n",
      "        gateway@9963[I]:prefetching 50 requests takes 0 seconds (0.01s)\n",
      "           pod0@9962[I]:recv DataRequest  from gateway\u001b[32m▸\u001b[0mpod0/ZEDRuntime\u001b[32m▸\u001b[0m⚐\n",
      "\n",
      "\n",
      "doc.id=1\n",
      "\n",
      "\n",
      "\n",
      "\n",
      "doc.id=2\n",
      "\n",
      "\n",
      "           pod0@9962[I]:#sent: 0 #recv: 1 sent_size: 0 Bytes recv_size: 318 Bytes\n",
      "\u001b[36mdata\u001b[0m |\u001b[32m█\u001b[0m                   | 📃    100 ⏱️ 0.0s 🐎 3843.6/s      1   requestsdata takes 0 seconds (0.03s)\u001b[0m\n",
      "        gateway@9963[I]:#sent: 1 #recv: 1 sent_size: 387 Bytes recv_size: 403 Bytes\n",
      "\t\u001b[32m✅ done in ⏱ 0 seconds 🐎 3532.4/s\u001b[0m\n",
      "        gateway@8930[S]:\u001b[32mterminated\u001b[0m\n",
      "           pod0@9962[I]:recv ControlRequest  from ctl\u001b[32m▸\u001b[0mpod0/ZEDRuntime\u001b[32m▸\u001b[0m⚐\n",
      "           pod0@9962[I]:#sent: 2 #recv: 2 sent_size: 715 Bytes recv_size: 456 Bytes\n",
      "           pod0@8930[S]:\u001b[32mterminated\u001b[0m\n",
      "           Flow@8930[S]:\u001b[32mflow is closed and all resources are released, current build level is EMPTY\u001b[0m\n"
     ]
    }
   ],
   "source": [
    "#def print_id(docs):\n",
    "#    for d in docs:\n",
    "#        print(f'\\n\\ndoc.id={d.id}\\n\\n')\n",
    "\n",
    "with f:\n",
    "    f.post(on='update_id',inputs=x)\n",
    "    #print(x[0].id,x[1].id)"
   ]
  },
  {
   "cell_type": "markdown",
   "id": "returning-bachelor",
   "metadata": {},
   "source": [
    "## Why is the documentarray not updated?"
   ]
  },
  {
   "cell_type": "code",
   "execution_count": 103,
   "id": "fantastic-weekly",
   "metadata": {},
   "outputs": [
    {
     "name": "stdout",
     "output_type": "stream",
     "text": [
      "0 1\n"
     ]
    }
   ],
   "source": [
    "print(x[0].id,x[1].id)"
   ]
  },
  {
   "cell_type": "markdown",
   "id": "round-mapping",
   "metadata": {},
   "source": [
    "\n",
    "# Load and save Executor YAML"
   ]
  },
  {
   "cell_type": "code",
   "execution_count": null,
   "id": "applicable-rebecca",
   "metadata": {},
   "outputs": [],
   "source": [
    "%load_ext autoreload\n",
    "%autoreload 2"
   ]
  },
  {
   "cell_type": "code",
   "execution_count": 8,
   "id": "demonstrated-publication",
   "metadata": {},
   "outputs": [
    {
     "name": "stdout",
     "output_type": "stream",
     "text": [
      "reg_cls_set={'jina.executors.BaseExecutor', '__main__.MyExecutor'}\n"
     ]
    }
   ],
   "source": [
    "from jina import Executor\n",
    "\n",
    "class MyExecutor(Executor):\n",
    "\n",
    "  def __init__(self, bar: int, weight, *args, **kwargs):\n",
    "    super().__init__( *args ,**kwargs)\n",
    "    self.bar = bar\n",
    "    self.weight = weight\n",
    "\n",
    "  def foo(self, **kwargs):\n",
    "    pass\n",
    "\n",
    "y_literal = \"\"\"\n",
    "jtype: MyExecutor\n",
    "with:\n",
    "  bar: 123\n",
    "  weight: 23\n",
    "metas:\n",
    "  name: awesomeness\n",
    "  description: my first awesome executor\n",
    "requests:\n",
    "  /random_work: foo\n",
    "\"\"\""
   ]
  },
  {
   "cell_type": "code",
   "execution_count": 9,
   "id": "acting-japan",
   "metadata": {},
   "outputs": [
    {
     "name": "stdout",
     "output_type": "stream",
     "text": [
      "tmp={}\n",
      "           JINA@1647[S]:\u001b[32msuccessfully built MyExecutor from a yaml config\u001b[0m\n"
     ]
    }
   ],
   "source": [
    "ex = Executor.load_config(y_literal)"
   ]
  },
  {
   "cell_type": "code",
   "execution_count": 78,
   "id": "global-stranger",
   "metadata": {},
   "outputs": [],
   "source": [
    "ex.save_config('y.yml')"
   ]
  },
  {
   "cell_type": "code",
   "execution_count": 79,
   "id": "reported-compression",
   "metadata": {},
   "outputs": [
    {
     "name": "stdout",
     "output_type": "stream",
     "text": [
      "Untitled.ipynb  intro.ipynb     my.yml          y.yml\r\n"
     ]
    }
   ],
   "source": [
    "ls"
   ]
  },
  {
   "cell_type": "code",
   "execution_count": 80,
   "id": "pediatric-chocolate",
   "metadata": {},
   "outputs": [
    {
     "data": {
      "text/plain": [
       "(123, 23)"
      ]
     },
     "execution_count": 80,
     "metadata": {},
     "output_type": "execute_result"
    }
   ],
   "source": [
    "ex.bar,ex.weight"
   ]
  },
  {
   "cell_type": "code",
   "execution_count": 81,
   "id": "listed-glory",
   "metadata": {},
   "outputs": [],
   "source": [
    "#import numpy as np\n",
    "#Executor"
   ]
  },
  {
   "cell_type": "code",
   "execution_count": 82,
   "id": "junior-postage",
   "metadata": {},
   "outputs": [
    {
     "data": {
      "text/plain": [
       "{'_init_kwargs_dict': {},\n",
       " 'metas': namespace(name='awesomeness',\n",
       "           description='my first awesome executor',\n",
       "           workspace=None,\n",
       "           py_modules=None),\n",
       " 'requests': {'/random_work': <function __main__.MyExecutor.foo(self, **kwargs)>},\n",
       " 'bar': 123,\n",
       " 'weight': 23,\n",
       " 'is_updated': False}"
      ]
     },
     "execution_count": 82,
     "metadata": {},
     "output_type": "execute_result"
    }
   ],
   "source": [
    "ex.__dict__"
   ]
  },
  {
   "cell_type": "code",
   "execution_count": 83,
   "id": "varied-butter",
   "metadata": {
    "scrolled": true
   },
   "outputs": [
    {
     "name": "stdout",
     "output_type": "stream",
     "text": [
      "!MyExecutor\r\n",
      "metas:\r\n",
      "  name: awesomeness\r\n",
      "  description: my first awesome executor\r\n",
      "requests:\r\n",
      "  /random_work: foo\r\n"
     ]
    }
   ],
   "source": [
    "# saved yml does not seem to store bar to disk\n",
    "!cat y.yml"
   ]
  },
  {
   "cell_type": "code",
   "execution_count": 84,
   "id": "optical-scoop",
   "metadata": {},
   "outputs": [
    {
     "ename": "TypeError",
     "evalue": "__init__() missing 2 required positional arguments: 'bar' and 'weight'",
     "output_type": "error",
     "traceback": [
      "\u001b[0;31m---------------------------------------------------------------------------\u001b[0m",
      "\u001b[0;31mTypeError\u001b[0m                                 Traceback (most recent call last)",
      "\u001b[0;32m<ipython-input-84-867ad806b358>\u001b[0m in \u001b[0;36m<module>\u001b[0;34m\u001b[0m\n\u001b[0;32m----> 1\u001b[0;31m \u001b[0mExecutor\u001b[0m\u001b[0;34m.\u001b[0m\u001b[0mload_config\u001b[0m\u001b[0;34m(\u001b[0m\u001b[0;34m'y.yml'\u001b[0m\u001b[0;34m)\u001b[0m\u001b[0;34m\u001b[0m\u001b[0;34m\u001b[0m\u001b[0m\n\u001b[0m",
      "\u001b[0;32m~/Documents/git_stuff/jina/jina/jaml/__init__.py\u001b[0m in \u001b[0;36mload_config\u001b[0;34m(cls, source, allow_py_modules, substitute, context, **kwargs)\u001b[0m\n\u001b[1;32m    529\u001b[0m \u001b[0;34m\u001b[0m\u001b[0m\n\u001b[1;32m    530\u001b[0m             \u001b[0;31m# load into object, no more substitute\u001b[0m\u001b[0;34m\u001b[0m\u001b[0;34m\u001b[0m\u001b[0;34m\u001b[0m\u001b[0m\n\u001b[0;32m--> 531\u001b[0;31m             \u001b[0;32mreturn\u001b[0m \u001b[0mJAML\u001b[0m\u001b[0;34m.\u001b[0m\u001b[0mload\u001b[0m\u001b[0;34m(\u001b[0m\u001b[0mtag_yml\u001b[0m\u001b[0;34m,\u001b[0m \u001b[0msubstitute\u001b[0m\u001b[0;34m=\u001b[0m\u001b[0;32mFalse\u001b[0m\u001b[0;34m)\u001b[0m\u001b[0;34m\u001b[0m\u001b[0;34m\u001b[0m\u001b[0m\n\u001b[0m\u001b[1;32m    532\u001b[0m \u001b[0;34m\u001b[0m\u001b[0m\n\u001b[1;32m    533\u001b[0m     \u001b[0;34m@\u001b[0m\u001b[0mclassmethod\u001b[0m\u001b[0;34m\u001b[0m\u001b[0;34m\u001b[0m\u001b[0m\n",
      "\u001b[0;32m~/Documents/git_stuff/jina/jina/jaml/__init__.py\u001b[0m in \u001b[0;36mload\u001b[0;34m(stream, substitute, context)\u001b[0m\n\u001b[1;32m     87\u001b[0m \u001b[0;34m\u001b[0m\u001b[0m\n\u001b[1;32m     88\u001b[0m         \"\"\"\n\u001b[0;32m---> 89\u001b[0;31m         \u001b[0mr\u001b[0m \u001b[0;34m=\u001b[0m \u001b[0myaml\u001b[0m\u001b[0;34m.\u001b[0m\u001b[0mload\u001b[0m\u001b[0;34m(\u001b[0m\u001b[0mstream\u001b[0m\u001b[0;34m,\u001b[0m \u001b[0mLoader\u001b[0m\u001b[0;34m=\u001b[0m\u001b[0mJinaLoader\u001b[0m\u001b[0;34m)\u001b[0m\u001b[0;34m\u001b[0m\u001b[0;34m\u001b[0m\u001b[0m\n\u001b[0m\u001b[1;32m     90\u001b[0m         \u001b[0;32mif\u001b[0m \u001b[0msubstitute\u001b[0m\u001b[0;34m:\u001b[0m\u001b[0;34m\u001b[0m\u001b[0;34m\u001b[0m\u001b[0m\n\u001b[1;32m     91\u001b[0m             \u001b[0mr\u001b[0m \u001b[0;34m=\u001b[0m \u001b[0mJAML\u001b[0m\u001b[0;34m.\u001b[0m\u001b[0mexpand_dict\u001b[0m\u001b[0;34m(\u001b[0m\u001b[0mr\u001b[0m\u001b[0;34m,\u001b[0m \u001b[0mcontext\u001b[0m\u001b[0;34m)\u001b[0m\u001b[0;34m\u001b[0m\u001b[0;34m\u001b[0m\u001b[0m\n",
      "\u001b[0;32m/usr/local/lib/python3.9/site-packages/yaml/__init__.py\u001b[0m in \u001b[0;36mload\u001b[0;34m(stream, Loader)\u001b[0m\n\u001b[1;32m    112\u001b[0m     \u001b[0mloader\u001b[0m \u001b[0;34m=\u001b[0m \u001b[0mLoader\u001b[0m\u001b[0;34m(\u001b[0m\u001b[0mstream\u001b[0m\u001b[0;34m)\u001b[0m\u001b[0;34m\u001b[0m\u001b[0;34m\u001b[0m\u001b[0m\n\u001b[1;32m    113\u001b[0m     \u001b[0;32mtry\u001b[0m\u001b[0;34m:\u001b[0m\u001b[0;34m\u001b[0m\u001b[0;34m\u001b[0m\u001b[0m\n\u001b[0;32m--> 114\u001b[0;31m         \u001b[0;32mreturn\u001b[0m \u001b[0mloader\u001b[0m\u001b[0;34m.\u001b[0m\u001b[0mget_single_data\u001b[0m\u001b[0;34m(\u001b[0m\u001b[0;34m)\u001b[0m\u001b[0;34m\u001b[0m\u001b[0;34m\u001b[0m\u001b[0m\n\u001b[0m\u001b[1;32m    115\u001b[0m     \u001b[0;32mfinally\u001b[0m\u001b[0;34m:\u001b[0m\u001b[0;34m\u001b[0m\u001b[0;34m\u001b[0m\u001b[0m\n\u001b[1;32m    116\u001b[0m         \u001b[0mloader\u001b[0m\u001b[0;34m.\u001b[0m\u001b[0mdispose\u001b[0m\u001b[0;34m(\u001b[0m\u001b[0;34m)\u001b[0m\u001b[0;34m\u001b[0m\u001b[0;34m\u001b[0m\u001b[0m\n",
      "\u001b[0;32m/usr/local/lib/python3.9/site-packages/yaml/constructor.py\u001b[0m in \u001b[0;36mget_single_data\u001b[0;34m(self)\u001b[0m\n\u001b[1;32m     49\u001b[0m         \u001b[0mnode\u001b[0m \u001b[0;34m=\u001b[0m \u001b[0mself\u001b[0m\u001b[0;34m.\u001b[0m\u001b[0mget_single_node\u001b[0m\u001b[0;34m(\u001b[0m\u001b[0;34m)\u001b[0m\u001b[0;34m\u001b[0m\u001b[0;34m\u001b[0m\u001b[0m\n\u001b[1;32m     50\u001b[0m         \u001b[0;32mif\u001b[0m \u001b[0mnode\u001b[0m \u001b[0;32mis\u001b[0m \u001b[0;32mnot\u001b[0m \u001b[0;32mNone\u001b[0m\u001b[0;34m:\u001b[0m\u001b[0;34m\u001b[0m\u001b[0;34m\u001b[0m\u001b[0m\n\u001b[0;32m---> 51\u001b[0;31m             \u001b[0;32mreturn\u001b[0m \u001b[0mself\u001b[0m\u001b[0;34m.\u001b[0m\u001b[0mconstruct_document\u001b[0m\u001b[0;34m(\u001b[0m\u001b[0mnode\u001b[0m\u001b[0;34m)\u001b[0m\u001b[0;34m\u001b[0m\u001b[0;34m\u001b[0m\u001b[0m\n\u001b[0m\u001b[1;32m     52\u001b[0m         \u001b[0;32mreturn\u001b[0m \u001b[0;32mNone\u001b[0m\u001b[0;34m\u001b[0m\u001b[0;34m\u001b[0m\u001b[0m\n\u001b[1;32m     53\u001b[0m \u001b[0;34m\u001b[0m\u001b[0m\n",
      "\u001b[0;32m/usr/local/lib/python3.9/site-packages/yaml/constructor.py\u001b[0m in \u001b[0;36mconstruct_document\u001b[0;34m(self, node)\u001b[0m\n\u001b[1;32m     53\u001b[0m \u001b[0;34m\u001b[0m\u001b[0m\n\u001b[1;32m     54\u001b[0m     \u001b[0;32mdef\u001b[0m \u001b[0mconstruct_document\u001b[0m\u001b[0;34m(\u001b[0m\u001b[0mself\u001b[0m\u001b[0;34m,\u001b[0m \u001b[0mnode\u001b[0m\u001b[0;34m)\u001b[0m\u001b[0;34m:\u001b[0m\u001b[0;34m\u001b[0m\u001b[0;34m\u001b[0m\u001b[0m\n\u001b[0;32m---> 55\u001b[0;31m         \u001b[0mdata\u001b[0m \u001b[0;34m=\u001b[0m \u001b[0mself\u001b[0m\u001b[0;34m.\u001b[0m\u001b[0mconstruct_object\u001b[0m\u001b[0;34m(\u001b[0m\u001b[0mnode\u001b[0m\u001b[0;34m)\u001b[0m\u001b[0;34m\u001b[0m\u001b[0;34m\u001b[0m\u001b[0m\n\u001b[0m\u001b[1;32m     56\u001b[0m         \u001b[0;32mwhile\u001b[0m \u001b[0mself\u001b[0m\u001b[0;34m.\u001b[0m\u001b[0mstate_generators\u001b[0m\u001b[0;34m:\u001b[0m\u001b[0;34m\u001b[0m\u001b[0;34m\u001b[0m\u001b[0m\n\u001b[1;32m     57\u001b[0m             \u001b[0mstate_generators\u001b[0m \u001b[0;34m=\u001b[0m \u001b[0mself\u001b[0m\u001b[0;34m.\u001b[0m\u001b[0mstate_generators\u001b[0m\u001b[0;34m\u001b[0m\u001b[0;34m\u001b[0m\u001b[0m\n",
      "\u001b[0;32m/usr/local/lib/python3.9/site-packages/yaml/constructor.py\u001b[0m in \u001b[0;36mconstruct_object\u001b[0;34m(self, node, deep)\u001b[0m\n\u001b[1;32m     98\u001b[0m                     \u001b[0mconstructor\u001b[0m \u001b[0;34m=\u001b[0m \u001b[0mself\u001b[0m\u001b[0;34m.\u001b[0m\u001b[0m__class__\u001b[0m\u001b[0;34m.\u001b[0m\u001b[0mconstruct_mapping\u001b[0m\u001b[0;34m\u001b[0m\u001b[0;34m\u001b[0m\u001b[0m\n\u001b[1;32m     99\u001b[0m         \u001b[0;32mif\u001b[0m \u001b[0mtag_suffix\u001b[0m \u001b[0;32mis\u001b[0m \u001b[0;32mNone\u001b[0m\u001b[0;34m:\u001b[0m\u001b[0;34m\u001b[0m\u001b[0;34m\u001b[0m\u001b[0m\n\u001b[0;32m--> 100\u001b[0;31m             \u001b[0mdata\u001b[0m \u001b[0;34m=\u001b[0m \u001b[0mconstructor\u001b[0m\u001b[0;34m(\u001b[0m\u001b[0mself\u001b[0m\u001b[0;34m,\u001b[0m \u001b[0mnode\u001b[0m\u001b[0;34m)\u001b[0m\u001b[0;34m\u001b[0m\u001b[0;34m\u001b[0m\u001b[0m\n\u001b[0m\u001b[1;32m    101\u001b[0m         \u001b[0;32melse\u001b[0m\u001b[0;34m:\u001b[0m\u001b[0;34m\u001b[0m\u001b[0;34m\u001b[0m\u001b[0m\n\u001b[1;32m    102\u001b[0m             \u001b[0mdata\u001b[0m \u001b[0;34m=\u001b[0m \u001b[0mconstructor\u001b[0m\u001b[0;34m(\u001b[0m\u001b[0mself\u001b[0m\u001b[0;34m,\u001b[0m \u001b[0mtag_suffix\u001b[0m\u001b[0;34m,\u001b[0m \u001b[0mnode\u001b[0m\u001b[0;34m)\u001b[0m\u001b[0;34m\u001b[0m\u001b[0;34m\u001b[0m\u001b[0m\n",
      "\u001b[0;32m~/Documents/git_stuff/jina/jina/jaml/__init__.py\u001b[0m in \u001b[0;36m_from_yaml\u001b[0;34m(cls, constructor, node)\u001b[0m\n\u001b[1;32m    420\u001b[0m         \u001b[0;32mfrom\u001b[0m \u001b[0;34m.\u001b[0m\u001b[0mparsers\u001b[0m \u001b[0;32mimport\u001b[0m \u001b[0mget_parser\u001b[0m\u001b[0;34m\u001b[0m\u001b[0;34m\u001b[0m\u001b[0m\n\u001b[1;32m    421\u001b[0m \u001b[0;34m\u001b[0m\u001b[0m\n\u001b[0;32m--> 422\u001b[0;31m         \u001b[0;32mreturn\u001b[0m \u001b[0mget_parser\u001b[0m\u001b[0;34m(\u001b[0m\u001b[0mcls\u001b[0m\u001b[0;34m,\u001b[0m \u001b[0mversion\u001b[0m\u001b[0;34m=\u001b[0m\u001b[0mdata\u001b[0m\u001b[0;34m.\u001b[0m\u001b[0mget\u001b[0m\u001b[0;34m(\u001b[0m\u001b[0;34m'version'\u001b[0m\u001b[0;34m,\u001b[0m \u001b[0;32mNone\u001b[0m\u001b[0;34m)\u001b[0m\u001b[0;34m)\u001b[0m\u001b[0;34m.\u001b[0m\u001b[0mparse\u001b[0m\u001b[0;34m(\u001b[0m\u001b[0mcls\u001b[0m\u001b[0;34m,\u001b[0m \u001b[0mdata\u001b[0m\u001b[0;34m)\u001b[0m\u001b[0;34m\u001b[0m\u001b[0;34m\u001b[0m\u001b[0m\n\u001b[0m\u001b[1;32m    423\u001b[0m \u001b[0;34m\u001b[0m\u001b[0m\n\u001b[1;32m    424\u001b[0m     \u001b[0;32mdef\u001b[0m \u001b[0msave_config\u001b[0m\u001b[0;34m(\u001b[0m\u001b[0mself\u001b[0m\u001b[0;34m,\u001b[0m \u001b[0mfilename\u001b[0m\u001b[0;34m:\u001b[0m \u001b[0mOptional\u001b[0m\u001b[0;34m[\u001b[0m\u001b[0mstr\u001b[0m\u001b[0;34m]\u001b[0m \u001b[0;34m=\u001b[0m \u001b[0;32mNone\u001b[0m\u001b[0;34m)\u001b[0m\u001b[0;34m:\u001b[0m\u001b[0;34m\u001b[0m\u001b[0;34m\u001b[0m\u001b[0m\n",
      "\u001b[0;32m~/Documents/git_stuff/jina/jina/jaml/parsers/executor/legacy.py\u001b[0m in \u001b[0;36mparse\u001b[0;34m(self, cls, data)\u001b[0m\n\u001b[1;32m     66\u001b[0m         \u001b[0mcls\u001b[0m\u001b[0;34m.\u001b[0m\u001b[0m_init_from_yaml\u001b[0m \u001b[0;34m=\u001b[0m \u001b[0;32mTrue\u001b[0m\u001b[0;34m\u001b[0m\u001b[0;34m\u001b[0m\u001b[0m\n\u001b[1;32m     67\u001b[0m         \u001b[0;31m# tmp_p = {kk: expand_env_var(vv) for kk, vv in data.get('with', {}).items()}\u001b[0m\u001b[0;34m\u001b[0m\u001b[0;34m\u001b[0m\u001b[0;34m\u001b[0m\u001b[0m\n\u001b[0;32m---> 68\u001b[0;31m         obj = cls(\n\u001b[0m\u001b[1;32m     69\u001b[0m             \u001b[0;34m**\u001b[0m\u001b[0mdata\u001b[0m\u001b[0;34m.\u001b[0m\u001b[0mget\u001b[0m\u001b[0;34m(\u001b[0m\u001b[0;34m'with'\u001b[0m\u001b[0;34m,\u001b[0m \u001b[0;34m{\u001b[0m\u001b[0;34m}\u001b[0m\u001b[0;34m)\u001b[0m\u001b[0;34m,\u001b[0m\u001b[0;34m\u001b[0m\u001b[0;34m\u001b[0m\u001b[0m\n\u001b[1;32m     70\u001b[0m             \u001b[0mmetas\u001b[0m\u001b[0;34m=\u001b[0m\u001b[0mdata\u001b[0m\u001b[0;34m.\u001b[0m\u001b[0mget\u001b[0m\u001b[0;34m(\u001b[0m\u001b[0;34m'metas'\u001b[0m\u001b[0;34m,\u001b[0m \u001b[0;34m{\u001b[0m\u001b[0;34m}\u001b[0m\u001b[0;34m)\u001b[0m\u001b[0;34m,\u001b[0m\u001b[0;34m\u001b[0m\u001b[0;34m\u001b[0m\u001b[0m\n",
      "\u001b[0;31mTypeError\u001b[0m: __init__() missing 2 required positional arguments: 'bar' and 'weight'"
     ]
    }
   ],
   "source": [
    "Executor.load_config('y.yml')"
   ]
  },
  {
   "cell_type": "code",
   "execution_count": 40,
   "id": "united-citizen",
   "metadata": {
    "scrolled": false
   },
   "outputs": [
    {
     "data": {
      "text/plain": [
       "{'_init_kwargs_dict': {},\n",
       " 'metas': namespace(name='awesomeness',\n",
       "           description='my first awesome executor',\n",
       "           workspace=None,\n",
       "           py_modules=None),\n",
       " 'requests': {'/random_work': <function __main__.MyExecutor.foo(self, **kwargs)>},\n",
       " 'bar': 123,\n",
       " 'is_updated': False}"
      ]
     },
     "execution_count": 40,
     "metadata": {},
     "output_type": "execute_result"
    }
   ],
   "source": [
    "ex.__dict__"
   ]
  },
  {
   "cell_type": "code",
   "execution_count": null,
   "id": "split-receptor",
   "metadata": {},
   "outputs": [],
   "source": []
  },
  {
   "cell_type": "markdown",
   "id": "intermediate-analysis",
   "metadata": {},
   "source": [
    "# Executor Built-in Features\n"
   ]
  },
  {
   "cell_type": "code",
   "execution_count": 124,
   "id": "under-copyright",
   "metadata": {},
   "outputs": [
    {
     "data": {
      "text/plain": [
       "{'pod0': '3e4855cf-8df1-4aa7-85cd-48272de19121'}"
      ]
     },
     "execution_count": 124,
     "metadata": {},
     "output_type": "execute_result"
    }
   ],
   "source": [
    "f.workspace_id"
   ]
  },
  {
   "cell_type": "code",
   "execution_count": 126,
   "id": "narrative-cheese",
   "metadata": {},
   "outputs": [],
   "source": [
    "#ex.workspace"
   ]
  },
  {
   "cell_type": "markdown",
   "id": "casual-milwaukee",
   "metadata": {},
   "source": [
    "## Merging"
   ]
  },
  {
   "cell_type": "code",
   "execution_count": 128,
   "id": "legendary-trauma",
   "metadata": {},
   "outputs": [],
   "source": [
    "from jina import Executor, requests, Flow, Document\n",
    "\n",
    "\n",
    "class C(Executor):\n",
    "\n",
    "  @requests\n",
    "  def foo(self, docs, **kwargs):\n",
    "    # 6 docs\n",
    "    return docs\n",
    "\n",
    "\n",
    "class B(Executor):\n",
    "\n",
    "  @requests\n",
    "  def foo(self, docs, **kwargs):\n",
    "    # 3 docs\n",
    "    for idx, d in enumerate(docs):\n",
    "      d.text = f'hello {idx}'\n",
    "\n",
    "\n",
    "class A(Executor):\n",
    "\n",
    "  @requests\n",
    "  def A(self, docs, **kwargs):\n",
    "    # 3 docs\n",
    "    for idx, d in enumerate(docs):\n",
    "      d.text = f'world {idx}'\n",
    "\n",
    "\n",
    "f = Flow().add(uses=A).add(uses=B, needs='gateway').add(uses=C, needs=['pod0', 'pod1'])\n"
   ]
  },
  {
   "cell_type": "code",
   "execution_count": 129,
   "id": "gorgeous-recipe",
   "metadata": {
    "scrolled": true
   },
   "outputs": [
    {
     "name": "stdout",
     "output_type": "stream",
     "text": [
      "           pod0@10262[I]:starting jina.peapods.runtimes.zmq.zed.ZEDRuntime...\n",
      "           pod0@10262[I]:input \u001b[33mtcp://0.0.0.0:49979\u001b[0m (SUB_CONNECT) output \u001b[33mtcp://0.0.0.0:49974\u001b[0m (PUSH_CONNECT) control over \u001b[33mtcp://0.0.0.0:49965\u001b[0m (PAIR_BIND)\n",
      "           pod1@10263[I]:starting jina.peapods.runtimes.zmq.zed.ZEDRuntime...\n",
      "           pod1@10263[I]:input \u001b[33mtcp://0.0.0.0:49979\u001b[0m (SUB_CONNECT) output \u001b[33mtcp://0.0.0.0:49974\u001b[0m (PUSH_CONNECT) control over \u001b[33mtcp://0.0.0.0:49969\u001b[0m (PAIR_BIND)\n",
      "           JINA@10262[S]:\u001b[32msuccessfully built A from a yaml config\u001b[0m\n",
      "           pod2@10264[I]:starting jina.peapods.runtimes.zmq.zed.ZEDRuntime...\n",
      "           pod2@10264[I]:input \u001b[33mtcp://0.0.0.0:49974\u001b[0m (PULL_BIND) output \u001b[33mtcp://0.0.0.0:49975\u001b[0m (PUSH_BIND) control over \u001b[33mtcp://0.0.0.0:49973\u001b[0m (PAIR_BIND)\n",
      "           pod0@8930[S]:\u001b[32mready and listening\u001b[0m\n",
      "        gateway@10265[I]:starting jina.peapods.runtimes.asyncio.grpc.GRPCRuntime...\n",
      "           JINA@10263[S]:\u001b[32msuccessfully built B from a yaml config\u001b[0m\n",
      "           pod1@8930[S]:\u001b[32mready and listening\u001b[0m\n",
      "        gateway@10265[I]:input \u001b[33mtcp://0.0.0.0:49975\u001b[0m (PULL_CONNECT) output \u001b[33mtcp://0.0.0.0:49979\u001b[0m (PUB_BIND) control over \u001b[33mipc:///var/folders/lh/njnz5hj934d2js334v28z1x00000gn/T/tmp_zbwe8td\u001b[0m (PAIR_BIND)\n",
      "           JINA@10264[S]:\u001b[32msuccessfully built C from a yaml config\u001b[0m\n",
      "        gateway@10265[S]:\u001b[32mGRPCRuntime is listening at: 0.0.0.0:49980\u001b[0m\n",
      "           pod2@8930[S]:\u001b[32mready and listening\u001b[0m\n",
      "        gateway@8930[S]:\u001b[32mready and listening\u001b[0m\n",
      "           Flow@8930[I]:4 Pods (i.e. 4 Peas) are running in this Flow\n",
      "           Flow@8930[S]:\u001b[32m🎉 Flow is ready to use, accepting \u001b[1mgRPC request\u001b[0m\u001b[0m\n",
      "           Flow@8930[I]:\n",
      "\t🖥️ Local access:\t\u001b[4m\u001b[36mtcp://0.0.0.0:49980\u001b[0m\n",
      "\t🔒 Private network:\t\u001b[4m\u001b[36mtcp://192.168.1.138:49980\u001b[0m\n",
      "\t🌐 Public address:\t\u001b[4m\u001b[36mtcp://213.195.113.21:49980\u001b[0m\n",
      "         Client@8930[S]:\u001b[32mconnected to the gateway at 0.0.0.0:49980!\u001b[0m\n",
      "\u001b[36mdata\u001b[0m |\u001b[32m█\u001b[0m                   | 📃      0 ⏱️ 0.0s 🐎 0.0/s      0   requestsdata ...\t        gateway@10265[I]:prefetching 50 requests...\n",
      "        gateway@10265[W]:\u001b[40m\u001b[33mif this takes too long, you may want to take smaller \"--prefetch\" or ask client to reduce \"--request-size\"\u001b[0m\n",
      "        gateway@10265[I]:prefetching 50 requests takes 0 seconds (0.01s)\n",
      "           pod0@10262[I]:recv DataRequest  from gateway\u001b[32m▸\u001b[0mpod0/ZEDRuntime\u001b[32m▸\u001b[0m⚐\n",
      "           pod1@10263[I]:recv DataRequest  from gateway\u001b[32m▸\u001b[0mpod1/ZEDRuntime\u001b[32m▸\u001b[0m⚐\n",
      "           pod1@10263[I]:#sent: 0 #recv: 1 sent_size: 0 Bytes recv_size: 433 Bytes\n",
      "           pod0@10262[I]:#sent: 0 #recv: 1 sent_size: 0 Bytes recv_size: 433 Bytes\n",
      "           pod2@10264[I]:recv DataRequest (1/2 parts) from gateway\u001b[32m▸\u001b[0mpod1/ZEDRuntime\u001b[32m▸\u001b[0mpod2/ZEDRuntime\u001b[32m▸\u001b[0m⚐\n",
      "           pod2@10264[I]:recv DataRequest (2/2 parts) from gateway\u001b[32m▸\u001b[0mpod0/ZEDRuntime\u001b[32m▸\u001b[0mpod2/ZEDRuntime\u001b[32m▸\u001b[0m⚐\n",
      "           pod2@10264[I]:#sent: 0 #recv: 2 sent_size: 0 Bytes recv_size: 1.1 KB\n",
      "{'requestId': 'd83507fb-0e30-4140-8059-10a4c7c746a8', 'data': {'docs': [{'id': '481cc040-ae7c-11eb-bb5c-acde48001122', 'mimeType': 'text/plain', 'text': 'world 0'}, {'id': '481cc608-ae7c-11eb-bb5c-acde48001122', 'mimeType': 'text/plain', 'text': 'world 1'}, {'id': '481cc6da-ae7c-11eb-bb5c-acde48001122', 'mimeType': 'text/plain', 'text': 'world 2'}, {'id': '481cc040-ae7c-11eb-bb5c-acde48001122', 'mimeType': 'text/plain', 'text': 'hello 0'}, {'id': '481cc608-ae7c-11eb-bb5c-acde48001122', 'mimeType': 'text/plain', 'text': 'hello 1'}, {'id': '481cc6da-ae7c-11eb-bb5c-acde48001122', 'mimeType': 'text/plain', 'text': 'hello 2'}]}, 'header': {}, 'routes': [{'pod': 'gateway', 'podId': '6179d8c6-4061-4c0c-81f2-1f4cd54dc1fd', 'startTime': '2021-05-06T15:03:57.422684Z', 'endTime': '2021-05-06T15:03:57.445311Z'}, {'pod': 'pod1/ZEDRuntime', 'podId': 'aac9bd5e-5473-4c1e-af48-288f65b2a0c8', 'startTime': '2021-05-06T15:03:57.425731Z', 'endTime': '2021-05-06T15:03:57.432481Z'}, {'pod': 'pod0/ZEDRuntime', 'podId': '5a14e5be-7211-4ea7-aa9b-a7315a1d2d30', 'startTime': '2021-05-06T15:03:57.425745Z', 'endTime': '2021-05-06T15:03:57.432911Z'}, {'pod': 'pod2/ZEDRuntime', 'podId': 'e61a8b10-0a05-40f9-b5a4-5ea46af6b0b5', 'startTime': '2021-05-06T15:03:57.437860Z', 'endTime': '2021-05-06T15:03:57.443501Z'}, {'pod': 'gateway', 'podId': 'd9a9c44f-6532-4297-8eae-a036857665ef', 'startTime': '2021-05-06T15:03:57.445028Z'}], 'status': {}}\n",
      "\u001b[36mdata\u001b[0m |\u001b[32m█\u001b[0m                   | 📃    100 ⏱️ 0.0s 🐎 2543.1/s      1   requestsdata takes 0 seconds (0.04s)\u001b[0m\n",
      "        gateway@10265[I]:#sent: 1 #recv: 1 sent_size: 502 Bytes recv_size: 935 Bytes\n",
      "\t\u001b[32m✅ done in ⏱ 0 seconds 🐎 2397.4/s\u001b[0m\n",
      "        gateway@8930[S]:\u001b[32mterminated\u001b[0m\n",
      "           pod2@10264[I]:recv ControlRequest  from ctl\u001b[32m▸\u001b[0mpod2/ZEDRuntime\u001b[32m▸\u001b[0m⚐\n",
      "           pod2@10264[I]:#sent: 2 #recv: 3 sent_size: 1.2 KB recv_size: 1.3 KB\n",
      "           pod2@8930[S]:\u001b[32mterminated\u001b[0m\n",
      "           pod1@10263[I]:recv ControlRequest  from ctl\u001b[32m▸\u001b[0mpod1/ZEDRuntime\u001b[32m▸\u001b[0m⚐\n",
      "           pod1@10263[I]:#sent: 2 #recv: 2 sent_size: 896 Bytes recv_size: 572 Bytes\n",
      "           pod1@8930[S]:\u001b[32mterminated\u001b[0m\n",
      "           pod0@10262[I]:recv ControlRequest  from ctl\u001b[32m▸\u001b[0mpod0/ZEDRuntime\u001b[32m▸\u001b[0m⚐\n",
      "           pod0@10262[I]:#sent: 2 #recv: 2 sent_size: 896 Bytes recv_size: 572 Bytes\n",
      "           pod0@8930[S]:\u001b[32mterminated\u001b[0m\n",
      "           Flow@8930[S]:\u001b[32mflow is closed and all resources are released, current build level is EMPTY\u001b[0m\n"
     ]
    }
   ],
   "source": [
    "with f:\n",
    "  f.post(on='/some_endpoint',\n",
    "         inputs=[Document() for _ in range(3)],\n",
    "         on_done=print)\n"
   ]
  },
  {
   "cell_type": "code",
   "execution_count": 131,
   "id": "helpful-mainland",
   "metadata": {},
   "outputs": [],
   "source": [
    "class C(Executor):\n",
    "  @requests\n",
    "  def foo(self, docs, **kwargs):\n",
    "    for d in docs:\n",
    "      d.text += '!!!'\n",
    "    \n",
    "    return docs"
   ]
  },
  {
   "cell_type": "code",
   "execution_count": 143,
   "id": "opposed-house",
   "metadata": {
    "scrolled": false
   },
   "outputs": [
    {
     "name": "stdout",
     "output_type": "stream",
     "text": [
      "           pod0@10318[I]:starting jina.peapods.runtimes.zmq.zed.ZEDRuntime...\n",
      "           pod0@10318[I]:input \u001b[33mtcp://0.0.0.0:50172\u001b[0m (SUB_CONNECT) output \u001b[33mtcp://0.0.0.0:49974\u001b[0m (PUSH_CONNECT) control over \u001b[33mtcp://0.0.0.0:49965\u001b[0m (PAIR_BIND)\n",
      "           pod1@10319[I]:starting jina.peapods.runtimes.zmq.zed.ZEDRuntime...\n",
      "           pod1@10319[I]:input \u001b[33mtcp://0.0.0.0:50172\u001b[0m (SUB_CONNECT) output \u001b[33mtcp://0.0.0.0:49974\u001b[0m (PUSH_CONNECT) control over \u001b[33mtcp://0.0.0.0:49969\u001b[0m (PAIR_BIND)\n",
      "           JINA@10318[S]:\u001b[32msuccessfully built A from a yaml config\u001b[0m\n",
      "           pod2@10320[I]:starting jina.peapods.runtimes.zmq.zed.ZEDRuntime...\n",
      "           JINA@10319[S]:\u001b[32msuccessfully built B from a yaml config\u001b[0m\n",
      "           pod2@10320[I]:input \u001b[33mtcp://0.0.0.0:49974\u001b[0m (PULL_BIND) output \u001b[33mtcp://0.0.0.0:49975\u001b[0m (PUSH_BIND) control over \u001b[33mtcp://0.0.0.0:49973\u001b[0m (PAIR_BIND)\n",
      "           pod0@8930[S]:\u001b[32mready and listening\u001b[0m\n",
      "           pod1@8930[S]:\u001b[32mready and listening\u001b[0m\n",
      "        gateway@10321[I]:starting jina.peapods.runtimes.asyncio.grpc.GRPCRuntime...\n",
      "           JINA@10320[S]:\u001b[32msuccessfully built C from a yaml config\u001b[0m\n",
      "           pod2@8930[S]:\u001b[32mready and listening\u001b[0m\n",
      "        gateway@10321[I]:input \u001b[33mtcp://0.0.0.0:49975\u001b[0m (PULL_CONNECT) output \u001b[33mtcp://0.0.0.0:50172\u001b[0m (PUB_BIND) control over \u001b[33mipc:///var/folders/lh/njnz5hj934d2js334v28z1x00000gn/T/tmp93gzzs2s\u001b[0m (PAIR_BIND)\n",
      "        gateway@10321[S]:\u001b[32mGRPCRuntime is listening at: 0.0.0.0:50173\u001b[0m\n",
      "        gateway@8930[S]:\u001b[32mready and listening\u001b[0m\n",
      "           Flow@8930[I]:4 Pods (i.e. 4 Peas) are running in this Flow\n",
      "           Flow@8930[S]:\u001b[32m🎉 Flow is ready to use, accepting \u001b[1mgRPC request\u001b[0m\u001b[0m\n",
      "           Flow@8930[I]:\n",
      "\t🖥️ Local access:\t\u001b[4m\u001b[36mtcp://0.0.0.0:50173\u001b[0m\n",
      "\t🔒 Private network:\t\u001b[4m\u001b[36mtcp://192.168.1.138:50173\u001b[0m\n",
      "\t🌐 Public address:\t\u001b[4m\u001b[36mtcp://213.195.113.21:50173\u001b[0m\n",
      "         Client@8930[S]:\u001b[32mconnected to the gateway at 0.0.0.0:50173!\u001b[0m\n",
      "\u001b[36mdata\u001b[0m |\u001b[32m█\u001b[0m                   | 📃      0 ⏱️ 0.0s 🐎 0.0/s      0   requestsdata ...\t        gateway@10321[I]:prefetching 50 requests...\n",
      "        gateway@10321[W]:\u001b[40m\u001b[33mif this takes too long, you may want to take smaller \"--prefetch\" or ask client to reduce \"--request-size\"\u001b[0m\n",
      "        gateway@10321[I]:prefetching 50 requests takes 0 seconds (0.01s)\n",
      "           pod0@10318[I]:recv DataRequest  from gateway\u001b[32m▸\u001b[0mpod0/ZEDRuntime\u001b[32m▸\u001b[0m⚐\n",
      "           pod1@10319[I]:recv DataRequest  from gateway\u001b[32m▸\u001b[0mpod1/ZEDRuntime\u001b[32m▸\u001b[0m⚐\n",
      "           pod1@10319[I]:#sent: 0 #recv: 1 sent_size: 0 Bytes recv_size: 426 Bytes\n",
      "           pod0@10318[I]:#sent: 0 #recv: 1 sent_size: 0 Bytes recv_size: 426 Bytes\n",
      "           pod2@10320[I]:recv DataRequest (1/2 parts) from gateway\u001b[32m▸\u001b[0mpod1/ZEDRuntime\u001b[32m▸\u001b[0mpod2/ZEDRuntime\u001b[32m▸\u001b[0m⚐\n",
      "           pod2@10320[I]:recv DataRequest (2/2 parts) from gateway\u001b[32m▸\u001b[0mpod0/ZEDRuntime\u001b[32m▸\u001b[0mpod2/ZEDRuntime\u001b[32m▸\u001b[0m⚐\n",
      "           pod2@10320[I]:#sent: 0 #recv: 2 sent_size: 0 Bytes recv_size: 1.0 KB\n",
      "{'requestId': 'ff0d714f-3115-40ac-9ecb-f9e9c672ad86', 'data': {'docs': [{'id': 'a94a9d2e-ae7c-11eb-bb5c-acde48001122', 'mimeType': 'text/plain', 'text': 'world 0!!!'}, {'id': 'a94a9fb8-ae7c-11eb-bb5c-acde48001122', 'mimeType': 'text/plain', 'text': 'world 1!!!'}, {'id': 'a94a9d2e-ae7c-11eb-bb5c-acde48001122', 'mimeType': 'text/plain', 'text': 'hello 0!!!'}, {'id': 'a94a9fb8-ae7c-11eb-bb5c-acde48001122', 'mimeType': 'text/plain', 'text': 'hello 1!!!'}]}, 'header': {}, 'routes': [{'pod': 'gateway', 'podId': '6179d8c6-4061-4c0c-81f2-1f4cd54dc1fd', 'startTime': '2021-05-06T15:06:41.133722Z', 'endTime': '2021-05-06T15:06:41.155716Z'}, {'pod': 'pod0/ZEDRuntime', 'podId': '022ff491-3081-4feb-92fa-bdf8567f4e4c', 'startTime': '2021-05-06T15:06:41.135758Z', 'endTime': '2021-05-06T15:06:41.143099Z'}, {'pod': 'pod1/ZEDRuntime', 'podId': 'c391f698-5003-4af5-b03b-3319a1b93ec5', 'startTime': '2021-05-06T15:06:41.135810Z', 'endTime': '2021-05-06T15:06:41.142546Z'}, {'pod': 'pod2/ZEDRuntime', 'podId': '24774094-6a25-4040-9b4a-d680613ee858', 'startTime': '2021-05-06T15:06:41.148956Z', 'endTime': '2021-05-06T15:06:41.154417Z'}, {'pod': 'gateway', 'podId': '058694d4-5503-43c7-b5c6-18c9c8f05fc4', 'startTime': '2021-05-06T15:06:41.155674Z'}], 'status': {}}\n",
      "\u001b[36mdata\u001b[0m |\u001b[32m█\u001b[0m                   | 📃    100 ⏱️ 0.0s 🐎 3100.0/s      1   requestsdata takes 0 seconds (0.03s)\u001b[0m\n",
      "        gateway@10321[I]:#sent: 1 #recv: 1 sent_size: 495 Bytes recv_size: 818 Bytes\n",
      "\t\u001b[32m✅ done in ⏱ 0 seconds 🐎 2943.3/s\u001b[0m\n",
      "        gateway@8930[S]:\u001b[32mterminated\u001b[0m\n",
      "           pod2@10320[I]:recv ControlRequest  from ctl\u001b[32m▸\u001b[0mpod2/ZEDRuntime\u001b[32m▸\u001b[0m⚐\n",
      "           pod2@10320[I]:#sent: 2 #recv: 3 sent_size: 1.1 KB recv_size: 1.1 KB\n",
      "           pod2@8930[S]:\u001b[32mterminated\u001b[0m\n",
      "           pod1@10319[I]:recv ControlRequest  from ctl\u001b[32m▸\u001b[0mpod1/ZEDRuntime\u001b[32m▸\u001b[0m⚐\n",
      "           pod1@10319[I]:#sent: 2 #recv: 2 sent_size: 831 Bytes recv_size: 565 Bytes\n",
      "           pod1@8930[S]:\u001b[32mterminated\u001b[0m\n",
      "           pod0@10318[I]:recv ControlRequest  from ctl\u001b[32m▸\u001b[0mpod0/ZEDRuntime\u001b[32m▸\u001b[0m⚐\n",
      "           pod0@10318[I]:#sent: 2 #recv: 2 sent_size: 831 Bytes recv_size: 565 Bytes\n",
      "           pod0@8930[S]:\u001b[32mterminated\u001b[0m\n",
      "           Flow@8930[S]:\u001b[32mflow is closed and all resources are released, current build level is EMPTY\u001b[0m\n"
     ]
    }
   ],
   "source": [
    "x = DocumentArray([Document(text='hi'),Document(text='Chen')])\n",
    "\n",
    "with f:\n",
    "  f.post(on='/some_endpoint',\n",
    "         inputs=x,\n",
    "         on_done=print)"
   ]
  },
  {
   "cell_type": "code",
   "execution_count": 145,
   "id": "scientific-advisory",
   "metadata": {},
   "outputs": [
    {
     "data": {
      "text/plain": [
       "('hi', 'Chen')"
      ]
     },
     "execution_count": 145,
     "metadata": {},
     "output_type": "execute_result"
    }
   ],
   "source": [
    "# HOw can we get the updated documents?\n",
    "x[0].text,x[1].text"
   ]
  },
  {
   "cell_type": "code",
   "execution_count": null,
   "id": "varying-microphone",
   "metadata": {},
   "outputs": [],
   "source": []
  }
 ],
 "metadata": {
  "kernelspec": {
   "display_name": "Python 3",
   "language": "python",
   "name": "python3"
  },
  "language_info": {
   "codemirror_mode": {
    "name": "ipython",
    "version": 3
   },
   "file_extension": ".py",
   "mimetype": "text/x-python",
   "name": "python",
   "nbconvert_exporter": "python",
   "pygments_lexer": "ipython3",
   "version": "3.9.2"
  }
 },
 "nbformat": 4,
 "nbformat_minor": 5
}
