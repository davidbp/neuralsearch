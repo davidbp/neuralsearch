{
 "cells": [
  {
   "cell_type": "markdown",
   "metadata": {
    "toc": true
   },
   "source": [
    "<h1>Table of Contents<span class=\"tocSkip\"></span></h1>\n",
    "<div class=\"toc\"><ul class=\"toc-item\"><li><span><a href=\"#Audio-search\" data-toc-modified-id=\"Audio-search-1\"><span class=\"toc-item-num\">1&nbsp;&nbsp;</span>Audio search</a></span></li><li><span><a href=\"#Load-audio-using-Librosa\" data-toc-modified-id=\"Load-audio-using-Librosa-2\"><span class=\"toc-item-num\">2&nbsp;&nbsp;</span>Load audio using Librosa</a></span></li><li><span><a href=\"#Load-audio-using-audio2numpy\" data-toc-modified-id=\"Load-audio-using-audio2numpy-3\"><span class=\"toc-item-num\">3&nbsp;&nbsp;</span>Load audio using audio2numpy</a></span></li></ul></div>"
   ]
  },
  {
   "cell_type": "markdown",
   "metadata": {},
   "source": [
    "## Audio search "
   ]
  },
  {
   "cell_type": "code",
   "execution_count": 75,
   "metadata": {
    "ExecuteTime": {
     "end_time": "2021-05-21T14:10:07.211218Z",
     "start_time": "2021-05-21T14:10:06.817371Z"
    }
   },
   "outputs": [],
   "source": [
    "import soundfile\n",
    "import matplotlib.pyplot as plt"
   ]
  },
  {
   "cell_type": "code",
   "execution_count": 10,
   "metadata": {
    "ExecuteTime": {
     "end_time": "2021-05-21T12:21:43.382546Z",
     "start_time": "2021-05-21T12:21:43.377304Z"
    }
   },
   "outputs": [],
   "source": [
    "from typing import Any, Dict, List\n",
    "\n",
    "class VggishSegmenter():\n",
    "    def __init__(self, window_length_secs=0.025, hop_length_secs=0.010, *args, **kwargs):\n",
    "        \"\"\"\n",
    "        :param frame_length: the number of samples in each frame\n",
    "        :param hop_length: number of samples to advance between frames\n",
    "        \"\"\"\n",
    "        self.window_length_secs = window_length_secs\n",
    "        self.hop_length_secs = hop_length_secs\n",
    "\n",
    "    def segment(self, uri, buffer, *args, **kwargs) -> List[Dict]:\n",
    "        result = []\n",
    "        # load the data\n",
    "        data, sample_rate = self.read_wav(uri, buffer)\n",
    "        if data is None:\n",
    "            return result\n",
    "        # slice the wav array\n",
    "        mel_data = self.wav2mel(data, sample_rate)\n",
    "        for idx, blob in enumerate(mel_data):\n",
    "            self.logger.debug(f'blob: {blob.shape}')\n",
    "            result.append(dict(offset=idx, weight=1.0, blob=blob))\n",
    "        return result\n",
    "\n",
    "    def wav2mel(self, blob, sample_rate):\n",
    "        self.logger.debug(f'blob: {blob.shape}, sample_rate: {sample_rate}')\n",
    "        mel_spec = waveform_to_examples(blob, sample_rate).squeeze()\n",
    "        self.logger.debug(f'mel_spec: {mel_spec.shape}')\n",
    "        return mel_spec\n",
    "\n",
    "    def read_wav(self, uri, buffer):\n",
    "        import soundfile as sf\n",
    "        wav_data = None\n",
    "        sample_rate = None\n",
    "        if buffer:\n",
    "            wav_data, sample_rate = sf.read(io.BytesIO(buffer), dtype='int16')\n",
    "        elif uri:\n",
    "            wav_data, sample_rate = sf.read(uri, dtype='int16')\n",
    "        else:\n",
    "            return None, None\n",
    "        self.logger.debug(f'sample_rate: {sample_rate}')\n",
    "        if len(wav_data.shape) > 1:\n",
    "            wav_data = np.mean(wav_data, axis=1)\n",
    "        data = wav_data / 32768.0\n",
    "        return data, sample_rate\n",
    "\n"
   ]
  },
  {
   "cell_type": "code",
   "execution_count": 12,
   "metadata": {
    "ExecuteTime": {
     "end_time": "2021-05-21T12:21:45.134378Z",
     "start_time": "2021-05-21T12:21:45.132609Z"
    }
   },
   "outputs": [],
   "source": [
    "import soundfile as sf"
   ]
  },
  {
   "cell_type": "code",
   "execution_count": 13,
   "metadata": {
    "ExecuteTime": {
     "end_time": "2021-05-21T12:21:47.937125Z",
     "start_time": "2021-05-21T12:21:47.933828Z"
    }
   },
   "outputs": [
    {
     "data": {
      "text/plain": [
       "{'AIFF': 'AIFF (Apple/SGI)',\n",
       " 'AU': 'AU (Sun/NeXT)',\n",
       " 'AVR': 'AVR (Audio Visual Research)',\n",
       " 'CAF': 'CAF (Apple Core Audio File)',\n",
       " 'FLAC': 'FLAC (Free Lossless Audio Codec)',\n",
       " 'HTK': 'HTK (HMM Tool Kit)',\n",
       " 'SVX': 'IFF (Amiga IFF/SVX8/SV16)',\n",
       " 'MAT4': 'MAT4 (GNU Octave 2.0 / Matlab 4.2)',\n",
       " 'MAT5': 'MAT5 (GNU Octave 2.1 / Matlab 5.0)',\n",
       " 'MPC2K': 'MPC (Akai MPC 2k)',\n",
       " 'OGG': 'OGG (OGG Container format)',\n",
       " 'PAF': 'PAF (Ensoniq PARIS)',\n",
       " 'PVF': 'PVF (Portable Voice Format)',\n",
       " 'RAW': 'RAW (header-less)',\n",
       " 'RF64': 'RF64 (RIFF 64)',\n",
       " 'SD2': 'SD2 (Sound Designer II)',\n",
       " 'SDS': 'SDS (Midi Sample Dump Standard)',\n",
       " 'IRCAM': 'SF (Berkeley/IRCAM/CARL)',\n",
       " 'VOC': 'VOC (Creative Labs)',\n",
       " 'W64': 'W64 (SoundFoundry WAVE 64)',\n",
       " 'WAV': 'WAV (Microsoft)',\n",
       " 'NIST': 'WAV (NIST Sphere)',\n",
       " 'WAVEX': 'WAVEX (Microsoft)',\n",
       " 'WVE': 'WVE (Psion Series 3)',\n",
       " 'XI': 'XI (FastTracker 2)'}"
      ]
     },
     "execution_count": 13,
     "metadata": {},
     "output_type": "execute_result"
    }
   ],
   "source": [
    "sf.available_formats()"
   ]
  },
  {
   "cell_type": "code",
   "execution_count": 22,
   "metadata": {
    "ExecuteTime": {
     "end_time": "2021-05-21T12:22:56.854060Z",
     "start_time": "2021-05-21T12:22:56.852133Z"
    }
   },
   "outputs": [],
   "source": [
    "import audio2numpy"
   ]
  },
  {
   "cell_type": "code",
   "execution_count": 25,
   "metadata": {
    "ExecuteTime": {
     "end_time": "2021-05-21T12:23:30.325359Z",
     "start_time": "2021-05-21T12:23:30.209285Z"
    }
   },
   "outputs": [
    {
     "name": "stdout",
     "output_type": "stream",
     "text": [
      "02_working_with_chunks.ipynb intro-Copy1.ipynb\r\n",
      "ex_01_audio.ipynb            intro.ipynb\r\n",
      "executor_save_bug.py         y.yml\r\n"
     ]
    }
   ],
   "source": [
    "!ls"
   ]
  },
  {
   "cell_type": "code",
   "execution_count": 26,
   "metadata": {
    "ExecuteTime": {
     "end_time": "2021-05-21T12:23:31.571918Z",
     "start_time": "2021-05-21T12:23:31.569962Z"
    }
   },
   "outputs": [],
   "source": [
    "import os"
   ]
  },
  {
   "cell_type": "code",
   "execution_count": 29,
   "metadata": {
    "ExecuteTime": {
     "end_time": "2021-05-21T12:23:53.149703Z",
     "start_time": "2021-05-21T12:23:53.147850Z"
    }
   },
   "outputs": [],
   "source": [
    "base_path = os.path.expanduser('~')"
   ]
  },
  {
   "cell_type": "code",
   "execution_count": 43,
   "metadata": {
    "ExecuteTime": {
     "end_time": "2021-05-21T12:25:16.502668Z",
     "start_time": "2021-05-21T12:25:16.500018Z"
    }
   },
   "outputs": [
    {
     "data": {
      "text/plain": [
       "'/Users/davidbuchaca1/Downloads/audios_jina'"
      ]
     },
     "execution_count": 43,
     "metadata": {},
     "output_type": "execute_result"
    }
   ],
   "source": [
    "data_mp3_path = os.path.join(base_path,'Downloads','audios_jina')\n",
    "data_mp3_path"
   ]
  },
  {
   "cell_type": "code",
   "execution_count": 46,
   "metadata": {
    "ExecuteTime": {
     "end_time": "2021-05-21T12:25:24.208440Z",
     "start_time": "2021-05-21T12:25:24.206703Z"
    }
   },
   "outputs": [],
   "source": [
    "#ls {data_mp3_path}"
   ]
  },
  {
   "cell_type": "code",
   "execution_count": 81,
   "metadata": {
    "ExecuteTime": {
     "end_time": "2021-05-21T14:12:17.482953Z",
     "start_time": "2021-05-21T14:12:17.476951Z"
    }
   },
   "outputs": [],
   "source": [
    "audio_mp3 = os.path.join(data_mp3_path, '4221451916190016245190.mp3')"
   ]
  },
  {
   "cell_type": "markdown",
   "metadata": {},
   "source": [
    "## Load audio using Librosa"
   ]
  },
  {
   "cell_type": "code",
   "execution_count": 82,
   "metadata": {
    "ExecuteTime": {
     "end_time": "2021-05-21T14:12:42.127305Z",
     "start_time": "2021-05-21T14:12:41.316127Z"
    }
   },
   "outputs": [],
   "source": [
    "import librosa as lr"
   ]
  },
  {
   "cell_type": "code",
   "execution_count": 83,
   "metadata": {
    "ExecuteTime": {
     "end_time": "2021-05-21T14:13:01.847517Z",
     "start_time": "2021-05-21T14:12:56.447458Z"
    }
   },
   "outputs": [
    {
     "name": "stderr",
     "output_type": "stream",
     "text": [
      "/Users/davidbuchaca1/opt/anaconda3/lib/python3.8/site-packages/librosa/core/audio.py:162: UserWarning: PySoundFile failed. Trying audioread instead.\n",
      "  warnings.warn(\"PySoundFile failed. Trying audioread instead.\")\n"
     ]
    },
    {
     "name": "stdout",
     "output_type": "stream",
     "text": [
      "Sample frequency: 22050\n"
     ]
    }
   ],
   "source": [
    "audio, sfreq = lr.load(audio_mp3)\n",
    "time = np.arange(0, len(audio)) /sfreq\n",
    "\n",
    "print(f'Sample frequency: {sfreq}')"
   ]
  },
  {
   "cell_type": "code",
   "execution_count": 84,
   "metadata": {
    "ExecuteTime": {
     "end_time": "2021-05-21T14:13:07.247751Z",
     "start_time": "2021-05-21T14:13:06.819863Z"
    }
   },
   "outputs": [
    {
     "data": {
      "text/plain": [
       "[Text(0.5, 0, 'Time (s)'), Text(0, 0.5, 'Sound Amplitude')]"
      ]
     },
     "execution_count": 84,
     "metadata": {},
     "output_type": "execute_result"
    },
    {
     "data": {
      "image/png": "[encoded data removed]",
      "text/plain": [
       "<Figure size 432x288 with 1 Axes>"
      ]
     },
     "metadata": {
      "needs_background": "light"
     },
     "output_type": "display_data"
    }
   ],
   "source": [
    "fig,ax = plt.subplots()\n",
    "ax.plot(time, audio)\n",
    "ax.set(xlabel='Time (s)', ylabel='Sound Amplitude')"
   ]
  },
  {
   "cell_type": "code",
   "execution_count": 87,
   "metadata": {
    "ExecuteTime": {
     "end_time": "2021-05-21T14:29:12.224828Z",
     "start_time": "2021-05-21T14:29:12.220680Z"
    }
   },
   "outputs": [
    {
     "data": {
      "text/plain": [
       "(3882816,)"
      ]
     },
     "execution_count": 87,
     "metadata": {},
     "output_type": "execute_result"
    }
   ],
   "source": [
    "audio.shape"
   ]
  },
  {
   "cell_type": "code",
   "execution_count": null,
   "metadata": {},
   "outputs": [],
   "source": []
  },
  {
   "cell_type": "code",
   "execution_count": null,
   "metadata": {},
   "outputs": [],
   "source": []
  },
  {
   "cell_type": "code",
   "execution_count": null,
   "metadata": {},
   "outputs": [],
   "source": []
  },
  {
   "cell_type": "markdown",
   "metadata": {},
   "source": [
    "## Load audio using audio2numpy"
   ]
  },
  {
   "cell_type": "code",
   "execution_count": 80,
   "metadata": {
    "ExecuteTime": {
     "end_time": "2021-05-21T14:12:09.062711Z",
     "start_time": "2021-05-21T14:12:08.814107Z"
    }
   },
   "outputs": [],
   "source": [
    "audio_mp3 = audio2numpy.loader.audio_from_file(audio_mp3)"
   ]
  },
  {
   "cell_type": "markdown",
   "metadata": {},
   "source": [
    "why this is a 2d array?"
   ]
  },
  {
   "cell_type": "code",
   "execution_count": 77,
   "metadata": {
    "ExecuteTime": {
     "end_time": "2021-05-21T14:10:18.194899Z",
     "start_time": "2021-05-21T14:10:17.449355Z"
    }
   },
   "outputs": [
    {
     "data": {
      "text/plain": [
       "[<matplotlib.lines.Line2D at 0x7fa900b31cd0>]"
      ]
     },
     "execution_count": 77,
     "metadata": {},
     "output_type": "execute_result"
    },
    {
     "data": {
      "image/png": "[encoded data removed]",
      "text/plain": [
       "<Figure size 432x288 with 1 Axes>"
      ]
     },
     "metadata": {
      "needs_background": "light"
     },
     "output_type": "display_data"
    }
   ],
   "source": [
    "plt.plot(audio_mp3[0][:,0])"
   ]
  },
  {
   "cell_type": "code",
   "execution_count": 78,
   "metadata": {
    "ExecuteTime": {
     "end_time": "2021-05-21T14:10:20.563417Z",
     "start_time": "2021-05-21T14:10:19.777639Z"
    }
   },
   "outputs": [
    {
     "data": {
      "text/plain": [
       "[<matplotlib.lines.Line2D at 0x7fa9019793d0>]"
      ]
     },
     "execution_count": 78,
     "metadata": {},
     "output_type": "execute_result"
    },
    {
     "data": {
      "image/png": "[encoded data removed]",
      "text/plain": [
       "<Figure size 432x288 with 1 Axes>"
      ]
     },
     "metadata": {
      "needs_background": "light"
     },
     "output_type": "display_data"
    }
   ],
   "source": [
    "plt.plot(audio_mp3[0][:,1])"
   ]
  },
  {
   "cell_type": "code",
   "execution_count": 70,
   "metadata": {
    "ExecuteTime": {
     "end_time": "2021-05-21T12:56:32.129829Z",
     "start_time": "2021-05-21T12:56:32.127064Z"
    }
   },
   "outputs": [
    {
     "name": "stdout",
     "output_type": "stream",
     "text": [
      "Help on function audio_from_file in module audio2numpy.loader:\n",
      "\n",
      "audio_from_file(path, offset=0, duration=None, dtype=<class 'numpy.float32'>)\n",
      "    Load an audio buffer using audioread.\n",
      "    This loads one block at a time, and then concatenates the results.\n",
      "    \n",
      "    Parameters\n",
      "    ----------\n",
      "    path : string\n",
      "        File path\n",
      "    offset : int (optional)\n",
      "        sample offset of the loading start\n",
      "    duration : None or float (optional)\n",
      "        duration in seconds\n",
      "    dtype : numpy dtype (optional)\n",
      "        data type. By default float32\n",
      "\n"
     ]
    }
   ],
   "source": [
    "help(audio2numpy.loader.audio_from_file)"
   ]
  },
  {
   "cell_type": "code",
   "execution_count": null,
   "metadata": {},
   "outputs": [],
   "source": []
  },
  {
   "cell_type": "code",
   "execution_count": null,
   "metadata": {},
   "outputs": [],
   "source": []
  },
  {
   "cell_type": "code",
   "execution_count": null,
   "metadata": {},
   "outputs": [],
   "source": []
  }
 ],
 "metadata": {
  "kernelspec": {
   "display_name": "Python 3",
   "language": "python",
   "name": "python3"
  },
  "language_info": {
   "codemirror_mode": {
    "name": "ipython",
    "version": 3
   },
   "file_extension": ".py",
   "mimetype": "text/x-python",
   "name": "python",
   "nbconvert_exporter": "python",
   "pygments_lexer": "ipython3",
   "version": "3.8.5"
  },
  "toc": {
   "base_numbering": 1,
   "nav_menu": {},
   "number_sections": true,
   "sideBar": true,
   "skip_h1_title": false,
   "title_cell": "Table of Contents",
   "title_sidebar": "Contents",
   "toc_cell": true,
   "toc_position": {
    "height": "calc(100% - 180px)",
    "left": "10px",
    "top": "150px",
    "width": "165px"
   },
   "toc_section_display": true,
   "toc_window_display": true
  },
  "varInspector": {
   "cols": {
    "lenName": 16,
    "lenType": 16,
    "lenVar": 40
   },
   "kernels_config": {
    "python": {
     "delete_cmd_postfix": "",
     "delete_cmd_prefix": "del ",
     "library": "var_list.py",
     "varRefreshCmd": "print(var_dic_list())"
    },
    "r": {
     "delete_cmd_postfix": ") ",
     "delete_cmd_prefix": "rm(",
     "library": "var_list.r",
     "varRefreshCmd": "cat(var_dic_list()) "
    }
   },
   "types_to_exclude": [
    "module",
    "function",
    "builtin_function_or_method",
    "instance",
    "_Feature"
   ],
   "window_display": false
  }
 },
 "nbformat": 4,
 "nbformat_minor": 4
}
