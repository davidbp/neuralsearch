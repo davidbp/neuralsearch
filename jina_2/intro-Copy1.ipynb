{
 "cells": [
  {
   "cell_type": "code",
   "execution_count": 1,
   "id": "placed-corner",
   "metadata": {
    "scrolled": true
   },
   "outputs": [],
   "source": [
    "#%load_ext autoreload\n",
    "#%autoreload 2\n",
    "    \n",
    "#import jina"
   ]
  },
  {
   "cell_type": "code",
   "execution_count": 30,
   "id": "demonstrated-publication",
   "metadata": {},
   "outputs": [
    {
     "name": "stdout",
     "output_type": "stream",
     "text": [
      "reg_cls_set={'jina.executors.BaseExecutor', '__main__.MyExecutor'}\n",
      "reg_cls_set={'jina.executors.BaseExecutor', '__main__.MyExecutor'}\n"
     ]
    }
   ],
   "source": [
    "from jina import Executor\n",
    "\n",
    "class MyExecutor(Executor):\n",
    "\n",
    "  def __init__(self, bar: int, weight, *args, **kwargs):\n",
    "    super().__init__( *args ,**kwargs)\n",
    "    self.bar = bar\n",
    "    self.weight = weight\n",
    "\n",
    "  def foo(self, **kwargs):\n",
    "    pass\n",
    "\n",
    "y_literal = \"\"\"\n",
    "jtype: MyExecutor\n",
    "with:\n",
    "  bar: 123\n",
    "  weight: 23\n",
    "metas:\n",
    "  name: awesomeness\n",
    "  description: my first awesome executor\n",
    "requests:\n",
    "  /random_work: foo\n",
    "\"\"\""
   ]
  },
  {
   "cell_type": "code",
   "execution_count": 31,
   "id": "acting-japan",
   "metadata": {},
   "outputs": [
    {
     "name": "stdout",
     "output_type": "stream",
     "text": [
      "tmp_list=[]\n",
      "\n",
      "\n",
      "taboo={'args', 'metas', 'self', 'description', 'requests', 'py_modules', 'workspace', 'kwargs', 'name'}\n",
      "\n",
      "\n",
      "all_pars=OrderedDict([('self', <Parameter \"self\">), ('metas', <Parameter \"metas: Optional[Dict] = None\">), ('requests', <Parameter \"requests: Optional[Dict] = None\">)])\n",
      "\n",
      "\n",
      "kwargs={'metas': {'name': 'awesomeness', 'description': 'my first awesome executor', 'workspace': None, 'py_modules': None}, 'requests': {'/random_work': 'foo'}}\n",
      "\n",
      "\n",
      "args=()\n",
      "\n",
      "\n",
      "getattr(self, store_args_kwargs,None)=None\n",
      "           JINA@2009[S]:\u001b[32msuccessfully built MyExecutor from a yaml config\u001b[0m\n",
      "tmp_list=[]\n",
      "\n",
      "\n",
      "taboo={'args', 'metas', 'self', 'description', 'requests', 'py_modules', 'workspace', 'kwargs', 'name'}\n",
      "\n",
      "\n",
      "all_pars=OrderedDict([('self', <Parameter \"self\">), ('metas', <Parameter \"metas: Optional[Dict] = None\">), ('requests', <Parameter \"requests: Optional[Dict] = None\">)])\n",
      "\n",
      "\n",
      "kwargs={'metas': {'name': 'awesomeness', 'description': 'my first awesome executor', 'workspace': None, 'py_modules': None}, 'requests': {'/random_work': 'foo'}}\n",
      "\n",
      "\n",
      "args=()\n",
      "\n",
      "\n",
      "getattr(self, store_args_kwargs,None)=None\n",
      "           JINA@2009[S]:\u001b[32msuccessfully built MyExecutor from a yaml config\u001b[0m\n"
     ]
    }
   ],
   "source": [
    "ex = Executor.load_config(y_literal)"
   ]
  },
  {
   "cell_type": "code",
   "execution_count": 32,
   "id": "global-stranger",
   "metadata": {},
   "outputs": [],
   "source": [
    "ex.save_config('y.yml')"
   ]
  },
  {
   "cell_type": "code",
   "execution_count": 33,
   "id": "solar-infrared",
   "metadata": {},
   "outputs": [],
   "source": [
    "#ex.bar,ex.weight"
   ]
  },
  {
   "cell_type": "code",
   "execution_count": 34,
   "id": "specified-executive",
   "metadata": {},
   "outputs": [
    {
     "data": {
      "text/plain": [
       "{'_init_kwargs_dict': {},\n",
       " 'metas': namespace(name='awesomeness',\n",
       "           description='my first awesome executor',\n",
       "           workspace=None,\n",
       "           py_modules=None),\n",
       " 'requests': {'/random_work': <function __main__.MyExecutor.foo(self, **kwargs)>},\n",
       " 'bar': 123,\n",
       " 'weight': 23,\n",
       " 'is_updated': False}"
      ]
     },
     "execution_count": 34,
     "metadata": {},
     "output_type": "execute_result"
    },
    {
     "data": {
      "text/plain": [
       "{'_init_kwargs_dict': {},\n",
       " 'metas': namespace(name='awesomeness',\n",
       "           description='my first awesome executor',\n",
       "           workspace=None,\n",
       "           py_modules=None),\n",
       " 'requests': {'/random_work': <function __main__.MyExecutor.foo(self, **kwargs)>},\n",
       " 'bar': 123,\n",
       " 'weight': 23,\n",
       " 'is_updated': False}"
      ]
     },
     "execution_count": 34,
     "metadata": {},
     "output_type": "execute_result"
    }
   ],
   "source": [
    "ex.__dict__"
   ]
  },
  {
   "cell_type": "code",
   "execution_count": 35,
   "id": "varied-butter",
   "metadata": {
    "scrolled": true
   },
   "outputs": [
    {
     "name": "stdout",
     "output_type": "stream",
     "text": [
      "!MyExecutor\n",
      "metas:\n",
      "  name: awesomeness\n",
      "  description: my first awesome executor\n",
      "requests:\n",
      "  /random_work: foo\n",
      "!MyExecutor\n",
      "metas:\n",
      "  name: awesomeness\n",
      "  description: my first awesome executor\n",
      "requests:\n",
      "  /random_work: foo\n"
     ]
    }
   ],
   "source": [
    "# saved yml does not seem to store bar to disk\n",
    "!cat y.yml"
   ]
  },
  {
   "cell_type": "code",
   "execution_count": 8,
   "id": "optical-scoop",
   "metadata": {},
   "outputs": [
    {
     "name": "stdout",
     "output_type": "stream",
     "text": [
      "tmp_list=['bar', 'weight']\n",
      "\n",
      "\n",
      "taboo={'args', 'metas', 'self', 'description', 'requests', 'py_modules', 'workspace', 'kwargs', 'name'}\n",
      "\n",
      "\n",
      "all_pars=OrderedDict([('self', <Parameter \"self\">), ('bar', <Parameter \"bar: int\">), ('weight', <Parameter \"weight\">), ('args', <Parameter \"*args\">), ('kwargs', <Parameter \"**kwargs\">)])\n",
      "\n",
      "\n",
      "kwargs={'bar': 123, 'weight': 23, 'metas': {'name': 'awesomeness', 'description': 'my first awesome executor', 'workspace': None, 'py_modules': None}, 'requests': {'/random_work': 'foo'}}\n",
      "\n",
      "\n",
      "args=()\n",
      "\n",
      "\n",
      "getattr(self, store_args_kwargs,None)=None\n",
      "tmp_list=[]\n",
      "\n",
      "\n",
      "taboo={'args', 'metas', 'self', 'description', 'requests', 'py_modules', 'workspace', 'kwargs', 'name'}\n",
      "\n",
      "\n",
      "all_pars=OrderedDict([('self', <Parameter \"self\">), ('metas', <Parameter \"metas: Optional[Dict] = None\">), ('requests', <Parameter \"requests: Optional[Dict] = None\">)])\n",
      "\n",
      "\n",
      "kwargs={'metas': {'name': 'awesomeness', 'description': 'my first awesome executor', 'workspace': None, 'py_modules': None}, 'requests': {'/random_work': 'foo'}}\n",
      "\n",
      "\n",
      "args=()\n",
      "\n",
      "\n",
      "getattr(self, store_args_kwargs,None)=None\n",
      "           JINA@2009[S]:\u001b[32msuccessfully built MyExecutor from a yaml config\u001b[0m\n",
      "tmp_list=['bar', 'weight']\n",
      "\n",
      "\n",
      "taboo={'args', 'metas', 'self', 'description', 'requests', 'py_modules', 'workspace', 'kwargs', 'name'}\n",
      "\n",
      "\n",
      "all_pars=OrderedDict([('self', <Parameter \"self\">), ('bar', <Parameter \"bar: int\">), ('weight', <Parameter \"weight\">), ('args', <Parameter \"*args\">), ('kwargs', <Parameter \"**kwargs\">)])\n",
      "\n",
      "\n",
      "kwargs={'bar': 123, 'weight': 23, 'metas': {'name': 'awesomeness', 'description': 'my first awesome executor', 'workspace': None, 'py_modules': None}, 'requests': {'/random_work': 'foo'}}\n",
      "\n",
      "\n",
      "args=()\n",
      "\n",
      "\n",
      "getattr(self, store_args_kwargs,None)=None\n",
      "tmp_list=[]\n",
      "\n",
      "\n",
      "taboo={'args', 'metas', 'self', 'description', 'requests', 'py_modules', 'workspace', 'kwargs', 'name'}\n",
      "\n",
      "\n",
      "all_pars=OrderedDict([('self', <Parameter \"self\">), ('metas', <Parameter \"metas: Optional[Dict] = None\">), ('requests', <Parameter \"requests: Optional[Dict] = None\">)])\n",
      "\n",
      "\n",
      "kwargs={'metas': {'name': 'awesomeness', 'description': 'my first awesome executor', 'workspace': None, 'py_modules': None}, 'requests': {'/random_work': 'foo'}}\n",
      "\n",
      "\n",
      "args=()\n",
      "\n",
      "\n",
      "getattr(self, store_args_kwargs,None)=None\n",
      "           JINA@2009[S]:\u001b[32msuccessfully built MyExecutor from a yaml config\u001b[0m\n"
     ]
    },
    {
     "data": {
      "text/plain": [
       "<__main__.MyExecutor at 0x13302ec70>"
      ]
     },
     "execution_count": 8,
     "metadata": {},
     "output_type": "execute_result"
    },
    {
     "data": {
      "text/plain": [
       "<__main__.MyExecutor at 0x13302ec70>"
      ]
     },
     "execution_count": 8,
     "metadata": {},
     "output_type": "execute_result"
    }
   ],
   "source": [
    "Executor.load_config('y.yml')"
   ]
  },
  {
   "cell_type": "code",
   "execution_count": 9,
   "id": "united-citizen",
   "metadata": {
    "scrolled": false
   },
   "outputs": [
    {
     "data": {
      "text/plain": [
       "{'_init_kwargs_dict': {'bar': 123, 'weight': 23},\n",
       " 'metas': namespace(name='awesomeness',\n",
       "           description='my first awesome executor',\n",
       "           workspace=None,\n",
       "           py_modules=None),\n",
       " 'requests': {'/random_work': <function __main__.MyExecutor.foo(self, **kwargs)>},\n",
       " 'bar': 123,\n",
       " 'weight': 23,\n",
       " 'is_updated': False}"
      ]
     },
     "execution_count": 9,
     "metadata": {},
     "output_type": "execute_result"
    },
    {
     "data": {
      "text/plain": [
       "{'_init_kwargs_dict': {'bar': 123, 'weight': 23},\n",
       " 'metas': namespace(name='awesomeness',\n",
       "           description='my first awesome executor',\n",
       "           workspace=None,\n",
       "           py_modules=None),\n",
       " 'requests': {'/random_work': <function __main__.MyExecutor.foo(self, **kwargs)>},\n",
       " 'bar': 123,\n",
       " 'weight': 23,\n",
       " 'is_updated': False}"
      ]
     },
     "execution_count": 9,
     "metadata": {},
     "output_type": "execute_result"
    }
   ],
   "source": [
    "ex.__dict__"
   ]
  },
  {
   "cell_type": "code",
   "execution_count": 10,
   "id": "curious-germany",
   "metadata": {
    "scrolled": true
   },
   "outputs": [
    {
     "name": "stdout",
     "output_type": "stream",
     "text": [
      "!MyExecutor\n",
      "with:\n",
      "  bar: 123\n",
      "  weight: 23\n",
      "metas:\n",
      "  name: awesomeness\n",
      "  description: my first awesome executor\n",
      "requests:\n",
      "  /random_work: foo\n",
      "!MyExecutor\n",
      "with:\n",
      "  bar: 123\n",
      "  weight: 23\n",
      "metas:\n",
      "  name: awesomeness\n",
      "  description: my first awesome executor\n",
      "requests:\n",
      "  /random_work: foo\n"
     ]
    }
   ],
   "source": [
    "!cat y.yml"
   ]
  },
  {
   "cell_type": "markdown",
   "id": "intermediate-analysis",
   "metadata": {},
   "source": [
    "# Executor Built-in Features\n"
   ]
  },
  {
   "cell_type": "code",
   "execution_count": null,
   "id": "under-copyright",
   "metadata": {},
   "outputs": [],
   "source": [
    "f.workspace_id"
   ]
  },
  {
   "cell_type": "code",
   "execution_count": null,
   "id": "narrative-cheese",
   "metadata": {},
   "outputs": [],
   "source": [
    "#ex.workspace"
   ]
  },
  {
   "cell_type": "markdown",
   "id": "casual-milwaukee",
   "metadata": {},
   "source": [
    "## Merging"
   ]
  },
  {
   "cell_type": "code",
   "execution_count": null,
   "id": "legendary-trauma",
   "metadata": {},
   "outputs": [],
   "source": [
    "from jina import Executor, requests, Flow, Document\n",
    "\n",
    "\n",
    "class C(Executor):\n",
    "\n",
    "  @requests\n",
    "  def foo(self, docs, **kwargs):\n",
    "    # 6 docs\n",
    "    return docs\n",
    "\n",
    "\n",
    "class B(Executor):\n",
    "\n",
    "  @requests\n",
    "  def foo(self, docs, **kwargs):\n",
    "    # 3 docs\n",
    "    for idx, d in enumerate(docs):\n",
    "      d.text = f'hello {idx}'\n",
    "\n",
    "\n",
    "class A(Executor):\n",
    "\n",
    "  @requests\n",
    "  def A(self, docs, **kwargs):\n",
    "    # 3 docs\n",
    "    for idx, d in enumerate(docs):\n",
    "      d.text = f'world {idx}'\n",
    "\n",
    "\n",
    "f = Flow().add(uses=A).add(uses=B, needs='gateway').add(uses=C, needs=['pod0', 'pod1'])\n"
   ]
  },
  {
   "cell_type": "code",
   "execution_count": null,
   "id": "gorgeous-recipe",
   "metadata": {
    "scrolled": true
   },
   "outputs": [],
   "source": [
    "with f:\n",
    "  f.post(on='/some_endpoint',\n",
    "         inputs=[Document() for _ in range(3)],\n",
    "         on_done=print)\n"
   ]
  },
  {
   "cell_type": "code",
   "execution_count": null,
   "id": "helpful-mainland",
   "metadata": {},
   "outputs": [],
   "source": [
    "class C(Executor):\n",
    "  @requests\n",
    "  def foo(self, docs, **kwargs):\n",
    "    for d in docs:\n",
    "      d.text += '!!!'\n",
    "    \n",
    "    return docs"
   ]
  },
  {
   "cell_type": "code",
   "execution_count": null,
   "id": "opposed-house",
   "metadata": {
    "scrolled": false
   },
   "outputs": [],
   "source": [
    "x = DocumentArray([Document(text='hi'),Document(text='Chen')])\n",
    "\n",
    "with f:\n",
    "  f.post(on='/some_endpoint',\n",
    "         inputs=x,\n",
    "         on_done=print)"
   ]
  },
  {
   "cell_type": "code",
   "execution_count": null,
   "id": "scientific-advisory",
   "metadata": {},
   "outputs": [],
   "source": [
    "# HOw can we get the updated documents?\n",
    "x[0].text,x[1].text"
   ]
  },
  {
   "cell_type": "code",
   "execution_count": null,
   "id": "varying-microphone",
   "metadata": {},
   "outputs": [],
   "source": []
  }
 ],
 "metadata": {
  "kernelspec": {
   "display_name": "Python 3",
   "language": "python",
   "name": "python3"
  },
  "language_info": {
   "codemirror_mode": {
    "name": "ipython",
    "version": 3
   },
   "file_extension": ".py",
   "mimetype": "text/x-python",
   "name": "python",
   "nbconvert_exporter": "python",
   "pygments_lexer": "ipython3",
   "version": "3.9.2"
  }
 },
 "nbformat": 4,
 "nbformat_minor": 5
}
