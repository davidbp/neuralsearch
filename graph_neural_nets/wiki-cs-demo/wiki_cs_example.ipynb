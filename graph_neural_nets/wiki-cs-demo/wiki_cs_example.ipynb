{
 "cells": [
  {
   "cell_type": "markdown",
   "id": "dc1b40d1",
   "metadata": {},
   "source": [
    "\n",
    "### Example wiki cs dataset\n",
    "\n",
    "\n",
    "\n",
    "- https://pytorch-geometric.readthedocs.io/en/latest/_modules/torch_geometric/datasets/wikics.html"
   ]
  },
  {
   "cell_type": "code",
   "execution_count": 1,
   "id": "01fc4d33",
   "metadata": {},
   "outputs": [],
   "source": [
    "import json\n",
    "from itertools import chain\n",
    "\n",
    "import torch\n",
    "from torch_geometric.data import InMemoryDataset, Data, download_url\n"
   ]
  },
  {
   "cell_type": "code",
   "execution_count": 18,
   "id": "dd448f8d",
   "metadata": {},
   "outputs": [
    {
     "name": "stdout",
     "output_type": "stream",
     "text": [
      "\u001b[34mwiki-cs-dataset\u001b[m\u001b[m/       wiki_cs_example.ipynb\r\n"
     ]
    }
   ],
   "source": [
    "ls"
   ]
  },
  {
   "cell_type": "code",
   "execution_count": 9,
   "id": "3ae58a92",
   "metadata": {},
   "outputs": [],
   "source": [
    "#import wiki-cs-dataset"
   ]
  },
  {
   "cell_type": "code",
   "execution_count": 12,
   "id": "160e6e32",
   "metadata": {},
   "outputs": [],
   "source": [
    "from torch_geometric.datasets import wikics"
   ]
  },
  {
   "cell_type": "code",
   "execution_count": 19,
   "id": "0eaf7996",
   "metadata": {},
   "outputs": [
    {
     "name": "stdout",
     "output_type": "stream",
     "text": [
      "Downloading https://github.com/pmernyei/wiki-cs-dataset/raw/master/dataset/data.json\n",
      "Processing...\n",
      "Done!\n"
     ]
    }
   ],
   "source": [
    "dataset = wikics.WikiCS('./wiki-cs-dataset_autodownload')"
   ]
  },
  {
   "cell_type": "code",
   "execution_count": 25,
   "id": "e915fd08",
   "metadata": {},
   "outputs": [
    {
     "data": {
      "text/plain": [
       "Data(edge_index=[2, 297110], stopping_mask=[11701, 20], test_mask=[11701], train_mask=[11701, 20], val_mask=[11701, 20], x=[11701, 300], y=[11701])"
      ]
     },
     "execution_count": 25,
     "metadata": {},
     "output_type": "execute_result"
    }
   ],
   "source": [
    "dataset.data"
   ]
  },
  {
   "cell_type": "markdown",
   "id": "b1a8c844",
   "metadata": {},
   "source": [
    "### Dataset information"
   ]
  },
  {
   "cell_type": "code",
   "execution_count": 22,
   "id": "d3dbde76",
   "metadata": {},
   "outputs": [
    {
     "data": {
      "text/plain": [
       "10"
      ]
     },
     "execution_count": 22,
     "metadata": {},
     "output_type": "execute_result"
    }
   ],
   "source": [
    "dataset.num_classes"
   ]
  },
  {
   "cell_type": "code",
   "execution_count": 32,
   "id": "03033733",
   "metadata": {},
   "outputs": [
    {
     "data": {
      "text/plain": [
       "torch.Size([11701, 300])"
      ]
     },
     "execution_count": 32,
     "metadata": {},
     "output_type": "execute_result"
    }
   ],
   "source": [
    "# the 300 dimension corresponds to glove embebeddings for each word in the document averaged\n",
    "dataset.data.x.shape"
   ]
  },
  {
   "cell_type": "code",
   "execution_count": 43,
   "id": "8cb41d2d",
   "metadata": {},
   "outputs": [
    {
     "data": {
      "text/plain": [
       "torch.Size([11701])"
      ]
     },
     "execution_count": 43,
     "metadata": {},
     "output_type": "execute_result"
    }
   ],
   "source": [
    "dataset.data.y.shape"
   ]
  },
  {
   "cell_type": "code",
   "execution_count": 46,
   "id": "519177ff",
   "metadata": {},
   "outputs": [
    {
     "data": {
      "text/plain": [
       "tensor([0, 1, 2, 3, 4, 5, 6, 7, 8, 9])"
      ]
     },
     "execution_count": 46,
     "metadata": {},
     "output_type": "execute_result"
    }
   ],
   "source": [
    "dataset.data.y.unique()"
   ]
  },
  {
   "cell_type": "code",
   "execution_count": null,
   "id": "ee799ac7",
   "metadata": {},
   "outputs": [],
   "source": [
    "dataset."
   ]
  },
  {
   "cell_type": "code",
   "execution_count": 39,
   "id": "c6413306",
   "metadata": {},
   "outputs": [
    {
     "data": {
      "text/plain": [
       "torch.Size([2, 297110])"
      ]
     },
     "execution_count": 39,
     "metadata": {},
     "output_type": "execute_result"
    }
   ],
   "source": [
    "dataset.data.edge_index.shape"
   ]
  },
  {
   "cell_type": "code",
   "execution_count": 40,
   "id": "971e39f8",
   "metadata": {},
   "outputs": [
    {
     "data": {
      "text/plain": [
       "'wiki-cs-dataset_autodownload/processed'"
      ]
     },
     "execution_count": 40,
     "metadata": {},
     "output_type": "execute_result"
    }
   ],
   "source": [
    "dataset.processed_dir"
   ]
  },
  {
   "cell_type": "markdown",
   "id": "33ed445d",
   "metadata": {},
   "source": [
    "### Dataset metadata\n",
    "\n",
    "In the metadata.json file from wikipedia\n",
    "\n",
    "`https://en.wikipedia.org/wiki/Program_compatibility_date_range`\n",
    "\n",
    "- parse the titles form the dataset to get 11701 titles\n",
    "- construct a url for each document in the dataset with \n",
    "    - `f'https://en.wikipedia.org/wiki/{title}'`\n",
    "\n"
   ]
  },
  {
   "cell_type": "code",
   "execution_count": 47,
   "id": "a8254f14",
   "metadata": {},
   "outputs": [],
   "source": [
    "import pandas as pd"
   ]
  },
  {
   "cell_type": "code",
   "execution_count": 54,
   "id": "ffc1b9cd",
   "metadata": {},
   "outputs": [],
   "source": [
    "#df_metadata = pd.read_csv('wiki-cs-dataset/dataset/metadata.json')"
   ]
  },
  {
   "cell_type": "code",
   "execution_count": 56,
   "id": "40fa572d",
   "metadata": {},
   "outputs": [],
   "source": [
    "import json"
   ]
  },
  {
   "cell_type": "code",
   "execution_count": 58,
   "id": "4cd09083",
   "metadata": {},
   "outputs": [],
   "source": [
    "metadata = json.load(open('wiki-cs-dataset/dataset/metadata.json'))"
   ]
  },
  {
   "cell_type": "code",
   "execution_count": 63,
   "id": "e5e594f5",
   "metadata": {},
   "outputs": [
    {
     "data": {
      "text/plain": [
       "dict_keys(['labels', 'nodes'])"
      ]
     },
     "execution_count": 63,
     "metadata": {},
     "output_type": "execute_result"
    }
   ],
   "source": [
    "metadata.keys()"
   ]
  },
  {
   "cell_type": "code",
   "execution_count": 65,
   "id": "a4a81a5f",
   "metadata": {},
   "outputs": [
    {
     "data": {
      "text/plain": [
       "{'0': 'Computational linguistics',\n",
       " '1': 'Databases',\n",
       " '2': 'Operating systems',\n",
       " '3': 'Computer architecture',\n",
       " '4': 'Computer security',\n",
       " '5': 'Internet protocols',\n",
       " '6': 'Computer file systems',\n",
       " '7': 'Distributed computing architecture',\n",
       " '8': 'Web technology',\n",
       " '9': 'Programming language topics'}"
      ]
     },
     "execution_count": 65,
     "metadata": {},
     "output_type": "execute_result"
    }
   ],
   "source": [
    "metadata['labels']"
   ]
  },
  {
   "cell_type": "code",
   "execution_count": 70,
   "id": "0397f873",
   "metadata": {},
   "outputs": [
    {
     "data": {
      "text/plain": [
       "11701"
      ]
     },
     "execution_count": 70,
     "metadata": {},
     "output_type": "execute_result"
    }
   ],
   "source": [
    "len(metadata['nodes'])"
   ]
  },
  {
   "cell_type": "code",
   "execution_count": 77,
   "id": "13f6fea7",
   "metadata": {},
   "outputs": [
    {
     "data": {
      "text/plain": [
       "{'id': 43319405,\n",
       " 'title': 'Nokia_N77',\n",
       " 'label': 'Operating systems',\n",
       " 'outlinks': [5218,\n",
       "  167079,\n",
       "  282340,\n",
       "  1806488,\n",
       "  1806760,\n",
       "  3539455,\n",
       "  3913836,\n",
       "  3913934,\n",
       "  4927305,\n",
       "  5217234,\n",
       "  5224742,\n",
       "  5258682,\n",
       "  5694759,\n",
       "  5983889,\n",
       "  6293905,\n",
       "  6854605,\n",
       "  7307121,\n",
       "  8016028,\n",
       "  8819118,\n",
       "  8819363,\n",
       "  9486665,\n",
       "  9645061,\n",
       "  9966288,\n",
       "  13030776,\n",
       "  13776680,\n",
       "  14208015,\n",
       "  14245241,\n",
       "  14260687,\n",
       "  15717778,\n",
       "  15926731,\n",
       "  17751106,\n",
       "  18598241,\n",
       "  19991031,\n",
       "  20513380,\n",
       "  21390829,\n",
       "  21739978,\n",
       "  21858195,\n",
       "  22148480,\n",
       "  23241649,\n",
       "  24061104,\n",
       "  24200811,\n",
       "  24367789,\n",
       "  25808096,\n",
       "  26466273,\n",
       "  27127154,\n",
       "  27904677,\n",
       "  28323535,\n",
       "  28519784,\n",
       "  28868213,\n",
       "  28871557,\n",
       "  29193707,\n",
       "  30864246,\n",
       "  31483635,\n",
       "  31822809,\n",
       "  31832586,\n",
       "  32094489,\n",
       "  32168921,\n",
       "  22835526,\n",
       "  22835526,\n",
       "  2271282,\n",
       "  2271282,\n",
       "  2271282,\n",
       "  2271282,\n",
       "  2271282,\n",
       "  2271282,\n",
       "  2271282,\n",
       "  44969722,\n",
       "  44969722,\n",
       "  50757973,\n",
       "  54346863],\n",
       " 'tokens': ['nokia',\n",
       "  'n77',\n",
       "  'nokia',\n",
       "  'n77',\n",
       "  '3g',\n",
       "  'smartphone',\n",
       "  'nokia',\n",
       "  'introduced',\n",
       "  '12',\n",
       "  'february',\n",
       "  '2007',\n",
       "  'released',\n",
       "  'june',\n",
       "  '2007',\n",
       "  'runs',\n",
       "  'symbian',\n",
       "  '9.1',\n",
       "  's60',\n",
       "  '3rd',\n",
       "  'edition',\n",
       "  'n77',\n",
       "  'specs',\n",
       "  'somewhat',\n",
       "  'basic',\n",
       "  'compared',\n",
       "  'nseries',\n",
       "  'devices',\n",
       "  'time',\n",
       "  'included',\n",
       "  'dvb-h',\n",
       "  'television',\n",
       "  'tuner',\n",
       "  'stated',\n",
       "  'nokia',\n",
       "  'press',\n",
       "  'release',\n",
       "  'n77',\n",
       "  'designed',\n",
       "  'low-cost',\n",
       "  'mobile',\n",
       "  'tv',\n",
       "  'accelerate',\n",
       "  'dvb-h',\n",
       "  'adoption',\n",
       "  'sporting',\n",
       "  'candybar',\n",
       "  'design',\n",
       "  'similar',\n",
       "  'n73',\n",
       "  'company',\n",
       "  'second',\n",
       "  'dvb-h',\n",
       "  'device',\n",
       "  'n92',\n",
       "  'though',\n",
       "  'smaller',\n",
       "  'screen',\n",
       "  'n77',\n",
       "  'thus',\n",
       "  'available',\n",
       "  'limited',\n",
       "  'dvb-h',\n",
       "  'markets',\n",
       "  'hard',\n",
       "  'come']}"
      ]
     },
     "execution_count": 77,
     "metadata": {},
     "output_type": "execute_result"
    }
   ],
   "source": [
    "metadata['nodes'][40]"
   ]
  },
  {
   "cell_type": "code",
   "execution_count": null,
   "id": "1cecf318",
   "metadata": {},
   "outputs": [],
   "source": []
  },
  {
   "cell_type": "markdown",
   "id": "4e6151c1",
   "metadata": {},
   "source": [
    "### Defining a GCN"
   ]
  },
  {
   "cell_type": "code",
   "execution_count": null,
   "id": "d0aa378c",
   "metadata": {},
   "outputs": [],
   "source": []
  },
  {
   "cell_type": "code",
   "execution_count": null,
   "id": "33080d72",
   "metadata": {},
   "outputs": [],
   "source": []
  },
  {
   "cell_type": "code",
   "execution_count": null,
   "id": "8b25d241",
   "metadata": {},
   "outputs": [],
   "source": []
  }
 ],
 "metadata": {
  "kernelspec": {
   "display_name": "Python 3",
   "language": "python",
   "name": "python3"
  },
  "language_info": {
   "codemirror_mode": {
    "name": "ipython",
    "version": 3
   },
   "file_extension": ".py",
   "mimetype": "text/x-python",
   "name": "python",
   "nbconvert_exporter": "python",
   "pygments_lexer": "ipython3",
   "version": "3.8.8"
  }
 },
 "nbformat": 4,
 "nbformat_minor": 5
}
