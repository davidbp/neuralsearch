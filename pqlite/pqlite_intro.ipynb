{
 "cells": [
  {
   "cell_type": "markdown",
   "metadata": {
    "toc": true
   },
   "source": [
    "<h1>Table of Contents<span class=\"tocSkip\"></span></h1>\n",
    "<div class=\"toc\"><ul class=\"toc-item\"><li><span><a href=\"#Create-a-PQLite-instance-and-fit-it\" data-toc-modified-id=\"Create-a-PQLite-instance-and-fit-it-1\"><span class=\"toc-item-num\">1&nbsp;&nbsp;</span>Create a <code>PQLite</code> instance and fit it</a></span></li><li><span><a href=\"#Adding-data\" data-toc-modified-id=\"Adding-data-2\"><span class=\"toc-item-num\">2&nbsp;&nbsp;</span>Adding data</a></span><ul class=\"toc-item\"><li><span><a href=\"#Understanding-the-underlying-sqlite-connection\" data-toc-modified-id=\"Understanding-the-underlying-sqlite-connection-2.1\"><span class=\"toc-item-num\">2.1&nbsp;&nbsp;</span>Understanding the underlying sqlite connection</a></span></li></ul></li><li><span><a href=\"#Search-without-filtering\" data-toc-modified-id=\"Search-without-filtering-3\"><span class=\"toc-item-num\">3&nbsp;&nbsp;</span>Search without filtering</a></span></li><li><span><a href=\"#Search-with-filtering\" data-toc-modified-id=\"Search-with-filtering-4\"><span class=\"toc-item-num\">4&nbsp;&nbsp;</span>Search with filtering</a></span></li><li><span><a href=\"#Benchmark-PQLite\" data-toc-modified-id=\"Benchmark-PQLite-5\"><span class=\"toc-item-num\">5&nbsp;&nbsp;</span>Benchmark PQLite</a></span></li></ul></div>"
   ]
  },
  {
   "cell_type": "code",
   "execution_count": 1,
   "metadata": {
    "ExecuteTime": {
     "end_time": "2021-11-10T16:12:36.525078Z",
     "start_time": "2021-11-10T16:12:36.500265Z"
    }
   },
   "outputs": [],
   "source": [
    "%load_ext autoreload\n",
    "%autoreload 2"
   ]
  },
  {
   "cell_type": "markdown",
   "metadata": {},
   "source": [
    "## Create a `PQLite` instance and fit it\n",
    "\n",
    "The following cell fits a  `PQLite` instance that learns a set of prototypes for each of the sub-spaces."
   ]
  },
  {
   "cell_type": "code",
   "execution_count": 7,
   "metadata": {
    "ExecuteTime": {
     "end_time": "2021-11-10T16:12:51.816316Z",
     "start_time": "2021-11-10T16:12:51.780726Z"
    }
   },
   "outputs": [],
   "source": [
    "import random\n",
    "import numpy as np\n",
    "from pqlite import PQLite\n",
    "\n",
    "N = 10_000 # number of data points\n",
    "Nt = 2000\n",
    "Nq = 10\n",
    "D = 128 # dimentionality / number of features\n",
    "\n",
    "# 2,000 128-dim vectors for training\n",
    "Xt = np.random.random((Nt, D)).astype(np.float32)  \n",
    "\n",
    "# the column schema: (name:str, dtype:type, create_index: bool)\n",
    "pqlite = PQLite(d_vector=D, n_cells=64, n_subvectors=8, columns=[('x', float, True)])"
   ]
  },
  {
   "cell_type": "code",
   "execution_count": 6,
   "metadata": {
    "ExecuteTime": {
     "end_time": "2021-11-10T16:12:50.366340Z",
     "start_time": "2021-11-10T16:12:49.025045Z"
    }
   },
   "outputs": [
    {
     "name": "stderr",
     "output_type": "stream",
     "text": [
      "2021-11-10 17:12:49.040 | INFO     | pqlite.index:fit:92 - => start training VQ codec with 2000 data...\n",
      "2021-11-10 17:12:49.145 | INFO     | pqlite.index:fit:95 - => start training PQ codec with 2000 data...\n",
      "2021-11-10 17:12:50.364 | INFO     | pqlite.index:fit:98 - => pqlite is successfully trained!\n"
     ]
    }
   ],
   "source": [
    "pqlite.fit(Xt)"
   ]
  },
  {
   "cell_type": "code",
   "execution_count": 3,
   "metadata": {
    "ExecuteTime": {
     "end_time": "2021-11-10T16:12:42.730955Z",
     "start_time": "2021-11-10T16:12:42.713048Z"
    }
   },
   "outputs": [
    {
     "name": "stdout",
     "output_type": "stream",
     "text": [
      "['initial_size',\n",
      " 'expand_step_size',\n",
      " 'expand_mode',\n",
      " 'n_cells',\n",
      " 'code_size',\n",
      " 'dtype',\n",
      " '_doc_id_dtype',\n",
      " '_vecs_storage',\n",
      " '_cell_size',\n",
      " '_cell_capacity',\n",
      " '_cell_tables',\n",
      " '_meta_table',\n",
      " 'd_vector',\n",
      " 'n_subvectors',\n",
      " 'd_subvector',\n",
      " 'metric',\n",
      " 'use_residual',\n",
      " 'n_probe',\n",
      " '_use_smart_probing',\n",
      " '_smart_probing_temperature',\n",
      " 'vq_codec',\n",
      " 'pq_codec']\n"
     ]
    }
   ],
   "source": [
    "import pprint\n",
    "pprint.pprint(list(pqlite.__dict__.keys()))"
   ]
  },
  {
   "cell_type": "code",
   "execution_count": null,
   "metadata": {
    "ExecuteTime": {
     "end_time": "2021-11-10T16:12:05.158143Z",
     "start_time": "2021-11-10T16:12:05.137365Z"
    }
   },
   "outputs": [],
   "source": [
    "pqlite.d_vector / pqlite.n_subvectors == pqlite.d_subvector"
   ]
  },
  {
   "cell_type": "markdown",
   "metadata": {},
   "source": [
    "- Where can we find te data for each cell after fitting a `PQLite` instance ?\n",
    "\n",
    " `PQlite.fit` partitions the data in `n_cells` groups but no data is stored into the object unless `.add` function is called. "
   ]
  },
  {
   "cell_type": "code",
   "execution_count": null,
   "metadata": {
    "ExecuteTime": {
     "end_time": "2021-11-10T16:12:05.902497Z",
     "start_time": "2021-11-10T16:12:05.884029Z"
    }
   },
   "outputs": [],
   "source": [
    "len(pqlite._vecs_storage)"
   ]
  },
  {
   "cell_type": "markdown",
   "metadata": {},
   "source": [
    "- Where can we find the codebooks for each of the regions `n_cells`?\n",
    "\n",
    "The prototypes for each of the cells of the coarse quantization step can be found in `pqlite.vq_codec.codebook.shape`. There is one single prototype for each of the cells. Hence, `n_cell` prototypes."
   ]
  },
  {
   "cell_type": "code",
   "execution_count": null,
   "metadata": {
    "ExecuteTime": {
     "end_time": "2021-11-10T16:12:06.643609Z",
     "start_time": "2021-11-10T16:12:06.624303Z"
    }
   },
   "outputs": [],
   "source": [
    "pqlite.vq_codec.codebook.shape"
   ]
  },
  {
   "cell_type": "markdown",
   "metadata": {},
   "source": [
    "## Adding data\n",
    "\n",
    "Before data is added the `_cell_size` is zero for each of the `n_cells` cells."
   ]
  },
  {
   "cell_type": "code",
   "execution_count": null,
   "metadata": {
    "ExecuteTime": {
     "end_time": "2021-11-10T16:12:07.247140Z",
     "start_time": "2021-11-10T16:12:07.229081Z"
    },
    "scrolled": true
   },
   "outputs": [],
   "source": [
    "pqlite._cell_size"
   ]
  },
  {
   "cell_type": "markdown",
   "metadata": {
    "ExecuteTime": {
     "end_time": "2021-11-10T14:25:19.259917Z",
     "start_time": "2021-11-10T14:25:19.257401Z"
    }
   },
   "source": [
    "Once we add data "
   ]
  },
  {
   "cell_type": "code",
   "execution_count": null,
   "metadata": {
    "ExecuteTime": {
     "end_time": "2021-11-10T16:12:07.927327Z",
     "start_time": "2021-11-10T16:12:07.909903Z"
    }
   },
   "outputs": [],
   "source": [
    "Xt.shape"
   ]
  },
  {
   "cell_type": "code",
   "execution_count": null,
   "metadata": {
    "ExecuteTime": {
     "end_time": "2021-11-10T16:12:08.356865Z",
     "start_time": "2021-11-10T16:12:08.265626Z"
    }
   },
   "outputs": [],
   "source": [
    "tags = [{'x': random.random()} for _ in range(len(Xt))]\n",
    "pqlite.add(Xt, ids=list(range(len(Xt))), doc_tags=tags)"
   ]
  },
  {
   "cell_type": "markdown",
   "metadata": {},
   "source": [
    "We can see that each cell contains some examples"
   ]
  },
  {
   "cell_type": "code",
   "execution_count": null,
   "metadata": {
    "ExecuteTime": {
     "end_time": "2021-11-10T16:06:36.649730Z",
     "start_time": "2021-11-10T16:06:36.631564Z"
    }
   },
   "outputs": [],
   "source": [
    "pqlite._cell_size"
   ]
  },
  {
   "cell_type": "markdown",
   "metadata": {},
   "source": [
    "In total we should have 2000 exaples across cells"
   ]
  },
  {
   "cell_type": "code",
   "execution_count": null,
   "metadata": {
    "ExecuteTime": {
     "end_time": "2021-11-10T16:06:37.034853Z",
     "start_time": "2021-11-10T16:06:37.018455Z"
    },
    "scrolled": true
   },
   "outputs": [],
   "source": [
    "pqlite._cell_size.sum()"
   ]
  },
  {
   "cell_type": "markdown",
   "metadata": {},
   "source": [
    "- Where can we access the quantized data of a particular cell ?\n",
    "\n",
    "A user can access the data of n'th cell in `pqlite._vecs_storage[n]`. Each datapoint is grouped into a single cell."
   ]
  },
  {
   "cell_type": "code",
   "execution_count": null,
   "metadata": {
    "ExecuteTime": {
     "end_time": "2021-11-10T16:06:38.082226Z",
     "start_time": "2021-11-10T16:06:38.060453Z"
    }
   },
   "outputs": [],
   "source": [
    "pqlite._vecs_storage[0]"
   ]
  },
  {
   "cell_type": "code",
   "execution_count": null,
   "metadata": {
    "ExecuteTime": {
     "end_time": "2021-11-10T16:06:38.914632Z",
     "start_time": "2021-11-10T16:06:38.892556Z"
    }
   },
   "outputs": [],
   "source": [
    "cell_0 = pqlite._vecs_storage[0]\n",
    "cell_0"
   ]
  },
  {
   "cell_type": "markdown",
   "metadata": {},
   "source": [
    "We can see that the number of elements in cell 0, which we can get using  `pqlite._cell_size[0]` is the same as the number of rows in ` pqlite._vecs_storage[0]`."
   ]
  },
  {
   "cell_type": "code",
   "execution_count": null,
   "metadata": {
    "ExecuteTime": {
     "end_time": "2021-11-10T16:06:39.330083Z",
     "start_time": "2021-11-10T16:06:39.310314Z"
    }
   },
   "outputs": [],
   "source": [
    "inds = cell_0.sum(axis=1)!=0\n",
    "len(cell_0[inds]) == pqlite._cell_size[0]"
   ]
  },
  {
   "cell_type": "markdown",
   "metadata": {},
   "source": [
    "### Understanding the underlying sqlite connection"
   ]
  },
  {
   "cell_type": "code",
   "execution_count": null,
   "metadata": {
    "ExecuteTime": {
     "end_time": "2021-11-10T16:06:40.303853Z",
     "start_time": "2021-11-10T16:06:40.287690Z"
    }
   },
   "outputs": [],
   "source": [
    "pqlite.cell_tables[0].count()"
   ]
  },
  {
   "cell_type": "code",
   "execution_count": null,
   "metadata": {
    "ExecuteTime": {
     "end_time": "2021-11-10T16:06:40.485179Z",
     "start_time": "2021-11-10T16:06:40.468038Z"
    }
   },
   "outputs": [],
   "source": [
    "pqlite.cell_tables[0]"
   ]
  },
  {
   "cell_type": "code",
   "execution_count": null,
   "metadata": {
    "ExecuteTime": {
     "end_time": "2021-11-10T16:06:40.661269Z",
     "start_time": "2021-11-10T16:06:40.643980Z"
    },
    "scrolled": true
   },
   "outputs": [],
   "source": [
    "pqlite.cell_tables[0].__dict__"
   ]
  },
  {
   "cell_type": "code",
   "execution_count": null,
   "metadata": {
    "ExecuteTime": {
     "end_time": "2021-11-10T16:06:40.855884Z",
     "start_time": "2021-11-10T16:06:40.839010Z"
    }
   },
   "outputs": [],
   "source": [
    "pqlite"
   ]
  },
  {
   "cell_type": "markdown",
   "metadata": {},
   "source": [
    "## Search without filtering"
   ]
  },
  {
   "cell_type": "code",
   "execution_count": null,
   "metadata": {
    "ExecuteTime": {
     "end_time": "2021-11-10T16:06:48.726060Z",
     "start_time": "2021-11-10T16:06:48.692069Z"
    }
   },
   "outputs": [],
   "source": [
    "Nq = 1\n",
    "query = np.random.random((Nq, D)).astype(np.float32)  # a 128-dim query vector\n",
    "\n",
    "# without filtering\n",
    "dists, ids = pqlite.search(query, k=5)\n",
    "\n",
    "print(f'the result without filtering:')\n",
    "for i, (dist, idx) in enumerate(zip(dists, ids)):\n",
    "    print(f'query [{i}]: {dist} {idx}')\n",
    "\n",
    "# with filtering\n",
    "# condition schema: (column_name: str, relation: str, value: any)\n",
    "dists, ids = pqlite.search(query,  k=5)\n"
   ]
  },
  {
   "cell_type": "code",
   "execution_count": null,
   "metadata": {
    "ExecuteTime": {
     "end_time": "2021-11-10T16:06:50.039228Z",
     "start_time": "2021-11-10T16:06:50.019361Z"
    }
   },
   "outputs": [],
   "source": [
    "dists"
   ]
  },
  {
   "cell_type": "markdown",
   "metadata": {},
   "source": [
    "## Search with filtering"
   ]
  },
  {
   "cell_type": "code",
   "execution_count": null,
   "metadata": {
    "ExecuteTime": {
     "end_time": "2021-11-10T15:06:43.436518Z",
     "start_time": "2021-11-10T15:06:43.373524Z"
    },
    "code_folding": [
     6
    ]
   },
   "outputs": [],
   "source": [
    "query = np.random.random((Nq, D)).astype(np.float32)  # a 128-dim query vector\n",
    "\n",
    "# without filtering\n",
    "dists, ids = pqlite.search(query, k=5)\n",
    "\n",
    "print(f'the result without filtering:')\n",
    "for i, (dist, idx) in enumerate(zip(dists, ids)):\n",
    "    print(f'query [{i}]: {dist} {idx}')\n",
    "\n",
    "# with filtering\n",
    "# condition schema: (column_name: str, relation: str, value: any)\n",
    "conditions = [('x', '<', 0.3)]\n",
    "dists, ids = pqlite.search(query, conditions=conditions, k=5)\n",
    "\n",
    "print(f'the result with filtering:')\n",
    "for i, (dist, idx) in enumerate(zip(dists, ids)):\n",
    "    print(f'query [{i}]: {dist} {idx}')"
   ]
  },
  {
   "cell_type": "markdown",
   "metadata": {},
   "source": [
    "## Benchmark PQLite"
   ]
  },
  {
   "cell_type": "code",
   "execution_count": null,
   "metadata": {},
   "outputs": [],
   "source": []
  },
  {
   "cell_type": "code",
   "execution_count": null,
   "metadata": {},
   "outputs": [],
   "source": []
  },
  {
   "cell_type": "code",
   "execution_count": null,
   "metadata": {},
   "outputs": [],
   "source": []
  },
  {
   "cell_type": "code",
   "execution_count": null,
   "metadata": {
    "ExecuteTime": {
     "end_time": "2021-11-10T11:58:07.333907Z",
     "start_time": "2021-11-10T11:58:07.331768Z"
    }
   },
   "outputs": [],
   "source": [
    "#[v.sum() for v in pqlite._vecs_storage]"
   ]
  },
  {
   "cell_type": "code",
   "execution_count": null,
   "metadata": {},
   "outputs": [],
   "source": []
  },
  {
   "cell_type": "markdown",
   "metadata": {},
   "source": [
    "Note that each original vector is decreased in dimensionalty.\n",
    "Here the new dimensionality of the Product Quantized vector is equal to the original dimension divided by `n_subvectors`.\n",
    "\n",
    "That is 128/8 = 16."
   ]
  },
  {
   "cell_type": "code",
   "execution_count": null,
   "metadata": {
    "ExecuteTime": {
     "end_time": "2021-11-10T11:38:08.402314Z",
     "start_time": "2021-11-10T11:38:08.399498Z"
    }
   },
   "outputs": [],
   "source": [
    "# shoud this be \n",
    "pqlitse._vecs_storage[0].shape"
   ]
  },
  {
   "cell_type": "code",
   "execution_count": null,
   "metadata": {
    "ExecuteTime": {
     "end_time": "2021-11-10T11:38:09.999824Z",
     "start_time": "2021-11-10T11:38:09.997195Z"
    }
   },
   "outputs": [],
   "source": [
    "pqlite._vecs_storage[0].dtype"
   ]
  },
  {
   "cell_type": "code",
   "execution_count": null,
   "metadata": {},
   "outputs": [],
   "source": []
  },
  {
   "cell_type": "code",
   "execution_count": null,
   "metadata": {},
   "outputs": [],
   "source": []
  },
  {
   "cell_type": "code",
   "execution_count": null,
   "metadata": {},
   "outputs": [],
   "source": []
  },
  {
   "cell_type": "code",
   "execution_count": null,
   "metadata": {},
   "outputs": [],
   "source": []
  },
  {
   "cell_type": "code",
   "execution_count": null,
   "metadata": {},
   "outputs": [],
   "source": [
    "X = np.random.random((N, D)).astype(np.float32)  # 10,000 128-dim vectors to be indexed\n",
    "\n",
    "tags = [{'x': random.random()} for _ in range(N)]\n",
    "pqlite.add(X, ids=list(range(len(X))), doc_tags=tags)"
   ]
  },
  {
   "cell_type": "code",
   "execution_count": null,
   "metadata": {},
   "outputs": [],
   "source": []
  },
  {
   "cell_type": "code",
   "execution_count": null,
   "metadata": {},
   "outputs": [],
   "source": []
  },
  {
   "cell_type": "code",
   "execution_count": null,
   "metadata": {
    "ExecuteTime": {
     "end_time": "2021-11-10T10:04:05.403105Z",
     "start_time": "2021-11-10T10:04:05.400658Z"
    }
   },
   "outputs": [],
   "source": []
  },
  {
   "cell_type": "code",
   "execution_count": null,
   "metadata": {},
   "outputs": [],
   "source": []
  },
  {
   "cell_type": "code",
   "execution_count": null,
   "metadata": {},
   "outputs": [],
   "source": []
  },
  {
   "cell_type": "code",
   "execution_count": null,
   "metadata": {},
   "outputs": [],
   "source": [
    "len(pqlite._vecs_storage)"
   ]
  },
  {
   "cell_type": "code",
   "execution_count": null,
   "metadata": {},
   "outputs": [],
   "source": []
  },
  {
   "cell_type": "code",
   "execution_count": null,
   "metadata": {},
   "outputs": [],
   "source": []
  }
 ],
 "metadata": {
  "kernelspec": {
   "display_name": "Python 3 (ipykernel)",
   "language": "python",
   "name": "python3"
  },
  "language_info": {
   "codemirror_mode": {
    "name": "ipython",
    "version": 3
   },
   "file_extension": ".py",
   "mimetype": "text/x-python",
   "name": "python",
   "nbconvert_exporter": "python",
   "pygments_lexer": "ipython3",
   "version": "3.8.5"
  },
  "toc": {
   "base_numbering": 1,
   "nav_menu": {},
   "number_sections": true,
   "sideBar": true,
   "skip_h1_title": false,
   "title_cell": "Table of Contents",
   "title_sidebar": "Contents",
   "toc_cell": true,
   "toc_position": {
    "height": "calc(100% - 180px)",
    "left": "10px",
    "top": "150px",
    "width": "165px"
   },
   "toc_section_display": true,
   "toc_window_display": true
  },
  "varInspector": {
   "cols": {
    "lenName": 16,
    "lenType": 16,
    "lenVar": 40
   },
   "kernels_config": {
    "python": {
     "delete_cmd_postfix": "",
     "delete_cmd_prefix": "del ",
     "library": "var_list.py",
     "varRefreshCmd": "print(var_dic_list())"
    },
    "r": {
     "delete_cmd_postfix": ") ",
     "delete_cmd_prefix": "rm(",
     "library": "var_list.r",
     "varRefreshCmd": "cat(var_dic_list()) "
    }
   },
   "types_to_exclude": [
    "module",
    "function",
    "builtin_function_or_method",
    "instance",
    "_Feature"
   ],
   "window_display": false
  }
 },
 "nbformat": 4,
 "nbformat_minor": 4
}
