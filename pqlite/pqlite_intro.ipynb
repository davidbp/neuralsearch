{
 "cells": [
  {
   "cell_type": "markdown",
   "metadata": {
    "toc": true
   },
   "source": [
    "<h1>Table of Contents<span class=\"tocSkip\"></span></h1>\n",
    "<div class=\"toc\"><ul class=\"toc-item\"><li><span><a href=\"#Create-a-PQLite-instance-and-fit-it\" data-toc-modified-id=\"Create-a-PQLite-instance-and-fit-it-1\"><span class=\"toc-item-num\">1&nbsp;&nbsp;</span>Create a <code>PQLite</code> instance and fit it</a></span></li><li><span><a href=\"#Adding-data\" data-toc-modified-id=\"Adding-data-2\"><span class=\"toc-item-num\">2&nbsp;&nbsp;</span>Adding data</a></span><ul class=\"toc-item\"><li><span><a href=\"#Understanding-the-underlying-sqlite-connection\" data-toc-modified-id=\"Understanding-the-underlying-sqlite-connection-2.1\"><span class=\"toc-item-num\">2.1&nbsp;&nbsp;</span>Understanding the underlying sqlite connection</a></span></li></ul></li><li><span><a href=\"#Search-without-filtering\" data-toc-modified-id=\"Search-without-filtering-3\"><span class=\"toc-item-num\">3&nbsp;&nbsp;</span>Search without filtering</a></span></li><li><span><a href=\"#Search-with-filtering\" data-toc-modified-id=\"Search-with-filtering-4\"><span class=\"toc-item-num\">4&nbsp;&nbsp;</span>Search with filtering</a></span></li><li><span><a href=\"#Benchmark-PQLite\" data-toc-modified-id=\"Benchmark-PQLite-5\"><span class=\"toc-item-num\">5&nbsp;&nbsp;</span>Benchmark PQLite</a></span></li></ul></div>"
   ]
  },
  {
   "cell_type": "code",
   "execution_count": 1,
   "metadata": {
    "ExecuteTime": {
     "end_time": "2021-11-11T12:27:37.233903Z",
     "start_time": "2021-11-11T12:27:37.045324Z"
    }
   },
   "outputs": [
    {
     "data": {
      "text/plain": [
       "['/Users/davidbuchaca1/Documents/jina_stuff/pqlite/pqlite']"
      ]
     },
     "execution_count": 1,
     "metadata": {},
     "output_type": "execute_result"
    }
   ],
   "source": [
    "import pqlite\n",
    "pqlite.__path__"
   ]
  },
  {
   "cell_type": "code",
   "execution_count": 2,
   "metadata": {
    "ExecuteTime": {
     "end_time": "2021-11-11T12:27:37.475225Z",
     "start_time": "2021-11-11T12:27:37.473519Z"
    }
   },
   "outputs": [],
   "source": [
    "#%load_ext autoreload\n",
    "#%autoreload 2"
   ]
  },
  {
   "cell_type": "markdown",
   "metadata": {},
   "source": [
    "## Create a `PQLite` instance and fit it\n",
    "\n",
    "The following cell fits a  `PQLite` instance that learns a set of prototypes for each of the sub-spaces."
   ]
  },
  {
   "cell_type": "code",
   "execution_count": 3,
   "metadata": {
    "ExecuteTime": {
     "end_time": "2021-11-11T12:27:37.941578Z",
     "start_time": "2021-11-11T12:27:37.922580Z"
    }
   },
   "outputs": [],
   "source": [
    "import random\n",
    "import numpy as np\n",
    "from pqlite import PQLite\n",
    "\n",
    "N = 10_000 # number of data points\n",
    "Nt = 2000\n",
    "Nq = 10\n",
    "D = 128 # dimentionality / number of features\n",
    "\n",
    "# 2,000 128-dim vectors for training\n",
    "Xt = np.random.random((Nt, D)).astype(np.float32)  \n",
    "\n",
    "# the column schema: (name:str, dtype:type, create_index: bool)\n",
    "pqlite = PQLite(d_vector=D, n_cells=64, n_subvectors=8, columns=[('x', float, True)])"
   ]
  },
  {
   "cell_type": "code",
   "execution_count": 4,
   "metadata": {
    "ExecuteTime": {
     "end_time": "2021-11-11T12:27:39.483909Z",
     "start_time": "2021-11-11T12:27:38.406615Z"
    }
   },
   "outputs": [
    {
     "name": "stderr",
     "output_type": "stream",
     "text": [
      "2021-11-11 13:27:38.407 | INFO     | pqlite.index:fit:90 - => start training VQ codec with 2000 data...\n",
      "2021-11-11 13:27:38.490 | INFO     | pqlite.index:fit:93 - => start training PQ codec with 2000 data...\n",
      "2021-11-11 13:27:39.482 | INFO     | pqlite.index:fit:96 - => pqlite is successfully trained!\n"
     ]
    }
   ],
   "source": [
    "pqlite.fit(Xt)"
   ]
  },
  {
   "cell_type": "code",
   "execution_count": 5,
   "metadata": {
    "ExecuteTime": {
     "end_time": "2021-11-11T12:27:39.563157Z",
     "start_time": "2021-11-11T12:27:39.560452Z"
    },
    "scrolled": false
   },
   "outputs": [
    {
     "name": "stdout",
     "output_type": "stream",
     "text": [
      "['initial_size',\n",
      " 'expand_step_size',\n",
      " 'expand_mode',\n",
      " 'n_cells',\n",
      " 'code_size',\n",
      " 'dtype',\n",
      " '_doc_id_dtype',\n",
      " '_vecs_storage',\n",
      " '_cell_size',\n",
      " '_cell_capacity',\n",
      " '_cell_tables',\n",
      " '_meta_table',\n",
      " 'd_vector',\n",
      " 'n_subvectors',\n",
      " 'd_subvector',\n",
      " 'metric',\n",
      " 'use_residual',\n",
      " 'n_probe',\n",
      " '_use_smart_probing',\n",
      " '_smart_probing_temperature',\n",
      " 'vq_codec',\n",
      " 'pq_codec']\n"
     ]
    }
   ],
   "source": [
    "import pprint\n",
    "pprint.pprint(list(pqlite.__dict__.keys()))"
   ]
  },
  {
   "cell_type": "code",
   "execution_count": 6,
   "metadata": {
    "ExecuteTime": {
     "end_time": "2021-11-11T12:27:39.635932Z",
     "start_time": "2021-11-11T12:27:39.633358Z"
    }
   },
   "outputs": [
    {
     "data": {
      "text/plain": [
       "True"
      ]
     },
     "execution_count": 6,
     "metadata": {},
     "output_type": "execute_result"
    }
   ],
   "source": [
    "pqlite.d_vector / pqlite.n_subvectors == pqlite.d_subvector"
   ]
  },
  {
   "cell_type": "markdown",
   "metadata": {},
   "source": [
    "- Where can we find te data for each cell after fitting a `PQLite` instance ?\n",
    "\n",
    " `PQlite.fit` partitions the data in `n_cells` groups but no data is stored into the object unless `.add` function is called. "
   ]
  },
  {
   "cell_type": "code",
   "execution_count": 7,
   "metadata": {
    "ExecuteTime": {
     "end_time": "2021-11-11T12:27:39.702732Z",
     "start_time": "2021-11-11T12:27:39.700186Z"
    }
   },
   "outputs": [
    {
     "data": {
      "text/plain": [
       "64"
      ]
     },
     "execution_count": 7,
     "metadata": {},
     "output_type": "execute_result"
    }
   ],
   "source": [
    "len(pqlite._vecs_storage)"
   ]
  },
  {
   "cell_type": "markdown",
   "metadata": {},
   "source": [
    "- Where can we find the codebooks for each of the regions `n_cells`?\n",
    "\n",
    "The prototypes for each of the cells of the coarse quantization step can be found in `pqlite.vq_codec.codebook.shape`. There is one single prototype for each of the cells. Hence, `n_cell` prototypes."
   ]
  },
  {
   "cell_type": "code",
   "execution_count": 8,
   "metadata": {
    "ExecuteTime": {
     "end_time": "2021-11-11T12:27:40.174816Z",
     "start_time": "2021-11-11T12:27:40.172007Z"
    }
   },
   "outputs": [
    {
     "data": {
      "text/plain": [
       "(64, 128)"
      ]
     },
     "execution_count": 8,
     "metadata": {},
     "output_type": "execute_result"
    }
   ],
   "source": [
    "pqlite.vq_codec.codebook.shape"
   ]
  },
  {
   "cell_type": "markdown",
   "metadata": {},
   "source": [
    "## Adding data\n",
    "\n",
    "Before data is added the `_cell_size` is zero for each of the `n_cells` cells."
   ]
  },
  {
   "cell_type": "code",
   "execution_count": 9,
   "metadata": {
    "ExecuteTime": {
     "end_time": "2021-11-11T12:27:40.580755Z",
     "start_time": "2021-11-11T12:27:40.577474Z"
    },
    "scrolled": true
   },
   "outputs": [
    {
     "data": {
      "text/plain": [
       "array([0, 0, 0, 0, 0, 0, 0, 0, 0, 0, 0, 0, 0, 0, 0, 0, 0, 0, 0, 0, 0, 0,\n",
       "       0, 0, 0, 0, 0, 0, 0, 0, 0, 0, 0, 0, 0, 0, 0, 0, 0, 0, 0, 0, 0, 0,\n",
       "       0, 0, 0, 0, 0, 0, 0, 0, 0, 0, 0, 0, 0, 0, 0, 0, 0, 0, 0, 0])"
      ]
     },
     "execution_count": 9,
     "metadata": {},
     "output_type": "execute_result"
    }
   ],
   "source": [
    "pqlite._cell_size"
   ]
  },
  {
   "cell_type": "markdown",
   "metadata": {
    "ExecuteTime": {
     "end_time": "2021-11-10T14:25:19.259917Z",
     "start_time": "2021-11-10T14:25:19.257401Z"
    }
   },
   "source": [
    "Once we add data "
   ]
  },
  {
   "cell_type": "code",
   "execution_count": 10,
   "metadata": {
    "ExecuteTime": {
     "end_time": "2021-11-11T12:27:41.108747Z",
     "start_time": "2021-11-11T12:27:41.106106Z"
    }
   },
   "outputs": [
    {
     "data": {
      "text/plain": [
       "(2000, 128)"
      ]
     },
     "execution_count": 10,
     "metadata": {},
     "output_type": "execute_result"
    }
   ],
   "source": [
    "Xt.shape"
   ]
  },
  {
   "cell_type": "code",
   "execution_count": 11,
   "metadata": {
    "ExecuteTime": {
     "end_time": "2021-11-11T12:27:41.380282Z",
     "start_time": "2021-11-11T12:27:41.300199Z"
    }
   },
   "outputs": [
    {
     "name": "stderr",
     "output_type": "stream",
     "text": [
      "2021-11-11 13:27:41.376 | DEBUG    | pqlite.storage.cell:_expand:148 - => total storage capacity is expanded by 0 for 64 cells\n",
      "2021-11-11 13:27:41.378 | DEBUG    | pqlite.storage.cell:insert:90 - => 2000 new items added\n"
     ]
    }
   ],
   "source": [
    "tags = [{'x': random.random()} for _ in range(len(Xt))]\n",
    "pqlite.add(Xt, ids=list(range(len(Xt))), doc_tags=tags)"
   ]
  },
  {
   "cell_type": "markdown",
   "metadata": {},
   "source": [
    "We can see that each cell contains some examples"
   ]
  },
  {
   "cell_type": "code",
   "execution_count": 12,
   "metadata": {
    "ExecuteTime": {
     "end_time": "2021-11-11T12:27:41.649946Z",
     "start_time": "2021-11-11T12:27:41.646912Z"
    }
   },
   "outputs": [
    {
     "data": {
      "text/plain": [
       "array([53, 12, 11, 18,  7, 70,  5, 12, 65,  4,  4, 18, 16, 14, 20,  8, 56,\n",
       "       43, 50, 25, 35, 48, 10, 18, 74, 26, 31, 29, 42,  9, 44, 12, 16, 33,\n",
       "       10, 12, 25,  7, 67, 53, 33, 42, 25, 35, 60, 62, 65, 16,  7, 51, 34,\n",
       "       45, 67, 53, 29, 28, 23, 22, 37, 23,  4, 28, 43, 56])"
      ]
     },
     "execution_count": 12,
     "metadata": {},
     "output_type": "execute_result"
    }
   ],
   "source": [
    "pqlite._cell_size"
   ]
  },
  {
   "cell_type": "markdown",
   "metadata": {},
   "source": [
    "In total we should have 2000 exaples across cells"
   ]
  },
  {
   "cell_type": "code",
   "execution_count": 13,
   "metadata": {
    "ExecuteTime": {
     "end_time": "2021-11-11T12:27:42.099333Z",
     "start_time": "2021-11-11T12:27:42.096448Z"
    },
    "scrolled": true
   },
   "outputs": [
    {
     "data": {
      "text/plain": [
       "2000"
      ]
     },
     "execution_count": 13,
     "metadata": {},
     "output_type": "execute_result"
    }
   ],
   "source": [
    "pqlite._cell_size.sum()"
   ]
  },
  {
   "cell_type": "markdown",
   "metadata": {},
   "source": [
    "- Where can we access the quantized data of a particular cell ?\n",
    "\n",
    "A user can access the data of n'th cell in `pqlite._vecs_storage[n]`. Each datapoint is grouped into a single cell."
   ]
  },
  {
   "cell_type": "code",
   "execution_count": 14,
   "metadata": {
    "ExecuteTime": {
     "end_time": "2021-11-11T12:27:42.526611Z",
     "start_time": "2021-11-11T12:27:42.523739Z"
    }
   },
   "outputs": [
    {
     "data": {
      "text/plain": [
       "array([[162, 172, 251, ..., 167, 107, 147],\n",
       "       [  5,  78,  44, ..., 162, 216, 232],\n",
       "       [ 59,  10, 133, ...,  93, 134, 105],\n",
       "       ...,\n",
       "       [  0,   0,   0, ...,   0,   0,   0],\n",
       "       [  0,   0,   0, ...,   0,   0,   0],\n",
       "       [  0,   0,   0, ...,   0,   0,   0]], dtype=uint8)"
      ]
     },
     "execution_count": 14,
     "metadata": {},
     "output_type": "execute_result"
    }
   ],
   "source": [
    "pqlite._vecs_storage[0]"
   ]
  },
  {
   "cell_type": "code",
   "execution_count": 15,
   "metadata": {
    "ExecuteTime": {
     "end_time": "2021-11-11T12:27:42.706853Z",
     "start_time": "2021-11-11T12:27:42.703674Z"
    }
   },
   "outputs": [
    {
     "data": {
      "text/plain": [
       "array([[162, 172, 251, ..., 167, 107, 147],\n",
       "       [  5,  78,  44, ..., 162, 216, 232],\n",
       "       [ 59,  10, 133, ...,  93, 134, 105],\n",
       "       ...,\n",
       "       [  0,   0,   0, ...,   0,   0,   0],\n",
       "       [  0,   0,   0, ...,   0,   0,   0],\n",
       "       [  0,   0,   0, ...,   0,   0,   0]], dtype=uint8)"
      ]
     },
     "execution_count": 15,
     "metadata": {},
     "output_type": "execute_result"
    }
   ],
   "source": [
    "cell_0 = pqlite._vecs_storage[0]\n",
    "cell_0"
   ]
  },
  {
   "cell_type": "markdown",
   "metadata": {},
   "source": [
    "We can see that the number of elements in cell 0, which we can get using  `pqlite._cell_size[0]` is the same as the number of rows in ` pqlite._vecs_storage[0]`."
   ]
  },
  {
   "cell_type": "code",
   "execution_count": 16,
   "metadata": {
    "ExecuteTime": {
     "end_time": "2021-11-11T12:27:43.069521Z",
     "start_time": "2021-11-11T12:27:43.066404Z"
    }
   },
   "outputs": [
    {
     "data": {
      "text/plain": [
       "True"
      ]
     },
     "execution_count": 16,
     "metadata": {},
     "output_type": "execute_result"
    }
   ],
   "source": [
    "inds = cell_0.sum(axis=1)!=0\n",
    "len(cell_0[inds]) == pqlite._cell_size[0]"
   ]
  },
  {
   "cell_type": "markdown",
   "metadata": {},
   "source": [
    "### Understanding the underlying sqlite connection"
   ]
  },
  {
   "cell_type": "code",
   "execution_count": 17,
   "metadata": {
    "ExecuteTime": {
     "end_time": "2021-11-11T12:27:43.438347Z",
     "start_time": "2021-11-11T12:27:43.435329Z"
    }
   },
   "outputs": [
    {
     "data": {
      "text/plain": [
       "53"
      ]
     },
     "execution_count": 17,
     "metadata": {},
     "output_type": "execute_result"
    }
   ],
   "source": [
    "pqlite.cell_tables[0].count()"
   ]
  },
  {
   "cell_type": "code",
   "execution_count": 18,
   "metadata": {
    "ExecuteTime": {
     "end_time": "2021-11-11T12:27:43.620282Z",
     "start_time": "2021-11-11T12:27:43.617597Z"
    }
   },
   "outputs": [
    {
     "data": {
      "text/plain": [
       "<pqlite.storage.table.CellTable at 0x7fe6304ccd90>"
      ]
     },
     "execution_count": 18,
     "metadata": {},
     "output_type": "execute_result"
    }
   ],
   "source": [
    "pqlite.cell_tables[0]"
   ]
  },
  {
   "cell_type": "code",
   "execution_count": 19,
   "metadata": {
    "ExecuteTime": {
     "end_time": "2021-11-11T12:27:43.813250Z",
     "start_time": "2021-11-11T12:27:43.810413Z"
    },
    "scrolled": true
   },
   "outputs": [
    {
     "data": {
      "text/plain": [
       "{'_conn_name': ':memory:',\n",
       " '_name': 'cell_table_0',\n",
       " '_conn': <sqlite3.Connection at 0x7fe6306113f0>,\n",
       " '_columns': ['x FLOAT'],\n",
       " '_indexed_keys': {'x'}}"
      ]
     },
     "execution_count": 19,
     "metadata": {},
     "output_type": "execute_result"
    }
   ],
   "source": [
    "pqlite.cell_tables[0].__dict__"
   ]
  },
  {
   "cell_type": "code",
   "execution_count": 20,
   "metadata": {
    "ExecuteTime": {
     "end_time": "2021-11-11T12:27:44.022860Z",
     "start_time": "2021-11-11T12:27:44.020211Z"
    }
   },
   "outputs": [
    {
     "data": {
      "text/plain": [
       "<pqlite.index.PQLite at 0x7fe6117e6790>"
      ]
     },
     "execution_count": 20,
     "metadata": {},
     "output_type": "execute_result"
    }
   ],
   "source": [
    "pqlite"
   ]
  },
  {
   "cell_type": "markdown",
   "metadata": {},
   "source": [
    "## Search without filtering"
   ]
  },
  {
   "cell_type": "code",
   "execution_count": 21,
   "metadata": {
    "ExecuteTime": {
     "end_time": "2021-11-11T12:27:44.319877Z",
     "start_time": "2021-11-11T12:27:44.312619Z"
    },
    "scrolled": true
   },
   "outputs": [
    {
     "name": "stdout",
     "output_type": "stream",
     "text": [
      "the result without filtering:\n",
      "query [0]: [11.450677 13.367572 13.403849 13.49054  13.53594 ] [b'1707' b'607' b'654' b'361' b'1367']\n"
     ]
    }
   ],
   "source": [
    "Nq = 1\n",
    "query = np.random.random((Nq, D)).astype(np.float32)  # a 128-dim query vector\n",
    "\n",
    "# without filtering\n",
    "dists, ids = pqlite.search(query, k=5)\n",
    "\n",
    "print(f'the result without filtering:')\n",
    "for i, (dist, idx) in enumerate(zip(dists, ids)):\n",
    "    print(f'query [{i}]: {dist} {idx}')\n",
    "\n",
    "# with filtering\n",
    "# condition schema: (column_name: str, relation: str, value: any)\n",
    "dists, ids = pqlite.search(query,  k=5)"
   ]
  },
  {
   "cell_type": "code",
   "execution_count": 22,
   "metadata": {
    "ExecuteTime": {
     "end_time": "2021-11-11T12:27:44.493841Z",
     "start_time": "2021-11-11T12:27:44.491066Z"
    }
   },
   "outputs": [
    {
     "data": {
      "text/plain": [
       "array([[11.450677, 13.367572, 13.403849, 13.49054 , 13.53594 ]],\n",
       "      dtype=float32)"
      ]
     },
     "execution_count": 22,
     "metadata": {},
     "output_type": "execute_result"
    }
   ],
   "source": [
    "dists"
   ]
  },
  {
   "cell_type": "markdown",
   "metadata": {},
   "source": [
    "## Search with filtering"
   ]
  },
  {
   "cell_type": "code",
   "execution_count": 23,
   "metadata": {
    "ExecuteTime": {
     "end_time": "2021-11-11T12:27:44.872250Z",
     "start_time": "2021-11-11T12:27:44.864612Z"
    },
    "code_folding": [
     6
    ]
   },
   "outputs": [
    {
     "name": "stdout",
     "output_type": "stream",
     "text": [
      "the result without filtering:\n",
      "query [0]: [13.944338 14.238414 14.262455 14.2831   14.428671] [b'1349' b'1460' b'1370' b'529' b'892']\n",
      "the result with filtering:\n",
      "query [0]: [14.528587  14.8192425 14.847575  14.941542  15.022545 ] [b'1679' b'139' b'1446' b'1573' b'1983']\n"
     ]
    }
   ],
   "source": [
    "query = np.random.random((Nq, D)).astype(np.float32)  # a 128-dim query vector\n",
    "\n",
    "# without filtering\n",
    "dists, ids = pqlite.search(query, k=5)\n",
    "\n",
    "print(f'the result without filtering:')\n",
    "for i, (dist, idx) in enumerate(zip(dists, ids)):\n",
    "    print(f'query [{i}]: {dist} {idx}')\n",
    "\n",
    "# with filtering\n",
    "# condition schema: (column_name: str, relation: str, value: any)\n",
    "conditions = [('x', '<', 0.3)]\n",
    "dists, ids = pqlite.search(query, conditions=conditions, k=5)\n",
    "\n",
    "print(f'the result with filtering:')\n",
    "for i, (dist, idx) in enumerate(zip(dists, ids)):\n",
    "    print(f'query [{i}]: {dist} {idx}')"
   ]
  },
  {
   "cell_type": "markdown",
   "metadata": {},
   "source": [
    "## Benchmark PQLite\n",
    "\n",
    "- Let us benchmark with  100k, 1million, 5million, 10 million of vectors of 128 floats.\n",
    "\n",
    "- We want to benchmark time and memory usage (precision, recall).\n",
    "\n",
    "- Detailed profiling of which function calls spend more time in pqlite.\n",
    "\n",
    "    - Propose improvements to make it faster.\n",
    "\n"
   ]
  },
  {
   "cell_type": "code",
   "execution_count": 47,
   "metadata": {
    "ExecuteTime": {
     "end_time": "2021-11-11T14:22:03.507073Z",
     "start_time": "2021-11-11T14:22:02.529461Z"
    }
   },
   "outputs": [
    {
     "name": "stderr",
     "output_type": "stream",
     "text": [
      "2021-11-11 15:22:02.546 | INFO     | pqlite.index:fit:90 - => start training VQ codec with 2000 data...\n",
      "2021-11-11 15:22:02.626 | INFO     | pqlite.index:fit:93 - => start training PQ codec with 2000 data...\n",
      "2021-11-11 15:22:03.505 | INFO     | pqlite.index:fit:96 - => pqlite is successfully trained!\n"
     ]
    }
   ],
   "source": [
    "import random\n",
    "import numpy as np\n",
    "from pqlite import PQLite\n",
    "\n",
    "N = 100_000 # number of data points\n",
    "D = 128 # dimentionality / number of features\n",
    "\n",
    "# 2,000 128-dim vectors for training\n",
    "Xt = np.random.random((Nt, D)).astype(np.float32)  \n",
    "\n",
    "# the column schema: (name:str, dtype:type, create_index: bool)\n",
    "pqlite = PQLite(d_vector=D, n_cells=64, n_subvectors=8, columns=[('x', float, True)])\n",
    "\n",
    "pqlite.fit(Xt)"
   ]
  },
  {
   "cell_type": "code",
   "execution_count": 48,
   "metadata": {
    "ExecuteTime": {
     "end_time": "2021-11-11T14:22:03.744795Z",
     "start_time": "2021-11-11T14:22:03.678663Z"
    }
   },
   "outputs": [
    {
     "name": "stderr",
     "output_type": "stream",
     "text": [
      "2021-11-11 15:22:03.741 | DEBUG    | pqlite.storage.cell:_expand:148 - => total storage capacity is expanded by 0 for 64 cells\n",
      "2021-11-11 15:22:03.743 | DEBUG    | pqlite.storage.cell:insert:90 - => 2000 new items added\n"
     ]
    }
   ],
   "source": [
    "pqlite.add(Xt, ids=list(range(len(Xt))))"
   ]
  },
  {
   "cell_type": "code",
   "execution_count": 58,
   "metadata": {
    "ExecuteTime": {
     "end_time": "2021-11-11T14:24:29.987294Z",
     "start_time": "2021-11-11T14:24:29.985169Z"
    }
   },
   "outputs": [],
   "source": [
    "query = np.random.random((1, D)).astype(np.float32)  # a 128-dim query vector"
   ]
  },
  {
   "cell_type": "code",
   "execution_count": 65,
   "metadata": {
    "ExecuteTime": {
     "end_time": "2021-11-11T17:22:22.850026Z",
     "start_time": "2021-11-11T17:22:22.845707Z"
    }
   },
   "outputs": [],
   "source": [
    "pq_dists, ids = pqlite.search(query, k=5)"
   ]
  },
  {
   "cell_type": "code",
   "execution_count": 66,
   "metadata": {
    "ExecuteTime": {
     "end_time": "2021-11-11T17:22:24.300577Z",
     "start_time": "2021-11-11T17:22:24.297354Z"
    }
   },
   "outputs": [
    {
     "data": {
      "text/plain": [
       "array([[11.835682 , 12.070293 , 12.2886715, 12.305212 , 12.500567 ]],\n",
       "      dtype=float32)"
      ]
     },
     "execution_count": 66,
     "metadata": {},
     "output_type": "execute_result"
    }
   ],
   "source": [
    "pq_dists"
   ]
  },
  {
   "cell_type": "code",
   "execution_count": null,
   "metadata": {},
   "outputs": [],
   "source": []
  },
  {
   "cell_type": "code",
   "execution_count": null,
   "metadata": {},
   "outputs": [],
   "source": []
  },
  {
   "cell_type": "code",
   "execution_count": null,
   "metadata": {},
   "outputs": [],
   "source": []
  },
  {
   "cell_type": "code",
   "execution_count": null,
   "metadata": {},
   "outputs": [],
   "source": []
  },
  {
   "cell_type": "code",
   "execution_count": null,
   "metadata": {},
   "outputs": [],
   "source": []
  },
  {
   "cell_type": "markdown",
   "metadata": {},
   "source": [
    "Note that each original vector is decreased in dimensionalty.\n",
    "Here the new dimensionality of the Product Quantized vector is equal to the original dimension divided by `n_subvectors`.\n",
    "\n",
    "That is 128/8 = 16."
   ]
  },
  {
   "cell_type": "code",
   "execution_count": null,
   "metadata": {
    "ExecuteTime": {
     "end_time": "2021-11-10T11:38:08.402314Z",
     "start_time": "2021-11-10T11:38:08.399498Z"
    }
   },
   "outputs": [],
   "source": [
    "# shoud this be \n",
    "pqlitse._vecs_storage[0].shape"
   ]
  },
  {
   "cell_type": "code",
   "execution_count": null,
   "metadata": {
    "ExecuteTime": {
     "end_time": "2021-11-10T11:38:09.999824Z",
     "start_time": "2021-11-10T11:38:09.997195Z"
    }
   },
   "outputs": [],
   "source": [
    "pqlite._vecs_storage[0].dtype"
   ]
  },
  {
   "cell_type": "code",
   "execution_count": null,
   "metadata": {},
   "outputs": [],
   "source": []
  },
  {
   "cell_type": "code",
   "execution_count": null,
   "metadata": {},
   "outputs": [],
   "source": []
  },
  {
   "cell_type": "code",
   "execution_count": null,
   "metadata": {},
   "outputs": [],
   "source": []
  },
  {
   "cell_type": "code",
   "execution_count": null,
   "metadata": {},
   "outputs": [],
   "source": []
  },
  {
   "cell_type": "code",
   "execution_count": null,
   "metadata": {},
   "outputs": [],
   "source": [
    "X = np.random.random((N, D)).astype(np.float32)  # 10,000 128-dim vectors to be indexed\n",
    "\n",
    "tags = [{'x': random.random()} for _ in range(N)]\n",
    "pqlite.add(X, ids=list(range(len(X))), doc_tags=tags)"
   ]
  },
  {
   "cell_type": "code",
   "execution_count": null,
   "metadata": {},
   "outputs": [],
   "source": []
  },
  {
   "cell_type": "code",
   "execution_count": null,
   "metadata": {},
   "outputs": [],
   "source": []
  },
  {
   "cell_type": "code",
   "execution_count": null,
   "metadata": {
    "ExecuteTime": {
     "end_time": "2021-11-10T10:04:05.403105Z",
     "start_time": "2021-11-10T10:04:05.400658Z"
    }
   },
   "outputs": [],
   "source": []
  },
  {
   "cell_type": "code",
   "execution_count": null,
   "metadata": {},
   "outputs": [],
   "source": []
  },
  {
   "cell_type": "code",
   "execution_count": null,
   "metadata": {},
   "outputs": [],
   "source": []
  },
  {
   "cell_type": "code",
   "execution_count": null,
   "metadata": {},
   "outputs": [],
   "source": [
    "len(pqlite._vecs_storage)"
   ]
  },
  {
   "cell_type": "code",
   "execution_count": null,
   "metadata": {},
   "outputs": [],
   "source": []
  },
  {
   "cell_type": "code",
   "execution_count": null,
   "metadata": {},
   "outputs": [],
   "source": []
  }
 ],
 "metadata": {
  "kernelspec": {
   "display_name": "Python 3 (ipykernel)",
   "language": "python",
   "name": "python3"
  },
  "language_info": {
   "codemirror_mode": {
    "name": "ipython",
    "version": 3
   },
   "file_extension": ".py",
   "mimetype": "text/x-python",
   "name": "python",
   "nbconvert_exporter": "python",
   "pygments_lexer": "ipython3",
   "version": "3.8.5"
  },
  "toc": {
   "base_numbering": 1,
   "nav_menu": {},
   "number_sections": true,
   "sideBar": true,
   "skip_h1_title": false,
   "title_cell": "Table of Contents",
   "title_sidebar": "Contents",
   "toc_cell": true,
   "toc_position": {
    "height": "calc(100% - 180px)",
    "left": "10px",
    "top": "150px",
    "width": "165px"
   },
   "toc_section_display": true,
   "toc_window_display": true
  },
  "varInspector": {
   "cols": {
    "lenName": 16,
    "lenType": 16,
    "lenVar": 40
   },
   "kernels_config": {
    "python": {
     "delete_cmd_postfix": "",
     "delete_cmd_prefix": "del ",
     "library": "var_list.py",
     "varRefreshCmd": "print(var_dic_list())"
    },
    "r": {
     "delete_cmd_postfix": ") ",
     "delete_cmd_prefix": "rm(",
     "library": "var_list.r",
     "varRefreshCmd": "cat(var_dic_list()) "
    }
   },
   "types_to_exclude": [
    "module",
    "function",
    "builtin_function_or_method",
    "instance",
    "_Feature"
   ],
   "window_display": false
  }
 },
 "nbformat": 4,
 "nbformat_minor": 4
}
