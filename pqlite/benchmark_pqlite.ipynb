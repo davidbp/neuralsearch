{
 "cells": [
  {
   "cell_type": "markdown",
   "metadata": {
    "toc": true
   },
   "source": [
    "<h1>Table of Contents<span class=\"tocSkip\"></span></h1>\n",
    "<div class=\"toc\"><ul class=\"toc-item\"><li><span><a href=\"#Time\" data-toc-modified-id=\"Time-1\"><span class=\"toc-item-num\">1&nbsp;&nbsp;</span>Time</a></span></li><li><span><a href=\"#Quality\" data-toc-modified-id=\"Quality-2\"><span class=\"toc-item-num\">2&nbsp;&nbsp;</span>Quality</a></span></li></ul></div>"
   ]
  },
  {
   "cell_type": "code",
   "execution_count": 1,
   "metadata": {
    "ExecuteTime": {
     "end_time": "2021-11-11T15:35:40.052553Z",
     "start_time": "2021-11-11T15:35:40.050696Z"
    }
   },
   "outputs": [],
   "source": [
    "## Benchmark pqlite"
   ]
  },
  {
   "cell_type": "code",
   "execution_count": 9,
   "metadata": {
    "ExecuteTime": {
     "end_time": "2021-11-11T15:56:44.936509Z",
     "start_time": "2021-11-11T15:56:44.929956Z"
    }
   },
   "outputs": [],
   "source": [
    "import pqlite\n",
    "pqlite.__path__\n",
    "\n",
    "import jina\n",
    "from jina.math.distance import cdist"
   ]
  },
  {
   "cell_type": "code",
   "execution_count": 62,
   "metadata": {
    "ExecuteTime": {
     "end_time": "2021-11-11T17:35:57.097813Z",
     "start_time": "2021-11-11T17:34:55.134259Z"
    },
    "scrolled": true
   },
   "outputs": [
    {
     "name": "stderr",
     "output_type": "stream",
     "text": [
      "2021-11-11 18:34:55.219 | INFO     | pqlite.index:fit:90 - => start training VQ codec with 100000 data...\n",
      "2021-11-11 18:34:58.738 | INFO     | pqlite.index:fit:93 - => start training PQ codec with 100000 data...\n",
      "2021-11-11 18:35:54.326 | INFO     | pqlite.index:fit:96 - => pqlite is successfully trained!\n",
      "2021-11-11 18:35:57.085 | DEBUG    | pqlite.storage.cell:_expand:148 - => total storage capacity is expanded by 100000 for 16 cells\n",
      "2021-11-11 18:35:57.092 | DEBUG    | pqlite.storage.cell:insert:90 - => 100000 new items added\n"
     ]
    }
   ],
   "source": [
    "import random\n",
    "import numpy as np\n",
    "from pqlite import PQLite\n",
    "\n",
    "#N = 100_000 # number of data points\n",
    "Nt = 100_000\n",
    "Nq = 1\n",
    "D = 128 # dimentionality / number of features\n",
    "top_k = 100\n",
    "n_cells = 16\n",
    "\n",
    "# 2,000 128-dim vectors for training\n",
    "np.random.seed(123)\n",
    "Xt = np.random.random((Nt, D)).astype(np.float32)  \n",
    "\n",
    "# the column schema: (name:str, dtype:type, create_index: bool)\n",
    "pq = PQLite(d_vector=D, n_cells=n_cells, n_subvectors=8, columns=[('x', float, True)])\n",
    "pq.fit(Xt)\n",
    "\n",
    "pq.add(Xt, ids=list(range(len(Xt))))"
   ]
  },
  {
   "cell_type": "code",
   "execution_count": 63,
   "metadata": {
    "ExecuteTime": {
     "end_time": "2021-11-11T17:35:57.171145Z",
     "start_time": "2021-11-11T17:35:57.121443Z"
    }
   },
   "outputs": [],
   "source": [
    "Nq = 1\n",
    "np.random.seed(123)\n",
    "query = np.random.random((Nq, D)).astype(np.float32)  # a 128-dim query vector\n",
    "\n",
    "# without filtering\n",
    "pq_dists, ids = pq.search(query, k=5)"
   ]
  },
  {
   "cell_type": "markdown",
   "metadata": {},
   "source": [
    "### Time"
   ]
  },
  {
   "cell_type": "code",
   "execution_count": 56,
   "metadata": {
    "ExecuteTime": {
     "end_time": "2021-11-11T17:34:32.164207Z",
     "start_time": "2021-11-11T17:34:30.297001Z"
    }
   },
   "outputs": [
    {
     "name": "stdout",
     "output_type": "stream",
     "text": [
      "22.9 ms ± 282 µs per loop (mean ± std. dev. of 7 runs, 10 loops each)\n"
     ]
    }
   ],
   "source": [
    "%timeit  pq.search(query,  k=top_k)"
   ]
  },
  {
   "cell_type": "code",
   "execution_count": 57,
   "metadata": {
    "ExecuteTime": {
     "end_time": "2021-11-11T17:34:43.265493Z",
     "start_time": "2021-11-11T17:34:32.212774Z"
    }
   },
   "outputs": [
    {
     "name": "stdout",
     "output_type": "stream",
     "text": [
      "13.7 ms ± 1.81 ms per loop (mean ± std. dev. of 7 runs, 100 loops each)\n"
     ]
    }
   ],
   "source": [
    "%timeit res = cdist(query, Xt, metric='euclidean')"
   ]
  },
  {
   "cell_type": "markdown",
   "metadata": {},
   "source": [
    "### Quality"
   ]
  },
  {
   "cell_type": "code",
   "execution_count": 58,
   "metadata": {
    "ExecuteTime": {
     "end_time": "2021-11-11T17:34:43.324427Z",
     "start_time": "2021-11-11T17:34:43.295131Z"
    }
   },
   "outputs": [
    {
     "name": "stdout",
     "output_type": "stream",
     "text": [
      "[3.839339  4.1845713 4.407036  ... 4.4052653 4.3757777 4.1821375]\n",
      "[89260 70691 93274 84864 60394 95720 46207 92802 35468 77584 56156  3003\n",
      " 84646 41134 73512 32089 18211 97690 80260 10882 65422 94438 35128 67024\n",
      " 40196  2506 93077 52740 42413 23847 61199 64831 47335 45481 97129 19182\n",
      " 21738 29857 93055 35355 91492 83421 99556 19810 18318   313 94143 72034\n",
      " 31437 55959  6201  2230 91150 60955 59653 23360 66408 54520 42348 11035\n",
      "  7395 15708 42821 69674  5172 97853  9644 80891 60907 68004 36777  7780\n",
      " 44418 64362  4165 92288 63462 61439 41443 24028 73553 91676 22931  7871\n",
      " 36275 33260  9038 49749 72351 10396 48762  2270 74220 62055 36117 48051\n",
      " 40144 68888  7269 68470]\n"
     ]
    }
   ],
   "source": [
    "true_distances = cdist(query, Xt, metric='euclidean').flatten()\n",
    "true_ids = np.argsort(true_distances)[0:top_k]\n",
    "print(true_distances)\n",
    "print(true_ids)"
   ]
  },
  {
   "cell_type": "code",
   "execution_count": 64,
   "metadata": {
    "ExecuteTime": {
     "end_time": "2021-11-11T17:35:57.239507Z",
     "start_time": "2021-11-11T17:35:57.191153Z"
    }
   },
   "outputs": [],
   "source": [
    "pq_dists, pq_ids = pq.search(query,  k=top_k)\n",
    "pq_ids = np.array([int(x) for x in pq_ids[0]])"
   ]
  },
  {
   "cell_type": "code",
   "execution_count": 65,
   "metadata": {
    "ExecuteTime": {
     "end_time": "2021-11-11T17:35:57.265128Z",
     "start_time": "2021-11-11T17:35:57.261949Z"
    },
    "code_folding": [
     11
    ]
   },
   "outputs": [],
   "source": [
    "\n",
    "def _precision(actual, desired, eval_at):\n",
    "    if eval_at == 0:\n",
    "        return 0.0\n",
    "    actual_at_k = actual[:eval_at]\n",
    "    ret = len(set(actual_at_k).intersection(set(desired)))\n",
    "    sub = len(actual_at_k)\n",
    "\n",
    "    return ret / sub\n",
    "\n",
    "def _recall(actual, desired, eval_at):\n",
    "    if eval_at == 0:\n",
    "        return 0.0\n",
    "    actual_at_k = actual[:eval_at]\n",
    "    ret = len(set(actual_at_k).intersection(set(desired)))\n",
    "    return ret / len(desired)\n"
   ]
  },
  {
   "cell_type": "code",
   "execution_count": 66,
   "metadata": {
    "ExecuteTime": {
     "end_time": "2021-11-11T17:35:57.289711Z",
     "start_time": "2021-11-11T17:35:57.287139Z"
    }
   },
   "outputs": [
    {
     "data": {
      "text/plain": [
       "0.0"
      ]
     },
     "execution_count": 66,
     "metadata": {},
     "output_type": "execute_result"
    }
   ],
   "source": [
    "_precision(true_ids, pq_ids, top_k)"
   ]
  },
  {
   "cell_type": "code",
   "execution_count": null,
   "metadata": {},
   "outputs": [],
   "source": []
  },
  {
   "cell_type": "code",
   "execution_count": null,
   "metadata": {},
   "outputs": [],
   "source": []
  },
  {
   "cell_type": "code",
   "execution_count": null,
   "metadata": {},
   "outputs": [],
   "source": []
  },
  {
   "cell_type": "code",
   "execution_count": null,
   "metadata": {},
   "outputs": [],
   "source": []
  }
 ],
 "metadata": {
  "kernelspec": {
   "display_name": "Python 3 (ipykernel)",
   "language": "python",
   "name": "python3"
  },
  "language_info": {
   "codemirror_mode": {
    "name": "ipython",
    "version": 3
   },
   "file_extension": ".py",
   "mimetype": "text/x-python",
   "name": "python",
   "nbconvert_exporter": "python",
   "pygments_lexer": "ipython3",
   "version": "3.8.5"
  },
  "toc": {
   "base_numbering": 1,
   "nav_menu": {},
   "number_sections": true,
   "sideBar": true,
   "skip_h1_title": false,
   "title_cell": "Table of Contents",
   "title_sidebar": "Contents",
   "toc_cell": true,
   "toc_position": {},
   "toc_section_display": true,
   "toc_window_display": true
  },
  "varInspector": {
   "cols": {
    "lenName": 16,
    "lenType": 16,
    "lenVar": 40
   },
   "kernels_config": {
    "python": {
     "delete_cmd_postfix": "",
     "delete_cmd_prefix": "del ",
     "library": "var_list.py",
     "varRefreshCmd": "print(var_dic_list())"
    },
    "r": {
     "delete_cmd_postfix": ") ",
     "delete_cmd_prefix": "rm(",
     "library": "var_list.r",
     "varRefreshCmd": "cat(var_dic_list()) "
    }
   },
   "types_to_exclude": [
    "module",
    "function",
    "builtin_function_or_method",
    "instance",
    "_Feature"
   ],
   "window_display": false
  }
 },
 "nbformat": 4,
 "nbformat_minor": 4
}
