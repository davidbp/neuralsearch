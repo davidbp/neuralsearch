{
 "cells": [
  {
   "cell_type": "markdown",
   "metadata": {
    "toc": true
   },
   "source": [
    "<h1>Table of Contents<span class=\"tocSkip\"></span></h1>\n",
    "<div class=\"toc\"><ul class=\"toc-item\"><li><span><a href=\"#PySparNN\" data-toc-modified-id=\"PySparNN-1\"><span class=\"toc-item-num\">1&nbsp;&nbsp;</span>PySparNN</a></span><ul class=\"toc-item\"><li><span><a href=\"#PysParNN-also-works-with-scipy-coo-matrices\" data-toc-modified-id=\"PysParNN-also-works-with-scipy-coo-matrices-1.1\"><span class=\"toc-item-num\">1.1&nbsp;&nbsp;</span>PysParNN also works with scipy coo matrices</a></span></li><li><span><a href=\"#'Performant'-example\" data-toc-modified-id=\"'Performant'-example-1.2\"><span class=\"toc-item-num\">1.2&nbsp;&nbsp;</span>'Performant' example</a></span></li><li><span><a href=\"#Insert-elements\" data-toc-modified-id=\"Insert-elements-1.3\"><span class=\"toc-item-num\">1.3&nbsp;&nbsp;</span>Insert elements</a></span></li><li><span><a href=\"#Important-notes:\" data-toc-modified-id=\"Important-notes:-1.4\"><span class=\"toc-item-num\">1.4&nbsp;&nbsp;</span>Important notes:</a></span></li></ul></li></ul></div>"
   ]
  },
  {
   "cell_type": "markdown",
   "metadata": {
    "ExecuteTime": {
     "end_time": "2021-03-31T08:01:10.389843Z",
     "start_time": "2021-03-31T08:01:10.388211Z"
    }
   },
   "source": [
    "# PySparNN\n",
    "\n",
    "\n",
    "- Git: https://github.com/facebookresearch/pysparnn\n",
    "\n",
    "- Summary: Approximate Nearest Neighbor Search for Sparse Data in Python\n",
    "\n",
    "\n"
   ]
  },
  {
   "cell_type": "code",
   "execution_count": 16,
   "metadata": {
    "ExecuteTime": {
     "end_time": "2021-03-31T13:37:57.195271Z",
     "start_time": "2021-03-31T13:37:56.851106Z"
    }
   },
   "outputs": [
    {
     "data": {
      "text/plain": [
       "<1000x20000 sparse matrix of type '<class 'numpy.int64'>'\n",
       "\twith 199873 stored elements in Compressed Sparse Row format>"
      ]
     },
     "execution_count": 16,
     "metadata": {},
     "output_type": "execute_result"
    }
   ],
   "source": [
    "import pysparnn.cluster_index as ci\n",
    "\n",
    "import numpy as np\n",
    "import scipy\n",
    "from scipy.sparse import csr_matrix\n",
    "\n",
    "features = np.random.binomial(1, 0.01, size=(1000, 20000))\n",
    "csr_features = csr_matrix(features)\n",
    "csr_features"
   ]
  },
  {
   "cell_type": "code",
   "execution_count": 17,
   "metadata": {
    "ExecuteTime": {
     "end_time": "2021-03-31T13:37:57.218387Z",
     "start_time": "2021-03-31T13:37:57.213246Z"
    }
   },
   "outputs": [
    {
     "data": {
      "text/plain": [
       "<pysparnn.cluster_index.MultiClusterIndex at 0x1296b1730>"
      ]
     },
     "execution_count": 17,
     "metadata": {},
     "output_type": "execute_result"
    }
   ],
   "source": [
    "# build the search index!\n",
    "data_to_return = range(1000)\n",
    "cp = ci.MultiClusterIndex(csr_features, data_to_return)\n",
    "cp"
   ]
  },
  {
   "cell_type": "code",
   "execution_count": 18,
   "metadata": {
    "ExecuteTime": {
     "end_time": "2021-03-31T13:37:58.771485Z",
     "start_time": "2021-03-31T13:37:58.762624Z"
    },
    "scrolled": true
   },
   "outputs": [
    {
     "data": {
      "text/plain": [
       "[[0.0], [1.0], [2.0], [3.0], [4.0]]"
      ]
     },
     "execution_count": 18,
     "metadata": {},
     "output_type": "execute_result"
    }
   ],
   "source": [
    "cp.search(csr_features[:5], k=1, return_distance=False)"
   ]
  },
  {
   "cell_type": "markdown",
   "metadata": {},
   "source": [
    "## PysParNN also works with scipy coo matrices"
   ]
  },
  {
   "cell_type": "code",
   "execution_count": 19,
   "metadata": {
    "ExecuteTime": {
     "end_time": "2021-03-31T14:01:10.894049Z",
     "start_time": "2021-03-31T14:01:10.756393Z"
    }
   },
   "outputs": [
    {
     "data": {
      "text/plain": [
       "[[0.0], [1.0], [2.0], [3.0], [4.0]]"
      ]
     },
     "execution_count": 19,
     "metadata": {},
     "output_type": "execute_result"
    }
   ],
   "source": [
    "# build the search index!\n",
    "data_to_return = range(1000)\n",
    "coo_features = scipy.sparse.coo_matrix(features)\n",
    "cp = ci.MultiClusterIndex(coo_features, data_to_return)\n",
    "cp.search(csr_features[:5], k=1, return_distance=False)"
   ]
  },
  {
   "cell_type": "markdown",
   "metadata": {},
   "source": [
    "## 'Performant' example"
   ]
  },
  {
   "cell_type": "code",
   "execution_count": 99,
   "metadata": {
    "ExecuteTime": {
     "end_time": "2021-03-31T14:49:10.819852Z",
     "start_time": "2021-03-31T14:49:10.815485Z"
    }
   },
   "outputs": [],
   "source": [
    "import pysparnn.cluster_index as ci\n",
    "\n",
    "from sklearn.feature_extraction.text import TfidfVectorizer\n",
    "\n",
    "data = [\n",
    "    'hello world',\n",
    "    'oh hello there',\n",
    "    'Play it',\n",
    "    'Play it again Sam',\n",
    "]   \n",
    "\n",
    "keys = range(len(data))\n",
    "\n",
    "tv = TfidfVectorizer()\n",
    "tv.fit(data)\n",
    "\n",
    "features_vec = tv.transform(data)\n",
    "\n",
    "# build the search index!\n",
    "cp = ci.MultiClusterIndex(features_vec, data)\n"
   ]
  },
  {
   "cell_type": "code",
   "execution_count": 21,
   "metadata": {
    "ExecuteTime": {
     "end_time": "2021-03-31T14:49:11.056787Z",
     "start_time": "2021-03-31T14:49:11.051098Z"
    }
   },
   "outputs": [
    {
     "data": {
      "text/plain": [
       "[['oh hello there', 'hello world', 'Play it', 'Play it again Sam'],\n",
       " ['Play it again Sam', 'Play it', 'hello world', 'oh hello there']]"
      ]
     },
     "execution_count": 21,
     "metadata": {},
     "output_type": "execute_result"
    }
   ],
   "source": [
    "# search the index with a sparse matrix\n",
    "search_data = [\n",
    "    'oh there',\n",
    "    'Play it again Frank'\n",
    "]\n",
    "\n",
    "search_features_vec = tv.transform(search_data)\n",
    "cp.search(search_features_vec, k=5, k_clusters=2, return_distance=False)"
   ]
  },
  {
   "cell_type": "markdown",
   "metadata": {},
   "source": [
    "In Jina we would use keys instead of the raw data directly"
   ]
  },
  {
   "cell_type": "code",
   "execution_count": 22,
   "metadata": {
    "ExecuteTime": {
     "end_time": "2021-03-31T14:49:34.241237Z",
     "start_time": "2021-03-31T14:49:34.239232Z"
    }
   },
   "outputs": [],
   "source": [
    "keys = [int(x) for x in range(len(data))]"
   ]
  },
  {
   "cell_type": "code",
   "execution_count": 205,
   "metadata": {
    "ExecuteTime": {
     "end_time": "2021-03-31T14:49:34.524752Z",
     "start_time": "2021-03-31T14:49:34.520142Z"
    },
    "scrolled": true
   },
   "outputs": [
    {
     "data": {
      "text/plain": [
       "[[(0.12656138024977548, 1.0), (1.0, 0.0), (1.0, 2.0), (1.0, 3.0)]]"
      ]
     },
     "execution_count": 205,
     "metadata": {},
     "output_type": "execute_result"
    }
   ],
   "source": [
    "cp = ci.MultiClusterIndex(features_vec, keys)\n",
    "cp.search(search_features_vec[0], k=5, k_clusters=2, return_distance=True)"
   ]
  },
  {
   "cell_type": "markdown",
   "metadata": {
    "ExecuteTime": {
     "end_time": "2021-03-31T14:00:38.716195Z",
     "start_time": "2021-03-31T14:00:38.714611Z"
    }
   },
   "source": [
    "## Insert elements"
   ]
  },
  {
   "cell_type": "code",
   "execution_count": 24,
   "metadata": {
    "ExecuteTime": {
     "end_time": "2021-03-31T14:37:50.766254Z",
     "start_time": "2021-03-31T14:37:50.763837Z"
    }
   },
   "outputs": [],
   "source": [
    "cp = ci.MultiClusterIndex(features_vec, data)"
   ]
  },
  {
   "cell_type": "code",
   "execution_count": 25,
   "metadata": {
    "ExecuteTime": {
     "end_time": "2021-03-31T14:37:51.004911Z",
     "start_time": "2021-03-31T14:37:51.002031Z"
    }
   },
   "outputs": [],
   "source": [
    "record = \"Hello Play it again\"\n",
    "record_feat = tv.transform([record])"
   ]
  },
  {
   "cell_type": "code",
   "execution_count": 26,
   "metadata": {
    "ExecuteTime": {
     "end_time": "2021-03-31T14:37:51.420039Z",
     "start_time": "2021-03-31T14:37:51.417043Z"
    }
   },
   "outputs": [],
   "source": [
    "cp.insert(feature=record_feat,record=record)"
   ]
  },
  {
   "cell_type": "code",
   "execution_count": 27,
   "metadata": {
    "ExecuteTime": {
     "end_time": "2021-03-31T14:37:52.726560Z",
     "start_time": "2021-03-31T14:37:52.721169Z"
    }
   },
   "outputs": [
    {
     "data": {
      "text/plain": [
       "[[('0.0', 'Hello Play it again'),\n",
       "  ('0.26407460986755116', 'Play it again Sam')]]"
      ]
     },
     "execution_count": 27,
     "metadata": {},
     "output_type": "execute_result"
    }
   ],
   "source": [
    "cp.search(record_feat, k=2)"
   ]
  },
  {
   "cell_type": "markdown",
   "metadata": {},
   "source": [
    "## Important notes: "
   ]
  },
  {
   "cell_type": "code",
   "execution_count": 185,
   "metadata": {
    "ExecuteTime": {
     "end_time": "2021-03-31T14:37:53.759666Z",
     "start_time": "2021-03-31T14:37:53.755632Z"
    }
   },
   "outputs": [],
   "source": [
    "cp = ci.MultiClusterIndex(features_vec, data)\n",
    "record = \"Hello Play it again\"\n",
    "record_feat = tv.transform([record])\n",
    "cp.insert(feature=record_feat,record=record)"
   ]
  },
  {
   "cell_type": "markdown",
   "metadata": {},
   "source": [
    "Notice a little issue: when inserting twice an element the algorithm\n",
    "does not take into account it is already there the record.\n",
    "\n",
    "- If we run again `cp.insert(feature=record_feat,record=record)` \n",
    "- And then `cp.search(record_feat, k=2)` we see a single item"
   ]
  },
  {
   "cell_type": "code",
   "execution_count": 177,
   "metadata": {
    "ExecuteTime": {
     "end_time": "2021-03-31T14:26:25.526390Z",
     "start_time": "2021-03-31T14:26:25.522775Z"
    }
   },
   "outputs": [],
   "source": [
    "cp.insert(feature=record_feat,record=record)"
   ]
  },
  {
   "cell_type": "code",
   "execution_count": 179,
   "metadata": {
    "ExecuteTime": {
     "end_time": "2021-03-31T14:26:42.583231Z",
     "start_time": "2021-03-31T14:26:42.577916Z"
    }
   },
   "outputs": [
    {
     "data": {
      "text/plain": [
       "[[('0.0', 'Hello Play it again'),\n",
       "  ('0.26407460986755116', 'Play it again Sam')]]"
      ]
     },
     "execution_count": 179,
     "metadata": {},
     "output_type": "execute_result"
    }
   ],
   "source": [
    "cp.search(record_feat, k=3)"
   ]
  },
  {
   "cell_type": "markdown",
   "metadata": {},
   "source": [
    "## Using Pysparnn in Jina"
   ]
  },
  {
   "cell_type": "code",
   "execution_count": 194,
   "metadata": {},
   "outputs": [],
   "source": [
    "from jina.executors.indexers.vector import BaseVectorIndexer\n",
    "\n",
    "\n",
    "class PysparnnIndexer(BaseVectorIndexer):\n",
    "    \"\"\"\n",
    "    :class:`PysparnnIndexer` Approximate Nearest Neighbor Search for Sparse Data in Python using PySparNN.\n",
    "\n",
    "\n",
    "    \"\"\"\n",
    "\n",
    "    def __init__(self, k_clusters=2, num_indexes=None, *args, **kwargs):\n",
    "        super().__init__(*args, **kwargs)\n",
    "\n",
    "        self.k_clusters = k_clusters\n",
    "        self.num_indexes = num_indexes\n",
    "\n",
    "    def post_init(self):\n",
    "        self.index = {}\n",
    "        self.mci = None\n",
    "\n",
    "    def _build_advanced_index(self):\n",
    "        keys = []\n",
    "        indexed_vectors = []\n",
    "        import pysparnn.cluster_index as ci\n",
    "        for key, vector in self.index.items():\n",
    "            keys.append(key)\n",
    "            indexed_vectors.append(vector)\n",
    "        \n",
    "        self.mci = ci.MultiClusterIndex(scipy.sparse.vstack(indexed_vectors), keys)\n",
    "\n",
    "    def query(self, vectors, top_k, *args, **kwargs):\n",
    "\n",
    "        if not self.mci:\n",
    "            self._build_advanced_index()\n",
    "\n",
    "        print('build advanced index done')\n",
    "        index_distance_pairs = self.mci.search(vectors,\n",
    "                                        k=top_k,\n",
    "                                        k_clusters=self.k_clusters,\n",
    "                                        num_indexes=self.num_indexes,\n",
    "                                        return_distance=True)\n",
    "        distances, indices = zip(*index_distance_pairs[0])\n",
    "    \n",
    "        return indices, distances\n",
    "\n",
    "    def add(self, keys, vectors, *args, **kwargs):\n",
    "        if self.mci is not None:\n",
    "            raise Exception(' Not possible query while indexing')\n",
    "        for key, vector in zip(keys, vectors):\n",
    "            self.index[key] = vector\n",
    "\n",
    "    def update(\n",
    "            self, keys, vectors, *args, **kwargs\n",
    "    ) -> None:\n",
    "        if self.mci is not None:\n",
    "            raise Exception(' Not possible query while indexing')\n",
    "        for key, vector in zip(keys, vectors):\n",
    "            self.index[key] = vector\n",
    "\n",
    "    def delete(self, keys, *args, **kwargs) -> None:\n",
    "        if self.mci is not None:\n",
    "            raise Exception(' Not possible query while indexing')\n",
    "        for key in keys:\n",
    "            del self.index[key]\n"
   ]
  },
  {
   "cell_type": "code",
   "execution_count": 195,
   "metadata": {},
   "outputs": [
    {
     "name": "stdout",
     "output_type": "stream",
     "text": [
      "PysparnnIndexer@3355[I]:post_init may take some time...\n",
      "PysparnnIndexer@3355[I]:post_init may take some time takes 0 seconds (0.00s)\n"
     ]
    }
   ],
   "source": [
    "indexer = PysparnnIndexer()"
   ]
  },
  {
   "cell_type": "code",
   "execution_count": 196,
   "metadata": {},
   "outputs": [],
   "source": [
    "indexer.post_init()"
   ]
  },
  {
   "cell_type": "code",
   "execution_count": 197,
   "metadata": {},
   "outputs": [],
   "source": [
    "for index in range(len(data)):\n",
    "    indexer.add(keys=[index], vectors=[features_vec[index]])"
   ]
  },
  {
   "cell_type": "code",
   "execution_count": 198,
   "metadata": {},
   "outputs": [],
   "source": [
    "indexer._build_advanced_index()"
   ]
  },
  {
   "cell_type": "code",
   "execution_count": 200,
   "metadata": {},
   "outputs": [
    {
     "name": "stdout",
     "output_type": "stream",
     "text": [
      "build advanced index done\n"
     ]
    }
   ],
   "source": [
    "indices, distances = indexer.query(search_features_vec[0], top_k=4)"
   ]
  },
  {
   "cell_type": "code",
   "execution_count": 202,
   "metadata": {},
   "outputs": [
    {
     "data": {
      "text/plain": [
       "(1.0, 0.0, 2.0, 3.0)"
      ]
     },
     "execution_count": 202,
     "metadata": {},
     "output_type": "execute_result"
    }
   ],
   "source": [
    "indices"
   ]
  },
  {
   "cell_type": "code",
   "execution_count": 203,
   "metadata": {},
   "outputs": [
    {
     "data": {
      "text/plain": [
       "(0.12656138024977548, 1.0, 1.0, 1.0)"
      ]
     },
     "execution_count": 203,
     "metadata": {},
     "output_type": "execute_result"
    }
   ],
   "source": [
    "distances"
   ]
  },
  {
   "cell_type": "code",
   "execution_count": null,
   "metadata": {},
   "outputs": [],
   "source": []
  },
  {
   "cell_type": "code",
   "execution_count": null,
   "metadata": {},
   "outputs": [],
   "source": []
  },
  {
   "cell_type": "code",
   "execution_count": null,
   "metadata": {},
   "outputs": [],
   "source": []
  },
  {
   "cell_type": "code",
   "execution_count": null,
   "metadata": {},
   "outputs": [],
   "source": []
  },
  {
   "cell_type": "markdown",
   "metadata": {},
   "source": [
    "#### Understanding `_build_advanced_index`"
   ]
  },
  {
   "cell_type": "code",
   "execution_count": 132,
   "metadata": {},
   "outputs": [
    {
     "name": "stdout",
     "output_type": "stream",
     "text": [
      "PysparnnIndexer@3355[I]:post_init may take some time...\n",
      "PysparnnIndexer@3355[I]:post_init may take some time takes 0 seconds (0.00s)\n"
     ]
    }
   ],
   "source": [
    "indexer = PysparnnIndexer()\n",
    "indexer.post_init()"
   ]
  },
  {
   "cell_type": "code",
   "execution_count": 133,
   "metadata": {},
   "outputs": [],
   "source": [
    "for index in range(len(data)):\n",
    "    indexer.add(keys=[index], vectors=[features_vec[index]])"
   ]
  },
  {
   "cell_type": "code",
   "execution_count": 134,
   "metadata": {},
   "outputs": [
    {
     "data": {
      "text/plain": [
       "{0: <1x8 sparse matrix of type '<class 'numpy.float64'>'\n",
       " \twith 2 stored elements in Compressed Sparse Row format>,\n",
       " 1: <1x8 sparse matrix of type '<class 'numpy.float64'>'\n",
       " \twith 3 stored elements in Compressed Sparse Row format>,\n",
       " 2: <1x8 sparse matrix of type '<class 'numpy.float64'>'\n",
       " \twith 2 stored elements in Compressed Sparse Row format>,\n",
       " 3: <1x8 sparse matrix of type '<class 'numpy.float64'>'\n",
       " \twith 4 stored elements in Compressed Sparse Row format>}"
      ]
     },
     "execution_count": 134,
     "metadata": {},
     "output_type": "execute_result"
    }
   ],
   "source": [
    "indexer.index"
   ]
  },
  {
   "cell_type": "markdown",
   "metadata": {},
   "source": [
    "You can `fit` the indexer using `_build_advanced_index`"
   ]
  },
  {
   "cell_type": "code",
   "execution_count": 135,
   "metadata": {},
   "outputs": [],
   "source": [
    "keys = []\n",
    "indexed_vectors = []\n",
    "import pysparnn.cluster_index as ci\n",
    "for key, vector in indexer.index.items():\n",
    "    keys.append(key)\n",
    "    indexed_vectors.append(vector)"
   ]
  },
  {
   "cell_type": "code",
   "execution_count": 136,
   "metadata": {
    "scrolled": true
   },
   "outputs": [
    {
     "data": {
      "text/plain": [
       "[<1x8 sparse matrix of type '<class 'numpy.float64'>'\n",
       " \twith 2 stored elements in Compressed Sparse Row format>,\n",
       " <1x8 sparse matrix of type '<class 'numpy.float64'>'\n",
       " \twith 3 stored elements in Compressed Sparse Row format>,\n",
       " <1x8 sparse matrix of type '<class 'numpy.float64'>'\n",
       " \twith 2 stored elements in Compressed Sparse Row format>,\n",
       " <1x8 sparse matrix of type '<class 'numpy.float64'>'\n",
       " \twith 4 stored elements in Compressed Sparse Row format>]"
      ]
     },
     "execution_count": 136,
     "metadata": {},
     "output_type": "execute_result"
    }
   ],
   "source": [
    "indexed_vectors"
   ]
  },
  {
   "cell_type": "code",
   "execution_count": 138,
   "metadata": {},
   "outputs": [],
   "source": [
    "aux = ci.MultiClusterIndex(scipy.sparse.vstack(indexed_vectors), keys)"
   ]
  },
  {
   "cell_type": "code",
   "execution_count": 139,
   "metadata": {},
   "outputs": [
    {
     "data": {
      "text/plain": [
       "[0, 1, 2, 3]"
      ]
     },
     "execution_count": 139,
     "metadata": {},
     "output_type": "execute_result"
    }
   ],
   "source": [
    "keys"
   ]
  },
  {
   "cell_type": "code",
   "execution_count": null,
   "metadata": {},
   "outputs": [],
   "source": []
  }
 ],
 "metadata": {
  "kernelspec": {
   "display_name": "Python 3",
   "language": "python",
   "name": "python3"
  },
  "language_info": {
   "codemirror_mode": {
    "name": "ipython",
    "version": 3
   },
   "file_extension": ".py",
   "mimetype": "text/x-python",
   "name": "python",
   "nbconvert_exporter": "python",
   "pygments_lexer": "ipython3",
   "version": "3.9.2"
  },
  "toc": {
   "base_numbering": 1,
   "nav_menu": {},
   "number_sections": true,
   "sideBar": true,
   "skip_h1_title": false,
   "title_cell": "Table of Contents",
   "title_sidebar": "Contents",
   "toc_cell": true,
   "toc_position": {},
   "toc_section_display": true,
   "toc_window_display": true
  },
  "varInspector": {
   "cols": {
    "lenName": 16,
    "lenType": 16,
    "lenVar": 40
   },
   "kernels_config": {
    "python": {
     "delete_cmd_postfix": "",
     "delete_cmd_prefix": "del ",
     "library": "var_list.py",
     "varRefreshCmd": "print(var_dic_list())"
    },
    "r": {
     "delete_cmd_postfix": ") ",
     "delete_cmd_prefix": "rm(",
     "library": "var_list.r",
     "varRefreshCmd": "cat(var_dic_list()) "
    }
   },
   "types_to_exclude": [
    "module",
    "function",
    "builtin_function_or_method",
    "instance",
    "_Feature"
   ],
   "window_display": false
  }
 },
 "nbformat": 4,
 "nbformat_minor": 4
}
