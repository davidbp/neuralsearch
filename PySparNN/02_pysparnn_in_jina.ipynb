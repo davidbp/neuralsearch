{
 "cells": [
  {
   "cell_type": "markdown",
   "metadata": {
    "toc": true
   },
   "source": [
    "<h1>Table of Contents<span class=\"tocSkip\"></span></h1>\n",
    "<div class=\"toc\"><ul class=\"toc-item\"><li><span><a href=\"#PySparNN\" data-toc-modified-id=\"PySparNN-1\"><span class=\"toc-item-num\">1&nbsp;&nbsp;</span>PySparNN</a></span><ul class=\"toc-item\"><li><span><a href=\"#PysParNN-also-works-with-scipy-coo-matrices\" data-toc-modified-id=\"PysParNN-also-works-with-scipy-coo-matrices-1.1\"><span class=\"toc-item-num\">1.1&nbsp;&nbsp;</span>PysParNN also works with scipy coo matrices</a></span></li><li><span><a href=\"#'Performant'-example\" data-toc-modified-id=\"'Performant'-example-1.2\"><span class=\"toc-item-num\">1.2&nbsp;&nbsp;</span>'Performant' example</a></span></li><li><span><a href=\"#Insert-elements\" data-toc-modified-id=\"Insert-elements-1.3\"><span class=\"toc-item-num\">1.3&nbsp;&nbsp;</span>Insert elements</a></span></li><li><span><a href=\"#Important-notes:\" data-toc-modified-id=\"Important-notes:-1.4\"><span class=\"toc-item-num\">1.4&nbsp;&nbsp;</span>Important notes:</a></span></li></ul></li></ul></div>"
   ]
  },
  {
   "cell_type": "markdown",
   "metadata": {
    "ExecuteTime": {
     "end_time": "2021-03-31T08:01:10.389843Z",
     "start_time": "2021-03-31T08:01:10.388211Z"
    }
   },
   "source": [
    "# PySparNN\n",
    "\n",
    "\n",
    "- Git: https://github.com/facebookresearch/pysparnn\n",
    "\n",
    "- Summary: Approximate Nearest Neighbor Search for Sparse Data in Python\n",
    "\n",
    "\n"
   ]
  },
  {
   "cell_type": "code",
   "execution_count": 1,
   "metadata": {
    "ExecuteTime": {
     "end_time": "2021-03-31T13:37:57.195271Z",
     "start_time": "2021-03-31T13:37:56.851106Z"
    }
   },
   "outputs": [],
   "source": [
    "import pysparnn.cluster_index as ci\n",
    "\n",
    "import numpy as np\n",
    "import scipy\n",
    "from scipy.sparse import csr_matrix"
   ]
  },
  {
   "cell_type": "code",
   "execution_count": 2,
   "metadata": {
    "ExecuteTime": {
     "end_time": "2021-03-31T14:49:10.819852Z",
     "start_time": "2021-03-31T14:49:10.815485Z"
    }
   },
   "outputs": [],
   "source": [
    "import pysparnn.cluster_index as ci\n",
    "\n",
    "from sklearn.feature_extraction.text import TfidfVectorizer\n",
    "\n",
    "data = [\n",
    "    'hello world',\n",
    "    'oh hello there',\n",
    "    'Play it',\n",
    "    'Play it again Sam',\n",
    "]   \n",
    "\n",
    "keys = range(len(data))\n",
    "\n",
    "tv = TfidfVectorizer()\n",
    "tv.fit(data)\n",
    "\n",
    "features_vec = tv.transform(data)\n",
    "\n",
    "# build the search index!\n",
    "cp = ci.MultiClusterIndex(features_vec, data)\n"
   ]
  },
  {
   "cell_type": "code",
   "execution_count": 3,
   "metadata": {
    "ExecuteTime": {
     "end_time": "2021-03-31T14:49:11.056787Z",
     "start_time": "2021-03-31T14:49:11.051098Z"
    }
   },
   "outputs": [
    {
     "data": {
      "text/plain": [
       "[['oh hello there', 'hello world', 'Play it', 'Play it again Sam'],\n",
       " ['Play it again Sam', 'Play it', 'hello world', 'oh hello there']]"
      ]
     },
     "execution_count": 3,
     "metadata": {},
     "output_type": "execute_result"
    }
   ],
   "source": [
    "# search the index with a sparse matrix\n",
    "search_data = [\n",
    "    'oh there',\n",
    "    'Play it again Frank'\n",
    "]\n",
    "\n",
    "search_features_vec = tv.transform(search_data)\n",
    "cp.search(search_features_vec, k=5, k_clusters=2, return_distance=False)"
   ]
  },
  {
   "cell_type": "markdown",
   "metadata": {},
   "source": [
    "## Using Pysparnn in Jina"
   ]
  },
  {
   "cell_type": "code",
   "execution_count": 247,
   "metadata": {},
   "outputs": [],
   "source": [
    "from jina.executors.indexers.vector import BaseVectorIndexer\n",
    "\n",
    "\n",
    "class PysparnnIndexer(BaseVectorIndexer):\n",
    "    \"\"\"\n",
    "    :class:`PysparnnIndexer` Approximate Nearest Neighbor Search for Sparse Data in Python using PySparNN.\n",
    "\n",
    "    \"\"\"\n",
    "\n",
    "    def __init__(self, k_clusters=2, num_indexes=None, *args, **kwargs):\n",
    "        super().__init__(*args, **kwargs)\n",
    "\n",
    "        self.k_clusters = k_clusters\n",
    "        self.num_indexes = num_indexes\n",
    "\n",
    "    def post_init(self):\n",
    "        self.index = {}\n",
    "        self.mci = None\n",
    "\n",
    "    def _build_advanced_index(self):\n",
    "        keys = []\n",
    "        indexed_vectors = []\n",
    "        import pysparnn.cluster_index as ci\n",
    "        for key, vector in self.index.items():\n",
    "            keys.append(key)\n",
    "            indexed_vectors.append(vector)\n",
    "        \n",
    "        self.mci = ci.MultiClusterIndex(scipy.sparse.vstack(indexed_vectors), keys)\n",
    "\n",
    "    def query(self, vectors, top_k, *args, **kwargs):\n",
    "        \"\"\"Find the top-k vectors with smallest ``metric`` and return their ids in ascending order.\n",
    "\n",
    "        :return: a tuple of two ndarrays.\n",
    "            The first array contains indices, the second array contains distances.\n",
    "            If `n_vectors = vector.shape[0]` both arrays have shape `n_vectors x top_k`\n",
    "\n",
    "        :param vectors: the vectors with which to search\n",
    "        :param args: not used\n",
    "        :param kwargs: not used\n",
    "        :param top_k: number of results to return\n",
    "        :return: tuple of arrays of the form `(indices, distances)`\n",
    "        \"\"\"\n",
    "\n",
    "        if not self.mci:\n",
    "            self._build_advanced_index()\n",
    "\n",
    "        n_elements = search_features_vec.shape[0]\n",
    "        index_distance_pairs = self.mci.search(vectors,\n",
    "                                               k=top_k,\n",
    "                                               k_clusters=self.k_clusters,\n",
    "                                               num_indexes=self.num_indexes,\n",
    "                                               return_distance=True)\n",
    "        distances = []\n",
    "        indices = [] \n",
    "        for record in index_distance_pairs:\n",
    "            distances_to_record, indices_to_record = zip(*record)\n",
    "            distances.append(distances_to_record)\n",
    "            indices.append(indices_to_record)\n",
    "\n",
    "        return np.array(indices), np.array(distances)\n",
    "    \n",
    "    def add(self, keys, vectors, *args, **kwargs):\n",
    "        if self.mci is not None:\n",
    "            raise Exception(' Not possible query while indexing')\n",
    "        for key, vector in zip(keys, vectors):\n",
    "            self.index[key] = vector\n",
    "        \n",
    "    def update(\n",
    "            self, keys, vectors, *args, **kwargs\n",
    "    ) -> None:\n",
    "        if self.mci is not None:\n",
    "            raise Exception(' Not possible query while indexing')\n",
    "        for key, vector in zip(keys, vectors):\n",
    "            self.index[key] = vector\n",
    "\n",
    "    def delete(self, keys, *args, **kwargs) -> None:\n",
    "        if self.mci is not None:\n",
    "            raise Exception(' Not possible query while indexing')\n",
    "        for key in keys:\n",
    "            del self.index[key]\n",
    "\n",
    "    def store_index_to_disk(self):\n",
    "        \"\"\"Store self.index to disk\"\"\"\n",
    "        scipy.sparse.save_npz('./vectors.npz', scipy.sparse.vstack(self.index.values()))\n",
    "        \n",
    "        with open('./indices.npy', 'wb') as f:\n",
    "            np.save(f, list(self.index.keys()))\n",
    "\n",
    "    def load_index_from_disk(self):\n",
    "        \"\"\"Load self.index from disk\"\"\"\n",
    "        vectors = scipy.sparse.load_npz('./vectors.npz')\n",
    "            \n",
    "        with open('./indices.npy', 'rb') as f:\n",
    "            indices = np.load(f)\n",
    "            \n",
    "        self.index = {ind:vec for ind,vec in zip(indices, vectors)}        "
   ]
  },
  {
   "cell_type": "code",
   "execution_count": 248,
   "metadata": {},
   "outputs": [
    {
     "name": "stdout",
     "output_type": "stream",
     "text": [
      "PysparnnIndexer@4248[I]:post_init may take some time...\n",
      "PysparnnIndexer@4248[I]:post_init may take some time takes 0 seconds (0.00s)\n"
     ]
    }
   ],
   "source": [
    "indexer = PysparnnIndexer()"
   ]
  },
  {
   "cell_type": "code",
   "execution_count": 249,
   "metadata": {},
   "outputs": [],
   "source": [
    "indexer.post_init()"
   ]
  },
  {
   "cell_type": "code",
   "execution_count": 250,
   "metadata": {},
   "outputs": [],
   "source": [
    "for index in range(len(data)):\n",
    "    indexer.add(keys=[index], vectors=[features_vec[index]])"
   ]
  },
  {
   "cell_type": "code",
   "execution_count": 251,
   "metadata": {},
   "outputs": [],
   "source": [
    "indexer._build_advanced_index()"
   ]
  },
  {
   "cell_type": "code",
   "execution_count": 252,
   "metadata": {
    "scrolled": false
   },
   "outputs": [],
   "source": [
    "vectors = search_features_vec\n",
    "n_elements = vectors.shape[0]\n",
    "indices, distances = indexer.query(search_features_vec, top_k=4)\n",
    "#aux = indexer.query(vectors, top_k=4)"
   ]
  },
  {
   "cell_type": "code",
   "execution_count": 253,
   "metadata": {},
   "outputs": [
    {
     "data": {
      "text/plain": [
       "array([[1., 0., 2., 3.],\n",
       "       [3., 2., 0., 1.]])"
      ]
     },
     "execution_count": 253,
     "metadata": {},
     "output_type": "execute_result"
    }
   ],
   "source": [
    "indices"
   ]
  },
  {
   "cell_type": "code",
   "execution_count": 254,
   "metadata": {
    "scrolled": true
   },
   "outputs": [
    {
     "data": {
      "text/plain": [
       "array([[0.12656138, 1.        , 1.        , 1.        ],\n",
       "       [0.16833831, 0.2555503 , 1.        , 1.        ]])"
      ]
     },
     "execution_count": 254,
     "metadata": {},
     "output_type": "execute_result"
    }
   ],
   "source": [
    "distances"
   ]
  },
  {
   "cell_type": "markdown",
   "metadata": {},
   "source": [
    "## Storing index to disk"
   ]
  },
  {
   "cell_type": "code",
   "execution_count": 255,
   "metadata": {},
   "outputs": [],
   "source": [
    "indexer.store_index_to_disk()"
   ]
  },
  {
   "cell_type": "code",
   "execution_count": 256,
   "metadata": {},
   "outputs": [
    {
     "name": "stdout",
     "output_type": "stream",
     "text": [
      "01_introduction_pysparnn.ipynb       \u001b[34m__main__.PysparnnIndexer-6d5683ae-0\u001b[m\u001b[m/ pysparnn_integration.ipynb\r\n",
      "02_pysparnn_in_jina.ipynb            indices.npy                          vectors.npz\r\n"
     ]
    }
   ],
   "source": [
    "ls"
   ]
  },
  {
   "cell_type": "code",
   "execution_count": 260,
   "metadata": {},
   "outputs": [
    {
     "name": "stdout",
     "output_type": "stream",
     "text": [
      "PysparnnIndexer@4248[I]:post_init may take some time...\n",
      "PysparnnIndexer@4248[I]:post_init may take some time takes 0 seconds (0.00s)\n"
     ]
    }
   ],
   "source": [
    "indexer = PysparnnIndexer()"
   ]
  },
  {
   "cell_type": "code",
   "execution_count": 261,
   "metadata": {},
   "outputs": [
    {
     "data": {
      "text/plain": [
       "{}"
      ]
     },
     "execution_count": 261,
     "metadata": {},
     "output_type": "execute_result"
    }
   ],
   "source": [
    "indexer.index"
   ]
  },
  {
   "cell_type": "code",
   "execution_count": 262,
   "metadata": {},
   "outputs": [],
   "source": [
    "indexer.load_index_from_disk()"
   ]
  },
  {
   "cell_type": "code",
   "execution_count": 263,
   "metadata": {},
   "outputs": [
    {
     "data": {
      "text/plain": [
       "{0: <1x8 sparse matrix of type '<class 'numpy.float64'>'\n",
       " \twith 2 stored elements in Compressed Sparse Row format>,\n",
       " 1: <1x8 sparse matrix of type '<class 'numpy.float64'>'\n",
       " \twith 3 stored elements in Compressed Sparse Row format>,\n",
       " 2: <1x8 sparse matrix of type '<class 'numpy.float64'>'\n",
       " \twith 2 stored elements in Compressed Sparse Row format>,\n",
       " 3: <1x8 sparse matrix of type '<class 'numpy.float64'>'\n",
       " \twith 4 stored elements in Compressed Sparse Row format>}"
      ]
     },
     "execution_count": 263,
     "metadata": {},
     "output_type": "execute_result"
    }
   ],
   "source": [
    "indexer.index"
   ]
  },
  {
   "cell_type": "markdown",
   "metadata": {},
   "source": [
    "# Implementation details\n",
    "\n",
    "## Understanding `_build_advanced_index`"
   ]
  },
  {
   "cell_type": "code",
   "execution_count": 32,
   "metadata": {
    "scrolled": true
   },
   "outputs": [
    {
     "name": "stdout",
     "output_type": "stream",
     "text": [
      "PysparnnIndexer@4248[I]:post_init may take some time...\n",
      "PysparnnIndexer@4248[I]:post_init may take some time takes 0 seconds (0.00s)\n"
     ]
    }
   ],
   "source": [
    "indexer = PysparnnIndexer()\n",
    "indexer.post_init()"
   ]
  },
  {
   "cell_type": "code",
   "execution_count": 33,
   "metadata": {},
   "outputs": [],
   "source": [
    "for index in range(len(data)):\n",
    "    indexer.add(keys=[index], vectors=[features_vec[index]])"
   ]
  },
  {
   "cell_type": "code",
   "execution_count": 34,
   "metadata": {
    "scrolled": true
   },
   "outputs": [
    {
     "data": {
      "text/plain": [
       "{0: <1x8 sparse matrix of type '<class 'numpy.float64'>'\n",
       " \twith 2 stored elements in Compressed Sparse Row format>,\n",
       " 1: <1x8 sparse matrix of type '<class 'numpy.float64'>'\n",
       " \twith 3 stored elements in Compressed Sparse Row format>,\n",
       " 2: <1x8 sparse matrix of type '<class 'numpy.float64'>'\n",
       " \twith 2 stored elements in Compressed Sparse Row format>,\n",
       " 3: <1x8 sparse matrix of type '<class 'numpy.float64'>'\n",
       " \twith 4 stored elements in Compressed Sparse Row format>}"
      ]
     },
     "execution_count": 34,
     "metadata": {},
     "output_type": "execute_result"
    }
   ],
   "source": [
    "indexer.index"
   ]
  },
  {
   "cell_type": "markdown",
   "metadata": {},
   "source": [
    "You can `fit` the indexer using `_build_advanced_index`"
   ]
  },
  {
   "cell_type": "code",
   "execution_count": 35,
   "metadata": {},
   "outputs": [],
   "source": [
    "keys = []\n",
    "indexed_vectors = []\n",
    "import pysparnn.cluster_index as ci\n",
    "for key, vector in indexer.index.items():\n",
    "    keys.append(key)\n",
    "    indexed_vectors.append(vector)"
   ]
  },
  {
   "cell_type": "code",
   "execution_count": 36,
   "metadata": {
    "scrolled": true
   },
   "outputs": [
    {
     "data": {
      "text/plain": [
       "[<1x8 sparse matrix of type '<class 'numpy.float64'>'\n",
       " \twith 2 stored elements in Compressed Sparse Row format>,\n",
       " <1x8 sparse matrix of type '<class 'numpy.float64'>'\n",
       " \twith 3 stored elements in Compressed Sparse Row format>,\n",
       " <1x8 sparse matrix of type '<class 'numpy.float64'>'\n",
       " \twith 2 stored elements in Compressed Sparse Row format>,\n",
       " <1x8 sparse matrix of type '<class 'numpy.float64'>'\n",
       " \twith 4 stored elements in Compressed Sparse Row format>]"
      ]
     },
     "execution_count": 36,
     "metadata": {},
     "output_type": "execute_result"
    }
   ],
   "source": [
    "indexed_vectors"
   ]
  },
  {
   "cell_type": "code",
   "execution_count": 37,
   "metadata": {},
   "outputs": [],
   "source": [
    "aux = ci.MultiClusterIndex(scipy.sparse.vstack(indexed_vectors), keys)"
   ]
  },
  {
   "cell_type": "code",
   "execution_count": null,
   "metadata": {},
   "outputs": [],
   "source": []
  },
  {
   "cell_type": "code",
   "execution_count": null,
   "metadata": {},
   "outputs": [],
   "source": []
  },
  {
   "cell_type": "code",
   "execution_count": null,
   "metadata": {},
   "outputs": [],
   "source": []
  }
 ],
 "metadata": {
  "kernelspec": {
   "display_name": "Python 3",
   "language": "python",
   "name": "python3"
  },
  "language_info": {
   "codemirror_mode": {
    "name": "ipython",
    "version": 3
   },
   "file_extension": ".py",
   "mimetype": "text/x-python",
   "name": "python",
   "nbconvert_exporter": "python",
   "pygments_lexer": "ipython3",
   "version": "3.9.2"
  },
  "toc": {
   "base_numbering": 1,
   "nav_menu": {},
   "number_sections": true,
   "sideBar": true,
   "skip_h1_title": false,
   "title_cell": "Table of Contents",
   "title_sidebar": "Contents",
   "toc_cell": true,
   "toc_position": {},
   "toc_section_display": true,
   "toc_window_display": true
  },
  "varInspector": {
   "cols": {
    "lenName": 16,
    "lenType": 16,
    "lenVar": 40
   },
   "kernels_config": {
    "python": {
     "delete_cmd_postfix": "",
     "delete_cmd_prefix": "del ",
     "library": "var_list.py",
     "varRefreshCmd": "print(var_dic_list())"
    },
    "r": {
     "delete_cmd_postfix": ") ",
     "delete_cmd_prefix": "rm(",
     "library": "var_list.r",
     "varRefreshCmd": "cat(var_dic_list()) "
    }
   },
   "types_to_exclude": [
    "module",
    "function",
    "builtin_function_or_method",
    "instance",
    "_Feature"
   ],
   "window_display": false
  }
 },
 "nbformat": 4,
 "nbformat_minor": 4
}
